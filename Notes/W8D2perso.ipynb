{
 "cells": [
  {
   "cell_type": "markdown",
   "metadata": {},
   "source": [
    "# Cross validation "
   ]
  },
  {
   "cell_type": "code",
   "execution_count": 1,
   "metadata": {},
   "outputs": [],
   "source": [
    "import numpy as np\n",
    "import pandas as pd\n",
    "from sklearn.datasets import make_classification\n",
    "from sklearn.model_selection import KFold, StratifiedKFold, RepeatedKFold, RepeatedStratifiedKFold"
   ]
  },
  {
   "cell_type": "code",
   "execution_count": 3,
   "metadata": {},
   "outputs": [],
   "source": [
    "X,y = make_classification(n_samples=1000, n_features=2, n_redundant=0, random_state=11)"
   ]
  },
  {
   "cell_type": "code",
   "execution_count": 4,
   "metadata": {},
   "outputs": [],
   "source": [
    "X=(X*100).round()"
   ]
  },
  {
   "cell_type": "code",
   "execution_count": 5,
   "metadata": {},
   "outputs": [
    {
     "data": {
      "text/plain": [
       "array([[-126., -278.],\n",
       "       [ -45., -237.],\n",
       "       [  -5.,  -68.],\n",
       "       ...,\n",
       "       [   8., -156.],\n",
       "       [-192.,  -71.],\n",
       "       [-130., -105.]])"
      ]
     },
     "execution_count": 5,
     "metadata": {},
     "output_type": "execute_result"
    }
   ],
   "source": [
    "X"
   ]
  },
  {
   "cell_type": "code",
   "execution_count": 6,
   "metadata": {},
   "outputs": [],
   "source": [
    "from sklearn.neighbors import KNeighborsClassifier"
   ]
  },
  {
   "cell_type": "code",
   "execution_count": 7,
   "metadata": {},
   "outputs": [],
   "source": [
    "from sklearn.metrics import accuracy_score"
   ]
  },
  {
   "cell_type": "code",
   "execution_count": 8,
   "metadata": {},
   "outputs": [],
   "source": [
    "kfold=KFold(5, shuffle=True, random_state=11)"
   ]
  },
  {
   "cell_type": "code",
   "execution_count": 23,
   "metadata": {},
   "outputs": [],
   "source": [
    "list_of_models=[]\n",
    "list_of_accuracies=[]"
   ]
  },
  {
   "cell_type": "code",
   "execution_count": 24,
   "metadata": {},
   "outputs": [
    {
     "name": "stdout",
     "output_type": "stream",
     "text": [
      "800\n",
      "200\n",
      "800\n",
      "200\n",
      "800\n",
      "200\n",
      "800\n",
      "200\n",
      "800\n",
      "200\n"
     ]
    }
   ],
   "source": [
    "for train, test in kfold.split(X):\n",
    "    print(len(train))\n",
    "    print(len(test))\n",
    "    model=KNeighborsClassifier()\n",
    "    model.fit(X[train],y[train])\n",
    "    list_of_models.append(model)\n",
    "    list_of_accuracies.append(accuracy_score(y[test], model.predict(X[test])))\n",
    "    \n",
    "    \n",
    "#this only makes the index, not the proper dataset"
   ]
  },
  {
   "cell_type": "code",
   "execution_count": 25,
   "metadata": {},
   "outputs": [
    {
     "data": {
      "text/plain": [
       "[0.935, 0.95, 0.965, 0.95, 0.94]"
      ]
     },
     "execution_count": 25,
     "metadata": {},
     "output_type": "execute_result"
    }
   ],
   "source": [
    "list_of_accuracies"
   ]
  },
  {
   "cell_type": "code",
   "execution_count": 28,
   "metadata": {},
   "outputs": [
    {
     "data": {
      "text/plain": [
       "[KNeighborsClassifier(),\n",
       " KNeighborsClassifier(),\n",
       " KNeighborsClassifier(),\n",
       " KNeighborsClassifier(),\n",
       " KNeighborsClassifier()]"
      ]
     },
     "execution_count": 28,
     "metadata": {},
     "output_type": "execute_result"
    }
   ],
   "source": [
    "list_of_models"
   ]
  },
  {
   "cell_type": "code",
   "execution_count": 33,
   "metadata": {},
   "outputs": [
    {
     "data": {
      "text/plain": [
       "[0, 0, 0, 0, 0]"
      ]
     },
     "execution_count": 33,
     "metadata": {},
     "output_type": "execute_result"
    }
   ],
   "source": [
    "list(map(lambda x: x.predict(X[-1].reshape(1, -1))[0], list_of_models))"
   ]
  },
  {
   "cell_type": "code",
   "execution_count": 26,
   "metadata": {},
   "outputs": [
    {
     "data": {
      "text/plain": [
       "0.9480000000000001"
      ]
     },
     "execution_count": 26,
     "metadata": {},
     "output_type": "execute_result"
    }
   ],
   "source": [
    "sum(list_of_accuracies)/5"
   ]
  },
  {
   "cell_type": "code",
   "execution_count": 12,
   "metadata": {},
   "outputs": [
    {
     "data": {
      "text/plain": [
       "(1000, 2)"
      ]
     },
     "execution_count": 12,
     "metadata": {},
     "output_type": "execute_result"
    }
   ],
   "source": [
    "X.shape"
   ]
  },
  {
   "cell_type": "code",
   "execution_count": 14,
   "metadata": {},
   "outputs": [
    {
     "data": {
      "text/plain": [
       "array([  0,   2,   3,   4,   5,   6,   7,   8,   9,  11,  12,  13,  14,\n",
       "        16,  20,  21,  22,  24,  25,  26,  28,  29,  30,  31,  33,  34,\n",
       "        36,  39,  41,  44,  45,  46,  47,  49,  50,  51,  52,  53,  54,\n",
       "        55,  56,  57,  58,  59,  60,  61,  62,  63,  65,  66,  67,  68,\n",
       "        69,  70,  71,  73,  74,  77,  78,  82,  83,  85,  86,  87,  88,\n",
       "        92,  93,  94,  95,  96,  97,  98,  99, 101, 102, 103, 104, 105,\n",
       "       106, 107, 108, 109, 111, 112, 113, 115, 116, 117, 118, 120, 121,\n",
       "       122, 123, 124, 126, 127, 128, 129, 130, 134, 135, 136, 137, 139,\n",
       "       143, 144, 146, 147, 148, 149, 150, 151, 153, 154, 155, 157, 158,\n",
       "       159, 161, 162, 163, 164, 165, 166, 168, 169, 170, 171, 173, 174,\n",
       "       175, 176, 177, 179, 180, 181, 182, 183, 184, 186, 187, 188, 189,\n",
       "       190, 191, 192, 193, 194, 195, 196, 197, 198, 199, 200, 201, 202,\n",
       "       203, 204, 205, 206, 207, 209, 210, 211, 212, 213, 214, 216, 217,\n",
       "       218, 219, 220, 221, 222, 223, 226, 228, 229, 230, 232, 233, 234,\n",
       "       235, 237, 238, 239, 240, 243, 244, 246, 247, 249, 250, 251, 253,\n",
       "       254, 255, 256, 257, 258, 259, 260, 262, 265, 266, 267, 268, 270,\n",
       "       271, 272, 274, 276, 277, 278, 279, 280, 281, 282, 284, 285, 286,\n",
       "       287, 288, 289, 290, 291, 292, 293, 294, 295, 296, 297, 298, 299,\n",
       "       300, 301, 302, 304, 305, 306, 307, 308, 309, 310, 311, 312, 313,\n",
       "       315, 316, 317, 318, 319, 320, 322, 323, 324, 325, 327, 329, 330,\n",
       "       331, 333, 334, 336, 339, 340, 341, 342, 344, 345, 346, 347, 348,\n",
       "       349, 350, 351, 352, 353, 354, 355, 356, 357, 358, 359, 360, 361,\n",
       "       364, 365, 366, 368, 369, 371, 372, 373, 374, 375, 376, 377, 378,\n",
       "       379, 381, 382, 384, 386, 387, 388, 389, 390, 391, 392, 393, 394,\n",
       "       395, 396, 397, 398, 399, 400, 401, 402, 404, 405, 406, 407, 409,\n",
       "       410, 411, 412, 413, 414, 415, 417, 419, 420, 421, 422, 423, 424,\n",
       "       425, 426, 427, 429, 430, 431, 432, 433, 434, 436, 437, 438, 440,\n",
       "       442, 444, 445, 447, 448, 449, 451, 453, 454, 455, 456, 457, 458,\n",
       "       461, 462, 463, 464, 466, 467, 469, 470, 471, 472, 473, 474, 475,\n",
       "       476, 477, 478, 479, 480, 481, 482, 483, 484, 485, 486, 487, 488,\n",
       "       489, 490, 491, 492, 494, 495, 497, 499, 500, 502, 503, 507, 508,\n",
       "       510, 512, 513, 514, 515, 516, 517, 519, 520, 521, 522, 523, 524,\n",
       "       525, 526, 527, 528, 530, 531, 532, 533, 534, 535, 536, 537, 538,\n",
       "       539, 540, 541, 542, 543, 544, 545, 547, 548, 549, 550, 551, 552,\n",
       "       553, 554, 556, 557, 558, 559, 560, 561, 562, 563, 564, 565, 566,\n",
       "       567, 568, 569, 570, 571, 572, 573, 574, 575, 576, 578, 581, 582,\n",
       "       584, 586, 587, 588, 589, 590, 591, 592, 593, 594, 595, 596, 597,\n",
       "       598, 599, 600, 601, 602, 606, 607, 609, 610, 611, 612, 613, 614,\n",
       "       615, 616, 617, 618, 620, 622, 624, 625, 626, 627, 628, 629, 631,\n",
       "       632, 633, 634, 635, 636, 638, 639, 640, 641, 642, 643, 645, 646,\n",
       "       647, 648, 649, 650, 651, 652, 654, 655, 656, 658, 662, 663, 664,\n",
       "       665, 666, 667, 668, 669, 670, 671, 674, 675, 676, 677, 678, 679,\n",
       "       681, 682, 684, 685, 686, 687, 689, 691, 692, 694, 695, 696, 697,\n",
       "       698, 700, 701, 702, 705, 706, 707, 708, 709, 710, 711, 712, 713,\n",
       "       714, 715, 716, 717, 718, 719, 720, 721, 722, 723, 724, 726, 728,\n",
       "       729, 730, 731, 732, 733, 736, 737, 738, 739, 740, 741, 742, 743,\n",
       "       744, 745, 746, 747, 749, 750, 751, 752, 754, 755, 757, 758, 759,\n",
       "       760, 761, 762, 763, 767, 768, 769, 770, 771, 772, 773, 774, 775,\n",
       "       776, 777, 778, 779, 780, 781, 782, 783, 784, 785, 786, 788, 789,\n",
       "       790, 791, 793, 794, 795, 796, 797, 798, 800, 801, 802, 803, 804,\n",
       "       806, 807, 809, 810, 811, 814, 815, 816, 817, 819, 820, 821, 822,\n",
       "       823, 824, 825, 826, 827, 828, 829, 830, 831, 832, 833, 834, 835,\n",
       "       836, 837, 841, 843, 844, 845, 847, 848, 849, 852, 853, 854, 855,\n",
       "       856, 857, 858, 859, 860, 861, 862, 863, 864, 865, 866, 867, 869,\n",
       "       870, 872, 874, 875, 877, 878, 879, 881, 883, 887, 888, 890, 891,\n",
       "       893, 894, 895, 896, 898, 899, 901, 902, 903, 905, 906, 907, 908,\n",
       "       909, 910, 911, 912, 913, 914, 915, 916, 917, 920, 925, 926, 929,\n",
       "       930, 931, 932, 933, 934, 935, 936, 937, 938, 939, 940, 941, 942,\n",
       "       943, 944, 946, 947, 948, 949, 950, 952, 953, 954, 955, 956, 957,\n",
       "       958, 960, 961, 962, 963, 964, 965, 966, 967, 968, 969, 970, 971,\n",
       "       972, 973, 974, 976, 981, 982, 983, 984, 986, 987, 988, 989, 990,\n",
       "       991, 992, 993, 995, 997, 998, 999])"
      ]
     },
     "execution_count": 14,
     "metadata": {},
     "output_type": "execute_result"
    }
   ],
   "source": [
    "train"
   ]
  },
  {
   "cell_type": "code",
   "execution_count": 21,
   "metadata": {},
   "outputs": [
    {
     "data": {
      "text/plain": [
       "array([[ -82.,  -45.],\n",
       "       [ -59., -114.],\n",
       "       [ -22.,  -64.],\n",
       "       [ 102., -106.],\n",
       "       [ 230.,   19.],\n",
       "       [ 126.,  -82.],\n",
       "       [-106.,  235.],\n",
       "       [-186.,   88.],\n",
       "       [  49., -148.],\n",
       "       [-108.,   58.],\n",
       "       [ 100.,  116.],\n",
       "       [ 206.,    0.],\n",
       "       [-148.,  -84.],\n",
       "       [ 163.,  -44.],\n",
       "       [ -72.,   10.],\n",
       "       [-120.,  -86.],\n",
       "       [ 193.,   56.],\n",
       "       [ -72.,   51.],\n",
       "       [ -71.,  -86.],\n",
       "       [  77.,  256.],\n",
       "       [-124.,  211.],\n",
       "       [   6.,  272.],\n",
       "       [ 119.,  -81.],\n",
       "       [ 141.,  112.],\n",
       "       [-114.,   67.],\n",
       "       [  58.,   69.],\n",
       "       [-128., -117.],\n",
       "       [  46., -148.],\n",
       "       [ -72.,  148.],\n",
       "       [  -6., -119.],\n",
       "       [  98.,  -93.],\n",
       "       [ 185.,   79.],\n",
       "       [ 159.,  -49.],\n",
       "       [ -92.,  -57.],\n",
       "       [ -69., -147.],\n",
       "       [-165.,   75.],\n",
       "       [  29., -155.],\n",
       "       [  77.,   90.],\n",
       "       [  57., -143.],\n",
       "       [  56.,  125.],\n",
       "       [  94.,  -97.],\n",
       "       [ -59.,  -17.],\n",
       "       [  -3., -106.],\n",
       "       [-114.,  253.],\n",
       "       [  55.,  144.],\n",
       "       [  98., -100.],\n",
       "       [-262., -168.],\n",
       "       [ 194.,   75.],\n",
       "       [-260.,   -3.],\n",
       "       [ 124., -107.],\n",
       "       [  14.,  104.],\n",
       "       [ -48.,  -93.],\n",
       "       [  55., -140.],\n",
       "       [ -22.,  -64.],\n",
       "       [  14.,  149.],\n",
       "       [ 255.,   34.],\n",
       "       [-229., -125.],\n",
       "       [ -25.,  -53.],\n",
       "       [ -39.,  240.],\n",
       "       [ -64., -236.],\n",
       "       [ 416.,  167.],\n",
       "       [ -24., -117.],\n",
       "       [ -14.,  272.],\n",
       "       [-235., -194.],\n",
       "       [-142., -148.],\n",
       "       [ 144.,   78.],\n",
       "       [-297., -117.],\n",
       "       [ -23.,  203.],\n",
       "       [ 206.,    0.],\n",
       "       [ 102.,  115.],\n",
       "       [ -61.,  -89.],\n",
       "       [-166.,  -83.],\n",
       "       [  -3., -200.],\n",
       "       [-185., -130.],\n",
       "       [  83.,   99.],\n",
       "       [ -29.,   72.],\n",
       "       [-191.,   43.],\n",
       "       [ 130.,   88.],\n",
       "       [  47., -141.],\n",
       "       [ 223.,   16.],\n",
       "       [ -33.,  -93.],\n",
       "       [-148., -125.],\n",
       "       [ 143.,   56.],\n",
       "       [  24.,  206.],\n",
       "       [ 111.,   99.],\n",
       "       [  68.,  110.],\n",
       "       [-114.,  190.],\n",
       "       [ -59.,  -17.],\n",
       "       [-115., -121.],\n",
       "       [ 112.,  118.],\n",
       "       [ -48.,  172.],\n",
       "       [  19.,  130.],\n",
       "       [  55.,  166.],\n",
       "       [  60., -125.],\n",
       "       [ 102., -106.],\n",
       "       [-117.,  158.],\n",
       "       [  45.,  -94.],\n",
       "       [  64., -121.],\n",
       "       [ 214.,   -6.],\n",
       "       [-176.,  162.],\n",
       "       [  67.,  109.],\n",
       "       [-105., -112.],\n",
       "       [ -68., -146.],\n",
       "       [ -26., -199.],\n",
       "       [  94., -106.],\n",
       "       [ 256.,   12.],\n",
       "       [ 139.,   90.],\n",
       "       [-148.,  -84.],\n",
       "       [  70., -115.],\n",
       "       [ 146.,   48.],\n",
       "       [-178.,  117.],\n",
       "       [ 272.,   -1.],\n",
       "       [ -83.,  112.],\n",
       "       [-128.,   19.],\n",
       "       [ -33.,  -22.],\n",
       "       [ 114.,  -86.],\n",
       "       [ 106.,  -83.],\n",
       "       [ -38.,  -47.],\n",
       "       [ 118.,  -84.],\n",
       "       [ -60.,  -23.],\n",
       "       [-227., -100.],\n",
       "       [ 170.,   85.],\n",
       "       [ 127.,   84.],\n",
       "       [ 179.,  -30.],\n",
       "       [ 119.,   79.],\n",
       "       [   5.,  153.],\n",
       "       [-150.,  -67.],\n",
       "       [ -19., -203.],\n",
       "       [ -48.,  -93.],\n",
       "       [-255.,  192.],\n",
       "       [-260.,   -3.],\n",
       "       [ 108.,   74.],\n",
       "       [ 129.,   90.],\n",
       "       [ -63.,  214.],\n",
       "       [-316.,   64.],\n",
       "       [ -80.,  -88.],\n",
       "       [ 108.,  -85.],\n",
       "       [-234., -112.],\n",
       "       [ -69.,   69.],\n",
       "       [-171.,   86.],\n",
       "       [ 145.,   78.],\n",
       "       [ -26., -199.],\n",
       "       [ -37.,  133.],\n",
       "       [  98.,  119.],\n",
       "       [ 141.,  112.],\n",
       "       [  91., -106.],\n",
       "       [-132.,  159.],\n",
       "       [  63., -124.],\n",
       "       [  -0., -185.],\n",
       "       [ -77., -109.],\n",
       "       [  66.,  117.],\n",
       "       [-170., -103.],\n",
       "       [-103., -116.],\n",
       "       [ 165.,  -47.],\n",
       "       [ -34.,  202.],\n",
       "       [-122.,   31.],\n",
       "       [ -28.,  171.],\n",
       "       [  47.,  153.],\n",
       "       [ -68.,  103.],\n",
       "       [ 148.,   70.],\n",
       "       [ -67.,  -40.],\n",
       "       [ -80., -112.],\n",
       "       [ 113.,  -97.],\n",
       "       [  82.,  132.],\n",
       "       [ -43., -221.],\n",
       "       [-148., -125.],\n",
       "       [  65., -134.],\n",
       "       [ -27., -148.],\n",
       "       [ 230.,   19.],\n",
       "       [ 159.,  -49.],\n",
       "       [  63.,  127.],\n",
       "       [ -59.,  -17.],\n",
       "       [ -88., -140.],\n",
       "       [ 109.,  -98.],\n",
       "       [-120.,  -86.],\n",
       "       [ 131.,  -77.],\n",
       "       [-158., -152.],\n",
       "       [   8.,  143.],\n",
       "       [ 117.,   72.],\n",
       "       [ -61.,  127.],\n",
       "       [  89., -112.],\n",
       "       [  80., -101.],\n",
       "       [ -63., -138.],\n",
       "       [ 194.,   34.],\n",
       "       [-128., -117.],\n",
       "       [  50., -148.],\n",
       "       [  90.,   79.],\n",
       "       [  39., -153.],\n",
       "       [-183.,  -90.],\n",
       "       [ -19., -203.],\n",
       "       [ -61.,  127.],\n",
       "       [ -96.,  167.],\n",
       "       [-112.,   94.],\n",
       "       [-184., -100.],\n",
       "       [-107., -117.],\n",
       "       [ 222.,    2.],\n",
       "       [  77., -117.],\n",
       "       [-260.,   -3.],\n",
       "       [-128.,  -24.],\n",
       "       [ 229.,   13.]])"
      ]
     },
     "execution_count": 21,
     "metadata": {},
     "output_type": "execute_result"
    }
   ],
   "source": [
    "X[np.random.choice(range(X.shape[0]), size=200)]\n",
    "#the index"
   ]
  },
  {
   "cell_type": "code",
   "execution_count": 22,
   "metadata": {},
   "outputs": [
    {
     "data": {
      "text/plain": [
       "array([  1,  10,  15,  17,  18,  19,  23,  27,  32,  35,  37,  38,  40,\n",
       "        42,  43,  48,  64,  72,  75,  76,  79,  80,  81,  84,  89,  90,\n",
       "        91, 100, 110, 114, 119, 125, 131, 132, 133, 138, 140, 141, 142,\n",
       "       145, 152, 156, 160, 167, 172, 178, 185, 208, 215, 224, 225, 227,\n",
       "       231, 236, 241, 242, 245, 248, 252, 261, 263, 264, 269, 273, 275,\n",
       "       283, 303, 314, 321, 326, 328, 332, 335, 337, 338, 343, 362, 363,\n",
       "       367, 370, 380, 383, 385, 403, 408, 416, 418, 428, 435, 439, 441,\n",
       "       443, 446, 450, 452, 459, 460, 465, 468, 493, 496, 498, 501, 504,\n",
       "       505, 506, 509, 511, 518, 529, 546, 555, 577, 579, 580, 583, 585,\n",
       "       603, 604, 605, 608, 619, 621, 623, 630, 637, 644, 653, 657, 659,\n",
       "       660, 661, 672, 673, 680, 683, 688, 690, 693, 699, 703, 704, 725,\n",
       "       727, 734, 735, 748, 753, 756, 764, 765, 766, 787, 792, 799, 805,\n",
       "       808, 812, 813, 818, 838, 839, 840, 842, 846, 850, 851, 868, 871,\n",
       "       873, 876, 880, 882, 884, 885, 886, 889, 892, 897, 900, 904, 918,\n",
       "       919, 921, 922, 923, 924, 927, 928, 945, 951, 959, 975, 977, 978,\n",
       "       979, 980, 985, 994, 996])"
      ]
     },
     "execution_count": 22,
     "metadata": {},
     "output_type": "execute_result"
    }
   ],
   "source": [
    "test"
   ]
  },
  {
   "cell_type": "markdown",
   "metadata": {},
   "source": [
    "# Hyperparameter tuning"
   ]
  },
  {
   "cell_type": "code",
   "execution_count": 34,
   "metadata": {},
   "outputs": [],
   "source": [
    "from sklearn.model_selection import GridSearchCV, RandomizedSearchCV"
   ]
  },
  {
   "cell_type": "code",
   "execution_count": 61,
   "metadata": {},
   "outputs": [],
   "source": [
    "?KNeighborsClassifier"
   ]
  },
  {
   "cell_type": "code",
   "execution_count": 55,
   "metadata": {},
   "outputs": [],
   "source": [
    "params={\n",
    "    'n_neighbors':range(3,12,2),\n",
    "    'weights': ['uniform', 'distance'],\n",
    "    'p':range(1,5),\n",
    "    'n_jobs':[-1],}"
   ]
  },
  {
   "cell_type": "code",
   "execution_count": 56,
   "metadata": {},
   "outputs": [
    {
     "data": {
      "text/plain": [
       "{'n_neighbors': range(3, 12, 2),\n",
       " 'weights': ['uniform', 'distance'],\n",
       " 'p': range(1, 5),\n",
       " 'n_jobs': [-1]}"
      ]
     },
     "execution_count": 56,
     "metadata": {},
     "output_type": "execute_result"
    }
   ],
   "source": [
    "params"
   ]
  },
  {
   "cell_type": "code",
   "execution_count": 57,
   "metadata": {},
   "outputs": [],
   "source": [
    "model=KNeighborsClassifier()  #-1 = using all the processing power of your computer (one single core)\n",
    "grid=GridSearchCV(estimator=model, param_grid=params, n_jobs=-1, scoring='recall', verbose =1 )"
   ]
  },
  {
   "cell_type": "code",
   "execution_count": 58,
   "metadata": {},
   "outputs": [
    {
     "name": "stdout",
     "output_type": "stream",
     "text": [
      "Fitting 5 folds for each of 40 candidates, totalling 200 fits\n"
     ]
    },
    {
     "name": "stderr",
     "output_type": "stream",
     "text": [
      "[Parallel(n_jobs=-1)]: Using backend LokyBackend with 8 concurrent workers.\n",
      "[Parallel(n_jobs=-1)]: Done  34 tasks      | elapsed:    2.1s\n",
      "[Parallel(n_jobs=-1)]: Done 200 out of 200 | elapsed:    2.4s finished\n"
     ]
    },
    {
     "data": {
      "text/plain": [
       "GridSearchCV(estimator=KNeighborsClassifier(), n_jobs=-1,\n",
       "             param_grid={'n_jobs': [-1], 'n_neighbors': range(3, 12, 2),\n",
       "                         'p': range(1, 5), 'weights': ['uniform', 'distance']},\n",
       "             scoring='recall', verbose=1)"
      ]
     },
     "execution_count": 58,
     "metadata": {},
     "output_type": "execute_result"
    }
   ],
   "source": [
    "grid.fit(X,y)"
   ]
  },
  {
   "cell_type": "code",
   "execution_count": 59,
   "metadata": {},
   "outputs": [
    {
     "data": {
      "text/plain": [
       "{'n_jobs': -1, 'n_neighbors': 5, 'p': 1, 'weights': 'uniform'}"
      ]
     },
     "execution_count": 59,
     "metadata": {},
     "output_type": "execute_result"
    }
   ],
   "source": [
    "grid.best_params_\n",
    "#these are the best parameters to get the highest recall\n",
    "#p=1 == manhattan distance"
   ]
  },
  {
   "cell_type": "code",
   "execution_count": 60,
   "metadata": {},
   "outputs": [
    {
     "data": {
      "text/plain": [
       "0.9778383838383838"
      ]
     },
     "execution_count": 60,
     "metadata": {},
     "output_type": "execute_result"
    }
   ],
   "source": [
    "grid.best_score_"
   ]
  },
  {
   "cell_type": "markdown",
   "metadata": {},
   "source": [
    "# NOW WITH LINEAR"
   ]
  },
  {
   "cell_type": "code",
   "execution_count": 62,
   "metadata": {},
   "outputs": [],
   "source": [
    "from sklearn.datasets import load_boston"
   ]
  },
  {
   "cell_type": "code",
   "execution_count": 63,
   "metadata": {},
   "outputs": [],
   "source": [
    "X,y = load_boston(return_X_y=True)"
   ]
  },
  {
   "cell_type": "code",
   "execution_count": 64,
   "metadata": {},
   "outputs": [
    {
     "data": {
      "text/plain": [
       "(506, 13)"
      ]
     },
     "execution_count": 64,
     "metadata": {},
     "output_type": "execute_result"
    }
   ],
   "source": [
    "X.shape"
   ]
  },
  {
   "cell_type": "code",
   "execution_count": 65,
   "metadata": {},
   "outputs": [],
   "source": [
    "from sklearn.linear_model import Ridge"
   ]
  },
  {
   "cell_type": "code",
   "execution_count": 66,
   "metadata": {},
   "outputs": [
    {
     "data": {
      "text/plain": [
       "sklearn.linear_model._ridge.Ridge"
      ]
     },
     "execution_count": 66,
     "metadata": {},
     "output_type": "execute_result"
    }
   ],
   "source": [
    "Ridge"
   ]
  },
  {
   "cell_type": "code",
   "execution_count": 67,
   "metadata": {},
   "outputs": [],
   "source": [
    "from scipy.stats import uniform"
   ]
  },
  {
   "cell_type": "code",
   "execution_count": 68,
   "metadata": {},
   "outputs": [],
   "source": [
    "#uniform means any number within uniform distribution\n",
    "params={'alpha': uniform(),      \n",
    "    'normalize': [False, True],\n",
    "    'tol':[0.001,0.00001]}"
   ]
  },
  {
   "cell_type": "code",
   "execution_count": 69,
   "metadata": {},
   "outputs": [],
   "source": [
    "from scipy.stats import norm "
   ]
  },
  {
   "cell_type": "code",
   "execution_count": 76,
   "metadata": {},
   "outputs": [],
   "source": [
    "model = Ridge()\n",
    "rsearch=RandomizedSearchCV(estimator=model, param_distributions=params, n_jobs=-1, verbose= -1, n_iter=100, scoring='neg_mean_absolute_error')"
   ]
  },
  {
   "cell_type": "code",
   "execution_count": 77,
   "metadata": {},
   "outputs": [
    {
     "name": "stderr",
     "output_type": "stream",
     "text": [
      "[Parallel(n_jobs=-1)]: Using backend LokyBackend with 8 concurrent workers.\n",
      "[Parallel(n_jobs=-1)]: Done 176 tasks      | elapsed:    0.2s\n",
      "[Parallel(n_jobs=-1)]: Done 500 out of 500 | elapsed:    0.3s finished\n"
     ]
    },
    {
     "data": {
      "text/plain": [
       "RandomizedSearchCV(estimator=Ridge(), n_iter=100, n_jobs=-1,\n",
       "                   param_distributions={'alpha': <scipy.stats._distn_infrastructure.rv_frozen object at 0x7fdec05e2ca0>,\n",
       "                                        'normalize': [False, True],\n",
       "                                        'tol': [0.001, 1e-05]},\n",
       "                   scoring='neg_mean_absolute_error', verbose=-1)"
      ]
     },
     "execution_count": 77,
     "metadata": {},
     "output_type": "execute_result"
    }
   ],
   "source": [
    "rsearch.fit(X,y)"
   ]
  },
  {
   "cell_type": "code",
   "execution_count": 72,
   "metadata": {},
   "outputs": [
    {
     "data": {
      "text/plain": [
       "{'alpha': 0.33463426835959265, 'normalize': True, 'tol': 0.001}"
      ]
     },
     "execution_count": 72,
     "metadata": {},
     "output_type": "execute_result"
    }
   ],
   "source": [
    "rsearch.best_params_"
   ]
  },
  {
   "cell_type": "code",
   "execution_count": 78,
   "metadata": {},
   "outputs": [
    {
     "data": {
      "text/plain": [
       "-3.843857406869519"
      ]
     },
     "execution_count": 78,
     "metadata": {},
     "output_type": "execute_result"
    }
   ],
   "source": [
    "rsearch.best_score_\n",
    "\n",
    "#this is default one (R²)"
   ]
  },
  {
   "cell_type": "code",
   "execution_count": 75,
   "metadata": {},
   "outputs": [
    {
     "data": {
      "text/plain": [
       "dict_keys(['explained_variance', 'r2', 'max_error', 'neg_median_absolute_error', 'neg_mean_absolute_error', 'neg_mean_squared_error', 'neg_mean_squared_log_error', 'neg_root_mean_squared_error', 'neg_mean_poisson_deviance', 'neg_mean_gamma_deviance', 'accuracy', 'roc_auc', 'roc_auc_ovr', 'roc_auc_ovo', 'roc_auc_ovr_weighted', 'roc_auc_ovo_weighted', 'balanced_accuracy', 'average_precision', 'neg_log_loss', 'neg_brier_score', 'adjusted_rand_score', 'homogeneity_score', 'completeness_score', 'v_measure_score', 'mutual_info_score', 'adjusted_mutual_info_score', 'normalized_mutual_info_score', 'fowlkes_mallows_score', 'precision', 'precision_macro', 'precision_micro', 'precision_samples', 'precision_weighted', 'recall', 'recall_macro', 'recall_micro', 'recall_samples', 'recall_weighted', 'f1', 'f1_macro', 'f1_micro', 'f1_samples', 'f1_weighted', 'jaccard', 'jaccard_macro', 'jaccard_micro', 'jaccard_samples', 'jaccard_weighted'])"
      ]
     },
     "execution_count": 75,
     "metadata": {},
     "output_type": "execute_result"
    }
   ],
   "source": [
    "from sklearn.metrics import SCORERS\n",
    "SCORERS.keys()"
   ]
  },
  {
   "cell_type": "markdown",
   "metadata": {},
   "source": [
    "# HYPERPARAMETER + CROSS VALIDATION"
   ]
  },
  {
   "cell_type": "code",
   "execution_count": 93,
   "metadata": {},
   "outputs": [],
   "source": [
    "from sklearn.datasets import load_wine"
   ]
  },
  {
   "cell_type": "code",
   "execution_count": 94,
   "metadata": {},
   "outputs": [],
   "source": [
    "X,y = load_wine(return_X_y=True)"
   ]
  },
  {
   "cell_type": "code",
   "execution_count": 89,
   "metadata": {},
   "outputs": [
    {
     "data": {
      "text/plain": [
       "(442, 10)"
      ]
     },
     "execution_count": 89,
     "metadata": {},
     "output_type": "execute_result"
    }
   ],
   "source": [
    "X.shape"
   ]
  },
  {
   "cell_type": "code",
   "execution_count": 98,
   "metadata": {},
   "outputs": [],
   "source": [
    "from sklearn.metrics import recall_score"
   ]
  },
  {
   "cell_type": "code",
   "execution_count": 101,
   "metadata": {},
   "outputs": [
    {
     "data": {
      "text/plain": [
       "0.784372430439511"
      ]
     },
     "execution_count": 101,
     "metadata": {},
     "output_type": "execute_result"
    }
   ],
   "source": [
    "recall_score(y, model.predict(X), average='macro')"
   ]
  },
  {
   "cell_type": "code",
   "execution_count": 108,
   "metadata": {},
   "outputs": [
    {
     "data": {
      "text/plain": [
       "0.7865168539325843"
      ]
     },
     "execution_count": 108,
     "metadata": {},
     "output_type": "execute_result"
    }
   ],
   "source": [
    "accuracy_score(y, model.predict(X)) "
   ]
  },
  {
   "cell_type": "code",
   "execution_count": null,
   "metadata": {},
   "outputs": [],
   "source": [
    "#WE can make this better"
   ]
  },
  {
   "cell_type": "code",
   "execution_count": 95,
   "metadata": {},
   "outputs": [],
   "source": [
    "params={\n",
    "    'n_neighbors':range(3,12,2),\n",
    "    'weights': ['uniform', 'distance'],\n",
    "    'p':range(1,5),\n",
    "    'n_jobs':[-1],}"
   ]
  },
  {
   "cell_type": "code",
   "execution_count": 107,
   "metadata": {},
   "outputs": [
    {
     "data": {
      "text/plain": [
       "KNeighborsClassifier()"
      ]
     },
     "execution_count": 107,
     "metadata": {},
     "output_type": "execute_result"
    }
   ],
   "source": [
    "model=KNeighborsClassifier()\n",
    "model.fit(X,y)"
   ]
  },
  {
   "cell_type": "code",
   "execution_count": 102,
   "metadata": {},
   "outputs": [],
   "source": [
    "model=KNeighborsClassifier()\n",
    "cv=RepeatedStratifiedKFold(n_splits=10, n_repeats=3, random_state=42)\n",
    "grid=GridSearchCV(estimator=model, param_grid=params, n_jobs=-1, scoring='recall_macro', verbose=1, cv=cv)"
   ]
  },
  {
   "cell_type": "code",
   "execution_count": 103,
   "metadata": {},
   "outputs": [
    {
     "name": "stdout",
     "output_type": "stream",
     "text": [
      "Fitting 30 folds for each of 40 candidates, totalling 1200 fits\n"
     ]
    },
    {
     "name": "stderr",
     "output_type": "stream",
     "text": [
      "[Parallel(n_jobs=-1)]: Using backend LokyBackend with 8 concurrent workers.\n",
      "[Parallel(n_jobs=-1)]: Done  34 tasks      | elapsed:    1.7s\n",
      "[Parallel(n_jobs=-1)]: Done 1152 tasks      | elapsed:    3.1s\n",
      "[Parallel(n_jobs=-1)]: Done 1200 out of 1200 | elapsed:    3.1s finished\n"
     ]
    },
    {
     "data": {
      "text/plain": [
       "GridSearchCV(cv=RepeatedStratifiedKFold(n_repeats=3, n_splits=10, random_state=42),\n",
       "             estimator=KNeighborsClassifier(), n_jobs=-1,\n",
       "             param_grid={'n_jobs': [-1], 'n_neighbors': range(3, 12, 2),\n",
       "                         'p': range(1, 5), 'weights': ['uniform', 'distance']},\n",
       "             scoring='recall_macro', verbose=1)"
      ]
     },
     "execution_count": 103,
     "metadata": {},
     "output_type": "execute_result"
    }
   ],
   "source": [
    "grid.fit(X,y)"
   ]
  },
  {
   "cell_type": "code",
   "execution_count": 104,
   "metadata": {},
   "outputs": [
    {
     "data": {
      "text/plain": [
       "{'n_jobs': -1, 'n_neighbors': 3, 'p': 1, 'weights': 'distance'}"
      ]
     },
     "execution_count": 104,
     "metadata": {},
     "output_type": "execute_result"
    }
   ],
   "source": [
    "grid.best_params_"
   ]
  },
  {
   "cell_type": "code",
   "execution_count": 105,
   "metadata": {},
   "outputs": [
    {
     "data": {
      "text/plain": [
       "0.8046957671957672"
      ]
     },
     "execution_count": 105,
     "metadata": {},
     "output_type": "execute_result"
    }
   ],
   "source": [
    "grid.best_score_\n",
    "#slightly better yes?"
   ]
  },
  {
   "cell_type": "code",
   "execution_count": 106,
   "metadata": {},
   "outputs": [
    {
     "data": {
      "text/plain": [
       "array([0, 0, 0, 0, 0, 0, 0, 0, 0, 0, 0, 0, 0, 0, 0, 0, 0, 0, 0, 0, 0, 0,\n",
       "       0, 0, 0, 0, 0, 0, 0, 0, 0, 0, 0, 0, 0, 0, 0, 0, 0, 0, 0, 0, 0, 0,\n",
       "       0, 0, 0, 0, 0, 0, 0, 0, 0, 0, 0, 0, 0, 0, 0, 1, 1, 1, 1, 1, 1, 1,\n",
       "       1, 1, 1, 1, 1, 1, 1, 1, 1, 1, 1, 1, 1, 1, 1, 1, 1, 1, 1, 1, 1, 1,\n",
       "       1, 1, 1, 1, 1, 1, 1, 1, 1, 1, 1, 1, 1, 1, 1, 1, 1, 1, 1, 1, 1, 1,\n",
       "       1, 1, 1, 1, 1, 1, 1, 1, 1, 1, 1, 1, 1, 1, 1, 1, 1, 1, 1, 1, 2, 2,\n",
       "       2, 2, 2, 2, 2, 2, 2, 2, 2, 2, 2, 2, 2, 2, 2, 2, 2, 2, 2, 2, 2, 2,\n",
       "       2, 2, 2, 2, 2, 2, 2, 2, 2, 2, 2, 2, 2, 2, 2, 2, 2, 2, 2, 2, 2, 2,\n",
       "       2, 2])"
      ]
     },
     "execution_count": 106,
     "metadata": {},
     "output_type": "execute_result"
    }
   ],
   "source": [
    "grid.predict(X)"
   ]
  },
  {
   "cell_type": "markdown",
   "metadata": {},
   "source": [
    "# Final workflow\n",
    "1. split into train / test . Dont touch test data until step 6\n",
    "2. do all the preprocessing of train data (cleaning, transformations, scaling, feature engineering, outlier detection, dropping\n",
    "3. Split the train data into Train and Validation. Crossvalidation counts.\n",
    "4. Train the model using Train dataset. Tune Hyperparameters if needed. \n",
    "5. Calculate metric chosen on validation dataset. If you are not satisfied with performance go to step 4\n",
    "6. Test your pipeline (steps 2-4) on your test dataset. If metrics on test dataset are not satisfactory, try once again (fix the pipeline). \n",
    "7. If the quality on test dataset is not that different from the one of validation -> pipeline is good. Else - désoél"
   ]
  },
  {
   "cell_type": "code",
   "execution_count": null,
   "metadata": {},
   "outputs": [],
   "source": []
  }
 ],
 "metadata": {
  "kernelspec": {
   "display_name": "Python 3",
   "language": "python",
   "name": "python3"
  },
  "language_info": {
   "codemirror_mode": {
    "name": "ipython",
    "version": 3
   },
   "file_extension": ".py",
   "mimetype": "text/x-python",
   "name": "python",
   "nbconvert_exporter": "python",
   "pygments_lexer": "ipython3",
   "version": "3.8.5"
  }
 },
 "nbformat": 4,
 "nbformat_minor": 4
}
