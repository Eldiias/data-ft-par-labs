{
 "cells": [
  {
   "cell_type": "markdown",
   "metadata": {
    "toc": true
   },
   "source": [
    "<h1>Table of Contents<span class=\"tocSkip\"></span></h1>\n",
    "<div class=\"toc\"><ul class=\"toc-item\"><li><span><a href=\"#Collections\" data-toc-modified-id=\"Collections-1\"><span class=\"toc-item-num\">1&nbsp;&nbsp;</span>Collections</a></span><ul class=\"toc-item\"><li><span><a href=\"#Lists\" data-toc-modified-id=\"Lists-1.1\"><span class=\"toc-item-num\">1.1&nbsp;&nbsp;</span>Lists</a></span></li><li><span><a href=\"#Tuple\" data-toc-modified-id=\"Tuple-1.2\"><span class=\"toc-item-num\">1.2&nbsp;&nbsp;</span>Tuple</a></span></li><li><span><a href=\"#Sets\" data-toc-modified-id=\"Sets-1.3\"><span class=\"toc-item-num\">1.3&nbsp;&nbsp;</span>Sets</a></span></li><li><span><a href=\"#Dictionaries\" data-toc-modified-id=\"Dictionaries-1.4\"><span class=\"toc-item-num\">1.4&nbsp;&nbsp;</span>Dictionaries</a></span></li></ul></li><li><span><a href=\"#List-Comprehensions\" data-toc-modified-id=\"List-Comprehensions-2\"><span class=\"toc-item-num\">2&nbsp;&nbsp;</span>List Comprehensions</a></span></li><li><span><a href=\"#Text-analysis-intro\" data-toc-modified-id=\"Text-analysis-intro-3\"><span class=\"toc-item-num\">3&nbsp;&nbsp;</span>Text analysis intro</a></span></li><li><span><a href=\"#OS\" data-toc-modified-id=\"OS-4\"><span class=\"toc-item-num\">4&nbsp;&nbsp;</span>OS</a></span></li></ul></div>"
   ]
  },
  {
   "cell_type": "markdown",
   "metadata": {},
   "source": [
    "# Collections"
   ]
  },
  {
   "cell_type": "markdown",
   "metadata": {},
   "source": [
    "## Lists\n"
   ]
  },
  {
   "cell_type": "code",
   "execution_count": 1,
   "metadata": {},
   "outputs": [
    {
     "data": {
      "text/plain": [
       "list"
      ]
     },
     "execution_count": 1,
     "metadata": {},
     "output_type": "execute_result"
    }
   ],
   "source": [
    "lst=[]\n",
    "type(lst)"
   ]
  },
  {
   "cell_type": "code",
   "execution_count": 2,
   "metadata": {},
   "outputs": [
    {
     "data": {
      "text/plain": [
       "list"
      ]
     },
     "execution_count": 2,
     "metadata": {},
     "output_type": "execute_result"
    }
   ],
   "source": [
    "lst=list()\n",
    "type(lst)"
   ]
  },
  {
   "cell_type": "code",
   "execution_count": 3,
   "metadata": {},
   "outputs": [
    {
     "data": {
      "text/plain": [
       "[0, 1, 2, 3, 4, 5, 6, 7, 8, 9, 10]"
      ]
     },
     "execution_count": 3,
     "metadata": {},
     "output_type": "execute_result"
    }
   ],
   "source": [
    "lst=list(range(11))\n",
    "lst"
   ]
  },
  {
   "cell_type": "code",
   "execution_count": 4,
   "metadata": {},
   "outputs": [
    {
     "data": {
      "text/plain": [
       "[-0.5714285714285714,\n",
       " -0.42857142857142855,\n",
       " 0.0,\n",
       " 0.7142857142857143,\n",
       " 1.7142857142857142,\n",
       " 3.0,\n",
       " 4.571428571428571,\n",
       " 6.428571428571429,\n",
       " 8.571428571428571,\n",
       " 11.0,\n",
       " 13.714285714285714]"
      ]
     },
     "execution_count": 4,
     "metadata": {},
     "output_type": "execute_result"
    }
   ],
   "source": [
    "lst2=[]\n",
    "for i in lst:\n",
    "    lst2.append((i**2-4)/7)\n",
    "lst2"
   ]
  },
  {
   "cell_type": "code",
   "execution_count": 5,
   "metadata": {},
   "outputs": [
    {
     "data": {
      "text/plain": [
       "[[0, 1, 2, 3, 4, 5, 6, 7, 8, 9, 10],\n",
       " [-0.5714285714285714,\n",
       "  -0.42857142857142855,\n",
       "  0.0,\n",
       "  0.7142857142857143,\n",
       "  1.7142857142857142,\n",
       "  3.0,\n",
       "  4.571428571428571,\n",
       "  6.428571428571429,\n",
       "  8.571428571428571,\n",
       "  11.0,\n",
       "  13.714285714285714]]"
      ]
     },
     "execution_count": 5,
     "metadata": {},
     "output_type": "execute_result"
    }
   ],
   "source": [
    "[lst,lst2]# list of lists"
   ]
  },
  {
   "cell_type": "code",
   "execution_count": 6,
   "metadata": {},
   "outputs": [
    {
     "data": {
      "text/plain": [
       "11"
      ]
     },
     "execution_count": 6,
     "metadata": {},
     "output_type": "execute_result"
    }
   ],
   "source": [
    "len(lst2)"
   ]
  },
  {
   "cell_type": "code",
   "execution_count": 7,
   "metadata": {},
   "outputs": [],
   "source": [
    "lst=['cargo','bat','zoom']"
   ]
  },
  {
   "cell_type": "code",
   "execution_count": 8,
   "metadata": {},
   "outputs": [],
   "source": [
    "lst.append('centaur')"
   ]
  },
  {
   "cell_type": "code",
   "execution_count": 9,
   "metadata": {},
   "outputs": [
    {
     "data": {
      "text/plain": [
       "['cargo', 'bat', 'zoom', 'centaur']"
      ]
     },
     "execution_count": 9,
     "metadata": {},
     "output_type": "execute_result"
    }
   ],
   "source": [
    "lst"
   ]
  },
  {
   "cell_type": "code",
   "execution_count": 10,
   "metadata": {},
   "outputs": [],
   "source": [
    "lst.remove('zoom')"
   ]
  },
  {
   "cell_type": "code",
   "execution_count": 11,
   "metadata": {},
   "outputs": [
    {
     "data": {
      "text/plain": [
       "['cargo', 'bat', 'centaur']"
      ]
     },
     "execution_count": 11,
     "metadata": {},
     "output_type": "execute_result"
    }
   ],
   "source": [
    "lst"
   ]
  },
  {
   "cell_type": "code",
   "execution_count": 12,
   "metadata": {},
   "outputs": [
    {
     "data": {
      "text/plain": [
       "['cargo',\n",
       " 'bat',\n",
       " 'centaur',\n",
       " -0.5714285714285714,\n",
       " -0.42857142857142855,\n",
       " 0.0,\n",
       " 0.7142857142857143,\n",
       " 1.7142857142857142,\n",
       " 3.0,\n",
       " 4.571428571428571,\n",
       " 6.428571428571429,\n",
       " 8.571428571428571,\n",
       " 11.0,\n",
       " 13.714285714285714]"
      ]
     },
     "execution_count": 12,
     "metadata": {},
     "output_type": "execute_result"
    }
   ],
   "source": [
    "lst+lst2"
   ]
  },
  {
   "cell_type": "code",
   "execution_count": 13,
   "metadata": {},
   "outputs": [
    {
     "ename": "TypeError",
     "evalue": "can only concatenate list (not \"str\") to list",
     "output_type": "error",
     "traceback": [
      "\u001b[0;31m---------------------------------------------------------------------------\u001b[0m",
      "\u001b[0;31mTypeError\u001b[0m                                 Traceback (most recent call last)",
      "\u001b[0;32m<ipython-input-13-9c202d251170>\u001b[0m in \u001b[0;36m<module>\u001b[0;34m\u001b[0m\n\u001b[0;32m----> 1\u001b[0;31m \u001b[0mlst\u001b[0m\u001b[0;34m+\u001b[0m\u001b[0;34m'dumpling'\u001b[0m\u001b[0;34m\u001b[0m\u001b[0;34m\u001b[0m\u001b[0m\n\u001b[0m",
      "\u001b[0;31mTypeError\u001b[0m: can only concatenate list (not \"str\") to list"
     ]
    }
   ],
   "source": [
    "lst+'dumpling'"
   ]
  },
  {
   "cell_type": "code",
   "execution_count": 18,
   "metadata": {},
   "outputs": [
    {
     "data": {
      "text/plain": [
       "['cargo', 'bat', 'centaur', 'dumpling']"
      ]
     },
     "execution_count": 18,
     "metadata": {},
     "output_type": "execute_result"
    }
   ],
   "source": [
    "lst= lst+['dumpling']\n",
    "lst"
   ]
  },
  {
   "cell_type": "code",
   "execution_count": 19,
   "metadata": {},
   "outputs": [
    {
     "data": {
      "text/plain": [
       "True"
      ]
     },
     "execution_count": 19,
     "metadata": {},
     "output_type": "execute_result"
    }
   ],
   "source": [
    "'dumpling' in lst"
   ]
  },
  {
   "cell_type": "code",
   "execution_count": 22,
   "metadata": {},
   "outputs": [
    {
     "data": {
      "text/plain": [
       "False"
      ]
     },
     "execution_count": 22,
     "metadata": {},
     "output_type": "execute_result"
    }
   ],
   "source": [
    "'dumpling' not in lst"
   ]
  },
  {
   "cell_type": "code",
   "execution_count": 21,
   "metadata": {},
   "outputs": [
    {
     "data": {
      "text/plain": [
       "False"
      ]
     },
     "execution_count": 21,
     "metadata": {},
     "output_type": "execute_result"
    }
   ],
   "source": [
    "not ('dumpling' in lst)"
   ]
  },
  {
   "cell_type": "code",
   "execution_count": 24,
   "metadata": {},
   "outputs": [
    {
     "data": {
      "text/plain": [
       "48.714285714285715"
      ]
     },
     "execution_count": 24,
     "metadata": {},
     "output_type": "execute_result"
    }
   ],
   "source": [
    "sum(lst2)"
   ]
  },
  {
   "cell_type": "code",
   "execution_count": 25,
   "metadata": {},
   "outputs": [
    {
     "data": {
      "text/plain": [
       "-0.5714285714285714"
      ]
     },
     "execution_count": 25,
     "metadata": {},
     "output_type": "execute_result"
    }
   ],
   "source": [
    "min(lst2)"
   ]
  },
  {
   "cell_type": "code",
   "execution_count": 26,
   "metadata": {},
   "outputs": [
    {
     "data": {
      "text/plain": [
       "13.714285714285714"
      ]
     },
     "execution_count": 26,
     "metadata": {},
     "output_type": "execute_result"
    }
   ],
   "source": [
    "max(lst2)"
   ]
  },
  {
   "cell_type": "code",
   "execution_count": 27,
   "metadata": {},
   "outputs": [],
   "source": [
    "lst2.sort(reverse=True)"
   ]
  },
  {
   "cell_type": "code",
   "execution_count": 28,
   "metadata": {},
   "outputs": [
    {
     "data": {
      "text/plain": [
       "[13.714285714285714,\n",
       " 11.0,\n",
       " 8.571428571428571,\n",
       " 6.428571428571429,\n",
       " 4.571428571428571,\n",
       " 3.0,\n",
       " 1.7142857142857142,\n",
       " 0.7142857142857143,\n",
       " 0.0,\n",
       " -0.42857142857142855,\n",
       " -0.5714285714285714]"
      ]
     },
     "execution_count": 28,
     "metadata": {},
     "output_type": "execute_result"
    }
   ],
   "source": [
    "lst2"
   ]
  },
  {
   "cell_type": "code",
   "execution_count": 29,
   "metadata": {},
   "outputs": [],
   "source": [
    "lst3=lst+lst2"
   ]
  },
  {
   "cell_type": "code",
   "execution_count": 30,
   "metadata": {},
   "outputs": [
    {
     "data": {
      "text/plain": [
       "['cargo',\n",
       " 'bat',\n",
       " 'centaur',\n",
       " 'dumpling',\n",
       " 13.714285714285714,\n",
       " 11.0,\n",
       " 8.571428571428571,\n",
       " 6.428571428571429,\n",
       " 4.571428571428571,\n",
       " 3.0,\n",
       " 1.7142857142857142,\n",
       " 0.7142857142857143,\n",
       " 0.0,\n",
       " -0.42857142857142855,\n",
       " -0.5714285714285714]"
      ]
     },
     "execution_count": 30,
     "metadata": {},
     "output_type": "execute_result"
    }
   ],
   "source": [
    "lst3"
   ]
  },
  {
   "cell_type": "code",
   "execution_count": 31,
   "metadata": {},
   "outputs": [
    {
     "ename": "TypeError",
     "evalue": "'<' not supported between instances of 'str' and 'float'",
     "output_type": "error",
     "traceback": [
      "\u001b[0;31m---------------------------------------------------------------------------\u001b[0m",
      "\u001b[0;31mTypeError\u001b[0m                                 Traceback (most recent call last)",
      "\u001b[0;32m<ipython-input-31-1ef9a73a03b7>\u001b[0m in \u001b[0;36m<module>\u001b[0;34m\u001b[0m\n\u001b[0;32m----> 1\u001b[0;31m \u001b[0mlst3\u001b[0m\u001b[0;34m.\u001b[0m\u001b[0msort\u001b[0m\u001b[0;34m(\u001b[0m\u001b[0mreverse\u001b[0m\u001b[0;34m=\u001b[0m\u001b[0;32mTrue\u001b[0m\u001b[0;34m)\u001b[0m\u001b[0;34m\u001b[0m\u001b[0;34m\u001b[0m\u001b[0m\n\u001b[0m",
      "\u001b[0;31mTypeError\u001b[0m: '<' not supported between instances of 'str' and 'float'"
     ]
    }
   ],
   "source": [
    "lst3.sort(reverse=True)"
   ]
  },
  {
   "cell_type": "markdown",
   "metadata": {},
   "source": [
    "## Tuple"
   ]
  },
  {
   "cell_type": "code",
   "execution_count": 32,
   "metadata": {},
   "outputs": [],
   "source": [
    "tup=()"
   ]
  },
  {
   "cell_type": "code",
   "execution_count": 33,
   "metadata": {},
   "outputs": [
    {
     "data": {
      "text/plain": [
       "tuple"
      ]
     },
     "execution_count": 33,
     "metadata": {},
     "output_type": "execute_result"
    }
   ],
   "source": [
    "type(tup)"
   ]
  },
  {
   "cell_type": "code",
   "execution_count": 34,
   "metadata": {},
   "outputs": [],
   "source": [
    "tup=tuple()"
   ]
  },
  {
   "cell_type": "code",
   "execution_count": 35,
   "metadata": {},
   "outputs": [
    {
     "data": {
      "text/plain": [
       "tuple"
      ]
     },
     "execution_count": 35,
     "metadata": {},
     "output_type": "execute_result"
    }
   ],
   "source": [
    "type(tup)"
   ]
  },
  {
   "cell_type": "code",
   "execution_count": 36,
   "metadata": {},
   "outputs": [],
   "source": [
    "chocolates=('dark','salted','milk','semi sweet')"
   ]
  },
  {
   "cell_type": "code",
   "execution_count": 37,
   "metadata": {},
   "outputs": [
    {
     "data": {
      "text/plain": [
       "('dark', 'salted', 'milk', 'semi sweet')"
      ]
     },
     "execution_count": 37,
     "metadata": {},
     "output_type": "execute_result"
    }
   ],
   "source": [
    "chocolates"
   ]
  },
  {
   "cell_type": "code",
   "execution_count": 38,
   "metadata": {},
   "outputs": [
    {
     "data": {
      "text/plain": [
       "'salted'"
      ]
     },
     "execution_count": 38,
     "metadata": {},
     "output_type": "execute_result"
    }
   ],
   "source": [
    "chocolates[1]"
   ]
  },
  {
   "cell_type": "code",
   "execution_count": 39,
   "metadata": {},
   "outputs": [
    {
     "ename": "TypeError",
     "evalue": "'tuple' object does not support item assignment",
     "output_type": "error",
     "traceback": [
      "\u001b[0;31m---------------------------------------------------------------------------\u001b[0m",
      "\u001b[0;31mTypeError\u001b[0m                                 Traceback (most recent call last)",
      "\u001b[0;32m<ipython-input-39-6ba23a9e72a3>\u001b[0m in \u001b[0;36m<module>\u001b[0;34m\u001b[0m\n\u001b[0;32m----> 1\u001b[0;31m \u001b[0mchocolates\u001b[0m\u001b[0;34m[\u001b[0m\u001b[0;34m-\u001b[0m\u001b[0;36m1\u001b[0m\u001b[0;34m]\u001b[0m\u001b[0;34m=\u001b[0m\u001b[0;34m'caramel filled'\u001b[0m\u001b[0;34m\u001b[0m\u001b[0;34m\u001b[0m\u001b[0m\n\u001b[0m",
      "\u001b[0;31mTypeError\u001b[0m: 'tuple' object does not support item assignment"
     ]
    }
   ],
   "source": [
    "chocolates[-1]='caramel filled'"
   ]
  },
  {
   "cell_type": "code",
   "execution_count": 40,
   "metadata": {},
   "outputs": [
    {
     "ename": "TypeError",
     "evalue": "'tuple' object does not support item assignment",
     "output_type": "error",
     "traceback": [
      "\u001b[0;31m---------------------------------------------------------------------------\u001b[0m",
      "\u001b[0;31mTypeError\u001b[0m                                 Traceback (most recent call last)",
      "\u001b[0;32m<ipython-input-40-2644bc000733>\u001b[0m in \u001b[0;36m<module>\u001b[0;34m\u001b[0m\n\u001b[0;32m----> 1\u001b[0;31m \u001b[0mchocolates\u001b[0m\u001b[0;34m[\u001b[0m\u001b[0;36m4\u001b[0m\u001b[0;34m]\u001b[0m\u001b[0;34m=\u001b[0m\u001b[0;34m'caramel filled'\u001b[0m\u001b[0;34m\u001b[0m\u001b[0;34m\u001b[0m\u001b[0m\n\u001b[0m",
      "\u001b[0;31mTypeError\u001b[0m: 'tuple' object does not support item assignment"
     ]
    }
   ],
   "source": [
    "chocolates[4]='caramel filled'"
   ]
  },
  {
   "cell_type": "code",
   "execution_count": 41,
   "metadata": {},
   "outputs": [
    {
     "data": {
      "text/plain": [
       "4"
      ]
     },
     "execution_count": 41,
     "metadata": {},
     "output_type": "execute_result"
    }
   ],
   "source": [
    "len(chocolates)"
   ]
  },
  {
   "cell_type": "code",
   "execution_count": 42,
   "metadata": {},
   "outputs": [
    {
     "ename": "IndexError",
     "evalue": "tuple index out of range",
     "output_type": "error",
     "traceback": [
      "\u001b[0;31m---------------------------------------------------------------------------\u001b[0m",
      "\u001b[0;31mIndexError\u001b[0m                                Traceback (most recent call last)",
      "\u001b[0;32m<ipython-input-42-6f5a903b9efb>\u001b[0m in \u001b[0;36m<module>\u001b[0;34m\u001b[0m\n\u001b[0;32m----> 1\u001b[0;31m \u001b[0mchocolates\u001b[0m\u001b[0;34m[\u001b[0m\u001b[0;36m10\u001b[0m\u001b[0;34m]\u001b[0m\u001b[0;34m\u001b[0m\u001b[0;34m\u001b[0m\u001b[0m\n\u001b[0m",
      "\u001b[0;31mIndexError\u001b[0m: tuple index out of range"
     ]
    }
   ],
   "source": [
    "chocolates[10]"
   ]
  },
  {
   "cell_type": "code",
   "execution_count": 44,
   "metadata": {},
   "outputs": [
    {
     "name": "stdout",
     "output_type": "stream",
     "text": [
      "dark\n",
      "salted\n",
      "milk\n",
      "semi sweet\n"
     ]
    }
   ],
   "source": [
    "for chocolate in chocolates:\n",
    "    print(chocolate)"
   ]
  },
  {
   "cell_type": "code",
   "execution_count": 45,
   "metadata": {},
   "outputs": [
    {
     "data": {
      "text/plain": [
       "['dark', 'salted', 'milk', 'semi sweet']"
      ]
     },
     "execution_count": 45,
     "metadata": {},
     "output_type": "execute_result"
    }
   ],
   "source": [
    "lst=list(chocolates)\n",
    "lst"
   ]
  },
  {
   "cell_type": "code",
   "execution_count": 46,
   "metadata": {},
   "outputs": [],
   "source": [
    "lst[-1]='caramel filled'"
   ]
  },
  {
   "cell_type": "code",
   "execution_count": 47,
   "metadata": {},
   "outputs": [
    {
     "data": {
      "text/plain": [
       "['dark', 'salted', 'milk', 'caramel filled']"
      ]
     },
     "execution_count": 47,
     "metadata": {},
     "output_type": "execute_result"
    }
   ],
   "source": [
    "lst"
   ]
  },
  {
   "cell_type": "code",
   "execution_count": 48,
   "metadata": {},
   "outputs": [],
   "source": [
    "tup=tuple(lst)"
   ]
  },
  {
   "cell_type": "code",
   "execution_count": 49,
   "metadata": {},
   "outputs": [
    {
     "data": {
      "text/plain": [
       "('dark', 'salted', 'milk', 'caramel filled')"
      ]
     },
     "execution_count": 49,
     "metadata": {},
     "output_type": "execute_result"
    }
   ],
   "source": [
    "tup"
   ]
  },
  {
   "cell_type": "code",
   "execution_count": 50,
   "metadata": {},
   "outputs": [],
   "source": [
    "q,w,e,r = tup"
   ]
  },
  {
   "cell_type": "code",
   "execution_count": 52,
   "metadata": {},
   "outputs": [
    {
     "name": "stdout",
     "output_type": "stream",
     "text": [
      "dark bua salted bua milk bua caramel filled\n"
     ]
    }
   ],
   "source": [
    "print(q,'bua',w,'bua',e,'bua',r)"
   ]
  },
  {
   "cell_type": "code",
   "execution_count": 53,
   "metadata": {},
   "outputs": [
    {
     "data": {
      "text/plain": [
       "'caramel filled'"
      ]
     },
     "execution_count": 53,
     "metadata": {},
     "output_type": "execute_result"
    }
   ],
   "source": [
    "r"
   ]
  },
  {
   "cell_type": "code",
   "execution_count": 54,
   "metadata": {},
   "outputs": [
    {
     "data": {
      "text/plain": [
       "['cargo',\n",
       " 'bat',\n",
       " 'centaur',\n",
       " 'dumpling',\n",
       " 13.714285714285714,\n",
       " 11.0,\n",
       " 8.571428571428571,\n",
       " 6.428571428571429,\n",
       " 4.571428571428571,\n",
       " 3.0,\n",
       " 1.7142857142857142,\n",
       " 0.7142857142857143,\n",
       " 0.0,\n",
       " -0.42857142857142855,\n",
       " -0.5714285714285714]"
      ]
     },
     "execution_count": 54,
     "metadata": {},
     "output_type": "execute_result"
    }
   ],
   "source": [
    "lst3"
   ]
  },
  {
   "cell_type": "code",
   "execution_count": 56,
   "metadata": {},
   "outputs": [],
   "source": [
    "q1,q2=(lst,lst3)"
   ]
  },
  {
   "cell_type": "code",
   "execution_count": 57,
   "metadata": {},
   "outputs": [
    {
     "data": {
      "text/plain": [
       "['dark', 'salted', 'milk', 'caramel filled']"
      ]
     },
     "execution_count": 57,
     "metadata": {},
     "output_type": "execute_result"
    }
   ],
   "source": [
    "q1 "
   ]
  },
  {
   "cell_type": "code",
   "execution_count": null,
   "metadata": {},
   "outputs": [],
   "source": []
  },
  {
   "cell_type": "code",
   "execution_count": 59,
   "metadata": {},
   "outputs": [
    {
     "ename": "ValueError",
     "evalue": "not enough values to unpack (expected 5, got 4)",
     "output_type": "error",
     "traceback": [
      "\u001b[0;31m---------------------------------------------------------------------------\u001b[0m",
      "\u001b[0;31mValueError\u001b[0m                                Traceback (most recent call last)",
      "\u001b[0;32m<ipython-input-59-74690ad8a95d>\u001b[0m in \u001b[0;36m<module>\u001b[0;34m\u001b[0m\n\u001b[0;32m----> 1\u001b[0;31m \u001b[0mq\u001b[0m\u001b[0;34m,\u001b[0m\u001b[0mw\u001b[0m\u001b[0;34m,\u001b[0m\u001b[0me\u001b[0m\u001b[0;34m,\u001b[0m\u001b[0mr\u001b[0m\u001b[0;34m,\u001b[0m\u001b[0mt\u001b[0m \u001b[0;34m=\u001b[0m \u001b[0mtup\u001b[0m\u001b[0;34m\u001b[0m\u001b[0;34m\u001b[0m\u001b[0m\n\u001b[0m",
      "\u001b[0;31mValueError\u001b[0m: not enough values to unpack (expected 5, got 4)"
     ]
    }
   ],
   "source": [
    "q,w,e,r,t = tup"
   ]
  },
  {
   "cell_type": "markdown",
   "metadata": {},
   "source": [
    "## Sets"
   ]
  },
  {
   "cell_type": "code",
   "execution_count": 60,
   "metadata": {},
   "outputs": [
    {
     "data": {
      "text/plain": [
       "dict"
      ]
     },
     "execution_count": 60,
     "metadata": {},
     "output_type": "execute_result"
    }
   ],
   "source": [
    "st={}\n",
    "type(st)"
   ]
  },
  {
   "cell_type": "code",
   "execution_count": 62,
   "metadata": {},
   "outputs": [],
   "source": [
    "st=set()"
   ]
  },
  {
   "cell_type": "code",
   "execution_count": 63,
   "metadata": {},
   "outputs": [
    {
     "data": {
      "text/plain": [
       "set"
      ]
     },
     "execution_count": 63,
     "metadata": {},
     "output_type": "execute_result"
    }
   ],
   "source": [
    "type(st)"
   ]
  },
  {
   "cell_type": "code",
   "execution_count": 64,
   "metadata": {},
   "outputs": [],
   "source": [
    "lst4=[]\n",
    "for i in range(20):\n",
    "    lst4.append(i%2)"
   ]
  },
  {
   "cell_type": "code",
   "execution_count": 65,
   "metadata": {},
   "outputs": [
    {
     "data": {
      "text/plain": [
       "[0, 1, 0, 1, 0, 1, 0, 1, 0, 1, 0, 1, 0, 1, 0, 1, 0, 1, 0, 1]"
      ]
     },
     "execution_count": 65,
     "metadata": {},
     "output_type": "execute_result"
    }
   ],
   "source": [
    "lst4"
   ]
  },
  {
   "cell_type": "code",
   "execution_count": 66,
   "metadata": {},
   "outputs": [],
   "source": [
    "lst4_unique=[]\n",
    "for i in lst4:\n",
    "    if i not in lst4_unique:\n",
    "        lst4_unique.append(i)"
   ]
  },
  {
   "cell_type": "code",
   "execution_count": 67,
   "metadata": {},
   "outputs": [
    {
     "data": {
      "text/plain": [
       "[0, 1]"
      ]
     },
     "execution_count": 67,
     "metadata": {},
     "output_type": "execute_result"
    }
   ],
   "source": [
    "lst4_unique"
   ]
  },
  {
   "cell_type": "code",
   "execution_count": 68,
   "metadata": {},
   "outputs": [
    {
     "data": {
      "text/plain": [
       "{0, 1}"
      ]
     },
     "execution_count": 68,
     "metadata": {},
     "output_type": "execute_result"
    }
   ],
   "source": [
    "set(lst4)"
   ]
  },
  {
   "cell_type": "markdown",
   "metadata": {},
   "source": [
    "<img src='https://i.ytimg.com/vi/sdflTUW6gHo/maxresdefault.jpg'>"
   ]
  },
  {
   "cell_type": "code",
   "execution_count": 69,
   "metadata": {},
   "outputs": [],
   "source": [
    "st1={1,2,3,4}\n",
    "st2={3,4,5,6}"
   ]
  },
  {
   "cell_type": "code",
   "execution_count": 70,
   "metadata": {},
   "outputs": [
    {
     "data": {
      "text/plain": [
       "{1, 2, 3, 4, 5, 6}"
      ]
     },
     "execution_count": 70,
     "metadata": {},
     "output_type": "execute_result"
    }
   ],
   "source": [
    "st1 | st2 #union"
   ]
  },
  {
   "cell_type": "code",
   "execution_count": 71,
   "metadata": {},
   "outputs": [
    {
     "data": {
      "text/plain": [
       "{3, 4}"
      ]
     },
     "execution_count": 71,
     "metadata": {},
     "output_type": "execute_result"
    }
   ],
   "source": [
    "st1 & st2 #intersection"
   ]
  },
  {
   "cell_type": "code",
   "execution_count": 72,
   "metadata": {},
   "outputs": [
    {
     "data": {
      "text/plain": [
       "{1, 2, 3, 4}"
      ]
     },
     "execution_count": 72,
     "metadata": {},
     "output_type": "execute_result"
    }
   ],
   "source": [
    "st1 or st2"
   ]
  },
  {
   "cell_type": "code",
   "execution_count": 73,
   "metadata": {},
   "outputs": [
    {
     "data": {
      "text/plain": [
       "{3, 4, 5, 6}"
      ]
     },
     "execution_count": 73,
     "metadata": {},
     "output_type": "execute_result"
    }
   ],
   "source": [
    "st1 and st2"
   ]
  },
  {
   "cell_type": "markdown",
   "metadata": {},
   "source": [
    "The difference between `and` and `&`, `or` and `|` lies in the optimisation of Python. Operations `and` and `or` are considered to be used with logical operations, while `&` and `|` with sets."
   ]
  },
  {
   "cell_type": "code",
   "execution_count": 74,
   "metadata": {},
   "outputs": [
    {
     "data": {
      "text/plain": [
       "{3, 4}"
      ]
     },
     "execution_count": 74,
     "metadata": {},
     "output_type": "execute_result"
    }
   ],
   "source": [
    "st1.intersection(st2)"
   ]
  },
  {
   "cell_type": "code",
   "execution_count": 75,
   "metadata": {},
   "outputs": [
    {
     "data": {
      "text/plain": [
       "{1, 2, 3, 4, 5, 6}"
      ]
     },
     "execution_count": 75,
     "metadata": {},
     "output_type": "execute_result"
    }
   ],
   "source": [
    "st1.union(st2)"
   ]
  },
  {
   "cell_type": "code",
   "execution_count": 76,
   "metadata": {},
   "outputs": [
    {
     "data": {
      "text/plain": [
       "{1, 2}"
      ]
     },
     "execution_count": 76,
     "metadata": {},
     "output_type": "execute_result"
    }
   ],
   "source": [
    "st1.difference(st2)"
   ]
  },
  {
   "cell_type": "code",
   "execution_count": 77,
   "metadata": {},
   "outputs": [
    {
     "data": {
      "text/plain": [
       "{1, 2, 5, 6}"
      ]
     },
     "execution_count": 77,
     "metadata": {},
     "output_type": "execute_result"
    }
   ],
   "source": [
    "st1.symmetric_difference(st2) #union-intersection"
   ]
  },
  {
   "cell_type": "code",
   "execution_count": 78,
   "metadata": {},
   "outputs": [
    {
     "data": {
      "text/plain": [
       "{1, 2}"
      ]
     },
     "execution_count": 78,
     "metadata": {},
     "output_type": "execute_result"
    }
   ],
   "source": [
    "st1-st2"
   ]
  },
  {
   "cell_type": "code",
   "execution_count": 79,
   "metadata": {},
   "outputs": [
    {
     "data": {
      "text/plain": [
       "{5, 6}"
      ]
     },
     "execution_count": 79,
     "metadata": {},
     "output_type": "execute_result"
    }
   ],
   "source": [
    "st2-st1"
   ]
  },
  {
   "cell_type": "code",
   "execution_count": 80,
   "metadata": {},
   "outputs": [
    {
     "ename": "TypeError",
     "evalue": "unsupported operand type(s) for +: 'set' and 'set'",
     "output_type": "error",
     "traceback": [
      "\u001b[0;31m---------------------------------------------------------------------------\u001b[0m",
      "\u001b[0;31mTypeError\u001b[0m                                 Traceback (most recent call last)",
      "\u001b[0;32m<ipython-input-80-7e93f43be91e>\u001b[0m in \u001b[0;36m<module>\u001b[0;34m\u001b[0m\n\u001b[0;32m----> 1\u001b[0;31m \u001b[0mst1\u001b[0m\u001b[0;34m+\u001b[0m\u001b[0mst2\u001b[0m\u001b[0;34m\u001b[0m\u001b[0;34m\u001b[0m\u001b[0m\n\u001b[0m",
      "\u001b[0;31mTypeError\u001b[0m: unsupported operand type(s) for +: 'set' and 'set'"
     ]
    }
   ],
   "source": [
    "st1+st2"
   ]
  },
  {
   "cell_type": "code",
   "execution_count": 81,
   "metadata": {},
   "outputs": [
    {
     "data": {
      "text/plain": [
       "False"
      ]
     },
     "execution_count": 81,
     "metadata": {},
     "output_type": "execute_result"
    }
   ],
   "source": [
    "st1.issubset(st2)"
   ]
  },
  {
   "cell_type": "code",
   "execution_count": 82,
   "metadata": {},
   "outputs": [
    {
     "data": {
      "text/plain": [
       "True"
      ]
     },
     "execution_count": 82,
     "metadata": {},
     "output_type": "execute_result"
    }
   ],
   "source": [
    "{3,4}.issubset(st1)"
   ]
  },
  {
   "cell_type": "code",
   "execution_count": 83,
   "metadata": {},
   "outputs": [
    {
     "data": {
      "text/plain": [
       "False"
      ]
     },
     "execution_count": 83,
     "metadata": {},
     "output_type": "execute_result"
    }
   ],
   "source": [
    "st1.issuperset(st2)"
   ]
  },
  {
   "cell_type": "code",
   "execution_count": 84,
   "metadata": {},
   "outputs": [
    {
     "data": {
      "text/plain": [
       "True"
      ]
     },
     "execution_count": 84,
     "metadata": {},
     "output_type": "execute_result"
    }
   ],
   "source": [
    "st1.issuperset({1,2})"
   ]
  },
  {
   "cell_type": "code",
   "execution_count": 85,
   "metadata": {},
   "outputs": [
    {
     "data": {
      "text/plain": [
       "True"
      ]
     },
     "execution_count": 85,
     "metadata": {},
     "output_type": "execute_result"
    }
   ],
   "source": [
    "1 in st1"
   ]
  },
  {
   "cell_type": "code",
   "execution_count": 86,
   "metadata": {},
   "outputs": [
    {
     "data": {
      "text/plain": [
       "False"
      ]
     },
     "execution_count": 86,
     "metadata": {},
     "output_type": "execute_result"
    }
   ],
   "source": [
    "{1,2} in st1"
   ]
  },
  {
   "cell_type": "code",
   "execution_count": 87,
   "metadata": {},
   "outputs": [],
   "source": [
    "txt1='the quick brown fox jumps over the lazy dog'\n",
    "txt2='data analysis bootcamp'"
   ]
  },
  {
   "cell_type": "markdown",
   "metadata": {},
   "source": [
    "what are the common letters?"
   ]
  },
  {
   "cell_type": "code",
   "execution_count": 89,
   "metadata": {},
   "outputs": [],
   "source": [
    "s=[]\n",
    "for i in txt1:\n",
    "    for j in txt2:\n",
    "        if i==j:\n",
    "            s.append(j)"
   ]
  },
  {
   "cell_type": "code",
   "execution_count": 90,
   "metadata": {
    "collapsed": true
   },
   "outputs": [
    {
     "data": {
      "text/plain": [
       "['t',\n",
       " 't',\n",
       " ' ',\n",
       " ' ',\n",
       " 'i',\n",
       " 'c',\n",
       " ' ',\n",
       " ' ',\n",
       " 'b',\n",
       " 'o',\n",
       " 'o',\n",
       " 'n',\n",
       " ' ',\n",
       " ' ',\n",
       " 'o',\n",
       " 'o',\n",
       " ' ',\n",
       " ' ',\n",
       " 'm',\n",
       " 'p',\n",
       " 's',\n",
       " 's',\n",
       " ' ',\n",
       " ' ',\n",
       " 'o',\n",
       " 'o',\n",
       " ' ',\n",
       " ' ',\n",
       " 't',\n",
       " 't',\n",
       " ' ',\n",
       " ' ',\n",
       " 'l',\n",
       " 'a',\n",
       " 'a',\n",
       " 'a',\n",
       " 'a',\n",
       " 'a',\n",
       " 'y',\n",
       " ' ',\n",
       " ' ',\n",
       " 'd',\n",
       " 'o',\n",
       " 'o']"
      ]
     },
     "execution_count": 90,
     "metadata": {},
     "output_type": "execute_result"
    }
   ],
   "source": [
    "s"
   ]
  },
  {
   "cell_type": "code",
   "execution_count": 92,
   "metadata": {},
   "outputs": [
    {
     "data": {
      "text/plain": [
       "{' ', 'a', 'b', 'c', 'd', 'i', 'l', 'm', 'n', 'o', 'p', 's', 't', 'y'}"
      ]
     },
     "execution_count": 92,
     "metadata": {},
     "output_type": "execute_result"
    }
   ],
   "source": [
    "set(txt1) & set(txt2)"
   ]
  },
  {
   "cell_type": "code",
   "execution_count": 94,
   "metadata": {},
   "outputs": [
    {
     "ename": "TypeError",
     "evalue": "'set' object is not subscriptable",
     "output_type": "error",
     "traceback": [
      "\u001b[0;31m---------------------------------------------------------------------------\u001b[0m",
      "\u001b[0;31mTypeError\u001b[0m                                 Traceback (most recent call last)",
      "\u001b[0;32m<ipython-input-94-310081f4c4eb>\u001b[0m in \u001b[0;36m<module>\u001b[0;34m\u001b[0m\n\u001b[0;32m----> 1\u001b[0;31m \u001b[0mst1\u001b[0m\u001b[0;34m[\u001b[0m\u001b[0;36m1\u001b[0m\u001b[0;34m]\u001b[0m\u001b[0;34m\u001b[0m\u001b[0;34m\u001b[0m\u001b[0m\n\u001b[0m",
      "\u001b[0;31mTypeError\u001b[0m: 'set' object is not subscriptable"
     ]
    }
   ],
   "source": [
    "st1[1]"
   ]
  },
  {
   "cell_type": "code",
   "execution_count": 112,
   "metadata": {},
   "outputs": [],
   "source": [
    "set1={0,1,'!', 'ert','bhaskdbfhs','78as4das', 25}"
   ]
  },
  {
   "cell_type": "code",
   "execution_count": 96,
   "metadata": {},
   "outputs": [
    {
     "data": {
      "text/plain": [
       "{'!', 0, 1, 25, '78as4das', 'bhaskdbfhs', 'ert'}"
      ]
     },
     "execution_count": 96,
     "metadata": {},
     "output_type": "execute_result"
    }
   ],
   "source": [
    "set1"
   ]
  },
  {
   "cell_type": "code",
   "execution_count": 101,
   "metadata": {},
   "outputs": [
    {
     "name": "stdout",
     "output_type": "stream",
     "text": [
      "0\n",
      "1\n",
      "78as4das\n",
      "ert\n",
      "bhaskdbfhs\n",
      "25\n",
      "!\n"
     ]
    }
   ],
   "source": [
    "for i in set1:\n",
    "    print(i)"
   ]
  },
  {
   "cell_type": "code",
   "execution_count": 102,
   "metadata": {},
   "outputs": [
    {
     "data": {
      "text/plain": [
       "0"
      ]
     },
     "execution_count": 102,
     "metadata": {},
     "output_type": "execute_result"
    }
   ],
   "source": [
    "set1.pop()"
   ]
  },
  {
   "cell_type": "code",
   "execution_count": 103,
   "metadata": {},
   "outputs": [
    {
     "data": {
      "text/plain": [
       "{'!', 1, 25, '78as4das', 'bhaskdbfhs', 'ert'}"
      ]
     },
     "execution_count": 103,
     "metadata": {},
     "output_type": "execute_result"
    }
   ],
   "source": [
    "set1"
   ]
  },
  {
   "cell_type": "code",
   "execution_count": 104,
   "metadata": {},
   "outputs": [
    {
     "data": {
      "text/plain": [
       "1"
      ]
     },
     "execution_count": 104,
     "metadata": {},
     "output_type": "execute_result"
    }
   ],
   "source": [
    "set1.pop()"
   ]
  },
  {
   "cell_type": "code",
   "execution_count": 105,
   "metadata": {},
   "outputs": [
    {
     "data": {
      "text/plain": [
       "{'!', 25, '78as4das', 'bhaskdbfhs', 'ert'}"
      ]
     },
     "execution_count": 105,
     "metadata": {},
     "output_type": "execute_result"
    }
   ],
   "source": [
    "set1 "
   ]
  },
  {
   "cell_type": "code",
   "execution_count": 106,
   "metadata": {},
   "outputs": [
    {
     "data": {
      "text/plain": [
       "'78as4das'"
      ]
     },
     "execution_count": 106,
     "metadata": {},
     "output_type": "execute_result"
    }
   ],
   "source": [
    "set1.pop()"
   ]
  },
  {
   "cell_type": "code",
   "execution_count": 108,
   "metadata": {},
   "outputs": [
    {
     "data": {
      "text/plain": [
       "['bhaskdbfhs', 25, '!']"
      ]
     },
     "execution_count": 108,
     "metadata": {},
     "output_type": "execute_result"
    }
   ],
   "source": [
    "lst=[]\n",
    "for i in range(len(set1)):\n",
    "    lst.append(set1.pop())\n",
    "lst"
   ]
  },
  {
   "cell_type": "code",
   "execution_count": 109,
   "metadata": {},
   "outputs": [
    {
     "data": {
      "text/plain": [
       "set()"
      ]
     },
     "execution_count": 109,
     "metadata": {},
     "output_type": "execute_result"
    }
   ],
   "source": [
    "set1"
   ]
  },
  {
   "cell_type": "code",
   "execution_count": 113,
   "metadata": {},
   "outputs": [
    {
     "data": {
      "text/plain": [
       "[0, 1, 25]"
      ]
     },
     "execution_count": 113,
     "metadata": {},
     "output_type": "execute_result"
    }
   ],
   "source": [
    "lst=[]\n",
    "for i in range(len(set1)):\n",
    "    x=set1.pop()\n",
    "    if type(x)==int:\n",
    "        lst.append(x)\n",
    "    else:\n",
    "        set1.add(x)\n",
    "lst"
   ]
  },
  {
   "cell_type": "code",
   "execution_count": 114,
   "metadata": {},
   "outputs": [
    {
     "data": {
      "text/plain": [
       "{'!', '78as4das', 'bhaskdbfhs', 'ert'}"
      ]
     },
     "execution_count": 114,
     "metadata": {},
     "output_type": "execute_result"
    }
   ],
   "source": [
    "set1"
   ]
  },
  {
   "cell_type": "markdown",
   "metadata": {},
   "source": [
    "## Dictionaries"
   ]
  },
  {
   "cell_type": "code",
   "execution_count": 115,
   "metadata": {},
   "outputs": [
    {
     "data": {
      "text/plain": [
       "dict"
      ]
     },
     "execution_count": 115,
     "metadata": {},
     "output_type": "execute_result"
    }
   ],
   "source": [
    "dct={}\n",
    "type(dct)"
   ]
  },
  {
   "cell_type": "code",
   "execution_count": 116,
   "metadata": {},
   "outputs": [
    {
     "data": {
      "text/plain": [
       "dict"
      ]
     },
     "execution_count": 116,
     "metadata": {},
     "output_type": "execute_result"
    }
   ],
   "source": [
    "dct=dict()\n",
    "type(dct)"
   ]
  },
  {
   "cell_type": "code",
   "execution_count": 117,
   "metadata": {},
   "outputs": [
    {
     "data": {
      "text/plain": [
       "('dark', 'salted', 'milk', 'semi sweet')"
      ]
     },
     "execution_count": 117,
     "metadata": {},
     "output_type": "execute_result"
    }
   ],
   "source": [
    "chocolates"
   ]
  },
  {
   "cell_type": "code",
   "execution_count": 119,
   "metadata": {},
   "outputs": [],
   "source": [
    "brands=['Lindt','Nestle','Catberry','Cote d\\'Or']"
   ]
  },
  {
   "cell_type": "code",
   "execution_count": 120,
   "metadata": {},
   "outputs": [
    {
     "data": {
      "text/plain": [
       "['Lindt', 'Nestle', 'Catberry', \"Cote d'Or\"]"
      ]
     },
     "execution_count": 120,
     "metadata": {},
     "output_type": "execute_result"
    }
   ],
   "source": [
    "brands"
   ]
  },
  {
   "cell_type": "code",
   "execution_count": 123,
   "metadata": {},
   "outputs": [
    {
     "name": "stdout",
     "output_type": "stream",
     "text": [
      "0 dark Lindt\n",
      "1 salted Nestle\n",
      "2 milk Catberry\n",
      "3 semi sweet Cote d'Or\n"
     ]
    }
   ],
   "source": [
    "for i in range(len(chocolates)):\n",
    "    print(i, chocolates[i], brands[i])"
   ]
  },
  {
   "cell_type": "code",
   "execution_count": 124,
   "metadata": {},
   "outputs": [
    {
     "data": {
      "text/plain": [
       "{'dark': 'Lindt',\n",
       " 'salted': 'Nestle',\n",
       " 'milk': 'Catberry',\n",
       " 'semi sweet': \"Cote d'Or\"}"
      ]
     },
     "execution_count": 124,
     "metadata": {},
     "output_type": "execute_result"
    }
   ],
   "source": [
    "dct={}\n",
    "for i in range(len(chocolates)):\n",
    "    dct[chocolates[i]]=brands[i]\n",
    "dct"
   ]
  },
  {
   "cell_type": "code",
   "execution_count": 125,
   "metadata": {},
   "outputs": [
    {
     "ename": "AttributeError",
     "evalue": "'dict' object has no attribute 'append'",
     "output_type": "error",
     "traceback": [
      "\u001b[0;31m---------------------------------------------------------------------------\u001b[0m",
      "\u001b[0;31mAttributeError\u001b[0m                            Traceback (most recent call last)",
      "\u001b[0;32m<ipython-input-125-eb7c2901b38c>\u001b[0m in \u001b[0;36m<module>\u001b[0;34m\u001b[0m\n\u001b[1;32m      1\u001b[0m \u001b[0mdct\u001b[0m\u001b[0;34m=\u001b[0m\u001b[0;34m{\u001b[0m\u001b[0;34m}\u001b[0m\u001b[0;34m\u001b[0m\u001b[0;34m\u001b[0m\u001b[0m\n\u001b[1;32m      2\u001b[0m \u001b[0;32mfor\u001b[0m \u001b[0mi\u001b[0m \u001b[0;32min\u001b[0m \u001b[0mrange\u001b[0m\u001b[0;34m(\u001b[0m\u001b[0mlen\u001b[0m\u001b[0;34m(\u001b[0m\u001b[0mchocolates\u001b[0m\u001b[0;34m)\u001b[0m\u001b[0;34m)\u001b[0m\u001b[0;34m:\u001b[0m\u001b[0;34m\u001b[0m\u001b[0;34m\u001b[0m\u001b[0m\n\u001b[0;32m----> 3\u001b[0;31m     \u001b[0mdct\u001b[0m\u001b[0;34m.\u001b[0m\u001b[0mappend\u001b[0m\u001b[0;34m(\u001b[0m\u001b[0;34m(\u001b[0m\u001b[0mchocolates\u001b[0m\u001b[0;34m[\u001b[0m\u001b[0mi\u001b[0m\u001b[0;34m]\u001b[0m\u001b[0;34m,\u001b[0m \u001b[0mbrands\u001b[0m\u001b[0;34m[\u001b[0m\u001b[0mi\u001b[0m\u001b[0;34m]\u001b[0m\u001b[0;34m)\u001b[0m\u001b[0;34m)\u001b[0m\u001b[0;34m\u001b[0m\u001b[0;34m\u001b[0m\u001b[0m\n\u001b[0m\u001b[1;32m      4\u001b[0m \u001b[0mdct\u001b[0m\u001b[0;34m\u001b[0m\u001b[0;34m\u001b[0m\u001b[0m\n",
      "\u001b[0;31mAttributeError\u001b[0m: 'dict' object has no attribute 'append'"
     ]
    }
   ],
   "source": [
    "dct={}\n",
    "for i in range(len(chocolates)):\n",
    "    dct.append((chocolates[i], brands[i]))\n",
    "dct"
   ]
  },
  {
   "cell_type": "code",
   "execution_count": 126,
   "metadata": {},
   "outputs": [
    {
     "data": {
      "text/plain": [
       "{'dark': 'Lindt',\n",
       " 'salted': 'Nestle',\n",
       " 'milk': 'Catberry',\n",
       " 'semi sweet': \"Cote d'Or\"}"
      ]
     },
     "execution_count": 126,
     "metadata": {},
     "output_type": "execute_result"
    }
   ],
   "source": [
    "dct={}\n",
    "for i in range(len(chocolates)):\n",
    "    dct.update({chocolates[i]:brands[i]})\n",
    "dct"
   ]
  },
  {
   "cell_type": "code",
   "execution_count": 127,
   "metadata": {},
   "outputs": [],
   "source": [
    "additional_dct={'caramel filled':'Poulain'}"
   ]
  },
  {
   "cell_type": "code",
   "execution_count": 128,
   "metadata": {},
   "outputs": [
    {
     "data": {
      "text/plain": [
       "{'caramel filled': 'Poulain'}"
      ]
     },
     "execution_count": 128,
     "metadata": {},
     "output_type": "execute_result"
    }
   ],
   "source": [
    "additional_dct"
   ]
  },
  {
   "cell_type": "code",
   "execution_count": 129,
   "metadata": {},
   "outputs": [],
   "source": [
    "dct.update(additional_dct)"
   ]
  },
  {
   "cell_type": "code",
   "execution_count": 130,
   "metadata": {},
   "outputs": [
    {
     "data": {
      "text/plain": [
       "{'dark': 'Lindt',\n",
       " 'salted': 'Nestle',\n",
       " 'milk': 'Catberry',\n",
       " 'semi sweet': \"Cote d'Or\",\n",
       " 'caramel filled': 'Poulain'}"
      ]
     },
     "execution_count": 130,
     "metadata": {},
     "output_type": "execute_result"
    }
   ],
   "source": [
    "dct"
   ]
  },
  {
   "cell_type": "code",
   "execution_count": 131,
   "metadata": {},
   "outputs": [
    {
     "data": {
      "text/plain": [
       "'Catberry'"
      ]
     },
     "execution_count": 131,
     "metadata": {},
     "output_type": "execute_result"
    }
   ],
   "source": [
    "dct['milk']"
   ]
  },
  {
   "cell_type": "code",
   "execution_count": 132,
   "metadata": {},
   "outputs": [],
   "source": [
    "dct['milk']='Nestle'\n",
    "dct['salted']='Catberry'"
   ]
  },
  {
   "cell_type": "code",
   "execution_count": 133,
   "metadata": {},
   "outputs": [
    {
     "data": {
      "text/plain": [
       "{'dark': 'Lindt',\n",
       " 'salted': 'Catberry',\n",
       " 'milk': 'Nestle',\n",
       " 'semi sweet': \"Cote d'Or\",\n",
       " 'caramel filled': 'Poulain'}"
      ]
     },
     "execution_count": 133,
     "metadata": {},
     "output_type": "execute_result"
    }
   ],
   "source": [
    "dct"
   ]
  },
  {
   "cell_type": "code",
   "execution_count": 134,
   "metadata": {},
   "outputs": [],
   "source": [
    "dct.update({'semi sweet':'Kinder'})"
   ]
  },
  {
   "cell_type": "code",
   "execution_count": 135,
   "metadata": {},
   "outputs": [
    {
     "data": {
      "text/plain": [
       "{'dark': 'Lindt',\n",
       " 'salted': 'Catberry',\n",
       " 'milk': 'Nestle',\n",
       " 'semi sweet': 'Kinder',\n",
       " 'caramel filled': 'Poulain'}"
      ]
     },
     "execution_count": 135,
     "metadata": {},
     "output_type": "execute_result"
    }
   ],
   "source": [
    "dct"
   ]
  },
  {
   "cell_type": "code",
   "execution_count": 136,
   "metadata": {},
   "outputs": [],
   "source": [
    "dct['kinder surprise']=dct.pop('semi sweet')"
   ]
  },
  {
   "cell_type": "code",
   "execution_count": 137,
   "metadata": {},
   "outputs": [
    {
     "data": {
      "text/plain": [
       "{'dark': 'Lindt',\n",
       " 'salted': 'Catberry',\n",
       " 'milk': 'Nestle',\n",
       " 'caramel filled': 'Poulain',\n",
       " 'kinder surprise': 'Kinder'}"
      ]
     },
     "execution_count": 137,
     "metadata": {},
     "output_type": "execute_result"
    }
   ],
   "source": [
    "dct"
   ]
  },
  {
   "cell_type": "code",
   "execution_count": 138,
   "metadata": {},
   "outputs": [
    {
     "ename": "AttributeError",
     "evalue": "'dict' object has no attribute 'remove'",
     "output_type": "error",
     "traceback": [
      "\u001b[0;31m---------------------------------------------------------------------------\u001b[0m",
      "\u001b[0;31mAttributeError\u001b[0m                            Traceback (most recent call last)",
      "\u001b[0;32m<ipython-input-138-fb1346e09c86>\u001b[0m in \u001b[0;36m<module>\u001b[0;34m\u001b[0m\n\u001b[0;32m----> 1\u001b[0;31m \u001b[0mdct\u001b[0m\u001b[0;34m.\u001b[0m\u001b[0mremove\u001b[0m\u001b[0;34m(\u001b[0m\u001b[0;34m'kinder surprise'\u001b[0m\u001b[0;34m)\u001b[0m\u001b[0;34m\u001b[0m\u001b[0;34m\u001b[0m\u001b[0m\n\u001b[0m",
      "\u001b[0;31mAttributeError\u001b[0m: 'dict' object has no attribute 'remove'"
     ]
    }
   ],
   "source": [
    "dct.remove('kinder surprise')"
   ]
  },
  {
   "cell_type": "code",
   "execution_count": 139,
   "metadata": {},
   "outputs": [],
   "source": [
    "del dct['kinder surprise']"
   ]
  },
  {
   "cell_type": "code",
   "execution_count": 140,
   "metadata": {},
   "outputs": [
    {
     "data": {
      "text/plain": [
       "{'dark': 'Lindt',\n",
       " 'salted': 'Catberry',\n",
       " 'milk': 'Nestle',\n",
       " 'caramel filled': 'Poulain'}"
      ]
     },
     "execution_count": 140,
     "metadata": {},
     "output_type": "execute_result"
    }
   ],
   "source": [
    "dct"
   ]
  },
  {
   "cell_type": "markdown",
   "metadata": {},
   "source": [
    "# List Comprehensions"
   ]
  },
  {
   "cell_type": "code",
   "execution_count": 141,
   "metadata": {},
   "outputs": [],
   "source": [
    "fruits=['apple','pear','mango','orange','grapefruit']"
   ]
  },
  {
   "cell_type": "markdown",
   "metadata": {},
   "source": [
    "Generate a new list out of the list of fruits that contains the fruits with `e`"
   ]
  },
  {
   "cell_type": "code",
   "execution_count": 144,
   "metadata": {
    "scrolled": true
   },
   "outputs": [
    {
     "name": "stdout",
     "output_type": "stream",
     "text": [
      "['apple', 'pear', 'orange', 'grapefruit']\n"
     ]
    }
   ],
   "source": [
    "fruits2=[]\n",
    "for i in fruits:\n",
    "    if 'e' in i:\n",
    "         fruits2.append(i)\n",
    "print(fruits2)"
   ]
  },
  {
   "cell_type": "code",
   "execution_count": 145,
   "metadata": {},
   "outputs": [
    {
     "data": {
      "text/plain": [
       "['apple', 'pear', 'orange', 'grapefruit']"
      ]
     },
     "execution_count": 145,
     "metadata": {},
     "output_type": "execute_result"
    }
   ],
   "source": [
    "new_fruits = []\n",
    "for fruit in fruits :\n",
    "    if fruit.find(\"e\") > 0 :\n",
    "        new_fruits.append(fruit)\n",
    "new_fruits        "
   ]
  },
  {
   "cell_type": "code",
   "execution_count": 147,
   "metadata": {},
   "outputs": [
    {
     "data": {
      "text/plain": [
       "['apple', 'pear', 'orange', 'grapefruit']"
      ]
     },
     "execution_count": 147,
     "metadata": {},
     "output_type": "execute_result"
    }
   ],
   "source": [
    "[i for i in fruits if 'e' in i]"
   ]
  },
  {
   "cell_type": "markdown",
   "metadata": {},
   "source": [
    "```python\n",
    "[item_to_be_appended for items in iterable if filter is True]\n",
    "```"
   ]
  },
  {
   "cell_type": "code",
   "execution_count": null,
   "metadata": {},
   "outputs": [],
   "source": []
  },
  {
   "cell_type": "code",
   "execution_count": 148,
   "metadata": {},
   "outputs": [
    {
     "data": {
      "text/plain": [
       "['apple', 'pear', 'orange', 'grapefruit']"
      ]
     },
     "execution_count": 148,
     "metadata": {},
     "output_type": "execute_result"
    }
   ],
   "source": [
    "[fruit for fruit in fruits if fruit.find(\"e\") > 0]"
   ]
  },
  {
   "cell_type": "markdown",
   "metadata": {},
   "source": [
    "List of numbers from 0 to 10 with step 0.5"
   ]
  },
  {
   "cell_type": "code",
   "execution_count": 149,
   "metadata": {},
   "outputs": [
    {
     "ename": "TypeError",
     "evalue": "'float' object cannot be interpreted as an integer",
     "output_type": "error",
     "traceback": [
      "\u001b[0;31m---------------------------------------------------------------------------\u001b[0m",
      "\u001b[0;31mTypeError\u001b[0m                                 Traceback (most recent call last)",
      "\u001b[0;32m<ipython-input-149-ffc8137f0c0b>\u001b[0m in \u001b[0;36m<module>\u001b[0;34m\u001b[0m\n\u001b[0;32m----> 1\u001b[0;31m \u001b[0mrange\u001b[0m\u001b[0;34m(\u001b[0m\u001b[0;36m0\u001b[0m\u001b[0;34m,\u001b[0m\u001b[0;36m10\u001b[0m\u001b[0;34m,\u001b[0m\u001b[0;36m0.5\u001b[0m\u001b[0;34m)\u001b[0m\u001b[0;34m\u001b[0m\u001b[0;34m\u001b[0m\u001b[0m\n\u001b[0m",
      "\u001b[0;31mTypeError\u001b[0m: 'float' object cannot be interpreted as an integer"
     ]
    }
   ],
   "source": [
    "range(0,10,0.5)"
   ]
  },
  {
   "cell_type": "code",
   "execution_count": 150,
   "metadata": {},
   "outputs": [
    {
     "data": {
      "text/plain": [
       "[0.5, 1.5, 2.5, 3.5, 4.5, 5.5, 6.5, 7.5, 8.5, 9.5]"
      ]
     },
     "execution_count": 150,
     "metadata": {},
     "output_type": "execute_result"
    }
   ],
   "source": [
    "[ i+0.5 for i in range(10)]"
   ]
  },
  {
   "cell_type": "code",
   "execution_count": 153,
   "metadata": {},
   "outputs": [
    {
     "name": "stdout",
     "output_type": "stream",
     "text": [
      "[0.0, 0.5, 1.0, 1.5, 2.0, 2.5, 3.0, 3.5, 4.0, 4.5, 5.0, 5.5, 6.0, 6.5, 7.0, 7.5, 8.0, 8.5, 9.0, 9.5]\n"
     ]
    }
   ],
   "source": [
    "a=[]\n",
    "for x in range(20):\n",
    "    a.append(x*0.5)\n",
    "print(a)"
   ]
  },
  {
   "cell_type": "markdown",
   "metadata": {},
   "source": [
    "List of even numbers from 0 to 50."
   ]
  },
  {
   "cell_type": "code",
   "execution_count": 160,
   "metadata": {},
   "outputs": [
    {
     "name": "stdout",
     "output_type": "stream",
     "text": [
      "[0, 2, 4, 6, 8, 10, 12, 14, 16, 18, 20, 22, 24, 26, 28, 30, 32, 34, 36, 38, 40, 42, 44, 46, 48]\n"
     ]
    }
   ],
   "source": [
    "even = []\n",
    "for x in range(0,50,2):\n",
    "    even.append(x)\n",
    "print(even)"
   ]
  },
  {
   "cell_type": "code",
   "execution_count": 156,
   "metadata": {},
   "outputs": [
    {
     "name": "stdout",
     "output_type": "stream",
     "text": [
      "[0, 2, 4, 6, 8, 10, 12, 14, 16, 18, 20, 22, 24, 26, 28, 30, 32, 34, 36, 38, 40, 42, 44, 46, 48]\n"
     ]
    }
   ],
   "source": [
    "print([i for i in range(50) if i%2==0])"
   ]
  },
  {
   "cell_type": "code",
   "execution_count": 163,
   "metadata": {},
   "outputs": [
    {
     "name": "stdout",
     "output_type": "stream",
     "text": [
      "[0, 2, 4, 6, 8, 10, 12, 14, 16, 18, 20, 22, 24, 26, 28, 30, 32, 34, 36, 38, 40, 42, 44, 46, 48]\n"
     ]
    }
   ],
   "source": [
    "###\n",
    "print([i*2 for i in range(x,y)])"
   ]
  },
  {
   "cell_type": "code",
   "execution_count": 159,
   "metadata": {},
   "outputs": [
    {
     "name": "stdout",
     "output_type": "stream",
     "text": [
      "[0, 2, 4, 6, 8, 10, 12, 14, 16, 18, 20, 22, 24, 26, 28, 30, 32, 34, 36, 38, 40, 42, 44, 46, 48]\n"
     ]
    }
   ],
   "source": [
    "a=[]\n",
    "for x in range(50):\n",
    "    if x % 2 == 0:\n",
    "        a.append(x)\n",
    "print(a)"
   ]
  },
  {
   "cell_type": "code",
   "execution_count": 162,
   "metadata": {},
   "outputs": [
    {
     "name": "stdout",
     "output_type": "stream",
     "text": [
      "[0, 2, 4, 6, 8, 10, 12, 14, 16, 18, 20, 22, 24, 26, 28, 30, 32, 34, 36, 38, 40, 42, 44, 46, 48]\n"
     ]
    }
   ],
   "source": [
    "print(list(range(0,50,2)))"
   ]
  },
  {
   "cell_type": "markdown",
   "metadata": {},
   "source": [
    "Flatten a list of lists"
   ]
  },
  {
   "cell_type": "code",
   "execution_count": 182,
   "metadata": {},
   "outputs": [],
   "source": [
    "list_lists=[[1,2,3],[1,2],['yes','no']]"
   ]
  },
  {
   "cell_type": "code",
   "execution_count": 165,
   "metadata": {},
   "outputs": [],
   "source": [
    "l=[]\n",
    "for i in list_lists:\n",
    "    for j in i:\n",
    "        l.append(j)"
   ]
  },
  {
   "cell_type": "code",
   "execution_count": 166,
   "metadata": {},
   "outputs": [
    {
     "data": {
      "text/plain": [
       "[1, 2, 3, 1, 2, 'yes', 'no']"
      ]
     },
     "execution_count": 166,
     "metadata": {},
     "output_type": "execute_result"
    }
   ],
   "source": [
    "l"
   ]
  },
  {
   "cell_type": "code",
   "execution_count": 167,
   "metadata": {},
   "outputs": [
    {
     "data": {
      "text/plain": [
       "[1, 2, 3, 1, 2, 'yes', 'no']"
      ]
     },
     "execution_count": 167,
     "metadata": {},
     "output_type": "execute_result"
    }
   ],
   "source": [
    "[j for i in list_lists for j in i]"
   ]
  },
  {
   "cell_type": "code",
   "execution_count": null,
   "metadata": {},
   "outputs": [],
   "source": []
  },
  {
   "cell_type": "markdown",
   "metadata": {},
   "source": [
    "Get a flattened list from list of lists with values from:\n",
    "* 1st list are decreased by 1\n",
    "* 2nd list are squared\n",
    "* 3rd list are the same"
   ]
  },
  {
   "cell_type": "code",
   "execution_count": null,
   "metadata": {},
   "outputs": [],
   "source": [
    "[0,1,2,1,4,'yes','no']"
   ]
  },
  {
   "cell_type": "code",
   "execution_count": 171,
   "metadata": {},
   "outputs": [
    {
     "data": {
      "text/plain": [
       "[0, 1, 2, 1, 4, 'yes', 'no']"
      ]
     },
     "execution_count": 171,
     "metadata": {},
     "output_type": "execute_result"
    }
   ],
   "source": [
    "lst = []\n",
    "for i in list_lists :\n",
    "    for j in i :\n",
    "        if list_lists.index(i) == 0 :\n",
    "            lst.append(j-1)\n",
    "        elif list_lists.index(i) == 1 :\n",
    "            lst.append(j**2)\n",
    "        else :\n",
    "            lst.append(j)\n",
    "lst"
   ]
  },
  {
   "cell_type": "code",
   "execution_count": 172,
   "metadata": {},
   "outputs": [
    {
     "name": "stdout",
     "output_type": "stream",
     "text": [
      "[0, 1, 2, 1, 4, 'yes', 'no']\n"
     ]
    }
   ],
   "source": [
    "list_lists = [[1,2,3],[1,2],['yes', 'no']]\n",
    "i = 0 \n",
    "while i < len(list_lists[0]):\n",
    "    list_lists[0][i] = list_lists[0][i] - 1\n",
    "    i += 1\n",
    "i = 0 \n",
    "while i < len(list_lists[1]):\n",
    "    list_lists[1][i] = list_lists[1][i] ** 2\n",
    "    i += 1\n",
    "print([item for sublist in list_lists for item in sublist])"
   ]
  },
  {
   "cell_type": "code",
   "execution_count": 176,
   "metadata": {},
   "outputs": [
    {
     "name": "stdout",
     "output_type": "stream",
     "text": [
      "0 [0, 1, 2]\n",
      "1 [1, 4]\n",
      "2 ['yes', 'no']\n"
     ]
    }
   ],
   "source": [
    "lst2=[]\n",
    "for i,j in enumerate(list_lists):\n",
    "    print(i,j)"
   ]
  },
  {
   "cell_type": "code",
   "execution_count": 183,
   "metadata": {},
   "outputs": [],
   "source": [
    "lst2=[]\n",
    "\n",
    "for i,j in enumerate(list_lists):  #i is index, j is list\n",
    "    for k in j:                    #k is value\n",
    "        if i==0:\n",
    "            lst2.append(k-1)\n",
    "        elif i==1:\n",
    "            lst2.append(k**2)\n",
    "        else:\n",
    "            lst2.append(k)"
   ]
  },
  {
   "cell_type": "code",
   "execution_count": 184,
   "metadata": {},
   "outputs": [
    {
     "data": {
      "text/plain": [
       "[0, 1, 2, 1, 4, 'yes', 'no']"
      ]
     },
     "execution_count": 184,
     "metadata": {},
     "output_type": "execute_result"
    }
   ],
   "source": [
    "lst2"
   ]
  },
  {
   "cell_type": "markdown",
   "metadata": {},
   "source": [
    "```python\n",
    "[item if condition else another_item for item in iterable]\n",
    "```"
   ]
  },
  {
   "cell_type": "code",
   "execution_count": 186,
   "metadata": {},
   "outputs": [
    {
     "data": {
      "text/plain": [
       "[0, 1, 2, 1, 4, 'yes', 'no']"
      ]
     },
     "execution_count": 186,
     "metadata": {},
     "output_type": "execute_result"
    }
   ],
   "source": [
    "[k-1 if i==0 else k**2 if i==1 else k \n",
    "                         for i,j in enumerate(list_lists) for k in j]"
   ]
  },
  {
   "cell_type": "markdown",
   "metadata": {},
   "source": [
    "List of unique values"
   ]
  },
  {
   "cell_type": "code",
   "execution_count": 189,
   "metadata": {},
   "outputs": [
    {
     "data": {
      "text/plain": [
       "[1, 2, 3, 'no', 'yes']"
      ]
     },
     "execution_count": 189,
     "metadata": {},
     "output_type": "execute_result"
    }
   ],
   "source": [
    "list(set([j for i in list_lists for j in i]))"
   ]
  },
  {
   "cell_type": "code",
   "execution_count": 191,
   "metadata": {},
   "outputs": [
    {
     "data": {
      "text/plain": [
       "[1, 2, 3, 'no', 'yes']"
      ]
     },
     "execution_count": 191,
     "metadata": {},
     "output_type": "execute_result"
    }
   ],
   "source": [
    "list({j for i in list_lists for j in i})"
   ]
  },
  {
   "cell_type": "code",
   "execution_count": 192,
   "metadata": {},
   "outputs": [
    {
     "data": {
      "text/plain": [
       "<generator object <genexpr> at 0x7fbdcac7b3d0>"
      ]
     },
     "execution_count": 192,
     "metadata": {},
     "output_type": "execute_result"
    }
   ],
   "source": [
    "(j for i in list_lists for j in i)"
   ]
  },
  {
   "cell_type": "code",
   "execution_count": 196,
   "metadata": {},
   "outputs": [
    {
     "data": {
      "text/plain": [
       "(1, 2, 3, 1, 2, 'yes', 'no')"
      ]
     },
     "execution_count": 196,
     "metadata": {},
     "output_type": "execute_result"
    }
   ],
   "source": [
    "tuple(j for i in list_lists for j in i)"
   ]
  },
  {
   "cell_type": "markdown",
   "metadata": {},
   "source": [
    "Frequency of each value in my list of lists"
   ]
  },
  {
   "cell_type": "code",
   "execution_count": 197,
   "metadata": {},
   "outputs": [],
   "source": [
    "lst2=[j for i in list_lists for j in i]"
   ]
  },
  {
   "cell_type": "code",
   "execution_count": 198,
   "metadata": {},
   "outputs": [
    {
     "data": {
      "text/plain": [
       "[1, 2, 3, 1, 2, 'yes', 'no']"
      ]
     },
     "execution_count": 198,
     "metadata": {},
     "output_type": "execute_result"
    }
   ],
   "source": [
    "lst2"
   ]
  },
  {
   "cell_type": "code",
   "execution_count": 199,
   "metadata": {},
   "outputs": [
    {
     "data": {
      "text/plain": [
       "0"
      ]
     },
     "execution_count": 199,
     "metadata": {},
     "output_type": "execute_result"
    }
   ],
   "source": [
    "lst2.count(0)"
   ]
  },
  {
   "cell_type": "code",
   "execution_count": 200,
   "metadata": {},
   "outputs": [
    {
     "data": {
      "text/plain": [
       "2"
      ]
     },
     "execution_count": 200,
     "metadata": {},
     "output_type": "execute_result"
    }
   ],
   "source": [
    "lst2.count(1)"
   ]
  },
  {
   "cell_type": "code",
   "execution_count": 201,
   "metadata": {},
   "outputs": [
    {
     "name": "stdout",
     "output_type": "stream",
     "text": [
      "1 2\n",
      "2 2\n",
      "3 1\n",
      "1 2\n",
      "2 2\n",
      "yes 1\n",
      "no 1\n"
     ]
    }
   ],
   "source": [
    "for i in lst2:\n",
    "    print(i, lst2.count(i))"
   ]
  },
  {
   "cell_type": "code",
   "execution_count": 202,
   "metadata": {},
   "outputs": [
    {
     "name": "stdout",
     "output_type": "stream",
     "text": [
      "1 2\n",
      "2 2\n",
      "3 1\n",
      "no 1\n",
      "yes 1\n"
     ]
    }
   ],
   "source": [
    "for i in set(lst2):\n",
    "    print(i, lst2.count(i))"
   ]
  },
  {
   "cell_type": "code",
   "execution_count": 206,
   "metadata": {},
   "outputs": [
    {
     "data": {
      "text/plain": [
       "[(1, 2), (2, 2), (3, 1), ('no', 1), ('yes', 1)]"
      ]
     },
     "execution_count": 206,
     "metadata": {},
     "output_type": "execute_result"
    }
   ],
   "source": [
    "[(i,lst2.count(i)) for i in set(lst2)]"
   ]
  },
  {
   "cell_type": "code",
   "execution_count": 207,
   "metadata": {},
   "outputs": [
    {
     "data": {
      "text/plain": [
       "[(1, 2), (2, 2), (3, 1), ('no', 1), ('yes', 1)]"
      ]
     },
     "execution_count": 207,
     "metadata": {},
     "output_type": "execute_result"
    }
   ],
   "source": [
    "[(i, lst2.count(i)) for i in set(lst2)]"
   ]
  },
  {
   "cell_type": "code",
   "execution_count": 208,
   "metadata": {},
   "outputs": [],
   "source": [
    "lst3=[]\n",
    "for i in  set(lst2):\n",
    "    tup=(i, lst2.count(i))\n",
    "    lst3.append(tup)"
   ]
  },
  {
   "cell_type": "code",
   "execution_count": 213,
   "metadata": {},
   "outputs": [
    {
     "data": {
      "text/plain": [
       "[(1, 2), (2, 2), (3, 1), ('no', 1), ('yes', 1)]"
      ]
     },
     "execution_count": 213,
     "metadata": {},
     "output_type": "execute_result"
    }
   ],
   "source": [
    "[(i, lst2.count(i)) for i in set(lst2)]"
   ]
  },
  {
   "cell_type": "code",
   "execution_count": 214,
   "metadata": {},
   "outputs": [
    {
     "data": {
      "text/plain": [
       "{1: 2, 2: 2, 3: 1, 'no': 1, 'yes': 1}"
      ]
     },
     "execution_count": 214,
     "metadata": {},
     "output_type": "execute_result"
    }
   ],
   "source": [
    "dict([(i, lst2.count(i)) for i in set(lst2)])"
   ]
  },
  {
   "cell_type": "markdown",
   "metadata": {},
   "source": [
    "``` python\n",
    "# dictionary case\n",
    "{key:value for item in iterable}\n",
    "```"
   ]
  },
  {
   "cell_type": "code",
   "execution_count": 215,
   "metadata": {},
   "outputs": [
    {
     "data": {
      "text/plain": [
       "{1: 2, 2: 2, 3: 1, 'no': 1, 'yes': 1}"
      ]
     },
     "execution_count": 215,
     "metadata": {},
     "output_type": "execute_result"
    }
   ],
   "source": [
    "{i:lst2.count(i) for i in set(lst2)}"
   ]
  },
  {
   "cell_type": "markdown",
   "metadata": {},
   "source": [
    "# Text analysis intro"
   ]
  },
  {
   "cell_type": "markdown",
   "metadata": {},
   "source": [
    "Count how many times each letter appeared in the song"
   ]
  },
  {
   "cell_type": "code",
   "execution_count": 216,
   "metadata": {},
   "outputs": [],
   "source": [
    "text=\"\"\"Is this the real life?\n",
    "Is this just fantasy?\n",
    "Caught in a landslide,\n",
    "No escape from reality.\n",
    "\n",
    "Open your eyes,\n",
    "Look up to the skies and see,\n",
    "I'm just a poor boy, I need no sympathy,\n",
    "Because I'm easy come, easy go,\n",
    "Little high, little low,\n",
    "Any way the wind blows doesn't really matter to me, to me.\n",
    "\n",
    "Mama, just killed a man,\n",
    "Put a gun against his head,\n",
    "Pulled my trigger, now he's dead.\n",
    "Mama, life had just begun,\n",
    "But now I've gone and thrown it all away.\n",
    "\n",
    "Mama, ooh,\n",
    "Didn't mean to make you cry,\n",
    "If I'm not back again this time tomorrow,\n",
    "Carry on, carry on as if nothing really matters.\n",
    "\n",
    "Too late, my time has come,\n",
    "Sends shivers down my spine,\n",
    "Body's aching all the time.\n",
    "Goodbye, everybody, I've got to go,\n",
    "Gotta leave you all behind and face the truth.\n",
    "\n",
    "Mama, ooh (Any way the wind blows),\n",
    "I don't want to die,\n",
    "I sometimes wish I'd never been born at all.\n",
    "\n",
    "I see a little silhouetto of a man,\n",
    "Scaramouche, Scaramouche, will you do the Fandango?\n",
    "Thunderbolt and lightning very, very frightening me.\n",
    "(Galileo) Galileo.\n",
    "(Galileo) Galileo,\n",
    "Galileo Figaro\n",
    "Magnifico-o-o-o-o.\n",
    "\n",
    "I'm just a poor boy, nobody loves me.\n",
    "He's just a poor boy from a poor family,\n",
    "Spare him his life from this monstrosity.\n",
    "\n",
    "Easy come, easy go, will you let me go?\n",
    "Bismillah! No, we will not let you go. (Let him go!)\n",
    "Bismillah! We will not let you go. (Let him go!)\n",
    "Bismillah! We will not let you go. (Let me go!)\n",
    "Will not let you go. (Let me go!)\n",
    "Never let you go (Never, never, never, never let me go)\n",
    "Oh oh oh oh\n",
    "No, no, no, no, no, no, no\n",
    "Oh, mama mia, mama mia (Mama mia, let me go.)\n",
    "Beelzebub has a devil put aside for me, for me, for me.\n",
    "\n",
    "So you think you can stone me and spit in my eye?\n",
    "So you think you can love me and leave me to die?\n",
    "Oh, baby, can't do this to me, baby,\n",
    "Just gotta get out, just gotta get right outta here.\n",
    "\n",
    "(Ooooh, ooh yeah, ooh yeah)\n",
    "\n",
    "Nothing really matters,\n",
    "Anyone can see,\n",
    "Nothing really matters,\n",
    "Nothing really matters to me.\n",
    "\n",
    "Any way the wind blows...\"\"\""
   ]
  },
  {
   "cell_type": "code",
   "execution_count": 220,
   "metadata": {
    "collapsed": true
   },
   "outputs": [
    {
     "data": {
      "text/plain": [
       "{'-': 4,\n",
       " '.': 24,\n",
       " 'g': 49,\n",
       " 'h': 64,\n",
       " 'd': 38,\n",
       " 'r': 54,\n",
       " 'o': 158,\n",
       " 'z': 1,\n",
       " 'y': 60,\n",
       " 'j': 8,\n",
       " 'n': 90,\n",
       " 'k': 7,\n",
       " \"'\": 14,\n",
       " ',': 64,\n",
       " ')': 10,\n",
       " '(': 10,\n",
       " '?': 6,\n",
       " 'l': 91,\n",
       " 'u': 39,\n",
       " 'b': 28,\n",
       " 's': 70,\n",
       " 'f': 19,\n",
       " 'v': 17,\n",
       " 'w': 27,\n",
       " 'a': 124,\n",
       " 'm': 75,\n",
       " '!': 7,\n",
       " 'i': 97,\n",
       " '\\n': 68,\n",
       " 'e': 160,\n",
       " 't': 118,\n",
       " 'c': 21,\n",
       " ' ': 320,\n",
       " 'p': 14}"
      ]
     },
     "execution_count": 220,
     "metadata": {},
     "output_type": "execute_result"
    }
   ],
   "source": [
    "{i: text.lower().count(i) for i in set(text.lower())}"
   ]
  },
  {
   "cell_type": "markdown",
   "metadata": {},
   "source": [
    "# OS"
   ]
  },
  {
   "cell_type": "code",
   "execution_count": 221,
   "metadata": {},
   "outputs": [],
   "source": [
    "import os"
   ]
  },
  {
   "cell_type": "code",
   "execution_count": 222,
   "metadata": {},
   "outputs": [
    {
     "data": {
      "text/plain": [
       "'/home/mauritian/Documents/Nov_2020'"
      ]
     },
     "execution_count": 222,
     "metadata": {},
     "output_type": "execute_result"
    }
   ],
   "source": [
    "os.getcwd() #get current working directory"
   ]
  },
  {
   "cell_type": "code",
   "execution_count": 223,
   "metadata": {},
   "outputs": [],
   "source": [
    "os.chdir('/home/mauritian/Documents/GitHub/data-ft-par-labs/Labs/data')#change directory"
   ]
  },
  {
   "cell_type": "code",
   "execution_count": 224,
   "metadata": {},
   "outputs": [
    {
     "data": {
      "text/plain": [
       "'/home/mauritian/Documents/GitHub/data-ft-par-labs/Labs/data'"
      ]
     },
     "execution_count": 224,
     "metadata": {},
     "output_type": "execute_result"
    }
   ],
   "source": [
    "os.getcwd()"
   ]
  },
  {
   "cell_type": "code",
   "execution_count": 225,
   "metadata": {
    "collapsed": true
   },
   "outputs": [
    {
     "data": {
      "text/plain": [
       "['CDD.csv',\n",
       " 'Temp_states.csv',\n",
       " 'diamonds.csv',\n",
       " 'ages_population3.csv',\n",
       " 'Orders.csv',\n",
       " 'ages_population.csv',\n",
       " 'roll_the_dice_thousand.csv',\n",
       " 'Employees.csv',\n",
       " 'churn.csv',\n",
       " 'nfl_football_team_stats.csv',\n",
       " 'vehicles.csv',\n",
       " 'Online Retail.xlsx',\n",
       " 'countries-of-the-world.csv',\n",
       " 'Warehouse_and_Retail_Sales.csv',\n",
       " 'austin_weather.csv',\n",
       " 'Customer-Churn.csv',\n",
       " 'dailyActivity_merged.csv',\n",
       " 'Admission_Predict.csv',\n",
       " 'online-retail.xlsx',\n",
       " 'animals.csv',\n",
       " 'vehicles_messy.csv',\n",
       " 'roll_the_dice_hundred.csv',\n",
       " 'ages_population2.csv',\n",
       " 'pollution.xlsx',\n",
       " 'AppleStore.csv',\n",
       " 'liquor_store_sales.csv',\n",
       " 'student.zip',\n",
       " 'Pokemon.csv',\n",
       " 'pollution.csv']"
      ]
     },
     "execution_count": 225,
     "metadata": {},
     "output_type": "execute_result"
    }
   ],
   "source": [
    "os.listdir()# list all the files in the directory"
   ]
  },
  {
   "cell_type": "code",
   "execution_count": 232,
   "metadata": {},
   "outputs": [
    {
     "data": {
      "text/plain": [
       "['CDD.csv',\n",
       " 'Temp_states.csv',\n",
       " 'diamonds.csv',\n",
       " 'ages_population3.csv',\n",
       " 'Orders.csv',\n",
       " 'ages_population.csv',\n",
       " 'roll_the_dice_thousand.csv',\n",
       " 'Employees.csv',\n",
       " 'churn.csv',\n",
       " 'nfl_football_team_stats.csv',\n",
       " 'vehicles.csv',\n",
       " 'countries-of-the-world.csv',\n",
       " 'Warehouse_and_Retail_Sales.csv',\n",
       " 'austin_weather.csv',\n",
       " 'Customer-Churn.csv',\n",
       " 'dailyActivity_merged.csv',\n",
       " 'Admission_Predict.csv',\n",
       " 'animals.csv',\n",
       " 'vehicles_messy.csv',\n",
       " 'roll_the_dice_hundred.csv',\n",
       " 'ages_population2.csv',\n",
       " 'AppleStore.csv',\n",
       " 'liquor_store_sales.csv',\n",
       " 'Pokemon.csv',\n",
       " 'pollution.csv']"
      ]
     },
     "execution_count": 232,
     "metadata": {},
     "output_type": "execute_result"
    }
   ],
   "source": [
    "[i for i in os.listdir() if i[-4:]=='.csv']"
   ]
  },
  {
   "cell_type": "code",
   "execution_count": 233,
   "metadata": {},
   "outputs": [],
   "source": [
    "l=[]\n",
    "with open('CDD.csv', 'r') as f:\n",
    "    l.append(f.readlines())"
   ]
  },
  {
   "cell_type": "code",
   "execution_count": 234,
   "metadata": {},
   "outputs": [
    {
     "data": {
      "text/plain": [
       "[['EVENT CATEGORY\\tEVENT GROUP\\tEVENT SUBGROUP\\tEVENT TYPE\\tPLACE\\tEVENT START DATE\\tCOMMENTS\\tFATALITIES\\tINJURED / INFECTED\\tEVACUATED\\tESTIMATED TOTAL COST\\tNORMALIZED TOTAL COST\\tEVENT END DATE\\tFEDERAL DFAA PAYMENTS\\tPROVINCIAL DFAA PAYMENTS\\tPROVINCIAL DEPARTMENT PAYMENTS\\tMUNICIPAL COSTS\\tOGD COSTS\\tINSURANCE PAYMENTS\\tNGO PAYMENTS\\tUTILITY - PEOPLE AFFECTED\\tMAGNITUDE\\n',\n",
       "  'Disaster\\tNatural\\tMeteorological - Hydrological\\tStorm - Unspecified / Other\\tChristmas Island NS\\t25/12/2016 12:00:00 AM\\tChristmas Island NS, December 25, 2016. Residents of Christmas Island were left without power on Christmas morning due to a strong windstorm that blew in early in the morning. There were 21 reported power outages in the region affecting 3,346 customers in total (approximately 10,038 individuals). Power outages were reported as early as 5 am, with more power outages occurring periodically throughout the day. Areas affected by the power outages included Beaver Cove, Barrachois, French Vale, Bramber, Digby, Port Hawkesbury, Lower Sackville, East River and Mill Cove. Wind warnings were in effect for Sydney Metro and Cape Bretton county. The strong winds brought rain resulting in some localized flooding. Debris from the wind accompanied by the rain created poor driving conditions throughout the province. Nearly all power was restored later in the evening.\\t\\t\\t\\t0\\t0\\t25/12/2016 12:00:00 AM\\t\\t\\t\\t\\t\\t\\t\\t10038\\t\\n',\n",
       "  'Disaster\\tNatural\\tMeteorological - Hydrological\\tWinter Storm\\tNova Scotia and Prince Edward Island\\t27/11/2016 12:00:00 AM\\tNova Scotia and Prince Edward Island, November 27-29, 2016. An early winter storm hit the Maritime provinces affecting Nova Scotia and Prince Edward Island on November 27. The storm dumped 15 cm of snow on the mainland of Nova Scotia and produced strong winds in Cape Breton. A mix of messy weather consisting of freezing rain, ice and snow created dangerous driving conditions. In Nova Scotia, the Canso Causeway was closed to high-sided vehicles and Highway 104 was closed in certain sections due to poor visibility. One transport truck over turned on the Seal Island Bridge in Cape Breton due to strong wind gusts of up to 110 km/h. In Nova Scotia 11,200 customers (approximately 33,600 individuals) lost power, while in P.E.I 12,000 customers (approximately 36,000 individuals) were without power. In P.E.I power remained out for some residents until November 29.\\t\\t\\t\\t0\\t0\\t29/11/2016 12:00:00 AM\\t\\t\\t\\t\\t\\t\\t\\t69000\\t\\n',\n",
       "  'Disaster\\tNatural\\tMeteorological - Hydrological\\tFlood\\tRed Earth First Nation SK\\t14/11/2016 12:00:00 AM\\tRed Earth First Nation SK, July 14-18, 2016. Heavy rain resulted in the flooding of the Carrot River in northern Saskatchewan. The community of Red Earth Cree Nation, located 75 kilometres east of Nipawin, declared a state of emergency and was forced to evacuate 576 residents. The majority of evacuees stayed in Saskatoon at the Henk Ruy’s Soccer Centre, while others stayed in hotels or with family. The communities of Carrot River and the rural municipalities of Moose Range and Arborfield also declared states of emergency but were less impacted by the flood.\\t\\t\\t576\\t0\\t0\\t18/11/2016 12:00:00 AM\\t\\t\\t\\t\\t\\t\\t\\t\\t\\n',\n",
       "  'Disaster\\tNatural\\tBiological\\tEpidemic\\tAlberta and Saskatchewan\\t26/10/2016 12:00:00 AM\\tAlberta and Saskatchewan, October 26 to December 21, 2016. In late September, the United States Department of Agriculture (USDA) discovered a case of bovine tuberculosis (TB) found in a cow from Alberta. The USDA then contacted the Canadian Food Inspection Agency (CFIA) whom initiated an investigation into the outbreak. The investigation found that one herd of cattle in Alberta was infected with TB. The one infected herd was located on 18 separate properties. Within the infected herd there were six confirmed cases of TB, including the cow that was slaughtered in the United states. The infection resulted in the quarantine of approximately 26,000 cattle from approximately 50 different properties in both Alberta and Saskatchewan. As a precaution, approximately 10,000 cattle were destroyed in order to stop the spread of the infection. The infection significantly impacted farmers in Alberta and Saskatchewan. The federal government of Canada offered to pay up to $16.7 million for ranchers who suffered agricultural loses due to the TB outbreak.\\t\\t\\t\\t16700000\\t780373.8\\t21/12/2016 12:00:00 AM\\t16700000\\t\\t\\t\\t\\t\\t\\t\\t\\n',\n",
       "  'Incident\\tTechnology\\tHazardous Chemicals\\tLeak / Spill Release\\tSeaforth Channel BC\\t13/10/2016 12:00:00 AM\\tSeaforth Channel BC, October 13, 2016. The articulated barge and tug, Nathan E. Stewart, ran aground near Bella Bella in the Seaforth Channel. The tug, which contained 215,000 litres of diesel, began taking on water resulting in the empty barge breaking free from the tug. The tug was partially submerged and two of its fuel tanks were breached causing fuel to leak into the waters off the coast of the Great Bear Rainforest. The barge and tug, which were owned by the U.S. company Kirby Offshore Marine, were travelling south from Alaska. On October 14, two aerial flights confirmed that the sheen had spread throughout the Gale passage. Protection and containment efforts consisted of absorbent booms that were deployed around the damaged tug and booming along the Gale Passage, which included the application of petroleum sorbent. A dive team partially repaired sections of the breached fuel tanks to reduce the leakage while workers attempted to pump out the remaining fuel inside. Clean up and salvage recovery efforts were hindered by bad weather. It was not until November 15 when the tug was finally lifted out of the water and taken to shore on a salvage barge. It is estimated that 108,000 litres of fuel and 2,240 litres of lubricants were spilled. Most impacted by the leak was the Heiltsuk First Nation who closed local clam fisheries due to environmental concerns.\\t\\t\\t\\t0\\t0\\t13/10/2016 12:00:00 AM\\t\\t\\t\\t\\t\\t\\t\\t\\t\\n',\n",
       "  'Disaster\\tNatural\\tMeteorological - Hydrological\\tStorm - Unspecified / Other\\tSouth Coast and Lower Mainland British Columbia\\t12/10/2016 12:00:00 AM\\tSouth Coast and Lower Mainland British Columbia, October 12-16, 2016. The remnants of Super Typhoon Songda hit British Columbia’s southern coast with a trio of fall storms. The first storm occurred on October 12 and pounded the coast with heavy rain before moving across the Lower Mainland early the next day. The storm brought 80 to 100 mm of rain to Howe Sound and Metro Vancouver. In North Vancouver, the heavy rain poured hard enough to down a tree, which damaged one residents home and a vehicle. The second and third storms arrived on October 14 and 15, which brought more strong wind and heavy rain to the region. A wind warning was issued for Greater Victoria, where there were wind gusts of up to 90 km/h. Powerful winds downed trees and power lines knocking out power to 75,000 B.C. Hydro customers (approximately 225,000 individuals) across Vancouver Island and the Lower Mainland. A fallen tree struck and killed a 15 year old by near Clayton Heights. In total, during the course of the three storms, there were 250 downed trees in Vancouver and 202 mm of rain had accumulated in North Vancouver.\\t1\\t\\t\\t0\\t0\\t16/10/2016 12:00:00 AM\\t\\t\\t\\t\\t\\t\\t\\t225000\\t\\n',\n",
       "  'Disaster\\tNatural\\tMeteorological - Hydrological\\tFlood\\tNova Scotia, Prince Edward Island and Newfoundland\\t09/10/2016 12:00:00 AM\\tNova Scotia, Prince Edward Island and Newfoundland, October 9-13, 2016. Atlantic Canada was hit with heavy rain as a result of the remnants of Hurricane Matthew. Wind and heavy rainfall warnings were in affect from October 10 to 11 for northeastern Nova Scotia and Newfoundland. On October 10, 150 mm of rain fell on Newfoundland. The town of Burgeo alone received 120 mm of rain, which caused the closure of Highway 480. St-Alban’s declared a state of emergency due to various road closures including the Swanger’s Cove Bridge on route 361, which was reported to have been damaged and was deemed unusable by the Newfoundland Public Safety Regional Office. Road closures in St-Alban’s resulted in the isolation of numerous homes. In Nova Scotia, over 220 mm of rain was reported across the province. The J.A. Douglas McCurdy Sydney Airport was forced to close all runways. Cape Breton was hard hit by the heavy rain, which resulted in property damage to approximately 300 homes. Most severely impacted was Eskasoni First Nation where 100 homes were flooded and an undetermined number of people evacuated due to high water levels. On October 11, there were 16 states of emergency in Newfoundland where Bager and Gander received 131 mm and 124 mm of rain. While there no states of emergency declared in Nova Scotia, NS Power reported that approximately 130,000 customers (390,000 individuals) had experienced power outages. Prince Edward Island received 73 mm of rain, which left approximately 600 residents without power. Ferries in Nova Scotia and Newfoundland were closed due to eight-metre high waves caused by the storm. The Canadian Armed Forces assisted with sandbagging efforts as water levels continued to rise until October 12. It was not until October 13 when water levels began to drop in certain areas, however in Newfoundland water levels remained at a record high. Power was restored to all customers in Nova Scotia and Prince Edward Island by October 13.\\t\\t\\t\\t30350000\\t1418224.3\\t13/10/2016 12:00:00 AM\\t30350000\\t\\t\\t\\t\\t\\t\\t390600\\t\\n',\n",
       "  'Disaster\\tNatural\\tMeteorological - Hydrological\\tStorm - Unspecified / Other\\tSouth Coast and Lower Mainland British Columbia\\t06/10/2016 12:00:00 AM\\tSouth Coast and Lower Mainland British Columbia, October 6-8, 2016. Strong winds gusting up to 117 km/h battered eastern Vancouver Island, the Sunshine Coast and the Lower Mainland. On October 6, Vancouver reported wind gusts of 56 km/h, Victoria 36 km/h, and Sisters Island as well as Trail Island both recorded wind gusts of 117 km/h. Severe winds downed trees and power lines, which knocked out power to 100,000 B.C. Hydro customers (approximately 300,000 individuals). In eastern Victoria Island 29,000 people lost power over night. The most severely impacted area was Courtenay where 12,000 people were without power. At the peak of the storm, 45,000 people lost power throughout the province. By October 8, 13,000 people were still without power and strong winds continued to affect parts of the province.\\t\\t\\t\\t0\\t0\\t08/10/2016 12:00:00 AM\\t\\t\\t\\t\\t\\t\\t\\t300000\\t\\n',\n",
       "  'Disaster\\tNatural\\tMeteorological - Hydrological\\tFlood\\tWindsor and Tecumseh ON\\t29/09/2016 12:00:00 AM\\tWindsor and Tecumsech ON, September 29, 2016. States of emergency were declared in Windsor and Tecumsech after the region was hit with intense storms that produced significant flooding. The Windsor Airport recorded 78 mm of rain within a 24-hour period, while another gauge in the city’s east end measured 106 mm and the town of Tecumsech received up to 190 mm. In both municipalities, the heavy rain resulted in hundreds of flooded basements. Cars were abandoned in flooded streets and many roads were closed.\\t\\t\\t\\t0\\t0\\t29/09/2016 12:00:00 AM\\t\\t\\t\\t\\t\\t\\t\\t\\t\\n',\n",
       "  'Disaster\\tNatural\\tMeteorological - Hydrological\\tWildfire\\tWest Kelowna BC\\t21/08/2016 12:00:00 AM\\tWest Kelowna BC, August 21-25, 2016. A wildfire broke out on the evening of August 21, near Bear Creek Provincial Park located north of West Kelowna. The Central Okanagan Regional District ordered an evacuation of 156 homes (approximately 468 individuals). In addition, campers from the Bear Creek Provincial Park were also evacuated. Firefighting crews quickly gained control of the blaze, which was 52 hectares in size and 60 per cent contained by August 22. Evacuation orders were lifted for 51 homes and campers were temporarily allowed into their campsites to remove possessions, vehicles and trailers on August 22. The wildfire was 100 per cent contained by January 25.\\t\\t\\t468\\t0\\t0\\t25/08/2016 12:00:00 AM\\t\\t\\t\\t\\t\\t\\t\\t\\t\\n',\n",
       "  'Incident\\tTechnology\\tHazardous Chemicals\\tLeak / Spill Release\\tWinnipeg MB\\t04/08/2016 12:00:00 AM\\tWinnipeg MB, August 4, 2016. A natural gas leak in Winnipeg prompted the evacuation of approximately 200 people. The leak was caused by a contractor who accidently severed a gas line at a construction site in the intersection of Keewatin Street and Paramount Road. In total, 122 homes and two businesses were temporarily evacuated, but residents were allowed to return later that day.\\t\\t\\t200\\t0\\t0\\t04/08/2016 12:00:00 AM\\t\\t\\t\\t\\t\\t\\t\\t\\t\\n',\n",
       "  'Disaster\\tNatural\\tMeteorological - Hydrological\\tFlood\\tFort McMurray AB\\t30/07/2016 12:00:00 AM\\tFort McMurray AB, July 30-31 2016. Only weeks after the devastating wildfire that swept through the Regional Municipality of Wood Buffalo, the city of Fort McMurray was struck by a flash flood, which caused damages to personal property as well as disrupted local traffic and recovery efforts. On July 31, Fort McMurray received up to 85 mm of rain, which caused significant damages to approximately 41 homes. The flood occurred at a time when Fort McMurray was undergoing recovery efforts in response to the May wildfires that caused the evacuation of the entire city. The flash flood also caused road closures and knocked out power to traffic lights.\\t\\t\\t\\t0\\t0\\t31/07/2016 12:00:00 AM\\t\\t\\t\\t\\t\\t\\t\\t\\t\\n',\n",
       "  'Incident\\tTechnology\\tHazardous Chemicals\\tLeak / Spill Release\\tNorth Saskatchewan River SK\\t21/07/2016 12:00:00 AM\\tNorth Saskatchewan River SK, July 21, 2016. A pipeline from Husky Energy Inc. ruptured spilling up to 250,000 litres of oil mixed with diluent into the North Saskatchewan River. Signs of the leak were first detected on July 20, however after an initial inspection crews reported that no leak was found. The next day the pipeline was shut off as a precaution, after a few hours oil was spotted in the river and an emergency response team was dispatched. The leak that spread hundreds of kilometres downstream contaminated the waterways of the North Saskatchewan River, which is the primary water source for many communities. On July 23 and 25, the contaminated water reached North Battleford and Prince Albert, where a state of emergency was declared, causing both communities to shut off their water supply intake. In addition, the city of Melfort and the town of Star City were put on a boil-water advisory. Multiple First Nation communities were affected including Muskaday First Nation, which declared a state of local emergency on July 27. As of July 29, oil ceased to be released from the source site and the spill was 40-50 per cent recovered. The spill caused severe environmental damages and clean-up efforts ran the risk of disrupting approximately 3000 archaeological sites located along the waterways.\\t\\t\\t\\t0\\t0\\t21/07/2016 12:00:00 AM\\t\\t\\t\\t\\t\\t\\t\\t\\t\\n',\n",
       "  'Disaster\\tNatural\\tMeteorological - Hydrological\\tTornado\\tLong Plain First Nation MB\\t20/07/2016 12:00:00 AM\\tLong Plain First Nation MB, July 20, 2016. An EF1 tornado touch downed in the community of Long Plain First Nation leaving a trail of destruction. The tornado that resulted from the upper-level low system that swept across the prairies uprooted trees and caused extensive property damage. In total, the tornado severely damaged 57 homes, while another 150 homes sustained moderate damages. In addition, the tornado caused damages to the Dakota Ojibway Police Service’s communications equipment. Approximately 600 residents were displaced from their homes and relocated to Winnipeg where they stayed in emergency accommodations. The storm system that accompanied the tornado downed hydro lines and poles, resulting in power outages. Over 18,000 Hydro customers (approximately 54,000 individuals) in Manitoba were without power. In Long Plain and surrounding areas, roughly 6,500 Hydro customers (approximately 19,500 individuals) lost power.\\t\\t\\t600\\t0\\t0\\t20/07/2016 12:00:00 AM\\t\\t\\t\\t\\t\\t\\t\\t54000\\t\\n',\n",
       "  'Disaster\\tNatural\\tMeteorological - Hydrological\\tStorms and Severe Thunderstorms\\tPrairie Provinces\\t18/07/2016 12:00:00 AM\\tPrairie Provinces, July 18-20, 2016. Southern regions of the Prairie provinces were overwhelmed by severe storms after weeks of bad weather. A storm system entered northward into southern Alberta where isolated thunderstorms developed along the Alberta foothills. On June 18, the storm eventually grew larger impacting Calgary, Medicine Hat and Dunmore with hail, heavy rain and strong winds as well as tornado warnings. On June 19, the storm system moved across Saskatchewan and Manitoba producing hail and prompting even more tornado warnings. In Saskatchewan, near softball sized hail pelted Stewart Valley and Davison, where a tornado briefly touched down resulting in minimal damages. Parts of southern Manitoba received less severe hail, however a more severe tornado touched down in Long Plain First Nation where there was extensive damages.\\t\\t\\t\\t0\\t0\\t20/07/2016 12:00:00 AM\\t\\t\\t\\t\\t\\t\\t\\t\\t\\n',\n",
       "  'Disaster\\tNatural\\tMeteorological - Hydrological\\tStorms and Severe Thunderstorms\\tAlberta and Saskatchewan\\t15/07/2016 12:00:00 AM\\tAlberta and Saskatchewan, July 15-16, 2016. A storm system caused hail, heavy rain and flash flooding in parts of southern Alberta and southern Saskatchewan. On July 15, Lethbridge, Alberta was impacted by hail, while Calgary and Arbour Lake experienced localized flooding. On July 16, a torrential down pour consisting of 60 mm of rain in less than one hour hit the town of Swift Current, Saskatchewan, which caused flash flooding. In Alberta the hail damaged the roofs of homes, broke windows and dented vehicles. In Swift Current, flash flooding overwhelmed the city’s storm water system, which resulted in flooded basements and submerged vehicles.\\t\\t\\t\\t0\\t0\\t16/07/2016 12:00:00 AM\\t\\t\\t\\t\\t\\t\\t\\t\\t\\n',\n",
       "  'Disaster\\tNatural\\tMeteorological - Hydrological\\tStorms and Severe Thunderstorms\\tPrairie Provinces\\t08/07/2016 12:00:00 AM\\tPrairie Provinces, July 8-11, 2016. Severe storms swept through the Prairies from July 8 to 11. On July 8, storms in Alberta impacted Edmonton, Calgary and Redwater where hail and heavy rain resulted in flash flooding. On July 10, the bad weather continued into Saskatchewan where 130 mm of rain fell causing significant flooding in Estevan prompting the declaration of a local state of emergency. There were also reports of numerous funnel clouds in Saskatchewan, including in Battleford and in Humboldt, where a small tornado briefly touched down for roughly 20 seconds. On July 11, the tail end of the storm system moved into Manitoba where some communities received up to 88.9 mm of rain, including Liyodminster, Yorktown, Humboldt and Watrous. The severe thunderstorms that swept through the Prairies resulted in property damage from hail and infrastructure damage from heavy rain, strong winds and lighting, including in Manitoba where wind gusts of over 100 km/h caused power outages due to fallen trees.\\t\\t\\t\\t0\\t0\\t11/07/2016 12:00:00 AM\\t\\t\\t\\t\\t\\t\\t\\t\\t\\n',\n",
       "  'Disaster\\tNatural\\tMeteorological - Hydrological\\tStorms and Severe Thunderstorms\\tSouthern Ontario\\t08/07/2016 12:00:00 AM\\tSouthern Ontario, July 8, 2016. A cold front produced severe thunderstorms across southern Ontario. Multiple severe storms caused hail to fall in Markdale and Flesherton before moving east into Midland and Bradford. Heavy rain, strong winds and lighting were experienced in London, Whitby and Ajax, where it rained over 35 mm. Strong wind gusts of over 100 km/h were reported in areas north of the Greater Toronto Area (GTA). The strong winds downed trees and power lines resulting in power outages that affected over 39,000 Hydro One customers (approximately 117,000 individuals). Additionally, hail caused significant crop damage to over 2000 acres of crop land in the Holland Marsh area.\\t\\t\\t\\t0\\t0\\t08/07/2016 12:00:00 AM\\t\\t\\t\\t\\t\\t\\t\\t117000\\t\\n',\n",
       "  'Disaster\\tNatural\\tMeteorological - Hydrological\\tWildfire\\tBurns Bog BC\\t03/07/2016 12:00:00 AM\\tBurns Bog BC, July 3-6, 2016. A wildfire 78 hectares in size burned in the Burns Bog Delta Nature Reserve, located near Surrey British Columbia. The fire prompted a local state of emergency due to its proximity to suburban residential streets and an industrial complex. Delta’s Tilbury Industrial Park, which is comprised of 25 commercial businesses, was evacuated on July 3 and workers were unable to return until July 6. A section of Highway 17, from Highway 99 to the Highway 91 connector, temporarily closed as the fire burned dangerously close to the road. Burns Bog is the largest raised peat bog and the largest undeveloped urban land mass in the North American west coast. Officials predict that it could take up to a century for the bog to be completely restored.\\t\\t\\t\\t0\\t0\\t06/07/2016 12:00:00 AM\\t\\t\\t\\t\\t\\t\\t\\t\\t\\n',\n",
       "  'Disaster\\tNatural\\tMeteorological - Hydrological\\tStorms and Severe Thunderstorms\\tPrairie Provinces\\t28/06/2016 12:00:00 AM\\tPrairie Provinces, June 28-30, 2016. Multiple thunderstorms hit Alberta, Saskatchewan and Manitoba as a warm front moved into the prairies. On June 28, severe thunderstorms formed in Alberta, where Okotoks received 30 cm of hail, Edmonton received up to 75 mm of rain and Calgary was hit by strong winds and lighting that caused trees and two houses to catch fire. On June 29, the storm began to move into southern Saskatchewan and southern Manitoba where hail and heavy rain accompanied by strong winds caused localized flooding. Alberta experienced more bad weather on June 30, where Calgary was impacted by hail, Taber and Strathmore experienced flooding and an EF0 tornado touched down in Ponoka.\\t\\t\\t\\t0\\t0\\t30/06/2016 12:00:00 AM\\t\\t\\t\\t\\t\\t\\t\\t\\t\\n',\n",
       "  'Disaster\\tNatural\\tMeteorological - Hydrological\\tFlood\\tKenora ON\\t27/06/2016 12:00:00 AM\\tKenora ON, June 27-28, 2016. Two states of emergency were declared in Kenora due to flooding that resulted in over 20 roads experiencing moderate to extensive damages. On June 27, the first state of emergency was declared after Kenora received more than 109 mm of rain over a two-day period. The main road into the city, Veterans Drive, was completely washed out and subsequently closed. A second state of emergency was declared on June 28.\\t\\t\\t\\t0\\t0\\t28/06/2016 12:00:00 AM\\t\\t\\t\\t\\t\\t\\t\\t\\t\\n',\n",
       "  'Disaster\\tNatural\\tMeteorological - Hydrological\\tStorms and Severe Thunderstorms\\tAlberta, Saskatchewan, Manitoba and Ontario\\t24/06/2016 12:00:00 AM\\tAlberta, Saskatchewan, Manitoba and Ontario, June 24-25, 2016. A large storm system caused bad weather throughout the Prairies and parts of northern Ontario. On June 24, widespread and severe thunderstorms caused heavy rain, strong winds, hail and lighting in southern Saskatchewan, while southern Manitoba experienced hail, wind gusts of up to 124 km/h and up to 138 mm of rain. In parts of southern Saskatchewan and Manitoba powerful winds uprooted trees and downed power lines, while flooding caused damages to roads, homes and businesses. In Manitoba, a voluntary evacuation was issued for the communities of Caddy Lake and Whiteshell due to flooding. On June 25, the storm system moved into northern Ontario where it caused significant flooding in Thunder Bay, which received 50 mm of rain in three hours.\\t\\t\\t\\t0\\t0\\t25/06/2016 12:00:00 AM\\t\\t\\t\\t\\t\\t\\t\\t\\t\\n',\n",
       "  'Disaster\\tNatural\\tMeteorological - Hydrological\\tWildfire\\tEasterville and Chemawawin MB\\t23/06/2016 12:00:00 AM\\tEasterville and Chemanwawin MB, June 23-27, 2016. Evacuation orders were issued for the communities of Easterville and Chemanwawin Cree Nation, located 450 kilometres north of Winnipeg, due to smoke and the threat of a wildfire that came within half a kilometre of the two communities. There were three fires burning in the area at the time. The fire closest to Easterville and Chemanwawin reached a peak size of 350 hectares. Two water bombers, four bulldozers and seven ground crews kept the fire from reaching the communities. Approximately 2000 people from Chemawawin were evacuated and brought to Winnipeg and approximately 70 people from Easterville were evacuated and brought to The Pas. The Canadian Red Cross along with the help of the Indigenous and Municipal Relations (IMR) assisted with the coordination of the evacuation.\\t\\t\\t2070\\t0\\t0\\t27/06/2016 12:00:00 AM\\t\\t\\t\\t\\t\\t\\t\\t\\t\\n',\n",
       "  'Disaster\\tNatural\\tMeteorological - Hydrological\\tFlood\\tNortheastern British Columbia\\t15/06/2016 12:00:00 AM\\tNortheastern British Columbia, June 15-17, 2016. Heavy rainfall throughout the Peace River region in northeastern British Columbia caused flooding in several communities. The district of Chetwynd declared a local state of emergency on June 15 after Chetwynd had received a total of 134.8 mm of rain over a two-day period. A section of Highway 97, the only route that connects the region of Peace River to the rest of the province, was closed due to flooding. The hardest hit by the flooding was the city of Dawson Creek where up to 98.6 mm of rain fell over a two-day period. In Dawson Creek, 60 people evacuated their homes due to flood waters that damaged approximately 400 homes, destroyed one bridge and submerged two others. The flooding in Dawson Creek cut the city in half, leaving residents in the south end of the city without power as well as separating the hospital from the fire hall, which created a challenge for emergency responders. In total, over 2000 homes and businesses (approximately 6000 individuals) were without power throughout the Peace River region as of June 15.\\t\\t\\t60\\t65132000\\t3043551.4\\t17/06/2016 12:00:00 AM\\t65132000\\t\\t\\t\\t\\t\\t\\t6000\\t\\n',\n",
       "  'Disaster\\tNatural\\tMeteorological - Hydrological\\tWildfire\\tFort McMurray AB\\t30/04/2016 12:00:00 AM\\tFort McMurray AB, April 30 to June 1, 2016. In May 2016, wildfires broke out in northern Alberta resulting in the most expensive natural disaster in the history of Canada. The city of Fort McMurray, located in the heart of the Athabasca oil sands, was hit by a massive system of wildfires that swept through the Regional Municipality of Wood Buffalo. The first wildfire was discovered on April 30, north of Fort McMurray. The Regional Municipality declared a local state of emergency and a mandatory evacuation order for Centennial Park on May 1 as well as another evacuation order for Prairie Creek and Centennial Trailer Park on May 2. The Fort McMurray fire grew rapidly due to hot and dry weather conditions, doubling in size to 2,656 hectares in a manner of hours. On May 3, the wildfire intensified and crossed over Highway 63, cutting off the route to evacuees, prompting the Athabasca Chipewyan First Nation to declare a state of local emergency and a mandatory evacuation order for Fort McMurray’s Lower Townsite and downtown area, which included the communities of Gregoire, Beacon Hill, Abasand, Waterways, Draper, Saline Creek, Grayling Terrace, Thickwood, Wood Buffalo and Dickinsfield. Later in the day the entire city of Fort McMurray was under a mandatory evacuation order. During the evacuations two people were killed in a car crash. On May 4, the Alberta government declared a provincial state of emergency. The Fort McMurray fire quickly grew to 85,000 hectares as the wildfire spread further north and east eventually passing through Fort McMurray. Evacuees that fled north of Fort McMurray had to be air lifted to safety. Some evacuees were taken to Lac La Biche, while the majority where sent to Edmonton and Calgary. On May 10, two of the main Fort McMurray fires joined together and formed a massive blaze of 229,000 hectares. On May 16, all workers in work camps and oil sand operations north of Fort McMurray were forced to move south as the wildfire spread further north. Residents of Fort McMurray were allowed to return home on June 1. In total, the Fort McMurray fires burned approximately 579,767 hectares of land causing the evacuation of over 90,000 people and destroyed 2,400 homes and business, including 530 other buildings that were damaged. At its peak, there were over 2000 firefighters working the fires daily, including helicopters and water bombers. In addition, firefighters received help from 200 firefighters from the United States, 60 from Mexico and 298 from South Africa. Firefighters and emergency response personnel received help from the Canadian Red Cross who assisted with evacuation efforts.\\t2\\t\\t90000\\t4068678000\\t190125140.2\\t01/06/2016 12:00:00 AM\\t468678000\\t\\t\\t\\t\\t3600000000\\t\\t\\t\\n',\n",
       "  'Disaster\\tNatural\\tMeteorological - Hydrological\\tFlood\\tKashechewan First Nation ON\\t27/04/2016 12:00:00 AM\\tKashechewan First Nation ON, April 27-30, 2016. The chief of Kashechewan First Nation declared a state of emergency on April 27 due to annual spring ice break up, snowmelt and subsequent run off in the James Bay coast. In total, 1,207 residents out of the 1,600 residents who live in the northern Ontario reserve evacuated their homes in multiple stages of evacuations that took place from April 29-30. Evacuees were taken to Kapuskasing and Thunder bay.\\t\\t\\t1207\\t0\\t0\\t30/04/2016 12:00:00 AM\\t\\t\\t\\t\\t\\t\\t\\t\\t\\n',\n",
       "  'Disaster\\tNatural\\tMeteorological - Hydrological\\tWildfire\\tPaul First Nation AB\\t18/04/2016 12:00:00 AM\\tPaul First Nation, AB, April 18-21, 2016. A state of emergency was issued for the Paul First Nation community located on Lake Wabumun, 70 km west of Edmonton. A large wildfire burned dangerously close to the community threatening 21 homes in the northeast corner of the reserve. The wildfire that destroyed one home forced the evacuation of 164 people outside the community of 1,100 residents. Wildfires burning around Edmonton destroyed two homes, injured two firefighters and destroyed one fire truck.\\t\\t2\\t164\\t0\\t0\\t21/04/2016 12:00:00 AM\\t\\t\\t\\t\\t\\t\\t\\t\\t\\n',\n",
       "  'Disaster\\tNatural\\tMeteorological - Hydrological\\tStorms and Severe Thunderstorms\\tNova Scotia\\t05/04/2016 12:00:00 AM\\tNova Scotia, April 5, 2016. Several powers outages stretching from Annapolis Valley to Cape Breton resulted in up to 11,000 homes and businesses (approximately 33,000 individuals) being without power. The power outages were caused by strong winds and heavy rain that pushed trees onto power lines. The impacted areas included Coldbrook, Tatamagouche, Antigonish and Cheticamp. Many schools and businesses were closed due to the power outages and the Tancook Island Ferry service was shut down temporarily because of strong winds.\\t\\t\\t\\t0\\t0\\t05/04/2016 12:00:00 AM\\t\\t\\t\\t\\t\\t\\t\\t33000\\t\\n',\n",
       "  'Incident\\tTechnology\\tFire\\tResidential\\tPikangikum First Nation ON\\t29/03/2016 12:00:00 AM\\tPikangikum First Nation ON, March 29, 2016. A residential fire in the remote northwestern Ontario community of Pikangikum First Nation, killed a total of nine people. All of the victims were family members and died from smoke inhalation. A five month old baby, a two year old and a four year old were the youngest of the victims. The cause of the fire is unknown.\\t9\\t\\t\\t0\\t0\\t29/03/2016 12:00:00 AM\\t\\t\\t\\t\\t\\t\\t\\t\\t\\n',\n",
       "  'Disaster\\tNatural\\tGeological\\tLandslide\\tHorton ON\\t28/03/2016 12:00:00 AM\\tHorton ON, March 28-29, 2016. A 10 hectare landslide in the township of Horton slid into the Bonnechere River near Renfrew Ontario. The landslide congested the river with trees and debris causing a blockage, which resulted in flooding of up to seven metres. The flood water destroyed a cottage and a hunting camp as well as caused damage to the Renfrew Sewage Plant and Hydroelectric Plant.\\t\\t\\t\\t0\\t0\\t29/03/2016 12:00:00 AM\\t\\t\\t\\t\\t\\t\\t\\t\\t\\n',\n",
       "  'Disaster\\tNatural\\tMeteorological - Hydrological\\tWinter Storm\\tSouthern Ontario\\t23/03/2016 12:00:00 AM\\tSouthern Ontario, March 23-26, 2016. A warm front over southern Ontario caused snow, rain and freezing rain to fall over a three-day period. The wet weather began as snow for many regions in the Greater Toronto Area (GTA), and then briefly turned into rain before freezing rain occurred overnight. On March 24, freezing rain impacted regions west of Toronto and the GTA. Highly elevated areas including the Niagara escarpment, Dundalk Highlands and parts of the GTA received 24 hours of freezing rain. Freezing rain occurred throughout southern Ontario until March 26, leaving several communities with significant ice accumulation including 35 mm in Fergus, 33 mm in Orangeville, 20 mm Brampton and Newmarket as well as 10 mm north of Barrie and Toronto. The freezing rain caused damages to personal property and municipal infrastructure due to the significant ice buildup. Downed trees destroyed power lines and caused damages to homes, outbuildings and vehicles. Approximately 100,000 hydro customers (300,000 individuals) were without power during the storm. Additionally, the storm caused the cancelation of in-going and out-going flights at the Toronto Pearson International Airport and Billy Bishop Toronto City Airport as well as resulted in the closure and cancelation of schools and municipal busses.\\t\\t\\t\\t0\\t0\\t26/03/2016 12:00:00 AM\\t\\t\\t\\t\\t\\t\\t\\t300000\\t\\n',\n",
       "  'Disaster\\tNatural\\tMeteorological - Hydrological\\tStorm - Unspecified / Other\\tSouth Coast and Lower Mainland British Columbia\\t09/03/2016 12:00:00 AM\\tSouth Coast and Lower Mainland British Columbia, March 9-10, 2016. A storm system off the coast of British Columbia generated a windstorm that impacted Vancouver Island, the southwest coast and the lower mainland. The storm produced up to 100 mm of rain and wind gusts of over 100 km/h in some parts. Heavy rainfall caused localized flooding in Comox Valley, Port Mellon and Port Alberni as well as caused a mudslide in Cowichan Valley. Strong winds and high tide contributed towards a storm surge that accompanied the storm, causing coastal flooding in Delta, Richmond and White Rock. The strong winds were attributed for causing the most significant damages including fallen trees that downed power lines, resulting in 160,000 BC Hydro customer (approximately 480,000 individuals) being without power. Due to the power outages, 11 schools in Surrey, five in Abbotsford and five in Mission were closed. The powerful winds also damaged roofs, broke windows and even flipped over a Cessna aircraft. In addition, one individual in Port Moody was killed when a tree crashed through the roof of her home while she was inside.\\t1\\t\\t\\t0\\t0\\t10/03/2016 12:00:00 AM\\t\\t\\t\\t\\t\\t\\t\\t480000\\t\\n',\n",
       "  'Disaster\\tNatural\\tMeteorological - Hydrological\\tWinter Storm\\tOntario, Quebec, New Brunswick, Nove Scotia, Prince Edward Island and Newfoundland\\t24/02/2016 12:00:00 AM\\tOntario, Quebec, New Brunswick, Nove Scotia, Prince Edward Island and Newfoundland, February 24-26, 2016. A storm system tracked its way northeast into the Great Lakes from the United States in late February. The system moved towards eastern Canada, causing widespread damages to Ontario, Quebec, New Brunswick, Nova Scotia, Prince Edward Island and Newfoundland. On February 24, freezing rain caused up to 25 mm of ice accumulation to build in parts of Ontario, Quebec and New Brunswick. On February 25, Quebec and New Brunswick experienced several hours of continued freezing rain. Heavy rain and thunderstorms trailed behind the freezing rain resulting in total rainfalls of 51 mm in Hamilton, Ontario, 36 mm in Lennoxville, Quebec and 68 mm in Gray River, Newfoundland. A combination of rain and mild weather that melted ice and snow resulted in localized flooding for numerous communities. Flooded basements were reported in Cornwall, Ontario, multiple underpasses were closed due to flooding in Montreal, Quebec, while local fire departments in northern New Brunswick warned drivers of poor road conditions due to ice ruts and isolated flooding. Multiple local states of emergency were declared in the Eastern Townships of Quebec where ice breakup resulted in the flooding of local rivers. Approximately 200 residents were evacuated and over 50 homes in Beauceville, Quebec were damaged by floodwaters. Fallen trees weighed down by the heavy ice and snow damaged power lines resulting in widespread power outages. Quebec was hit the hardest with over 250,000 hydro customers (approximately 750,000 individuals) affected by the power outages.\\t\\t\\t200\\t0\\t0\\t26/02/2016 12:00:00 AM\\t\\t\\t\\t\\t\\t\\t\\t750000\\t\\n',\n",
       "  'Disaster\\tNatural\\tMeteorological - Hydrological\\tStorm - Unspecified / Other\\tLower Mainland British Columbia\\t29/08/2015 12:00:00 AM\\tLower Mainland British Columbia, August 29, 2015. One of the worst windstorms to affect the province in decades hit British Columbia’s Lower Mainland. The most affected areas included Surrey, Richmond, Abbotsford and the Western Fraser Valley. On Saturna Island, wind gusts were report to reached 117 km/h. The powerful winds subsequently fell hundreds of trees, which damaged homes, vehicles and power lines. In total, approximately 500,000 customers (1,500,000 individuals) lost power due to damaged power lines. Some areas lost power temporarily, while others were without power for over three days. Fallen trees caused damages to residential and commercial property. Debris and traffic light outages created severe traffic congestion. There were numerous reports of an undetermined number of people being injured due to fallen trees and debris. One individual was critically injured and taken to the hospital after a tree fell on her while she was outside with her daughter. Additionally, a Vancouver Sky Train was damaged by a fallen tree resulting in service delays. The strong winds that fell hundreds of trees also caused the closure of Stanley Park, Pacific National Exhibition (PNE) and ferry crossings.\\t\\t1\\t\\t0\\t0\\t29/08/2015 12:00:00 AM\\t\\t\\t\\t\\t\\t\\t\\t1500000\\t\\n',\n",
       "  'Disaster\\tNatural\\tMeteorological - Hydrological\\tStorms and Severe Thunderstorms\\tSouthern Alberta\\t04/08/2015 12:00:00 AM\\tSouthern Alberta, August 4-5, 2015. A severe thunderstorm warning was in place for much of southern Alberta including tornado warnings. On August 4, a storm cell that produced low to moderate levels of hail formed in the Elbow valley and later moved into the northern regions of Calgary just as a second storm cell headed towards the southern region of the city. Both storm cells formed one large storm system that hit the Calgary area with severe hail. As the storm system move out of Calgary, the village of Standard was impacted by small hail and there were reports of a tornado sighting in Langdon that caused minimal damages. On August 05, the Calgary area was hit again by bad weather. In Calgary there was significant rainfall and wind gusts of up to 78 km/h. Flooding occurred in the city where it had rained up to 100 mm since the previous storm. Over all, both storms produced strong winds that caused damages to the roofs of apartment buildings and residential homes. Approximately 35,000 customers (105,000 individuals) lost power due to damaged power lines from fallen trees. Heavy rain and hail also caused flooding that submerged basements, vehicles and underpasses.\\t\\t\\t\\t0\\t0\\t05/08/2015 12:00:00 AM\\t\\t\\t\\t\\t\\t\\t\\t105000\\t\\n',\n",
       "  'Disaster\\tNatural\\tMeteorological - Hydrological\\tTornado\\tSouthern Ontario\\t02/08/2015 12:00:00 AM\\tSouthern Ontario, August 2-3, 2015. Southern Ontario was struck by three confirmed tornados, two EF2 tornadoes and an EF1 tornado, along with an EF1 downburst and one other unconfirmed tornado sighting. An EF2 tornado touched down in the small town of Teviotdale located 60 kilometres north of Waterloo and another touched down in Lebanon. Wind gusts were reported between 180 to 220 km/h in some areas. The tornado that struck Lebanon caused only minimal damages, however the tornado in Teviotdale left a nine kilometre trail of damage, which downed power lines, destroyed two homes and damaged several other homes and vehicles. The EF1 tornado in Marsville also caused only minimal damages, mostly to trees. In addition, there was a confirmed EF1 downburst in Utica that caused damages to a local Green Tractors John Deere Dealership as well as an unconfirmed tornado in Proton Station that collapsed a tent sending six people to the hospital. Approximately 50,000 hydro customers (150,000 individuals) in southwest Ontario were left without power due to the severe supercell system that caused the tornadoes to form. Residents in several communities throughout southern Ontario experienced strong winds, rain and hail after the tornadoes touched down as a second system moved into the region later in the evening.\\t\\t6\\t\\t0\\t0\\t03/08/2015 12:00:00 AM\\t\\t\\t\\t\\t\\t\\t\\t150000\\t\\n',\n",
       "  'Disaster\\tNatural\\tMeteorological - Hydrological\\tStorms and Severe Thunderstorms\\tAlberta and Saskatchewan\\t22/07/2015 12:00:00 AM\\tAlberta and Saskatchewan, July 22, 2015. Severe thunderstorms affected the southern Alberta region before moving into Saskatchewan. A storm system southwest of Calgary produced a small tornado that touched down in the Tsuu T’ina Nation at 12:53 MTZ as well as multiple funnel clouds, which were spotted in the Calgary area. The impact of the tornado was minimal, however the proximity of the tornado to a highly populated area like Calgary created an extremely high level of risk. Southern areas of Calgary including Canyon Meadows and Lake Bonavista were hit with large hail and as the storm moved east, Hussar, Patricia and Strathmore were impacted by strong wind gusts that downed trees over power lines resulting in localized power outages. A severe thunderstorm warning was in effect at the time meaning that wind gusts exceeded 90 km/h and hail was greater than two cm. The storm later reached Saskatchewan where the town of Kerrobert was hit with severe hail, prompting a state of emergency to be declared. Other communities in Saskatchewan such as Anglin Lake, Francis, Sedley and Regina were impacted by strong winds, heavy rain, hail and lighting. Golf-ball sized hail caused the most significant damages during the storm, including damages to roofs, windows and vehicles.\\t\\t\\t\\t0\\t0\\t22/07/2015 12:00:00 AM\\t\\t\\t\\t\\t\\t\\t\\t\\t\\n',\n",
       "  'Disaster\\tNatural\\tMeteorological - Hydrological\\tFlood\\tChestermere AB\\t12/07/2015 12:00:00 AM\\tChestermere AB, July 12, 2015. Flooding occurred in the town of Chestermere were it rain 223 mm in only a few hours. The huge amount of rain that fell on the town resulted in overland flooding. In Chestermere, the basements of approximately 300 homes were flooded due to overland flooding, sewer backups or sump pump failure. In some cases, water levels of up to eight feet were reported in residential basements. In addition, vehicles in the street were nearly submerged in water. Lighting accompanied by the storm caused power outages that affected approximately 20,000 people. The power outages are believed to have led to the severity of basement flooding.\\t\\t\\t\\t0\\t0\\t12/07/2015 12:00:00 AM\\t\\t\\t\\t\\t\\t\\t\\t20000\\t\\n',\n",
       "  'Disaster\\tNatural\\tMeteorological - Hydrological\\tWildfire\\tNorthern Saskatchewan\\t01/07/2015 12:00:00 AM\\tNorthern Saskatchewan, July 1-18, 2015. The 2015 wildfire season in Saskatchewan featured an unprecedented number of wildfires that consequently caused the biggest fire evacuation effort in Saskatchewan’s history to date. More than 13,000 people from 54 different communities had to be evacuated from their homes in Northern Saskatchewan due to over 720 wildfires that burned nearly 1.8 million hectares of land. The two most severely impacted communities were La Ronge and Montreal Lake. Approximately 7,900 residents of La Ronge Indian Band were forced to evacuate, while in Montreal Lake approximately 1,500 residents evacuated due to several wildfires that destroyed six buildings in the area. Up to 1,500 members of the Canadian Armed Forces were sent to the La Ronge area to assist firefighters.\\t\\t\\t13000\\t92191000\\t4369241.7\\t18/07/2015 12:00:00 AM\\t92191000\\t\\t\\t\\t\\t\\t\\t\\t\\n',\n",
       "  'Incident\\tTechnology\\tHazardous Chemicals\\tLeak / Spill Release\\tLong Lake AB\\t29/06/2015 12:00:00 AM\\tLong Lake AB, June 29 to July 22, 2015. A massive oil leak was detected at the Nexen Long Lake oil sands facility in Northern Alberta on July 15, but officials believe that the spill may have started as early as June 29. About 5 million litres of bitumen, sand and wastewater leaked into the Long Lake site contaminating 16,000 square metres of land. The leak caused significant damage to the environment and local wildlife.\\t\\t\\t\\t0\\t0\\t22/07/2015 12:00:00 AM\\t\\t\\t\\t\\t\\t\\t\\t\\t\\n',\n",
       "  'Disaster\\tNatural\\tMeteorological - Hydrological\\tStorms and Severe Thunderstorms\\tSouthern Ontario\\t22/06/2015 12:00:00 AM\\tSouthern Ontario, June 22-23, 2015. A cold front that swept through southern Ontario after a warm low pressure system created severe isolated thunderstorms that brought intense lightening, heavy rain and strong winds. Heavy rainfall caused flooding in London, where there was up to 48 mm of rain and in Toronto, where the Toronto Pearson International Airport recorded 110 mm. Flooding in London overwhelmed the sewage system as well as caused damages to residential and commercial properties due to basement flooding. In Toronto, flooding caused road closures and delayed Go Transit. Strong winds and lighting downed trees, which caused damages to homes and power lines. Approximately 100,000 Hydro One customers (300,000 individuals) were without power during the storm.\\t\\t\\t\\t0\\t0\\t23/06/2015 12:00:00 AM\\t\\t\\t\\t\\t\\t\\t\\t300000\\t\\n',\n",
       "  'Disaster\\tNatural\\tMeteorological - Hydrological\\tStorms and Severe Thunderstorms\\tPrairie Provinces\\t12/06/2015 12:00:00 AM\\tPrairie Provinces, June 12, 2015. A massive storm system moved through the prairies causing severe thunderstorms to occur throughout the prairie provinces starting in central Alberta and Saskatchewan. Parts of southern Alberta experienced thunderstorms including High River, Brooks and Taber. The storm intensified near Medicine Hat where there was hail and strong winds that caused damages throughout the city. Approximately 9000 people in Alberta lost power due to downed power lines. The storm later moved into Saskatchewan near maple Creek with hail and estimated wind gusts of up to 120 km/h. As the storm travelled eastward, Assiniboia and Weyburn sustained damages from hail. A large part of the storm moved into Manitoba, bringing heavy rain, strong winds and hail that impacted Virden causing extensive damages.\\t\\t\\t\\t0\\t0\\t12/06/2015 12:00:00 AM\\t\\t\\t\\t\\t\\t\\t\\t9000\\t\\n',\n",
       "  'Disaster\\tNatural\\tMeteorological - Hydrological\\tStorms and Severe Thunderstorms\\tFredericton NB\\t28/05/2015 12:00:00 AM\\tFredericton NB, May 28-29, 2015. Fredericton was hit by a severe thunderstorm that knocked out power to 25,000 people. A significant amount of rain and hail fell in the area causing flash flooding in the streets of Fredericton. It was reported that 25 to 40 mm of rain fell in one hour and the storm produced wind gusts of up to 82 km/h. The storm that downed power lines and trees also produced a significant amount of lightening. It was reported that there were 319 lightning strikes within 50 kilometres of Fredericton.\\t\\t\\t\\t0\\t0\\t29/05/2015 12:00:00 AM\\t\\t\\t\\t\\t\\t\\t\\t25000\\t\\n',\n",
       "  'Disaster\\tNatural\\tMeteorological - Hydrological\\tWildfire\\tBritish Columbia\\t09/05/2015 12:00:00 AM\\tBritish Columbia, May 9 to September 11, 2015. The 2015 wildfire season in British Columbia was the worst on record, in terms of number of fires and hectares burned, to impact the province in 10 years. During the wildfire season that spanned from May to September, over 1,800 fires burned over 300,000 hectares of land. Approximately two thirds of the fires were caused by lighting. The season began early with the discovery of the Little Bobtail Lake fire on May 9. Many fires were within a close proximity of urban areas prompting evacuation orders and alerts across the province. A number of communities were affected by evacuation orders and alerts. Evacuation orders were issued for 141 homes in Joe Rich Kelowna, 70 homes in West Kelowna, 150 homes in Port Hardy and 110 homes in Testalinden, including others. In Puntzi Lake, 90 homes were evacuated and 18 structures were destroyed, while in Rock Creek 330 homes were evacuated and 30 homes as well as 15 other structures were destroyed. Across the province, 1,144 homes (approximately 3,432 individuals) were evacuated due to wildfires. BC Hydro was forced to cut power to certain communities as a precaution, like in West Kelowna where power was cut to 100 customers (approximately 300 individuals). Additional personnel and resources were needed to help battle to above average number of fires burning throughout the province including 310 out-of province firefighters as well as firefighters from Australia, South Africa and the United states. In total, 2,500 firefighters and support workers were working across the province during the peak of the wildfire season. One man was fatally injured while felling a danger tree at the Old Sechelt Mine fire.\\t1\\t\\t3432\\t20401000\\t966872\\t11/09/2015 12:00:00 AM\\t20401000\\t\\t\\t\\t\\t\\t\\t300\\t\\n',\n",
       "  'Disaster\\tNatural\\tGeological\\tEarthquake\\tNepal\\t25/04/2015 12:00:00 AM\\tNepal, April 25 to May 12, 2015. Nepal was hit by a devastating 7.8 magnitude earthquake that originated outside of the capital city Kathmandu and was hit a second time by a 6.7 magnitude aftershock the next day. The earthquake resulted in over 8,669 fatalities, which include 17 hikers on Mount Everest who were killed by an avalanche triggered by the earthquake. On May 12, Nepal was hit again by two more earthquakes recorded as magnitude 7.3 and 6.3 quakes. In the aftermath of the earthquake, up to 600,000 homes were damaged leaving approximately 860,000 people in need of shelter. The Canadian government contributed $5 million for relief efforts and deployed the Disaster Assistance Response Team (DART) to assist with humanitarian aid. There were 450 Canadians registered with the Canadian government as being in Nepal at the time. Two Canadians died while hiking in Nepal’s Langtang National Park.\\t2\\t\\t450\\t5000000\\t236966.8\\t12/05/2015 12:00:00 AM\\t\\t\\t\\t\\t5000000\\t\\t\\t860000\\t7.8\\n',\n",
       "  'Disaster\\tNatural\\tMeteorological - Hydrological\\tFlood\\tPerth-Andover NB\\t18/04/2015 12:00:00 AM\\tPerth-Andover NB, April 18-20, 2015. Perth-Andover experienced significant flooding due to a massive ice jam that broke apart on the St. John and Tobique Rivers. Ice congested local waterways near the village of Perth-Andover causing water levels to rise. The flooding forced 300 people to evacuate. The Canadian Red Cross assisted with the evacuation order. Many businesses closed down, including schools and the local hospital where 23 patients staying at the Hotel Dieu of St. Joseph had to be relocated. Route 105, the major road into Perth-Andover, was closed due to the risk of overland flooding.\\t\\t\\t300\\t0\\t0\\t20/04/2015 12:00:00 AM\\t\\t\\t\\t\\t\\t\\t\\t\\t\\n',\n",
       "  'Disaster\\tNatural\\tMeteorological - Hydrological\\tFlood\\tFort Albany and Kashcewan First Nation\\t17/04/2015 12:00:00 AM\\tFort Albany and Kashechewan First Nation ON, April 17 to May 11, 2015. The annual spring melt resulted in high water levels in the Albany River, which caused severe flooding for communities in the James Bay region. A state of emergency was declared on April 17, for the Kashechewan First Nation, which is situated in the mouth of the Albany River on the shores of James Bay. The community of Fort Albany also declared a state of emergency on April 29. Evacuations in Kashechewan began April 25, where 1,320 residents were air lifted to safety. In Fort Albany, 13 hospital patients were also evacuated by air. On April 27, the Ontario government issued a Request for Federal Assistance (RFA) for aircrafts in response to the flood in order to evacuate the remaining residents. The community of Moose Cree First Nation was also affected but no evacuations took place. In total, 1,333 people were evacuated to Kapuskasing, Smooth Rock Falls, Wawa and Cornwall. Some residents were permanently displaced due to mold and poor living conditions brought on by the reoccurring floods. Evacuation efforts were complete by April 28.\\t\\t\\t1333\\t0\\t0\\t11/05/2015 12:00:00 AM\\t\\t\\t\\t\\t\\t\\t\\t\\t\\n',\n",
       "  \"Incident\\tTechnology\\tHazardous Chemicals\\tLeak / Spill Release\\tVancouver BC\\t08/04/2015 12:00:00 AM\\tVancouver BC, April 8, 2015. The MV Marathassa leaked 2,700 litres of bunker C fuel into the Vancouver English Bay. Spreading through Vancouver Harbour to Burrard Inlet, the oil spill contaminated many of Vancouver's shorelines including Second Beach and English Bay Beach. Several beaches were closed and residents were instructed not to come in contact with the toxic oil. The leak was relatively small but had a significant negative impact on the water quality, local wildlife and environment. According to researchers of the Vancouver Aquarium Marine Science Centre Ocean Pollution Research Program, sediment samples collected from the sites of Second Beach and English Bay exceeded Canadian environmental quality guidelines for aquatic life conservation.\\t\\t\\t\\t0\\t0\\t08/04/2015 12:00:00 AM\\t\\t\\t\\t\\t\\t\\t\\t\\t\\n\",\n",
       "  'Incident\\tTechnology\\tTransportation accident\\tAir\\tHalifax NS\\t28/03/2015 12:00:00 AM\\tHalifax NS, March 28, 2015. At 23:40 EDT, Airbus A320 travelling from Toronto to Halifax, crash landed at the Halifax Stanfield International airport. The plane struck an antenna array, which damaged the landing gear causing the plane crashed into the ground 335 metres before the runway. The plane subsequently skidded along the runway for more than 600 metres without landing gear. There were 133 passengers and 5 crew members on board Flight 624 at the time of the crash. Passengers and crew had to make an emergency exit outside the airplane and were forced to wait in the cold for first responders to arrive. Out of the 138 people on board, 25 people sustained injuries and were taken to local hospitals.\\t\\t25\\t138\\t0\\t0\\t28/03/2015 12:00:00 AM\\t\\t\\t\\t\\t\\t\\t\\t\\t\\n',\n",
       "  'Incident\\tTechnology\\tTransportation accident\\tRail\\tGogama and Mattagami First Nation ON\\t07/03/2015 12:00:00 AM\\tGogama and Mattagami First Nation ON, March 7-9, 2015. A CN Rail train carrying crude oil was derailed near the town of Gogoma in northern Ontario. In total, 30 out of the 94 tanker cars were derailed and caught fire. About one million gallons of petroleum product spilled during the incident, 21 cars sustained mild to severe damages and about 900 feet of track was destroyed. Some of the derailed tanker cars leaked crude oil into the Makami River, causing officials to issue a water advisory warning for the Mattagami First Nation community. Residents of Gogoma and Mattagami First Nation were advised to stay indoors for risk of smoke inhalation.\\t\\t\\t\\t0\\t0\\t09/03/2015 12:00:00 AM\\t\\t\\t\\t\\t\\t\\t\\t\\t\\n',\n",
       "  'Disaster\\tNatural\\tMeteorological - Hydrological\\tStorms and Severe Thunderstorms\\tSouthern Manitoba\\t16/02/2015 12:00:00 AM\\tSouthern Manitoba, May 16-18, 2015. A Colorado low responsible for a tornado outbreak in the United States moved north into Manitoba where it merged with an Artic front. The combined systems created a storm that produced strong winds and heavy rain that eventually turned into ice pellets, snow and hail. On May 17, southern Manitoba was hit with heavy rain and isolated thunderstorms that produced wind gusts of 93 km/h in Winnipeg, 89 km/h in Gimli Harbour and 83 km/h near Brandon. Heavy rain was also reported with the heaviest areas receiving 90 mm in Melita and 83 mm in Bede. The Artic front lowered the temperature causing the rain to turn into freezing rain and snow. MacGregor and Teulon both received 15 cm of snow. Damages were caused by strong winds downing trees and power lines. Approximately 5000 people temporarily lost power during the weekend storm. Heavy rain and snowmelt also caused flooding in certain areas where damage was done to agricultural lands and cottage properties. In addition, the heavy rain caused sewage backups in Winnipeg.\\t\\t\\t\\t0\\t0\\t18/02/2015 12:00:00 AM\\t\\t\\t\\t\\t\\t\\t\\t5000\\t\\n',\n",
       "  'Disaster\\tNatural\\tMeteorological - Hydrological\\tWinter Storm\\tMaritime Provinces\\t15/02/2015 12:00:00 AM\\tMaritime Provinces, February 15-17, 2015. A major storm system formed off the United States east coast and moved towards the north Atlantic. On February 15, the storm system hit Nova Scotia bringing with it snow, ice and rain. In Halifax the weather changed from snow to rain, creating flooding in the streets, which turned into an overnight flash freeze. Greenwood, Nova Scotia received 56 cm of snow, while in Cape Breton Island wind gusts were recorded of up to 176 km/h. The next day in New Brunswick, heavy snow impacted Moncton where it snowed up to 58 cm. The hardest hit area was Prince Edward Island where it snowed over 80 cm in Charlottetown. During the storm, damages were caused by strong winds that downed trees and power lines leaving approximately 4000 customers (12,000 individuals) without power in New Brunswick. Flooding brought on by the rain also caused damages to city streets and created dangerous driving conditions as black ice formed when the temperature dropped. The huge amount of snow that fell on the region buried vehicles, left people stranded in their homes and resulted in the closure of numerous schools and businesses. In New Annan, Prince Edward Island 20 people were left homeless in blizzard conditions as fires irrupted in a motel where 18 people had to be evacuated as well as a home near Winsloe where two people had to be evacuated. In addition, an apartment fire in Fredericton resulted in the evacuation of one individual.\\t\\t\\t21\\t0\\t0\\t17/02/2015 12:00:00 AM\\t\\t\\t\\t\\t\\t\\t\\t12000\\t\\n',\n",
       "  'Incident\\tConflict\\tTerrorist\\tShootings\\tOttawa ON\\t22/10/2014 12:00:00 AM\\tOttawa ON, Oct 22, 2014. At approximately 09:52 EDT, an armed gunman (Michael Zehaf-Bibeau) pulled up in his vehicle to the Ottawa National War Memorial where three Canadian Armed Forces members were posted on Ceremonial Guard sentry duty. Zehaf-Bibeau shot at Cpl. Nathan Cirillo striking him twice in the back and fatally wounding him. Zehaf-Bibeau then fired at the other sentries as he fled towards the Parliament buildings; but neither of the other sentries was struck or injured. Pulling up to Parliament Hill, Zehaf-Bibeau ran from his car and carjacked an idling Parliamentary vehicle on the hill. Members of the RCMP began pursuit as he pulled the vehicle up and ran into the front doors of Parliament. Upon entering, Zefaf-Bibeau engaged in a struggle with House of Commons Security Guard Samearn Son, who was shot in the foot in the ensuing struggle. Zehaf-Bibeau fled further into the Parliament buildings and was fatally shot by the Sergeant-at-Arms of the House of Commons, Kevin Vickers. In the ensuing search for additional shooters, many federal government buildings and offices were placed in lockdown. Public institutions such as the University of Ottawa and nearby schools were also placed in lockdown. There were false reports that a third shooting had taken place at the Rideau Centre Mall, fueled by high cellular phone and social media usage that also strained cell towers and communications infrastructure. Government employees were asked to restrict their Blackberry usage for emergencies only until the crisis was over to reduce burden on the system. The following day, Prime Minister Stephen Harper classified the attack as terrorism.\\t2\\t0\\t0\\t0\\t0\\t22/10/2014 12:00:00 AM\\t\\t\\t\\t\\t\\t\\t\\t\\t\\n',\n",
       "  'Incident\\tConflict\\tTerrorist\\tKidnapping / Murder\\tSaint-Jean-sur-Richelieu QC\\t20/10/2014 12:00:00 AM\\tSaint-Jean-sur-Richelieu QC, October 20-21, 2014. At approximately 11:30 EDT, assailant Martin Couture-Rouleau deliberately rammed his car into a pair of Canadian Armed Forces soldiers in a parking lot of a local shopping Centre, narrowly missing another soldier and a police officer. Warrant Officer Patrice Vincent was transported to hospital with life-threatening injuries and another un-named soldier sustained non-life threatening injuries. Warrant Officer Vincent succumbed to his injuries the next day in hospital. Martin Couture-Rouleau fled the scene chased by police officers. He eventually lost control of his car and was killed after charging a police officer with a knife. Prime Minister Stephen Harper and the RCMP classified this as a lone-wolf ISIL inspired terrorist attack, unconnected to the shooting on Parliament Hill only two days later.\\t2\\t1\\t0\\t0\\t0\\t21/10/2014 12:00:00 AM\\t\\t\\t\\t\\t\\t\\t\\t\\t\\n',\n",
       "  'Incident\\tTechnology\\tInfrastructure failure\\tManufacturing / Industry\\tQuesnel Lake BC\\t04/08/2014 12:00:00 AM\\tQuesnel Lake BC, August 4-12, 2014. The dam for the tailings pond at the Imperial Metals Mount Polley copper and gold mine breached; releasing nearly 10 million cubic metres of water and 4.5 million cubic metres of contaminated slurry into nearby Polley Lake, Hazeltine Creek, Cariboo Creek and Quesnel Lake. On August 6, the Cariboo Regional District declared a local state of emergency in several nearby communities due to concerns over the quality of drinking water, affecting over 300 residents. By August 12, the BC Government lifted the ban on drinking water for many homes with the exception of those within 100 metres of the sediment deposit. A final report commissioned by the BC Government attributed the dam failure to a design flaw, where the foundation was built upon unstable glacial till, exacerbated by the dam being repeatedly raised and expanded.\\t0\\t0\\t0\\t0\\t0\\t12/08/2014 12:00:00 AM\\t\\t\\t\\t\\t\\t\\t\\t300\\t\\n',\n",
       "  'Disaster\\tNatural\\tMeteorological - Hydrological\\tHurricane / Typhoon / Tropical Storm\\tQuebec, New Brunswick, Nova Scotia, and Prince Edward Island\\t05/07/2014 12:00:00 AM\\tQuebec, New Brunswick, Nova Scotia, and Prince Edward Island, July 5-6, 2014. Hurricane Arthur transformed into a powerful Post-Tropical storm over the Maritime provinces. The storm brought powerful wind gusts and heavy rain to Quebec, New Brunswick, Nova Scotia and Prince Edward Island. The most amount of rain was received in St. Stephen, New Brunswick where it rained up to 143 mm. The strongest winds were felt in Nova Scotia where in Greenwood wind gusts reached up to 140 km/h. In Quebec, severe flooding in Mont-Louis inundated several roads affecting 40 homes, while in Marsoui approximately 30 homes were evacuated (approximately 90 individuals). The powerful winds generated by the storm downed trees and power lines throughout the Maritimes causing power outages, property damage and infrastructure damage. Approximately 290,000 homes and businesses (870,000 individuals) in the Maritimes were without power, while in Quebec approximately 23,000 homes and businesses (69,000 individuals) were reported to have lost power.\\t0\\t0\\t90\\t24712000\\t1184281.2\\t06/07/2014 12:00:00 AM\\t12212000\\t\\t12500000\\t\\t\\t\\t\\t939000\\t\\n',\n",
       "  'Disaster\\tNatural\\tMeteorological - Hydrological\\tWildfire\\tBritish Columbia\\t01/07/2014 12:00:00 AM\\tBritish Columbia, July 1 to September 30, 2014. A significant heat wave across British Columbia in July and August led to record breaking dry conditions and “high” to “extreme” fire danger ratings in most of the province. Almost 360,000 hectares of land was burned –the third highest in the history of the province. Over 4,500 people were forced to evacuate throughout the season with the largest evacuations taking place in West Kelowna where 2,500 people fled and Hudson’s Hope where 1,150 people fled in July due to wildfires. At its peak, over 3000 firefighters and frontline crews worked at combating the fires, and as a result, significant damage to infrastructure and communities was avoided. As of November 2014, the Government of British Columbia estimated it spent approximately $300 million dollars responding to wildfires for the 2014 season.\\t0\\t0\\t4500\\t300000000\\t14376996.8\\t30/09/2014 12:00:00 AM\\t\\t\\t300000000\\t\\t\\t\\t\\t\\t\\n',\n",
       "  'Disaster\\tNatural\\tMeteorological - Hydrological\\tFlood\\tSouthern Manitoba\\t25/06/2014 12:00:00 AM\\tSouthern Manitoba, June 25 to July 14, 2014. After a relatively quiet spring flood season, heavy rainfall in Western Manitoba and Saskatchewan led to record flows and flooding along the Assiniboine, Qu’Appelle and Souris Rivers. Up to 200 mm of rain fell in some municipalities. Over 43 local states of emergency were declared followed by a provincial state of emergency and formal request for federal assistance on July 4. Approximately 300 Canadian Armed Forces personnel deployed from CFB Shilo to help flood recovery efforts. The Portage Diversion was opened near Portage la Prairie to direct flows from the Assiniboine river into Lake Manitoba. In total, approximately 560 people were evacuated from their homes. The Government of Manitoba estimates that over 920,000 acres of farm land went unseeded for the 2014 season, representing 25 percent of arable acres in Manitoba with an associated estimated cost of over $1 billion dollars. *Note: A request for federal assistance through the DFAA program has been made; however, no payments have yet been issued.\\t0\\t0\\t560\\t1164679000\\t55815287.5\\t14/07/2014 12:00:00 AM\\t164679000\\t\\t\\t\\t\\t1000000000\\t\\t\\t\\n',\n",
       "  'Disaster\\tNatural\\tMeteorological - Hydrological\\tFlood\\tSouthern Saskatchewan\\t25/06/2014 12:00:00 AM\\tSouthern Saskatchewan, June 25 to July 14, 2014. Heavy rain across southeastern Saskatchewan led to localized overland flooding, road washouts, highway closures, and local power outages. The affected basins were the Souris, Lower Qu’Appelle and Assiniboine. Some areas in southeastern Saskatchewan reported up to 240 mm of precipitation in less than two days. Over 68 municipalities declared local states of emergency. In Melville, St. Peter’s hospital evacuated 150 acute care patients due to rising flood waters. The Trans-Canada Highway was washed out in several sections and CN rail was heavily impacted on its regional lines. Peak flow levels on the Assiniboine and Qu’Appelle rivers exceeded that of the 2011 flood.\\t0\\t0\\t500\\t19387000\\t929089.5\\t14/07/2014 12:00:00 AM\\t19387000\\t\\t\\t\\t\\t\\t\\t\\t\\n',\n",
       "  'Disaster\\tNatural\\tMeteorological - Hydrological\\tFlood\\tSouthern Alberta\\t15/06/2014 12:00:00 AM\\tSouthern Alberta, June 15 to July 30, 2014. Significant rainfall in southern Alberta led to overland flooding and evacuations along the Oldman, St. Mary, Belly and Waterton rivers. Twelve municipalities declared local states of emergency and over 500 people were evacuated throughout the province. The most significant evacuations came from the Blood Tribe Reserve First Nation, where 435 people were evacuated due to flooding and infrastructure failures.Note: A request for federal assistance through the DFAA program has been made; however, no payments have yet been issued.\\t0\\t0\\t500\\t0\\t0\\t30/07/2014 12:00:00 AM\\t\\t\\t\\t\\t\\t\\t\\t\\t\\n',\n",
       "  'Disaster\\tNatural\\tMeteorological - Hydrological\\tWildfire\\tNorthwest Territories\\t01/06/2014 12:00:00 AM\\tNorthwest Territories, July 1 to September 18, 2014. Abnormally dry conditions and high temperatures fed peak wildfire conditions during the 2014 fire season. By mid-July, 168 separate fires were burning throughout the territory. Voluntary and mandatory evacuations were issued in June and July, most notably in the town of Kakisa where 60 residents were evacuated to Hay River and Fort Providence. The Taltson hydroelectric facility was temporarily shut down as a precautionary measure due to fires that threatened the main transmission lines. By the end of the wildfire season, over 3.5 million hectares of land was burned, the most in over 30 years. In total, 385 fires burned throughout the territory in 2014, 57 per cent more than the annual average. The Government of the Northwest Territories spent $55 million dollars fighting wildfires in 2014, more than eight times the average cost.\\t0\\t0\\t60\\t55000000\\t2635782.7\\t18/09/2014 12:00:00 AM\\t\\t\\t55000000\\t\\t\\t\\t\\t\\t\\n',\n",
       "  'Disaster\\tNatural\\tMeteorological - Hydrological\\tFlood\\tNew Brunswick\\t15/04/2014 12:00:00 AM\\tNew Brunswick, April 15 to May 2, 2014. Spring flooding damaged more than 715 homes and businesses, roads, bridges, and other public infrastructure around the province. The majority of property damages were in and around Sussex and Sussex Corner, where 120 homes and 10 businesses were flooded. On April 16, a state of emergency was declared as water breached the banks of the St. John River, causing 1,450 people to evacuate their homes. In Perth-Andover, 23 patients were voluntarily evacuated and transferred to Upper River Valley Hospital. Throughout the rest of the province, swollen rivers led to the closure of several roads and localized flooding.\\t0\\t0\\t1473\\t29603000\\t1418674.1\\t02/05/2014 12:00:00 AM\\t13603000\\t\\t16000000\\t\\t\\t\\t\\t\\t\\n',\n",
       "  'Disaster\\tNatural\\tMeteorological - Hydrological\\tFlood\\tSouthern Quebec\\t14/04/2014 12:00:00 AM\\tQuebec, April 14 to May 1, 2014. A series of intense rainstorms deposited up to 75 mm of rain throughout parts of southern Quebec over a three-day period. Coupled with a delayed spring thaw, the rain caused ice jams and flooding along several rivers in the province. About 300 residents in Sainte-Raymond evacuated including residents from a senior’s home due to raising water levels in the Sainte-Anne River. Many homes situated near the Montmorency River along with homes in Trois-Rivieres, Lennoxville and Weedon were evacuated. In Sherbrooke 632 residents evacuated their homes as the Saint-Francois River reached a record peak of 7.5 metres.\\t0\\t0\\t1000\\t13064000\\t626070.3\\t01/05/2014 12:00:00 AM\\t13064000\\t\\t\\t\\t\\t\\t\\t\\t\\n',\n",
       "  'Incident\\tTechnology\\tFire\\tResidential\\tL’Isle-Verte QC\\t23/01/2014 12:00:00 AM\\tL’Isle-Verte QC, January 23 to February 1 , 2014. A fire broke out overnight in the kitchen of the Résidence du Havre nursing home that housed 52 seniors with limited mobility. A combination of a lack of installed sprinklers and the wooden construction of the building contributed to the intensity of the fire. Twenty-eight bodies were recovered during the initial search and another four were classified as missing and presumed dead. There were 15 injuries mostly caused by smoke inhalation and carbon monoxide poisoning. In addition, two firefighters were treated for minor injuries. The official Coroner’s report issued February 2015 cited a lack of adequate evacuation and emergency plans, a lack of trained personnel on duty at the facility, and a delay in the firefighter response and backup as factors that contributed to the severity of the disaster. The fire was classified as an accident and no criminal investigation was commenced.\\t32\\t15\\t0\\t0\\t0\\t01/02/2014 12:00:00 AM\\t\\t\\t\\t\\t\\t\\t\\t\\t\\n',\n",
       "  'Disaster\\tNatural\\tMeteorological - Hydrological\\tWinter Storm\\tQuébec\\t21/12/2013 12:00:00 AM\\tQuébec, December 21-26, 2013. A severe winter storm that formed over the Great Lakes region in Ontario tracked into Québec bringing a mix of freezing rain, ice pellets and snow. The Eastern Townships region of the province was particularly impacted and at its peak, an estimated 51,000 Hydro Québec customers were without power (153,000 individuals). The storm is attributed with the deaths of six people due to a mix of carbon monoxide poisoning and traffic accidents throughout the province. Power was fully restored to all customers by December 26, 2013.\\t6\\t\\t0\\t0\\t0\\t26/12/2013 12:00:00 AM\\t\\t\\t\\t\\t\\t\\t\\t153000\\t\\n',\n",
       "  'Disaster\\tNatural\\tMeteorological - Hydrological\\tWinter Storm\\tSouthern Ontario\\t21/12/2013 12:00:00 AM\\tSouthern Ontario, ON, December 21, 2013 to January 1, 2014. A severe storm brought freezing rain and damaging ice accumulation across a large area of southern Ontario. According to Environment Canada, the epicentre of the freezing rain was in southern Ontario along the north shore of Lake Ontario, including the Greater Toronto Area, where ice accumulation reached up to 30 mm. The impact of the ice storm on these municipalities and conservation authorities was further exacerbated by freezing temperatures. The ice storm had serious impacts. In its aftermath, as many as 830,000 hydro customers (2,490,000 individuals) across Southern Ontario were without power for several days. Downed trees, broken branches, and downed wires resulting from ice accumulation posed serious public health and safety risks, as well as transportation network problems. Due to widespread power outages and freezing temperatures, municipalities activated emergency plans to open warming centres and canvassed homes of vulnerable residents to ensure their safety. Power was restored to most residences and businesses by January 1, 2014. Response and recovery activities began at the time of the event. The ice storm significantly impacted some of Canada’s largest and most densely populated urban municipalities. Municipalities, provincial ministries and non-governmental organizations such as the Red Cross all acted to respond to the ice storm. Ontario determined that the impacts of the storm were severe enough to warrant implementation of an Ice Storm Assistance Program to help municipalities and conservation authorities with emergency response and recovery costs. Two deaths were attributed to the storm due to carbon monoxide poisoning from improperly ventilated generators and heaters.  *Note: A request for federal assistance through the DFAA program has been made; however, no payments have yet been issued.\\t2\\t25\\t0\\t262781642\\t12839493.9\\t01/01/2014 12:00:00 AM\\t98581642\\t\\t4200000\\t160000000\\t\\t\\t\\t2490000\\t\\n',\n",
       "  'Disaster\\tNatural\\tMeteorological - Hydrological\\tWinter Storm\\tOntario, Quebec and New Brunswick\\t20/12/2013 12:00:00 AM\\tOntario, Quebec and New Brunswick, December 20, 2013 to January 03, 2014. A severe winter storm system that formed over the Great Lakes Region caused significant damage in Ontario and Quebec before moving east bringing freezing rain, ice pellets, and snow to New Brunswick. Starting December 20, southern Ontario received 20-30 mm of freezing rain during a two-day period. In Quebec, 53,000 people lost power due to the freezing rain, which damaged power lines. By December 23, over 54,000 NB Power customers were without power. A second storm tracked north along the Atlantic coast, bringing up to 30 cm of snow, causing more power outages and delays, which complicated recovery efforts. In total, over 88,000 NB Power customers (approximately 264,000 individuals) lost power over an 11-day period, with the last restorations occurring on January 3, 2014. In total, 11 individuals died during the ice storm from either vehicle accidents or carbon monoxide poisoning from the use of gas generators.\\t0\\t0\\t0\\t0\\t0\\t03/01/2014 12:00:00 AM\\t\\t\\t\\t\\t\\t\\t\\t317000\\t\\n',\n",
       "  'Incident\\tTechnology\\tTransportation accident\\tRail\\tGainsford AB\\t19/10/2013 12:00:00 AM\\tGainford AB, October 19-22, 2013. A local state of emergency was declared when a freight train derailed and caught fire near the village of Gainsford, west of Edmonton. A total of 13 cars were derailed threatening the safety of nearby residents. Out of the 13 derailed tankers cars, four cars were carrying crude oil and nine were carrying liquid petroleum gas (LPG). Each tanker car carrying LPG stored a payload of 130,000 litres. Fire fighters used vent-and-burn technics to put out the flames and prevented further explosions from happening. About 120 residents in Gainsford were evacuated as a precaution. On October 22, all fires were extinguished and residents were allowed to return to their homes. No injuries or fatalities were reported.\\t0\\t0\\t120\\t0\\t0\\t22/10/2013 12:00:00 AM\\t\\t\\t\\t\\t\\t\\t\\t\\t\\n',\n",
       "  'Disaster\\tNatural\\tMeteorological - Hydrological\\tFlood\\tToronto ON\\t08/07/2013 12:00:00 AM\\tToronto ON, July 8, 2013. A thunderstorm that produced 126 mm in precipitation caused flash-flooding in the Greater Toronto area. The flooding closed multiple transportation corridors, caused wide-spread property damage, and disrupted power to approximately 300,000 residents. The Insurance Bureau of Canada estimated that the flooding caused $940 million in insured property damage.\\t0\\t0\\t0\\t940000000\\t45928338.8\\t08/07/2013 12:00:00 AM\\t\\t\\t\\t\\t\\t940000000\\t\\t300000\\t\\n',\n",
       "  'Incident\\tTechnology\\tTransportation accident\\tRail\\tLac-Mégantic QC\\t06/07/2013 12:00:00 AM\\tLac-Mégantic QC, July 6-28, 2013. A 74-car freight train carrying crude oil derailed and exploded in Lac-Mégantic, Quebec. The explosion caused the deaths of 42 people. Five people were not accounted for and were officially listed as having been killed in the explosion. Approximately 2000 people were evacuated from their homes. The explosion destroyed 115 buildings and caused extensive damage to the centre of the town. Over 5,560,000 litres of crude oil was released into the environment and an estimated 100,000 litres spilled into the nearby Chaudière river. The spill travelled down the river and reached the town of Saint-Georges 80 kilometres to the northeast, forcing local authorities to draw water from a nearby lake and install floating barriers to prevent contamination. Note: Federal and Provincial payments are interim and do not represent final payment totals.\\t47\\t\\t2000\\t58000000\\t2833876.2\\t28/07/2013 12:00:00 AM\\t58000000\\t\\t\\t\\t\\t\\t\\t\\t\\n',\n",
       "  'Disaster\\tNatural\\tMeteorological - Hydrological\\tFlood\\tSouthern Alberta\\t19/06/2013 12:00:00 AM\\tSouthern Alberta, June 19-28, 2013. A massive storm system crept through Alberta causing significant flooding throughout the province. As of 2013, this event was responsible for the largest evacuation due to a natural disaster in Alberta’s history. Beginning in northern Alberta, Fort McMurray declared a local state of emergency when water from the Hanging Stone River breached its banks on June 8. The storm then moved south on June 19, where it remained for three days over southern Alberta. Heavy rain spanning across a region from Canmore to Calgary produced an average of 75 to 150 mm during this three-day period. Twenty-nine local states of emergency were declared throughout the province. Four deaths were attributed to the floods, which caused significant disruptions across the province to power, telecommunications, clean water supply, and transportation corridors, including a section of the Trans-Canada Highway that closed due to a mudslide caused by the torrential rain. In Calgary the Bow and Elbow Rivers flooded, which forced 75,000 residents to evacuate the city. Over 4000 business were affected and 3000 buildings were flooded, including that Saddledome and the Calgary Zoo. The towns of High River and Canmore were also significantly impacted by the floods. In total, flooding forced the evacuations of approximately 100,000 Albertans. As flood conditions improved, some residents were allowed to gradually return to their communities beginning on June 23, while the remaining residents were allowed to return by June 28. Response to the flood was provided by municipal, provincial, and federal governments and non-governmental organizations. Insurance payments are estimated at $1.2 billion. This disaster is estimated to have reduced Gross Domestic Product (GDP) in Southern Alberta by $550 million (2013 dollars).\\t4\\t0\\t100000\\t2715742000\\t132690977.2\\t28/06/2013 12:00:00 AM\\t1015742000\\t\\t\\t\\t\\t1700000000\\t\\t\\t\\n',\n",
       "  'Disaster\\tNatural\\tMeteorological - Hydrological\\tStorms and Severe Thunderstorms\\tSoutheast British Columbia\\t19/06/2013 12:00:00 AM\\tSoutheast British Columbia, June 19-21, 2013. A series of intense rainstorms impacted southwestern Alberta and tracked into southeastern British Columbia, causing widespread flooding, mudslides and road closures. Up to 130 mm of rain fell in some regions and multiple evacuations were ordered. There were 130 homes that were evacuated in Sparwood due to rising flood waters while two mudslides closed parts of Highway 31. Highways 1, 31, 31A, 43 and 93 were all closed due to washouts and debris flow. There also was extensive overland flooding in the town of Fernie.\\t0\\t0\\t200\\t10796000\\t527491.9\\t21/06/2013 12:00:00 AM\\t10796000\\t\\t\\t\\t\\t\\t\\t\\t\\n',\n",
       "  'Disaster\\tNatural\\tMeteorological - Hydrological\\tFlood\\tKasabonika Lake First Nation ON\\t27/05/2013 12:00:00 AM\\tKasabonika Lake First Nation ON, May 27-31, 2013. Snow and ice melt caused water levels to rise rapidly on Kasabonika Lake, threatening the First Nations community that lives on the lake. A local state of emergency was declared and approximately 150 of the most vulnerable residents were evacuated to the towns of Hearst and Greenstone. Several buildings were damaged in the flood. As water levels returned to normal, residents were allowed to return to their homes by May 31.\\t0\\t0\\t150\\t0\\t0\\t31/05/2013 12:00:00 AM\\t\\t\\t\\t\\t\\t\\t\\t\\t\\n',\n",
       "  'Disaster\\tNatural\\tMeteorological - Hydrological\\tFlood\\tCumberland House SK\\t29/04/2013 12:00:00 AM\\tCumberland House SK, April 29 to July 03, 2013. Higher-than-normal snow fall and lower temperatures delayed the annual spring melt until the end of April. Over 15 communities declared states of emergencies between April and June as flood waters rose throughout the province. Overland flooding occurred between Moose Jaw and Indian Head, including parts of Regina and south past Weyburn to the U.S border. Significant damage occurred on parts of Highways 2 and 3 that were washed out by the flood waters. Flood waters flowing east on the South Saskatchewan River from Alberta following the June 19 flash floods reached a peak flow of 6000 cubic metres per second, the highest ever recorded, flowing into the Lake Diefenbaker Reservoir. Between June 23 and 28 the Saskatchewan Water Security Agency began releasing water from the reservoir at a rate of 2000 cubic metres per second, leading to a two-metre rise in the river downstream. As a result, 2,200 residents of Cumberland House were evacuated to Prince Albert and Saskatoon. On July 3, 2013 the evacuation order was lifted and residents began to return to the community. *Note: A request for federal assistance through the DFAA program has been made.\\t0\\t0\\t3000\\t43309000\\t2116074.9\\t03/07/2013 12:00:00 AM\\t43309000\\t\\t\\t\\t\\t\\t\\t\\t\\n',\n",
       "  'Disaster\\tNatural\\tMeteorological - Hydrological\\tWildfire\\tVita MB\\t02/10/2012 12:00:00 AM\\tVita MB, October 2-3, 2012.  The town of Vita, south of Winnipeg, declared a state of local emergency in the face of wildfires on October 2.  Fuelled by high winds and extremely dry conditions, the wildfire forced the immediate evacuation of approximately 300 people to nearby Steinbach where they were received at the Steinbach Mennonite Church. Evacuees were allowed to return home on October 3, as the fire passed the town and moved south. Three homes and one bridge in the area were destroyed. The fire also affected residents of the rural municipality of Tache and the community of Ross, 120 of whom were also evacuated until the fire passed.\\t\\t\\t300\\t0\\t0\\t03/10/2012 12:00:00 AM\\t\\t\\t\\t\\t\\t\\t\\t\\t\\n',\n",
       "  'Disaster\\tNatural\\tMeteorological - Hydrological\\tWildfire\\tLethbridge and Coalhurst AB\\t10/09/2012 12:00:00 AM\\tLethbridge and Coalhurst AB, September 10-11, 2012. Two large grass fires prompted local states of emergency and evacuations in southern Alberta. The first fire originated in the Blood Reserve near Coalhurst and Lethbridge. Approximately 2,200 residents in Coalhurst as well as residents in a Lethbridge trailer park were evacuated and sent to safe zones in Lethbridge. A second grass fire burned near the town of Milk River were approximately 800 people were evacuated to the nearby town of Raymond.  Both grass fires damaged several sheds and outbuildings and destroyed one house. There was also one fire related injury reported. Residents were allowed to return to their homes on September 10 in Coalhurst and September 11 in Lethbridge.\\t0\\t0\\t3000\\t0\\t0\\t11/09/2012 12:00:00 AM\\t\\t\\t\\t\\t\\t\\t\\t\\t\\n',\n",
       "  'Disaster\\tNatural\\tMeteorological - Hydrological\\tWildfire\\tPeachland BC\\t09/09/2012 12:00:00 AM\\tPeachland BC, September 9-12, 2012.  A forest fire was reported on September 9 in Trepanier Bench in Peachland, British Colombia. Strong winds at speeds estimated between 30 to 40 km/h spread the fire quickly. An evacuation order for approximately 1,550 residents went into effect on September 9.  The District of Peachland immediately opened Reception Centres to support evacuated residents. The Central Okanagan Emergency Operation Centre was in full operation and supported firefighting efforts from BC Wildfire Management, West Kelowna, Peachland, and Kelowna. The Regional District Parks Services closed the Trepanier Creek Greenway Regional Park until a hazard assessment was conducted and the area deemed safe for the public. Evacuated residents began returning on September 10 with the last 258 evacuees returning on September 12. Three homes and several buildings were destroyed during the fire.\\t0\\t0\\t1550\\t0\\t0\\t12/09/2012 12:00:00 AM\\t0\\t0\\t\\t\\t\\t\\t\\t\\t\\n',\n",
       "  'Disaster\\tNatural\\tBiological\\tEpidemic\\tQuebec City\\t31/07/2012 12:00:00 AM\\tQuebec City, QC, July 31 to October 10, 2012. The Direction Régionale de Santé Publique de la Capitale-Nationale (DRSP) [Quebec City regional public health authority] reported an outbreak of legionnaires’ disease in Quebec City after it received reports of 13 cases of the disease. According to the Agence de la Santé et des Services Sociaux de la Capitale-Nationale [Quebec City Health and Social Services Agency], the lab analysis of samples taken from the cooling tower at 320 Saint-Joseph Street East identified the specific bacteria that was found in the patients as legionnaires’ disease. On September 18, the same day the results were obtained, the cooling tower fans of this building were shut down by the owner. The outbreak was declared to be over on October 10, after 20 days without a new case, which is twice the incubation period of the disease. In total, 180 people were infected with legionnaires’ disease outbreak, which caused 13 deaths.\\t13\\t180\\t0\\t0\\t0\\t10/10/2012 12:00:00 AM\\t0\\t\\t\\t\\t\\t\\t\\t\\t\\n',\n",
       "  'Disaster\\tNatural\\tMeteorological - Hydrological\\tWildfire\\tSandy Lake First Nation ON\\t31/07/2012 12:00:00 AM\\tSandy Lake ON, July 31 to August 6, 2012. The Sandy Lake First Nation declared a state of emergency due to the risk of smoke from wildfiresfires in northern Ontario. A total of 637 residents were evacuated to Thunder Bay and Fort Frances. Evacuees began returning to their homes on August 5, with the remaining evacuees allowed to return home on August 6.\\t0\\t0\\t637\\t0\\t0\\t06/08/2012 12:00:00 AM\\t\\t\\t\\t\\t\\t\\t\\t\\t\\n',\n",
       "  'Disaster\\tNatural\\tMeteorological - Hydrological\\tWildfire\\tIsland Lake and Garden Hill MB\\t23/07/2012 12:00:00 AM\\tIsland Lake and Garden Hill MB, July 23 to August 1, 2012. The smoke from a wildfire forced the evacuation of hundreds of people from communities within the region of Island Lake and Garden Hill. By July 30, the total amount of evacuees had climbed to 1,428 and were sheltered in the communities of Brandon, Gimli, Morris, Portage la prairie, and Winnipeg.\\t0\\t0\\t1428\\t0\\t0\\t01/08/2012 12:00:00 AM\\t\\t\\t\\t\\t\\t\\t\\t\\t\\n',\n",
       "  'Disaster\\tNatural\\tMeteorological - Hydrological\\tWildfire\\tMackenzie County AB\\t11/07/2012 12:00:00 AM\\tMackenzie County AB, July 11-20, 2012. As many as 11 wildfires burned out of control in Mackenzie County in northwestern Alberta, leading to two community evacuations.  All Zama residents, including work camps were evacuated under a mandatory evacuation order on Tuesday, July 10 until July 20.  The Zama access road was closed and a controlled barricade was set up at the Assumption Bypass/Apache Road into Zama to ensure that only authorized personnel were allowed access.  A reception centre for evacuees was set up in the town hall of High Level. There were approximately 300 evacuees, including 134 from Zama and 164 from the Dene Tha’ First Nation. The evacuation order was lifted July 17. Firefighters from Yukon, New Brunswick, Ontario, Alaska, and Mexico, along with helicopters and other equipment, joined over 300 firefighters already taking shifts to battle the fires in northern Alberta. Alberta’s Environment and Sustainable Resource Development (ESRD) provided sprinkling protection systems for all north end homes with additional sprinkling systems having been ordered to protect the homes located in the Zama interior.  A sprinkling system for the fireguard along the containment line was also provided by ESRD.  On July 17, Alberta Health Services issued an air quality advisory for residents in the La Crete area with respiratory concerns, advising them to visit the advanced ambulatory care centre located in the La Crete Community Health Centre. The advisory was lifted July 23.\\t0\\t0\\t300\\t0\\t0\\t20/07/2012 12:00:00 AM\\t\\t\\t\\t\\t\\t\\t\\t\\t\\n',\n",
       "  'Disaster\\tNatural\\tMeteorological - Hydrological\\tWildfire\\tNorthwest River and Sheshatshiu NL\\t24/06/2012 12:00:00 AM\\tNorth West River and Sheshatshiu NL, June 24-25, 2012. Two local states of emergency were declared when wildfires threatened the communities of North West River and Sheshatshiu. There were over 1000 residents who had to be evacuated and air lifted to safety. Approximately 700 evacuees were accommodated at Canadian Forces Base Goose Bay and 300 were accommodated in emergency housing in Happy Valley-Goose Bay. The evacuation order was lifted on June 25 and residents were allowed to return to their homes.\\t0\\t0\\t1000\\t0\\t0\\t25/06/2012 12:00:00 AM\\t\\t\\t\\t\\t\\t\\t\\t\\t\\n',\n",
       "  'Disaster\\tNatural\\tMeteorological - Hydrological\\tFlood\\tSicamous BC\\t23/06/2012 12:00:00 AM\\tSicamous BC, June 23, 2012. Flash flooding near Sicamous, BC, washed out Highway 97A in two places, damaging several vehicles and cutting off road access and drinking water supplies to hundreds of residences. Around 350 people in the area of Swansea Point and 2 Mile were forced from their homes due to an evacuation order issued after two raging creeks jumped their banks. Also, a 72-year-old man died after being swept into a fast-moving creek near Nelson. A five-member Rapid Damage Assessment Team landed in Sicamous, which was swamped by the Shuswap swells, and the Red Cross provided a resilience center to help assess needs and offered supplies to troubled residents in the community of about 3,100.\\t\\t\\t350\\t3829000\\t188775.7\\t23/06/2012 12:00:00 AM\\t3829000\\t\\t\\t\\t\\t\\t\\t\\t\\n',\n",
       "  'Disaster\\tNatural\\tMeteorological - Hydrological\\tWildfire\\tSheshatshiu NL\\t23/06/2012 12:00:00 AM\\tNorth West River and Sheshatshiu NL, June 23-25, 2012. On June 23, the Department of Natural Resources Forestry Division recommended a mandatory evacuation of the communities of North West River and Sheshatshiu First Nation, located approximately 20 kilometers north of Goose Bay, due to smoke and the threat from wildfires. On June 24, both communities declared local states of emergency with residents being placed under immediate evacuation order. Fire and Emergency Services - Newfoundland and Labrador (FES-NL) coordinated the Provincial Government response activities in Labrador and a Provision of Service agreement with the Department of National Defence (DND) was activated.  Approximately 800 people were housed at Canadian Forces Base (CFB) Goose Bay and another approximate 300 people were also accommodated in emergency housing in Happy Valley-Goose Bay.  Many individuals also stayed with family, friends or in private accommodations in the Happy Valley-Goose Bay area.  The evacuation order was lifted on June 25 and the evacuees returned home.\\t\\t\\t1100\\t0\\t0\\t25/06/2012 12:00:00 AM\\t\\t\\t\\t\\t\\t\\t\\t\\t\\n',\n",
       "  'Disaster\\tNatural\\tMeteorological - Hydrological\\tFlood\\tYukon, Northwest Territories and British Columbia\\t06/06/2012 12:00:00 AM\\tYukon, Northwest Territories and British Columbia, June 6-30, 2012. More than 70 mm of precipitation from a low-pressure weather system combined with spring snowmelt caused widespread flooding in Upper Liard, Yukon, Nahanni Butte, Northwest Territories, and Lower Post, British Columbia. Approximately 20 people from Upper Liard, 80 people from Nahanni Butte, and 37 people from Lower Post were evacuated. Approximately 2,500 people, including over 300 commercial transport trucks, experienced traffic delays in the region because of highway washouts. There was extensive damage to transportation corridors as well as approximately 25 buildings in areas affected by the flooding. Floodwaters began receding on June 16. Residents were allowed to return home at the end of June.\\t0\\t0\\t137\\t1503748\\t74137.1\\t30/06/2012 12:00:00 AM\\t1503748\\t\\t\\t\\t\\t\\t\\t\\t\\n',\n",
       "  'Disaster\\tNatural\\tMeteorological - Hydrological\\tFlood\\tThunder Bay ON\\t28/05/2012 12:00:00 AM\\tThunder Bay ON, May 28, 2012. Heavy rain and subsequent flooding caused the city of Thunder Bay in northwestern Ontario to declare a state of emergency. Nearly 100 mm of rain was recorded at some weather stations in Thunder Bay on May 28.  The flooding caused road closures, damages to thousands of homes, and interfered with utility services. Thunder Bay Hydro cut power to 50 customers (approximately 1,500 individuals) as a precaution to prevent electrical fires in severely flooded areas.\\t0\\t0\\t0\\t0\\t0\\t28/05/2012 12:00:00 AM\\t\\t\\t\\t\\t\\t\\t\\t1500\\t\\n',\n",
       "  'Disaster\\tNatural\\tMeteorological - Hydrological\\tWildfire\\tTimmins ON\\t24/05/2012 12:00:00 AM\\tTimmins ON, May 24 to June 07, 2012. A state of emergency was declared when smoke from a wildfire approximately 70 kilometers wide threatened communities in and around Timmins, Ontario. Approximately 1000 residents from the region were evacuated as a precaution. The fire forced the temporary closure of some mining operations. On June 7, the fire was contained and residents were able to return home.\\t0\\t0\\t1000\\t0\\t0\\t07/06/2012 12:00:00 AM\\t\\t\\t\\t\\t\\t\\t\\t\\t\\n',\n",
       "  'Disaster\\tNatural\\tMeteorological - Hydrological\\tWildfire\\tKirkland Lake ON\\t20/05/2012 12:00:00 AM\\tKirkland Lake ON, May 20-29, 2012. A wildfire near the town of Kirkland Lake forced the evacuation of approximately 300 people and caused the town to declare a state of emergency. Damage from the fire included a power line and an undetermined number of cabins in the Young Lake and Amikougami Lake area. Power outages affected local mining operations. All evacuated permanent residents returned to their homes on May 27. The Ontario Provincial Police reported that the fire originated from a campfire on the east side of Elsie Lake.\\t0\\t0\\t300\\t0\\t0\\t29/05/2012 12:00:00 AM\\t0\\t\\t\\t\\t\\t\\t\\t\\t\\n',\n",
       "  'Disaster\\tNatural\\tMeteorological - Hydrological\\tFlood\\tFort Albany and Kashechewan First Nations ON\\t24/03/2012 12:00:00 AM\\tKashechewan and Fort Albany ON, March 24 to April 01, 2012. On Saturday, March 24, 2012, a state of emergency was declared by both Fort Albany First Nations and Kashechewan First Nations.  Due to warmer temperatures, early ice break up on the Albany River caused waterways to jam and the water level to rise in low-lying communities.  Evacuations of both communities commenced with 54 of the most vulnerable residents who were flown to the Town of Kapuskasing on March 24, and continued until a total of 269 people had been evacuated to both the Towns of Kapuskasing and Wawa by March 25.  On March 31, 2012, colder temperatures and observations of ice movement resulted in the Chief and Band Council terminating the declared emergency.  All 269 evacuees were repatriated by April 1, 2012.  Emergency Management Ontario and the federal Ministry of Natural Resources co-ordinated the evacuation with the help of federal, municipal and First Nations officials.  Although emergency management is a provincial/territorial responsibility, Aboriginal Affairs and Northern Development Canada (AANDC) accepts responsibility for supporting emergency management in First Nations communities and manages the consequences arising from the emergency such as disruptions to community-level critical services delivered in the First Nation.\\t\\t\\t269\\t0\\t0\\t01/04/2012 12:00:00 AM\\t\\t\\t\\t\\t\\t\\t\\t\\t\\n',\n",
       "  'Disaster\\tNatural\\tMeteorological - Hydrological\\tFlood\\tKashechewan and Fort Albany ON\\t24/03/2012 12:00:00 AM\\tKashechewan and Fort Albany ON, March 24 to April 01, 2012. A state of emergency was declared when rapid snowmelt and early ice break-up caused flooding along the Albany river. The flood forced the evacuation of approximately 269 residents to the towns of Kapuskasing and Wawa. All evacuees were able to return to their homes by April 1, 2012.\\t0\\t0\\t269\\t6700000\\t330320.5\\t01/04/2012 12:00:00 AM\\t\\t\\t\\t\\t6700000\\t\\t\\t\\t\\n',\n",
       "  'Disaster\\tNatural\\tMeteorological - Hydrological\\tFlood\\tPerth-Andover NB\\t23/03/2012 12:00:00 AM\\tPerth-Andover NB, March 23-25, 2012. The Village of Perth-Andover declared a state of emergency on March 23. The village of roughly 1,770 residents was forced to evacuate approximately 500 people living along a four-kilometre section the St. John’s River on March 24. Within the nearby Tobique First Nation community, approximately 20 people were evacuated to a school gymnasium and six homes were damaged by floodwaters. Public Safety Canada’s regional office reported that approximately 200 homes and businesses were damaged, including those of the Tobique First Nation. The province’s Emergency Measures Organization indicated that unseasonably hot weather caused rapid snowmelt, resulting in an ice jam that was to blame for the river breaching its banks. Andover Elementary School and Southern Victoria High School were both closed due to damages from the floodwaters. The Red Cross used Perth-Andover Middle School as an emergency evacuation site. Perth-Andover hospital also sustained damages; patients were relocated to the Upper River Valley Hospital in Waterville and Grand Falls General Hospital, while some were discharged home. Service New Brunswick’s temporary location in Perth-Andover offered free well-water bacterial testing for private well owners who were impacted by the flood. Health Canada was responsible for contacting well owners with information on potentially harmful contamination in their water, whereas Environment Canada as well as local authorities were responsible for notifying remaining well owners of the absence of bacteria in their water. New Brunswick’s provincial government offered information on government services for people whose property sustained damage resulting from the flood. The response level remained within provincial capacity.\\t\\t\\t500\\t19778000\\t975086.3\\t25/03/2012 12:00:00 AM\\t19778000\\t\\t\\t\\t\\t\\t\\t\\t\\n',\n",
       "  'Incident\\tTechnology\\tTransportation accident\\tRail\\tBurlington ON\\t26/02/2012 12:00:00 AM\\tBurlington ON, February 26-27, 2012. VIA Rail passenger train No. 92 was travelling from Niagara Falls to Toronto. At 15:23 EDT, the train was approaching Burlington while entering crossover track No. 5 at 67 mph, which was 4.5 times the authorized speed limit. Subsequently, the locomotive and all five cars carrying 70 passengers derailed. Three crewmembers were fatally injured and 45 people sustained various injuries. The locomotive fuel tank was punctured and approximately 4,300 litres of diesel fuel was released into the environment. Site remediation work was contracted locally and monitoring wells were installed to monitor any potential ground water contamination.\\t3\\t45\\t0\\t0\\t0\\t27/02/2012 12:00:00 AM\\t\\t\\t\\t\\t\\t\\t\\t\\t\\n',\n",
       "  'Disaster\\tNatural\\tMeteorological - Hydrological\\tHurricane / Typhoon / Tropical Storm\\tQuebec, New Brunswick, Nova Scotia, Prince Eward Island, and Newfoundland and Labrador\\t28/08/2011 12:00:00 AM\\tQuebec, New Brunswick, Nova Scotia, Prince Edward Island and Newfoundland and Labrador, August 28-30, 2011. Hurricane Irene, the storm that caused over 40 deaths and billions of dollars in damages in the United States, moved north into Canada affecting parts of Quebec and the Maritime provinces. The 400 kilometre-wide Post-Tropical storm produced heavy rain and strong gusts of wind, which downed trees and power lines. Parts of Quebec received more than 100 mm of rain and wind gusts of up to 113 km/h. On August 28, Hydro-Quebec reported approximately 250,000 customers (750,000 individuals) without power and by August 29, only 80,000 households were without power. The storm was responsible for two deaths in Quebec; one man died while attempting to reach his family in the storm, while another went missing and is presumed dead when his car was washed down river. Approximately 350 residents were evacuated in Quebec. Strong winds produced six-metre waves over western Maritime waters. Some parts of Labrador received up to 40 mm of rain overnight, while Doaktown and Fredricton New Brunswick received 89 mm and 53 mm respectively. Approximately 50,000 households (150,000 individuals) in New Brunswick and 8000 (24,000 individuals) households in Nova Scotia were without power during the height of the storm.\\t2\\t\\t350\\t153856000\\t7699216\\t30/08/2011 12:00:00 AM\\t16056000\\t\\t\\t\\t\\t137800000\\t\\t1169000\\t\\n',\n",
       "  'Disaster\\tNatural\\tMeteorological - Hydrological\\tTornado\\tGoderich ON\\t21/08/2011 12:00:00 AM\\tGoderich ON, August 21-22, 2011. On August 21, an F3 tornado with 250 km/h winds touched down at 16:00 EDT in the town of Goderich causing severe damages. The extent of destruction included damages to residental and commercial property, downed trees, gas leaks and power outages. Natural gas was off to 90 per cent of the town as well as to residents in surrounding municipalities. As of 10:30 EDT on August 22, power had been restored to most of the affected area. The tornado was approximately 20 kilometres in length and left a path of destruction 200 to 1,500 metres wide. The tornado was responsible for one fatality and injured 37 other people. The F3 tornado that hit Goderich was the most powerful twister recorded in Ontario for more than a decade.\\t1\\t37\\t\\t0\\t0\\t22/08/2011 12:00:00 AM\\t\\t\\t\\t\\t\\t\\t\\t8000\\t\\n',\n",
       "  'Incident\\tTechnology\\tTransportation accident\\tAir\\tResolute Bay NU\\t20/08/2011 12:00:00 AM\\tResolute Bay NU, August 20, 2011. On August 20, First Air flight 6560, on route from Yellowknife to Resolute Bay crashed five miles from its destination. According to the Transportation Safety Board of Canada, during the approach to runway 35T, the Boeing 737-210C combi aircraft struck a hill about one nautical mile east of the midpoint of the Resolute Bay airport runway.  There were four crew members and 11 passengers on board the aircraft.  All crew members and eight passengers were fatally injured. Three passengers survived the accident and were recovered from the site by Canadian military personnel who were in Resolute Bay for Exercise Operation Nanook. The aircraft was destroyed and there was a post-impact fire.\\t12\\t3\\t0\\t0\\t0\\t20/08/2011 12:00:00 AM\\t\\t\\t\\t\\t\\t\\t\\t\\t\\n',\n",
       "  \"Disaster\\tNatural\\tMeteorological - Hydrological\\tFlood\\tEckville, Lacombe, Paddle River, Fort Vermilion, and Peace River AB\\t12/07/2011 12:00:00 AM\\tEckville, Paddle River, Fort Vermilion, and Peace River AB, July 12-14, 2011. According to the AB River Forecast Centre, water levels on the Peace River exceed 1 in 100 year event levels near Fort Vermilion. The region was divided into three segments to facilitate emergency response. All of 'Area A' included all of the low-lying areas, and was placed under immediate evacuation order. On July 12, there were approximately 100 flooded homes in Eckville and 700 homes were without electricity or phone services. Roads and highways were significantly damaged.\\t0\\t0\\t156\\t0\\t0\\t14/07/2011 12:00:00 AM\\t\\t\\t\\t\\t\\t\\t\\t700\\t0\\n\",\n",
       "  'Disaster\\tNatural\\tMeteorological - Hydrological\\tWildfire\\tNorthern Ontario\\t06/07/2011 12:00:00 AM\\tNorthern Ontario, July 6-25, 2011. A lighting storm on July 6 sparked a series of wildfires that spread throughout northern Ontario. Fire personnel were unable to gain control of the fires, which burned roughly 300,000 hectares of land. As of July 20, there were 112 wildfires burning in the region. Evacuation orders were put in place for communities in direct threat from the fires as well as those communities suffering from the impacts of smoke, power outages, food shortages and a lack of food storage capacity, since many communities are only accessible by air. The following evacuations occurred: 535 people from Deer Lake First Nations (FN), 260 people from Cat Lake FN, 50 people from Mishkeegogamang FN, 280 people from Eabametoong FN (Fort Hope), 197 people from Keewaywin FN, approximately 1000 people from Kingfisher Lake FN, approximately 770 people from Sandy Lake FN and approximately 200 people from North Spirit Lake. In addition, the entire communities of Keewaywin FN and Koocheching FN had been completely evacuated. In total, approximately over 3,300 people were evacuated. Wildfires severely damaged more than 86 hydro poles and over 13 kilometres of hydro lines, resulting in power outages across the northern region.\\t0\\t0\\t3300\\t0\\t0\\t25/07/2011 12:00:00 AM\\t\\t\\t\\t\\t\\t\\t\\t1896\\t\\n',\n",
       "  'Disaster\\tNatural\\tMeteorological - Hydrological\\tWildfire\\tMishkeegogamang Ojibway First Nation (New Osnaburgh) ON\\t21/06/2011 12:00:00 AM\\tMishkeegogamang Ojibway First Nation (New Osnaburgh) ON, June 21-27, 2011.  A state of emergency was declared as the First Nation community was overcome by smoke from more than 17 wildfires burning within 10 kilometres of the community’s housing area. The fire was estimated to be 37,000 hectares in size and was out control. There were 423 residents that were evacuated between June 22 and June 24. Sioux Lookout, Greenstone (Gerldton) and Ignace declared states of emergency. The Ontario Ministry of Natural Resources (MNR) deployed 10 fire ranger crews to bring the fires under control while the Department of National Defense (DND) assisted with evacuations, and Health Canada assisted with medical services.\\t\\t\\t423\\t0\\t0\\t27/06/2011 12:00:00 AM\\t\\t\\t\\t\\t\\t\\t\\t\\t\\n',\n",
       "  'Disaster\\tNatural\\tMeteorological - Hydrological\\tFlood\\tWeyburn and Estavan SK\\t17/06/2011 12:00:00 AM\\tWeyburn and Estavan SK, June 17-28, 2011. A local state of emergency was issued on June 17, because of extensive flooding in the City of Weyburn and Estavan, Saskatchewan. Throughout the province, 19 municipalities declared local states of emergency. Approximately 200 homes were known to be affected in Weyburn, where there was 112 mm of rain. On June 17, Estavan received 27 mm of rain over night and 383 residents were evacuated from a mobile trailer park. On June 18, officials reported that the capacity of the treatment plant had exceeded its limit, and Environment Canada granted permission to pump sewage directly into the Souris River. Repairs were conducted at the treatment plant to address the capacity issue. SaskPower reported scattered and localized power outages throughout the region. Residents in most areas were given permission to return to their homes on June 28.\\t0\\t0\\t383\\t0\\t0\\t28/06/2011 12:00:00 AM\\t\\t\\t\\t\\t\\t\\t\\t\\t\\n',\n",
       "  'Incident\\tConflict\\tCivil Incident\\tRioting\\tVancouver BC\\t15/06/2011 12:00:00 AM\\tVancouver BC, June 15-16, 2011. Following the loss of game seven in the Stanley Cup finals to the Boston Bruins, Vancouver Canucks fans took to the streets and rioting ensued. There were 140 people taken to hospital with minor injuries while four people sustained serious injuries. Businesses along Robson St. and West Georgia St. were damaged (smashed windows, looting, and vandalism) while cars nearby were set on fire.\\t0\\t144\\t0\\t0\\t0\\t16/06/2011 12:00:00 AM\\t\\t\\t\\t\\t\\t\\t\\t\\t\\n',\n",
       "  'Disaster\\tNatural\\tMeteorological - Hydrological\\tWildfire\\tHall Lake SK\\t12/06/2011 12:00:00 AM\\tHall Lake SK, June 12-14, 2011. On June 12, the Saskatchewan Emergency Management Organization reported a 25 to 40 hectare wildfire burning approximately three to four kilometers from the La Ronge First Nation subcommunity of Hall Lake. In total, there were 440 residents evacuated. As of June 14, the wildfire was no longer considered to be a direct threat to residents, and the evacuation order was lifted.\\t0\\t0\\t440\\t0\\t0\\t14/06/2011 12:00:00 AM\\t\\t\\t\\t\\t\\t\\t\\t\\t\\n',\n",
       "  'Disaster\\tNatural\\tMeteorological - Hydrological\\tFlood\\tSouthern Manitoba\\t02/06/2011 12:00:00 AM\\tSouthern Manitoba, June 2 to July 9, 2011. On June 3, 1,961 individuals were evacuated from the Ochre River, Alonsa, and Sioux Valley First Nations, and 37 communities declared local states of emergency due to extensive flooding.  Another 45 residences were given mandatory evacuation orders in the Dauphin Lake, Ochre River/Cresent Beach area on June 4. On June 6, the Sastachewan Watershed Authority released a large amount of water from the Tobin Lake Dam, which flows towards the flood zone.  By June 6, 40 communities were under a state of local emergency with a total of 2,058 evacuees registered through the Canadian Red Cross and the Manitoba Association of Native Firefighters (MANFF). Effective June 28, there were a total of 2,937 evacuees, 42 local declared States of Emergency with 13 of these being First Nations communities. On July 9, evacuation orders were lifted for Portage La Prairie, Souris, Wawanesa, and Glenwood.\\t0\\t0\\t2937\\t0\\t0\\t09/07/2011 12:00:00 AM\\t\\t\\t\\t\\t\\t\\t\\t\\t\\n',\n",
       "  'Disaster\\tNatural\\tMeteorological - Hydrological\\tWildfire\\tWollaston Lake SK\\t02/06/2011 12:00:00 AM\\tWollaston Lake SK, June 2 to 9, 2011. On June 1, the Saskatchewan Emergency Organization reported that a 500 hectare fire was burning approximately 1.5 kilometres southwest of the community of Wollaston Lake. Winds blowing in from the southwest caused the fire and smoke to encroach upon the community, and the fire increased to 1,100 hectares by the following day. On June 2, a total of 1,137 residents were evacuated but damages to structures had not been reported at that time.\\t0\\t0\\t1137\\t0\\t0\\t09/06/2011 12:00:00 AM\\t\\t\\t\\t\\t\\t\\t\\t\\t\\n',\n",
       "  'Disaster\\tNatural\\tMeteorological - Hydrological\\tFlood\\tCalgary AB\\t29/05/2011 12:00:00 AM\\tCalgary AB, May 29-31, 2011. Tsuu T’ina First Nation evacuated approximately 40 families (120 individuals) from Calgary due to flooding and road washouts.  In addition, The Stone Tribe evacuated approxiamtely seven families (21 individuals) due to flooding.  Also, the Siksika First Nation and Town of High River have issued voluntary evacuation orders for Hidden Valley and High River areas.\\t0\\t0\\t141\\t0\\t0\\t31/05/2011 12:00:00 AM\\t\\t\\t\\t\\t\\t\\t\\t\\t\\n',\n",
       "  'Disaster\\tNatural\\tMeteorological - Hydrological\\tWildfire\\tSlave Lake AB\\t15/05/2011 12:00:00 AM\\tSlave Lake AB, May 15 to May 22, 2011. Fortynine wildfires in north-central Alberta burned across the Lesser Slave River Region, prompting one of the most destructive wildfires in Canadian history. A state of emergency was declared by the Municipal District of Lesser Slave River No. 124 on May 15, after a wildfire that originated in the town of Slave Lake began to spread uncontrollably, affecting surrounding communities. The wildfire devastated the town of Slave Lake, where 374 buildings were destroyed and 52 damaged by the flames. Approximately 7000 people were evacuated from the town of Slave Lake and 735 individuals and families lost their homes. Outside of the town of Slave Lake, 59 other buildings were destroyed and 32 were damaged. Other affected communities include High Prairie, Little Buffalo, Red Earth Creek, Loon Lake First Nation (FN), Whitefish Lake FN and Woodland Cree FN. Penn West Petroleum, Exall Energy Corp. and Canadian Natural Resources Ltd. halted drilling in the region, suspended production and evacuated their employees. Canadian National (CN) Railway also halted their services in the region. By May 19, the number of evacuees rose to approximately 12,055. The total cost in damages was estimated at over $500 million.\\t\\t\\t12055\\t552960000\\t27671059.2\\t22/05/2011 12:00:00 AM\\t52960000\\t\\t\\t\\t\\t500000000\\t\\t\\t\\n',\n",
       "  'Disaster\\tNatural\\tMeteorological - Hydrological\\tFlood\\tBrandon MB\\t10/05/2011 12:00:00 AM\\tBrandon MB, May 10-28, 2011. Forteen homes were evacuated in Brandon on May 10 due to extensive flooding. By May 15, a total of 3,623 individuals had been evacuated from the following communities: Archie, Arthur, Brandon, Cameron, Cornwallis, Dauphin, Ellice, Elton, Emerson, Langfor, Lake St. Martin First Nations, Ritchot, St. Clements, St. Lazare Village, Sandy Bay First Nations, Sioux Valley First Nations, South Norfolk, Stanley, and Whitewater. There were 120 provincial roads and 655 municipal roads that were closed as a result of the flooding.\\t0\\t0\\t3623\\t0\\t0\\t28/05/2011 12:00:00 AM\\t\\t\\t\\t\\t\\t\\t\\t\\t\\n',\n",
       "  'Disaster\\tNatural\\tMeteorological - Hydrological\\tFlood\\tAssiniboine, Roseau and Red Rivers MB\\t19/04/2011 12:00:00 AM\\tAssiniboine, Roseau, and Red Rivers MB, April 19 to June 17, 2011. By April 28, flooding resulted in 15 communities declaring states of emergency while 1,772 individuals had been evacuated province wide. There were 1,547 evacuees who were from First Nations communities. Indigenous and Northern Affairs Canada (INAC) worked collaboratively with First Nations communities to develop flood action plans with pre-emptive activities.  As of June 15, 2,543 individuals had been evacuated and 32 communities had declared states of emergency. Estimated costs from the Province  is approximately $100 million and the estimated federal share is approximately $87.5 million.\\t0\\t0\\t2543\\t699884000\\t35023386.2\\t17/06/2011 12:00:00 AM\\t699884000\\t\\t\\t\\t\\t\\t\\t\\t0\\n',\n",
       "  'Disaster\\tNatural\\tMeteorological - Hydrological\\tFlood\\tMontérégie QC\\t17/04/2011 12:00:00 AM\\tMontérégie QC, April 17 to June 22, 2011. Early spring melt along with rainy weather between March and May led to historic flooding in the Montérégie region of Quebec. Communities in the Richelieu Valley experienced heavy rainfall from March to May, including Montreal where it rained 182 per cent above average during that time. Starting April 18 to 24, nine municipalities were affected by flooding. Rising water levels in the Richelieu River caused flooding and damages to an additional 16 municipalities, including Sainte-Anne-de-Sabrevios where 400 homes were damaged and Saint-Paul-de-l’Île-aux-Noix where 200 homes were damaged. From April to June, over 40 municipalities in the Montérégie region were affected by flooding and by May 6, 11 municipalities declared states of emergency. On May 23, the Richelieu River set a new all-time record water level of 30.7 metres, due to several days of intense rain. Most significantly impacted by the flooding was Saint-Jean-sur Richelieu where a over 3000 homes were flooded and approximately 1000 people were evacuated from their homes. In total, the floods affected 3,927 people and forced the evacuation of approximately 1,651 people from their homes.\\t0\\t0\\t1651\\t81612000\\t4084003.3\\t22/06/2011 12:00:00 AM\\t81612000\\t\\t\\t\\t\\t\\t\\t\\t\\n',\n",
       "  'Disaster\\tNatural\\tGeological\\tEarthquake\\tJapan\\t11/03/2011 12:00:00 AM\\tJapan, March 11, 2011. Earthquake – A magnitude 9.0-9.1 earthquake struck off the coast of Honshu, Japan on March 11 at 14:46 local time. The earthquake had a depth of 24 kilometres and struck 129 kilometres outside the city of Sendai, 177 kilometres outside of Fukushima and some 372 kilometres northeast of Tokyo. Tsunami – The earthquake triggered a massive tsunami with waves reaching as high as 40 metres and struck land as far as 10 kilometres inland. Close to 28,000 people were reported dead or missing as a result of the earthquake and tsunami. Japanese authorities estimated the number of people injured as a result of this disaster was over 4000.  Over 220,000 buildings were damaged or destroyed.  Costs of damages resulting from the earthquake and tsunami have been estimated at over $300 billion. Nuclear Emergency – The Fukushima Daiichi nuclear power plant was severely damaged by the initial earthquake and subsequent tsunami that followed. A nuclear emergency was declared by Japanese authorities following problems with one of the cooling systems. These problems resulted in three major explosions at the Fukushima nuclear power plant resulting in a level 7 nuclear meltdown. The explosions took place at reactor 1 on March 12, reactor 3 on March 14, and reactor 2 on March 15. On March 14, Japanese Prime Minister Kan announced that the 20 kilometre evacuation zone had been expanded to include a warning for people within 30 kilometres of the Fukushima Daiichi nuclear power plant. The Canadian federal department of Foreign Affairs and International Trade (DFAIT) provided potassium Iodide (KI) to staff at the Canadian mission in Tokyo and Health Canada monitored gamma-radiation levels at the Embassy, confirming the absence of significant radiation meaning there was little threat to the health of Embassy staff. The Canadian government’s support to the government of Japan included a disaster victim identification team, chemical, biological, radiological and nuclear technical expertise and equipment, Canadian Armed Forces military assets to facilitate humanitarian relief efforts, relief stocks, and emergency medical and engineering capabilities. At the time of the earthquake, there were an estimated 11,000 Canadian citizens present in Japan. One Canadian citizen was confirmed to have been killed as a result of the earthquake and tsunami. Total cost estimated is over $300 billion.\\t1\\t\\t\\t0\\t0\\t11/03/2011 12:00:00 AM\\t\\t\\t\\t\\t\\t\\t\\t\\t9\\n',\n",
       "  'Incident\\tConflict\\tCivil Incident\\tDisturbance / Demonstrations\\tLibya\\t15/02/2011 12:00:00 AM\\tLibya, February 15-25, 2011. Qaddafi security services attempted to repress a series of peaceful protests, beginning on February 15. Within one week, the small uprising had spread across Libya, and Qaddafi’s regime struggled to retain control of the country. The government responded to continued uprisings with censorship, blocking of communications, imprisonment, military force and violence. The situation escalated into an armed conflict with an established coalition between rebel groups. As of February 25, more than 203 Canadians had been evacuated from Libya to nearby Malta. On June 14, the Minister of International Cooperation, Beverly J. Oda, announced additional humanitarian assistance. Canada’s total assistance in response to the crisis in Libya was $10.6 million.\\t\\t\\t203\\t0\\t0\\t25/02/2011 12:00:00 AM\\t\\t\\t\\t\\t\\t\\t\\t\\t0\\n',\n",
       "  'Disaster\\tNatural\\tMeteorological - Hydrological\\tFlood\\tNew Brunswick and Nova Scotia\\t13/12/2010 12:00:00 AM\\tNew Brunswick and Nova Scotia, December 13, 2010.  New Brunswick and Nova Scotia experienced heavy rainfall resulting in extensive flooding. A layer of ice and snow underground prevented rain from being absorbed, which led to significant flooding. In New Brunswick and Nova Scotia, flooding caused damages to homes and roads as well as power outages that affected approximately 80,000 residents (240,000 individuals) in Nova Scotia. In New Brunswick, St. Stephan received up to 166.4 mm of rain, while Fedricton received 101.7 mm of rain. Over 120 roads were closed in New Brunswick and up to 60 homes were destroyed. In addition, approximately 44 residents (132 individuals) from St. George and Nashwaak Valley were displaced from their homes. Both provinces provided provincial aid to victims.\\t0\\t0\\t132\\t5000000\\t257510.7\\t13/12/2010 12:00:00 AM\\t5000000\\t\\t\\t\\t\\t\\t\\t240000\\t0\\n',\n",
       "  'Disaster\\tNatural\\tMeteorological - Hydrological\\tWinter Storm\\tLambton County ON\\t12/12/2010 12:00:00 AM\\tLambton County ON, December 12-14, 2010. A severe winter storm caused severe road closures including London Line and Highway 402 in Lambton County. A county emergency was declared on December 13. The next day on December 14, a snow streamer accompanied by heavy winds swept through the region creating a hazard for drivers on the road. In total, there were approximately over 625 people stranded on area roads who had to be rescued and taken to warming centres. The majority of stranded drivers were trapped in their vehicles for up to six hours meaning that many people were forced to spend the night in their vehicles. The Canadian Armed Forces used two Griffin helicopters to assist the Ontario Provincial Police in rescuing 237 motorists stranded in their vehicles along Highway 402. One officer received a minor injury while trying to reach stranded motorists and one man was found dead from exposure to the elements.\\t1\\t1\\t625\\t0\\t0\\t14/12/2010 12:00:00 AM\\t\\t\\t\\t\\t\\t\\t\\t0\\t0\\n',\n",
       "  'Disaster\\tNatural\\tMeteorological - Hydrological\\tFlood\\tGaspé and Bonaventure QC\\t05/12/2010 12:00:00 AM\\tGaspé and Bonaventure QC, December 5-15, 2010. Heavy rains moved through Québec causing flooding from December 5 to 7 and 13 to 15.  A total of 57 municipalities were declared eligible for disaster financial assistance with the provincial government. Approximately 125 residents were evacuated during the flooding on December 15, with between 300 and 500 homes in the Gaspé region being flooded.\\t0\\t0\\t125\\t26217000\\t1350231.8\\t15/12/2010 12:00:00 AM\\t26217000\\t\\t\\t\\t\\t\\t\\t0\\t0\\n',\n",
       "  'Disaster\\tNatural\\tMeteorological - Hydrological\\tFlood\\tYarmouth and Halifax NS\\t07/11/2010 12:00:00 AM\\tYarmouth and Halifax NS, November 7 to December 15, 2010. High winds and heavy rains over a one month period resulted in the \"worst flooding in a century.\"  On November 7, storms began with 215 mm of rain falling in Yarmouth and 172 mm in Halifax. On November 9, 120 families (360 individuals) were evacuated from Yarmouth, and several more families were evacuated from nearby Lequille (Annapolis Royal) and Lake Vaughn. A state of emergency was declared when more than 100 mm of rain fell within 18 hours flooding and overwhelming local resources. Rains continued through to December 15. During this time, roads and bridges were washed out, homes were badly damaged by flood waters, and power was lost to more than 46,000 homes (138,000 individuals). On May 19, 2011, the Emergency Management Office of Nova Scotia released a statement indicating the Disaster Financial Assistance Program’s approval for cost-sharing between the province and Ottawa.\\t\\t\\t360\\t0\\t0\\t15/12/2010 12:00:00 AM\\t\\t\\t\\t\\t\\t\\t\\t\\t\\n',\n",
       "  'Disaster\\tNatural\\tMeteorological - Hydrological\\tStorms and Severe Thunderstorms\\tYarmouth County NS\\t04/11/2010 12:00:00 AM\\tYarmouth County NS, November 4-10, 2010. A severe storm produced a total rainfall ranging from 140 mm to 250 mm.  At least 20 roads were closed due to flooding, and more than 100 people were evacuated from their homes.\\t0\\t0\\t100\\t4118000\\t212085.8\\t10/11/2010 12:00:00 AM\\t4118000\\t\\t\\t\\t\\t\\t\\t0\\t0\\n',\n",
       "  'Disaster\\tNatural\\tMeteorological - Hydrological\\tFlood\\tKingcome Inlet and Bella Coola BC\\t24/09/2010 12:00:00 AM\\tKingcome Inlet and Bella Coola BC, September 24-25, 2010. Flooding caused by heavy rainfall resulted in flooding that destroyed the highway leading into Bella Coola BC. Between September 24 and 25, 204 mm of rain fell in the region. Residents of Kingcome Inlet were evacuated by helicopter when water continued to rise. Approximately 100 people were evacuated from Bella Coola and another 75 people from Kingcome Inlet.\\t\\t\\t175\\t0\\t0\\t25/09/2010 12:00:00 AM\\t\\t\\t\\t\\t\\t\\t\\t\\t\\n',\n",
       "  'Disaster\\tNatural\\tMeteorological - Hydrological\\tHurricane / Typhoon / Tropical Storm\\tNewfoundland and Labrador\\t21/09/2010 12:00:00 AM\\tNewfoundland and Labrador, September 21, 2010. Hurricane Igor hit Newfoundland and Labrador at 12:30 NDT, causing extensive damages. At the height of the hurricane, wind speeds in some areas were in excess of 170 km/h with rainfall reaching nearly 240 mm in some parts of the province. Approximately 150 communities were isolated due to washouts and road closures, and 30 communities had declared states of emergency. Over 30,000 calls were made to the Emergency Operations Centre and over 100 families (300 individuals) were displaced. An 80-year-old man died when he was swept into the ocean during the storm.  The Canadian Forces deployed 1000 troops to assist in the wake of the disaster. Canada Revenue Agency also provided tax relief measures to taxpayers affected by Hurricane Igor in Newfoundland and Labrador.\\t1\\t0\\t300\\t85507690\\t4403829.5\\t21/09/2010 12:00:00 AM\\t85507690\\t\\t\\t\\t\\t\\t\\t0\\t0\\n',\n",
       "  'Disaster\\tNatural\\tMeteorological - Hydrological\\tHurricane / Typhoon / Tropical Storm\\tNova Scotia\\t04/09/2010 12:00:00 AM\\tNova Scotia, September 4, 2010. Hurricane Earl landed 35 kilometres southwest of Liverpool as a Category 1 hurricane with wind speeds of up to 135 km/h. The storm made landfall at 10:30 ADT with some parts of Nova Scotia receiving up to 75 mm of rain. The high winds produced by the storm created peak waves of 23 metres in height and uprooted trees that downed power lines leaving 200,000 Nova Scotia power customers (approximately 600,000 individuals) without power. There were also extensive damages to the Halifax harbour and roads throughout Newfoundland and Nova Scotia from uprooted trees and debris. An individual drowned west of Halifax while trying to rescue a boat that broke free from its mooring. It was reported that the man was wearing a life jacket at the time, but was unable to swim back to shore. Nova Scotia’s Emergency Management Office attributed the man’s death to the storm.\\t1\\t\\t\\t0\\t0\\t04/09/2010 12:00:00 AM\\t\\t\\t\\t\\t\\t\\t\\t600000\\t\\n',\n",
       "  'Disaster\\tNatural\\tMeteorological - Hydrological\\tFlood\\tMeat Cove NS\\t21/08/2010 12:00:00 AM\\tMeat Cove NS, August 21-22, 2010.  A flash flood struck the small community of Meat Cove early in the morning on August 22. The five local bridges suffered major damages, including two bridges that were completely washed away. Local roads were flooded and sustained damages, including the major road that connects the small fishing community to the rest of the province, which resulted in 100 residences and 26 tourists being isolated by the flood. Environment Canada reported 69.8 mm of rain in the area. Officials from the Emergency Management Office worked with the RCMP, Emergency Health Services, the Canadian Red Cross, and others to provide emergency services to the affected people. Access to the area was restricted to boats until August 30 when a temporary bridge over Salmon River was completed.\\t0\\t0\\t126\\t3135000\\t161459.2\\t22/08/2010 12:00:00 AM\\t3135000\\t\\t\\t\\t\\t\\t\\t0\\t0\\n',\n",
       "  'Disaster\\tNatural\\tMeteorological - Hydrological\\tWildfire\\tBritish Columbia\\t28/07/2010 12:00:00 AM\\tBritish Columbia, July 28 to September 8, 2010.  Due to little precipitation and lightning strikes, from July 28 to July 31, the number of fires in British Columbia went from 600 to 1,100.  On August 18, strong winds blew through the interior causing substantial growth of the fires. Throughout the wildfire season, approximately 461 homes (1,383 individuals) were ordered to evacuate the region and hundreds of other homes were put on evacuation alert. The hardest hit areas were Chilcotin, Houston, Williams\\xa0Lake, Burns\\xa0Lake and Fraser\\xa0Lake. All evacuation orders and alerts were removed by the first week of September.  Approximately 330,000 hectares burned due to 1,673 fires.  Over 1,400 personnel from out-of-province assisted with fighting the fires.  Two air tanker pilots died in a plane crash while fighting the fires.  Both the city of Vancouver and the Government of Alberta issued air quality warnings due to smoke caused by the fires.\\t2\\t0\\t1383\\t257339000\\t13253510.7\\t08/09/2010 12:00:00 AM\\t37339000\\t\\t220000000\\t\\t\\t\\t\\t0\\t0\\n',\n",
       "  'Disaster\\tNatural\\tMeteorological - Hydrological\\tStorms and Severe Thunderstorms\\tNorth Battleford SK\\t22/07/2010 12:00:00 AM\\tNorth Battleford SK, July 22, 2010.  A sudden and severe downpour of rain caused extensive flooding in the city of North Battleford.  A local state of emergency was declared and 97 homes were flooded. The Red Cross provided food and accommodations to 45 people from 11 families.\\t0\\t0\\t45\\t112000\\t5768.2\\t22/07/2010 12:00:00 AM\\t112000\\t\\t\\t\\t\\t\\t\\t0\\t0\\n',\n",
       "  'Disaster\\tNatural\\tMeteorological - Hydrological\\tStorm - Unspecified / Other\\tCalgary AB\\t12/07/2010 12:00:00 AM\\tCalgary AB, July 12, 2010. A massive 30-minute long hailstorm pelted the city of Calgary on July 12. The hail ranged from 4 cm in diameter to baseball-sized hail balls. Apart from the hail, the storm brought along with it heavy rain, strong wind gusts, thunder and lightning. The storm caused severe damages throughout the city as hail broke windows, dented cars and destroyed crops. The hailstorm decimated over 90,000 hectares of cropland near Strathmore and Hussar. Crop damage claims were estimated at $18.5 million. In total, the estimated dollar value of damage claims was over $400 million, making it the costliest hailstorm in Canada to date.\\t0\\t0\\t0\\t400000000\\t20600858.4\\t12/07/2010 12:00:00 AM\\t\\t\\t\\t\\t\\t400000000\\t\\t\\t\\n',\n",
       "  'Disaster\\tNatural\\tMeteorological - Hydrological\\tTornado\\tSaskatchewan\\t29/06/2010 12:00:00 AM\\tSaskatchewan, June 29 to July 2, 2010. Saskatoon was struck by severe weather on June 29. The following day numerous municipalities from Prince Albert to Davidson were affected by heavy rain. On July 1, the storm moved south while another system moved in from the north. On July 2, an F3 tornado touched down at approximately 17:30 CST in Kawacatoose First Nation, near the town of Raymond. The tornado produced wind speeds of up to 330 km/h and left a path of destruction that was 500 metres wide and 45 kilometres in length. The tornado destroyed 18 homes in the small First Nations community. There were no fatalities or reported injuries, although 85 people were left homeless in the wake of the tornado.\\t0\\t0\\t85\\t13239000\\t681836.9\\t02/07/2010 12:00:00 AM\\t12881000\\t\\t\\t\\t358000\\t\\t\\t0\\t0\\n',\n",
       "  'Disaster\\tNatural\\tMeteorological - Hydrological\\tTornado\\tMidland ON\\t23/06/2010 12:00:00 AM\\tMidland ON, June 23, 2010. Two tornadoes touched down in Ontario’s Cottage County. An F2 tornado with wind speeds of up to 240 km/h touched down in Midland at 18:30 EST. Another F1 tornado with wind speeds of up to 170 km/h touched down in Washago at 19:00 EST. In Midland, 50 trailers were destroyed and 20 others were damaged. Additionally another 100 residential buildings were damaged by the F2 tornado that also uprooted trees and downed power lines. It was reported that 20 people were sent to the hospital for injures. Ontario provided immediate provincial assistance of up to $1 million to aid in cleanup and repairs.\\t0\\t20\\t0\\t17000000\\t875536.5\\t23/06/2010 12:00:00 AM\\t\\t\\t1000000\\t\\t\\t16000000\\t\\t0\\t0\\n',\n",
       "  'Disaster\\tNatural\\tMeteorological - Hydrological\\tWildfire\\tCranberry Portage MB\\t23/06/2010 12:00:00 AM\\tCranberry Portage MB, June 23 to July 6, 2010. A wildfire 13 kilometres east of Cranberry Portage prompted mandatory and voluntary evacuation orders. Residents from Cranberry Portage were advised to evacuate on June 23 due to smoke from the approaching flames. The Iskwasum and Gyles campgrounds in the Grass River Provincial Park were under a mandatory evacuation order. The road between Cranberry Portage and Sherridon was temporary closed to local traffic due to concerns over visibility. On June 24, approximately 200 people voluntarily evacuated from Cranberry Portage as the fire grew in size. The wildfire reached a maximum size of approximately 55,000 hectares and there were 440 firefighters, 13 helicopters and 13 water bombers combating the flames. On July 6, the travel restrictions near Cranberry Portage were lifted.\\t0\\t0\\t200\\t9572104\\t492983.9\\t06/07/2010 12:00:00 AM\\t9572104\\t\\t\\t\\t\\t\\t\\t0\\t0\\n',\n",
       "  'Disaster\\tNatural\\tGeological\\tEarthquake\\tVal-des-Bois and Gracefield QC\\t23/06/2010 12:00:00 AM\\tVal-des-Bois and Gracefield QC, June 23, 2010. At 13:41 EDT, a magnitude 5.0 earthquake occurred near Val-des-Bois. The effects of the earthquake were mostly felt in Ontario and Quebec, although some tremors were felt in the United States as far as Kentucky. The earthquake caused the strongest shaking experienced in Ottawa for over 200 years. The depth of the earthquake was 22 kilometres and it lasted about 20 to 30 seconds. The earthquake caused significant damages to roads in Quebec, including a collapsed bridge on highway 307 near Bowman and the closure of a bridge on highway 105 in Gracefield. There were also two landslides in Quebec caused by the earthquake as well as damages to commercial and residential property. Approximately 300 households near the epicentre lost power for about an hour. A state of emergency was called in Gracefield, but was lifted on June 26.\\t0\\t0\\t0\\t0\\t0\\t23/06/2010 12:00:00 AM\\t\\t\\t\\t\\t\\t\\t\\t900\\t5\\n',\n",
       "  'Disaster\\tNatural\\tMeteorological - Hydrological\\tFlood\\tSouthern Alberta and Saskatchewan\\t17/06/2010 12:00:00 AM\\tSouthern Alberta and Saskatchewan, June 17, 2010. Record rainfall resulted in extensive flooding in Alberta and Saskatchewan, washing out a portion of the Trans-Canada highway and shutting down part of the Canadian Pacific rail line. Fourty people from the Blood Tribe reserve, 75 homes in Maple Creek, and 600 households in Medicine Hat were forced to evacuate. Disaster financial assistance was provided by both provinces.\\t0\\t0\\t2065\\t1031670000\\t53133218.9\\t17/06/2010 12:00:00 AM\\t75320000\\t\\t206350000\\t\\t750000000\\t\\t\\t0\\t0\\n',\n",
       "  'Disaster\\tNatural\\tMeteorological - Hydrological\\tTornado\\tLeamington ON\\t06/06/2010 12:00:00 AM\\tLeamington ON, June 6, 2010. An F1 tornado touched down in Leamington prompting city officials to declare a local state of emergency. The small community located in the southern region of Essex County was hit by an F1 tornado as well as a series of strong winds called downbursts early in the morning on June 6. The F1 tornado produced winds of up to 180 km/h, which destroyed approximately 12 homes, downed power lines and uprooted trees. Approximately 4,500 hydro customers (13,500 individuals) were left without power. The Canadian Red Cross assisted with response efforts by providing an emergency shelter. There were no reported injuries or fatalities.\\t0\\t0\\t0\\t100000\\t5150.2\\t06/06/2010 12:00:00 AM\\t\\t\\t100000\\t\\t\\t\\t\\t13500\\t0\\n',\n",
       "  'Disaster\\tNatural\\tMeteorological - Hydrological\\tFlood\\tWinnipeg MB\\t28/05/2010 12:00:00 AM\\tWinnipeg MB, May 29, 2010. Heavy rains over the course of a week caused significant flooding in Winnipeg and the surrounding area. Out of the 180,000 residential properties in Winnipeg, 619 reported being flooded. As a result, 420 were damaged by overland flooding, while 199 suffered sewage backups. The province offered disaster financial assistance for the flood event alongside other events which occurred over the spring and summer.\\t0\\t0\\t0\\t7731772\\t398202.8\\t30/05/2010 12:00:00 AM\\t6021772\\t\\t1710000\\t\\t\\t\\t\\t0\\t0\\n',\n",
       "  'Disaster\\tNatural\\tMeteorological - Hydrological\\tWildfire\\tChapleau ON\\t27/05/2010 12:00:00 AM\\tChapleau ON, May 27, 2010. A forest fire, which started in the Chapleau area near Wawa, burned through approximately 22 hydro poles and caused a power outage affecting approximately 2,000 local residents.\\t0\\t0\\t0\\t0\\t0\\t27/05/2010 12:00:00 AM\\t\\t\\t\\t\\t\\t\\t\\t2000\\t0\\n',\n",
       "  'Disaster\\tNatural\\tMeteorological - Hydrological\\tWildfire\\tWemotaci reserve and La Tuque QC\\t23/05/2010 12:00:00 AM\\tWemotaci reserve and La Tuque QC, May 23, 2010. A 39 hectare fire forced the evacuation of 1,300 residents from the Wemotaci reserve. This was just one of over 50 fires throughout the province that raged for weeks, resulting in large amounts of smoke leading to a smog alert for Montreal, Vaudreuil, Soulanges, Huntingdon, Richelieu Valley, St. Hyacinthe, Lachute, St. Jerome, Lanaudiere, Mauricie, Drummondville, and Bois-Franc.\\t0\\t0\\t1300\\t0\\t0\\t23/05/2010 12:00:00 AM\\t\\t\\t\\t\\t\\t\\t\\t0\\t0\\n',\n",
       "  \"Disaster\\tNatural\\tMeteorological - Hydrological\\tWildfire\\tCounty of Thorhild AB\\t12/05/2010 12:00:00 AM\\tCounty of Thorhild AB, May 12, 2010. A wildfire in the county of Thorhild, north of Edmonton, affected thousands of acres of land. The community of Opal experienced numerous evacuation orders, which affected up to 100 homes on May 17. The Province of Alberta provided $10 million in funding under the Municipal Wildfire Assistance Program to aid in the community's recovery.\\t0\\t0\\t300\\t10000000\\t515021.5\\t12/05/2010 12:00:00 AM\\t\\t\\t10000000\\t\\t\\t\\t\\t0\\t0\\n\",\n",
       "  'Disaster\\tNatural\\tGeological\\tVolcano\\tEyjafjallajökull glacier, Iceland\\t14/04/2010 12:00:00 AM\\tEyjafjallajökull glacier, Iceland, April 14, 2010. A volcanic eruption occurred under the Eyjafjallajökull glacier, in the south of Iceland approximately at 04:00 local time on April 14. The eruption resulted in large volumes of volcanic ash being spewed into the air. As a result, flights in and out of Europe were greatly affected with large numbers of cancellations. Foreign Affairs and International Trade reported being contacted by 1,200 requests from affected Canadians. Transport Canada reported over 200 departures and arrivals of transatlantic flights which were cancelled during the interval.\\t0\\t0\\t1200\\t0\\t0\\t14/04/2010 12:00:00 AM\\t\\t\\t\\t\\t\\t\\t\\t0\\t0\\n',\n",
       "  'Disaster\\tNatural\\tBiological\\tEpidemic\\tGlengarry Hospital, Victoria BC\\t06/04/2010 12:00:00 AM\\tGlengarry Hospital, Victoria BC, April 6, 2010. A Norovirus outbreak at the Chandler Unit was declared on April 6 and affected a total of 39 residents. A respiratory outbreak was later declared on April 22 after an increase in the number of cases and several deaths which occurred in the Chandler Unit. On April 29, two residents at the Fairfield Unit also became ill with respiratory symptoms. No new cases of respiratory illness occurred in the Fairfield Unit after  April 29. A total of 21 residents at Glengarry Hospital (19 at the Chandler Unit and 2 at the Fairfield Unit) were affected by the respiratory illness. Of these 21 individuals, 10 have died (9 at the Chandler Unit, 1 at the Fairfield Unit). Three staff members also experienced respiratory symptoms.\\t10\\t21\\t0\\t0\\t0\\t06/04/2010 12:00:00 AM\\t\\t\\t\\t\\t\\t\\t\\t0\\t0\\n',\n",
       "  'Disaster\\tNatural\\tGeological\\tEarthquake\\tPort-au-Prince, Haiti\\t12/01/2010 12:00:00 AM\\tPort-au-Prince, Haiti, January 12, 2010. At 16:53 local time, a 7.0 magnitude earthquake occurred off the coast of Haiti, approximately 16 kilometres from the capital of Port-au-Prince.  Upwards of 50 aftershocks were felt since January 12, including a 6.1 magnitude on January 20.  In the aftermath 1,911 Canadians in Haiti were located by International and Foreign Affairs and out of that number 58 died and 31 were injured.  A total of 4,620 Canadians and Haitians were evacuated to Canada over the course of 49 flights, including 203 children who were united with their families in Canada.  Expert personnel from DFAIT, CIDA, CIC, CBSA, CSC, and the RCMP were dispatched to aid in the response.\\t58\\t31\\t4620\\t750000000\\t38626609.4\\t12/01/2010 12:00:00 AM\\t\\t\\t\\t\\t750000000\\t\\t\\t0\\t7\\n',\n",
       "  'Disaster\\tNatural\\tMeteorological - Hydrological\\tStorm Surge\\tBaie-Verte and Port Elgin NB\\t02/01/2010 12:00:00 AM\\tBaie-Verte NB, January 2-3, 2010. While there are no gauges in the Baie-Verte/Port Elgin area, Environment Canada reported that based on the gauge at Pointe du Chene the peak water level there lasted for approximately two hours. Environment Canada indicated that water levels in the Baie-Verte/Port Elgin area would have been greater than the five feet recorded at Pointe du Chene due to the peak winds occurring there later in the storm.\\t0\\t0\\t0\\t627673\\t32326.5\\t03/01/2010 12:00:00 AM\\t\\t\\t337716\\t145954\\t\\t144003\\t\\t0\\t0\\n',\n",
       "  'Disaster\\tNatural\\tMeteorological - Hydrological\\tFlood\\tDuncan and North Cowichan (Vancouver Island) BC\\t20/11/2009 12:00:00 AM\\tDuncan and North Cowichan (Vancouver Island) BC, November 20, 2009. Flooding caused by heavy rains and high tides resulted in the destruction of approximately 50 homes and the evacuation of a total of approximately 300 homes (900 individuals). The storm also caused power outages affecting thousands of homes on Vancouver Island, in the Fraser Valley and within the BC interior.\\t\\t\\t900\\t0\\t0\\t20/11/2009 12:00:00 AM\\t\\t\\t\\t\\t\\t\\t\\t\\t\\n',\n",
       "  'Disaster\\tNatural\\tMeteorological - Hydrological\\tStorms and Severe Thunderstorms\\tNova Scotia and New Brunswick\\t25/10/2009 12:00:00 AM\\tNova Scotia and New Brunswick, October 25-28, 2009. A storm pushed through New Brunswick during the last week of October. Hydro utilities reported more than 6,000 customers without electricity in New Brunswick and about 2,000 in Nova Scotia before power was restored. Some Moncton residents faced sewer backups after high winds caused leaves to fall, blocking catch basins. Several streets and homes flooded after 116 mm of rain fell in St. Johns. Firefighters responded to more than 30 calls for flooded basements filled with more than a metre of sewer water. October rainfall in Saint John amounted to 245.4 mm, which was just 2 mm less than the record set in 1977.\\t0\\t0\\t0\\t0\\t0\\t28/10/2009 12:00:00 AM\\t\\t\\t\\t\\t\\t\\t\\t24000\\t0\\n',\n",
       "  \"Disaster\\tNatural\\tMeteorological - Hydrological\\tHurricane / Typhoon / Tropical Storm\\tHalifax NS\\t23/08/2009 12:00:00 AM\\tHalifax NS, August 23, 2009.  Hurricane Bill dumped between 60 and 70 mm of rain with overland wind gusts of 87 km/h. A marine buoy off Nova Scotia recorded winds of 130 km/h and another buoy about 200 kilometers southeast of Yarmouth recorded a maximum wave height of 26.4 metres. Bill's steady downpour and fierce winds knocked out power to 40,000 residents. More than a dozen flights from Halifax International Airport were cancelled and ferry services were suspended between Nova Scotia and Newfoundland. In Newfoundland and Labrador there were road washouts and some localized flooding.\\t0\\t0\\t0\\t0\\t0\\t23/08/2009 12:00:00 AM\\t\\t\\t\\t\\t\\t\\t\\t40000\\t0\\n\",\n",
       "  'Disaster\\tNatural\\tMeteorological - Hydrological\\tTornado\\tToronto, Windsor, Vaughan and Newmarket ON\\t20/08/2009 12:00:00 AM\\tToronto, Windsor, Vaughan and Newmarket ON, August 20, 2009.  A super cell storm developed just south of Lake Huron and tracked northeastward for a remarkable 200 kilometres. The heat and humidity in Ontario increased once the clouds disappeared. A squall line developed over Lower Michigan and traveled across the Great Lakes reaching southern Ontario at 15:00 EDT. This system produced powerful winds from Windsor to northeast of Toronto as well as destructive tornadoes in Vaughan and Newmarket. While these tornadoes were wreaking havoc just north of Toronto, another series of super cell thunderstorms spawned tornadoes in parts of Simcoe County, Muskoka and Parry Sound Districts to the east of Georgian Bay and north towards Lake Nipissing. In total, the day’s weather produced 19 confirmed tornadoes, including: four F0, eleven F1, and four F2. This was the greatest number of F2 tornadoes in Ontario in one day since the Barrie/central Ontario tornadoes of May 31, 1985. It was also a new Canadian record for the most confirmed tornadoes in one day. Violent winds snapped trees, lifted roofs, flattened cars, mowed down fences, collapsed farm buildings, and inflicted property losses around $100 million. The first tornado of the day touched down in the town of Durham in Grey County, killing a young boy as he left a nearby conservation area day camp. About 600 homes, mostly in the communities of Maple and Woodbridge were damaged. Fourty were destroyed and declared unsafe. At the peak of the storm, Hydro One reported that 69,000 customers (approximately 207,000 individuals) had lost power.\\t1\\t0\\t0\\t0\\t0\\t20/08/2009 12:00:00 AM\\t\\t\\t\\t\\t\\t\\t\\t207000\\t0\\n',\n",
       "  'Disaster\\tNatural\\tMeteorological - Hydrological\\tStorms and Severe Thunderstorms\\tWinnipeg and Steinbach MB\\t14/08/2009 12:00:00 AM\\tWinnipeg and Steinbach MB, August 14, 2009. Powerful thunderstorms, spectacular lightning strikes and baseball-sized hail hammered a wide area of southern Manitoba from Winnipeg to Steinbach. More than 7000 instances of damage to houses and vehicles were reported and losses ranged between $50-75 million. The storm also knocked out power to approximately 4000 homes (12,000 individuals).\\t0\\t0\\t0\\t50000000\\t2622377.6\\t14/08/2009 12:00:00 AM\\t\\t\\t\\t\\t\\t50000000\\t\\t12000\\t0\\n',\n",
       "  \"Disaster\\tNatural\\tMeteorological - Hydrological\\tTornado\\tDéléage and Mont-Laurier QC\\t04/08/2009 12:00:00 AM\\tDéléage and Mont-Laurier QC, August 4, 2009. A powerful F2 tornado touched down in Déléage at 14:00 EST and track 40 kilometres through Aumond, to Mont-Laurier in the upper Laurentians. The tornado blew away roofs, knocked down walls, flipped over cars, snapped utility poles and downed power lines leaving 4000 residents (12,000 individuals) without power. In Mont-Laurier, 40 homes were damaged, amoung those 28 were rendered uninhabitable. There were no fatalities, although two people were injured and taken to the hospital. The tornado caused about $6 million in insured losses. The tornado's path through Mont-Laurier was 300 metres wide, but its 40 kilometre track was an unusually long distance for a tornado in Quebec and a strong indication of the storm's severity. Previous to this event, the last time a stronger tornado touched down in the Quebec was on the same day in 1994 when an F3 tornado destroyed more than 400 homes in Aylmer.\\t0\\t0\\t0\\t6000000\\t314685.3\\t04/08/2009 12:00:00 AM\\t\\t\\t\\t\\t\\t6000000\\t\\t12000\\t0\\n\",\n",
       "  'Disaster\\tNatural\\tMeteorological - Hydrological\\tStorms and Severe Thunderstorms\\tSouthern Alberta\\t01/08/2009 12:00:00 AM\\tSouthern Alberta, August 1-3, 2009. A cold front swept through southern Alberta on August 1, bringing with it strong wind gusts of up to 100 km/h. The powerful winds brought down a stage at the Big Valley Jamboree in Camrose killing one individual and injuring 75 others. Calgary received wind gusts of up to 78 km/h. The strong winds killed a small child and injured two others when debris from a construction site struck the individuals. On August 2 and 3, a powerful storm developed increasing the severity of the strong winds with wind gusts of up to 107 km/h, along with large hail and heavy rain. The power winds downed trees and power lines, knocking out power to an unknown number of people. In some parts of Alberta, hail was measured at 10 cm deep, with some hail the size of baseballs. Hail caused extensive damages to homes and vehicles.\\t2\\t77\\t0\\t0\\t0\\t03/08/2009 12:00:00 AM\\t\\t\\t\\t\\t\\t\\t\\t10000\\t0\\n',\n",
       "  'Disaster\\tNatural\\tMeteorological - Hydrological\\tHeat Event\\tVancouver and Fraser BC\\t27/07/2009 12:00:00 AM\\tVancouver and Fraser BC, June 27 to August 3, 2009. Temperatures of up to 34.4 degrees centigrade were measured at Vancouver International Airport during an eight-day period from July 27 to August 3. According to the Fraser and Vancouver Health Authorities, in the past during the same eight-day period from July 27 to August 3, the average number of deaths was 321, but in 2009 during this time, there was a registered 455 deaths. It is believe that the heat greatly contributed towards the unusually high number of deaths.\\t455\\t\\t\\t0\\t0\\t03/08/2009 12:00:00 AM\\t\\t\\t\\t\\t\\t\\t\\t\\t0\\n',\n",
       "  'Disaster\\tNatural\\tMeteorological - Hydrological\\tStorms and Severe Thunderstorms\\tHamilton and Toronto ON\\t26/07/2009 12:00:00 AM\\tHamilton and Toronto ON, July 26, 2009. A storm cell stalled over the western end of Lake Ontario. Hamilton was hard hit. Waves of thunderstorms pounded the city, leaving citizens with flooded basements and motorists stuck in traffic caused by road closures. The midday downpour turned Red Hill Creek into an angry brown torrent that forced the closure of nearby roads and highways. Water gushed into 7000 basements and power was shut off to thousands of customers. While the Hamilton Airport observed only 28 mm of rain, radar estimates confirmed rainfall amounts in an unofficial gauge totaling 110 mm in two hours - worse than a 100-year storm and one of the most intense short-duration rainfalls on record in Canada. Conditions were made worse because the ground was super-saturated from storms two days earlier. In Toronto, parts of Lakeshore Boulevard near the Exhibition grounds were submerged. To the north, a pair of giant sinkholes swallowed part of Finch Avenue West - big enough to hold a fleet of cars and deep enough to cover a four-storey building.\\t0\\t0\\t0\\t0\\t0\\t26/07/2009 12:00:00 AM\\t\\t\\t\\t\\t\\t\\t\\t0\\t0\\n',\n",
       "  'Disaster\\tNatural\\tMeteorological - Hydrological\\tStorms and Severe Thunderstorms\\tEdmonton AB\\t18/07/2009 12:00:00 AM\\tEdmonton AB, July 18, 2009.  A cold front mixed with warm air produced severe thunderstorms in the Edmonton area. The city of Edmonton, along with Lamont and Strathcona counties, were hit by a storm cell that produced intense lightning, heavy rain, hail and strong winds of up to 110 km/h. The strong winds downed trees and power lines, knocking out power to an unknown number of people. In Edmonton, the powerful winds ripped the awning off the Edmonton CN Tower, causing damages to the tower and vehicles parked below. In addition, lightning caused various fires throughout the city.\\t0\\t0\\t0\\t4500000\\t236014\\t18/07/2009 12:00:00 AM\\t400000\\t4100000\\t\\t\\t\\t\\t\\t0\\t0\\n',\n",
       "  'Disaster\\tNatural\\tMeteorological - Hydrological\\tFlood\\tNotre-Dame-des-Prairies QC\\t28/06/2009 12:00:00 AM\\tNotre-Dame-des-Prairies QC, June 28 to July 4, 2009. A quasi-stationary low-pressure system stalled over eastern Ontario and Quebec. Excessive rains of up to 140 mm damaged roads and bridges, and flooded basements.  The hardest hit areas were in Charlevoix, Mauricie and Parent. Flood waters filled 50 houses in Notre-Dame-des-Prairies on July 1, and collapsed a street in Entrelacs when a stream overflowed. The flow rate on several rivers exceeded historic records.\\t0\\t0\\t0\\t0\\t0\\t04/07/2009 12:00:00 AM\\t\\t\\t\\t\\t\\t\\t\\t0\\t0\\n',\n",
       "  'Disaster\\tNatural\\tMeteorological - Hydrological\\tStorm - Unspecified / Other\\tMontreal, Alma, La Tuque and Baie-Saint-Paul QC\\t14/05/2009 12:00:00 AM\\tMontreal, Alma, La Tuque and Baie-Saint-Paul QC, May 14, 2009. Winds gusting up to 100 km/h wreaked havoc across Quebec on May 14. An 18-wheeler was one of six tractor-trailers pushed over on its side near Beloeil. Strong winds cut electricity to 70,000 people by downing hydro lines.  Winds also inflicted significant property damage: in Ste-Julie, winds uprooted hundreds of trees and tossed a gazebo and trampoline into the air where there were left dangling from power lines; in Alma, fallen trees crossed power lines, igniting a brush fire; in the La Tuque region, winds blew shingles off a hotel roof and dropped a street light on a home; and in Baie-Saint-Paul, winds snapped hydro poles in half and tore away roofs.\\t0\\t0\\t0\\t0\\t0\\t14/05/2009 12:00:00 AM\\t\\t\\t\\t\\t\\t\\t\\t70000\\t0\\n',\n",
       "  'Disaster\\tNatural\\tMeteorological - Hydrological\\tFlood\\tRock Creek and Henderson Corner YT\\t01/05/2009 12:00:00 AM\\tRock Creek and Henderson Corner YT, May 1, 2009.  Overland flooding from May 1 to May 3 affected the unincorporated areas of Rock Creek and Henderson Corner in the Klondike Valley, resulting in the evacuation of 28 people and damage to both private property and public infrastructure, such as roads and recreational facilities.\\t0\\t0\\t28\\t459130\\t24080.2\\t01/05/2009 12:00:00 AM\\t59130\\t400000\\t\\t\\t\\t\\t\\t0\\t0\\n',\n",
       "  'Disaster\\tNatural\\tMeteorological - Hydrological\\tWildfire\\tKelowna, Kamloops and Cariboo BC\\t01/05/2009 12:00:00 AM\\tKelowna, Kamloops and Cariboo BC, May 1 to August 31, 2009.  Fire season 2009 had 3,200 fires, 213 of which were wildland-urban interface fires. On July 18, fires broke out in the Glenrosa and Rose Valley communities of West Kelowna, combined with the Terrace Mountain fire west of Fintry, which led to multiple evacuation orders and alerts. July also saw an abundance of lightning storms leading to other fires of note throughout the province. Temperatures continued to break record highs and little precipitation was received in most areas. As September began, all personnel continued to work hard to contain fires across the Kamloops and Cariboo regions. The Lava Canyon fire, the largest, was nearly 55,000 hectares and growing.  There were over 100 notable fires during this fire season: at least 27 caused evacuation orders and at least a dozen more caused evacuation alerts.  Approximately 20,000 people were evacuated. One helicopter pilot lost his life in the line of duty.\\t1\\t0\\t20000\\t98743529\\t5178856.4\\t31/08/2009 12:00:00 AM\\t81743529\\t17000000\\t\\t\\t\\t\\t\\t0\\t0\\n',\n",
       "  \"Disaster\\tNatural\\tMeteorological - Hydrological\\tStorms and Severe Thunderstorms\\tOttawa, Toronto and Windsor ON\\t25/04/2009 12:00:00 AM\\tOttawa, Toronto and Windsor ON, April 25, 2009. A spate of fierce thunderstorms broke out across southwestern, southcentral and eastern Ontario. Winds at Toronto Pearson International Airport gusted to 115 km/h, the strongest wind gusts reported since January 1978. Power lines and trees came down across the province, knocking out power to 100,000 customers (300,000 individuals).  Embedded in the thunderstorm cluster were marble-sized hail near Parry Sound, waterspouts in the Ottawa River, straight-line winds and weak tornados in Windsor and Ottawa. In Windsor, the roof was ripped off a union hall building with chunks of roofing and shards of glass littering the lawn and front steps. At Ottawa's Rockcliffe Flying Club, winds damaged 18 planes. Both tornados were F0 in intensity with winds of up to 110 km/h.\\t0\\t0\\t0\\t0\\t0\\t25/04/2009 12:00:00 AM\\t\\t\\t\\t\\t\\t\\t\\t300000\\t0\\n\",\n",
       "  'Disaster\\tNatural\\tMeteorological - Hydrological\\tFlood\\tSaint John, Miramichi and Restigouche River NB\\t05/04/2009 12:00:00 AM\\tSaint John, Miramichi and Restigouche River NB, April 5 to May 4, 2009. A freshet in spring 2009 caused flooding in a number of communities, primarily from the formation of ice jams which raised water levels along the Saint John, Miramichi, and Restigouche rivers from April 5 to May 4.  The flooding caused damages to homes, businesses and infrastructure such as roadways.  Preliminary eligible costs are estimated at $2.0 million, which would result in a federal share of approximately $626,000.\\t0\\t0\\t0\\t2000000\\t104895.1\\t04/05/2009 12:00:00 AM\\t626000\\t1374000\\t\\t\\t\\t\\t\\t0\\t0\\n',\n",
       "  'Disaster\\tNatural\\tBiological\\tPandemic\\tAcross Canada\\t01/04/2009 12:00:00 AM\\tAcross Canada, April 1, 2009 to February 1, 2010. A new strain of pandemic influenza. The first cases were seen in Mexico and it spread quickly across the globe. In Canada, there were 8,582 hospitalizations, 1,448 cases admitted to the intensive care unit (ICU) and 425 deaths.\\t425\\t8582\\t0\\t0\\t0\\t01/02/2010 12:00:00 AM\\t\\t\\t\\t\\t\\t\\t\\t0\\t0\\n',\n",
       "  \"Disaster\\tNatural\\tMeteorological - Hydrological\\tFlood\\tRoseau River First Nation, Sioux Falls, Peguis First Nation, St. Andrews, St. Clements and Selkirk MB\\t24/03/2009 12:00:00 AM\\tRoseau River First Nation, Sioux Falls, Peguis First Nation, St. Andrews, St. Clements and Selkirk MB, March 24 to May 21, 2009. Overland flooding caused by a combination of snowmelt, seasonal precipitation and the spring breakup affected southern Manitoba's watershed areas of the Red, Pembina, Assiniboine, and Souris Rivers. The event caused flooding of houses and evacuations from communities including Roseau River First Nation, Sioux Falls, Peguis First Nation, St. Andrews, St. Clements and Selkirk. The flooding also resulted in damage to public infrastructure such as bridges, roads, and highways. Three principal factors led to the spring flooding: 1) Heavy autumn rains, about 43 per cent more than normal, saturated the ground just before freezing in early December, which left little room for absorbing snow melt in the spring; 2) It was a snowy winter in southern Manitoba with some 25 per cent more snowfall than normal. Heavy snowfalls and copious spring rains swelled the critical headwaters of North Dakota sending excessive waters north into Canada via the Red River and its tributaries; and, 3) An unseasonably cold spring slowed basin snow melting, ice decaying in rivers, and overland flow from ditches and culverts.\\t0\\t0\\t3000\\t76506000\\t4012552.4\\t21/05/2009 12:00:00 AM\\t70006000\\t6500000\\t\\t\\t\\t\\t\\t0\\t0\\n\",\n",
       "  \"Disaster\\tNatural\\tMeteorological - Hydrological\\tDrought\\tSaskatchewan and Alberta\\t01/03/2009 12:00:00 AM\\tSaskatchewan and Alberta, March 1 to July 1, 2009.  The Canadian Wheat Board projected lower crop prospects by 20 per cent across the Prairies. A dozen counties and municipal districts in Alberta declared a state of drought emergency or disaster. For example, Saskatoon had less than one-quarter of the usual amount of spring precipitation, making the months of March, April and May the driest since record-keeping began in 1892. It wasn't just spring that was dry. The soil moisture recharge period between September 1, 2008 and March 31, 2009 had less than 60 per cent of normal precipitation. To the west, in Alberta, conditions were even drier, as illustrated by precipitation amounts in Edmonton, where the 12- month total rain and snow from July 2008 to June 2009 was only 234 mm, less than half of normal and the driest such period with records dating back to 1880. Making matters worse, eight of the last ten years in Alberta's capital of Edmonton had less rain and snow than the 30-year average total, but no year was as scanty as the most recent. Not surprisingly, the flow of the North Saskatchewan River was at its third lowest level in nearly a century.\\t0\\t0\\t0\\t0\\t0\\t01/07/2009 12:00:00 AM\\t\\t\\t\\t\\t\\t\\t\\t0\\t0\\n\",\n",
       "  'Disaster\\tNatural\\tMeteorological - Hydrological\\tStorms and Severe Thunderstorms\\tVancouver, Fraser Valley and the Greater Vancouver Regional Districts BC\\t06/01/2009 12:00:00 AM\\tVancouver, Fraser Valley and the Greater Vancouver Regional Districts BC, January 6 to 8, 2009. A severe rainstorm from January 6 to January 8 affected Vancouver, Fraser Valley and the Greater Vancouver Regional Districts causing overland flooding, mudslides and landslides until January 31. Preliminary eligible costs are estimated at $16,500,000, which would result in a federal share of approximately $6,900,000.\\t0\\t0\\t0\\t13191884\\t691882\\t08/01/2009 12:00:00 AM\\t3591884\\t9600000\\t\\t\\t\\t\\t\\t0\\t0\\n',\n",
       "  'Disaster\\tNatural\\tMeteorological - Hydrological\\tStorms and Severe Thunderstorms\\tGreater Vancouver and Fraser Valley BC\\t06/01/2009 12:00:00 AM\\tGreater Vancouver and Fraser Valley BC, January 6-8, 2009. An upper level low brought warm weather and heavy rainfall to Vancouver and the Fraser Valley region after southern British Columbia received higher than average snowfall in December 2008. There was a period of heavy rain from January 6 to 8 that caused flooding, landslides and mudslides. The towns of Hope and Chilliwack recorded 214 and 164 mm of rain. Chilliwack declared a local state of emergency as the flooding caused extensive damages to homes and roadways.\\t0\\t0\\t0\\t3591884\\t188385.5\\t08/01/2009 12:00:00 AM\\t3591884\\t\\t\\t\\t\\t\\t\\t0\\t0\\n',\n",
       "  'Disaster\\tNatural\\tMeteorological - Hydrological\\tWinter Storm\\tPrince Edward Island\\t13/12/2008 12:00:00 AM\\tPrince Edward Island, December 13, 2008. An ice storm on December 13, downed 300 utility poles resulting in one of the worst power outages since the mid-1970 and cost Maritime Electric approximately $1.5 million to repair. Nearly 95 per cent of Islanders were without electricity, as freezing rain and an ice pellet-drizzle mix left thick layers of ice on roof tops, trees and transmission lines. Power poles were pulled down by ice-laden lines and strong winds. Across the province, makeshift shelters were organized in legion halls, fire stations, schools and community centres. Rescue teams and hydro crews arrived from outside the province to assist. The Canadian military also remained on standby at the Canadian Forces Base in Gagetown, NB.\\t\\t\\t\\t0\\t0\\t13/12/2008 12:00:00 AM\\t\\t\\t\\t\\t\\t\\t\\t127283\\t\\n',\n",
       "  'Disaster\\tNatural\\tMeteorological - Hydrological\\tHurricane / Typhoon / Tropical Storm\\tYarmouth County NS\\t28/09/2008 12:00:00 AM\\tYarmouth NS, September 28, 2008. Tropical Storm Kyle made landfall bringing heavy rains and powerful winds as high as 100 km/h.  The high winds resulted in 40,000 being without power along with significant damage to infrastructure and personal property.\\t\\t\\t\\t0\\t0\\t28/09/2008 12:00:00 AM\\t\\t\\t\\t\\t\\t\\t\\t40000\\t\\n',\n",
       "  'Disaster\\tNatural\\tMeteorological - Hydrological\\tHurricane / Typhoon / Tropical Storm\\tMaritime Provinces\\t28/09/2008 12:00:00 AM\\tMaritime Provinces, September 28, 2008. Tropical storm Kyle, made landfall with Atlantic Canada between the Yarmouth and Digby counties in western Nova Scotia at 21:30 ADT on September 28. Kyle covered more than 1000 kilometres as it moved north-northeast from the United States before reaching Canada as a Category 1 storm with wind gusts of 120 km/h. The storm brought heavy rain to New Brunswick and Quebec, with parts of New Brunswick receiving up to 72 mm of rain. Power outages were reported in all three Maritime provinces. Nova Scotia had over 40,000 customers (approximately 120,000 individuals) lost power. The storm also produced an estimated storm surge of 80 cm.\\t0\\t0\\t0\\t0\\t0\\t28/09/2008 12:00:00 AM\\t\\t\\t\\t\\t\\t\\t\\t120000\\t0\\n',\n",
       "  'Disaster\\tNatural\\tMeteorological - Hydrological\\tStorms and Severe Thunderstorms\\tKingston ON\\t15/09/2008 12:00:00 AM\\tKingston ON, September 15, 2008. An overnight wind and rainstorm hit Kingston, cut power to thousands of homes in the area, knocked one ferry out of service and toppled small buildings. Kingston received 20 mm of rain overnight and was hit with wind gusts of 67 km/h. Across southeast Ontario, 25,000 homes and businesses (approximately 75,000 individuals) lost power.\\t0\\t0\\t0\\t0\\t0\\t15/09/2008 12:00:00 AM\\t\\t\\t\\t\\t\\t\\t\\t75000\\t0\\n',\n",
       "  'Disaster\\tNatural\\tMeteorological - Hydrological\\tHurricane / Typhoon / Tropical Storm\\tSaint John NB\\t07/09/2008 12:00:00 AM\\tSaint John NB, September 7, 2008. Tropical storm Hanna soaked already waterlogged communities in the Maritime provinces on September 7. By the time it reached Atlantic Canada, Hanna was downgraded to a Post-Tropical storm, but remained at gale strength throughout its track along the Fundy coast of Nova Scotia, through eastern Prince Edward Island, northern Cape Breton and southern Newfoundland. The storm produced 80 km/h wind gusts and heavy rain. Saint John was hard hit by 146 mm of rain. Dozens of roads in Saint John were flooded and closed, including parts of the Southern New Brunswick Railway. Scattered power outages were also reported in New Brunswick and Nova Scotia.\\t0\\t0\\t0\\t675103\\t35500.6\\t07/09/2008 12:00:00 AM\\t675103\\t\\t\\t\\t\\t\\t\\t0\\t0\\n',\n",
       "  'Disaster\\tNatural\\tMeteorological - Hydrological\\tStorms and Severe Thunderstorms\\tQueens County PE\\t06/09/2008 12:00:00 AM\\tQueens County PE, September 6-7, 2008. Storm Hanna caused heavy rainfall, resulting in infrastructure damage mainly in Queens County, with major highway damage to the Trans-Canada Highway in Cornwall.\\t0\\t0\\t0\\t1572759\\t82704.2\\t07/09/2008 12:00:00 AM\\t1572759\\t\\t\\t\\t\\t\\t\\t0\\t0\\n',\n",
       "  'Disaster\\tNatural\\tMeteorological - Hydrological\\tStorms and Severe Thunderstorms\\tColchester, Pictou, Antigonish, Inverness, Victoria, Cumberland and Halifax NS\\t29/08/2008 12:00:00 AM\\tColchester, Pictou, Antigonish, Inverness, Victoria, Cumberland and Halifax NS, August 29 to 31, 2008. A low pressure system moved into Nova Scotia, bringing heavy rains up to 49 mm. The same system returned on August 31 and brought even more rain, up to 68 mm. The total rainfall over the three day period caused extensive flooding.\\t0\\t0\\t0\\t851326\\t44767.4\\t31/08/2008 12:00:00 AM\\t851326\\t\\t\\t\\t\\t\\t\\t0\\t0\\n',\n",
       "  'Incident\\tTechnology\\tHazardous Chemicals\\tFire\\tZama City AB\\t15/08/2008 12:00:00 AM\\tZama City AB, August 15, 2008. A block of sulphur accidently caught fire when crewmembers were working to dispose of the leftover sulphur from the Aphache Gas Plant near Zama City.  The fire started in the front-end loader, which the crew was using to remove the sulphur. The fire ignited the sulphur payload emitting deadly hydrogen-sulphide gas. Mackenzie County officials declared a state of emergency and ordered an evacuation of the Zama City area, where approximately 250 residents were temporarily evacuated. Three workers were taken to the hospital as a precaution. The evacuation order was lifted after the fire was contained later that day.\\t0\\t3\\t250\\t0\\t0\\t15/08/2008 12:00:00 AM\\t\\t\\t\\t\\t\\t\\t\\t0\\t0\\n',\n",
       "  'Incident\\tTechnology\\tExplosion\\tNon-Residential\\tToronto ON\\t10/08/2008 12:00:00 AM\\tToronto ON, August 10, 2008. A series of explosions at North York’s Sunrise Propane Industrial Gases Plant forced the evacuation of 12,000 people living inside a 1.6 kilometre radius of the area. The explosion produced a huge mushroom-shaped fireball that blew out windows and shook the houses of nearby residents. In total, the explosion destroyed 100 homes. Paramedics treated 40 people on site, six people were taken to the hospital and 18 admitted themselves. The explosion killed one Sunrise employee as well as a 25-year veteran of the Toronto Fire Service who died from heart attacked while fighting the fire.\\t2\\t58\\t12000\\t0\\t0\\t10/08/2008 12:00:00 AM\\t\\t\\t\\t\\t\\t\\t\\t0\\t0\\n',\n",
       "  'Disaster\\tNatural\\tBiological\\tEpidemic\\tAcross Canada\\t01/08/2008 12:00:00 AM\\tAcross Canada, August 1, 2008. Listeria monocytogenes spread by contaminated Maple Leaf food products produced at its Bartor Road plant. The outbreak occurred in August 2008. A segment of the population that is most vulnerable became exposed. 57 people became seriously ill and 22 people died.\\t22\\t57\\t0\\t0\\t0\\t01/08/2008 12:00:00 AM\\t\\t\\t\\t\\t\\t\\t\\t0\\t0\\n',\n",
       "  'Disaster\\tNatural\\tMeteorological - Hydrological\\tStorms and Severe Thunderstorms\\tQuebec and New Brunswick\\t31/07/2008 12:00:00 AM\\tQuebec and New Brunswick, July 31 to August 4, 2008. Storms and heavy rainfalls pounded the regions of Beauce, Temiscouata and Gaspésie in eastern Quebec and neighboring northwest New Brunswick. A deluge of more than 100 mm of rain caused severe flooding, which washed out dozens of roads in the region. Two individuals were killed when floodwaters swept their vehicle into a lake in the eastern Temiscouata region of Quebec. Over 50 sections roads were washed out, including small bridges as well as two cottages that were destroyed in Quebec by the heavy rain. In New Brunswick, a state of emergency was declared in Glazier Lake where 74 residents had to be air lifted to safety after a flashflood washed out sections of a provincial highway.\\t2\\t0\\t74\\t1499116\\t78831.7\\t04/08/2008 12:00:00 AM\\t1499116\\t\\t\\t\\t\\t\\t\\t0\\t0\\n',\n",
       "  'Disaster\\tNatural\\tMeteorological - Hydrological\\tStorms and Severe Thunderstorms\\tGander, Hare Bay and Swift Current NL\\t30/07/2008 12:00:00 AM\\tGander, Hare Bay and Swift Current NL, July 30, 2008. A weather system, beginning west of the town of Gander extending east to Hare Bay, and south to Swift Current, caused severe thunderstorms and heavy rain.  This resulted in damage to private property and provincial infrastructure.\\t0\\t0\\t0\\t644956\\t33915.3\\t30/07/2008 12:00:00 AM\\t644956\\t\\t\\t\\t\\t\\t\\t0\\t0\\n',\n",
       "  'Disaster\\tNatural\\tMeteorological - Hydrological\\tStorms and Severe Thunderstorms\\tRegina SK\\t22/07/2008 12:00:00 AM\\tRegina SK, July 22, 2008. Wicked weather wreaked havoc across Regina, with wind gusts up to 92 km/h and 11.2 mm of rain. The squall left about 5000 customers (15,000 individuals) in parts of north and east Regina without power.\\t0\\t0\\t0\\t0\\t0\\t22/07/2008 12:00:00 AM\\t\\t\\t\\t\\t\\t\\t\\t15000\\t0\\n',\n",
       "  'Disaster\\tNatural\\tMeteorological - Hydrological\\tStorms and Severe Thunderstorms\\tLa Tuque QC\\t22/07/2008 12:00:00 AM\\tLa Tuque QC, July 22, 2008. Strong flooding caused by torrential rains forced the evacuation of approximately 112 people and caused considerable damage to a number of homes, two of which needed to be demolished.\\t0\\t0\\t112\\t0\\t0\\t22/07/2008 12:00:00 AM\\t\\t\\t\\t\\t\\t\\t\\t0\\t0\\n',\n",
       "  'Incident\\tTechnology\\tExplosion\\tResidential\\tToronto ON\\t20/07/2008 12:00:00 AM\\tToronto ON, July 20, 2008. Hundreds of residents of an east-Toronto apartment tower were evacuated after an explosion occurred in the basement of the building. Firefighters were called to respond to smoke coming from an underground hydro vault in the basement of the building when an explosion erupted, sending a shock wave throughout the many floors of the apartment tower. Ten people were injured, including nine firefighters. Approximately 900 people were evacuated from the building. Some nearby homes were also evacuated.\\t0\\t10\\t900\\t0\\t0\\t20/07/2008 12:00:00 AM\\t\\t\\t\\t\\t\\t\\t\\t0\\t0\\n',\n",
       "  'Disaster\\tNatural\\tMeteorological - Hydrological\\tTornado\\tWinnipeg MB\\t11/07/2008 12:00:00 AM\\tWinnipeg MB, July 11, 2008. Wind caused havoc across Winnipeg and eastern Manitoba, including one area that may have been hit by a tornado. Up to 5000 homes (15,000 individals) lost power in total.\\t0\\t0\\t0\\t0\\t0\\t11/07/2008 12:00:00 AM\\t\\t\\t\\t\\t\\t\\t\\t15000\\t0\\n',\n",
       "  'Disaster\\tNatural\\tMeteorological - Hydrological\\tWildfire\\tDeschambault Lake SK\\t01/07/2008 12:00:00 AM\\tDeschambault Lake SK, July 1-6, 2008. A large wildfire threatened the community of Deschambault Lake in northern Saskatchewan. The fire was only 1.5 kilometres away from the community before it was redirected by firefighters using a technique called \"back burning,\" which involves igniting a controlled burn in front of the fire in order to reduce the amount of fuel. Approximately 1000 residents were evacuated on July 1 and did not return home until July 6.\\t0\\t0\\t1000\\t0\\t0\\t06/07/2008 12:00:00 AM\\t\\t\\t\\t\\t\\t\\t\\t0\\t0\\n',\n",
       "  'Disaster\\tNatural\\tMeteorological - Hydrological\\tStorms and Severe Thunderstorms\\tLethbridge AB\\t01/07/2008 12:00:00 AM\\tLethbridge AB, July 1, 2008. On Canada Day 2008, Lethbridge was hit by an intense storm that brought heavy rain, which caused flash flooding in parts of the city. It rained 47 mm, the monthly average in just about 90 minutes. The heavy rain reached a peak of about 200 mm for at least one hour. The intense rainstorm flooded the basements of over 300 houses, submerged three underpasses and caused road closures, including the closure of one bridge.\\t0\\t0\\t0\\t0\\t0\\t01/07/2008 12:00:00 AM\\t\\t\\t\\t\\t\\t\\t\\t0\\t0\\n',\n",
       "  \"Disaster\\tNatural\\tMeteorological - Hydrological\\tWildfire\\tNorthern Saskatchewan\\t30/06/2008 12:00:00 AM\\tNorthern Saskatchewan, June 30, 2008. Approximately 2,500 people from the communities of Sandy Bay, Stony Rapids, Pelican Narrows, Black Lake and Uranium City in Saskatchewan's far north have been forced out of their homes due to 64 forest fires.\\t0\\t0\\t2500\\t0\\t0\\t30/06/2008 12:00:00 AM\\t\\t\\t\\t\\t\\t\\t\\t0\\t0\\n\",\n",
       "  'Disaster\\tNatural\\tMeteorological - Hydrological\\tTornado\\tLanaudière QC\\t29/06/2008 12:00:00 AM\\tLanaudière QC, June 29, 2008. A tornado, with winds at times reaching 120 km/h and producing hail the size of golf balls, caused a great deal of property damage. Nearly 15,000 homes (45,000 individuals) were left without power.\\t0\\t0\\t0\\t0\\t0\\t29/06/2008 12:00:00 AM\\t\\t\\t\\t\\t\\t\\t\\t45000\\t0\\n',\n",
       "  'Disaster\\tNatural\\tMeteorological - Hydrological\\tWildfire\\tHalifax NS\\t13/06/2008 12:00:00 AM\\tHalifax NS, June 13, 2008. An unforeseen brush fire ravaged a wooded area east of Halifax. The fire destroyed two homes and forced 5000 residents to evacuate their homes.\\t0\\t0\\t5000\\t0\\t0\\t13/06/2008 12:00:00 AM\\t\\t\\t\\t\\t\\t\\t\\t0\\t0\\n',\n",
       "  'Disaster\\tNatural\\tMeteorological - Hydrological\\tStorms and Severe Thunderstorms\\tMontérégie and Eastern Townships QC\\t10/06/2008 12:00:00 AM\\tMontérégie and Eastern Townships QC, June 10-13, 2008. Thousands of residents south of Montreal had their power knocked out as many regions were hit with wind gusts exceeding 100 km/h. Hydro-Quebec reported that three quarters of the residents in the Montérégie and Eastern Townships, exactly 99,931 homes (approximately 299,793 individuals) lost power on June 10 due to strong winds that damaged power lines. The majority of resident had power restored on June 12, but approximately 25,000 had to wait until June 13.\\t0\\t0\\t0\\t0\\t0\\t13/06/2008 12:00:00 AM\\t\\t\\t\\t\\t\\t\\t\\t299793\\t0\\n',\n",
       "  'Disaster\\tNatural\\tMeteorological - Hydrological\\tWildfire\\tPukatawagan MB\\t10/06/2008 12:00:00 AM\\tPukatawagan MB, June 10, 2008. A town in northern Manitoba declared a state of emergency as food and other necessities dwindled away because of a burned-out railway bridge. More than 2,600 people in Pukatawagan, located about 900 kilometres northwest of Winnipeg, were faced with shortages of food and supplies, including baby products because of a wildfire that damaged the local railway bridge connecting the isolated community with the rest of the province. During the summer months there are only two ways to access Pukatawagan, by air or by rail.\\t0\\t0\\t0\\t0\\t0\\t10/06/2008 12:00:00 AM\\t\\t\\t\\t\\t\\t\\t\\t0\\t0\\n',\n",
       "  'Disaster\\tNatural\\tMeteorological - Hydrological\\tFlood\\tPangnirtung NU\\t08/06/2008 12:00:00 AM\\tPangnirtung NU, June 8-9, 2008. Accelerated snowmelt and heavy rains created a massive flood that prompted the community of Pangnirtung to declare a state of emergency. Floodwaters resulted in the erosion of the permafrost, which supported the bridge abutments on the Duval River. The soil erosion caused sinkholes to form which damaged two bridges. Flooding caused the closure of many roads and disrupted residential water services.\\t0\\t0\\t0\\t4507509\\t237029.4\\t09/06/2008 12:00:00 AM\\t4507509\\t\\t\\t\\t\\t\\t\\t0\\t0\\n',\n",
       "  'Disaster\\tNatural\\tMeteorological - Hydrological\\tStorms and Severe Thunderstorms\\tHuntingdon QC\\t31/05/2008 12:00:00 AM\\tHuntingdon QC, May 31, 2008. More than 95 mm of rain fell on the city of Huntingdon, flooding most of its 1,300 homes and raising fears that the Châteauguay River would overflow.\\t0\\t0\\t0\\t0\\t0\\t31/05/2008 12:00:00 AM\\t\\t\\t\\t\\t\\t\\t\\t0\\t0\\n',\n",
       "  'Disaster\\tNatural\\tMeteorological - Hydrological\\tFlood\\tSaint John River NB\\t30/05/2008 12:00:00 AM\\tSaint John River NB, April 30, 2008. Flooding along the Saint John River caused as many as 1000 people to evacuate their homes.\\t0\\t0\\t1000\\t21000000\\t1104294.5\\t30/05/2008 12:00:00 AM\\t21000000\\t\\t\\t\\t\\t\\t\\t0\\t0\\n',\n",
       "  'Disaster\\tNatural\\tMeteorological - Hydrological\\tWildfire\\tNorway House and Sherridon MB\\t28/05/2008 12:00:00 AM\\tNorway House and Sherridon MB, May 28, 2008. A forest fire, that stretches from a point to the south of Lynn Lake in the northwest corner of the province south to Norway House Cree Nation and east to the Island Lake First Nations, has forced as many as 3,330 people out of their homes.\\t0\\t0\\t3330\\t0\\t0\\t28/05/2008 12:00:00 AM\\t\\t\\t\\t\\t\\t\\t\\t0\\t0\\n',\n",
       "  'Disaster\\tNatural\\tMeteorological - Hydrological\\tFlood\\tHigh River AB\\t24/05/2008 12:00:00 AM\\tHigh River AB, May 24, 2008. Surging water levels on the Highwood River forced the town of High River to declare a state of local emergency.\\t0\\t0\\t0\\t0\\t0\\t24/05/2008 12:00:00 AM\\t\\t\\t\\t\\t\\t\\t\\t0\\t0\\n',\n",
       "  'Disaster\\tNatural\\tMeteorological - Hydrological\\tStorms and Severe Thunderstorms\\tSouthwest Alberta\\t21/05/2008 12:00:00 AM\\tSouthwest Alberta, May 21-25, 2008. A series of rainstorms and the resulting high stream flows significantly impacted municipalities in Southwestern Alberta. The Government of Alberta established a Disaster Recovery Program on July 30, 2008, covering all affected municipalities and residents. The program includes the municipalities of Black Diamond, High River, Okotoks, Clagary, Municipal Districts of Foothills, Kananaskis Improvement District, Pincher Creek, Rocky View, and the Stony First Nation.\\t0\\t0\\t0\\t7535000\\t396231.4\\t25/05/2008 12:00:00 AM\\t1235000\\t6300000\\t\\t\\t\\t\\t\\t0\\t0\\n',\n",
       "  'Disaster\\tNatural\\tMeteorological - Hydrological\\tWildfire\\tNewbrook AB\\t16/05/2008 12:00:00 AM\\tNewbrook AB, May 16-19, 2008. A wildfire burning near the community of Newbrook forced the evacuation of approximately 150 people. A team of 115 firefighters aided by 40 firefighters from British Columbia, halted the fire from reaching Newbrook by bulldozing a strip of timber in between the town and the fire, which prevented the fire from spreading. The fire reached a maximum size of 1,950 hectares. Two houses were destroyed by the blaze.\\t0\\t0\\t150\\t0\\t0\\t19/05/2008 12:00:00 AM\\t\\t\\t\\t\\t\\t\\t\\t0\\t0\\n',\n",
       "  'Disaster\\tNatural\\tMeteorological - Hydrological\\tStorm - Unspecified / Other\\tSouth-Central Manitoba\\t16/05/2008 12:00:00 AM\\tSouth-Central Manitoba, May 16-17, 2008. Over the weekend, Manitoba experienced a wind storm producing damaging winds that caused extensive impacts to the public sector drainage system across a wide area of central Manitoba. Affected areas include the rural municipalities of Cartier, Grey, Macdonald, Dufferin, Morris and Montcalm.\\t0\\t0\\t0\\t314496\\t16537.9\\t17/05/2008 12:00:00 AM\\t314496\\t\\t\\t\\t\\t\\t\\t0\\t0\\n',\n",
       "  'Disaster\\tNatural\\tMeteorological - Hydrological\\tFlood\\tJames Bay ON\\t09/05/2008 12:00:00 AM\\tJames Bay ON, May 9, 2008. A serious flood risk forced about 1,200 people from their homes along the coast of James Bay.\\t0\\t0\\t1200\\t0\\t0\\t09/05/2008 12:00:00 AM\\t\\t\\t\\t\\t\\t\\t\\t0\\t0\\n',\n",
       "  'Disaster\\tNatural\\tMeteorological - Hydrological\\tFlood\\tHay River NT\\t05/05/2008 12:00:00 AM\\tHay River NT, May 5-7, 2008. Ice jams in the Hay River forced water to rise over its banks, creating flood conditions for nearby residents. Approximately 600 people from Vale Island, situated at the mouth of Hay River and Great Slave Lake, fled from their homes as a voluntary evacuation order was issued May 5. Many homes and business were flooded and damaged from debris carried by the rising water. At the Katlodeeche First Nation reserve, floodwaters knocked out the old Anglican Church off its foundation as well as flooded the Roman Catholic Church.\\t0\\t0\\t600\\t460000\\t24189.3\\t07/05/2008 12:00:00 AM\\t460000\\t\\t\\t\\t\\t\\t\\t0\\t0\\n',\n",
       "  'Disaster\\tNatural\\tMeteorological - Hydrological\\tFlood\\tQuebec City QC\\t28/04/2008 12:00:00 AM\\tQuebec City QC, April 28 to May 2, 2008. Heavy rain combined with the spring thaw resulted in flooding and landslides in the Quebec City area. The heavy rain, which started on April 28, lasted until May 2 in some areas. Among the affected communities, Baie-Comeau received up to 120 mm of rain and Sept-Ilse received up to 78 mm of rain. Near Montreal, the Petite Nation River rose one metre, which flooded the surrounding areas. In total, flooding forced the evacuation of 230 people. In addition, landslides caused by the flooding threatened the safety of 60 residents who had to be evacuated as a precaution.\\t0\\t0\\t290\\t0\\t0\\t02/05/2008 12:00:00 AM\\t\\t\\t\\t\\t\\t\\t\\t0\\t0\\n',\n",
       "  'Disaster\\tNatural\\tMeteorological - Hydrological\\tFlood\\tAlbany River ON\\t25/04/2008 12:00:00 AM\\tAlbany River ON, April 25, 2008. More than a dozen aircraft were poised to help evacuate nearly 1,900 residents of Kashechewan and Fort Albany, reserves in the coastal area of James Bay, some 450 kilometres north of Timmins.\\t0\\t0\\t1900\\t0\\t0\\t25/04/2008 12:00:00 AM\\t\\t\\t\\t\\t\\t\\t\\t0\\t0\\n',\n",
       "  'Disaster\\tNatural\\tMeteorological - Hydrological\\tFlood\\tTrent Hills ON\\t17/04/2008 12:00:00 AM\\tTrent Hills ON, April 17, 2008. Over a period of 24 hours, water levels in the tri-lakes (Chemong, Buckhorn and Pigeon) increased 120 mm. The municipality of Trent Hills declared a state of emergency.\\t0\\t0\\t0\\t0\\t0\\t17/04/2008 12:00:00 AM\\t\\t\\t\\t\\t\\t\\t\\t0\\t0\\n',\n",
       "  'Disaster\\tNatural\\tMeteorological - Hydrological\\tFlood\\tBelleville ON\\t14/04/2008 12:00:00 AM\\tBelleville ON, April 14, 2008. Water from the Moira River flooded dozens of homes and shut down roads in Belleville prompting a state of emergency to be declared. Approximately 50 homes were significantly flooded, including six homes (approximately 18 individuals) that were evacuated. Local wells were tainted with floodwater, which meant that residents could not drink from their wells.\\t0\\t0\\t18\\t0\\t0\\t14/04/2008 12:00:00 AM\\t\\t\\t\\t\\t\\t\\t\\t0\\t0\\n',\n",
       "  'Disaster\\tNatural\\tMeteorological - Hydrological\\tFlood\\tPaddockwood SK\\t14/04/2008 12:00:00 AM\\tPaddockwood SK, April 14, 2008. The Rural Municipality of Paddockwood declared a state of emergency after floodwaters rose more than one metre. Floodwaters covered main access roads leaving approximately 400 people stranded in their homes. Two families were forced to leave their homes due to flooding. Water levels receded within a day, but the flooding caused damages to roads and residential homes.\\t0\\t0\\t6\\t0\\t0\\t14/04/2008 12:00:00 AM\\t\\t\\t\\t\\t\\t\\t\\t0\\t0\\n',\n",
       "  'Disaster\\tNatural\\tMeteorological - Hydrological\\tWinter Storm\\tNew Brunswick\\t21/03/2008 12:00:00 AM\\tNew Brunswick, March 21, 2008. Freezing rain and ice downed trees and power lines in New Brunswick leaving some 6000 residents without electricity.\\t0\\t0\\t0\\t0\\t0\\t21/03/2008 12:00:00 AM\\t\\t\\t\\t\\t\\t\\t\\t6000\\t0\\n',\n",
       "  'Disaster\\tNatural\\tMeteorological - Hydrological\\tFlood\\tPort Bruce ON\\t18/02/2008 12:00:00 AM\\tPort Bruce ON, February 18, 2008. The small community of Port Bruce, located at the mouth of Catfish Creek in Lake Erie east of Port Stanley, was flooded due to an ice jam that caused the creek to overflow. It was the second time in two weeks that Port Bruce experienced flooding from the creek. However, on February 18, the flooding was more severe as water levels rose knee-deep in some areas forcing approximately 100 families (300 individuals) to evacuate their homes and preventing many others from leaving.\\t0\\t0\\t300\\t0\\t0\\t18/02/2008 12:00:00 AM\\t\\t\\t\\t\\t\\t\\t\\t0\\t0\\n',\n",
       "  'Disaster\\tNatural\\tMeteorological - Hydrological\\tStorms and Severe Thunderstorms\\tSaint John NB\\t14/02/2008 12:00:00 AM\\tSaint John NB, February 14, 2008. A boil-water order was imposed following a rain storm that saw nearly 80 mm of rain dumped on the city.\\t0\\t0\\t0\\t0\\t0\\t14/02/2008 12:00:00 AM\\t\\t\\t\\t\\t\\t\\t\\t0\\t0\\n',\n",
       "  'Disaster\\tNatural\\tMeteorological - Hydrological\\tWinter Storm\\tPrince Edward Island\\t28/01/2008 12:00:00 AM\\tPrince Edward Island, January 28, 2008. An ice storm that brought snow, freezing rain and heavy rain knocked out power to over 20,000 customers (approximately 60,000 individuals) in Prince Edward Island. Snow followed by heavy rain created layers of ice that downed trees and power lines. Mostly central and western parts of the provinces were affected, with Prince County being hit the hardest by the power outages. The power outages lasted over a week and the province received help from New Brunswick Hydro workers. Heavy rain also caused flooding in parts of Cape Breton.\\t0\\t0\\t0\\t0\\t0\\t28/01/2008 12:00:00 AM\\t\\t\\t\\t\\t\\t\\t\\t60000\\t0\\n',\n",
       "  'Disaster\\tNatural\\tMeteorological - Hydrological\\tWinter Storm\\tQuebec\\t09/01/2008 12:00:00 AM\\tQuebec, January 9, 2008. A vigorous cold front brought very strong winds that caused power outages in several regions of Quebec. A total of 83,000 Hydro-Quebec customers (249,000 Individuals) across the province were left without electricity.\\t0\\t0\\t0\\t0\\t0\\t09/01/2008 12:00:00 AM\\t\\t\\t\\t\\t\\t\\t\\t249000\\t0\\n',\n",
       "  'Disaster\\tNatural\\tMeteorological - Hydrological\\tStorms and Severe Thunderstorms\\tMatane QC\\t17/12/2007 12:00:00 AM\\tMatane QC, December 17, 2007. For the third time in four months, Eastern Quebec was hard hit by bad weather. This time, 275 people were evacuated, mainly from Matane and Saint-René-de-Matane. The city of Matane declared a state of emergency due to gale force winds of up to 100 km/h and artic temperatures.\\t0\\t0\\t275\\t0\\t0\\t17/12/2007 12:00:00 AM\\t\\t\\t\\t\\t\\t\\t\\t0\\t0\\n',\n",
       "  'Disaster\\tNatural\\tMeteorological - Hydrological\\tFlood\\tPrince George BC\\t10/12/2007 12:00:00 AM\\tPrince George BC, December 10, 2007. An ice jam in the Nechako River that, at one point, stretched as long as 33 kilometres, caused localized flooding. A state of emergency was declared.\\t0\\t0\\t20\\t7500000\\t403587.4\\t10/12/2007 12:00:00 AM\\t1600000\\t5900000\\t\\t\\t\\t\\t\\t0\\t0\\n',\n",
       "  'Disaster\\tNatural\\tMeteorological - Hydrological\\tWinter Storm\\tMartime Provinces\\t04/12/2007 12:00:00 AM\\tMaritime provinces, December 4, 2007. A powerful storm that dumped up to 40 cm of wet, heavy snow on parts of Atlantic Canada knocked out power in all four provinces leaving approximately 50,000 people without electricity.\\t0\\t0\\t0\\t0\\t0\\t04/12/2007 12:00:00 AM\\t\\t\\t\\t\\t\\t\\t\\t50000\\t0\\n',\n",
       "  'Disaster\\tNatural\\tMeteorological - Hydrological\\tStorms and Severe Thunderstorms\\tVancouver BC\\t12/11/2007 12:00:00 AM\\tSouthern British Columbia, November 12, 2007. High winds battered southern British Columbia, leaving more than 200,000 people without power as well as stranding thousands of airplane and ferry passengers. Along the coast, winds exceeded 130 km/h. In addition, heavy snow and mudslides caused by high precipitation resulted in road closures. The hardest hit areas were Langley, Surrey, Delta, and Richmond.\\t0\\t0\\t0\\t0\\t0\\t12/11/2007 12:00:00 AM\\t\\t\\t\\t\\t\\t\\t\\t200000\\t0\\n',\n",
       "  'Disaster\\tNatural\\tMeteorological - Hydrological\\tHurricane / Typhoon / Tropical Storm\\tNew Brunswick and Nova Scotia\\t04/11/2007 12:00:00 AM\\tNew Brunswick and Nova Scotia, November 4, 2007. Wind gusts of up to 135 km/h from post-tropical storm Noel lashed the Maritimes, knocking out power to an estimated 190,000 homes and businesses across the region, while pounding surf and heavy rain washed out roads in some coastal areas.\\t0\\t0\\t0\\t0\\t0\\t04/11/2007 12:00:00 AM\\t\\t\\t\\t\\t\\t\\t\\t190000\\t0\\n',\n",
       "  'Disaster\\tNatural\\tMeteorological - Hydrological\\tStorms and Severe Thunderstorms\\tHalifax and Lunenburg NS\\t03/11/2007 12:00:00 AM\\tHalifax and Lunenburg NS, November 3, 2007. Storm Noel.  The province was subjected to a severe storm throughout the province, with the heaviest impact in the areas of Halifax and Lunenburg.\\t0\\t0\\t0\\t2805156.51\\t150950.1\\t03/11/2007 12:00:00 AM\\t812603\\t1925958.41\\t\\t48319.81\\t\\t\\t18275.29\\t0\\t0\\n',\n",
       "  'Disaster\\tNatural\\tMeteorological - Hydrological\\tStorms and Severe Thunderstorms\\tGaspé QC\\t08/08/2007 12:00:00 AM\\tGaspé and Riviere-au-Renard QC, August 8-9, 2007. A severe thunderstorm dumped up to 115 mm of rain on Gaspé and Riviere-au-Renard in less than 10 hours. The heavy rain resulted in significant damages to homes and businesses. In Riviere-au-Renard, 38 homes were damaged and approximately 105 people were evacuated. Nearby in Cortereal, six homes were damaged and approximately 29 people were evacuated. In total, approximately 200 people were evacuated due to flooding that was so severe that some houses were swept away completely. One individual died as a result of the flooding.\\t1\\t0\\t200\\t14149725\\t761420.2\\t09/08/2007 12:00:00 AM\\t14149725\\t\\t\\t\\t\\t\\t\\t0\\t0\\n',\n",
       "  'Disaster\\tNatural\\tMeteorological - Hydrological\\tWildfire\\tNatuashish NL\\t04/08/2007 12:00:00 AM\\tNatuashish NL, August 4-7, 2007. A wildfire destroyed 200 hectares of land and forced the evacuation of 600 local residents. The blaze that burned near the Innu community of Natuashish in Labrador was sparked by accident by a group of teenagers who started a fire to warm themselves up after swimming in the popular swimming hole near the airport. The fire spread so rapidly that the teenagers narrowly escaped with their lives. The fire burned for several days and halted flights to the local airport.\\t0\\t0\\t600\\t0\\t0\\t07/08/2007 12:00:00 AM\\t\\t\\t\\t\\t\\t\\t\\t0\\t0\\n',\n",
       "  'Disaster\\tNatural\\tMeteorological - Hydrological\\tWildfire\\tKootenay BC\\t01/08/2007 12:00:00 AM\\tKootenay BC, August 1, 2007. Forest fires raging in southeastern British Colombia triggered a state of local emergency and caused three homes to be evacuated and power to be cut to more than 3000 homes.\\t0\\t0\\t9\\t0\\t0\\t01/08/2007 12:00:00 AM\\t\\t\\t\\t\\t\\t\\t\\t3000\\t0\\n',\n",
       "  'Disaster\\tNatural\\tMeteorological - Hydrological\\tStorms and Severe Thunderstorms\\tPeninsulas of Avalon, Burin and Bonavista NL\\t01/08/2007 12:00:00 AM\\tAvalon, Burin and Bonavista peninsulas NL, August 1, 2007.  Storm Chantal.  A severe rainstorm resulted in damage to private property and provincial and local government infrastructure.\\t0\\t0\\t0\\t19073933\\t1026400\\t01/08/2007 12:00:00 AM\\t19073933\\t\\t\\t\\t\\t\\t\\t0\\t0\\n',\n",
       "  'Disaster\\tNatural\\tMeteorological - Hydrological\\tHurricane / Typhoon / Tropical Storm\\tNewfoundland\\t01/08/2007 12:00:00 AM\\tNewfoundland, August 1, 2007. Post-Tropic storm Chantel tracked over through the Maritimes reaching Newfoundland’s Avalon Peninsula on August 1. Chanel dumped up to 200 mm of rain and produced wind gusts of up to 111 km/h in the region. The intense rainfall broke records. St. John’s West and Mount Pearl reported the heaviest one-hour rainfall, which included 43 mm and 49 mm respectively. Ten communities in Newfoundland were isolated due to flooding and declared a state of emergency. Numerous roads and bridges were washed out because of the torrential rain.\\t0\\t0\\t0\\t0\\t0\\t01/08/2007 12:00:00 AM\\t\\t\\t\\t\\t\\t\\t\\t0\\t0\\n',\n",
       "  'Incident\\tTechnology\\tFire\\tResidential\\tEdmonton AB\\t21/07/2007 12:00:00 AM\\tEdmonton AB, July 21, 2007. The community of MacEwan Green had little warning as a fire erupted in the condominium complex. The fire started in a unit of a four-story building that was under construction and destroyed 18 townhouses as well as damaged 76 other homes. Dry weather conditions resulted in the fire spreading to other units within minutes. Fire crews, including 28 emergency vehicles, worked to suppress the three-alarm fire. A 500-pound propane tank was removed from the blaze before it could explode. No one was injured during the fire, but 18 families were displaced.\\t0\\t0\\t282\\t0\\t0\\t21/07/2007 12:00:00 AM\\t\\t\\t\\t\\t\\t\\t\\t0\\t0\\n',\n",
       "  'Disaster\\tNatural\\tMeteorological - Hydrological\\tWildfire\\tSouth Indian Lake MB\\t19/07/2007 12:00:00 AM\\tNorthern Manitoba, July 19-26, 2007. A total of 254 wildfires burned 147,473 hectares of land in Manitoba in the summer of 2007. From July 19 to 26, 55 wildfires were burning in Northern Manitoba. During this time, numerous communities were in danger and had to be evacuated from fires that burned up to 16 kilometres away. Evacuations began as early as July 19, when 435 people from O-Pipon-NaPiwin Cree Nation at South Indian Lake had to be airlifted to safety. On July 24, 330 people were airlifted from Sayisi Dene Nation at Tadoule Lake. In addition, on July 25, 48 people from Tataskweyak Cree Nation at Split Lake and 150 from Shamattawa were evacuated due to smoke. All evacuees were taken to Winnipeg and Thompson. The government of Manitoba deployed 450 firefighters, 27 helicopters and nine water bombers. In addition, five firefighting crews from British Columbia assisted local firefighters. The largest fire burned near South Indian Lake and was 85, 000 hectares in size.\\t0\\t0\\t963\\t0\\t0\\t26/07/2007 12:00:00 AM\\t\\t\\t\\t\\t\\t\\t\\t0\\t0\\n',\n",
       "  'Incident\\tTechnology\\tHazardous Chemicals\\tLeak / Spill Release\\tDartmouth NS\\t05/07/2007 12:00:00 AM\\tDartmouth NS, July 5, 2007. Approximately 1000 people were evacuated from Burnside Industrial Park due to a propane leak. The truck carrying the tank was holding a payload of 13, 000 litres of propane. Firefighters and the municipal HAZMAT team established a exclusion zone 1000 metres around the incident site. The cause of the leak is unknown.\\t0\\t0\\t1000\\t0\\t0\\t05/07/2007 12:00:00 AM\\t\\t\\t\\t\\t\\t\\t\\t0\\t0\\n',\n",
       "  'Disaster\\tNatural\\tMeteorological - Hydrological\\tTornado\\tElie MB\\t22/06/2007 12:00:00 AM\\tElie MB, June 22, 2007. Tornadoes touched down west of Winnipeg in Eli and near Oakville, ripping apart several homes and flipping over a semi-trailer on the Trans-Canada Highway. Miraculously, no one appears to have been seriously hurt.\\t0\\t0\\t0\\t0\\t0\\t22/06/2007 12:00:00 AM\\t\\t\\t\\t\\t\\t\\t\\t0\\t0\\n',\n",
       "  'Disaster\\tNatural\\tMeteorological - Hydrological\\tStorms and Severe Thunderstorms\\tMunicipalities of Pipestone, Sifton, Cameron, White water, Morton, Riverside, Turtle Mountain, Strathcona and Argyle and the Whiteshell Provincial Park MB\\t22/06/2007 12:00:00 AM\\tMunicipalities of Pipestone, Sifton, Cameron, White water, Morton, Riverside, Turtle Mountain, Strathcona and Argyle and the Whiteshell Provincial Park MB, June 22 to 24 June, 2007.  Wind storms and tornados caused significant damages.\\t0\\t0\\t0\\t1183183\\t63669\\t22/06/2007 12:00:00 AM\\t1183183\\t\\t\\t\\t\\t\\t\\t0\\t0\\n',\n",
       "  'Disaster\\tNatural\\tMeteorological - Hydrological\\tWildfire\\tHappy Valley - Goose Bay NL\\t16/06/2007 12:00:00 AM\\tHappy Valley-Goose Bay NL, June 16-17, 2007.  A forest fire burned near Happy Valley-Goose Bay forcing the evacuation of 200 homes. The blaze that was pushed towards the community by wind gusts of 50 km/h reached up to 300 metres of some homes. Fire crews helped by two water bombers and six helicopters managed to suppress the flames.\\t0\\t0\\t600\\t0\\t0\\t17/06/2007 12:00:00 AM\\t\\t\\t\\t\\t\\t\\t\\t0\\t0\\n',\n",
       "  'Disaster\\tNatural\\tMeteorological - Hydrological\\tFlood\\tTerrace, Smithers & Mount Currie BC\\t05/06/2007 12:00:00 AM\\tTerrace, Smithers & Mount Currie BC, June 5, 2007. About 125 homes have been evacuated and about 1,100 others are on evacuation alert alongside the swollen Skeena and Bulkley rivers near Terrace and Smithers.\\t0\\t0\\t375\\t9600000\\t516591.9\\t05/06/2007 12:00:00 AM\\t9600000\\t\\t\\t\\t\\t\\t\\t0\\t0\\n',\n",
       "  'Disaster\\tNatural\\tMeteorological - Hydrological\\tStorms and Severe Thunderstorms\\tCalgary, Edmonton, St. Albert, the town of Stony Plain, Parkland County, Two Hills County, Kneehill County, Camrose, and the municipal districts of Rocky View and Bighorn AB\\t05/06/2007 12:00:00 AM\\tCalgary, Edmonton, St. Albert, the town of Stony Plain, Parkland County, Two Hills County, Kneehill County, Camrose, and the municipal districts of Rocky View and Bighorn AB, June 5, 2007. A severe rainstorm on June 5 affected the cities of Calgary, Edmonton, and St. Albert, the town of Stony Plain, Parkland County, the County of Two Hills, Kneehill County, Camrose, County , and the Municipal Districts of Rocky View and Bighorn.  Many residences and small businesses experienced flooding resulting in loss of contents and structural damage.  Infrastructure damage to municipal roads and storm sewer lines, and provincial parks also occurred.\\t0\\t0\\t0\\t16396213\\t882307.4\\t05/06/2007 12:00:00 AM\\t7496213\\t8900000\\t\\t\\t\\t\\t\\t0\\t0\\n',\n",
       "  'Incident\\tTechnology\\tFire\\tNon-Residential\\tHamilton ON\\t03/06/2007 12:00:00 AM\\tHamilton ON, June 3, 2007. An industrial fire occurred at a computer facility in Hamilton, involving 5000 square feet of pallets loaded with computer parts, casings and some of the empty plastic barrels located outside the building.\\t0\\t0\\t345\\t0\\t0\\t03/06/2007 12:00:00 AM\\t\\t\\t\\t\\t\\t\\t\\t0\\t0\\n',\n",
       "  'Disaster\\tNatural\\tMeteorological - Hydrological\\tWildfire\\tSept-Îles QC\\t27/05/2007 12:00:00 AM\\tSept-Îles QC, May 27, 2007. A major forest fire forced the evacuation of approximately 1,500 people from the village of Moisie and the Maliothénam reserve. There were 26 forest fires burning in Quebec at that time.\\t0\\t0\\t1500\\t0\\t0\\t27/05/2007 12:00:00 AM\\t\\t\\t\\t\\t\\t\\t\\t0\\t0\\n',\n",
       "  'Incident\\tTechnology\\tFire\\tNon-Residential\\tWindsor ON\\t25/05/2007 12:00:00 AM\\tWindsor ON, May 25, 2007. An explosion at an auto body shop sparked a fire that resulted in the evacuation of 600 homes and businesses including two schools (approximately 2000 individuals). A state of emergency was declared for a two-hour period mainly due to poor air quality. Concerns were raised over hazardous chemicals such as lacquer, paint thinner and gasoline that could have potentially fueled the fire. The auto body shop was completely destroyed while nearby homes and businesses were damaged.\\t0\\t0\\t2000\\t0\\t0\\t25/05/2007 12:00:00 AM\\t\\t\\t\\t\\t\\t\\t\\t0\\t0\\n',\n",
       "  'Disaster\\tNatural\\tMeteorological - Hydrological\\tStorms and Severe Thunderstorms\\tFishing Lake SK\\t25/05/2007 12:00:00 AM\\tFishing Lake SK, May 25, 2007. An estimated 300 homes and cottages (approximately 600 individuals) were damaged by flooding that was caused by a higher than normal snowfall and subsequent ice melt runoff. Fishing Lake, located two hours east of Saskatoon area, received 50 to 75 mm of rain.\\t0\\t0\\t600\\t0\\t0\\t25/05/2007 12:00:00 AM\\t\\t\\t\\t\\t\\t\\t\\t0\\t0\\n',\n",
       "  'Disaster\\tNatural\\tMeteorological - Hydrological\\tWildfire\\tNorthwest Ontario\\t13/05/2007 12:00:00 AM\\tNorthwest Ontario, May 13, 2007. Up to 300 people have been forced from their cottages in an area about 75kms west of Thunder Bay, where the biggest fire among many in Northwest Ontario, Thunder Bay #37, had raged through about 11,500 hectares.\\t0\\t0\\t300\\t0\\t0\\t13/05/2007 12:00:00 AM\\t\\t\\t\\t\\t\\t\\t\\t0\\t0\\n',\n",
       "  'Incident\\tTechnology\\tHazardous Chemicals\\tDerailment Release\\tBellefleur NB\\t10/05/2007 12:00:00 AM\\tBellefleur NB, May 10, 2007. A freight train derailment occured near Bellefleur approximately 15 kilometres north-west of Grand Falls, adjacent to the St. John River. Of the 36 rail cars that went off the tracks, five cars contained hazardous, flammable materials; a 1.6 kilometre evacuation radius was consequently ordered.\\t0\\t0\\t100\\t0\\t0\\t10/05/2007 12:00:00 AM\\t\\t\\t\\t\\t\\t\\t\\t0\\t0\\n',\n",
       "  'Disaster\\tNatural\\tMeteorological - Hydrological\\tWinter Storm\\tFishing Lake SK\\t28/04/2007 12:00:00 AM\\tFishing Lake SK, April 28, 2007. An Estimated 300 homes and cabins have been damaged by flooding from higher than average snowfall and runoff at Fishing Lake.\\t0\\t0\\t0\\t\\t\\t28/04/2007 12:00:00 AM\\t\\t\\t\\t\\t\\t\\t\\t0\\t0\\n',\n",
       "  'Disaster\\tNatural\\tMeteorological - Hydrological\\tStorms and Severe Thunderstorms\\tGatineau QC\\t23/04/2007 12:00:00 AM\\tGatineau QC, April 23, 2007. Approximately 15,500 Hydro-Québec customers (46,500 individuals) were plunged into darkness in the Outaouais as a result of strong winds with gusts of up to 60 km/h.\\t0\\t0\\t0\\t0\\t0\\t23/04/2007 12:00:00 AM\\t\\t\\t\\t\\t\\t\\t\\t46500\\t0\\n',\n",
       "  \"Disaster\\tNatural\\tMeteorological - Hydrological\\tFlood\\tRed Earth First Nation SK\\t19/04/2007 12:00:00 AM\\tRed Earth First Nation SK, April 19, 2007. The band council's decision to evacuate 691 residents from the northern reserve, mainly children, elderly residents and pregnant women, came as water covered one-third of a main access road, which divides the reserve.\\t0\\t0\\t691\\t125800000\\t6769506.7\\t19/04/2007 12:00:00 AM\\t125800000\\t\\t\\t\\t\\t\\t\\t0\\t0\\n\",\n",
       "  'Disaster\\tNatural\\tGeological\\tLandslide\\tDaniels Harbour NL\\t15/04/2007 12:00:00 AM\\tDaniels Harbour NL, April 15, 2007.\\t0\\t0\\t0\\t223990\\t12053.3\\t15/04/2007 12:00:00 AM\\t223990\\t\\t\\t\\t\\t\\t\\t0\\t0\\n',\n",
       "  'Disaster\\tNatural\\tMeteorological - Hydrological\\tFlood\\tSelkirk MB\\t03/04/2007 12:00:00 AM\\tSelkirk MB, April 3-13, 2007. Ice buildup and bad weather caused the Red River to breach its banks flooding the city of Selkirk. A two kilometre ice jam caused water levels to raise 60 cm. The subsequent flooding resulted in sewage spilling into the river and the evacuation of the Kiwanis I and II condominium buildings where 100 seniors were evacuated. In addition, numerous basements were flooded as well as the Marine Museum of Manitoba.\\t0\\t0\\t120\\t0\\t0\\t13/04/2007 12:00:00 AM\\t\\t\\t\\t\\t\\t\\t\\t0\\t0\\n',\n",
       "  \"Disaster\\tNatural\\tMeteorological - Hydrological\\tStorms and Severe Thunderstorms\\tMaple Ridge BC\\t12/03/2007 12:00:00 AM\\tMaple Ridge BC, March 12, 2007. Mudslides and flooding hit British Colombia's lower mainland after a weekend of heavy rain, leading to road closures and evacuation warnings. About 170 houses were flooded and hundreds of people were told to leave their homes, after the Alouette River spilled its banks.\\t0\\t0\\t0\\t0\\t0\\t12/03/2007 12:00:00 AM\\t\\t\\t\\t\\t\\t\\t\\t0\\t0\\n\",\n",
       "  \"Disaster\\tNatural\\tMeteorological - Hydrological\\tStorms and Severe Thunderstorms\\tSouth Coast and Lower Mainland BC\\t20/12/2006 12:00:00 AM\\tSouth Coast and Lower Mainland BC, December 20, 2006. Less than two weeks after a powerful windstorm struck British Columbia’s southern coast causing property damages and power outages, another windstorm impacted the region causing further severe power outages. Approximately 25,000 homes and businesses (75,000 individuals) lost power along British Columbia's south coast. In Vancouver Island, wind gusts of up to 90 km/h caused most of the damages leaving  20,000 B.C. Hydro customers (approximately 60,000 individuals) without power. On the mainland and along the Sunshine Coast 5000 hydro customers (approximately 15,000 individuas) were left in the dark. The Greater Vancouver area received wind gusts of 50 to 80 km/h, but no power outages were reported.\\t0\\t0\\t0\\t0\\t0\\t20/12/2006 12:00:00 AM\\t\\t\\t\\t\\t\\t\\t\\t150000\\t0\\n\",\n",
       "  'Disaster\\tNatural\\tMeteorological - Hydrological\\tStorms and Severe Thunderstorms\\tVancouver BC\\t11/12/2006 12:00:00 AM\\tVancouver BC, December 11, 2006. A powerful windstorm struck British Columbia’s southern coast resulting in approximately 190,000 power outages (570,000 individuals). The storm produced wind gusts of up to 100 km/h, which downed power lines and uprooted trees. Ferries had to be canceled due to the strong winds. In Vancouver damaged streetlights and fallen trees in the roads caused traffic delays throughout the city.\\t0\\t0\\t0\\t0\\t0\\t11/12/2006 12:00:00 AM\\t\\t\\t\\t\\t\\t\\t\\t570000\\t0\\n',\n",
       "  'Disaster\\tNatural\\tMeteorological - Hydrological\\tWinter Storm\\tRussell ON\\t01/12/2006 12:00:00 AM\\tRussell ON, December 1-2, 2006.  A major blackout, caused by a freezing rain storm, left virtually the entire town without electricity. The mayor declared a state of emergency, which lasted for several days.\\t0\\t0\\t0\\t0\\t0\\t02/12/2006 12:00:00 AM\\t\\t\\t\\t\\t\\t\\t\\t0\\t0\\n',\n",
       "  'Disaster\\tNatural\\tMeteorological - Hydrological\\tStorms and Severe Thunderstorms\\tOntario and Quebec\\t29/10/2006 12:00:00 AM\\tOntario and Quebec, October 29, 2006. A storm that blew in from the United States left about 49,000 Quebec and 30,000 Ontario residents without power (approximately 240,000 individuals). High winds felled lines in a broad band across central Ontario, while in Quebec, the Laurentians region, north on Montreal, and the Gasp were particularly hard hit.\\t0\\t0\\t0\\t0\\t0\\t29/10/2006 12:00:00 AM\\t\\t\\t\\t\\t\\t\\t\\t240000\\t0\\n',\n",
       "  'Disaster\\tNatural\\tMeteorological - Hydrological\\tFlood\\tSaint-Joseph et Vallée QC\\t28/10/2006 12:00:00 AM\\tSaint-Joseph et Vallée QC, October 28, 2006. In Saint-Joseph and Vallée, approximately 50 homes and 30 businesses were affected by a flash flood. \\t0\\t0\\t240\\t0\\t0\\t28/10/2006 12:00:00 AM\\t\\t\\t\\t\\t\\t\\t\\t0\\t0\\n',\n",
       "  'Disaster\\tNatural\\tMeteorological - Hydrological\\tStorms and Severe Thunderstorms\\tSainte-Anne-des-Plaines QC\\t19/08/2006 12:00:00 AM\\tSainte-Anne-des-Plaines QC, August 19, 2006. A small community located 50 kilometres north-east of Montreal was at the centre of a torrential downpour that produced 135 mm of rain in less than three hours.\\t0\\t0\\t600\\t0\\t0\\t19/08/2006 12:00:00 AM\\t\\t\\t\\t\\t\\t\\t\\t0\\t0\\n',\n",
       "  'Incident\\tTechnology\\tHazardous Chemicals\\tFire\\tBoisbriand QC\\t15/08/2006 12:00:00 AM\\tBoisbriand QC, August 15, 2006. Employees of Les Revêtements Polyval and workers from about ten surrounding factories as well as some residents were evacuated. Toxic chemicals, such as solvents and paints, helped fuel the flames. \\t0\\t0\\t1500\\t0\\t0\\t15/08/2006 12:00:00 AM\\t\\t\\t\\t\\t\\t\\t\\t0\\t0\\n',\n",
       "  'Incident\\tTechnology\\tHazardous Chemicals\\tFire\\tAmherstburg ON\\t15/08/2006 12:00:00 AM\\tAmherstburg ON, August 15, 2006. A huge fire at a plastics recycling plant forced hundreds of resiadents to flee their homes. Smoke was 20 meters high over the area and grew to roughly the size of two football fields.\\t0\\t3\\t1000\\t0\\t0\\t15/08/2006 12:00:00 AM\\t\\t\\t\\t\\t\\t\\t\\t0\\t0\\n',\n",
       "  'Incident\\tTechnology\\tFire\\tNon-Residential\\tGaliano Island BC\\t24/07/2006 12:00:00 AM\\tGaliano Island BC, July 24, 2006. A wildfire burned 61 hectares of land in the small Island of Galiano. The 30 kilometre long island hosts a modest population of 1000 residents. The fire reached up to 200 metres of people’s homes forcing the evacuation of approximately 120 residents. The fire is believed to have been sparked in a gravel pit, although the actual cause of the fire is unknown. It took 200 firefighters along with the help of helicopters and water bombers to extinguish the flames.\\t0\\t0\\t120\\t0\\t0\\t24/07/2006 12:00:00 AM\\t\\t\\t\\t\\t\\t\\t\\t0\\t0\\n',\n",
       "  \"Disaster\\tNatural\\tMeteorological - Hydrological\\tWildfire\\tCariboo-Chilcotin BC\\t06/07/2006 12:00:00 AM\\tCariboo-Chilcotin BC, July 6, 2006. About 600 people living in remote communities in BC's Cariboo-Chilcotin region have been forced from their homes by the threat of two massive wildfires.\\t0\\t0\\t871\\t0\\t0\\t06/07/2006 12:00:00 AM\\t\\t\\t\\t\\t\\t\\t\\t0\\t0\\n\",\n",
       "  'Disaster\\tNatural\\tMeteorological - Hydrological\\tWildfire\\tNordegg AB\\t04/07/2006 12:00:00 AM\\tNordegg AB, July 4-7, 2006. A wildfire that burned two kilometres away from the village of Nordegg, located 200 kilometres West of Red Deer, forced the evacuation of 130 residents, including dozens of campers. The fire grew to be 126 hectares in size and was likely sparked by lighting. Residents returned home July 7.\\t0\\t0\\t130\\t0\\t0\\t07/07/2006 12:00:00 AM\\t\\t\\t\\t\\t\\t\\t\\t0\\t0\\n',\n",
       "  'Disaster\\tNatural\\tMeteorological - Hydrological\\tWildfire\\tTumbler Ridge BC\\t03/07/2006 12:00:00 AM\\tTumbler Ridge BC, July 3-5, 2006. A state of emergency was declared for the town of Tumbler Ridge, where multiple wildfires burned threating the residents who live in the coal mining town. The largest of the fires grew to be 9,100 hectares in size and burn nearly 8 kilometres away from the town. Four thousands residents were evacuated due to the fires and returned home on July 5.\\t0\\t0\\t4000\\t0\\t0\\t05/07/2006 12:00:00 AM\\t\\t\\t\\t\\t\\t\\t\\t0\\t0\\n',\n",
       "  'Disaster\\tNatural\\tMeteorological - Hydrological\\tWildfire\\tMistissini QC\\t16/06/2006 12:00:00 AM\\tMistissini QC, June 16-18, 2006. Residents of the Cree community of Mistissini, located 550 kilometres north of Montreal, were forced to leave their homes due to a wildfire that approached within metres of their community. Approximately 3,200 residents were evacuated and were taken to the community of Chibougamou 90 kilometres away. Residents returned home on June 18.\\t0\\t0\\t3200\\t0\\t0\\t18/06/2006 12:00:00 AM\\t\\t\\t\\t\\t\\t\\t\\t0\\t0\\n',\n",
       "  'Disaster\\tNatural\\tMeteorological - Hydrological\\tFlood\\tAklavik NT\\t27/05/2006 12:00:00 AM\\tAklavik NT, May 27, 2006. The remote community of Aklavik was buried under several feet of water after the Peel River channel overflowed its banks due to melting ice. Residents of the low-lying town were forced to evacuate due to flooding. Approximately 300 residents left their homes and fled to the nearby town of Inuvik located 55 kilometres away. The flooding caused severe infrastructure damage, including damages to roads as well as the town’s sewage system.\\t0\\t0\\t300\\t3140829\\t172731.2\\t27/05/2006 12:00:00 AM\\t3140829\\t\\t\\t\\t\\t\\t\\t0\\t0\\n',\n",
       "  'Disaster\\tNatural\\tMeteorological - Hydrological\\tFlood\\tSlocan River BC\\t20/05/2006 12:00:00 AM\\tSlocan River BC, May 20, 2006. Residents living near the Slocan River were at risk as high water levels caused by melting snowpacks forced the river to overflow its banks. Local authorities issued an evacuation order for 53 homes in Passmore and Slocan Park (approximately 159 individuals) as well, 98 other homes that were put on evacuation alert. Damages included road closures and basement flooding.\\t0\\t0\\t159\\t0\\t0\\t20/05/2006 12:00:00 AM\\t\\t\\t\\t\\t\\t\\t\\t0\\t0\\n',\n",
       "  'Disaster\\tNatural\\tMeteorological - Hydrological\\tFlood\\tKashechewan ON\\t23/04/2006 12:00:00 AM\\tKashechewan ON, April 23, 2006. Spring flooding has forced hundreds of people to leave the northern Ontario reserve of Kashechewan. Kashechewan declared a state of emergency when water levels rose quickly and asked for immediate help from the province.\\t0\\t0\\t1100\\t0\\t0\\t23/04/2006 12:00:00 AM\\t\\t\\t\\t\\t\\t\\t\\t0\\t0\\n',\n",
       "  \"Disaster\\tNatural\\tMeteorological - Hydrological\\tFlood\\tBaie Verte Peninsula NL\\t17/04/2006 12:00:00 AM\\tBaie Verte Peninsula NL, April 17, 2007.  A severe rainstorm caused flooding along Newfoundland and Labrador's Northeast coast.  A number of communities in the Baie Verte Peninsula region of the province, such as Burlington and Middle Arm, were affected.\\t0\\t0\\t0\\t3235813\\t177954.9\\t17/04/2006 12:00:00 AM\\t3235813\\t\\t\\t\\t\\t\\t\\t0\\t0\\n\",\n",
       "  'Disaster\\tNatural\\tMeteorological - Hydrological\\tFlood\\tRed Earth SK\\t13/04/2006 12:00:00 AM\\tRed Earth SK, April, 13, 2006. In northeastern Saskatchewan, the Red River First Nation scrambled to avoid the threatening Carrot River as leaders ordered a general evacuation of the band of 1,100.\\t0\\t0\\t1100\\t7283952\\t400584\\t13/04/2006 12:00:00 AM\\t7283952\\t\\t\\t\\t\\t\\t\\t0\\t0\\n',\n",
       "  'Disaster\\tNatural\\tMeteorological - Hydrological\\tStorm Surge\\tDelta BC\\t04/02/2006 12:00:00 AM\\tDelta BC, February 4, 2006. A strong winter storm with sustained winds of 75 km/h brought an approximately one metre storm surge which coincided with the morning high tide resulting in water levels 5.5 metre above chart datum. Combined with high waves, overtopping and breaching of dykes allowed flooding of low-lying areas behind the dykes. Approximately 150-200 residential properties were affected.\\t0\\t0\\t0\\t0\\t0\\t04/02/2006 12:00:00 AM\\t\\t\\t\\t\\t\\t\\t\\t0\\t0\\n',\n",
       "  'Incident\\tTechnology\\tHazardous Chemicals\\tLeak / Spill Release\\tGlovertown NL\\t13/12/2005 12:00:00 AM\\tGlovertown NL, December 13, 2005.  A massive propane leak in a boat-building facility in Glovertown forced more than 250 people to evacuate their homes included 50 seniors living in a nursing home only metres away from the yard. \\t0\\t\\t250\\t0\\t0\\t13/12/2005 12:00:00 AM\\t\\t\\t\\t\\t\\t\\t\\t0\\t0\\n',\n",
       "  \"Disaster\\tNatural\\tBiological\\tInfestation\\tKashechewan ON\\t26/10/2005 12:00:00 AM\\tKeshechewan ON, October 27, 2005.  The Ontario government declared a state of emergency at the remote Keshechewan native reserve after discovering E.coli bacteria in the community's drinking water supply.  The tainted drinking water forced the evacuation of the reserve, home of approximately 1,100.  Seventy four people, mostly families with children suffering from skin rashes and chronic diarrhea, were immediately flown to Sudbury and hospitalized for medical treatment.  Other remaining evacuees from the reserve were sent to other cities.\\t\\t\\t1100\\t0\\t0\\t26/10/2005 12:00:00 AM\\t\\t\\t\\t\\t\\t\\t\\t0\\t0\\n\",\n",
       "  'Incident\\tTechnology\\tHazardous Chemicals\\tLeak / Spill Release\\tAbbotsford BC\\t28/09/2005 12:00:00 AM\\tAbbotsford BC, September 28, 2005. A fuel-tanker truck containing 38,000 litres of a gasoline-diesel mix overturned in Abbotsford.  Approximately 700 homes, three schools and several businesses were affected and about 4000 were evacuated. Fuel from the spill contaminated a creek and killed unknown number of fish.  Electric supply was shut off to the area as a precautionary measure.  No injuries or fatalities were reported.  City crews flushed the storm sewer system with water to dilute the fuel and evacuees were allowed to return home.\\t\\t\\t4000\\t0\\t0\\t28/09/2005 12:00:00 AM\\t\\t\\t\\t\\t\\t\\t\\t0\\t0\\n',\n",
       "  'Disaster\\tNatural\\tMeteorological - Hydrological\\tFlood\\tStephenville NL\\t27/09/2005 12:00:00 AM\\tStephenville NL, September 27, 2005.  The town of Stephenville received 110 mm of rain, causing flooding in the region.  More than 80 homes were flooded completely.  A state of emergency was declared and approximately 200 people were forced to leave their homes.  \\t\\t\\t200\\t18461755\\t1035238.6\\t27/09/2005 12:00:00 AM\\t18461755\\t\\t\\t\\t\\t\\t\\t0\\t0\\n',\n",
       "  'Disaster\\tNatural\\tMeteorological - Hydrological\\tStorms and Severe Thunderstorms\\tLorette River, Quebec City QC\\t26/09/2005 12:00:00 AM\\tLorette River, Quebec City QC, September 26, 2005.  The remnants of hurricane Rita caused flooding by overflowing the Lorette River with 108.55 mm of rain fall.\\t0\\t0\\t700\\t0\\t0\\t26/09/2005 12:00:00 AM\\t\\t\\t\\t\\t\\t\\t\\t0\\t0\\n',\n",
       "  \"Disaster\\tNatural\\tBiological\\tEpidemic\\tToronto ON\\t24/09/2005 12:00:00 AM\\tToronto ON, September 24, 2005.  In the fall of 2005, a long-term care facility in the city of Toronto named Seven Oaks experienced an outbreak of Legionnaires' disease. A total of 135 people were infected (70 residents, 39 staff, 21 visitors, and 5 people who lived or worked near the home). Twenty-three residents died. For the first 10 days, the cause of the outbreak was unknown. On October 16, the Minister of Health and Long-Term Care established an Expert Review Panel on the Legionnaires' Disease Outbreak to assess the progress Ontario has made since SARS, to identify the key lessons from the recent Legionnaires' disease outbreak, and provide advice on how to strengthen infectious disease control in Ontario.\\t23\\t112\\t\\t0\\t0\\t24/09/2005 12:00:00 AM\\t\\t\\t\\t\\t\\t\\t\\t0\\t0\\n\",\n",
       "  \"Disaster\\tNatural\\tMeteorological - Hydrological\\tFlood\\tQuebec\\t31/08/2005 12:00:00 AM\\tQuebec, August 31, 2005.  The aftermath of Hurricane Katrina was felt in Quebec where heavy rain hit the Basse-Côte-Nord region. The region received 80 to 100 mm of rain. Over flown rivers and washed out culverts were seen in the towns of Vanier and Charlesbourg. These events led to flooding. August 31 was the wettest day that month for the Montreal's Pierre Elliott Trudeau Airport as well as the wettest August day for Quebec City.\\t\\t\\t\\t9567567\\t536499.1\\t31/08/2005 12:00:00 AM\\t9567567\\t\\t\\t\\t\\t\\t\\t0\\t0\\n\",\n",
       "  'Disaster\\tNatural\\tMeteorological - Hydrological\\tWildfire\\tKelowna BC\\t28/08/2005 12:00:00 AM\\tKelowna  BC, August 28, 2005.  A 25-hectare forest fire was reported in Rose Valley near Kelowna.  Approximately 75 homes in the subdivision were evacuated and about 528 people registered with emergency social services after the evacuation order.  No injuries or casualties were reported.\\t0\\t0\\t528\\t0\\t0\\t28/08/2005 12:00:00 AM\\t\\t\\t\\t\\t\\t\\t\\t0\\t0\\n',\n",
       "  'Disaster\\tNatural\\tMeteorological - Hydrological\\tTornado\\tSouthern Ontario\\t19/08/2005 12:00:00 AM\\tSouthern Ontario ON, August 19, 2005.  A series of severe thunderstorms tracked eastward across southern Ontario from Kitchener to Oshawa. The system spawned two F2 tornadoes with gusts between 180 and 250 km/h. The first tracked through Milverton to Conestogo Lake and the second from Salem to Lake Bellwood. The tornadoes downed power lines, uprooted trees, ripped into several homes, cottages and barns, and overturned vehicles. Within one hour, torrential rains dumped 103 mm in North York, 100 mm in Downsview and 175 mm in Thornhill, leading to flash flooding. Fire fighters rescued four people who fell into the fast moving currents of the Don River. Thirty metres of Finch Avenue West was washed out. Early estimates report more than 15,000 insurance claims were submitted for structural and non-structural damages caused by torrential rains and high winds. Not included in insured losses were infrastructure damages.\\t0\\t4\\t0\\t500000000\\t28037383.2\\t19/08/2005 12:00:00 AM\\t\\t\\t\\t\\t\\t500000000\\t\\t\\t2\\n',\n",
       "  'Disaster\\tNatural\\tMeteorological - Hydrological\\tStorms and Severe Thunderstorms\\tNorthern Saskatchewan\\t23/07/2005 12:00:00 AM\\tNorthern Saskatchewan, June 23-25,2005.  An intense low pressure system caused heavy rainfall from July 23-25, affecting an area of northern Saskatchewan already saturated by snowmelt between Meadow Lake to the south and Stony Rapids to the north, and between the Alberta border to the west and the Manitoba border to the east.  The closure of Highway 905 due to flooding in several locations resulted in the disruption of services to northern communities, including Stony Rapids and Black Lake, until the road was re-opened on July 31.  Preliminary eligible costs were estimated at $3,200,000, which would result in a federal share of approximately $1,100,000.\\t0\\t0\\t0\\t2597891\\t145676.1\\t25/07/2005 12:00:00 AM\\t497891\\t2100000\\t\\t\\t\\t\\t\\t0\\t0\\n',\n",
       "  'Disaster\\tNatural\\tMeteorological - Hydrological\\tFlood\\tCumberland House Cree First Nation SK\\t23/06/2005 12:00:00 AM\\tCumberland House, Cree First Nation SK, June 23, 2005.  Approximately 2000 residents of Cumberland House were evacuated to Prince Albert after the Saskatchewan River began flooding.  Saskatchewan Environment issued a boil water advisory for the residents. Movement of most ferries on the North and South Saskatchewan rivers was suspended.\\t0\\t\\t2000\\t3455208\\t193750\\t23/06/2005 12:00:00 AM\\t3455208\\t\\t\\t\\t\\t\\t\\t0\\t0\\n',\n",
       "  'Disaster\\tNatural\\tMeteorological - Hydrological\\tWildfire\\tChibougamau and James Bay QC\\t06/06/2005 12:00:00 AM\\tChibougamau and James Bay QC, June 6, 2005.  In Northern Québec a forest fire near Chibougamau forced the evacuation of approximately 200 residents.  Approximately 650 Hydro-Quebec workers were airlifted in an evacuation operation in the James Bay area due to another forest fire. There were 57 active forest fires in Quebec at the time.  Forest fires have destroyed approximately 170,000 hectares of forest in Quebec this year.\\t0\\t\\t850\\t0\\t0\\t06/06/2005 12:00:00 AM\\t\\t\\t\\t\\t\\t\\t\\t0\\t0\\n',\n",
       "  'Disaster\\tNatural\\tMeteorological - Hydrological\\tFlood\\tSouthern Alberta\\t06/06/2005 12:00:00 AM\\tSouthern Alberta, June 6-8, 2005. Heavy rainfall and high water levels across southern Alberta caused massive flooding in several waterways.  Multiple municipalities across the region issued a state of emergency. Severe flooding caused the evacuation of 2000 people in Calgary, 1,300 in Sundre, 3,200 in Drumheller, 200 in High River, 70 in Foothills, 58 in Okotoks and 200 in Red Deer County.  Officials reported that the 200-year flood event resulted in significant damages to approximately 40,000 homes.\\t2\\t\\t7028\\t129049397\\t7236414.8\\t08/06/2005 12:00:00 AM\\t129049397\\t\\t\\t\\t\\t\\t\\t0\\t0\\n',\n",
       "  'Disaster\\tNatural\\tMeteorological - Hydrological\\tFlood\\tManitoba\\t02/06/2005 12:00:00 AM\\tManitoba, June 2, 2005. Manitoba received between 100-175 mm of rain resulting in severe flooding.  Regional municipalities of Daly, Sifton, Blanshard, Strathclair and Woodworth as well as the towns of Oak Lake and Rivers encountered major problems of seepage and basement flooding, damage to municipal roads and overland flooding of agricultural lands.  Forty-four provincial highways and over 100 municipal roads were damaged.  Approximately, 380 homes and 19 families (approximately 1,197 individuals) were forced out of their homes due to the flooding.  Thirteen municipalities declared a local state of emergency and more than 100 requested disaster financial assistance. The cost of the flood was estimated at more than $350 million including crop damage.\\t0\\t\\t1197\\t37032721\\t2076601.2\\t02/06/2005 12:00:00 AM\\t37032721\\t\\t\\t\\t\\t\\t\\t0\\t0\\n',\n",
       "  'Disaster\\tNatural\\tMeteorological - Hydrological\\tWildfire\\tChisasibi QC\\t29/05/2005 12:00:00 AM\\tChisasibi QC, May 29, 2005. Forest fire forced about 600 people in the Cree community of Chisasibi to be evacuated to the nearby village of Radisson.  The fire was human caused, and was started within 1 kilometre of the town.  Evacuees were able to return to their homes by May 30.\\t0\\t0\\t600\\t0\\t0\\t29/05/2005 12:00:00 AM\\t\\t\\t\\t\\t\\t\\t\\t0\\t0\\n',\n",
       "  'Disaster\\tNatural\\tMeteorological - Hydrological\\tFlood\\tBridgewater NS\\t25/05/2005 12:00:00 AM\\tBridgewater NS, May 25-27, 2005. By May 27, a total of 383 mm of rain had fallen in Nova Scotia’s Fancy Lake watershed region causing overland flooding in a number of communities.  A local state of emergency was declared and approximately 100 people were evacuated.\\t0\\t0\\t100\\t1447904\\t81190.9\\t27/05/2005 12:00:00 AM\\t510004\\t937900\\t\\t\\t\\t\\t\\t0\\t0\\n',\n",
       "  'Disaster\\tNatural\\tMeteorological - Hydrological\\tFlood\\tFort Good Hope NT\\t11/05/2005 12:00:00 AM\\tFort Good Hope NT, May 11-14, 2005. Jackfish Creek and Rabbitskin River rose to the point that 10 families and 8 seniors had to leave their Fort Good Hope homes. A state of emergency was declared.\\t0\\t\\t50\\t647617\\t36315\\t14/05/2005 12:00:00 AM\\t647617\\t\\t\\t\\t\\t\\t\\t0\\t0\\n',\n",
       "  'Disaster\\tNatural\\tMeteorological - Hydrological\\tFlood\\tKashechewan ON\\t23/04/2005 12:00:00 AM\\tKashechewan ON, April 23, 2005.  Nearly 200 people were flown out of the remote First Nations reserve in northern Ontario to Moosonee after flooding filled 39 basements with raw sewage.  Spring flooding on the Albany River caused the sewage system to back up and contaminated the community water system.\\t0\\t\\t200\\t0\\t0\\t23/04/2005 12:00:00 AM\\t\\t\\t\\t\\t\\t\\t\\t0\\t0\\n',\n",
       "  'Disaster\\tNatural\\tMeteorological - Hydrological\\tFlood\\tSouthern New Brunswick\\t09/04/2005 12:00:00 AM\\tSouthern New Brunswick, April 9 to May 15, 2005.  Several days of rain caused flooding in the communities of Jemseg, Sheffield, Maugerville and Fredicton and forced approximately 40 families (approximately 120 individuals) to evacuate their riverside homes.  Several families remained stranded in their homes as all roads were washed out. For many families the only way to leave their property was by canoe.  Due to high water levels, the highway between Fredericton and Saint John remained blocked for many days.\\t0\\t\\t120\\t2278201\\t127749.6\\t15/05/2005 12:00:00 AM\\t768644\\t1509557\\t\\t\\t\\t\\t\\t0\\t0\\n',\n",
       "  \"Disaster\\tNatural\\tMeteorological - Hydrological\\tWinter Storm\\tNewfoundland\\t30/03/2005 12:00:00 AM\\tNewfoundland, March 30-31, 2005. Heavy snow affected most of Newfoundland (excluding Labrador) while the Avalon and Burin peninsulas experienced rain. Gander saw 62 cm of snow and Grand Falls-Windsor was hit by 60 cm in one day. The Burin community of Salt Pond was plagued by over 150 mm of rain, St.Lawrence by over 80 mm, and St.John's saw 60 mm of rain. Bonavista Bay and Hare Bay were also affected.\\t0\\t\\t0\\t388288\\t21773.2\\t31/03/2005 12:00:00 AM\\t388288\\t\\t\\t\\t\\t\\t\\t0\\t0\\n\",\n",
       "  'Disaster\\tNatural\\tGeological\\tLandslide\\tNorth Vancouver BC\\t17/01/2005 12:00:00 AM\\tNorth Vancouver BC, January 17-31, 2005.  A landslide of mud, debris and snow caused by more than 320 mm of rain completely destroyed two homes in North Vancouver.  One person died and nearly 100 homes were evacuated.  A state of emergency was declared.\\t1\\t1\\t300\\t4337646\\t243232.5\\t31/01/2005 12:00:00 AM\\t4337646\\t\\t\\t\\t\\t\\t\\t0\\t0\\n',\n",
       "  'Disaster\\tNatural\\tMeteorological - Hydrological\\tStorm Surge\\tKings County PE\\t27/12/2004 12:00:00 AM\\tKings County PE, December 27, 2004. Panmure Island and Basin Head were particularly affected. In North Rustico, a man was rescued by firefighters from his flooded residence.\\t0\\t\\t0\\t2578039\\t147738.6\\t27/12/2004 12:00:00 AM\\t2578039\\t\\t\\t\\t\\t\\t\\t0\\t0\\n',\n",
       "  'Disaster\\tNatural\\tGeological\\tTsunami\\tEast Indian Ocean\\t26/12/2004 12:00:00 AM\\tEast Indian Ocean, December 26, 2004.  A powerful 9.1 magnitude earthquake occured at 07:59 local time 100 kilometres west of Sumatra. The earthquake triggered a massive tsunamis in the East Indian Ocean. Several areas were hit by the tsunamis including Indonesia, Sri Lanka, southern India, Thailand, Malaysia, the Maldives, Bangladesh, Burma, Mauritius, Somalia, Kenya, Seychelles and Tanzania. Due to its proximity to the earthquake epicentre, Indonesia was the hardest hit by the tsunami. It is estimated that the tsunami travelled 500 km/h across the Indian Ocean before making landfall with Indonesia. Foreign Affairs Canada Consular Operations confirmed the deaths of 15 Canadians as well as 6 others that went missing, including 5 others that are presumed dead. It is estimated that the total death toll of this event is 280,931. In Indonesia alone, 167, 540 people died from the tsunami. The earthquake and subsequent tsunami affected approximately five million people aroung the world and 1.7 million people were displaced from their homes. In addition, hundreds of thousands of homes and business were destroyed.\\t20\\t\\t\\t0\\t0\\t26/12/2004 12:00:00 AM\\t\\t\\t\\t\\t\\t\\t\\t0\\t0\\n',\n",
       "  'Disaster\\tNatural\\tMeteorological - Hydrological\\tHurricane / Typhoon / Tropical Storm\\tEdmundston NB\\t13/08/2004 12:00:00 AM\\tEdmundston and Saint-Jacques NB, August 13-14, 2004. Tropical storm Bonnie produced significant heavy rain throughout New Brunswick. Edmundston and Saint-Jacques were both hard hit by the torrential rain. There was localised flooding, basement flooding and road closures in Edmundston and Saint-Jacques. The community of Saint-Jacques was put on a boil water advisory due to well contamination that resulted from the flooding. Edmundston recieved up to 90 mm of rain, while 50.9 mm and 65.4 mm was reported in Fredricton and St. Stephen. Flooded roads created dangerous driving conditions for local residents. One individual was killed while driving a truck across a shallow stream.\\t1\\t\\t0\\t0\\t0\\t14/08/2004 12:00:00 AM\\t\\t\\t\\t\\t\\t\\t\\t0\\t0\\n',\n",
       "  'Incident\\tTechnology\\tHazardous Chemicals\\tDerailment Release\\tEstevan SK\\t10/08/2004 12:00:00 AM\\tEstevan SK, August 10, 2004.  Six tank cars of a Canadian Pacific freight train were derailed and three containing anhydrous ammonia were overturned.  An evacuation order was issued and approximately 150 people were evacuated from the immediate area in Estevan.  There were no injuries or immediate threat to life or property.\\t\\t\\t150\\t0\\t0\\t10/08/2004 12:00:00 AM\\t\\t\\t\\t\\t\\t\\t\\t0\\t0\\n',\n",
       "  \"Disaster\\tNatural\\tMeteorological - Hydrological\\tFlood\\tThe Pas MB\\t21/07/2004 12:00:00 AM\\tThe Pas MB, July 21, 2004.  Heavy rains on already saturated ground led to an overloading of  the town's joint sewage and storm drain system flooding homes in The Pas.  Approximately 400 homes in the town were damaged.  Dozens of people were reported sick  with intestinal and bronchial illnesses after attempting to clean-up after the flood.   The costs of the damages could reach as high as $5 million.\\t\\t\\t\\t0\\t0\\t21/07/2004 12:00:00 AM\\t\\t\\t\\t\\t\\t\\t\\t0\\t0\\n\",\n",
       "  'Disaster\\tNatural\\tMeteorological - Hydrological\\tTornado\\tGrande Prairie AB\\t08/07/2004 12:00:00 AM\\tGrande Prairie AB, July 8, 2004. A tornado swept through the city of Grand Prairie turning over cars and causing damages to homes and businesses. Environment Canada reported the tornado as a funnel cloud, although a tornado advisory was in place at the time. The tornado touched down at 15:30 MST and passed through the city’s downtown core. Damages included a downed power line that caused a small fire in a hotel, the destruction of a Kentucky Fried Chicken restaurant as well as numerous homes with damaged roofs, doors and windows.\\t0\\t0\\t0\\t0\\t0\\t08/07/2004 12:00:00 AM\\t\\t\\t\\t\\t\\t\\t\\t0\\t0\\n',\n",
       "  'Disaster\\tNatural\\tMeteorological - Hydrological\\tStorms and Severe Thunderstorms\\tEdmonton AB\\t02/07/2004 12:00:00 AM\\tEdmonton AB, July 2-11, 2004.  Severe hail and rain battered parts of Edmonton, causing extensive flooding of basements and streets, and forcing the evacuation of 30,000 people from the worlds largest shopping mall, the West Edmonton Mall.\\t0\\t0\\t30000\\t12678824\\t726580.2\\t11/07/2004 12:00:00 AM\\t12678824\\t\\t\\t\\t\\t\\t\\t0\\t0\\n',\n",
       "  'Disaster\\tNatural\\tMeteorological - Hydrological\\tFlood\\tAttawapiskat ON\\t19/05/2004 12:00:00 AM\\tAttawapiskat ON, May 19, 2004.  Due to ice-jam flooding in the Attawapiskat River, approximately 1,700 people from the  James Bay Cree First Nation community of Attawapiskat were evacuated by air to Moosonee, Cochrane and Timmins.  \\t\\t\\t1700\\t5700000\\t326647.6\\t19/05/2004 12:00:00 AM\\t5700000\\t\\t\\t\\t\\t\\t\\t0\\t0\\n',\n",
       "  \"Disaster\\tNatural\\tMeteorological - Hydrological\\tFlood\\tSouth Central Manitoba\\t24/03/2004 12:00:00 AM\\tSouth Central Manitoba, March 24-26, 2004. A combination of spring runoff and heavy rainfall brought flooding to Manitoba's South-Central region. Some affected communities include: Pembina, Morris, Winnipeg, Selkirk and Lac du Bonnet. States of emergency were declared in the rural municipalities of Franklin, Tache and St. Clements. Twenty-one people were evacuated from the Dakota Plains and Peguis First Nations. More than 1000 were evacuated when the Red River overflowed.\\t\\t\\t1000\\t2302473\\t131946.9\\t26/03/2004 12:00:00 AM\\t565937\\t1736536\\t\\t\\t\\t\\t\\t0\\t0\\n\",\n",
       "  'Disaster\\tNatural\\tMeteorological - Hydrological\\tWinter Storm\\tNova Scotia\\t18/02/2004 12:00:00 AM\\tNova Scotia, February 18-20, 2004. A snowstorm known as \"White Juan\" hit the Maritimes resulting in record-breaking snowfall. On February 19, Halifax surpassed and almost doubled its previous snowfall record when the city received 88.5 cm. A four-day state of emergency was in place as well as a nine-hour curfew for three nights (except for essential workers). Thousands were left without power.\\t0\\t0\\t\\t3687690\\t211328.9\\t20/02/2004 12:00:00 AM\\t3687690\\t\\t\\t\\t\\t\\t\\t0\\t0\\n',\n",
       "  'Disaster\\tNatural\\tGeological\\tLandslide\\tKhyex River BC\\t28/11/2003 12:00:00 AM\\tKhyex River BC, November 28, 2003. The Khyex River Landslide occurred on November 28, between 00:20 and 00:30 PST. This is when Pacific Northern Gas Ltd noticed a pressure loss in the pipeline. Approximately 300 metres of 8-inch pipeline was lost. As a result, most of Prince Rupert residents were without natural gas or heat for 10 days. A few days after the landslide occurred, a temporary 2-inch gas line was installed to restore partial service. The spectacular landslide flowed downstream, crossed the river and flowed upstream for hundreds of metres. This type of landslide took place in very sensitive glaciomarine muds, and is called a retrogressive earthflow. The estimated volume of material displaced by the landslide is up to 4.7 million cubic metres. It is thought that the slope failure was triggered by erosion of the riverbank.\\t0\\t0\\t0\\t0\\t0\\t28/11/2003 12:00:00 AM\\t0\\t0\\t\\t\\t\\t\\t\\t0\\t0\\n',\n",
       "  'Disaster\\tNatural\\tMeteorological - Hydrological\\tFlood\\tVancouver Island and Southwestern British Columbia\\t16/10/2003 12:00:00 AM\\tVancouver Island and Southwestern British Columbia, October 16-23, 2003. Heavy rains resulted in major flooding, particularly to Squamish and Pemberton where states of emergency were declared. Flooding in the Squamish Valley, Cheakamus Valley, and Paradise Valley resulted in the evacuation of 700 people from those areas. Another 50 people were evacuated from the Vancouver Island region. Two vehicles were swept into Rutherford Creek north of Whistler. One passenger survived, while two died.\\t2\\t1\\t750\\t8958966\\t522896.8\\t23/10/2003 12:00:00 AM\\t8958966\\t\\t\\t\\t\\t\\t\\t0\\t0\\n',\n",
       "  'Disaster\\tNatural\\tMeteorological - Hydrological\\tHurricane / Typhoon / Tropical Storm\\tHalifax NS and Charlottetown PE\\t29/09/2003 12:00:00 AM\\tHalifax NS and Charlottetown PE, September 29, 2003. At 00:10 AST, Hurricane Juan made landfall in Nova Scotia as one of the most powerful and damaging hurricanes to impact Canada.  A 1.63 metre storm surge occurred while Juan made landfall just south of Halifax as a Class 2 hurricane. Water levels reached 2.9 metres above chart datum, which was the highest water level recorded to date at this location. Winds gusted to 230 km/h in Halifax and waves outside Halifax Harbour reached a maximum height of 19 metres. Extensive damage to buildings, docks, boardwalks and trails occurred throughout Nova Scotia and Prince Edward Island. Point Pleasant Park in Halifax was decimated; nearly every tree in the 75-hectare park was damaged or uprooted. Juan knocked out power to hundreds of thousands of people. It is estaimated that up to 300,000 people lost power due to the strong winds. In addition, eight lives were lost either directly or indirectly as a result of Hurricane Juan.\\t8\\t\\t\\t25529656\\t1490057.7\\t29/09/2003 12:00:00 AM\\t25529656\\t\\t\\t\\t\\t\\t\\t300000\\t0\\n',\n",
       "  'Incident\\tTechnology\\tInfrastructure failure\\tEnergy\\tOntario, Midwest and Northeast USA\\t14/08/2003 12:00:00 AM\\tOntario, Midwest and Northeast USA, August 14, 2003. Approximately 50 million (over 9 million in Ontario) people were affected by a blackout, some experiencing power outages for over 48 hours. A combination of employee, equipment, and monitoring failures ultimately led to the blackout. The initial triggering power outage was prompted by contact between sagging transmission lines and untrimmed trees in Ohio.\\t\\t\\t\\t\\t\\t14/08/2003 12:00:00 AM\\t\\t\\t\\t\\t\\t\\t\\t0\\t0\\n',\n",
       "  \"Disaster\\tNatural\\tMeteorological - Hydrological\\tFlood\\tThe Bois-Francs, Chaudière-Appalaches, Beauce, l'Outaouais, Lanaudière, and Abitibi-Témiscamingue regions QC\\t04/08/2003 12:00:00 AM\\tThe Bois-Francs, Chaudière-Appalaches, Beauce, l'Outaouais, Lanaudière, and Abitibi-Témiscamingue regions QC, August 4, 2003\\t0\\t0\\t60\\t\\t\\t04/08/2003 12:00:00 AM\\t0\\t0\\t\\t\\t\\t\\t\\t0\\t0\\n\",\n",
       "  'Disaster\\tNatural\\tMeteorological - Hydrological\\tWildfire\\tNorman Wells NT\\t21/07/2003 12:00:00 AM\\tNorman Wells, NT, July 21, 2003. Lightening started a fire in an on old-growth black spruce forest approximately 17 km from Norman Wells. The fire was sustained by high temperatures and gusting winds. Norman Wells declared a state of emergency. About 100 people were evacuated due to thick smoke. Those with respiratory problems, the elderly, and the young were evacuated by plane to Inuvik while others were sent to nearby communities via boat.\\t0\\t\\t100\\t121846\\t7111.6\\t21/07/2003 12:00:00 AM\\t39640\\t82206\\t\\t\\t\\t\\t\\t0\\t0\\n',\n",
       "  'Disaster\\tNatural\\tMeteorological - Hydrological\\tWildfire\\tSoutheastern British Columbia and Southwestern Alberta\\t01/07/2003 12:00:00 AM\\tSoutheastern British Columbia and Southwestern Alberta; July and August 2003.  Dozens of communities were evacuated due to wildfires started by lightning and careless fire use.  Over 50,000 people were evacuated and firefighting costs alone are estimated at $400 million dollars.\\t\\t\\t48501\\t159052448\\t9283216.8\\t31/08/2003 12:00:00 AM\\t159052448\\t\\t\\t\\t\\t\\t\\t0\\t0\\n',\n",
       "  'Disaster\\tNatural\\tMeteorological - Hydrological\\tWildfire\\tEastern Passage, Cole Harbour NS\\t19/05/2003 12:00:00 AM\\tCole Harbour, Eastern Passage NS, May 19, 2003.  A forest fire started in a bog near Cole Harbour.  High winds and dry conditions helped the fire spread out of control burning 240 hectares and forcing the evacuation of 240 homes.  Approximately 500 people were evacuated near Eastern Passage in northeast of Halifax.  No damage or injuries reported.\\t\\t\\t500\\t\\t\\t19/05/2003 12:00:00 AM\\t\\t\\t\\t\\t\\t\\t\\t0\\t0\\n',\n",
       "  \"Disaster\\tNatural\\tMeteorological - Hydrological\\tWildfire\\tManitoba\\t01/04/2003 12:00:00 AM\\tManitoba, April to October 2003. The province of Manitoba experienced 1,148 wildfires during the 2003 season. While the fires actually began at the end of March,  damages began to affect communities in April. The Thompson area was particularly affected. A lightening strike near Thompson began a forest fire that was sustained through hot and dry weather. Approximately 900 people were evacuated, many from aboriginal comunities including: 250 people from Red Sucker Lake First Nation and 92 people from God's River First Nation were evacuated due to fires that began in July. In August, approximately 155 people were evacuated from Shamattawa while 250 were evacuated from Split Lake. \\t0\\t\\t665\\t5286253\\t308536.2\\t31/10/2003 12:00:00 AM\\t5286253\\t\\t\\t\\t\\t\\t\\t0\\t0\\n\",\n",
       "  \"Disaster\\tNatural\\tMeteorological - Hydrological\\tFlood\\tOxford and Truro NS\\t31/03/2003 12:00:00 AM\\tOxford and Truro NS, March 31, 2003. Heavy rains and snowmelt caused flooding in communities on the Atlantic coast. States of emergency were declared in the towns of Oxford and Truro NS where 150 and 120 people respectively were evacuated from their homes. Two people died as there car was swept off the road by flood waters in Pinehurst. Nova Scotia's Transportation Department has reported that the flooding has destroyed or damaged 47 bridges and has affected 200 roads. See Prince Edward Island and Newfoundland entries for more information on this event.\\t2\\t3\\t270\\t25485948\\t1487506.7\\t31/03/2003 12:00:00 AM\\t21065353\\t4420595\\t\\t\\t\\t\\t\\t0\\t0\\n\",\n",
       "  'Disaster\\tNatural\\tMeteorological - Hydrological\\tWinter Storm\\tPrince Edward Island\\t31/03/2003 12:00:00 AM\\tPrince Edward Island, March 31, 2003.  Both freezing rain and heavy snowfall destroyed power lines in the province. Power losses were experienced in western PEI. The province also experienced flooding as a result of heavy rainfall that contributed to the spring runoff. See Nova Scotia and Newfoundland entries for more information on this event.\\t0\\t\\t\\t1869114\\t109092.3\\t31/03/2003 12:00:00 AM\\t1869114\\t\\t\\t\\t\\t\\t\\t0\\t0\\n',\n",
       "  \"Disaster\\tNatural\\tMeteorological - Hydrological\\tFlood\\tWest Coast of Newfoundland\\t31/03/2003 12:00:00 AM\\tWest Coast of Newfoundland, March 31, 2003. Western Newfoundland experienced flooding as a result of both heavy rain and mild temperatures. Some of the communities affected include: Codroy Valley, Cox's Cove, and Corner Brook. These communities faced washed out roads as well as damaged water and sewage systems. A landslide on the Trans-Canada Highway restricted access between Gallants and George's Lake. See Nova Scotia and Prince Edward Island entries for more information on this event.\\t0\\t\\t\\t6934707\\t404749.4\\t31/03/2003 12:00:00 AM\\t6934707\\t\\t\\t\\t\\t\\t\\t0\\t0\\n\",\n",
       "  'Disaster\\tNatural\\tMeteorological - Hydrological\\tFlood\\tPrince Edward Island\\t31/03/2003 12:00:00 AM\\tPrince Edward Island, March 31, 2003.  The province was subjected to a severe rainstorm causing flooding and resulting in damage to both private and public property.\\t0\\t0\\t0\\t2381905\\t139021.7\\t31/03/2003 12:00:00 AM\\t1869114\\t512791\\t\\t\\t\\t\\t\\t0\\t0\\n',\n",
       "  'Disaster\\tNatural\\tBiological\\tEpidemic\\tAcross Canada, largely in the Greater Toronto area\\t13/03/2003 12:00:00 AM\\tAcross Canada, 13 March to August, 2003. Severe acute respiratory syndrome (SARS) emerged in November 2002 in Asia. It is described as a droplet-spread viral illness. The outbreak affected Toronto and the Greater Toronto Area the most. According to the Government of Ontario, there were 375 probable and suspected cases and 44 deaths.\\t44\\t375\\t0\\t\\t\\t31/08/2003 12:00:00 AM\\t\\t\\t\\t\\t\\t\\t\\t0\\t0\\n',\n",
       "  'Incident\\tTechnology\\tTransportation accident\\tRail\\tTyendinaga Township First Nation ON\\t21/02/2003 12:00:00 AM\\tTyendenaga Township First Nation ON, February 21, 2003. Two Canadian Pacific freight trains carrying hazardous materials collided, derailed and exploded in Tyendenaga Township First Nation near Melrose, Ontario.  Two crewmembers were injured and approximately 300 people were forced to leave their homes.  The township declared a state of emergency and ordered evacuation within a 2 km area of the site.  \\t\\t2\\t300\\t\\t\\t21/02/2003 12:00:00 AM\\t\\t\\t\\t\\t\\t\\t\\t0\\t0\\n',\n",
       "  \"Disaster\\tNatural\\tMeteorological - Hydrological\\tFlood\\tBadger NL\\t15/02/2003 12:00:00 AM\\tThe entire town of Badger, NL was evacuated when the three rivers Badger-Exploits, Red Indian and Badger overflowed their banks due to ice jamming. The town's water supply was contaminated after the sewer system failed.  Power supply was cut off to all flooded homes.  Approximately 200 homes were affected by the flooding.  The Canadian Red Cross, local officials, the RCMP and the Emergency Measures Organization were cooperating to find shelter for approximately 80 families.\\t\\t\\t1100\\t4681553\\t273242.4\\t15/02/2003 12:00:00 AM\\t4681553\\t\\t\\t\\t\\t\\t\\t0\\t0\\n\",\n",
       "  'Disaster\\tNatural\\tMeteorological - Hydrological\\tWinter Storm\\tWolfe Lake and Moncton NB\\t02/02/2003 12:00:00 AM\\tWolfe Lake and Moncton NB, February 2, 2003. Ice storms resulted in 40-60 mm of frozen rain coating the region and at Wolfe Lake, 58.3 mm of freezing rain was recorded as falling. Winds reached 75 km/hr generating a wind chill of minus 27 degrees centigrade.  Schools closed for one week.  More than 63,000 residences were left without power and phone services due to the downed power lines, which were a direct result of the weight of freezing rain atop the infrastructure. There were a huge number of livestock fatalities, extensive damages to barns and silos, and maple sugar wood lots were damaged.\\t\\t\\t\\t\\t\\t02/02/2003 12:00:00 AM\\t\\t\\t\\t\\t\\t\\t\\t189000\\t\\n',\n",
       "  'Disaster\\tNatural\\tMeteorological - Hydrological\\tAvalanche\\tWestern Canada\\t21/01/2003 12:00:00 AM\\tGolden, Fernie, Valemount, Nelson, Revelstoke, Durrand Glacier BC and Rogers Pass, Connaught Creek Valley, Okotoks, Mt. Terry Fox, Lake Louise, Rocky Mountains AB, January – April 2003.  Deadly avalanche season since 1970 claimed 30 lives in Western Canada.  The higher death toll was in part due to unusual weather patterns brought by an El Nino winter.\\t30\\t\\t2\\t\\t\\t21/01/2003 12:00:00 AM\\t\\t\\t\\t\\t\\t\\t\\t0\\t0\\n',\n",
       "  'Incident\\tTechnology\\tTransportation accident\\tRail\\tBrantford ON\\t16/11/2002 12:00:00 AM\\tBrantford ON, November 16, 2002.  Eight train cars were derailed as a result of a collision with a van. The derailed cars rolled down an embankment that adjoined a neighbourhood, causing 120 people from the immediate area to be evacuated for two days. There were no leaks reported, but the cars contained a residue of butylene and butane.\\t1\\t0\\t120\\t0\\t0\\t16/11/2002 12:00:00 AM\\t\\t\\t\\t\\t\\t\\t\\t0\\t0\\n',\n",
       "  \"Incident\\tTechnology\\tInfrastructure failure\\tWater\\tMontreal QC\\t12/08/2002 12:00:00 AM\\tMontreal QC, August 12, 2002.  Montreal's worst ever water main break affected several sections of the city.  The city's waterworks system that stretches 2700 km in total has some sections that are over 100 years old.  Approximately 10 million gallons of water were lost before the water was turned off. In the St. Michel area, 1300 homes were affected by flooding and interruption in hydro services. Twenty-two thousand homes in the Rivière des Prairies and Montreal East areas did not have water, and 40 homes were deemed uninhabitable due to severe water damage.\\t0\\t0\\t200\\t0\\t0\\t12/08/2002 12:00:00 AM\\t\\t\\t\\t\\t\\t\\t\\t0\\t0\\n\",\n",
       "  'Incident\\tTechnology\\tHazardous Chemicals\\tLeak / Spill Release\\tDryden ON\\t30/07/2002 12:00:00 AM\\tDryden ON, July 30, 2002. A chlorine dioxide leak at a nearby paper mill caused 300 to 400 people to be evacuated from the immediate downwind area.\\t0\\t0\\t350\\t0\\t0\\t30/07/2002 12:00:00 AM\\t\\t\\t\\t\\t\\t\\t\\t0\\t0\\n',\n",
       "  'Disaster\\tNatural\\tMeteorological - Hydrological\\tWildfire\\tNear community of Sheshatshui and town of North West River NL\\t03/07/2002 12:00:00 AM\\tNear the community of Sheshatshui and the Town of North West River NL, July 3, 2002.  A forest fire ignited 10-12 km from the community of Sheshatshui and the Town of North West River. Approximately 1200 residents were evacuated to the town of Happy Valley-Goose Bay. The fire burned 3km2 of forest.\\t0\\t0\\t912\\t464286\\t27857.2\\t03/07/2002 12:00:00 AM\\t\\t\\t464286\\t\\t\\t\\t\\t0\\t0\\n',\n",
       "  'Disaster\\tNatural\\tMeteorological - Hydrological\\tWildfire\\tNemiscau region, near James Bay QC\\t02/07/2002 12:00:00 AM\\tNemiscau region, near James Bay QC, July 2, 2002. Of 50 forest fires burning in Quebec around this time, the Nemiscau fire was the most noticeable.  The fire travelled within 800 metres of the native village of Nemaska. A total of 630 Chisasibi and Nemiscau-region residents were evacuated. The fire was ignited by intense thunder and lightning storms and destroyed over 600 km2 of forest. Consequently, 6000 Quebec forestry workers were laid-off. Hydro-Quebec disconnected its service to 500 000 people given the proximity of the fire to a major power line. Smoke could be seen in most of Quebec, parts of Ontario, and the northeastern United States.\\t0\\t0\\t628\\t0\\t0\\t02/07/2002 12:00:00 AM\\t\\t\\t\\t\\t\\t\\t\\t0\\t0\\n',\n",
       "  'Disaster\\tNatural\\tMeteorological - Hydrological\\tWildfire\\tKee-Way-Win FN; Townships of Terrace Bay and Schrieber; Village of Rossport; Pays Plat FN; Deer Lake FN, ON\\t01/07/2002 12:00:00 AM\\tKee-Way-Win FN; Townships of Terrace Bay and Schrieber; Village of Rossport; Pays Plat FN; Deer Lake FN, ON, July 2002. Members of several communities were concerned by nearby fires and smoke. More than 1000 people were evacuated to Thunder Bay, Geraldton and Sioux Lookout. Municipal emergency declarations occurred in six communities.\\t0\\t0\\t985\\t0\\t0\\t01/07/2002 12:00:00 AM\\t\\t\\t\\t\\t\\t\\t\\t0\\t0\\n',\n",
       "  'Disaster\\tNatural\\tMeteorological - Hydrological\\tWildfire\\tHawes/Patuanak SK\\t28/06/2002 12:00:00 AM\\tHawes/Patuanak SK, June 28-30, 2002. One hundred three evacuated.\\t0\\t0\\t103\\t0\\t0\\t30/06/2002 12:00:00 AM\\t\\t\\t\\t\\t\\t\\t\\t0\\t0\\n',\n",
       "  'Disaster\\tNatural\\tMeteorological - Hydrological\\tWildfire\\tCrutwell, Dillon, Hatchett Lake, Pelican Narrows, Deschambeault, Wahpeton First Nation, Nordell, Peter Pond SK\\t28/06/2002 12:00:00 AM\\tCrutwell, Dillon, Hatchett Lake, Pelican Narrows, Deschambeault, Wahpeton First Nation, Nordell, Peter Pond SK, June 28 - July 1, 2002. Five hundred six evacuated.\\t0\\t0\\t480\\t0\\t0\\t01/07/2002 12:00:00 AM\\t\\t\\t\\t\\t\\t\\t\\t0\\t0\\n',\n",
       "  'Disaster\\tNatural\\tMeteorological - Hydrological\\tWildfire\\tTurnor Lake SK\\t24/06/2002 12:00:00 AM\\tTurnor Lake SK, June 25, 2002. Three hundred and fifty residents of Turnor Lake, located 600 km northwest of Saskatoon, were evacuated to nearby towns. The fire was charged by exceptionally dry and hot weather, and winds pushed the fire towards Turnor Lake. Water bombers continuously dropped their payload on the fire, while the town buildings and trees were showered by industrial sprinkler systems.\\t0\\t0\\t425\\t31014\\t1860.8\\t24/06/2002 12:00:00 AM\\t\\t\\t31014\\t\\t\\t\\t\\t0\\t0\\n',\n",
       "  'Disaster\\tNatural\\tMeteorological - Hydrological\\tWildfire\\tPeerless Lake, Trout Lake AB\\t23/06/2002 12:00:00 AM\\tPeerless Lake and Trout Lake AB, June 23, 2002.  The Peerless Lake Complex involved three separate fires within a small area approximately 155 km north of Slave Lake. These three fires forced the MD of Opportunity No. 17 to evacuate approximately 600 people to Red Earth.  The wild fires consumed a total of 15,438 ha of forest. \\t0\\t0\\t600\\t0\\t0\\t23/06/2002 12:00:00 AM\\t\\t\\t\\t\\t\\t\\t\\t0\\t0\\n',\n",
       "  'Incident\\tTechnology\\tFire\\tNon-Residential\\tKingsville ON\\t21/06/2002 12:00:00 AM\\tKingsville ON, June 21, 2002. Four million pounds of styrene incinerated.\\t0\\t0\\t2500\\t0\\t0\\t21/06/2002 12:00:00 AM\\t\\t\\t\\t\\t\\t\\t\\t0\\t0\\n',\n",
       "  'Disaster\\tNatural\\tMeteorological - Hydrological\\tFlood\\tSouthern Alberta\\t11/06/2002 12:00:00 AM\\tSouthern AB, June 11, 2002.  Approximately 280 mm of rain fell on the area within a few days.  The heavy rain and the unusually late spring runoff caused mudslides and forced sewage into river systems, and power lines were damaged in Waterton Lake National Park.  A local state of emergency was declared for the areas of: Pincher Creek, County of Warner, Village of Sterling, Village of Warner, Village of Foremost, and the Town of Coaldale.  Two hundred residents from the Blood First Nation and 150 residents from the Peigan First Nation were evacuated.\\t0\\t0\\t350\\t16054182\\t963250.9\\t11/06/2002 12:00:00 AM\\t8834091\\t7220091\\t\\t\\t\\t\\t\\t0\\t0\\n',\n",
       "  'Disaster\\tNatural\\tMeteorological - Hydrological\\tFlood\\tSoutheast MB\\t11/06/2002 12:00:00 AM\\tSoutheast MB, June 11, 2002. Ten communities declared a state of emergency following severe flooding of homes and roads. About 240 mm of rain fell, causing the worst flooding southeast Manitoba had seen in 45 years. Levels of the Roseau River declined for a few days; however, additional flooding was expected the following week given the record water levels in the American portion of the river and the expected crest in southeast Manitoba. Residents and flood workers built dikes and laid sandbags as a preventative measure in the event of further flooding. Several roads were closed and some of these washed out or were covered with water. Crops were severely damaged because fields were submerged under water, and homes were inundated.\\t0\\t0\\t150\\t10376248\\t622574.9\\t11/06/2002 12:00:00 AM\\t3552493\\t2954305\\t2094671\\t1766793\\t\\t\\t7986\\t0\\t0\\n',\n",
       "  'Disaster\\tNatural\\tMeteorological - Hydrological\\tFlood\\tMunicipalities of Ignace, Fort Frances, Rainy River, Alberton, Atikokan, Chapple, Dawson, Emo, La Valle, Lake of the Woods, Morley, Machin; Township of Sioux-Narrows - Nestor Falls, ON\\t09/06/2002 12:00:00 AM\\tMunicipalities of Ignace, Fort Frances, Rainy River, Alberton, Atikokan, Chapple, Dawson, Emo, La Valle, Lake of the Woods, Morley, Machin; Township of Sioux-Narrows - Nestor Falls ON, June 9-11, 2002.  Parts of northwestern Ontario were declared disaster areas because of severe flooding. Roads and highways were washed out and closed, power and telecommunication lines were disrupted, and private properties were greatly damaged.\\t0\\t0\\t0\\t6975854\\t418551.2\\t09/06/2002 12:00:00 AM\\t\\t\\t6975854\\t\\t\\t\\t\\t0\\t0\\n',\n",
       "  'Incident\\tTechnology\\tFire\\tResidential\\tCalgary AB\\t30/05/2002 12:00:00 AM\\tCalgary AB, May 5, 2002.  Fire gutted the Waterford Complex, a condominium development near downtown Calgary.\\t0\\t0\\t300\\t0\\t0\\t30/05/2002 12:00:00 AM\\t\\t\\t\\t\\t\\t\\t\\t0\\t0\\n',\n",
       "  'Disaster\\tNatural\\tMeteorological - Hydrological\\tFlood\\tBritish Columbia\\t20/05/2002 12:00:00 AM\\tBritish Columbia, May 2002.  High snow-pack levels, rapid melting and heavy rainfall caused severe runoff and flooding in areas of B.C. except Vancouver Island and the Central Coast. The spring freshet caused significant damage to private properties, public transportation corridors, and recreation facilities.\\t\\t\\t\\t0\\t0\\t20/05/2002 12:00:00 AM\\t0\\t0\\t\\t\\t\\t\\t\\t0\\t0\\n',\n",
       "  'Disaster\\tNatural\\tMeteorological - Hydrological\\tWildfire\\tMontreal Lake SK\\t20/05/2002 12:00:00 AM\\tMontreal Lake SK, May 20-22, 2002.  Extreme burning conditions existed throughout Saskatchewan at this time.  Winds gusting at 50 to 60 km/h aided the spread of fires (around 48 in total), mostly in grasses and brush.  This specific fire was first spotted around the Bittern Lake area and was moving north towards the eastern part of the community of Montreal Lake.  Approximately 130 evacuees from this community and the Montreal Lake Cree Nation were moved to Prince Albert.  \\t0\\t0\\t129\\t32332\\t1939.9\\t22/05/2002 12:00:00 AM\\t\\t\\t19779\\t\\t\\t\\t12553\\t0\\t0\\n',\n",
       "  \"Disaster\\tNatural\\tMeteorological - Hydrological\\tWildfire\\tNorthern Alberta and Conklin\\t17/05/2002 12:00:00 AM\\tNorthern AB and Conklin, May 14 - June 7, 2002. The House River Fire was first spotted on May 17, 2002. It burned 248,243 hectares. The fire was approximately 100 km north of Lac La Biche. At its peak, 1,000 firefighters were on the fireline. The task was difficult given the strong and shifting winds and minimal precipitation. The fire perimeter was secured by June 7, 2002. This was Alberta's second largest forest fire since 1961. On May 27 the Regional Municipality of Wood Buffalo evacuated approximately 1,550 people. There were approximately 1,300 from work camps, and 250 from the community of Conklin. All individuals were allowed to return on June 8, 2002.\\t0\\t0\\t1254\\t1300000\\t78000\\t07/06/2002 12:00:00 AM\\t\\t\\t1300000\\t\\t\\t\\t\\t0\\t0\\n\",\n",
       "  \"Incident\\tTechnology\\tFire\\tResidential\\tNotre-Dame-du-Lac QC\\t14/05/2002 12:00:00 AM\\tNotre-Dame-du-Lac QC, May 14, 2002. A fire destroyed l'Abattoir du Breton, located in a small community in eastern Quebec.  Of the 3200 residents, 1700 were evacuated due to their proximity to the abattoir (a 1.5 kilometre radius). A total of 2600 pigs died in the fire. The abattoir was the main employer in the region and 500 people lost their jobs. Emergency officials were concerned about the health hazards of ammonia, possibly in either the air or in the town's water system. Thirty residents were again evacuated when it was proven that ammonia was leaking from the abattoir.\\t0\\t0\\t1700\\t0\\t0\\t14/05/2002 12:00:00 AM\\t\\t\\t\\t\\t\\t\\t\\t0\\t0\\n\",\n",
       "  'Disaster\\tNatural\\tMeteorological - Hydrological\\tFlood\\tAttawapiskat First Nation ON\\t01/05/2002 12:00:00 AM\\tAttawapiskat FN, ON, May 2002. Approximately 1200 people were evacuated to Moosonee and Timmins following the flooding of the Attawapiskat River. A municipal state of emergency was declared.\\t0\\t0\\t1200\\t0\\t0\\t01/05/2002 12:00:00 AM\\t\\t\\t\\t\\t\\t\\t\\t0\\t0\\n',\n",
       "  'Incident\\tTechnology\\tExplosion\\tNon-Residential\\tBrookdale MB\\t14/04/2002 12:00:00 AM\\tBrookdale MB, April 14, 2002.  A rupture occurred on the 914-mm natural gas transmission Line 100-3 (main line) of TransCanada Pipelines 2 km from the village of Brookdale, Manitoba.  There were no injuries, damage or fatalities noted in the area. Approximately 100 people within a 4 km radius were evacuated by the RCMP.  On April 25, 2002 TransCanada completed the repairs and Line 100-3 was fully restored to normal service on July 5, 2002. \\t\\t\\t100\\t0\\t0\\t14/04/2002 12:00:00 AM\\t\\t\\t\\t\\t\\t\\t\\t0\\t0\\n',\n",
       "  'Disaster\\tNatural\\tMeteorological - Hydrological\\tHurricane / Typhoon / Tropical Storm\\tSouthern coast of Newfoundland\\t19/09/2001 12:00:00 AM\\tSouthern coast of Newfoundland, September 19, 2001. Tropical Storm \"Gabrielle\". High tides, strong winds and record-breaking precipitation hit the southern coast of Newfoundland, particularly the Avalon Peninsula. Provincial, municipal, and private properties were greatly affected. Basements, streets, parks, schools and shopping malls were flooded. Power outages affected most of the province. Conflict arose between St-John\\'s residents and the municipality over the inadequate sewer system; the sewer system could not manage the runoff.\\t0\\t0\\t0\\t11743003\\t720429.6\\t19/09/2001 12:00:00 AM\\t4353450\\t1668893\\t\\t\\t\\t5720660\\t\\t0\\t0\\n',\n",
       "  'Incident\\tConflict\\tHijacking\\tAir\\tNew York City, NY, U.S.A.\\t11/09/2001 12:00:00 AM\\tNew York City, NY, U.S.A., September 11, 2001. Twenty-four Canadians were killed when terrorists crashed two commercial airliners into the towers of the World Trade Center. One Canadian was aboard each of the two hijacked aircraft. The other 22 Canadians were among the 2 823 people killed in the subsequent collapse of both towers.\\t24\\t\\t\\t0\\t0\\t11/09/2001 12:00:00 AM\\t\\t\\t\\t\\t\\t\\t\\t0\\t0\\n',\n",
       "  'Disaster\\tNatural\\tMeteorological - Hydrological\\tStorms and Severe Thunderstorms\\tMorley, Chapple, Dawson, Emo, Lake of the Woods, La Vallee, Rainy River, Fort Frances ON\\t31/07/2001 12:00:00 AM\\tMorley, Chapple, Dawson, Emo, Lake of the Woods, La Vallee, Rainy River, Fort Frances ON, July 31, 2001.  A severe summer storm hit eight municipalities and two rural areas in northwestern Ontario.  These were declared disaster areas, and the damages were covered by the Ontario government.  Effects of the storm include fallen trees, washed out roads, tossed boats, and broken docks.\\t0\\t0\\t0\\t869596\\t53349.4\\t31/07/2001 12:00:00 AM\\t\\t\\t869596\\t\\t\\t\\t\\t0\\t0\\n',\n",
       "  'Disaster\\tNatural\\tMeteorological - Hydrological\\tFlood\\tNortheast and Central British Columbia\\t01/07/2001 12:00:00 AM\\tNortheast and Central British Columbia, July 2001.  A severe five-day rainstorm caused flood damage to 100 homes and to critical infrastructure.  More than 200 mm of rain fell.  Roads and bridges were washed out, businesses and public and private properties were damaged, two trains derailed, and people were temporarily stranded.\\t0\\t0\\t\\t9323887\\t572017.6\\t01/07/2001 12:00:00 AM\\t2622744\\t6701143\\t\\t\\t\\t\\t\\t0\\t0\\n',\n",
       "  'Disaster\\tNatural\\tMeteorological - Hydrological\\tFlood\\tPeace River area BC\\t01/06/2001 12:00:00 AM\\tPeace River area BC, June 2001.  The region was subjected to many intense precipitation events.  Increased tributary levels combined with the spring freshet caused the over-saturation of the soil and surface runoff.  This in turn triggered several landslides that cut-off highways.  Property and infrastructure damage was extensive. Pink Mountain and Halfway River were both affected.\\t\\t\\t\\t20942391\\t1284809.3\\t01/06/2001 12:00:00 AM\\t10691352\\t10251039\\t\\t\\t\\t\\t\\t0\\t0\\n',\n",
       "  'Disaster\\tNatural\\tMeteorological - Hydrological\\tDrought\\tAcross Canada, concentrated in Saskatchewan and Alberta\\t01/06/2001 12:00:00 AM\\tAcross Canada, concentrated in Saskatchewan and Alberta, Spring 2001 to Fall 2002.  A severe drought was felt across all Canada, affecting 41,000 people, with the most devastating impacts felt in Saskatchewan and Alberta.  Record to near-record drought, as indicated by the Palmer Drought Severity Index, was recorded at several climate stations in 2001.  The winter of 2001-2002 continued the dry trend and brought above normal temperatures.  Fall 2002 brought much needed precipitation to relieve much of the drought, though dry conditions did remain in places.  The repercussions of the drought included agricultural production, employment, crop and livestock production, and the Gross Domestic Product.\\t0\\t0\\t0\\t0\\t0\\t01/10/2002 12:00:00 AM\\t\\t\\t\\t\\t\\t\\t\\t0\\t0\\n',\n",
       "  'Disaster\\tNatural\\tMeteorological - Hydrological\\tFlood\\tSouthern Manitoba\\t01/04/2001 12:00:00 AM\\tSouthern Manitoba, April 2001.  Southern Manitoba suffered significant losses during spring flooding.  Highway infrastructures, businesses and private and public properties were extensively damaged.\\t\\t\\t\\t16710626\\t1025191.8\\t01/04/2001 12:00:00 AM\\t7045162\\t3107992\\t768943\\t5788529\\t\\t\\t\\t0\\t0\\n',\n",
       "  'Disaster\\tNatural\\tMeteorological - Hydrological\\tWinter Storm\\tQuebec\\t10/02/2001 12:00:00 AM\\tQuebec, February 10, 2001. Freezing rain, heavy snow and wind caused road accidents and homelessness. Six died in weather-related motor vehicle accidents.\\t6\\t11\\t30\\t0\\t0\\t10/02/2001 12:00:00 AM\\t\\t\\t\\t\\t\\t\\t\\t0\\t0\\n',\n",
       "  'Incident\\tTechnology\\tTransportation accident\\tVehicle\\tRogers Pass BC\\t27/11/2000 12:00:00 AM\\tRogers Pass BC, November 27, 2000.  A bus carrying tourists from Taiwan crashed head-on with a transport truck in a tunnel on the Trans-Canada Highway, killing six and injuring 21.  The accident happened in the 316-metre Lanark snowshed tunnel, closing the highway for about 14 hours.  The transport truck was empty at the time of the accident.\\t6\\t21\\t0\\t0\\t0\\t27/11/2000 12:00:00 AM\\t\\t\\t\\t\\t\\t\\t\\t0\\t0\\n',\n",
       "  'Disaster\\tNatural\\tMeteorological - Hydrological\\tFlood\\tSydney NS\\t02/11/2000 12:00:00 AM\\tSydney NS, November 2-11, 2000.  Heavy rains hit Cape Breton and Victoria County for nearly ten days, causing flooding and damages to homes and businesses.  Almost 100 millimetres of rain fell in a 24-hour period, flooding streets and forcing the evacuation of 200 families.  One woman was trapped in her car and suffered injuries when a massive culvert collapsed due water pressure.  A boil order was in effect for a week for 1,000 residents in Donkin and at least 2 weeks for the 30,000 residents of Glace Bay, Reserve Mines and Dominion.\\t0\\t1\\t800\\t5627843\\t353952.4\\t11/11/2000 12:00:00 AM\\t449218\\t1389625\\t1939000\\t1850000\\t\\t\\t\\t0\\t0\\n',\n",
       "  'Disaster\\tNatural\\tMeteorological - Hydrological\\tStorm Surge\\tEastern and Northern Coastline of New Brunswick\\t29/10/2000 12:00:00 AM\\tEastern and Northern Coastline of New Brunswick, October 29, 2000.  Extensive damage occurred during a severe storm surge with winds in excess of 130 km/h.  Private property, businesses and public infrastructure were damaged along the eastern and northern coast of New Brunswick.  The emerging shellfish aquaculture industry (which includes mussels, oysters and clams) was also greatly affected.\\t0\\t0\\t0\\t0\\t0\\t29/10/2000 12:00:00 AM\\t0\\t0\\t\\t\\t\\t\\t\\t0\\t0\\n',\n",
       "  'Incident\\tTechnology\\tHazardous Chemicals\\tLeak / Spill Release\\tChetwynd BC\\t01/08/2000 12:00:00 AM\\tChetwynd BC, August 1, 2000.  An oil pipeline break released approximately 1 million litres of crude oil into the Pine River, causing extensive fish kill in the Pine River.  The wells that supply drinking water to some of the farms located along the river have been contaminated.  The Pine River water intake was turned off to avoid potential water system contamination.\\t0\\t0\\t0\\t0\\t0\\t01/08/2000 12:00:00 AM\\t\\t\\t\\t\\t\\t\\t\\t0\\t0\\n',\n",
       "  'Disaster\\tNatural\\tMeteorological - Hydrological\\tTornado\\tPine Lake AB\\t14/07/2000 12:00:00 AM\\tPine Lake AB, July 14, 2000.  A tornado hit Pine Lake at 300 kilometres an hour, killing 12 people and injuring more than 140.  Close to one-thousand people were displaced from a campsite as their recreational vehicles were damaged.\\t12\\t140\\t1000\\t3385331\\t212913.9\\t14/07/2000 12:00:00 AM\\t190216\\t3195115\\t\\t\\t\\t\\t\\t0\\t0\\n',\n",
       "  'Disaster\\tNatural\\tMeteorological - Hydrological\\tFlood\\tSouthern Manitoba\\t07/07/2000 12:00:00 AM\\tSouthern Manitoba, July 7-14, 2000.   Heavy rains occurred throughout July causing major problems in some areas.  On July 7, between 80 -100 millimetres of rain fell in a four hour time-frame, washing out roads and flattening crops.  Winds reached almost 125 km/h, and lightning strikes reached up to 1,000 hits an hour.  The prolonged rainfall resulted in saturated soil, and overland flooding across the province with reports of flooded basements, blocked drainage systems, and backed-up sewers.\\t0\\t0\\t0\\t2917561\\t183494.4\\t14/07/2000 12:00:00 AM\\t885581\\t2031980\\t\\t\\t\\t\\t\\t0\\t0\\n',\n",
       "  \"Disaster\\tNatural\\tMeteorological - Hydrological\\tFlood\\tVanguard SK\\t03/07/2000 12:00:00 AM\\tVanguard SK, July 3, 2000.  The Village of Vanguard and seven surrounding municipalities experienced a severe flood, causing extensive damage to private property and public infrastructure. More than 333 mm of rain – equivalent to the area's annual rainfall – fell on the area in less than 10 hours. Roads were closed, basements flooded, and two bridges were washed out. Nine families were forced from their homes due to flooding.  Residents were also advised not to drink the water for two weeks because the village's water treatment plant and sewer system were submerged during the flood. No deaths or injuries were reported.\\t0\\t0\\t36\\t3787294\\t238194.6\\t03/07/2000 12:00:00 AM\\t1580762\\t2206532\\t\\t\\t\\t\\t\\t0\\t0\\n\",\n",
       "  \"Disaster\\tNatural\\tBiological\\tEpidemic\\tWalkerton ON\\t19/05/2000 12:00:00 AM\\tWalkerton ON, May 19 - July 14, 2000. E. coli O157:H7 and Campylobacter jejuni bacteria contaminated Walkerton's drinking water supply through Well 5, sickening more than 2,300 people and killing six.  The primary contamination source was manure spread on a farm near Well 5.  Contributing factors to this disaster, as identified by the Report on the Walkerton Inquiry, included failure to use continuous cholorine and turbidity monitors, improper operating practices at the Walkerton Public Utilities Commission, and the provincial government's budget reductions to the Ministry of Environment.\\t6\\t2300\\t0\\t0\\t0\\t14/07/2000 12:00:00 AM\\t\\t\\t\\t\\t\\t\\t\\t0\\t0\\n\",\n",
       "  'Disaster\\tNatural\\tMeteorological - Hydrological\\tStorms and Severe Thunderstorms\\tSouthern Ontario\\t20/04/2000 12:00:00 AM\\tSouthern Ontario, April 20-21, 2000.  The Windsor area registered 95 mm of rain in a 24-hour period and the storm dumped almost 70 mm of rain on the London area, Sarnia got 50 mm, while 40 mm fell on the Toronto area.  Sewers were backed up and roads washed out, and many short power outages occurred.  One child suffered injuries in Toronto due to violent winds, which gusted up to 80 km/h.\\t0\\t1\\t0\\t0\\t0\\t21/04/2000 12:00:00 AM\\t\\t\\t\\t\\t\\t\\t\\t0\\t0\\n',\n",
       "  'Disaster\\tNatural\\tGeological\\tLandslide\\tPassmore BC\\t13/04/2000 12:00:00 AM\\tPassmore BC, April 13-14, 2000.  Two mudslides slid 320 metres down a mountainside, totalling about 150,000 cubic metres of dirt, rock and trees.  The slides buried the highway just south of Passmore in the Slocan Valley.  The mudslide toppled power lines, leaving about 4,000 residents without electricity and long distance phone service.  No one was injured in either slide.\\t0\\t0\\t0\\t0\\t0\\t14/04/2000 12:00:00 AM\\t\\t\\t\\t\\t\\t\\t\\t0\\t0\\n',\n",
       "  'Disaster\\tNatural\\tMeteorological - Hydrological\\tStorm Surge\\tMaritime provinces\\t21/01/2000 12:00:00 AM\\tMaritime provinces, January 21, 2000. A 1.36 m surge occurred as an intense storm passed 55 km east of Charlottetown bringing 70 km/h sustained winds to the region. The peak surge coincided with high tide resulting in a water level of 4.23 m above chart datum, the highest water level recorded to date at this location. Significant flooding occurred inundating more than 460 properties including gas stations and a power generating plant and damaging wharves.\\t0\\t0\\t0\\t216978\\t13646.4\\t21/01/2000 12:00:00 AM\\t216978\\t\\t\\t\\t\\t\\t\\t0\\t0\\n',\n",
       "  'Disaster\\tNatural\\tMeteorological - Hydrological\\tWinter Storm\\tMaritime Provinces\\t17/01/2000 12:00:00 AM\\tMaritime Provinces, January 17-22, 2000.  An intense storm hit the maritimes for 6 days. Up to 70 centimetres of snow fell in some areas and temperatures plummeted to Â–40 degrees Centigrade with the wind chill.  Flooding caused extensive damage to private property and public infrastructure in Newfoundland, New Brunswick, and P.E.I. Wind gusts hit 120 kilometres per hour.  Cape Breton, Shediac, New Brunswick and P.E.I were hit especially hard by the storm, as well as areas along the Gulf of St. Laurence and the Northumberland Strait in New Brunswick.\\t0\\t0\\t216\\t6621462\\t416444.2\\t22/01/2000 12:00:00 AM\\t3059340\\t2773532\\t301806\\t486784\\t\\t\\t\\t0\\t0\\n',\n",
       "  'Incident\\tTechnology\\tHazardous Chemicals\\tDerailment Release\\tSt-Hilaire QC\\t30/12/1999 12:00:00 AM\\tSt-Hilaire QC, December 30, 1999.  Two trains collided when the eleventh wagon of the Ultra-train derailed and hit an oncoming train. The Ultra-Train is a convoy of 68 wagons in four sections of 17 wagons linked by hoses.  It is about one kilometre long, and acts as a “pipeline on rail” between St-Romuald and Montreal.  Due to the petroleum products it was carrying, a series of explosions were set off and black smoke was left in the air.  Two train operators were killed, while 1400 people were evacuated from the towns of Mont-St-Hilaire, Beloeil and Ste-Madeleine.  The evacuees were allowed to return home the next day.\\t2\\t0\\t1400\\t\\t\\t30/12/1999 12:00:00 AM\\t\\t\\t\\t\\t\\t\\t\\t0\\t0\\n',\n",
       "  \"Disaster\\tNatural\\tMeteorological - Hydrological\\tAvalanche\\tGlacier National Park BC\\t07/12/1999 12:00:00 AM\\tGlacier National Park, BC, December 7, 1999.  One skier was killed and four others injured after being swept up in a wall of snow that rumbled down a mountain in B.C.'s Glacier National Park. The 400-metre-wide slide occurred on the west shoulder of Mt. MacDonald in a popular back-country skiing area.\\t1\\t4\\t0\\t\\t\\t07/12/1999 12:00:00 AM\\t0\\t0\\t\\t\\t\\t\\t\\t0\\t0\\n\",\n",
       "  'Disaster\\tNatural\\tBiological\\tInfestation\\tLittle Saskatchewan First Nation Reserve MB\\t01/10/1999 12:00:00 AM\\tLittle Saskatchewan First Nation Reserve MB, October 1999.  A mysterious toxic mould that forced 170 people from their homes until at least March 2000 is stubbornly hanging on and frustrating fed-up residents.  100 people are still living in construction trailers without kitchens and bathrooms on the reserve, 250 kilometres north of Winnipeg. The mould, which band officials believe is caused by a nearby dam, is so severe several houses need to be destroyed.\\t0\\t0\\t170\\t\\t\\t01/10/1999 12:00:00 AM\\t\\t\\t\\t\\t\\t\\t\\t0\\t0\\n',\n",
       "  'Disaster\\tNatural\\tMeteorological - Hydrological\\tStorm - Unspecified / Other\\tVancouver BC\\t24/09/1999 12:00:00 AM\\tVancouver and Southwestern BC, September 24, 1999.  Approximately 100,000 people were left without power when a powerful windstorm rocked Vancouver and the surrounding area.  Winds gusting up to 91 km/h hit the Vancouver area and winds up to 115 km/h hit Victoria. This storm broke the record for the month for highest wind gusts. By September 27, at least 4000 people were still without power in Surrey, White Rock, and Delta, BC.\\t0\\t0\\t0\\t\\t\\t24/09/1999 12:00:00 AM\\t0\\t0\\t\\t\\t\\t\\t\\t0\\t0\\n',\n",
       "  \"Disaster\\tNatural\\tMeteorological - Hydrological\\tFlood\\tMaritime Provinces\\t23/09/1999 12:00:00 AM\\tMaritime Provinces, September 23, 1999.  Record 1-day rainfall was caused by the remnants of tropical storm Harvey and Hurricane Gert.  Oxford NS was flooded when 2 nearby rivers overtopped their banks, after receiving 200 mm of rain in one day.  A seniors residence of 30 people and 15 families were evacuated from Moncton NB which received 160 mm of rain.  A number of bridges and roads were washed out in the region. In Newfoundland, 10 m whitecaps smashed the breakwater to pieces at Lord's Cove, and destroyed a number of buildings. Wharves were also destroyed in St. Brides, and Plancentia Bay NF.\\t0\\t0\\t90\\t4912305\\t317264\\t23/09/1999 12:00:00 AM\\t1834365\\t3077940\\t\\t\\t\\t\\t\\t0\\t0\\n\",\n",
       "  'Disaster\\tNatural\\tMeteorological - Hydrological\\tFlood\\tPrince Edward Island\\t07/09/1999 12:00:00 AM\\tPrince Edward Island, September 7, 1999.  More than 200 mm of rain fell in a short period of time during a severe rainstorm.  Flash flooding occured throughout the province; natural and man-made watercourses were overcome.  Eight highways and two bridges were severely damaged, as well as other provincial and municipal infrastructure.  Impacts were also seen on the fisheries and agricultural industries.\\t0\\t0\\t0\\t1441367\\t93091.5\\t07/09/1999 12:00:00 AM\\t1022030\\t419337\\t\\t\\t\\t\\t\\t0\\t0\\n',\n",
       "  \"Disaster\\tNatural\\tMeteorological - Hydrological\\tStorms and Severe Thunderstorms\\tBalmoral and Val d'Amour areas in Restigouche County NB\\t07/09/1999 12:00:00 AM\\tBalmoral and Val d'Amour areas in Restigouche County NB, September 7, 1999. A thunderstorm resulted in flash flooding, erosion and open water flooding. Roads and bridges were damaged. The thunderstorm brought 90 mm of rain in a time period of two to three hours.\\t\\t\\t\\t1726766\\t111524.2\\t07/09/1999 12:00:00 AM\\t485625\\t1241141\\t\\t\\t\\t\\t\\t0\\t0\\n\",\n",
       "  \"Incident\\tTechnology\\tTransportation accident\\tVehicle\\tWindsor ON\\t03/09/1999 12:00:00 AM\\tWindsor ON, September 3, 1999.  Dense fog and high speed are blamed for a massive car pileup/accident on Hwy. 401 near Windsor. At least 40 vehicles collided, including transport trucks, vans and cars, resulting in seven deaths and 33 injuries.  The intensity of the fire, which caused the road's asphalt to melt, and the fire damage, which destroyed many of the vehicles, made it impossible to fully understand how the collisions occurred.  At least five separate accidents occurred, blocking both sides of the highway.\\t7\\t33\\t0\\t\\t\\t03/09/1999 12:00:00 AM\\t0\\t0\\t\\t\\t\\t\\t\\t0\\t0\\n\",\n",
       "  'Incident\\tTechnology\\tExplosion\\tNon-Residential\\tCalgary AB\\t09/08/1999 12:00:00 AM\\tCalgary AB, August 9, 1999.  A series of explosions at Hub Oil, a Calgary oil recycling plant, caused a fire that blazed for 10 hours.  About 2000 residents from the nearby neighbourhood were evacuated until August 10 since the fire released oily toxic smoke into the atmosphere.\\t2\\t5\\t2000\\t\\t\\t09/08/1999 12:00:00 AM\\t\\t\\t\\t\\t\\t\\t\\t0\\t0\\n',\n",
       "  'Incident\\tTechnology\\tInfrastructure failure\\tCommunications\\tAcross Toronto, Canada, and internationally\\t16/07/1999 12:00:00 AM\\tAcross Toronto, Canada, and internationally, July 16, 1999.  During regular maintenance at the Bell Canada Switching Station, a repairman dropped a wrench into high-voltage equipment, resulting in a fire that disabled the switch and brought down at least 113,000 telecommunications lines across Toronto, Canada, and internationally.  Confusion between various technical and procedural fail-safes prevented service from being restored for about 12 hours.\\t0\\t2\\t0\\t\\t\\t16/07/1999 12:00:00 AM\\t\\t\\t\\t\\t\\t\\t\\t0\\t0\\n',\n",
       "  'Disaster\\tNatural\\tMeteorological - Hydrological\\tTornado\\tDrummondville QC\\t06/07/1999 12:00:00 AM\\tDrummondville QC, July 6, 1999. A tornado went through the city of Drummondville ripping roofs from 20 houses and injuring a number of people. One child was killed as a tree collapsed on his tent while he was camping.  In total, 60 homes were damaged and 200 people were forced to flee from their homes. The tornado first hit Berthierville then skipped across the river and headed southeast to Drummondville. At least 4000 people were without power for 2 days.\\t1\\t4\\t200\\t43595000\\t2815608.2\\t06/07/1999 12:00:00 AM\\t\\t\\t\\t\\t\\t43595000\\t\\t0\\t0\\n',\n",
       "  'Disaster\\tNatural\\tMeteorological - Hydrological\\tFlood\\tClearwater AB\\t04/07/1999 12:00:00 AM\\tClearwater AB, July 4-5, 1999.  About 62 cm of snow and 122 mm of rain fell starting on July 2.  Flooding forced more than 300 residents of Clearwater to flee July 4. The flooding destroyed 100 km of roads and several bridges in central Alberta. The North Saskatchewan river peaked at 8.45 m just shy of the flood level.\\t0\\t0\\t350\\t8751452\\t565217.6\\t05/07/1999 12:00:00 AM\\t2977089\\t5774363\\t\\t\\t\\t\\t\\t0\\t0\\n',\n",
       "  'Disaster\\tNatural\\tMeteorological - Hydrological\\tWildfire\\tBadger NL\\t28/06/1999 12:00:00 AM\\tBadger NL, June 28 - July 1, 1999. A 6,500 ha Forest fire forced almost 1,000 people in Badger to leave their homes when the fire came within 250 m of the town.  Residents returned home on July 1.\\t0\\t0\\t1000\\t\\t\\t01/07/1999 12:00:00 AM\\t0\\t0\\t\\t\\t\\t\\t\\t0\\t0\\n',\n",
       "  'Disaster\\tNatural\\tMeteorological - Hydrological\\tTornado\\tSaskatchewan\\t21/06/1999 12:00:00 AM\\tSaskatchewan, June 21, 1999. Stormy weather spawned heavy rain and a tornado.  The storm caused extensive damage to roofs and structures due to high winds in Moose Jaw, Regina and Saskatoon.  A number of fires were sparked from lightning, including one which hit a long-term care home in Alingly, 30 km northwest of Prince Albert.\\t0\\t0\\t4\\t\\t\\t21/06/1999 12:00:00 AM\\t\\t\\t\\t\\t\\t\\t\\t0\\t0\\n',\n",
       "  'Disaster\\tNatural\\tMeteorological - Hydrological\\tStorms and Severe Thunderstorms\\tKenora ON\\t18/06/1999 12:00:00 AM\\tKenora ON, June 18-19, 1999.  Heavy rains from an intense storm resulted in 144 mm of precipitation falling in 18 hours on the town of Kenora on June 18.  A State of Emergency was declared on June 19.  The storm caused 3 mudslides, the flooding of a dozen houses, backup of sewers with raw sewage pouring into the streets, rivers and lakes, and damage to 200 graves at the Kenora cemetery.  A portion of the TransCanada highway was washed out causing over $1 million dollars in damage.\\t0\\t0\\t12\\t\\t\\t19/06/1999 12:00:00 AM\\t\\t\\t\\t\\t\\t\\t\\t0\\t0\\n',\n",
       "  'Disaster\\tNatural\\tMeteorological - Hydrological\\tFlood\\tBritish Columbia\\t16/06/1999 12:00:00 AM\\tBritish Columbia, June 16-25, 1999.  Flooding on the Skeena in the northwestern part of BC closed roads and highways, and forced 30 people from their homes in Old Remo on June 18. Other cities affected included Hazelton, Usk, Terrace, and Kitimat.  The South Thompson river rose until June 25 and caused only localised flooding.  The Clearwater river in central BC forced 88 people from their homes in Clearwater and Barriere on Sun June 20.  The Fraser river peaked just below 1997 flood levels of 6.5 m and caused low lying areas to flood until June 25.  All the flooding is blamed on the high snowfall of the previous winter.\\t0\\t0\\t118\\t\\t\\t25/06/1999 12:00:00 AM\\t0\\t0\\t\\t\\t\\t\\t\\t0\\t0\\n',\n",
       "  'Disaster\\tNatural\\tMeteorological - Hydrological\\tWildfire\\tBurwash Landing YT\\t12/06/1999 12:00:00 AM\\tBurwash Landing YT, June 12-22, 1999. A Forest fire caused the evacuation of 69 residents and tourists from the community of Burwash Landing.  The fire reached the town on June 13, destroyed 6 houses and caused extensive damage to other buildings. Residents were allowed back to the town on June 19. Over 100 firefighters fought the blaze. The Alaska highway, a major tourist route, was shut down between Beaver Creek and Haines Junction.  The fire burned 3200 hectares of land and was put out on June 22.\\t0\\t0\\t80\\t922323\\t59568.8\\t22/06/1999 12:00:00 AM\\t317481\\t104842\\t\\t500000\\t\\t\\t\\t0\\t0\\n',\n",
       "  'Disaster\\tNatural\\tMeteorological - Hydrological\\tFlood\\tWhite Rock BC\\t08/06/1999 12:00:00 AM\\tWhite Rock BC, June 8, 1999. A sudden, intense storm delivered 200 mm of pea-sized hail, and an extra 70 mm of rain in less than 4 hours, created flash floods and mudslides in White Rock, a suburb of Vancouver BC. At its height, the water was over 1.5 m deep. Both streets and basements were flooded, and sewer and water mains backed up causing a health hazard. Emergency workers evacuated people from their homes and closed schools.\\t0\\t0\\t30\\t\\t\\t08/06/1999 12:00:00 AM\\t\\t\\t\\t\\t\\t\\t\\t0\\t0\\n',\n",
       "  'Disaster\\tNatural\\tMeteorological - Hydrological\\tWildfire\\tBeardmore ON\\t04/05/1999 12:00:00 AM\\tBeardmore ON, May 1999.  There were 60 fires burning in the province.  A 50,540 ha fire forced 300 residents from Beardmore to move to Geraldton on May 4.  Another 17,000 ha fire forced the evacuation of the Bearskin Lake First Nation (375 residents) and Pic Mobert First Nation (400 residents) on May 6.  The fires forced the closure of sections of Highways 11 and 17.  The evacuees were allowed to return home on May 8.  The Canadian Forces provided humanitarian assistance in Geraldton and Bearskin Lake.\\t0\\t0\\t307\\t\\t\\t04/05/1999 12:00:00 AM\\t0\\t0\\t\\t\\t\\t\\t\\t0\\t0\\n',\n",
       "  'Disaster\\tNatural\\tMeteorological - Hydrological\\tWildfire\\tCross Lake, Seymourville MB\\t29/04/1999 12:00:00 AM\\tManitoba, April-May 1999. There were 65 fires burning in the province.  The 1200 residents of Cross Lake were forced to flee their homes on April 29, when a Forest fire came within 300 metres of the town. The majority of residents were evacuated to the nearby towns of Thompson and Norway House.  On May 3, 600 residents of three small communities clustered on the east shore of Lake Winnipeg (Seymourville, Hollow Water First Nation and Manigotagan), were evacuated to the nearby town of Bissett to avoid the oncoming Forest fire which came within four kilometres of the communities. The fire covered 52 sq. km. and it took about 500 firefighters, 30 helicopters and five water bombers to battle the blaze.\\t0\\t0\\t1050\\t\\t\\t12/05/1999 12:00:00 AM\\t\\t0\\t0\\t\\t\\t\\t\\t0\\t0\\n',\n",
       "  'Incident\\tTechnology\\tTransportation accident\\tRail\\tThamesville ON\\t23/04/1999 12:00:00 AM\\tThamesville ON, April 23, 1999. A Via Rail train ploughed into 4 stationary freight tank cars, near Thamesville ON, killing its 2 engineers.  Dozens of passengers were quickly evacuated from the train, which was carrying 5 crew and 180 passengers.  The cause of the crash was a rail switch left in the wrong position which forced the Toronto-bound train to veer off the main track.\\t2\\t60\\t0\\t\\t\\t23/04/1999 12:00:00 AM\\t\\t\\t\\t\\t\\t\\t\\t0\\t0\\n',\n",
       "  'Disaster\\tNatural\\tMeteorological - Hydrological\\tWildfire\\tLa Ronge SK\\t01/04/1999 12:00:00 AM\\tLa Ronge SK, April-May 1999. Firefighters battled a Forest fire that caused the evacuation of the town of La Ronge, and destroyed 8 buildings.  The fire lasted for about a week.  The fire stretched for 8 km2, and it took 248 firefighters supported by water bombers to extinguish it.\\t0\\t0\\t40\\t\\t\\t31/05/1999 12:00:00 AM\\t0\\t0\\t\\t\\t\\t\\t\\t0\\t0\\n',\n",
       "  'Disaster\\tNatural\\tMeteorological - Hydrological\\tFlood\\tMelita MB\\t01/04/1999 12:00:00 AM\\tMelita MB, April 1999. Melita, Manitoba was threatened by the largest flood in the area since 1976.  The Souris river outflow rose to 169.8 cubic m/s of water compared to its normal outflow of 4.25 cubic m/s.  The Souris river spread to at least 2 km wide at its peak flooding, and almost topped the makeshift dikes.  The flood washed out roads and damaged bridges in several rural municipalities, and made over 800000 hectares of farmland unseedable this year. Both provincial and federal aid was administered in the form of deadline pushbacks and financial assistance.\\t0\\t0\\t0\\t109195449\\t7052451\\t01/04/1999 12:00:00 AM\\t7292493\\t3327956\\t97575000\\t1000000\\t\\t\\t\\t0\\t0\\n',\n",
       "  'Disaster\\tNatural\\tMeteorological - Hydrological\\tFlood\\tSoutheastern Saskatchewan\\t01/04/1999 12:00:00 AM\\tSoutheastern Saskatchewan, April-June 1999.  Heavy rainfall and flooding over the spring proved to be very costly for Saskatchewan farmers.  Due to all the excess water, farmers were only able to seed a portion of the acres they had planned to, resulting in substantial economic losses. Highways and provincial, municipal and private properties of the region were also damaged.\\t0\\t0\\t0\\t1717172\\t110904.5\\t30/06/1999 12:00:00 AM\\t345839\\t1371333\\t\\t\\t\\t\\t\\t0\\t0\\n',\n",
       "  'Disaster\\tNatural\\tMeteorological - Hydrological\\tWildfire\\tEast of Lake Winnipeg MB\\t05/03/1999 12:00:00 AM\\tEast of Lake Winnipeg MB, March 5, 1999. Forests in Ontario and Manitoba were consumed by this event.\\t\\t\\t1107\\t\\t\\t05/03/1999 12:00:00 AM\\t\\t\\t\\t\\t\\t\\t\\t0\\t0\\n',\n",
       "  'Disaster\\tNatural\\tMeteorological - Hydrological\\tFlood\\tBritish Columbia\\t01/03/1999 12:00:00 AM\\tBritish Columbia, March 1 - July 30, 1999. Above average spring-runoff brought a freshet flood to such areas of British Columbia as: Terrace, Kitimat, 100 Mile, Kamloops, Prince George and Clearwater. Severe erosion damages, washed out trails, roads, and culverts, heavy rain, landslides, and damages to bridges were also experienced.\\t\\t\\t\\t22426695\\t1448441\\t30/07/1999 12:00:00 AM\\t12206998\\t10219697\\t\\t\\t\\t\\t\\t0\\t0\\n',\n",
       "  'Disaster\\tNatural\\tMeteorological - Hydrological\\tStorm - Unspecified / Other\\tSouthern BC\\t21/02/1999 12:00:00 AM\\tSouthern BC, February-March 1999. Two powerful windstorms hit the Lower Mainland of British Columbia with winds exceeding 100 km/h.  On February 21, power was cut to 13,000 homes and waves up to 1.8 m caused the cancellation of many ferry runs. On March 3, a windstorm forced the cancellation of many ferry routes, the closing of major highways, and causing power outages to 50,000 customers.  Half a dozen waterfront homes were flooded, some destroyed by large waves. Three men went missing after taking a boat for a test run in Howe Sound.\\t3\\t0\\t0\\t\\t\\t21/02/1999 12:00:00 AM\\t\\t\\t\\t\\t\\t\\t\\t0\\t0\\n',\n",
       "  'Disaster\\tNatural\\tMeteorological - Hydrological\\tWinter Storm\\tBarrie ON\\t13/02/1999 12:00:00 AM\\tBarrie ON, February 13, 1999. A huge accident occurred on Hwy 400 near Barrie between Hwy 89 and Dunlop St.  Up to 150 vehicles were involved in the crash, which spread over a 2 km stretch of highway.  At least 30 people were injured, 6 in critical condition.  Poor winter weather and whiteout conditions were blamed for the accident.\\t0\\t30\\t0\\t\\t\\t13/02/1999 12:00:00 AM\\t0\\t0\\t\\t\\t\\t\\t\\t0\\t0\\n',\n",
       "  'Disaster\\tNatural\\tMeteorological - Hydrological\\tWinter Storm\\tTerrace BC\\t11/02/1999 12:00:00 AM\\tTerrace BC, February 11, 1999. A record snowfall of 110 cm fell in one day at the Terrace-Kitimat airport on February 11, almost surpassing the Canadian record of 118 cm in 1974 at Lakelse Lake.  The airport and local schools were closed along with Highway 16 between Terrace and Prince Rupert and Highway 37 between Terrace and Kitimat. Further north, Highway 37A between Stewart and Meziadin was closed because of an avalanche in the Bear Pass.\\t0\\t0\\t0\\t\\t\\t11/02/1999 12:00:00 AM\\t0\\t0\\t\\t\\t\\t\\t\\t0\\t0\\n',\n",
       "  'Disaster\\tNatural\\tMeteorological - Hydrological\\tStorm - Unspecified / Other\\tSouthern British Columbia\\t29/01/1999 12:00:00 AM\\tSouthern British Columbia, January 29, 1999. A fierce windstorm lashed southern BC knocking out power to at least 70,000 customers, after winds toppled trees and power lines.  The central Fraser Valley was hardest hit with winds in excess of 100 km/h reported.  Ferry services in Victoria were cancelled due to the windstorm.  Although the bulk of the storm ended January 29, heavy winds forced the cancellation of the Nanaimo ferry on February 1.\\t0\\t1\\t0\\t\\t\\t29/01/1999 12:00:00 AM\\t\\t\\t\\t\\t\\t\\t\\t0\\t0\\n',\n",
       "  'Incident\\tTechnology\\tExplosion\\tNon-Residential\\tTaylor BC\\t25/01/1999 12:00:00 AM\\tTaylor BC, January 25, 1999. The town of Taylor BC, under a State of Emergency, was completely evacuated following a series of gas explosions at the Solex Gas Liquids plant on January 25.  Many of the injured were firefighters inside the plant when it exploded.  Residents were led to the nearby town of Fort St. John until the disaster had ended.  The explosion sent up a wall of flames 60 m high.  This was the third incident involving Solex in 12 months. The Salvation Army assisted the evacuees.\\t0\\t15\\t1200\\t\\t\\t25/01/1999 12:00:00 AM\\t0\\t0\\t\\t\\t\\t\\t\\t0\\t0\\n',\n",
       "  \"Disaster\\tNatural\\tMeteorological - Hydrological\\tWinter Storm\\tToronto ON\\t13/01/1999 12:00:00 AM\\tToronto ON, January 13-15, 1999. Less than 2 weeks after Toronto was dumped with 40 cm of snow (see 1999.002), another major storm dumped 78 cm of snow on the city, bringing the total to 118 cm. The storm shut down parts of the city's transit system and left thousands stranded.  An estimated 1.4 million commuters were unable to use public transit. Pearson airport cancelled 70 flights and delayed others, schools were also closed.  Mayor Mel Lastman declared a second snow emergency and called in the military to help with snow cleanup, and city protection. More than 430 soldiers set up residence in Toronto.  Brawling between commuters ensued January 13, when the subway shut down.  Snowblowers from all over Ontario, and even PEI were called in to help.  At least 2 deaths occurred in Southern Ontario. Other areas that were affected were Chatham-Kent region, which also called in for military assistance.  The storm affected virtually all 7.1 million residents of Southern Ontario and continued east on January 15 to wreak havoc on the Maritimes.\\t2\\t0\\t0\\t122000000\\t7879440.3\\t15/01/1999 12:00:00 AM\\t\\t\\t\\t72000000\\t\\t50000000\\t\\t0\\t0\\n\",\n",
       "  'Disaster\\tNatural\\tMeteorological - Hydrological\\tWinter Storm\\tSouthern Ontario\\t03/01/1999 12:00:00 AM\\tSouthern Ontario, January 3, 1999. Eleven people died January 3 while shovelling heavy wet snow from one of the fiercest storms to hit southern and central Ontario in years. Cities were buried under 40 cm of snow. The storm - which also packed powerful wind gusts up to 70 km/h, ice pellets and freezing rain - moved in a line from Windsor northeast to Ottawa and Quebec.  Many airports, including Pearson International in Toronto were closed.\\t11\\t7\\t0\\t\\t\\t03/01/1999 12:00:00 AM\\t0\\t0\\t\\t\\t\\t\\t\\t0\\t0\\n',\n",
       "  \"Disaster\\tNatural\\tMeteorological - Hydrological\\tAvalanche\\tKangiqsualujjuaq QC\\t01/01/1999 12:00:00 AM\\tKangiqsualujjuaq QC, January 1, 1999. The Inuit community of Kangiqsualujjuaq, grieved after 9 died in Quebec's worst avalanche. Four adults and five children died in the tragedy after tonnes of snow came cascading down the sheer face of a 365-metre-high cliff at 1:30 am on January 1, knocking out a wall and swamping those inside the gymnasium where the New Year's Eve party was being held. Some of the 25 injured were in critical condition and 10 other buildings were evacuated.  \\t9\\t25\\t\\t6400400\\t413373.5\\t01/01/1999 12:00:00 AM\\t6400000\\t\\t\\t\\t\\t\\t400\\t0\\t0\\n\",\n",
       "  'Disaster\\tNatural\\tMeteorological - Hydrological\\tWinter Storm\\tGreater Vancouver Area, Southern BC\\t24/12/1998 12:00:00 AM\\tGreater Vancouver BC, December 24-29, 1998. A snowstorm dropped 30 cm of snow on Greater Vancouver.  Winds gusted up to 80 km/h.  Accidents occurred along most major roads creating major delays, and ploughs were called in from outside communities to assist.  A water main burst due to freezing and caused the evacuation of 10 homes for several hours.  The storm lasted until December 29 causing 2 deaths in the Okanagan, and 2 injuries in Vancouver.\\t2\\t2\\t10\\t\\t\\t29/12/1998 12:00:00 AM\\t0\\t0\\t\\t\\t\\t\\t\\t0\\t0\\n',\n",
       "  'Disaster\\tNatural\\tMeteorological - Hydrological\\tStorm - Unspecified / Other\\tGreater Vancouver Area, Southern BC\\t23/11/1998 12:00:00 AM\\tGreater Vancouver Area BC, November 23-25, 1998. A powerful windstorm, accompanied with rain hit the Greater Vancouver Area the night of November 23, toppling over trees and blowing shingles off rooftops. Winds of 96-105 km/h were reported, and up to 22.4 mm of rain fell, making this the worst storm in 10 years.  A second windstorm hit the area the following day (within 18 hours), with winds up to 90 km/h over the Strait of Georgia and 60 km/h on land. Ferries cancelled several runs November 29. 200,000 homes lost power and 5,000 homes went without telephone lines; however, the majority of this was restored quickly by the power companies. Several roads and schools were closed. Power was not restored to everyone until November 27.\\t0\\t0\\t0\\t14025688\\t921732\\t25/11/1998 12:00:00 AM\\t\\t\\t\\t\\t\\t14025688\\t\\t0\\t0\\n',\n",
       "  \"Incident\\tTechnology\\tTransportation accident\\tAir\\tPeggy's Cove NS\\t02/09/1998 12:00:00 AM\\tPeggy's Cove NS, September 2, 1998. Swissair Flight 111 flying from New York to Zurich declared an emergency when the crew of the MD11 jet had reported smoke in the cockpit. Originally, the re-routed destination was Boston, but the pilots were informed that the Halifax airport was closer.  Around 10:30 pm AT, the Swissair jet disappeared from radar screens and plummeted into the Atlantic Ocean, 10 km from Peggy's Cove, NS. All 229 people on board were killed: 215 passengers and 14 crew. Search and rescue began immediately, and continued on for 8 weeks with more than 3,000 people were involved in the operation.  Approximately 70% of the plane was recovered, the remaining still left to be recovered. Neither the flight data recorder nor the voice recorder had any valuable information pertaining to the cause of the crash. Causes of the crash are still being investigated. \\t229\\t0\\t0\\t\\t\\t02/09/1998 12:00:00 AM\\t\\t\\t\\t\\t\\t\\t\\t0\\t0\\n\",\n",
       "  'Disaster\\tNatural\\tMeteorological - Hydrological\\tWildfire\\tSalmon Arm BC\\t10/08/1998 12:00:00 AM\\tSalmon Arm BC, August 10-17, 1998. A State of Emergency was declared by the Premier on Aug.10 for the Salmon Arm-Fly Hills Fire, it was cancelled on Aug.17. The fire covered 6300 hectares and destroyed 20 houses and 15 farm buildings. An inquiry was called in October 1998 to determine whether the BC Forest Service had problems handling the fire.\\t0\\t0\\t7000\\t3036145\\t199527.6\\t17/08/1998 12:00:00 AM\\t\\t\\t\\t3036145\\t\\t\\t\\t0\\t0\\n',\n",
       "  \"Disaster\\tNatural\\tMeteorological - Hydrological\\tWildfire\\tBritish Columbia\\t01/08/1998 12:00:00 AM\\tBritish Columbia, August 1998. During this month, there were 687 Forest fires burning in British Columbia. Approximately 10,600 people were evacuated, 42,115 hectares of forest burnt, 36 properties were damaged, and livestock losses were reported. Major fires occurred in the following areas: Salmon Arm-Fly Hills  Fire (see 1998.018); Vernon-Valley of Sun/Fintry/Parker's Cove; Kamloops-Cherry Creek Fire; Kamloops-Greenstone Mountain Fire; McBride-Doare River Fire; Telegraph Creek; Boston Bar-Nahatlatch Lake; Lillooet-Fountain Valley. Barriere-Dunn Lake-Birch Fire, and Avaola-Elevator were smaller, but still significant fires.  Military assistance was requested in many areas.\\t0\\t0\\t10600\\t2795\\t183.7\\t01/08/1998 12:00:00 AM\\t\\t\\t\\t\\t\\t\\t2795\\t0\\t0\\n\",\n",
       "  'Disaster\\tNatural\\tMeteorological - Hydrological\\tWildfire\\tTibbet Lake NT\\t22/07/1998 12:00:00 AM\\tTibbet Lake, NT, July 22-31, 1998. A State of Emergency was declared when a 60000 ha fire was burning in the area of Tibbet Lake. The area north of Powder Point on Ingraham Trail was evacuated and Ingraham Trail was closed to all traffic. The fire destroyed three vacation cabins and edged within 5 km of cabins and lodges around Consolation Lake, 70 km northeast of Yellowknife. On July 31, the fire reached 140000 ha in size.\\t0\\t0\\t5\\t12044118\\t791508.3\\t31/07/1998 12:00:00 AM\\t\\t\\t12044118\\t\\t\\t\\t\\t0\\t0\\n',\n",
       "  'Incident\\tTechnology\\tHazardous Chemicals\\tDerailment Release\\tPortage la Prairie MB\\t10/07/1998 12:00:00 AM\\tPortage la Prairie MB, July 10, 1998. The last 8 cars of an eastbound CN Rail freight train jackknifed near the TransCanada and Hwy.16 junction, 12 km west of Portage la Prairie. The 8 cars derailed and spilled glycol (antifreeze) into a creek which leads to Lake Manitoba. The toxic spill forced the evacuation of area residents. No one was injured.\\t0\\t0\\t0\\t\\t\\t10/07/1998 12:00:00 AM\\t0\\t0\\t\\t\\t\\t\\t\\t0\\t0\\n',\n",
       "  'Disaster\\tNatural\\tMeteorological - Hydrological\\tStorms and Severe Thunderstorms\\tCalgary AB\\t04/07/1998 12:00:00 AM\\tCalgary AB, July 4, 1998. Two separate hailstorms occurred on July 4-5 and July 8. On July 4, 43.2 mm of rain also fell on Calgary. The July 8 storm included winds up to 100 km/h, which tore apart greenhouse roofs. Hailstones ranging from pea to baseball size caused waist high flooding which forced many people to abandon their cars at intersections. Snowplows were brought out to clear the roads. Roads were destroyed by the hail, a warehouse collapsed and a store had to be closed because of a burst storm sewer. Mudslides forced boulders and mud across roads and railroads.\\t0\\t0\\t0\\t65258000\\t4288587.1\\t05/07/1998 12:00:00 AM\\t\\t\\t\\t\\t\\t65258000\\t\\t0\\t0\\n',\n",
       "  'Disaster\\tNatural\\tMeteorological - Hydrological\\tWildfire\\tNorthern Ontario\\t04/07/1998 12:00:00 AM\\tNorthern Ontario, July 1998. During the month of July, there were over 130 fires in Northern Ontario. Approximately 1,425 people were evacuated from various communities, and over 3,700 hectares of forest was burnt. Main fires occurred near the following regions: Bearskin Lake, Terrace Bay, Kasabonika Lake, Summer Beaver, Webique, Muskrat Lake, Thunder Bay and Lansdowne.\\t0\\t0\\t1865\\t\\t\\t31/07/1998 12:00:00 AM\\t0\\t0\\t\\t\\t\\t\\t\\t0\\t0\\n',\n",
       "  'Incident\\tTechnology\\tTransportation accident\\tAir\\tMontréal QC\\t18/06/1998 12:00:00 AM\\tMontréal QC, June 18, 1998.  A plane crashed while trying to land at Montréal Airport killing 12 people.\\t12\\t0\\t0\\t\\t\\t18/06/1998 12:00:00 AM\\t0\\t0\\t\\t\\t\\t\\t\\t0\\t0\\n',\n",
       "  'Disaster\\tNatural\\tMeteorological - Hydrological\\tWildfire\\tSwan Hills AB\\t05/05/1998 12:00:00 AM\\tSwan Hills AB, May 1998. Approximately 155000 ha was burned by 35 fires.  The most dangerous fires were located in the area of Slave Lake and Swan Hills. A fire 15 km away caused the Town of Swan Hills to activate its municipal emergency plan on May 5 and evacuate 2,400 residents.  Military assistance was required, and several highways were closed. On May 14, Swan Hills was evacuated for a second time. A thunderstorm on May 15, accompanied by a period cold/damp weather suppressed many of the fires in Alberta. Military assistance ended on May 21.\\t0\\t0\\t2030\\t\\t\\t21/05/1998 12:00:00 AM\\t\\t\\t\\t\\t\\t\\t\\t0\\t0\\n',\n",
       "  'Disaster\\tNatural\\tMeteorological - Hydrological\\tFlood\\tEastern Ontario and Quebec\\t28/03/1998 12:00:00 AM\\tEastern Ontario and Quebec, March 28 - April 15, 1998. Warm weather and thunderstorms caused spring flooding. In Ontario, the Clyde River, Ottawa River, Mississippi River and rivers feeding Lake Nipissing overflowed. The lower Trent System below Peterborough from Rice Lake to Bay of Quinte also experienced flooding. States of Emergency were declared in these communities: Lanark Highlands, Village of Kearney, Township of Drummond, North Elmsley, Beckwith Township, Carleton Place and Mississippi Mills. In Quebec, over 15 rivers flooded and caused the evacuation of 3,697 people in 140 municipalities. Rivers on the North Shore of St. Lawrence River, St. Lawrence River, Assumption River, Chateauguay River, Richelieu River, Ottawa River, Lake St. Pierre and Lake Champlain flooded. Damage mainly occurred in the MontÃ©rÃ©gie and Mauricie regions.\\t0\\t0\\t3757\\t27741685\\t1823111.8\\t15/04/1998 12:00:00 AM\\t7246824\\t14570459\\t5924402\\t\\t\\t\\t\\t0\\t0\\n',\n",
       "  'Disaster\\tNatural\\tMeteorological - Hydrological\\tFlood\\tSaint John River NB\\t09/03/1998 12:00:00 AM\\tSaint John River NB, March 9-10, 1998.  Warm temperatures and a storm delivering 78 mm of rain led to ice break-up, ice jams and flooding along the Saint John River. Roads, bridges and some residences in low lying areas sustained major damages. Some families were isolated for up to a week until the roads were repaired. Areas affected were: Fredericton, Saint John, Moncton, Miramichi and Saint Leonard.\\t0\\t0\\t0\\t5636784\\t370434.9\\t10/03/1998 12:00:00 AM\\t3550846\\t2085938\\t\\t\\t\\t\\t\\t0\\t0\\n',\n",
       "  'Disaster\\tNatural\\tMeteorological - Hydrological\\tStorms and Severe Thunderstorms\\t45 miles southwest of the islands of Saint-Pierre-et-Miquelon\\t16/01/1998 12:00:00 AM\\t45 miles southwest of the islands of Saint-Pierre-et-Miquelon, January 16, 1998.  The bulk carrier \"Flare\" broke in 2 due to severe weather conditions during its trip from Rotterdam to Montreal.  21 members of the 25-member crew died in the accident.\\t21\\t0\\t0\\t5109358\\t335773.8\\t16/01/1998 12:00:00 AM\\t0\\t0\\t5109358\\t\\t\\t\\t\\t0\\t0\\n',\n",
       "  'Disaster\\tNatural\\tMeteorological - Hydrological\\tWinter Storm\\tOntario, Quebec and New Brunswick\\t04/01/1998 12:00:00 AM\\tOntario, Quebec and New Brunswick, January 4-10, 1998. Freezing rain (50 to >100mm) fell in a corridor extending from Kingston-to Ottawa-to Montreal to the Monteregie area south and east of Montreal, and on into New Brunswick, caused massive power outages. At the height of the disaster: More than 200 Quebec communities declared a disaster; 1,291,500 residences (affecting 3,228,750 people) were without power; 57 Ontario communities declared a disaster; 250,000 customers (1,500,000 people) were without power in Eastern Ontario.\\t35\\t945\\t17800\\t4635720433\\t304647564.1\\t10/01/1998 12:00:00 AM\\t665387416\\t42560837\\t17661738\\t2018484288\\t166306876\\t1712248000\\t13071278\\t4828750\\t0\\n',\n",
       "  'Disaster\\tNatural\\tBiological\\tEpidemic\\tWood Buffalo National Park AB\\t01/01/1998 12:00:00 AM\\tWood Buffalo National Park AB, 1998.  An anthrax outbreak in the park kills an uncertain number of bison.  Outbreaks of anthrax occur periodically in the wild.  In 2000, more than 100 bison, 2 black bears and 2 moose were killed by anthrax in the park; in 2001, 92 bison and 1 moose were killed.  In Sept. 2001 park officials indicated the disease had been contained, and the restricted area around the park would be reduced from the current area of 27,000 km2. \\t0\\t0\\t0\\t974055\\t64012.4\\t01/01/1998 12:00:00 AM\\t\\t\\t974055\\t\\t\\t\\t\\t0\\t0\\n',\n",
       "  \"Incident\\tTechnology\\tTransportation accident\\tVehicle\\tLes Éboulements QC\\t13/10/1997 12:00:00 AM\\tLes Éboulements QC, October 13, 1997. When the brakes failed on a seniors' sightseeing bus, it crashed into a ravine: 43 people were killed.\\t43\\t0\\t0\\t\\t\\t13/10/1997 12:00:00 AM\\t0\\t0\\t\\t\\t\\t\\t\\t0\\t0\\n\",\n",
       "  'Disaster\\tNatural\\tGeological\\tLandslide\\tHummingbird Creek BC\\t11/07/1997 12:00:00 AM\\tHummingbird Creek BC, July 11, 1997. A debris avalanche was initiated on a saturated and steep slope downstream of a culvert. The debris traveled in the channel of Hummingbird Creek, generating a large debris flow.  The community of Swansea Point was greatly affected: homes and businesses were inundated, and the major highway was damaged.\\t0\\t\\t\\t\\t\\t11/07/1997 12:00:00 AM\\t\\t\\t\\t\\t\\t\\t\\t0\\t0\\n',\n",
       "  'Incident\\tTechnology\\tHazardous Chemicals\\tFire\\tHamilton ON\\t10/07/1997 12:00:00 AM\\tHamilton ON, July 10, 1997. A plastics recycling plant caught fire and caused severe air pollution; an evacuation for residents living within 15 blocks of the fire involved approximately 4000 people; an evacuation centre was set up.  The plant was mainly recycled plastics, polyvinyl chloride, from the auto industry.  400 metric tonnes of plastic burned, releasing toxic gases and fallout.  The fire burned for 77 hours.  The warehouse did not have a fire suppressant system.\\t0\\t0\\t4000\\t\\t\\t10/07/1997 12:00:00 AM\\t0\\t0\\t\\t\\t\\t\\t\\t0\\t0\\n',\n",
       "  'Disaster\\tNatural\\tMeteorological - Hydrological\\tFlood\\tLesser Slave Lake area AB\\t17/06/1997 12:00:00 AM\\tLesser Slave Lake area AB, June 17-20, 1997.  Major flooding occurred in the Lesser Slave Lake area in June.  This resulted in significant damage to property, pasture, and buildings.\\t0\\t0\\t0\\t664352\\t44094.2\\t20/06/1997 12:00:00 AM\\t\\t\\t664352\\t\\t\\t\\t\\t0\\t0\\n',\n",
       "  'Disaster\\tNatural\\tMeteorological - Hydrological\\tWildfire\\tIroquois Falls, Kirkland Lake, Timmins areas ON\\t12/06/1997 12:00:00 AM\\tIroquois Falls, Kirkland Lake, Timmins areas ON, June 12, 1997. A fire burning southeast of Timmins burned hydro wires which left the town of Foleyet without power for one day; people were evacuated from approximately 750 homes in the Westin Lake, Watabeag Lake (south of Iroquois Falls), Sesekinika and Kenogami (west of Kirkland Lake) areas; 73 people from the Wahgoshig First Nation were evacuated to Timmins.\\t0\\t0\\t823\\t\\t\\t12/06/1997 12:00:00 AM\\t0\\t0\\t\\t\\t\\t\\t\\t0\\t0\\n',\n",
       "  'Disaster\\tNatural\\tMeteorological - Hydrological\\tWildfire\\tNorthwest of Matagami QC\\t10/06/1997 12:00:00 AM\\tNorthwest of Matagami QC, June 10, 1997. About 125 forest fires burned in Québec, 3 of which were serious and required the evacuation of 300 people from James Bay, 200 from Selby mine (85 km northwest of Matagami), and 1100 from the Weymontachie First Nations Reserve.\\t0\\t0\\t1100\\t\\t\\t10/06/1997 12:00:00 AM\\t0\\t0\\t\\t\\t\\t\\t\\t0\\t0\\n',\n",
       "  'Disaster\\tNatural\\tMeteorological - Hydrological\\tWildfire\\tTimmins ON\\t29/05/1997 12:00:00 AM\\tTimmins ON, May 29, 1997. The city declared an emergency when a 100 hectare forest fire jumped the Mattagami River, forcing a one day evacuation of approximately 400 residents.\\t0\\t0\\t400\\t\\t\\t29/05/1997 12:00:00 AM\\t0\\t0\\t\\t\\t\\t\\t\\t0\\t0\\n',\n",
       "  'Disaster\\tNatural\\tMeteorological - Hydrological\\tFlood\\tSouthern British Columbia\\t01/05/1997 12:00:00 AM\\tSouthern BC, May 1, 1997. Below average temperatures, steady precipitation, a heavier than usual snow pack and extensive ground saturation caused flooding in the southern regions of BC. Extensive damage was done to agricultural lands, public works, private property and businesses. Precipitation in notable sites was 40110% above normal. Riverbank erosion, washouts, road closures and landslides affected many communities. The following areas flooded: Kettle River, Kicking Horse River, Elk River, Okanagan Lake, Columbia River, Salmon River, Slocan River, Shuswap Lake South Thompson River and Bulkley river.\\t0\\t0\\t0\\t40114688\\t2662479.3\\t01/05/1997 12:00:00 AM\\t15472238\\t10407813\\t\\t14234637\\t\\t\\t\\t0\\t0\\n',\n",
       "  'Disaster\\tNatural\\tMeteorological - Hydrological\\tFlood\\tAssiniboine, Red and Winnipeg Rivers MB\\t22/04/1997 12:00:00 AM\\tAssiniboine, Red and Winnipeg Rivers MB, April-May 1997. The province of Manitoba declared a state of emergency on April 22, 1997. Five days later, Emerson was hit. Over 7000 military personnel were employed for 36 days to assist in preventing flood damage and in relocating the 25447 evacuees; communities affected include Emerson, Rosenort, St. Jean Baptiste, Morris, St. Adolphe, Nutimik, Portage la Prairie, Ste. Agathe, St. Norbert, Letellier, Dominion City, Scanterbury, Halbstadt, Brunkhild, Domain, LaSalle, Sanford and Winnipeg.\\t0\\t0\\t25447\\t498513577\\t33087184.3\\t14/05/1997 12:00:00 AM\\t193808836\\t23624696\\t\\t48480045\\t\\t232600000\\t\\t0\\t0\\n',\n",
       "  'Disaster\\tNatural\\tMeteorological - Hydrological\\tFlood\\tPeace River AB\\t19/04/1997 12:00:00 AM\\tPeace River AB, April 19-23, 1997. Heavy snowpacks and a rapid snowmelt caused ice jams on the Peace River which backed up on Heart River, causing flooding of two towns. Peace River and Fort McMurray both sustained damages to homes, crop land, roads, bridges, culverts and businesses.  In the town of Peace River, 50% of the businesses were damaged, along with 20 farm homes and hundreds of bridges and roads; in some areas the water reached levels of 2 meters. A State of Emergency was declared in the town of Peace River, and 4000 people were evacuated.\\t0\\t0\\t4000\\t47368494\\t3143926.6\\t23/04/1997 12:00:00 AM\\t18664180\\t8343702\\t20360612\\t\\t\\t\\t\\t0\\t0\\n',\n",
       "  'Disaster\\tNatural\\tMeteorological - Hydrological\\tFlood\\tSouth-Central Saskatchewan\\t30/03/1997 12:00:00 AM\\tSouth-central SK, March-April 1997. In late March, there was minor flooding in the municipalities of Swift Current and Ponteix.  From March 30 - April 3 1997, a breakup of ice caused flooding in low lying areas along the Moose Jaw River.  A State of Emergency was declared.  Twenty homes were flooded and 140 families (assume a family of 4) were evacuated.\\t0\\t0\\t516\\t1319475\\t87575.8\\t03/04/1997 12:00:00 AM\\t\\t\\t1319475\\t\\t\\t\\t\\t0\\t0\\n',\n",
       "  'Disaster\\tNatural\\tMeteorological - Hydrological\\tStorms and Severe Thunderstorms\\tSouthern British Columbia\\t18/03/1997 12:00:00 AM\\tSouthern British Columbia, March 18-24, 1997. Severe thunderstorms, creating floods, damaged residential, farm, business and local government buildings. Flooding occurred on most of Vancouver Island, Harrison Lake and Fraser River, Okanagan Lake, Lower Arrow Lake, Upper Arrow Lake, Shuswap Lake, Kootenay Lake, Kootenay River and Columbia River (to the lower part of Kinbasket Lake).  This area encompassed the towns of Vancouver, Port Alberni, Nanaimo, Victoria, Vernon, Kelowna, Nelson, Trail and Penticton.\\t0\\t0\\t0\\t4585262\\t304331.5\\t24/03/1997 12:00:00 AM\\t653232\\t3932030\\t\\t\\t\\t\\t\\t0\\t0\\n',\n",
       "  'Disaster\\tNatural\\tMeteorological - Hydrological\\tFlood\\tDurham ON\\t09/01/1997 12:00:00 AM\\tDurham ON, January 9, 1997. The mayor of Durham declared a State of Emergency due to flooding of the Saugeen River; approximately 200 residents evacuated; some businesses and schools closed; sewage backup; relief efforts continued for over a week due to poor weather conditions, most evacuees had returned by Jan. 24, 1997. Flooding also occurred on Feb. 22-23 1997.\\t0\\t0\\t200\\t\\t\\t09/01/1997 12:00:00 AM\\t\\t\\t\\t\\t\\t\\t\\t0\\t0\\n',\n",
       "  'Incident\\tTechnology\\tFire\\tNon-Residential\\tSouthwest Alberta\\t01/01/1997 12:00:00 AM\\tSouthwest Alberta, 1997.\\t0\\t0\\t0\\t\\t\\t01/01/1997 12:00:00 AM\\t\\t\\t\\t\\t\\t\\t\\t0\\t0\\n',\n",
       "  'Disaster\\tNatural\\tBiological\\tEpidemic\\tBay of Fundy NB\\t01/01/1997 12:00:00 AM\\tBay of Fundy NB, 1997. ISA is caused by the Infectious Salmon Anemia Virus (ISAV), which is much like an influenza virus in salmon. It causes anemia and respiratory problems in Atlantic salmon, but does not harm humans because the virus stops producing at 25°C. Thousands of infected salmon have been removed from salmon farms in New Brunswick, especially in the Bay of Fundy Area.\\t0\\t0\\t0\\t25881403\\t1717792.2\\t01/01/1997 12:00:00 AM\\t21771004\\t4110399\\t\\t\\t\\t\\t\\t0\\t0\\n',\n",
       "  'Disaster\\tNatural\\tMeteorological - Hydrological\\tWinter Storm\\tSouthwestern British Columbia\\t29/12/1996 12:00:00 AM\\tSouthwestern British Columbia, December 29, 1996. An unusually heavy snowfall of up to 100 cm in some areas, brought traffic and emergency response service to a standstill in the areas of Victoria, the Fraser Valley, and some parts of Vancouver; over 100 motorists and rescue crews were stranded for days; airports at Victoria and Vancouver were closed, ferry service cancelled; sections of Highways 1, 3, 7, 11, 31 and 99 and other roads were closed due to flooding, avalanches and hydro wires down; reported as the worst snowstorm to hit the area in 75 years.\\t0\\t0\\t0\\t215339641\\t14533609.1\\t29/12/1996 12:00:00 AM\\t1583282\\t5440089\\t3821888\\t204494382\\t\\t\\t\\t0\\t0\\n',\n",
       "  'Disaster\\tNatural\\tMeteorological - Hydrological\\tFlood\\tNechako River BC\\t29/11/1996 12:00:00 AM\\tNechako River BC, November 29, 1996. Record low temperatures on November 21, 1996 caused thick ice formation on the Nechako River which resulted in ice jam flooding; an ice jam five kilometres long raised water levels along the low-lying regions of Prince George, flooding industrial and residential areas.\\t0\\t0\\t0\\t\\t\\t29/11/1996 12:00:00 AM\\t0\\t0\\t\\t\\t\\t\\t\\t0\\t0\\n',\n",
       "  'Disaster\\tNatural\\tMeteorological - Hydrological\\tFlood\\tMontreal and Mauricie Region QC\\t08/11/1996 12:00:00 AM\\tMontreal and Mauricie Region QC, November 8-9, 1996. Severe flooding due to heavy rains occurred in the MontrÃ©al and Mauricie regions.  Approximately 150 mm of rain fell on MontrÃ©al in 36 hours; some communities received 160 mm. The flooding caused extensive damage to agricultural lands, public works and private property including 6,000 residences and 100 businesses and industries. Two major highways closed near MontrÃ©al, washed out roads cut off three villages in Mauricie.  In total, 121 municipalities were affected and 1,000 people (425 families) were evacuated. No injuries were reported.\\t0\\t0\\t1000\\t93089380\\t6282747.8\\t09/11/1996 12:00:00 AM\\t3435141\\t10709159\\t\\t\\t\\t78945080\\t\\t0\\t0\\n',\n",
       "  'Disaster\\tNatural\\tMeteorological - Hydrological\\tFlood\\tOttawa ON\\t08/08/1996 12:00:00 AM\\tOttawa ON, August 8, 1996.\\t0\\t0\\t0\\t21308000\\t1438110.2\\t08/08/1996 12:00:00 AM\\t0\\t0\\t\\t\\t\\t21308000\\t\\t0\\t0\\n',\n",
       "  'Disaster\\tNatural\\tMeteorological - Hydrological\\tStorms and Severe Thunderstorms\\tCalgary AB\\t24/07/1996 12:00:00 AM\\tCalgary AB, July 24-25, 1996.\\t0\\t0\\t0\\t87877643\\t5930999.5\\t25/07/1996 12:00:00 AM\\t0\\t0\\t\\t\\t\\t87877643\\t\\t0\\t0\\n',\n",
       "  'Disaster\\tNatural\\tMeteorological - Hydrological\\tFlood\\tSaguenay River Valley QC\\t19/07/1996 12:00:00 AM\\tSaguenay River Valley QC, July 19, 1996; 290 mm of rainfall in less than 36 hours and caused at least 10 deaths.  Thousands of homes, roads and bridges washed out; Downed power lines.  A total of 15,825 people had to leave their homes.  At least 20 major bridges heavily damaged.  Greater than 50 towns and villages inundated, or main roads destroyed and electricity cut off.  Aluminium plants and paper mills slowed or closed for a month.  At least 3,200 industry workers idling.  3 schools closed. The Canadian Red Cross sent 1600 volunteers to set up a temp office and evacuate people. Overall they assisted 16,000 people.\\t10\\t0\\t15825\\t300000000\\t20247469.1\\t19/07/1996 12:00:00 AM\\t300000000\\t\\t\\t\\t\\t\\t\\t0\\t0\\n',\n",
       "  'Disaster\\tNatural\\tMeteorological - Hydrological\\tStorms and Severe Thunderstorms\\tCalgary AB\\t16/07/1996 12:00:00 AM\\tCalgary AB, July 16-18, 1996. The hailstorm caused  flooding; heavy rains and tornadoes were also reported. 911 service was knocked out, causing emergency crews to use regular lines. No injuries were reported. Many vehicles were damaged. Gale force winds, torrential rains swept across the area. There were no reported injuries, however extensive damage was done to homes and gardens.\\t0\\t0\\t0\\t103000000\\t6951631\\t18/07/1996 12:00:00 AM\\t\\t\\t\\t\\t\\t103000000\\t\\t0\\t0\\n',\n",
       "  'Disaster\\tNatural\\tMeteorological - Hydrological\\tStorms and Severe Thunderstorms\\tWinnipeg MB\\t16/07/1996 12:00:00 AM\\tWinnipeg MB, July 16, 1996. Hailstones the size of tennis balls pounded down on the city; crops were flattened south of Winnipeg, trees were stripped, gardens destroyed and windows shattered. Gale force winds, torrential rains, funnel clouds and one tornado were reported. There were no reported injuries.\\t0\\t0\\t0\\t105000000\\t7086614.2\\t16/07/1996 12:00:00 AM\\t0\\t0\\t\\t\\t\\t105000000\\t\\t0\\t0\\n',\n",
       "  'Disaster\\tNatural\\tMeteorological - Hydrological\\tFlood\\tAtikokan ON\\t05/07/1996 12:00:00 AM\\tAtikokan ON, July 5-6, 1996.\\t0\\t0\\t0\\t278061\\t18766.8\\t06/07/1996 12:00:00 AM\\t\\t\\t194537\\t83524\\t\\t\\t\\t0\\t0\\n',\n",
       "  'Disaster\\tNatural\\tMeteorological - Hydrological\\tFlood\\tLesser Slave Lake area AB\\t17/06/1996 12:00:00 AM\\tLesser Slave Lake area AB, June 17-21, 1996. Large amounts of rainfall and a high water table caused flooding. Extensive damage was done to agricultural lands, farms, municipal roads, public works, private property, businesses and residential communities. There were over 700 claims received for property damage. Minor damage occurred to primary highways and bridges, and some dykes were destroyed.  The most severely affected communities were along Driftpile River, Swan River, East Prairie River and Arcadia River. Driftpile First Nation Reserve, Sucker Creek First Nation Reserve, Swan River First Nation Reserve, Municipal District of Big Lakes #125 and East Prairie Metis Settlement incurred damage. In total, 922 people were evacuated.\\t0\\t0\\t922\\t18159797\\t1225633.1\\t21/06/1996 12:00:00 AM\\t5693853\\t5466769\\t6999175\\t\\t\\t\\t\\t0\\t0\\n',\n",
       "  'Disaster\\tNatural\\tMeteorological - Hydrological\\tFlood\\tTimmins and Dufferin County ON\\t17/05/1996 12:00:00 AM\\tTimmins and Dufferin counties ON, May 17-19, 1996.\\t0\\t0\\t0\\t378557\\t25549.4\\t19/05/1996 12:00:00 AM\\t\\t\\t131518\\t247039\\t\\t\\t\\t0\\t0\\n',\n",
       "  'Disaster\\tNatural\\tMeteorological - Hydrological\\tTornado\\tGrey County, Wellington and Dufferin County ON\\t20/04/1996 12:00:00 AM\\tGrey, Wellington, and Dufferin counties ON, April 20, 1996. Two F3 class tornadoes touched down in Grey County (Holland Centre), Wellington and Dufferin County. Significant property damage occurred; 9 people were injured by the 2 tornadoes. -80.54  44.122\\t0\\t9\\t0\\t9404772\\t634742.8\\t20/04/1996 12:00:00 AM\\t\\t\\t621641\\t439291\\t\\t8343840\\t\\t2895455\\t0\\n',\n",
       "  'Disaster\\tNatural\\tMeteorological - Hydrological\\tFlood\\tRed River, Souris River, Assiniboine River and Pembina River MB\\t18/04/1996 12:00:00 AM\\tRed River, Souris River, Assiniboine River and Pembina River MB, April 18 - May 8, 1996. Heavy rainfall in the winter, high soil moisture levels and an unseasonably cool spring led to flooding. Thick ice flows and flood water caused damage to bridges, telephone cables, small businesses, roads, agricultural lands, and other community infrastructure. Small communities within the vicinity of Red River, Souris River, Assiniboine River and Pembina River were inundated. Thousands of customers went without telephone service for a week and 285 people were evacuated.\\t0\\t0\\t285\\t6816377\\t460047.9\\t08/05/1996 12:00:00 AM\\t4430930\\t2385447\\t\\t\\t\\t\\t\\t0\\t0\\n',\n",
       "  'Disaster\\tNatural\\tMeteorological - Hydrological\\tFlood\\tFlat Bay NL\\t17/02/1996 12:00:00 AM\\tFlat Bay NL, February 17-19, 1996. A rainstorm along west coast of Newfoundland, flooding caused extensive damages. Highways and bridges washed away, 30 residents were evacuated by helicopter.\\t0\\t0\\t30\\t\\t\\t19/02/1996 12:00:00 AM\\t0\\t0\\t\\t\\t\\t\\t\\t0\\t0\\n',\n",
       "  'Disaster\\tNatural\\tMeteorological - Hydrological\\tFlood\\tSunny Valley AB\\t01/01/1996 12:00:00 AM\\tSunny Valley AB, 1996.\\t0\\t0\\t0\\t100307\\t6769.9\\t01/01/1996 12:00:00 AM\\t\\t\\t100307\\t\\t\\t\\t\\t0\\t0\\n',\n",
       "  'Disaster\\tNatural\\tMeteorological - Hydrological\\tDrought\\tGrande Prairie AB\\t01/01/1996 12:00:00 AM\\tGrande Prairie AB, 1996.\\t0\\t0\\t0\\t57644492\\t3890516.9\\t01/01/1996 12:00:00 AM\\t\\t\\t100110\\t\\t57544382\\t\\t\\t0\\t0\\n',\n",
       "  'Disaster\\tNatural\\tMeteorological - Hydrological\\tStorm - Unspecified / Other\\tSouth Dumfries ON\\t01/01/1996 12:00:00 AM\\tSouth Dumfries ON, 1996.\\t0\\t0\\t0\\t99870\\t6740.4\\t01/01/1996 12:00:00 AM\\t\\t\\t22413\\t77457\\t\\t\\t\\t0\\t0\\n',\n",
       "  \"Disaster\\tNatural\\tMeteorological - Hydrological\\tWinter Storm\\tSouthern Ontario\\t10/12/1995 12:00:00 AM\\tSouthern Ontario, December 10-11, 1995. An early Snowstorm hit southern Ontario with 1015 cm of snow accompanied by wind gusts of up to 90 km/h and a temperature of -40ºC. The storm caused the closing of highways, shopping centres and bridges, including the Peace Bridge between Ontario and New York. Muskoka airport and weather office were evacuated and Bracebridge had to enforce its municipal emergency plan. An elderly man's death was attributed to the storm.\\t1\\t0\\t50\\t\\t\\t11/12/1995 12:00:00 AM\\t0\\t0\\t\\t\\t\\t\\t\\t0\\t0\\n\",\n",
       "  'Disaster\\tNatural\\tMeteorological - Hydrological\\tFlood\\tSouthwestern British Columbia\\t27/11/1995 12:00:00 AM\\tSouthwestern British Columbia, November 27-29, 1995. Heavy rains and melting snow caused the Tulameen and Similkameen Rivers to overflow their banks in four regions: East coast of Vancouver Island, Mainland Coast, Mainland Coastal Valleys and the Interior Valley. The flooding forced 230 people to flee their homes in Princeton, Tulameen and Coalmont. A State of Emergency was declared in Princeton, a town of 2,800 people. Provincial, municipal and private sector properties were damaged. Some homes faced major structural repairs. There were actually three periods of heavy rains: Nov. 7-8, Nov. 13-17 and Nov. 27-29 when 135.4 mm, 395.0 mm and 650.6 mm of precipitation fell, respectively.\\t0\\t0\\t230\\t18835222\\t1290083.7\\t29/11/1995 12:00:00 AM\\t1915497\\t5722996\\t11196729\\t\\t\\t\\t\\t0\\t0\\n',\n",
       "  'Incident\\tTechnology\\tHazardous Chemicals\\tLeak / Spill Release\\tSudbury ON\\t16/11/1995 12:00:00 AM\\tSudbury ON, November 16, 1995. A cloud of sulphur dioxide was accidentally released from a copper refinery and passed over a part of the city; the leak was from a faulty sample port in the section of the system where sulphur dioxide is converted to sulphuric acid, and the gas was released before conversion; hundreds of residents suffered minor irritations (eye irritations, respiratory problems...); a hospital and a clinic were evacuated; a legal action follow-up occurred.\\t0\\t20\\t0\\t\\t\\t16/11/1995 12:00:00 AM\\t0\\t0\\t\\t\\t\\t\\t\\t0\\t0\\n',\n",
       "  'Disaster\\tNatural\\tMeteorological - Hydrological\\tStorms and Severe Thunderstorms\\tHamilton ON\\t05/10/1995 12:00:00 AM\\tHamilton ON, October 5-6, 1995.\\t0\\t0\\t0\\t17419000\\t1193082.2\\t06/10/1995 12:00:00 AM\\t0\\t0\\t\\t\\t\\t17419000\\t\\t0\\t0\\n',\n",
       "  'Disaster\\tNatural\\tMeteorological - Hydrological\\tStorms and Severe Thunderstorms\\tRegina SK\\t26/09/1995 12:00:00 AM\\tRegina SK, August 26, 1995.\\t0\\t0\\t0\\t13353120\\t914597.3\\t26/09/1995 12:00:00 AM\\t0\\t0\\t235120\\t\\t\\t13118000\\t\\t0\\t0\\n',\n",
       "  'Disaster\\tNatural\\tMeteorological - Hydrological\\tHurricane / Typhoon / Tropical Storm\\tBurin Peninsula NL\\t11/09/1995 12:00:00 AM\\tBurin Peninsula NL, September 11, 1995. Heavy rains and winds associated with Hurricane \"Luis\" caused damage to provincial, municipal, and private sector properties on the Burin Peninsula. Some two dozen roads were washed out.\\t0\\t0\\t0\\t2661890\\t182321.2\\t11/09/1995 12:00:00 AM\\t1274866\\t1387024\\t\\t\\t\\t\\t\\t0\\t0\\n',\n",
       "  'Incident\\tTechnology\\tTransportation accident\\tRail\\tToronto ON\\t11/08/1995 12:00:00 AM\\tToronto ON, August 11, 1995. Two Toronto Transit Commission subway trains collided underground between two stations. Three commuters were killed and 140 other riders were injured. Problems with driver training and communications contributed to the accident. A rookie driver drove through three red lights and the fail-safe breaking system failed. The northbound train then rammed into another train which had stopped because of a faulty signal.  The subway line was closed for eight and a half days.\\t3\\t140\\t0\\t\\t\\t11/08/1995 12:00:00 AM\\t\\t\\t\\t\\t\\t\\t\\t0\\t0\\n',\n",
       "  'Disaster\\tNatural\\tMeteorological - Hydrological\\tStorms and Severe Thunderstorms\\tSouthern Manitoba\\t30/07/1995 12:00:00 AM\\tSouthern MB, July 30, 1995.\\t0\\t0\\t0\\t9018000\\t617671.2\\t30/07/1995 12:00:00 AM\\t0\\t0\\t\\t\\t\\t9018000\\t\\t0\\t0\\n',\n",
       "  'Disaster\\tNatural\\tMeteorological - Hydrological\\tStorms and Severe Thunderstorms\\tCalgary AB\\t17/07/1995 12:00:00 AM\\tCalgary AB, July 17, 1995.\\t0\\t0\\t0\\t74559612\\t5106822.7\\t17/07/1995 12:00:00 AM\\t\\t\\t18858612\\t\\t\\t55701000\\t\\t0\\t0\\n',\n",
       "  'Disaster\\tNatural\\tMeteorological - Hydrological\\tStorms and Severe Thunderstorms\\tSouthern Ontario\\t13/07/1995 12:00:00 AM\\tSouthern Ontario, July 13-15, 1995.\\t0\\t0\\t0\\t56910000\\t3897945.2\\t15/07/1995 12:00:00 AM\\t0\\t0\\t\\t\\t\\t56910000\\t\\t0\\t0\\n',\n",
       "  'Disaster\\tNatural\\tMeteorological - Hydrological\\tStorms and Severe Thunderstorms\\tSouthern Alberta\\t10/07/1995 12:00:00 AM\\tSouthern AB July 10, 1995.\\t0\\t0\\t0\\t28103000\\t1924863\\t10/07/1995 12:00:00 AM\\t0\\t0\\t\\t\\t\\t28103000\\t\\t0\\t0\\n',\n",
       "  'Disaster\\tNatural\\tMeteorological - Hydrological\\tStorms and Severe Thunderstorms\\tEdmonton AB\\t04/07/1995 12:00:00 AM\\tEdmonton AB, July 4, 1995.\\t0\\t0\\t0\\t34511612\\t2363809\\t04/07/1995 12:00:00 AM\\t\\t\\t18858612\\t\\t\\t15653000\\t\\t0\\t0\\n',\n",
       "  'Disaster\\tNatural\\tMeteorological - Hydrological\\tWildfire\\tSahtu Region of the Northwest Territories\\t06/06/1995 12:00:00 AM\\tSahtu region of the Northwest Territories, June 6-15, 1995.  A Forest fire was first sited in Fort Norman (in the Hamlet of Tulita), and then spread to Norman Wells, Yellowknife and Deline. The fires were started by lightning strikes. Damage was incurred by provincial, municipal and private property.  Fort Norman was evacuated on June 6, and Norman Wells was evacuated on June 9. Norman Wells was under a State of Emergency from June 814.\\t0\\t0\\t950\\t3432310\\t235089.7\\t15/06/1995 12:00:00 AM\\t504871\\t202377\\t2725062\\t\\t\\t\\t\\t0\\t0\\n',\n",
       "  'Disaster\\tNatural\\tMeteorological - Hydrological\\tFlood\\tSouthern Alberta\\t06/06/1995 12:00:00 AM\\tSouthern Alberta, June 6-9, 1995. Heavy rain and snowmelt led to flooding. The most extensive damage occurred from the Oldman and South Saskatchewan Rivers from Crownest Pass to Pincher Creek, Lethbridge and Medicine Hat. This includes the southern areas of High River. Roads, property, riverbanks, trails, agricultural land and over 20 bridges were damaged. More than 215 homes had flooded basements and some experienced short power outages.\\t0\\t0\\t0\\t154623306\\t10590637.4\\t09/06/1995 12:00:00 AM\\t34061897\\t9324782\\t12672842\\t76670115\\t\\t21893670\\t\\t0\\t0\\n',\n",
       "  'Disaster\\tNatural\\tMeteorological - Hydrological\\tFlood\\tSoutheastern British Columbia\\t05/06/1995 12:00:00 AM\\tSoutheast region of British Columbia, June 5-9, 1995. Significant amounts of rainfall in the southern Rockies caused flooding in the East Kootenay (Elk River Watershed) Region. Provincial, municipal and private sector properties were damaged in the Kootenay Region and in the municipalities of Sparwood, Fernie, Princeton, Cranbrook and Erickson. There were 36 homes damaged, 2 road bridges and 1 CPR rail bridge washed out. On June 6, 702 residents were evacuated from Fernie and 100 residents evacuated from Sparwood.  The evacuations lasted until June 9.\\t0\\t0\\t802\\t7155707\\t490116.9\\t09/06/1995 12:00:00 AM\\t1685853\\t5469854\\t\\t\\t\\t\\t\\t0\\t0\\n',\n",
       "  'Disaster\\tNatural\\tMeteorological - Hydrological\\tFlood\\tEast Kooteney (Elk River-Watershed) Region and the municipalities of Sparwood, Fernie and surrounding areas BC\\t01/06/1995 12:00:00 AM\\tEast Kooteny (Elk River-Watershed) Region and in the municipalities of Sparwood, Fernie and surrounding areas BC, June 1995.  Severe flooding due to heavy rains.\\t0\\t0\\t0\\t7155707\\t490116.9\\t01/06/1995 12:00:00 AM\\t1685853\\t5469854\\t\\t\\t\\t\\t\\t0\\t0\\n',\n",
       "  'Disaster\\tNatural\\tMeteorological - Hydrological\\tWildfire\\tNorth Central Saskatchewan\\t29/05/1995 12:00:00 AM\\tNorth central Saskatchewan, May 29, 1995. Lightning started 56 fires on May 29 and as the season progressed, 2,500 people were evacuated from 16 communities and 18 highways were closed. At the height of the outbreak, 4,000 people were fighting the fires.  While there was no loss of life and minimal loss of structures, 16,000 square kilometres (160,000 hectares) of forest were burned and 48 million cubic meters of wood were lost.\\t0\\t0\\t3338\\t91585747\\t6272996.4\\t29/05/1995 12:00:00 AM\\t\\t\\t91585747\\t\\t\\t\\t\\t0\\t0\\n',\n",
       "  'Disaster\\tNatural\\tMeteorological - Hydrological\\tFlood\\tWestern MB\\t01/04/1995 12:00:00 AM\\tWestern MB, April 1995.  In April, rapid snowmelt sent very high flows into the Assiniboine River and the Red River below the Shellmouth Dam.  Spring runoff and two heavy snowfalls of 20-30 cm each in late March had contributed to the flooding problem.  Public road networks, urban and rural properties and agricultural lands suffered damage. Damage occurred at over 100 locations on the provincial highway system, at over 5500 sites on municipal roads and to large culverts and bridges.  Seventy communities were inundated in Manitoba, including: Roblin, Russell, Binscarth, Birtle, Glenora, Pilot Mound, Melita, Virden, Elkhorn, Boissevain, Springfield, Brandon and Minnedosa. The hardest hit areas were Brandon and Shellmouth along the Assiniboine River.  Both a small town of 50 people and the Sioux Valley First Nations Reserve were evacuated. Refer to the Saskatchewan entry for more information on this weather system.\\t0\\t0\\t100\\t4205645\\t288057.9\\t01/04/1995 12:00:00 AM\\t1816719\\t2388926\\t\\t\\t\\t\\t\\t0\\t0\\n',\n",
       "  'Disaster\\tNatural\\tMeteorological - Hydrological\\tFlood\\tNortheastern Saskatchewan\\t01/04/1995 12:00:00 AM\\tNortheastern Saskatchewan, April 1995. An unusual quick thaw combined with spring rain early in the season caused extensive flooding in Eastern Saskatchewan.  The flooding caused damage to agricultural lands, urban, rural, public and private properties. Numerous Saskatchewan communities declared a State of Emergency, including: Quill Lake, Engleford, Langeburg and the City of Melville. Other inundated areas were: Carrot River, Moosomin, White Sands, Yorkton, Melfort and Nipawin. Refer to the Manitoba entry for more information on this weather system.\\t0\\t0\\t0\\t7572381\\t518656.2\\t01/04/1995 12:00:00 AM\\t4784560\\t2787821\\t\\t\\t\\t\\t\\t0\\t0\\n',\n",
       "  'Disaster\\tNatural\\tMeteorological - Hydrological\\tAvalanche\\tBlanc Sablon QC\\t10/03/1995 12:00:00 AM\\tBlanc Sablon (lower north coast) QC, March 10, 1995. An large snow storm provoked an avalanche (2000 m³ of snow).  Two people were killed, a house destroyed, 24 residences were evacuated. The avalanche affected 69 people in total.\\t2\\t0\\t69\\t368160\\t25216.4\\t10/03/1995 12:00:00 AM\\t\\t\\t368160\\t\\t\\t\\t\\t0\\t0\\n',\n",
       "  'Incident\\tTechnology\\tHazardous Chemicals\\tDerailment Release\\tHervey Junction QC\\t21/01/1995 12:00:00 AM\\tHervey Junction QC, January 21, 1995. 28 of 44 rail cars containing sulphuric acid became derailed and spilled the majority of their contents; a total of 234 m³ of acid spilled into Masketi Lake and the Towachiche River; the pH of the lake descended to 2.7 but rose to 5.3 after the addition of 170 tonnes of limestone and soda; all vegetation and wildlife were destroyed; the lake was closed for recreation for eight years, the river for five.\\t0\\t0\\t0\\t\\t\\t21/01/1995 12:00:00 AM\\t0\\t0\\t\\t\\t\\t\\t\\t0\\t0\\n',\n",
       "  'Disaster\\tNatural\\tMeteorological - Hydrological\\tFlood\\tPoplar Bay AB\\t01/01/1995 12:00:00 AM\\tPoplar Bay AB, 1995.\\t0\\t0\\t0\\t35830\\t2454.1\\t01/01/1995 12:00:00 AM\\t\\t\\t35830\\t\\t\\t\\t\\t0\\t0\\n',\n",
       "  'Disaster\\tNatural\\tMeteorological - Hydrological\\tFlood\\tQuebec\\t01/01/1995 12:00:00 AM\\tQuebec, 1995.\\t0\\t0\\t0\\t57478\\t3936.8\\t01/01/1995 12:00:00 AM\\t\\t\\t57478\\t\\t\\t\\t\\t0\\t0\\n',\n",
       "  'Disaster\\tNatural\\tMeteorological - Hydrological\\tWinter Storm\\tAvalon area of Newfoundland and Labrador\\t08/12/1994 12:00:00 AM\\tAvalon area of Newfoundland and Labrador, December 8-12, 1994. A severe storm with winds up to 168 km/hr and a build-up of wet snow of up to 15 cm in diameter on wires caused major damage to the transmission and distribution systems on the Avalon, Burin and Bonavista Peninsulas.  For various periods of time, service was disrupted to approximately 100,000 customers.  Full service was not restored to all customers until Dec.16.\\t0\\t0\\t0\\t\\t\\t12/12/1994 12:00:00 AM\\t0\\t0\\t\\t\\t\\t\\t\\t3189873\\t0\\n',\n",
       "  'Incident\\tTechnology\\tExplosion\\tNon-Residential\\tMontreal QC\\t21/10/1994 12:00:00 AM\\tMontreal QC, October 21, 1994. A building of a bankrupt petrochemical industry was being cleaned and prepared for use after three years of inactivity; an unused reservoir of 700 m³ of a mix of fuel-oil and light hydrocarbons exploded and burned; two workers were nearby, one was killed immediately, the other suffered burns on 80% of the body and died soon after; it took 50 fire fighters 3 hours to extinguish the blaze; a 2 month clean-up and preparation preceded the restart of paraxylene production.\\t2\\t0\\t0\\t\\t\\t21/10/1994 12:00:00 AM\\t0\\t0\\t\\t\\t\\t\\t\\t0\\t0\\n',\n",
       "  'Incident\\tTechnology\\tHazardous Chemicals\\tDerailment Release\\tLethbridge AB\\t17/10/1994 12:00:00 AM\\tLethbridge AB, October 17, 1994. Six railway cars containing a total of 250 tonnes of methanol became derailed from some damaged tracks just north of downtown Lethbridge; the seals were broken on two of the cars, allowing the methanol to escape; local fire fighters attempted to limit the spread of the chemical by erecting earth dams, covering the spill with extinguishing foam, and filling the rail cars with water; electricity and natural gas supply were cut; 200 people were evacuated for 24 hours.\\t0\\t0\\t200\\t\\t\\t17/10/1994 12:00:00 AM\\t0\\t0\\t\\t\\t\\t\\t\\t0\\t0\\n',\n",
       "  'Disaster\\tNatural\\tMeteorological - Hydrological\\tStorms and Severe Thunderstorms\\tSouthern ON\\t28/08/1994 12:00:00 AM\\tSouthern ON, August 28, 1994.\\t0\\t0\\t0\\t7876000\\t551411.9\\t28/08/1994 12:00:00 AM\\t0\\t0\\t\\t\\t\\t7876000\\t\\t0\\t0\\n',\n",
       "  'Disaster\\tNatural\\tMeteorological - Hydrological\\tStorms and Severe Thunderstorms\\tSouthern Manitoba\\t27/08/1994 12:00:00 AM\\tSouthern MB, August 27, 1994.\\t0\\t0\\t0\\t14196201\\t993899.7\\t27/08/1994 12:00:00 AM\\t\\t\\t5346201\\t\\t\\t8850000\\t\\t0\\t0\\n',\n",
       "  'Disaster\\tNatural\\tMeteorological - Hydrological\\tTornado\\tAylmer QC\\t04/08/1994 12:00:00 AM\\tAylmer QC, August 4, 1994. A F3 tornado hits the heavily populated district of Aylmer. 385 houses sustained damages, 12 being totally destroyed and 40 being heavily damaged. 250 families had to be evacuated (based on family of 4), and 4 people were injured.\\t0\\t4\\t1000\\t7786393\\t545138.4\\t04/08/1994 12:00:00 AM\\t\\t\\t246393\\t\\t\\t7540000\\t\\t0\\t0\\n',\n",
       "  'Disaster\\tNatural\\tMeteorological - Hydrological\\tStorms and Severe Thunderstorms\\tSalmon Arm BC\\t04/08/1994 12:00:00 AM\\tSalmon Arm BC, August 4, 1994.\\t0\\t0\\t0\\t11155000\\t780980.2\\t04/08/1994 12:00:00 AM\\t0\\t0\\t\\t\\t\\t11155000\\t\\t0\\t0\\n',\n",
       "  'Disaster\\tNatural\\tMeteorological - Hydrological\\tStorms and Severe Thunderstorms\\tSouthwestern Manitoba\\t01/08/1994 12:00:00 AM\\tSouthwestern MB, August 1, 1994.  The hailstorm caused 100% damage in some parts of the province.  About 1000 people were affected.\\t0\\t0\\t0\\t3189873\\t223328.3\\t01/08/1994 12:00:00 AM\\t\\t\\t\\t3189873\\t\\t\\t\\t0\\t0\\n',\n",
       "  'Disaster\\tNatural\\tMeteorological - Hydrological\\tWildfire\\tBritish Columbia\\t24/07/1994 12:00:00 AM\\tBritish Columbia, July 24, 1994.  A Forest fire that destroyed 5.9 ha of land caused the evacuation of 3000 people.\\t0\\t0\\t4169\\t\\t\\t24/07/1994 12:00:00 AM\\t0\\t0\\t\\t\\t\\t\\t\\t0\\t0\\n',\n",
       "  'Disaster\\tNatural\\tMeteorological - Hydrological\\tStorms and Severe Thunderstorms\\tSouthern Alberta\\t18/06/1994 12:00:00 AM\\tSouthern Alberta, June 18, 1994.\\t0\\t0\\t0\\t30969155\\t2168202.2\\t18/06/1994 12:00:00 AM\\t\\t\\t21910155\\t\\t\\t9059000\\t\\t0\\t0\\n',\n",
       "  'Incident\\tTechnology\\tExplosion\\tNon-Residential\\tSydney NS\\t25/05/1994 12:00:00 AM\\tSydney NS, May 25, 1994. An explosion and fire of a PCB transformer at a steel factory threatened to cause a major toxic discharge; the surrounding residents were alerted by the noise, pungent, thick smoke, and simultaneous electrical black-out; 500 residents downwind of Witney Pier were evacuated to at least 10 km away; analysis of the soil in the residential area did not reveal contamination by PCB, dioxin, nor furan; a five-week clean-up by specialised contractors was carried out, producing 15 barrels of hazardous waste requiring authorised disposal.\\t0\\t0\\t500\\t\\t\\t25/05/1994 12:00:00 AM\\t0\\t0\\t\\t\\t\\t\\t\\t0\\t0\\n',\n",
       "  'Disaster\\tNatural\\tMeteorological - Hydrological\\tStorms and Severe Thunderstorms\\tSaskatchewan\\t22/05/1994 12:00:00 AM\\tSaskatchewan, May 22, 1994.\\t0\\t0\\t0\\t9589470\\t671374.8\\t22/05/1994 12:00:00 AM\\t\\t\\t69470\\t\\t\\t9520000\\t\\t0\\t0\\n',\n",
       "  'Disaster\\tNatural\\tMeteorological - Hydrological\\tStorms and Severe Thunderstorms\\tSouthern Manitoba\\t18/05/1994 12:00:00 AM\\tSouthern MB, May 18, 1994.\\t0\\t0\\t0\\t9074000\\t635285.9\\t18/05/1994 12:00:00 AM\\t0\\t0\\t\\t\\t\\t9074000\\t\\t0\\t0\\n',\n",
       "  'Disaster\\tNatural\\tMeteorological - Hydrological\\tFlood\\tPlaster Rock NB and Lower St. Lawrence Region QC\\t16/04/1994 12:00:00 AM\\tPlaster Rock NB and Lower St. Lawrence Region, QC, April 16-26, 1994. Freshet during the spring and one rainstorm caused flooding of the Saint John and Miramachi Rivers. Flooded basements, riverbank erosion and damaged roads was incurred by private, municipal and provincial property. Over 130 residences, 20 farms, 14 small businesses and the following 4 municipalities were affected: Village of Clair, St. François, Rivière Verte and Plaster Rock.  In Quebec, ice jams along the Matapédia, Restigouche and Gaspésie Rivers caused flooding. Thirty-two municipalities were flooded, including the following: Rimouski, Matane, Bonaventure, Restigouche, Matapédia, Petite Cascapédia and Capchat. Matapédia was isolated for 2 days without electricity or telephone service; 100 people were evacuated. Three bridges were washed away in the lower St. Lawrence area, and communication between southern and northern St. Lawrence shore was cut.\\t0\\t0\\t0\\t57025698\\t3992464.3\\t26/04/1994 12:00:00 AM\\t1944488\\t31903387\\t1681761\\t21496062\\t\\t\\t\\t0\\t0\\n',\n",
       "  'Disaster\\tNatural\\tMeteorological - Hydrological\\tStorms and Severe Thunderstorms\\tSouthern ON\\t28/01/1994 12:00:00 AM\\tSouthern ON, January 28, 1994.\\t0\\t0\\t0\\t6799000\\t476009.3\\t28/01/1994 12:00:00 AM\\t0\\t0\\t\\t\\t\\t6799000\\t\\t0\\t0\\n',\n",
       "  \"Disaster\\tNatural\\tMeteorological - Hydrological\\tCold Event\\tAlberta to Maritimes\\t23/01/1994 12:00:00 AM\\tAlberta to the Maritimes, late January to early February 1994. Coldest Jan. in 100 years.  St. John's NF 14.5Â°C; Ottawa ON -31.3Â°C; Kapuskasing ON -40Â°C, tires fell off rims of cars.  Coldest winter in Toronto since 1920, with double the normal snowfall as usual in January and 5 degrees cooler (at 10Â°C).  Dramatic increase in frozen water pipes that burst and caused damage to homes, commercial plants and contents.\\t0\\t0\\t0\\t45995\\t3220.2\\t06/02/1994 12:00:00 AM\\t\\t\\t45995\\t\\t\\t\\t\\t0\\t0\\n\",\n",
       "  'Disaster\\tNatural\\tMeteorological - Hydrological\\tFlood\\tSouthern ON\\t16/01/1994 12:00:00 AM\\tSouthern ON, January 16-17, 1994.\\t0\\t0\\t0\\t14299000\\t1001096.8\\t17/01/1994 12:00:00 AM\\t0\\t0\\t\\t\\t\\t14299000\\t\\t0\\t0\\n',\n",
       "  'Disaster\\tNatural\\tMeteorological - Hydrological\\tWinter Storm\\tMontreal and area QC\\t05/01/1994 12:00:00 AM\\tMontreal QC, January 5, 1994. Snowfalls of up to 25 cm, winds gusting to 70 km/hr, temperatures of 18°C or lower and almost zero visibility caused major highway accidents that killed at least 6 people near Montréal and caused up to 100-car pileups; airports, bus terminals and many highways, bridges and tunnels were closed; prolonged power failures left about 6000 homes in Montréal without heat or light overnight.\\t6\\t0\\t0\\t\\t\\t05/01/1994 12:00:00 AM\\t0\\t0\\t\\t\\t\\t\\t\\t0\\t0\\n',\n",
       "  'Incident\\tTechnology\\tInfrastructure failure\\tManufacturing / Industry\\tKirkland Lake ON\\t26/11/1993 12:00:00 AM\\tKirkland Lake ON, November 26, 1993. Two miners were trapped following a rockburst 2 km below the surface: rescue efforts failed: the bodies were not recovered.\\t2\\t0\\t0\\t\\t\\t26/11/1993 12:00:00 AM\\t0\\t0\\t\\t\\t\\t\\t\\t0\\t0\\n',\n",
       "  'Disaster\\tNatural\\tMeteorological - Hydrological\\tWinter Storm\\tQuebec and Ontario\\t01/11/1993 12:00:00 AM\\tOntario and Quebec, November 1993 – March 1994.\\t0\\t0\\t0\\t\\t\\t01/03/1994 12:00:00 AM\\t\\t\\t\\t\\t\\t\\t\\t0\\t0\\n',\n",
       "  'Incident\\tTechnology\\tHazardous Chemicals\\tLeak / Spill Release\\tWindsor ON\\t17/10/1993 12:00:00 AM\\tWindsor ON, October 17, 1993. A leaking fuel line connected to a storage tank released 4500 litres of fuel oil to the storm sewer system which leads to the outfall into the Little River and subsequently into the Detroit River; the outfall and then the entrance to the Detroit River were boomed; 30 to 40 ducks were affected; area Wildlife Rescue performed bird rescue and clean-up operations.\\t0\\t0\\t0\\t\\t\\t17/10/1993 12:00:00 AM\\t0\\t0\\t\\t\\t\\t\\t\\t0\\t0\\n',\n",
       "  'Disaster\\tNatural\\tMeteorological - Hydrological\\tStorm Surge\\tTuktoyaktuk and Mackenzie Delta NT\\t23/09/1993 12:00:00 AM\\tTuktoyaktuk and Mackenzie Delta NT, September 22, 1993. A severe storm with winds from the northwest of up to 96 km/h generated a 1.68 m surge and raised water levels to 2.2 m above chart datum. Coincident with approximately 90% open water offshore, waves were relatively powerful and, together with the high water levels, resulted in damage to or destruction of about half the shore protection at Tuktoyaktuk, and flooding in the community and parts of the Mackenzie Delta.\\t0\\t0\\t0\\t\\t\\t23/09/1993 12:00:00 AM\\t\\t\\t\\t\\t\\t\\t\\t0\\t0\\n',\n",
       "  'Disaster\\tNatural\\tMeteorological - Hydrological\\tFlood\\tSaskatchewan\\t29/07/1993 12:00:00 AM\\tSaskatchewan, July 29, 1993.\\t0\\t0\\t0\\t6503703\\t455867\\t29/07/1993 12:00:00 AM\\t\\t\\t613703\\t\\t\\t5890000\\t\\t0\\t0\\n',\n",
       "  'Disaster\\tNatural\\tMeteorological - Hydrological\\tFlood\\tQuebec\\t29/07/1993 12:00:00 AM\\tQuebec, July 29-30, 1993.\\t0\\t0\\t0\\t10017238\\t702142.9\\t30/07/1993 12:00:00 AM\\t\\t\\t1675238\\t\\t\\t8342000\\t\\t0\\t0\\n',\n",
       "  'Disaster\\tNatural\\tMeteorological - Hydrological\\tStorms and Severe Thunderstorms\\tEdmonton AB\\t29/07/1993 12:00:00 AM\\tEdmonton AB, July 29, 1993.\\t0\\t0\\t0\\t21095828\\t1478679.5\\t29/07/1993 12:00:00 AM\\t\\t\\t12398407\\t\\t\\t8697421\\t\\t0\\t0\\n',\n",
       "  'Disaster\\tNatural\\tMeteorological - Hydrological\\tFlood\\tWinnipeg MB\\t25/07/1993 12:00:00 AM\\tWinnipeg MB, July 25 - August 14, 1993. The City of Winnipeg was declared a disaster area because of flooding caused by prolonged heavy rainfall; three severe rainstorms in a five-week period during July caused sewer backups and other extensive damage to homes, power lines, and agricultural land infrastructure in Winnipeg and surrounding areas including Selkirk, Springfield and Beausejour.  Wettest summer in Winnipeg in 120 years.\\t0\\t0\\t0\\t214807255\\t15056583.3\\t14/08/1993 12:00:00 AM\\t11555527\\t3763948\\t\\t\\t\\t199487780\\t\\t0\\t0\\n',\n",
       "  'Incident\\tTechnology\\tHazardous Chemicals\\tLeak / Spill Release\\tTruro NS\\t14/07/1993 12:00:00 AM\\tTruro NS, July 14, 1993. A refrigeration leak resulted in liquid anhydrous ammonia flowing into a floor drain and into the Salmon River causing a major fish kill.\\t0\\t0\\t0\\t\\t\\t14/07/1993 12:00:00 AM\\t0\\t0\\t\\t\\t\\t\\t\\t0\\t0\\n',\n",
       "  'Disaster\\tNatural\\tMeteorological - Hydrological\\tFlood\\tSwan River MB\\t04/07/1993 12:00:00 AM\\tSwan River MB, July 4, 1993. Prolonged rains resulted in severe flooding in the rural municipalities of Swan River, Minitonas, Ethelbert, the Local Government district of Mountain and adjoining municipalities, causing extensive damage to homes, public utilities and municipal infrastructure. 7 bridges washed away.  3 highways and numerous roads closed. 650 homes were evacuated.\\t0\\t0\\t650\\t5738341\\t402220.2\\t04/07/1993 12:00:00 AM\\t2935683\\t2802658\\t\\t\\t\\t\\t\\t0\\t0\\n',\n",
       "  'Incident\\tTechnology\\tHazardous Chemicals\\tVehicle Release\\tShubenacadie NS\\t27/04/1993 12:00:00 AM\\tShubenacadie NS, April 27, 1993. A tractor trailer and pup trailer containing hazardous materials hit an ice patch and overturned, causing the leak of chemicals including nitric acid, potassium hydroxide and sodium hydroxide; 20 homes were evacuated (50-60 people) for a few hours; a school was closed for the day (480 students); the highway was closed during the response and clean-up; environmental damages were minimal.\\t0\\t0\\t60\\t\\t\\t27/04/1993 12:00:00 AM\\t0\\t0\\t\\t\\t\\t\\t\\t0\\t0\\n',\n",
       "  'Disaster\\tNatural\\tMeteorological - Hydrological\\tFlood\\tUpper Saint John River Valley NB\\t12/04/1993 12:00:00 AM\\tUpper Saint John River valley NB, April 1993. Intense spring rainfall and deeper than normal snowpack caused flooding of the Upper Saint John River valley. Public and private property and municipalities incurred damage; individuals made over 300 damage claims due to flooded basements. A sewage treatment plant, sections of the TransCanada Highway and Hotel-Dieu Hospital all sustained damage. Ice, mud and uprooted trees were scattered across the area. The following communities were inundated: Siegas, Fredericton, RiviÃ¨re Verte, Village of Perth-Andover, Village of Plaster Rock, Ste. Anne de Madawaska, Town of Woodstock, St. FranÃ§ois and Quisesibis.\\t0\\t0\\t300\\t14973222\\t1049524.9\\t12/04/1993 12:00:00 AM\\t6500013\\t2349112\\t3808712\\t\\t2315385\\t\\t\\t0\\t0\\n',\n",
       "  'Disaster\\tNatural\\tMeteorological - Hydrological\\tWinter Storm\\tEastern Canada\\t15/03/1993 12:00:00 AM\\tEastern Canada off Cape Sable Island NS, March 15, 1993. March blizzards caused by a mid-latitude cyclone which moved up the North American eastern seaboard eventually claimed more than 240 lives; at one point over 3 million people were left without electricity. On the 15th, the storm caused the sinking of the 177 metre Liberian-registered freighter, \"Gold Bond Conveyor\". Loaded with gypsum, it sank about 200 km off Cape Sable Island in waves up to 20 m and winds gusting up to 120 km/h, after setting sail from Halifax, Nova Scotia, despite warnings of hurricane-force winds.  Most crew members were from Hong Kong; there were no survivors of the 33 aboard.\\t33\\t0\\t0\\t19866000\\t1392476.6\\t15/03/1993 12:00:00 AM\\t\\t\\t\\t\\t\\t19866000\\t\\t0\\t0\\n',\n",
       "  'Disaster\\tNatural\\tBiological\\tEpidemic\\tPrince Edward Island and New Brunswick\\t01/01/1993 12:00:00 AM\\tPVYN Potato Virus, Prince Edward Island and New Brunswick, 1993. Potato crops were affected.\\t0\\t0\\t0\\t\\t\\t01/01/1993 12:00:00 AM\\t\\t\\t\\t\\t\\t\\t\\t0\\t0\\n',\n",
       "  'Disaster\\tNatural\\tMeteorological - Hydrological\\tDrought\\tPrairie Provinces\\t01/01/1993 12:00:00 AM\\tPrairie Provinces, 1993. Severe and widespread surface water droughts reported on the Prairies.\\t0\\t0\\t0\\t0\\t0\\t01/01/1993 12:00:00 AM\\t\\t\\t\\t\\t\\t\\t\\t0\\t0\\n',\n",
       "  \"Incident\\tTechnology\\tFire\\tResidential\\tSt. John's NL\\t21/12/1992 12:00:00 AM\\tSt. John's NL, December 21, 1992. 500 evacuated; the city's worst fire in 50 years touched off a series of propane tank explosions and forced evacuation of approximately 500 people, destroyed 11 businesses and left approximately 100 people homeless; the fire started in the 82-year-old Church Lads Brigade armoury; arson was suspected.\\t0\\t0\\t600\\t\\t\\t21/12/1992 12:00:00 AM\\t0\\t0\\t\\t\\t\\t\\t\\t0\\t0\\n\",\n",
       "  \"Incident\\tTechnology\\tHazardous Chemicals\\tDerailment Release\\tOakville MB\\t18/12/1992 12:00:00 AM\\tOakville MB, December 18, 1992. A 29-car derailment of a 41-car train and subsequent Chemical release caused the evacuation of the 410 residents of Oakville near Portage la Prairie for 24 days during the Christmas-New Year's period (Dec 18, 1992 to January 10, 1993).\\t0\\t0\\t410\\t\\t\\t18/12/1992 12:00:00 AM\\t0\\t0\\t\\t\\t\\t\\t\\t0\\t0\\n\",\n",
       "  'Disaster\\tNatural\\tMeteorological - Hydrological\\tStorm - Unspecified / Other\\tOntario and Quebec\\t12/11/1992 12:00:00 AM\\tOntario and Quebec, November 12-13, 1992.\\t0\\t0\\t0\\t\\t\\t13/11/1992 12:00:00 AM\\t\\t\\t\\t\\t\\t\\t\\t0\\t0\\n',\n",
       "  \"Disaster\\tNatural\\tMeteorological - Hydrological\\tStorms and Severe Thunderstorms\\tAvalon and Burin Peninsulas and Bonavista, Trinity and Conception Bays NL\\t06/10/1992 12:00:00 AM\\tAvalon and Burin Peninsulas and Bonavista, Trinity and Conception Bays NL, October 6, 1992. A violent storm struck on the evening of the October 6 with winds of 139 km/h in some areas and 55 mm of rain; utility services were disrupted in many areas; the Canadian Coast Guard was kept busy with calls for assistance and for a period of time all flights in and out of St. John's International Airport were cancelled; several local area schools, a hospital, businesses and private residences were damaged; the storm continued unabated into Thursday October 8, with winds having subsided to the 70 km/h range.  About 2000 trees in St. John's were destroyed and many boats and fishing vessels were destroyed or damaged.\\t0\\t0\\t0\\t8945037\\t638931.2\\t06/10/1992 12:00:00 AM\\t\\t\\t\\t\\t\\t8945037\\t\\t0\\t0\\n\",\n",
       "  'Incident\\tConflict\\tTerrorist\\tBomb Attacks\\tYellowknife NT\\t18/09/1992 12:00:00 AM\\tYellowknife NT, September 18, 1992. A rail car in the Giant Yellowknife gold mine, 230 metres below ground, was ripped apart by a massive explosion, killing nine miners aboard; all had crossed a picket line to continue working during a legal strike which had begun five months earlier; six of the dead were former strikers while the other three were replacement workers; RCMP investigators said a deliberately-planted home-made bomb caused the blast; during the strike there had been picket line violence, deliberately set fires and at least two earlier, non-fatal, explosions.\\t9\\t0\\t0\\t\\t\\t18/09/1992 12:00:00 AM\\t0\\t0\\t\\t\\t\\t\\t\\t0\\t0\\n',\n",
       "  'Disaster\\tNatural\\tMeteorological - Hydrological\\tStorms and Severe Thunderstorms\\tEdmonton AB\\t01/09/1992 12:00:00 AM\\tEdmonton AB, September 1, 1992.\\t0\\t0\\t0\\t22522000\\t1608714.3\\t01/09/1992 12:00:00 AM\\t\\t\\t14434443\\t\\t\\t8087557\\t\\t0\\t0\\n',\n",
       "  'Disaster\\tNatural\\tMeteorological - Hydrological\\tStorms and Severe Thunderstorms\\tEdmonton AB\\t28/08/1992 12:00:00 AM\\tEdmonton AB, August 28, 1992.\\t0\\t0\\t0\\t20170168\\t1440726.3\\t28/08/1992 12:00:00 AM\\t\\t\\t14434443\\t\\t\\t5735725\\t\\t0\\t0\\n',\n",
       "  'Disaster\\tNatural\\tMeteorological - Hydrological\\tFlood\\tElmira ON\\t28/08/1992 12:00:00 AM\\tElmira ON, August 28, 1992.\\t0\\t0\\t0\\t4738539\\t338467.1\\t28/08/1992 12:00:00 AM\\t0\\t0\\t\\t\\t\\t4738539\\t\\t0\\t0\\n',\n",
       "  'Disaster\\tNatural\\tMeteorological - Hydrological\\tFlood\\tToronto ON\\t31/07/1992 12:00:00 AM\\tToronto ON, July 31, 1992.\\t0\\t0\\t0\\t5337940\\t381281.4\\t31/07/1992 12:00:00 AM\\t0\\t0\\t\\t\\t\\t5337940\\t\\t0\\t0\\n',\n",
       "  'Disaster\\tNatural\\tMeteorological - Hydrological\\tStorms and Severe Thunderstorms\\tCalgary AB\\t31/07/1992 12:00:00 AM\\tCalgary AB, July 31, 1992.\\t0\\t0\\t0\\t38495497\\t2749678.4\\t31/07/1992 12:00:00 AM\\t\\t\\t14434443\\t\\t\\t24061054\\t\\t0\\t0\\n',\n",
       "  'Disaster\\tNatural\\tMeteorological - Hydrological\\tFlood\\tYukon Rivers YT\\t17/06/1992 12:00:00 AM\\tYukon rivers YT, June 17 – July 1992. Above-average snowpack and precipitation combined with high winter temperatures caused flooding along the Upper Liard River basin, Teslin River basin, South Canol Area, Upper Lakes of the Yukon River basin, Stewart River and Bennett Lake.  The Upper Liard River basin peaked on June 17, the fifth highest record since 1960; Teslin River peaked on June 25, breaking the old record set in 1947; Yukon Upper Lakes peaked on July 30, the 3rd highest record since 1951. Flooding caused road washouts, damage to private property and reserves, and significant threats to water and sewere facilities. The hardest hit communities were: Upper Liard, Carmacks, Carcross and Teslin.\\t0\\t0\\t0\\t228636\\t16331.1\\t30/07/1992 12:00:00 AM\\t147321\\t81315\\t\\t\\t\\t\\t\\t0\\t0\\n',\n",
       "  'Incident\\tTechnology\\tHazardous Chemicals\\tDerailment Release\\tLonglac ON\\t25/05/1992 12:00:00 AM\\tLonglac ON, May 25, 1992. A freight train carrying 4 ammonia cars derailed causing a small leak in two of the cars; the damaged cars were pumped off and the other two were vented, releasing 453.6 kg of anhydrous ammonia to the atmosphere in a remote area; 800 people were evacuated for 3 days.\\t0\\t0\\t800\\t\\t\\t25/05/1992 12:00:00 AM\\t0\\t0\\t\\t\\t\\t\\t\\t0\\t0\\n',\n",
       "  'Disaster\\tNatural\\tMeteorological - Hydrological\\tFlood\\tAttawapiskat ON\\t18/05/1992 12:00:00 AM\\tAttawapiskat ON, May 18, 1992. Approximately 1000 residents of this remote Cree village near James Bay were evacuated when the Attawapiskat River flooded.\\t0\\t0\\t1000\\t\\t\\t18/05/1992 12:00:00 AM\\t0\\t0\\t\\t\\t\\t\\t\\t0\\t0\\n',\n",
       "  'Incident\\tTechnology\\tExplosion\\tNon-Residential\\tPlymouth NS\\t09/05/1992 12:00:00 AM\\tPlymouth NS, May 9, 1992. A coal-dust explosion detonated by burning methane gas at the Westray Mine (on the Foord Seam) in Plymouth, killed 26 miners of which 11 were killed by the explosion and the other 15 were presumed dead when rescue attempts were abandoned due to dangerous conditions and risk of another explosion.\\t26\\t0\\t0\\t\\t\\t09/05/1992 12:00:00 AM\\t\\t\\t\\t\\t\\t\\t\\t0\\t0\\n',\n",
       "  'Disaster\\tNatural\\tMeteorological - Hydrological\\tFlood\\tHay River NT\\t25/04/1992 12:00:00 AM\\tHay River NT, April 25, 1992. Approximately 100 residents were evacuated as a 10-kilometre-deep ice jam at the mouth of the Hay River flooded the town of 3100 people.\\t0\\t0\\t100\\t\\t\\t25/04/1992 12:00:00 AM\\t0\\t0\\t\\t\\t\\t\\t\\t0\\t0\\n',\n",
       "  'Incident\\tTechnology\\tHazardous Chemicals\\tVehicle Release\\tNanaimo BC\\t26/03/1992 12:00:00 AM\\tNanaimo BC, March 26, 1992. A tanker truck overturned in a residential area and leaked a total of 200 litres of methanol; three nearby apartment buildings (approximately 200 people) were evacuated for 5 hours, and traffic was detoured; concern of the methanol reaching marine waters via storm sewer.\\t0\\t0\\t200\\t\\t\\t26/03/1992 12:00:00 AM\\t0\\t0\\t\\t\\t\\t\\t\\t0\\t0\\n',\n",
       "  'Incident\\tTechnology\\tHazardous Chemicals\\tLeak / Spill Release\\tSarnia ON\\t19/03/1992 12:00:00 AM\\tSarnia ON, March 19, 1992. A problem with a heat exchanger unit of a rubber manufacturing plant caused the release of 1500 kg of  isobutylene to the St. Clair River in two consecutive spills, Mar. 19-20, 1992.; drinking water intakes were interrupted.\\t0\\t0\\t0\\t\\t\\t19/03/1992 12:00:00 AM\\t0\\t0\\t\\t\\t\\t\\t\\t0\\t0\\n',\n",
       "  'Incident\\tTechnology\\tHazardous Chemicals\\tMarine Release\\tPort-aux-Basques NL\\t13/03/1992 12:00:00 AM\\t23 miles west of Port-aux-Basques NL, March 13, 1992. The Panamanian bulk carrier M/V SKRIM sustained ice damage and leaked approximately 145 m³ of heavy oil into the ice near the vessel and onto the southwest shore of Newfoundland; some locations reported a thickness of 0.5 cm of oil on the rocks; clean-up operations were conducted.\\t0\\t0\\t0\\t\\t\\t13/03/1992 12:00:00 AM\\t0\\t0\\t\\t\\t\\t\\t\\t0\\t0\\n',\n",
       "  'Disaster\\tNatural\\tMeteorological - Hydrological\\tFlood\\tSainte-Brigitte-de-Laval, about 40 km north of Québec City QC\\t12/03/1992 12:00:00 AM\\tSainte-Brigitte-de-Laval, about 40 km north of Québec City QC, March 12, 1992. Approximately 40 people were airlifted from this community on Ile Enchanteresse (a mile long island 40km north of QuÃƒÂ©bec City) when flood waters caused by an ice jam on the Montmorency River rapidly inundated the town, flooding 80 houses; two QuÃƒÂ©bec government helicopters and one Canadian Forces helicopter were used in the evacuation.\\t0\\t0\\t40\\t1012311\\t72307.9\\t12/03/1992 12:00:00 AM\\t\\t\\t1012311\\t\\t\\t\\t\\t0\\t0\\n',\n",
       "  'Disaster\\tNatural\\tMeteorological - Hydrological\\tFlood\\tPeace River AB\\t28/02/1992 12:00:00 AM\\tPeace River, 388 km northwest of Edmonton AB, February 28 - March 4, 1992. Unseasonably warm weather broke up the frozen Peace River, ice jams caused water levels to rise 4.3 m above average; water levels peaked at 15 m; extensive flooding necessitated the evacuation of approximately 3800 residents of the town for at least three days; approximately 20 homes sustained severe damage, 30 others were damaged but could be occupied; no deaths or injuries were reported.\\t0\\t0\\t3800\\t2866371\\t204740.8\\t04/03/1992 12:00:00 AM\\t\\t\\t2866371\\t\\t\\t\\t\\t0\\t0\\n',\n",
       "  'Incident\\tTechnology\\tFire\\tResidential\\tMontréal QC\\t16/02/1992 12:00:00 AM\\tMontréal QC, February 16, 1992. Four large, commercial and residential heritage buildings in Old Montréal near historic Notre Dame Basilica were totally destroyed in a ten-hour blaze fought by more than 100 fire fighters; the Basilica, constructed between 1824 and 1829, sustained extensive smoke damage and broken windows.\\t0\\t0\\t0\\t\\t\\t16/02/1992 12:00:00 AM\\t\\t\\t\\t\\t\\t\\t\\t0\\t0\\n',\n",
       "  'Disaster\\tNatural\\tMeteorological - Hydrological\\tWinter Storm\\tMaritime Provinces\\t01/02/1992 12:00:00 AM\\tMaritime Provinces, February 1-4, 1992.  A 110-hour-long blizzard with gusts up to 140 km/h brought record snowfall of 163 cm to Moncton, New Brunswick; several other cities recorded more than 100 cm of snow; traffic was brought to a standstill; many stranded motorists had to be rescued, and many schools and businesses throughout the Maritimes were closed in the aftermath.\\t0\\t0\\t0\\t0\\t0\\t04/02/1992 12:00:00 AM\\t0\\t0\\t\\t\\t\\t\\t\\t0\\t0\\n',\n",
       "  'Incident\\tTechnology\\tHazardous Chemicals\\tLeak / Spill Release\\tPort au Choix NL\\t31/01/1992 12:00:00 AM\\tPort au Choix NL, January 31, 1992. 120,000 litres of diesel oil leaked from a storage tank and flowed downhill into the harbour; the major concern was the contamination of a lobster pond near the spill site which resulted in the lobsters being landed and stored in a holding area; a significant amount of oil was trapped by shorefast ice and a log boom was deployed to try and contain the contaminated ice; public concern was raised about fumes from the ice during spring thaw; charges under the Fisheries Act were brought against the manager of the fuel terminal.\\t0\\t0\\t0\\t\\t\\t31/01/1992 12:00:00 AM\\t0\\t0\\t\\t\\t\\t\\t\\t0\\t0\\n',\n",
       "  'Incident\\tTechnology\\tHazardous Chemicals\\tLeak / Spill Release\\tCorunna ON\\t21/01/1992 12:00:00 AM\\tCorunna ON, January 21, 1992. Abnormal discharge from a refinery of approximately 1000 kg of benzene, toluene and xylene into a sewer which drains to Telford Creek and St. Clair River; Wallaceburg and Walpole drinking water intakes were both closed for two days as the contamination moved down the river; a related fish kill was reported and the incident resulted in a conviction under the Ontario Environmental Protection Act.\\t0\\t0\\t0\\t\\t\\t21/01/1992 12:00:00 AM\\t0\\t0\\t\\t\\t\\t\\t\\t0\\t0\\n',\n",
       "  'Disaster\\tNatural\\tMeteorological - Hydrological\\tDrought\\tPrairie Provinces\\t01/01/1992 12:00:00 AM\\tPrairie Provinces, 1992. Livestock yields were low in northern Alberta and Saskatchewan due to dry conditions; severe and widespread surface water droughts reported on the Prairies; coldest July since 1884.\\t0\\t0\\t0\\t580597523\\t41471251.6\\t01/01/1992 12:00:00 AM\\t\\t\\t135289\\t\\t580462234\\t\\t\\t0\\t0\\n',\n",
       "  'Disaster\\tNatural\\tMeteorological - Hydrological\\tFlood\\tLethbridge AB\\t01/01/1992 12:00:00 AM\\tLethbridge AB, 1992.\\t0\\t0\\t0\\t219277\\t15662.6\\t01/01/1992 12:00:00 AM\\t\\t\\t219277\\t\\t\\t\\t\\t0\\t0\\n',\n",
       "  'Disaster\\tNatural\\tMeteorological - Hydrological\\tCold Event\\tPrairies Provinces and Ontario\\t01/01/1992 12:00:00 AM\\tPrairie Provinces and Ontario, Summer 1992.  Unseasonable snow and frost during the months of June, July, and August caused massive damage to agricultural crops.\\t0\\t0\\t0\\t2000000\\t142857.1\\t01/01/1992 12:00:00 AM\\t\\t\\t2000000\\t\\t\\t\\t\\t0\\t0\\n',\n",
       "  'Incident\\tTechnology\\tHazardous Chemicals\\tMarine Release\\tHaines AB\\t06/12/1991 12:00:00 AM\\tHaines AB, December 6, 1991. A frozen oil rig blew out while crews tried to thaw the pipes; crude oil (ground spill) and sour gas (airborne) were released continuously over 17 hours; complaints about odour were received from 20 km north of the site; 170 people were evacuated.\\t0\\t0\\t170\\t\\t\\t06/12/1991 12:00:00 AM\\t0\\t0\\t\\t\\t\\t\\t\\t0\\t0\\n',\n",
       "  'Disaster\\tNatural\\tMeteorological - Hydrological\\tStorm - Unspecified / Other\\tCentral Ontario\\t30/11/1991 12:00:00 AM\\tCentral Ontario, November 30, 1991.\\t0\\t0\\t0\\t5982309\\t433500.7\\t30/11/1991 12:00:00 AM\\t0\\t0\\t\\t\\t\\t5982309\\t\\t0\\t0\\n',\n",
       "  'Incident\\tTechnology\\tHazardous Chemicals\\tFire\\tGrand Coulee SK\\t20/11/1991 12:00:00 AM\\tGrand Coulee SK, November 20, 1991. A fire in a storage depot containing 45 gallons of cyanide salts and 2500 gallons of bulk farm pesticide, phosphorus and a sodium-based chemical forced the evacuation of the 200 residents of Grand Coulee for about three hours.\\t0\\t0\\t200\\t\\t\\t20/11/1991 12:00:00 AM\\t0\\t0\\t\\t\\t\\t\\t\\t0\\t0\\n',\n",
       "  'Disaster\\tNatural\\tMeteorological - Hydrological\\tStorms and Severe Thunderstorms\\tMaritime Provinces\\t25/10/1991 12:00:00 AM\\tMaritime Provinces, especially Nova Scotia, October 25 - November 3, 1991. The \"Halloween Storm\" of 1991, was produced by two hurricanes: \"Grace\" and an unnamed storm over the north Atlantic; on the Scotian slope the highest wave in the world ever recorded by an instrument was measured as 30.7 metres.\\t0\\t0\\t0\\t0\\t0\\t03/11/1991 12:00:00 AM\\t\\t\\t\\t\\t\\t\\t\\t0\\t0\\n',\n",
       "  'Disaster\\tNatural\\tMeteorological - Hydrological\\tStorm - Unspecified / Other\\tVernon BC\\t16/10/1991 12:00:00 AM\\tVernon BC, October 16, 1991.\\t0\\t0\\t0\\t4396737\\t318604.1\\t16/10/1991 12:00:00 AM\\t0\\t0\\t\\t\\t\\t4396737\\t\\t0\\t0\\n',\n",
       "  'Disaster\\tNatural\\tMeteorological - Hydrological\\tFlood\\tNorthwestern British Columbia\\t08/10/1991 12:00:00 AM\\tNorthwestern British Columbia, October 8-14, 1991.  Flooding due to heavy rainfall along the Kitimat, Skeena and Nass rivers caused damage in Terrace, Stewart and Prince Rupert. Highways and forest service roads flooded and washed out, and numerous bridges were damaged or destroyed. There was erosion damage to spawning beds, and some landslides resulted. Communities along the Nass River isolated were isolated; fresh food had to be flown in through the Provincial Emergency Program.\\t\\t\\t\\t\\t\\t14/10/1991 12:00:00 AM\\t\\t\\t\\t\\t\\t\\t\\t4150761\\t0\\n',\n",
       "  'Incident\\tTechnology\\tHazardous Chemicals\\tLeak / Spill Release\\tCanso NS\\t08/10/1991 12:00:00 AM\\tCanso NS, October 8, 1991. An operator error occurred during the installation of a refrigerator which converts freon to ammonia; a subcontractor left a gate open on a pipe which he thought was out of service; 20 tonnes of freon were released.\\t0\\t0\\t0\\t\\t\\t08/10/1991 12:00:00 AM\\t\\t\\t\\t\\t\\t\\t\\t0\\t0\\n',\n",
       "  'Incident\\tTechnology\\tTransportation accident\\tAir\\tNear the North Pole NU\\t01/10/1991 12:00:00 AM\\tNear North Pole NU, October 1, 1991.  A Hercules military plane crashed on the northern tip of Ellesmere Island, near Alert: 18 people were killed and there was 1 survivor.\\t18\\t0\\t0\\t\\t\\t01/10/1991 12:00:00 AM\\t0\\t0\\t\\t\\t\\t\\t\\t0\\t0\\n',\n",
       "  'Incident\\tTechnology\\tFire\\tResidential\\tJarvis ON\\t26/09/1991 12:00:00 AM\\tJarvis ON, September 26, 1991. 1300 evacuated; 1 injured; a natural gas explosion destroyed one house; the owner of the home suffered burns from the blast; the explosion was caused by gas seeping into a backyard well; all natural gas lines were turned off; electricity and phone lines were shut off to prevent sparks from triggering more explosions in the area off the north shore of Lake Erie; the area had to be evacuated; the evacuation lasted 4 days.\\t0\\t1\\t1300\\t\\t\\t26/09/1991 12:00:00 AM\\t0\\t0\\t\\t\\t\\t\\t\\t0\\t0\\n',\n",
       "  'Disaster\\tNatural\\tMeteorological - Hydrological\\tStorms and Severe Thunderstorms\\tCalgary AB\\t07/09/1991 12:00:00 AM\\tCalgary AB, September 7, 1991 (Labour Day). 30 minute thunderstorm.  Downpours of rain and golfball-sized hail flooded basements and caused property damage; hail smashed windows. Birds crushed by hail; cars trapped in downtown underpasses. 15 manhole covers blown off, 28 catch basins needed to be unplugged.\\t0\\t0\\t0\\t884595372\\t64101113.9\\t07/09/1991 12:00:00 AM\\t\\t\\t9289467\\t496865521\\t\\t378440384\\t\\t0\\t0\\n',\n",
       "  'Disaster\\tNatural\\tMeteorological - Hydrological\\tFlood\\tSouthwestern British Columbia\\t29/08/1991 12:00:00 AM\\tSouthwestern British Columbia, August 29 to September 1, 1991. Heavy rains caused extensive damage in the Southwestern area of BC, mainly surrounding Vancouver and the Chilliwack area. More specifically: in the South Central region, Bella Coola, Chilcotin, West Central Region, Southwest Region, Fraser Columbia, Kooteney, Similkameen and Peace Regions.\\t0\\t0\\t0\\t17300120\\t1253631.9\\t01/09/1991 12:00:00 AM\\t1002312\\t3934593\\t12363215\\t\\t\\t\\t\\t0\\t0\\n',\n",
       "  'Disaster\\tNatural\\tMeteorological - Hydrological\\tTornado\\tMaskinongé QC\\t27/08/1991 12:00:00 AM\\tSt. Lawrence River QC, August 27, 1991. The tornado affected the Village of Maskinongé; the tornado crossed the St. Lawrence River and touched down in Notre-Dame de Pierreville where a few summer cottages were destroyed and some minor injuries occurred; it also touched down in Saint Wenceslas where minor damage was reported; there were no deaths, 15 people injured, only one seriously; 60% of all buildings in the village of Maskinongé were damaged, the power lines were down and telephone service stopped; no drinking water was available.\\t0\\t15\\t0\\t52603727\\t3811864.3\\t27/08/1991 12:00:00 AM\\t\\t\\t2206439\\t29751766\\t\\t20645522\\t\\t0\\t0\\n',\n",
       "  'Disaster\\tNatural\\tMeteorological - Hydrological\\tHurricane / Typhoon / Tropical Storm\\tSouthern New Brunswick\\t19/08/1991 12:00:00 AM\\tSouthern New Brunswick, August 19, 1991. 2 deaths; Hurricane Bob hit southern New Brunswick with winds gusting to 100 km/h after leaving a trail of destruction through the U.S. Cape Cod region.\\t2\\t0\\t0\\t7021214\\t508783.6\\t19/08/1991 12:00:00 AM\\t\\t\\t\\t\\t7021214\\t\\t\\t0\\t0\\n',\n",
       "  'Incident\\tTechnology\\tHazardous Chemicals\\tDerailment Release\\tKinsella AB\\t05/08/1991 12:00:00 AM\\tKinsella, near Wainwright AB, August 5, 1991. A train struck a tractor-trailer unit loaded with light crude oil; the subsequent explosion and fire killed the driver and the three train crew members; the train pushed the truck for 3 km, spilling oil and propagating the fire; an area of 1.5 km² required cleaning.\\t4\\t0\\t0\\t\\t\\t05/08/1991 12:00:00 AM\\t0\\t0\\t\\t\\t\\t\\t\\t0\\t0\\n',\n",
       "  'Incident\\tTechnology\\tHazardous Chemicals\\tFire\\tSarnia ON\\t22/07/1991 12:00:00 AM\\tSarnia ON, July 22, 1991. 5000 residents evacuated; refinery fire.\\t0\\t0\\t5000\\t\\t\\t22/07/1991 12:00:00 AM\\t0\\t0\\t\\t\\t\\t\\t\\t0\\t0\\n',\n",
       "  'Incident\\tTechnology\\tHazardous Chemicals\\tMarine Release\\tOff Cape Beale BC\\t22/07/1991 12:00:00 AM\\t21 miles south of Cape Beale BC, July 22, 1991. A collision and subsequent sinking of Japanese Fish Factory Ship \"Tenyo Maru\" with Chinese Bulk Carrier \"Tuo Hai\" while the latter was weaving in and out of 15-20 fishing vessels; 260 tonnes of bunker C oil and 525,000 litres of diesel oil spilled, 175 tonnes of oil recovered; the area threatened is extremely sensitive; the Tenyo Maru sank, killing one person.\\t1\\t0\\t0\\t\\t\\t22/07/1991 12:00:00 AM\\t0\\t0\\t\\t\\t\\t\\t\\t0\\t0\\n',\n",
       "  'Incident\\tTechnology\\tTransportation accident\\tAir\\tSaudi Arabia\\t11/07/1991 12:00:00 AM\\tSaudi Arabia, July 11, 1991. Nationair DC-8 crashed in Saudi Arabia, killing 261 people.\\t261\\t0\\t0\\t0\\t0\\t11/07/1991 12:00:00 AM\\t0\\t0\\t\\t\\t\\t\\t\\t0\\t0\\n',\n",
       "  'Incident\\tTechnology\\tHazardous Chemicals\\tDerailment Release\\tSt. Lazare MB\\t09/07/1991 12:00:00 AM\\tSt. Lazare MB, July 9, 1991. 25 cars in an 88-car train jumped the tracks near the village of St. Lazare; two cars of acetic anhydride and two cars of methanol ruptured, causing a toxic cloud; 400 residents of St. Lazare were evacuated for 6 days. [The Environment Canada accident report states that respiratory masks were required in the contaminated area, reservoirs to confine the waste were dug, the crops within 200 m were contaminated with acetic vapours, and 500 people were deprived of water for 2 days]\\t0\\t0\\t400\\t\\t\\t10/07/1991 12:00:00 AM\\t0\\t0\\t\\t\\t\\t\\t\\t0\\t0\\n',\n",
       "  'Disaster\\tNatural\\tMeteorological - Hydrological\\tStorms and Severe Thunderstorms\\tRed Deer AB\\t03/07/1991 12:00:00 AM\\tRed Deer AB, July 3, 1991.\\t0\\t0\\t0\\t40387745\\t2926648.2\\t03/07/1991 12:00:00 AM\\t\\t\\t9280084\\t\\t\\t31107661\\t\\t0\\t0\\n',\n",
       "  'Disaster\\tNatural\\tMeteorological - Hydrological\\tWildfire\\tBetsiamites, Ragueneau et Baie-Comeau QC\\t29/06/1991 12:00:00 AM\\tBetsiamites, Ragueneau and Baie Comeau QC, June 29, 1991. Residents of the Montagnais Reserve of Betsiamites and the community of Ragueneau were evacuated; nine fires were reported in the area of Baie Comeau; fire fighting activity concentrated on the two largest fires; the larger fire covered 1900 square km at Betsiamites, about 50 kilometres west of Baie Comeau; the second fire covered 900 square km at Forestville, approximately 90 kilometres west of Baie Comeau; overall there were 7000 evacuees (Red Cross Statistics).\\t0\\t0\\t4035\\t\\t\\t29/06/1991 12:00:00 AM\\t\\t\\t\\t\\t\\t\\t\\t0\\t0\\n',\n",
       "  'Disaster\\tNatural\\tMeteorological - Hydrological\\tFlood\\tOld Crow YT\\t08/05/1991 12:00:00 AM\\tOld Crow YT, May 8-9, 1991. Ice jams caused the Porcupine River to overflow and flood the community of Old Crow. Over half of the buildings sustained damage, including 32-40 homes, the church, the school,  the airport runway and terminal building, the Nursing Station and Co-op Store. Supplies, electrical systems and generators were also damaged.\\t0\\t0\\t0\\t546692\\t39615.4\\t09/05/1991 12:00:00 AM\\t518222\\t28470\\t\\t\\t\\t\\t\\t0\\t0\\n',\n",
       "  'Incident\\tTechnology\\tHazardous Chemicals\\tFire\\tNiverville MB\\t01/05/1991 12:00:00 AM\\tNiverville MB, May 1, 1991. A fire of unidentified origin engulfed a warehouse containing granulised fertiliser and thousands of litres of herbicides and pesticides; emergency responders used special techniques to extinguish with water, then trenches were dug to try to recover the polluted water; 1500 people were evacuated for about 3 hours; all dairy, poultry, egg and livestock businesses in the area were suspended.\\t0\\t0\\t1500\\t\\t\\t01/05/1991 12:00:00 AM\\t0\\t0\\t\\t\\t\\t\\t\\t0\\t0\\n',\n",
       "  'Disaster\\tNatural\\tMeteorological - Hydrological\\tFlood\\tChaudière River QC\\t07/04/1991 12:00:00 AM\\tChaudière River QC, April 7-8, 1991. Residents along the Chaudière River, south of Quebec City, experienced the highest flood levels in several years; many homes and businesses were damaged by water and ice. 1000 residents were evacuated.  Telephone poles knocked down, cars crushed by the weight of ice, flooded basements.\\t0\\t0\\t1000\\t3682004\\t266811.9\\t08/04/1991 12:00:00 AM\\t\\t\\t3682004\\t\\t\\t\\t\\t0\\t0\\n',\n",
       "  'Disaster\\tNatural\\tGeological\\tLandslide\\tNotre-Dame de Pierreville QC\\t01/04/1991 12:00:00 AM\\tNotre-Dame de Pierreville QC, April 1991. The only road to the village was partially demolished by a landslide, leaving 600 people completely isolated.\\t0\\t0\\t0\\t304756\\t22083.8\\t01/04/1991 12:00:00 AM\\t\\t\\t304756\\t\\t\\t\\t\\t0\\t0\\n',\n",
       "  'Disaster\\tNatural\\tMeteorological - Hydrological\\tTornado\\tSarnia ON\\t27/03/1991 12:00:00 AM\\tSarnia ON, March 27, 1991.\\t0\\t0\\t0\\t28310657\\t2051496.9\\t27/03/1991 12:00:00 AM\\t\\t0\\t0\\t\\t\\t28310657\\t\\t1560000\\t0\\n',\n",
       "  'Disaster\\tNatural\\tMeteorological - Hydrological\\tAvalanche\\tBugaboo Glacier Provincial Park BC\\t12/03/1991 12:00:00 AM\\tBugaboo, Purcell Mountains BC, March 12, 1991. Nine heli-skiers were killed in a massive avalanche in Bugaboo Glacier Provincial Park.\\t9\\t0\\t0\\t\\t\\t12/03/1991 12:00:00 AM\\t\\t0\\t0\\t\\t\\t\\t\\t0\\t0\\n',\n",
       "  'Incident\\tTechnology\\tHazardous Chemicals\\tLeak / Spill Release\\tCochrane ON\\t11/01/1991 12:00:00 AM\\tCochrane ON, January 11, 1991. The failure and explosion of a section of pipeline resulted in approximately 25.5 meters of pipe to blow out and release approx. 1 billion m³ of high pressure natural gas.\\t0\\t0\\t0\\t\\t\\t11/01/1991 12:00:00 AM\\t\\t0\\t0\\t\\t\\t\\t\\t0\\t0\\n',\n",
       "  'Disaster\\tNatural\\tMeteorological - Hydrological\\tDrought\\tPrairie Provinces\\t01/01/1991 12:00:00 AM\\tPrairie Provinces, 1991. Severe and widespread surface water droughts reported on the Prairies.\\t0\\t0\\t0\\t146557019\\t10620073.8\\t01/01/1991 12:00:00 AM\\t\\t\\t115360\\t\\t146441659\\t\\t\\t0\\t0\\n',\n",
       "  'Disaster\\tNatural\\tMeteorological - Hydrological\\tStorms and Severe Thunderstorms\\tMadeleine Islands QC\\t16/12/1990 12:00:00 AM\\tMadeleine Islands QC, December 16, 1990. The fishing trawler \"M.V. Nadine\" sank off the Madeleine Islands, Quebec, in high winds and three metre high waves, causing death by hypothermia of seven crew members and a fisheries researcher: there were two survivors: a coroner\\'s report released in June 1992 blamed the loss of life and sinking of the vessel on a series of human errors: ill-fitting survival suits, malfunctioning navigational equipment, lack of automatic pumps, lack of safety measures and emergency drills for those aboard the vessel, and ship\\'s officers untrained in emergency procedures.\\t8\\t2\\t0\\t397070\\t30388\\t16/12/1990 12:00:00 AM\\t\\t\\t\\t\\t397070\\t\\t\\t0\\t0\\n',\n",
       "  'Disaster\\tNatural\\tMeteorological - Hydrological\\tFlood\\tNewfoundland\\t09/12/1990 12:00:00 AM\\tNewfoundland, December 9, 1990. Heavy rain caused this damaging flood.  Up to 100 millemetres of rain fell on the area, forcing the closure of highways, flooding homes and damaging bridges.\\t0\\t0\\t0\\t2327777\\t178146.2\\t09/12/1990 12:00:00 AM\\t1029958\\t1297819\\t\\t\\t\\t\\t\\t0\\t0\\n',\n",
       "  'Disaster\\tNatural\\tMeteorological - Hydrological\\tFlood\\tSouthwestern British Columbia\\t08/11/1990 12:00:00 AM\\tSouthwestern British Columbia, November 8-13, 1990; 309 people evacuated and eight homes destroyed; heavy rains caused widespread flooding over a wide area of southwestern British Columbia and Vancouver Island; the British Columbian interior was cut off from the coast for several days as highways were shut down by landslides and road washouts.\\t0\\t0\\t309\\t29426861\\t2252055.7\\t13/11/1990 12:00:00 AM\\t7343629\\t7053719\\t15029513\\t\\t\\t\\t\\t412941\\t0\\n',\n",
       "  'Disaster\\tNatural\\tMeteorological - Hydrological\\tTornado\\tSouthern Ontario\\t29/08/1990 12:00:00 AM\\tSouthern Ontario, August 29, 1990. Tornadoes, high winds and thunderstorms caused crop damage and the destruction of several buildings in the communities of Lobo, Komoka, Frome, Port Stanley, Southwold and Kendall; 6 minor injuries were reported.\\t0\\t6\\t0\\t792167\\t60625\\t29/08/1990 12:00:00 AM\\t\\t\\t511000\\t281167\\t\\t\\t\\t0\\t0\\n',\n",
       "  'Disaster\\tNatural\\tMeteorological - Hydrological\\tFlood\\tWoodstock NB\\t01/08/1990 12:00:00 AM\\tWoodstock area NB, August 1990. Flooding was caused by heavy rains.\\t0\\t0\\t0\\t1666667\\t127551\\t01/08/1990 12:00:00 AM\\t\\t\\t1666667\\t\\t\\t\\t\\t0\\t0\\n',\n",
       "  \"Disaster\\tNatural\\tMeteorological - Hydrological\\tHurricane / Typhoon / Tropical Storm\\tNorthumberland Strait (NS and PE)\\t01/08/1990 12:00:00 AM\\tNorthumberland Strait NS and PE, August 1990. Six crew were killed when a cargo ship sailing south of Nova Scotia was battered by hurricane Bertha; winds and heavy rains damaged Prince Edward Island's corn and tobacco crops; huge surf pounded the island's coast, and up to 190 mm of rainfall was recorded in some areas.\\t6\\t0\\t0\\t4427167\\t338813.8\\t01/08/1990 12:00:00 AM\\t\\t\\t\\t\\t4427167\\t\\t\\t0\\t0\\n\",\n",
       "  'Incident\\tTechnology\\tHazardous Chemicals\\tFire\\tHarrow ON\\t23/07/1990 12:00:00 AM\\tHarrow ON, July 23, 1990. A fire destroyed a warehouse containing fertilisers and chemical products; extinguished in seven hours, the debris, waste, and water used for extinction were disposed of as toxic waste; dead fish were found as far away as 11 km.\\t0\\t0\\t0\\t\\t\\t23/07/1990 12:00:00 AM\\t0\\t0\\t\\t\\t\\t\\t\\t0\\t0\\n',\n",
       "  'Disaster\\tNatural\\tMeteorological - Hydrological\\tWildfire\\tOld Crow YT\\t20/07/1990 12:00:00 AM\\tOld Crow YT, July 20, 1990. Fires threatened the community of Old Crow, north of Inuvik, requiring the evacuation of the community residents.\\t0\\t0\\t210\\t7925848\\t606570\\t20/07/1990 12:00:00 AM\\t\\t\\t7591444\\t334404\\t\\t\\t\\t0\\t0\\n',\n",
       "  \"Incident\\tConflict\\tCivil Incident\\tDisturbance / Demonstrations\\tOka QC\\t11/07/1990 12:00:00 AM\\tOka QC, July 11, 1990. Members of the militant Mohawk Warrior's Society set up roadblocks over a dispute involving Mohawk claims to land being used for expansion of the Oka golf club; this led, on July 11, 1990, to the death of a QPP officer during a failed assault on the barricades and the blocking of the Mercier Bridge near Chateauguay, southwest of Montréal, Québec; the army was called in to handle the situation; the stand-off continued all summer with attention focused on the Kahnesatake reserve at Oka and the Kahnawake reserve near Chateauguay; the crisis gave rise to native protests and sympathy blockades across Canada; the crisis came to an end when a group of Mohawk warriors holed up in a treatment centre in Kahnesatake surrendered to the army on Sept. 26, ending the 78-day stand-off. 10,000 people were evacuated.\\t1\\t0\\t10000\\t\\t\\t26/09/1990 12:00:00 AM\\t\\t\\t\\t\\t\\t\\t\\t0\\t0\\n\",\n",
       "  'Disaster\\tNatural\\tMeteorological - Hydrological\\tStorms and Severe Thunderstorms\\tCalgary AB\\t09/07/1990 12:00:00 AM\\tCalgary AB, July 9, 1990.\\t0\\t0\\t0\\t19295404\\t1476689.1\\t09/07/1990 12:00:00 AM\\t\\t\\t3016404\\t\\t\\t16279000\\t\\t0\\t0\\n',\n",
       "  'Disaster\\tNatural\\tGeological\\tLandslide\\tJoe Rich and Southern British Columbia\\t12/06/1990 12:00:00 AM\\tJoe Rich and Southern British Columbia, June 12, 1990. 3 dead. debris avalanche caused by heavy rains and flooding; washouts and mudslides closed sections of three highways (Highways 5, 33, 97) and reduced the TransCanada Highway to one lane near Revelstoke, British Columbia; four homes were destroyed by a mudslide 16 km east of Enderby; three houses were destroyed at Stoner Creek; 2 people died 10 km south of Vavenby caught in a mudslide; 2 others died in a demolished house 30 km southeast of Kelowna, also due to a mudslide.\\t7\\t0\\t0\\t18208847\\t1393534.2\\t12/06/1990 12:00:00 AM\\t4355578\\t5654135\\t8199134\\t\\t\\t\\t\\t0\\t0\\n',\n",
       "  'Disaster\\tNatural\\tMeteorological - Hydrological\\tFlood\\tWestern Alberta\\t25/05/1990 12:00:00 AM\\tWestern Alberta, May 25 - July 4, 1990. Heavy rains caused extensive flooding and runoff damage in a number of communities in Alberta during several separate periods. Rains fell from Peace River in the north to High River in the South. Flooding caused damage to public works, businesses, First Nation reserves, farmland, and extensive damage of private residences. Sewers backed up, roads and bridges washed out. The communities most affected were: Thorsby, Winfield, Calman, Mudhurst and Bentley. During late May, several rivers were 1.3-3m above their normal level and  on July 2-3, 100150 mm of rain fell on Central Alberta in 36 hours. Over 200 homes were damaged by flooding, and 4 were destroyed. 1 man drowned while crossing a river, and a woman was missing. * During the two week time period, approximately 34 families and 85 people were evacuated.\\t1\\t0\\t221\\t22147336\\t1694949.2\\t04/07/1990 12:00:00 AM\\t8229503\\t6395393\\t7522440\\t\\t\\t\\t\\t0\\t0\\n',\n",
       "  'Incident\\tTechnology\\tHazardous Chemicals\\tFire\\tSt.-Amable QC\\t16/05/1990 12:00:00 AM\\tSt.-Amable QC, May 16-19, 1990. A fire started accidentally in a pile of 3.5 million tires and took three days to extinguish; as with Hagersville (see 1990.006), the environmental pollution aspects of the emergency dominated the media coverage of the fire; the fire was extinguished with sand.  [The Environment Canada accident report states that the fire was controlled after five days using 14,000 tonnes of sand; 150 people were evacuated and 150 others were confined to their homes for two days; the plume of smoke was visible at 80 km]\\t0\\t0\\t150\\t\\t\\t19/05/1990 12:00:00 AM\\t\\t\\t\\t\\t\\t\\t\\t0\\t0\\n',\n",
       "  'Incident\\tTechnology\\tHazardous Chemicals\\tFire\\tSainte-Anne des Plaines QC\\t23/04/1990 12:00:00 AM\\tSainte-Anne des Plaines QC, April 23, 1990. 50,000 tires on fire; likely arson; the fire was extinguished in 48 hours using earth from surrounding ditches; contamination of the area with toxic chemicals (benzene, toluene, xylene, etc.) caused the interruption of drinking water to 20 houses.\\t0\\t0\\t0\\t\\t\\t23/04/1990 12:00:00 AM\\t\\t0\\t0\\t\\t\\t\\t\\t0\\t0\\n',\n",
       "  'Incident\\tTechnology\\tHazardous Chemicals\\tMarine Release\\tLa Baie QC\\t19/03/1990 12:00:00 AM\\tLa Baie QC, March 19, 1990. The by-products of aluminium manufacturing were being loaded onto a Norwegian ship when a pocket of gas was released and caused a serious explosion; two sailors were killed, one seriously injured, and 11 by-standers were also injured.\\t2\\t12\\t0\\t\\t\\t19/03/1990 12:00:00 AM\\t\\t\\t\\t\\t\\t\\t\\t0\\t0\\n',\n",
       "  'Incident\\tTechnology\\tHazardous Chemicals\\tMarine Release\\tVancouver Harbour BC\\t23/02/1990 12:00:00 AM\\tVancouver Harbour BC, February 23, 1990. Two ships collided in fog causing a spill of 40 tonnes of marine diesel oil; pollution affected 1.5 km of shore and 1 ha of water, killing 65 birds; 225 other birds were rescued through clean-up efforts.\\t0\\t0\\t0\\t\\t\\t23/02/1990 12:00:00 AM\\t\\t\\t\\t\\t\\t\\t\\t0\\t0\\n',\n",
       "  'Incident\\tConflict\\tArson\\tNon-Residential\\tHagersville ON\\t12/02/1990 12:00:00 AM\\tHagersville ON, February 12, 1990. A fire was set by arsonists in a pile of 14 million used tires; the fire took 17 days to extinguish; the toxic runoff from the melting tires and the fear of toxins in the oily smoke became a prime focus for media attention. The Environment Canada accident report states that 1700 people were evacuated in a radius of 4 km for 17 days; the fire created 20,000 m³ of solid waste and contaminated an area of 4.5 ha with 12 to 50 m³ of floating liquid residue; 25 people were deprived of drinking water for 3 months.\\t0\\t0\\t1700\\t\\t\\t28/02/1990 12:00:00 AM\\t\\t\\t\\t\\t\\t\\t\\t0\\t0\\n',\n",
       "  'Disaster\\tNatural\\tMeteorological - Hydrological\\tAvalanche\\tBanff AB\\t11/02/1990 12:00:00 AM\\tBanff AB, February 11, 1990. Four people from Calgary were killed by an avalanche while cross-country skiing in Banff National Park.\\t4\\t0\\t0\\t\\t\\t11/02/1990 12:00:00 AM\\t0\\t0\\t\\t\\t\\t\\t\\t0\\t0\\n',\n",
       "  'Disaster\\tNatural\\tMeteorological - Hydrological\\tDrought\\tPrairie Provinces\\t01/01/1990 12:00:00 AM\\tPrairie Provinces, 1990. Cereal crop drought occurred in parts of the Prairies.\\t0\\t0\\t0\\t581891545\\t44532516.2\\t01/01/1990 12:00:00 AM\\t\\t\\t204155713\\t\\t377735832\\t\\t\\t0\\t0\\n',\n",
       "  'Disaster\\tNatural\\tGeological\\tEarthquake\\tUngava Peninsula QC\\t25/12/1989 12:00:00 AM\\tUngava Peninsula QC, December 25, 1989. The first earthquake in eastern North America to have produced surface faulting.  Magnitude: 6.3\\t0\\t0\\t0\\t\\t\\t25/12/1989 12:00:00 AM\\t0\\t0\\t\\t\\t\\t\\t\\t0\\t6\\n',\n",
       "  \"Disaster\\tNatural\\tMeteorological - Hydrological\\tCold Event\\tBritish Columbia to Ontario\\t18/12/1989 12:00:00 AM\\tBritish Columbia to Ontario, December 1989 Ã‚Â– January 1990. Two serious cold spells began on December 19-28, 1989; snow, wind, and ice knocked out power lines to 60,000 homes in southwestern British Columbia on January 17; 5 deaths in Manitoba were caused by exposure to the extreme cold; 2 deaths due to fatal accidents in Alberta; freezing caused pipes to burst in Ontario. Almost 65% of the BC's utilities 16,980,000 cubic metres reserve used up.\\t7\\t0\\t0\\t536488\\t43033.8\\t17/01/1990 12:00:00 AM\\t\\t\\t536488\\t\\t\\t\\t\\t0\\t0\\n\",\n",
       "  \"Incident\\tTechnology\\tHazardous Chemicals\\tDerailment Release\\tSaint-Léonard d'Aston QC\\t12/12/1989 12:00:00 AM\\tSaint-Léonard d'Aston QC, December 12, 1989. 33 of the 92 cars that made up the train from Charny, bound for Montréal, left the track near the town of Saint-Léonard d'Aston; 100m of track was torn-up, two homes severely damaged, a level crossing completely blocked; 15 of the derailed cars carried hazardous materials; 840 people were evacuated.  [The Environment Canada accident report states that 13 rail cars derailed, releasing 200 m³ of 50% soda and 100 m³ of lubricating oil into the Nicollet River; 75 people were evacuated; an area of 1 km² was contaminated; retrieval of drinking water from the river for 5065 people was interrupted for 10 hours]\\t0\\t0\\t840\\t\\t\\t12/12/1989 12:00:00 AM\\t0\\t0\\t\\t\\t\\t\\t\\t0\\t0\\n\",\n",
       "  'Disaster\\tNatural\\tMeteorological - Hydrological\\tStorms and Severe Thunderstorms\\tGulf of St. Lawrence QC\\t07/12/1989 12:00:00 AM\\tGulf of St. Lawrence QC, December 7, 1989.  Two ships, \"Johanna B\" and \"Capitaine Torres\", about 200 km apart, sank shortly after issuing distress calls during a brutal storm.  All 39 seamen aboard the two ships went missing and were presumed dead.\\t39\\t0\\t0\\t\\t\\t07/12/1989 12:00:00 AM\\t0\\t0\\t\\t\\t\\t\\t\\t0\\t0\\n',\n",
       "  'Disaster\\tNatural\\tMeteorological - Hydrological\\tFlood\\tSouthwestern British Columbia\\t08/11/1989 12:00:00 AM\\tSouthwestern British Columbia, November 8-12, 1989. A rainstorm which caused flooding occurred in southwestern British Columbia. Over 500 homes were flooded, a salmon hatchery incurred damage, and many service roads were washed away. Parts of the TransCanada highway were blocked with mudslides. The flooding also caused damage to the Coquihala highway and to the Owekena First Nation reserve; 28 residents of this reserve were evacuated.\\t0\\t0\\t28\\t3146918\\t252426.6\\t12/11/1989 12:00:00 AM\\t54716\\t3092202\\t\\t\\t\\t\\t\\t0\\t0\\n',\n",
       "  'Incident\\tTechnology\\tHazardous Chemicals\\tVehicle Release\\tSudbury ON\\t02/10/1989 12:00:00 AM\\tSudbury ON, October 2, 1989. A vehicle collision caused a transport truck carrying 42 tonnes of sulphuric acid to crash into a ditch; the tank was punctured by a rock, causing 30 tonnes of acid to be released; neutralization of the acid and a clean-up operation were required; two occupants of the vehicle were killed, the truck driver was injured.\\t2\\t1\\t0\\t\\t\\t02/10/1989 12:00:00 AM\\t0\\t0\\t\\t\\t\\t\\t\\t0\\t0\\n',\n",
       "  'Incident\\tTechnology\\tHazardous Chemicals\\tVehicle Release\\tSaint-Jacques QC\\t29/09/1989 12:00:00 AM\\tSaint-Jacques QC, September 29, 1989. A highway collision between a car and transport truck containing ethylene glycol resulted in 9100 kg of the product spilling into a river below the road, causing serious pollution; the driver of the car was killed and the truck driver injured.\\t1\\t1\\t0\\t\\t\\t29/09/1989 12:00:00 AM\\t0\\t0\\t\\t\\t\\t\\t\\t0\\t0\\n',\n",
       "  'Incident\\tTechnology\\tHazardous Chemicals\\tVehicle Release\\tOttawa ON\\t12/09/1989 12:00:00 AM\\tOttawa ON, September 12, 1989. The driver of a tank truck carrying 57 m³ of gasoline lost control and crashed into a public transport bus; both the truck and bus were destroyed by fire, and 40 m³ of gasoline were released; the only casualty was the truck driver who was killed.\\t1\\t0\\t0\\t\\t\\t12/09/1989 12:00:00 AM\\t0\\t0\\t\\t\\t\\t\\t\\t0\\t0\\n',\n",
       "  'Disaster\\tNatural\\tMeteorological - Hydrological\\tHurricane / Typhoon / Tropical Storm\\tNova Scotia\\t10/09/1989 12:00:00 AM\\tNova Scotia, September 10, 1989. Hurricane \"Gabrielle\" battered the coast of Nova Scotia with 6 to 9 metre swells and winds gusting to 150 km/h; one man was killed when a huge wave swept him into the ocean.\\t1\\t0\\t0\\t\\t\\t10/09/1989 12:00:00 AM\\t0\\t0\\t\\t\\t\\t\\t\\t0\\t0\\n',\n",
       "  'Disaster\\tNatural\\tMeteorological - Hydrological\\tStorms and Severe Thunderstorms\\tGrande Prairie AB\\t23/08/1989 12:00:00 AM\\tGrande Prairie AB, August-October 1989. Heavy rainfall occurred over the northwest region of Alberta in late August 1989 and caused flooding. Rains continued on in September and October, making it hard for farmers to harvest their crops.\\t0\\t0\\t0\\t\\t\\t18/10/1989 12:00:00 AM\\t0\\t0\\t\\t\\t\\t\\t\\t0\\t0\\n',\n",
       "  \"Disaster\\tNatural\\tMeteorological - Hydrological\\tWildfire\\tRadisson QC\\t22/07/1989 12:00:00 AM\\tRadisson QC, July 22, 1989. Forest fires caused the evacuation of 300 people from Radisson to Montréal and Val d'Or.\\t0\\t0\\t300\\t\\t\\t22/07/1989 12:00:00 AM\\t0\\t0\\t\\t\\t\\t\\t\\t0\\t0\\n\",\n",
       "  'Disaster\\tNatural\\tMeteorological - Hydrological\\tFlood\\tHarrow, Kent, Essex, Leamington counties ON\\t19/07/1989 12:00:00 AM\\tHarrow and Colchester South, Essex County ON, July 19-20, 1989. Widespread flooding due to 450 mm of rain in a 30-hour period; the rainfall was from an intense thunderstorm which was centred over Colchester South and appeared to be stationary over Harrow for most of its duration. Many were evacuated from areas of extreme flooding and erosion; a few injuries were reported, no deaths; utility service in some areas was disrupted.  Kent and Leamington counties were also affected.\\t0\\t0\\t0\\t13807000\\t1107513.4\\t20/07/1989 12:00:00 AM\\t0\\t0\\t\\t\\t\\t13807000\\t\\t0\\t0\\n',\n",
       "  'Disaster\\tNatural\\tMeteorological - Hydrological\\tTornado\\tMontmartre SK\\t01/07/1989 12:00:00 AM\\tMontmartre SK, July 1989. The Canadian Red Cross assisted the victims.\\t0\\t0\\t0\\t\\t\\t01/07/1989 12:00:00 AM\\t0\\t0\\t\\t\\t\\t\\t\\t0\\t0\\n',\n",
       "  'Disaster\\tNatural\\tMeteorological - Hydrological\\tWildfire\\tNorthern Manitoba\\t11/05/1989 12:00:00 AM\\tNorthern MB, May-September 1989. One of the worst forest fires in Canadian history raged across northern Manitoba forcing the evacuation of roughly 25,000 people in approximately 25 communities; many were airlifted to Winnipeg. In 1989, Manitoba experienced 1,229 forest fires.\\t0\\t0\\t25000\\t18489862\\t1483144\\t20/09/1989 12:00:00 AM\\t14174906\\t4314956\\t\\t\\t\\t\\t\\t0\\t0\\n',\n",
       "  'Disaster\\tNatural\\tMeteorological - Hydrological\\tFlood\\tLiard River NT\\t01/05/1989 12:00:00 AM\\tLiard River NT, May 1-9, 1989. Flooding, caused by severe ice jams near 3 Mile Island, damaged the community of Fort Liard.  A State of Emergency was declared on May 1 due to the high water levels, 1 m in some areas.  Water built up when the ice jam reached Fort Simpson and the town of Hay River was also damaged. Personal, municipal and territorial property was damaged, riverbanks were eroded. Over 50 homes were affected by the flooding and 125 people were evacuated, there was no loss of life.\\t0\\t0\\t125\\t1094778\\t87816.4\\t09/05/1989 12:00:00 AM\\t852700\\t242078\\t\\t\\t\\t\\t\\t0\\t0\\n',\n",
       "  'Disaster\\tNatural\\tMeteorological - Hydrological\\tGeomagnetic Storm\\tProvince of Quebec\\t13/03/1989 12:00:00 AM\\tProvince of Quebec, March 13, 1989.  A geomagnetic solar storm caused a transformer failure on one of the main power transmission lines in the Hydro Quebec system and commenced the collapse of the entire power grid. The province was without power for over nine hours. Hydro Quebec  experienced material damages of $6.5M.\\t\\t\\t\\t\\t\\t13/03/1989 12:00:00 AM\\t\\t\\t\\t\\t\\t\\t\\t6925128\\t\\n',\n",
       "  'Incident\\tTechnology\\tTransportation accident\\tAir\\tDryden ON\\t10/03/1989 12:00:00 AM\\tDryden ON, March 10, 1989. 24 dead, 45 injured: an Air Ontario  F-28 passenger plane crashed shortly after take-off from a scheduled stop in Dryden.\\t24\\t45\\t0\\t\\t\\t10/03/1989 12:00:00 AM\\t0\\t0\\t\\t\\t\\t\\t\\t0\\t0\\n',\n",
       "  'Disaster\\tNatural\\tMeteorological - Hydrological\\tCold Event\\tYukon to Ontario\\t30/01/1989 12:00:00 AM\\tYukon to Ontario, January 30, 1989. Freezing caused pipes to burst in British Columbia; 30.5 cm of snow in one day in Edmonton and the temperature plummeted from +3°C to -26°C in 7 hours; 13 weather related deaths; 8 died in Alberta, 2 motorists died due to icy roads in British Columbia, and 3 farmers froze to death in Saskatchewan; there were 28 frostbite victims in Calgary; 20,000 were affected in a power failure in British Columbia; pipes burst, schools closed down, ferries were cancelled, roads closed, and airports were shutdown; 100 frostbite cases were reported in Calgary; extensive agricultural damage was caused.\\t13\\t100\\t0\\t\\t\\t30/01/1989 12:00:00 AM\\t0\\t0\\t\\t\\t\\t\\t\\t0\\t0\\n',\n",
       "  'Disaster\\tNatural\\tMeteorological - Hydrological\\tDrought\\tPrairie Provinces\\t01/01/1989 12:00:00 AM\\tPrairie Provinces, 1989. Cereal crop drought occurred in parts of the Prairies; severe and widespread surface water droughts reported on the Prairies.\\t0\\t0\\t0\\t0\\t0\\t01/01/1989 12:00:00 AM\\t0\\t0\\t\\t\\t\\t\\t\\t0\\t0\\n',\n",
       "  'Incident\\tTechnology\\tHazardous Chemicals\\tFire\\tDundas ON\\t01/01/1989 12:00:00 AM\\tDundas ON, 1989. 200 evacuated.\\t0\\t0\\t200\\t\\t\\t01/01/1989 12:00:00 AM\\t0\\t0\\t\\t\\t\\t\\t\\t0\\t0\\n',\n",
       "  'Incident\\tTechnology\\tHazardous Chemicals\\tDerailment Release\\tSarnia ON\\t01/01/1989 12:00:00 AM\\tSarnia ON, 1989. Train derailment releasing dangerous goods; 250 evacuated.\\t0\\t0\\t250\\t\\t\\t01/01/1989 12:00:00 AM\\t0\\t0\\t\\t\\t\\t\\t\\t0\\t0\\n',\n",
       "  'Disaster\\tNatural\\tMeteorological - Hydrological\\tFlood\\tAlbany and Attawapiskat River ON\\t01/01/1989 12:00:00 AM\\tAlbany and Attawapiskat Rivers ON, 1989. 1000 evacuated.\\t0\\t0\\t1000\\t\\t\\t01/01/1989 12:00:00 AM\\t0\\t0\\t\\t\\t\\t\\t\\t0\\t0\\n',\n",
       "  'Incident\\tTechnology\\tHazardous Chemicals\\tFire\\tNiagara Falls ON\\t01/01/1989 12:00:00 AM\\tNiagara Falls ON, 1989. 100 evacuated.\\t0\\t0\\t100\\t\\t\\t01/01/1989 12:00:00 AM\\t0\\t0\\t\\t\\t\\t\\t\\t0\\t0\\n',\n",
       "  'Incident\\tTechnology\\tHazardous Chemicals\\tFire\\tCourtland ON\\t17/12/1988 12:00:00 AM\\tCourtland ON, December 17, 1988. A fire of unknown origin swept through a series of fertiliser warehouses of an agricultural co-operative but was under control before reaching a neighbouring gas station; about 245 tonnes of the chemicals were destroyed; 500 people within a 1.5 km radius were evacuated for 7 hours; two warehouses were destroyed; concentrations of pollutants in the air and water were minimal (trace).\\t0\\t0\\t500\\t\\t\\t17/12/1988 12:00:00 AM\\t0\\t0\\t\\t\\t\\t\\t\\t0\\t0\\n',\n",
       "  'Disaster\\tNatural\\tGeological\\tEarthquake\\tSaguenay region QC\\t25/11/1988 12:00:00 AM\\tSaguenay region QC, November 25, 1988. Some minor damage was caused at Jonquière, Chicoutimi, La Baie and Québec City.  Magnitude: 6.0.\\t0\\t0\\t0\\t37970666\\t3199775.2\\t25/11/1988 12:00:00 AM\\t20891999\\t17078667\\t\\t\\t\\t\\t\\t0\\t6\\n',\n",
       "  'Incident\\tTechnology\\tHazardous Chemicals\\tFire\\tSaint-Basile-le-Grand QC\\t23/08/1988 12:00:00 AM\\tSaint-Basile-le-Grand QC, August 23, 1988. A fire broke out in a warehouse containing 84.8 m³ of toxic solid and liquid wastes containing PCBs; nearly 5000 people were evacuated for 17 days over an area of 14 km²; agricultural produce was destroyed over an area of 750 km² as a safety precaution.\\t0\\t0\\t5000\\t26931008\\t2269467\\t23/08/1988 12:00:00 AM\\t11897256\\t15033752\\t\\t\\t\\t\\t\\t0\\t0\\n',\n",
       "  'Disaster\\tNatural\\tMeteorological - Hydrological\\tStorms and Severe Thunderstorms\\tCalgary AB\\t16/08/1988 12:00:00 AM\\tCalgary AB, August 16, 1988. Thunderstorms caused major flooding with 40 to 200 mm of rain falling in different locations. Up to 5 cm of hail also fell in the southern part of Calgary.  Streets turned into rivers and left many motorists stranded.  Individuals, small businesses, farmers and government property were damaged. Approximately 400 homes were affected by sewer backup, 50 had damage due to surface water flooding. There were 3,000 property damage claims and 2,000 automobile claims.\\t0\\t0\\t0\\t39827872\\t3356281.3\\t16/08/1988 12:00:00 AM\\t156086\\t2544786\\t\\t\\t\\t37127000\\t\\t0\\t0\\n',\n",
       "  'Disaster\\tNatural\\tMeteorological - Hydrological\\tHeat Event\\tOntario and Manitoba\\t05/07/1988 12:00:00 AM\\tCentral and Southern ON and Manitoba, July 5-11, 1988; 14 elderly people died in Ontario of heat related factors.   Toronto on July 7 had a high of 37.2°C (hottest day since 1953). Six afternoon highs >35°C; air pollution levels soared, power and water consumption soared to record levels.  On July 28 rotating black-outs eased the power drain with the potential of a complete power failure.  Ice companies were overwhelmed with order and quickly sold out.  Great Lakes water levels the lowest in more than a decade, with an expected further drop of 12.5 cm. Manitoba Hydro losses were $100 million in 1988; QB hydro cut sales to ON and US by 25%.\\t14\\t0\\t0\\t\\t\\t11/07/1988 12:00:00 AM\\t0\\t0\\t\\t\\t\\t\\t\\t128169014\\t0\\n',\n",
       "  'Disaster\\tNatural\\tMeteorological - Hydrological\\tFlood\\tLesser Slave Lake region AB\\t05/07/1988 12:00:00 AM\\tLesser Slave Lake area AB, July 5-8, 1988. A severe rainstorm which started on July 5 1988, brought up to 160 mm of rain to the Town of Slave Lake and surrounding areas. This caused overbank flooding and log jams on Sawridge Creek, Driftpile River and Swan River. Individuals, small businesses, farms, a hospital, and government property sustained damage. Major highways north of Edmonton to Slave Lake were closed. Over 800 homes flooded, 500 of them severely damaged. Approximately 2800 residents were evacuated from the area.\\t0\\t0\\t2800\\t35296621\\t2974434.4\\t08/07/1988 12:00:00 AM\\t7787911\\t6008710\\t\\t\\t\\t21500000\\t\\t0\\t0\\n',\n",
       "  'Disaster\\tNatural\\tMeteorological - Hydrological\\tFlood\\tNorman Wells NT\\t29/06/1988 12:00:00 AM\\tNorman Wells NT, June 29 - July 3 and July 11-15, 1988. Two severe flood events occurred in the Laird and Mackenzie River Basins of southwestern Northwest Territories.\\t0\\t0\\t0\\t\\t\\t29/06/1988 12:00:00 AM\\t0\\t0\\t\\t\\t\\t\\t\\t0\\t0\\n',\n",
       "  'Disaster\\tNatural\\tMeteorological - Hydrological\\tFlood\\tCentral and Southern Alberta\\t28/06/1988 12:00:00 AM\\tCentral and Southern AB, June 28-29, 1988.\\t0\\t0\\t0\\t\\t\\t29/06/1988 12:00:00 AM\\t0\\t0\\t\\t\\t\\t\\t\\t0\\t0\\n',\n",
       "  'Disaster\\tNatural\\tMeteorological - Hydrological\\tStorm - Unspecified / Other\\tLouiseville, Yamachiche and St.-Justin Region of Trois-Rivières QC\\t20/06/1988 12:00:00 AM\\tLouiseville, Yamachiche and St.-Justin Region of Trois-Rivières QC, June 20, 1988. A storm system created violent winds which destroyed several houses and caused damage to telephone lines, businesses and agricultural lands.\\t0\\t0\\t0\\t\\t\\t20/06/1988 12:00:00 AM\\t0\\t0\\t\\t\\t\\t\\t\\t0\\t0\\n',\n",
       "  'Disaster\\tNatural\\tMeteorological - Hydrological\\tFlood\\tLethbridge, Taber, Irma and Wainwright AB\\t04/06/1988 12:00:00 AM\\tLethbridge, Taber, Irma and Wainwright AB, June 4-11, 1988. Flooding due to severe weather.\\t0\\t0\\t0\\t\\t\\t11/06/1988 12:00:00 AM\\t0\\t0\\t\\t\\t\\t\\t\\t0\\t0\\n',\n",
       "  'Incident\\tTechnology\\tHazardous Chemicals\\tLeak / Spill Release\\tSarnia ON\\t24/05/1988 12:00:00 AM\\tSarnia ON, May 24, 1988. An electrical breakdown caused the accidental release of 9.6 tonnes of acrylonitryle into the St. Clair River; maximum concentration limits were detected, and the collection of drinking water from the river was stopped for two days.\\t0\\t0\\t0\\t\\t\\t24/05/1988 12:00:00 AM\\t0\\t0\\t\\t\\t\\t\\t\\t0\\t0\\n',\n",
       "  'Incident\\tTechnology\\tHazardous Chemicals\\tDerailment Release\\tLinton QC\\t10/05/1988 12:00:00 AM\\tLinton QC, May 10, 1988. A train derailed due to the collapse of the track in a section where the supporting dike was washed out;  four cars released a total of 26 tonnes of heating oil into the Batiscan River; fish breeding operations were disrupted (change in the taste of the fish).\\t0\\t0\\t0\\t\\t\\t10/05/1988 12:00:00 AM\\t0\\t0\\t\\t\\t\\t\\t\\t0\\t0\\n',\n",
       "  'Incident\\tTechnology\\tHazardous Chemicals\\tMarine Release\\tSaint-Romuald QC\\t08/05/1988 12:00:00 AM\\tSaint-Romuald, near Québec Harbour QC, May 8, 1988. A major fuel spill occurred at a loading dock.\\t0\\t0\\t0\\t\\t\\t08/05/1988 12:00:00 AM\\t0\\t0\\t\\t\\t\\t\\t\\t0\\t0\\n',\n",
       "  'Disaster\\tNatural\\tMeteorological - Hydrological\\tFlood\\tDuck Mountain and Swan River MB\\t01/04/1988 12:00:00 AM\\tDuck Mountain and Swan River MB, April 1, 1988. A sudden thaw along with excessive rain produced severe flooding in the Duck Mountain-Swan River area of Manitoba. Damages occurred  to private, municipal and provincial property.\\t0\\t0\\t0\\t2323137\\t195770\\t01/04/1988 12:00:00 AM\\t619569\\t1703568\\t\\t\\t\\t\\t\\t0\\t0\\n',\n",
       "  'Incident\\tTechnology\\tHazardous Chemicals\\tMarine Release\\tCome by Chance NL\\t07/03/1988 12:00:00 AM\\tCome by Chance NL, March 7, 1988. A ship released a total of 80 m³ of oil in two consecutive spills;  the pollution affected one km of the shore and required a clean-up operation.\\t0\\t0\\t0\\t\\t\\t07/03/1988 12:00:00 AM\\t0\\t0\\t\\t\\t\\t\\t\\t0\\t0\\n',\n",
       "  'Disaster\\tNatural\\tMeteorological - Hydrological\\tFlood\\tNorthern British Columbia\\t01/01/1988 12:00:00 AM\\tNorthern British Columbia, 1988.\\t0\\t0\\t0\\t\\t\\t01/01/1988 12:00:00 AM\\t0\\t0\\t\\t\\t\\t\\t\\t0\\t0\\n',\n",
       "  'Disaster\\tNatural\\tMeteorological - Hydrological\\tWildfire\\tWhitedog Lake ON\\t01/01/1988 12:00:00 AM\\tWhitedog Lake ON, 1988. 500 evacuated.\\t0\\t0\\t500\\t\\t\\t01/01/1988 12:00:00 AM\\t0\\t0\\t\\t\\t\\t\\t\\t0\\t0\\n',\n",
       "  'Disaster\\tNatural\\tMeteorological - Hydrological\\tFlood\\tGoulais River ON\\t01/01/1988 12:00:00 AM\\tGoulais River ON, 1988.\\t0\\t0\\t0\\t\\t\\t01/01/1988 12:00:00 AM\\t0\\t0\\t\\t\\t\\t\\t\\t0\\t0\\n',\n",
       "  'Incident\\tTechnology\\tTransportation accident\\tMarine\\t400 km off Cape Race NL\\t17/11/1987 12:00:00 AM\\t400 km off Cape Race NL, 1987.  Spanish Fishing Trawler \"Hosanna I\" sinks in the Atlantic Ocean: 34 dead.\\t34\\t0\\t0\\t\\t\\t17/11/1987 12:00:00 AM\\t0\\t0\\t\\t\\t\\t\\t\\t0\\t0\\n',\n",
       "  'Incident\\tTechnology\\tHazardous Chemicals\\tDerailment Release\\tEmerson MB\\t01/10/1987 12:00:00 AM\\tEmerson MB, October 1987. A CN Rail propane tanker and two other cars derailed south of Emerson, forcing 300 area residents to evacuate.\\t0\\t0\\t300\\t\\t\\t01/10/1987 12:00:00 AM\\t0\\t0\\t\\t\\t\\t\\t\\t0\\t0\\n',\n",
       "  'Disaster\\tNatural\\tMeteorological - Hydrological\\tTornado\\tEdmonton AB\\t31/07/1987 12:00:00 AM\\tEdmonton AB, July 31, 1987. 27 dead, 600 injured, 1700 homeless; widespread heavy rainfall from a powerful tornado hit Edmonton on July 31,1987; 300 mm of rain fell in 3 days; the Smoky, Wapiti, Simonette, and Kakwa Rivers rose up to 7-8 metres in some areas; the tornado touched down in Edmonton and moved northeast; hailstorms were reported during the tornado; much of the damage was caused by hailstorms accompanying the tornado.\\t27\\t600\\t1700\\t181125959\\t15865047.5\\t31/07/1987 12:00:00 AM\\t19948463\\t12800496\\t\\t\\t\\t148377000\\t\\t0\\t0\\n',\n",
       "  'Disaster\\tNatural\\tMeteorological - Hydrological\\tFlood\\tMontreal QC\\t14/07/1987 12:00:00 AM\\tMontreal QC, July 14, 1987. The city experienced severe thunderstorms and intense rainfall with 100 mm of rain in 1 hour. Major expressways were flooded with over three metres of water; in 30 minutes the subterranean Decarie Expressway was flooded with 3.6 metres of water; the sewer system was backed up, flooding approximately 40,000 homes and businesses; the subway system was closed; 2 dead: one from drowning in his car and the other was electrocuted.  There was also a tornado caused by the severe thunderstorm which uprooted large trees and toppled hydro lines.\\t2\\t0\\t0\\t64216681\\t5624818.8\\t14/07/1987 12:00:00 AM\\t6473041\\t13065640\\t\\t\\t\\t44678000\\t\\t0\\t0\\n',\n",
       "  'Disaster\\tNatural\\tMeteorological - Hydrological\\tTornado\\tWinnipeg MB\\t06/07/1987 12:00:00 AM\\tWinnipeg MB, July 6, 1987. A thunderstorm caused at least 2 tornadoes in Winnipeg; strong winds and 40 mm of rain in two and a half hours caused flash flooding and resulted in considerable property damage.\\t0\\t0\\t0\\t\\t\\t06/07/1987 12:00:00 AM\\t0\\t0\\t\\t\\t\\t\\t\\t0\\t0\\n',\n",
       "  'Disaster\\tNatural\\tMeteorological - Hydrological\\tStorms and Severe Thunderstorms\\tMontreal QC\\t29/05/1987 12:00:00 AM\\tMontreal QC, May 29, 1987. The worst hailstorm on record in the province. Hailstones of 10-12 mm in diameter caused damage to trees, gardens, window glass, automobiles and roofs.\\t0\\t0\\t0\\t24891000\\t2180233.6\\t29/05/1987 12:00:00 AM\\t0\\t0\\t\\t\\t\\t24891000\\t\\t0\\t0\\n',\n",
       "  'Disaster\\tNatural\\tMeteorological - Hydrological\\tWildfire\\tValrita-Harty ON\\t13/05/1987 12:00:00 AM\\tValrita-Harty ON, 1987. Entire village of 800 evacuated due to wildfire.\\t0\\t0\\t800\\t\\t\\t13/05/1987 12:00:00 AM\\t0\\t0\\t\\t\\t\\t\\t\\t\\t0\\n',\n",
       "  'Disaster\\tNatural\\tMeteorological - Hydrological\\tFlood\\tLake St. Clair ON\\t04/04/1987 12:00:00 AM\\tLake St. Clair ON, April 4, 1987. A storm with northerly winds of almost 60 km/h caused severe flood damage along Lake St. Clair; 50 evacuated; lower floors were flooded in 100 homes.\\t0\\t0\\t50\\t\\t\\t04/04/1987 12:00:00 AM\\t0\\t0\\t\\t\\t\\t\\t\\t0\\t0\\n',\n",
       "  'Disaster\\tNatural\\tMeteorological - Hydrological\\tFlood\\tPerth-Andover NB\\t02/04/1987 12:00:00 AM\\tPerth-Andover NB, April 2, 1987. Serious damage occurred when an ice jam formed during snowmelt and heavy rainfall caused severe flooding; the railway bridge spanning the Saint John River was destroyed; 17 rail cars spilled mildly toxic water-soluble chemicals into the water; a State of Emergency was declared; mass evacuations were necessary.\\t0\\t0\\t300\\t7872284\\t689543.1\\t02/04/1987 12:00:00 AM\\t5660456\\t2211828\\t\\t\\t\\t\\t\\t0\\t0\\n',\n",
       "  'Disaster\\tNatural\\tMeteorological - Hydrological\\tFlood\\tSouthcentral Quebec\\t28/03/1987 12:00:00 AM\\tSouthcentral QC, late March-early April 1987. Heavy rains and melting snow caused spring flooding; damage was widespread due to the high water levels and landslides which were brought on by the heavy rain; transportation was disrupted and hundreds of people were evacuated; most damage occurred on Apr. 1 with conditions returning to normal Apr. 2 and 3; the Beaucé region south of Québec City was hit hard, as main roads were closed and homes were evacuated. The north shore of the St. Lawrence River east of Québec City experienced some landslides.\\t0\\t0\\t300\\t\\t\\t05/04/1987 12:00:00 AM\\t0\\t0\\t\\t\\t\\t\\t\\t0\\t0\\n',\n",
       "  'Disaster\\tNatural\\tMeteorological - Hydrological\\tAvalanche\\tBlue River BC\\t23/03/1987 12:00:00 AM\\tBlue River BC, March 23, 1987. An avalanche took the lives of 6 American heli-skiers and their Canadian guide.\\t7\\t0\\t0\\t\\t\\t23/03/1987 12:00:00 AM\\t0\\t0\\t\\t\\t\\t\\t\\t0\\t0\\n',\n",
       "  'Disaster\\tNatural\\tMeteorological - Hydrological\\tWinter Storm\\tEastern Ontario and Southwestern Quebec\\t24/12/1986 12:00:00 AM\\tEastern Ontario and Southwestern Quebec, December 24, 1986. 1 in 4 homes in Ottawa were left without electricity after 30 mm of freezing rain fell in 14 hours.\\t0\\t0\\t0\\t\\t\\t24/12/1986 12:00:00 AM\\t0\\t0\\t\\t\\t\\t\\t\\t0\\t0\\n',\n",
       "  'Disaster\\tNatural\\tMeteorological - Hydrological\\tWinter Storm\\tWinnipeg MB\\t07/11/1986 12:00:00 AM\\tWinnipeg MB, November 7, 1986. A major storm dumped 30 cm of snow on Winnipeg; winds gusting to 90 km/h produced severe blowing snow and zero visibility; 2 dead.\\t2\\t0\\t0\\t\\t\\t07/11/1986 12:00:00 AM\\t0\\t0\\t\\t\\t\\t\\t\\t0\\t0\\n',\n",
       "  'Incident\\tTechnology\\tFire\\tResidential\\tMontreal and Westmount QC\\t26/10/1986 12:00:00 AM\\tMontreal and Westmount QC, October 26, 1986. At 4:54 pm, a fire struck the 10th floor of the Plaza Alexis-Nihon office tower. It took 200 fire-fighters around 13 hours to stop the blaze.\\t0\\t0\\t0\\t\\t\\t26/10/1986 12:00:00 AM\\t0\\t0\\t\\t\\t\\t\\t\\t0\\t0\\n',\n",
       "  'Disaster\\tNatural\\tMeteorological - Hydrological\\tFlood\\tEast Central British Columbia\\t01/08/1986 12:00:00 AM\\tEast Central British Columbia, 1986. (Noeick River)\\t0\\t0\\t0\\t\\t\\t01/08/1986 12:00:00 AM\\t0\\t0\\t\\t\\t\\t\\t\\t0\\t0\\n',\n",
       "  'Disaster\\tNatural\\tMeteorological - Hydrological\\tFlood\\tSaskatchewan and Alberta\\t16/07/1986 12:00:00 AM\\tSaskatchewan and Alberta, July 16-24, 1986.  A flood occurred on the North Saskatchewan River, several of its tributaries and on tributaries of the Athabasca River.  On July 22 and 24, Battleford and Prince Albert respectively experienced flooding. The floods resulted from heavy precipitation in the mountains, foothills and Great Plains regions, compounded by high antecedent soil moisture conditions.  Crops were destroyed and farm buildings were damaged.  Hundreds of homes were flooded and severe erosion occurred in some communities causing road and bridge damage and several washouts.  The extensive flooding also caused an overflow in several municipal sewer systems leading to sewer collapse. The event resulted in one death. Refer to the Alberta entry for more information on this weather system.\\t1\\t0\\t0\\t17889807\\t1636262.8\\t24/07/1986 12:00:00 AM\\t9484477\\t8405330\\t\\t\\t\\t\\t\\t0\\t0\\n',\n",
       "  'Disaster\\tNatural\\tMeteorological - Hydrological\\tFlood\\tNorth-central Alberta\\t13/07/1986 12:00:00 AM\\tNorth-central Alberta, July 13-24, 1986. Very heavy precipitation caused the McLeod, Pembina, the Athabasca rivers and the North Saskatchewan River and its tributaries to overflow and flood the North Saskatchewan River valley in Edmonton (July 19) and hundreds of smaller communities. Extensive damage occurred in low-lying residential areas, agricultural lands, crops, farm property and buildings. Municipal and provincial infrastructure was also damaged. 1500 homes were damaged. Refer to the Saskatchewan entry for more information on this weather system.\\t0\\t0\\t0\\t12843964\\t1174752.8\\t24/07/1986 12:00:00 AM\\t6809368\\t6034596\\t\\t\\t\\t\\t\\t0\\t0\\n',\n",
       "  'Disaster\\tNatural\\tMeteorological - Hydrological\\tWildfire\\tWaswanipi reserve QC\\t02/06/1986 12:00:00 AM\\tWaswanipi Reserve QC, June 2, 1986. A major forest fire forced the evacuation of 500 people living on the Waswanipi reserve.\\t0\\t0\\t500\\t\\t\\t02/06/1986 12:00:00 AM\\t0\\t0\\t\\t\\t\\t\\t\\t0\\t0\\n',\n",
       "  'Incident\\tTechnology\\tHazardous Chemicals\\tFire\\tCanning NS\\t30/05/1986 12:00:00 AM\\tCanning NS, May 30, 1986. 500 evacuated; residents of the small farming community of Canning had to leave home after a chemical supplies warehouse caught fire and spewed hazardous fumes and smoke over the town.\\t0\\t0\\t500\\t\\t\\t30/05/1986 12:00:00 AM\\t0\\t0\\t\\t\\t\\t\\t\\t0\\t0\\n',\n",
       "  'Disaster\\tNatural\\tMeteorological - Hydrological\\tStorms and Severe Thunderstorms\\tMontreal QC\\t29/05/1986 12:00:00 AM\\tMontreal QC, May 29, 1986. Hail the size of golf balls/tennis balls (up to 8 cm in diameter) fell in Montréal.\\t0\\t0\\t0\\t45473000\\t4159115.9\\t29/05/1986 12:00:00 AM\\t0\\t0\\t\\t\\t\\t45473000\\t\\t0\\t0\\n',\n",
       "  'Disaster\\tNatural\\tMeteorological - Hydrological\\tFlood\\tWinisk ON\\t16/05/1986 12:00:00 AM\\tWinisk, Winisk River Northern ON, May 16, 1986.  Precipitation was nearly three times normal in the western James Bay area of northern Ontario in March and April; as the snowpack melted, ice jams formed on the Winisk River; the river then overflowed its banks and Winisk was inundated;  the isolation of the community, the magnitude of the flooding and a blizzard made rescue efforts difficult.  Of the 131 residents, almost all were airlifted to safety; two died; the community was virtually destroyed; a new town site was developed upstream at Peawanuk.\\t2\\t0\\t129\\t\\t\\t16/05/1986 12:00:00 AM\\t0\\t0\\t\\t\\t\\t\\t\\t0\\t0\\n',\n",
       "  'Disaster\\tNatural\\tMeteorological - Hydrological\\tWildfire\\tGrand Falls NL\\t15/05/1986 12:00:00 AM\\tGrand Falls NL, May 15-16, 1986. 1000 evacuated at Grand Falls; among the worst of a series of more than 100 Forest fires burning across Eastern Canada as a result of unseasonably warm, dry weather.\\t0\\t0\\t1000\\t\\t\\t16/05/1986 12:00:00 AM\\t0\\t0\\t\\t\\t\\t\\t\\t0\\t0\\n',\n",
       "  'Disaster\\tNatural\\tMeteorological - Hydrological\\tWildfire\\tUpper Gagetown and Burton NB\\t15/05/1986 12:00:00 AM\\tUpper Gagetown and Burton NB, May 15-16, 1986. 1000 evacuated between Upper Gagetown and Burton; among the worst of a series of more than 100 forest fires burning across Eastern Canada as a result of unseasonably warm, dry weather.\\t0\\t0\\t1000\\t\\t\\t16/05/1986 12:00:00 AM\\t0\\t0\\t\\t\\t\\t\\t\\t0\\t0\\n',\n",
       "  'Disaster\\tNatural\\tMeteorological - Hydrological\\tWinter Storm\\tSouthern Alberta\\t14/05/1986 12:00:00 AM\\tSouthern Alberta, May 14-15, 1986. A 2-day storm, described as the worst spring storm in living memory in Alberta, brought knee-deep snow and 80 km/h winds; dozens of communities were left without services.\\t0\\t0\\t0\\t\\t\\t15/05/1986 12:00:00 AM\\t0\\t0\\t\\t\\t\\t\\t\\t18270270\\t0\\n',\n",
       "  'Disaster\\tNatural\\tMeteorological - Hydrological\\tFlood\\tIcelandic River and Fisher River MB\\t01/04/1986 12:00:00 AM\\tIcelandic and Fisher Rivers MB, April-June 1986. Little warning preceded the flood on April 1, 1986, which continued on until the end of June. A sudden spring thaw and enormous amounts of rain caused this severe flooding throughout Manitoba. Extensive damage to private, municipal and provincial property was incurred. The areas surrounding Icelandic River and Fisher River were inundated, including Peguis and Fisher River First Nation reserves (148 people were evacuated from Peguis). Major areas affected were the Dauphin Region, Portage la Prairie and the Northern Interlake regions.\\t0\\t0\\t148\\t2893389\\t264639.2\\t30/06/1986 12:00:00 AM\\t908395\\t1984994\\t\\t\\t\\t\\t\\t0\\t0\\n',\n",
       "  'Disaster\\tNatural\\tMeteorological - Hydrological\\tFlood\\tSaint John River, between Simonds and Woodstock NB\\t01/04/1986 12:00:00 AM\\tSaint John River, between Simonds and Woodstock NB, April 1-4, 1986. Flooding occurred along sections of the Saint John River in early April 1986, due to ice jams; unusually warm weather contributed to rapid snowmelt and the breakup of river ice; several homes in Simonds were flooded and families had to be evacuated; a private airstrip was severely damaged with 3 light aircraft being submerged.\\t0\\t0\\t0\\t\\t\\t04/04/1986 12:00:00 AM\\t0\\t0\\t\\t\\t\\t\\t\\t0\\t0\\n',\n",
       "  'Incident\\tTechnology\\tHazardous Chemicals\\tDerailment Release\\tTimmins ON\\t31/03/1986 12:00:00 AM\\tTimmins ON, March 31, 1986. 4500-5000 evacuated; a railway tank car leaked thousands of litres of gasoline into storm sewers prompting an evacuation. The gas fumes resulted in several explosions and the destruction of two homes.\\t0\\t0\\t5000\\t\\t\\t31/03/1986 12:00:00 AM\\t0\\t0\\t\\t\\t\\t\\t\\t0\\t0\\n',\n",
       "  'Disaster\\tNatural\\tMeteorological - Hydrological\\tFlood\\tRiviere Chaudière QC\\t30/03/1986 12:00:00 AM\\tRivière Chaudière QC, March 30 - April 1, 1986. Communities along the Rivière Chaudière experienced flooding during the 1986 spring thaw; heavy rain and ice jams contributed to flooding which forced about 750 people to evacuate; an estimated 460 businesses and homes were flooded along the river; the communities of Saint-Georges, Beauceville, Saint-Joseph, Sainte-Marie, Scott, Breakeyville, Saint-Étienne, and Saint-Lambert were directly affected by the flood.\\t0\\t0\\t750\\t\\t\\t01/04/1986 12:00:00 AM\\t0\\t0\\t\\t\\t\\t\\t\\t0\\t0\\n',\n",
       "  'Incident\\tTechnology\\tTransportation accident\\tRail\\tHinton AB\\t08/02/1986 12:00:00 AM\\tHinton AB, February 8, 1986. 23 dead: 71 injured. A westbound CN freight train collided with an eastbound VIA Rail passenger train on the CN main line, 17.6 kilometres east of Hinton.\\t23\\t71\\t0\\t\\t\\t08/02/1986 12:00:00 AM\\t0\\t0\\t\\t\\t\\t\\t\\t0\\t0\\n',\n",
       "  'Incident\\tTechnology\\tHazardous Chemicals\\tFire\\tStoney Creek ON\\t21/01/1986 12:00:00 AM\\tStoney Creek ON, 1986. Required the evacuation of 1000 residents due to a fire in an insecticide plant.\\t0\\t0\\t1000\\t\\t\\t21/01/1986 12:00:00 AM\\t0\\t0\\t\\t\\t\\t\\t\\t0\\t0\\n',\n",
       "  'Disaster\\tNatural\\tMeteorological - Hydrological\\tDrought\\tPrairie Provinces\\t01/01/1986 12:00:00 AM\\tPrairie Provinces, 1986. Severe and widespread surface water droughts reported on the Prairies.\\t0\\t0\\t0\\t0\\t0\\t01/01/1986 12:00:00 AM\\t0\\t0\\t\\t\\t\\t\\t\\t0\\t0\\n',\n",
       "  'Disaster\\tNatural\\tGeological\\tLandslide\\tBrantford ON\\t01/01/1986 12:00:00 AM\\tBrantford ON, 1986.\\t0\\t0\\t0\\t\\t\\t01/01/1986 12:00:00 AM\\t0\\t0\\t\\t\\t\\t\\t\\t0\\t0\\n',\n",
       "  \"Incident\\tTechnology\\tTransportation accident\\tAir\\tGander NL\\t12/12/1985 12:00:00 AM\\tGander NL, December 12, 1985. 256 dead (248 American soldiers and an crew of eight): a chartered DC-8 crashed seconds after take-off from a refuelling stop from Newfoundland's Gander International Airport: all aboard perished.\\t256\\t0\\t0\\t\\t\\t12/12/1985 12:00:00 AM\\t0\\t0\\t\\t\\t\\t\\t\\t0\\t0\\n\",\n",
       "  'Disaster\\tNatural\\tMeteorological - Hydrological\\tFlood\\tLake Huron and Lake Erie ON\\t02/12/1985 12:00:00 AM\\tLake Huron and Lake Erie ON, December 2, 1985. A storm with winds gusting up to 100 km/h severely affected shorelines with western exposures; erosion occurred on Lake Huron; on the eastern end of Lake Erie, cottages were destroyed; property and shore protection structures were damaged.\\t0\\t0\\t0\\t\\t\\t02/12/1985 12:00:00 AM\\t0\\t0\\t\\t\\t\\t\\t\\t0\\t0\\n',\n",
       "  'Disaster\\tNatural\\tMeteorological - Hydrological\\tWildfire\\tNortheast of Vancouver BC\\t01/07/1985 12:00:00 AM\\tNortheast of Vancouver BC, July 1985.  During the same year, the Prairie provinces were struck with a severe drought (see 1985.002). During July, in northeast of Vancouver; a forest fire destroyed half a million acres of timberland.  One of the worst forest fires seasons on record.  Greater than 240,000 hectares of prime forest land burned.  More than 6,300 fire-fighters battling blazes.  The number of fires recorded in BC in 1985 were 3604.\\t0\\t0\\t0\\t\\t\\t01/07/1985 12:00:00 AM\\t0\\t0\\t\\t\\t\\t\\t\\t0\\t0\\n',\n",
       "  'Incident\\tConflict\\tTerrorist\\tBomb Attacks\\tNorth Atlantic near west coast of Ireland\\t23/06/1985 12:00:00 AM\\tIreland (west coast), June 23, 1985. 329 dead (280 Canadians): Air India flight 182 en route from Toronto to India crashed in the North Atlantic: the crash was caused by a terrorist bomb.\\t329\\t0\\t0\\t\\t\\t23/06/1985 12:00:00 AM\\t0\\t0\\t\\t\\t\\t\\t\\t0\\t0\\n',\n",
       "  'Disaster\\tNatural\\tMeteorological - Hydrological\\tTornado\\tHopeville to Barrie ON\\t31/05/1985 12:00:00 AM\\tHopeville to Barrie ON, May 31, 1985; 12 dead, hundreds injured; 800 homeless. More than 100 buildings were damaged, 300 houses were also destroyed. Severe thunderstorms and hail. Power outages, damage to 150 farms.\\t12\\t500\\t800\\t83992000\\t7999238.1\\t31/05/1985 12:00:00 AM\\t0\\t0\\t\\t\\t\\t83992000\\t\\t3684211\\t0\\n',\n",
       "  'Disaster\\tNatural\\tMeteorological - Hydrological\\tStorms and Severe Thunderstorms\\tWindsor ON\\t30/05/1985 12:00:00 AM\\tWindsor-Leamington ON, May 30, 1985. Golf-ball sized hailstones smashed greenhouses and flattened crops.\\t5\\t0\\t0\\t16390000\\t1560952.4\\t30/05/1985 12:00:00 AM\\t0\\t0\\t\\t\\t\\t16390000\\t\\t0\\t0\\n',\n",
       "  'Disaster\\tNatural\\tMeteorological - Hydrological\\tFlood\\tHay River Township, south shore of Great Slave Lake NT\\t03/05/1985 12:00:00 AM\\tHay River Township, south shore of Great Slave Lake NT, May 3, 1985. Record high flows of the Hay River and ice jams caused serious flooding, requiring the evacuation of West Channel residents. Ice jams, spring runoff, minor damages, one injury.\\t0\\t1\\t\\t\\t\\t03/05/1985 12:00:00 AM\\t0\\t0\\t\\t\\t\\t\\t\\t0\\t0\\n',\n",
       "  'Disaster\\tNatural\\tMeteorological - Hydrological\\tDrought\\tWestern Canada\\t01/05/1985 12:00:00 AM\\tWestern Canada, 1985. Second drought year in a row; one of the worst agricultural droughts to occur in the Prairies;  insect infestations. On June 8, there was a wind and dust storm, heavy soil erosion, buildings and transmission lines were damaged.\\t0\\t0\\t0\\t\\t\\t31/08/1985 12:00:00 AM\\t0\\t0\\t\\t\\t\\t\\t\\t0\\t0\\n',\n",
       "  'Disaster\\tNatural\\tMeteorological - Hydrological\\tFlood\\tLake Erie ON\\t31/03/1985 12:00:00 AM\\tLake Erie ON, March 31 and April 6, 1985. Two separate storms hit the shoreline of Lake Erie; hardest hit were Point Pelee and Long Point located along the shore of the lake; the storms destroyed cottages, washed out access roads, eroded beaches, uprooted trees and breached dikes.\\t0\\t0\\t0\\t\\t\\t06/04/1985 12:00:00 AM\\t0\\t0\\t\\t\\t\\t\\t\\t0\\t0\\n',\n",
       "  'Disaster\\tNatural\\tMeteorological - Hydrological\\tFlood\\tChatham ON\\t23/02/1985 12:00:00 AM\\tChatham ON, February 23 - March 2, 1985. The city of Chatham and agricultural land in Dover and Raleigh Townships downstream of Chatham experienced widespread flooding due to a combination of mild temperatures leading to snowmelt; the Thames River and McGregor and Indian Creeks overflowed due to snowmelt runoff; an estimated 1180 homes experienced flooding; a dam was damaged; an Ontario Provincial Police helicopter was used to evacuate 30 people in outlying areas.\\t0\\t0\\t30\\t\\t\\t02/03/1985 12:00:00 AM\\t0\\t0\\t\\t\\t\\t\\t\\t0\\t0\\n',\n",
       "  'Incident\\tTechnology\\tHazardous Chemicals\\tVehicle Release\\tSmiths Falls ON\\t01/01/1985 12:00:00 AM\\tSmiths Falls ON, 1985. A truck accident at Smiths Falls, Ontario, resulted in the spill of dangerous goods, requiring the evacuation of hundreds of people.\\t0\\t0\\t200\\t\\t\\t01/01/1985 12:00:00 AM\\t0\\t0\\t\\t\\t\\t\\t\\t0\\t0\\n',\n",
       "  'Disaster\\tNatural\\tMeteorological - Hydrological\\tHurricane / Typhoon / Tropical Storm\\tWest Coast of British Columbia\\t11/10/1984 12:00:00 AM\\tWest Coast of British Columbia, October 11-12, 1984. A storm unexpectedly formed from the remnants of typhoon Odgen and caused the deaths of 5 fishermen.\\t5\\t0\\t0\\t\\t\\t12/10/1984 12:00:00 AM\\t0\\t0\\t\\t\\t\\t\\t\\t0\\t0\\n',\n",
       "  'Disaster\\tNatural\\tMeteorological - Hydrological\\tWinter Storm\\tAlberta\\t06/10/1984 12:00:00 AM\\tAlberta, October 1984.\\t0\\t0\\t0\\t\\t\\t06/10/1984 12:00:00 AM\\t0\\t0\\t\\t\\t\\t\\t\\t0\\t0\\n',\n",
       "  \"Disaster\\tNatural\\tMeteorological - Hydrological\\tFlood\\tPemberton area BC\\t06/10/1984 12:00:00 AM\\tPemberton area BC, October 6-8, 1984. Persistent heavy rains over three days caused severe flooding in the Pemberton, Squamish, and Lion's Bay areas; 300 people were evacuated; the flood caused one death.\\t1\\t0\\t300\\t3999112\\t395951.7\\t08/10/1984 12:00:00 AM\\t637747\\t3361365\\t\\t\\t\\t\\t\\t0\\t0\\n\",\n",
       "  \"Incident\\tConflict\\tTerrorist\\tBomb Attacks\\tMontreal QC\\t03/09/1984 12:00:00 AM\\tMontreal QC, September 3, 1984. A retired U.S. military officer planted a bomb in Montréal's Central Station to protest a papal visit to Canada scheduled to take place the following week; the bomb killed three and wounded 45.\\t3\\t45\\t0\\t\\t\\t03/09/1984 12:00:00 AM\\t0\\t0\\t\\t\\t\\t\\t\\t0\\t0\\n\",\n",
       "  'Disaster\\tNatural\\tMeteorological - Hydrological\\tTornado\\tLondon ON\\t02/09/1984 12:00:00 AM\\tLondon ON, September 2,1984. 30 injured.\\t0\\t30\\t0\\t\\t\\t02/09/1984 12:00:00 AM\\t0\\t0\\t\\t\\t\\t\\t\\t0\\t0\\n',\n",
       "  'Disaster\\tNatural\\tMeteorological - Hydrological\\tTornado\\tEastern Ontario and Western Quebec\\t15/07/1984 12:00:00 AM\\tEastern Ontario and Western Quebec, July 15, 1984. 1 dead, 43 injured; destruction of 300 houses. Québec: Sheenboro, Blue Sea Lake, Bouchette, Caymant Region of Outaouais. In Québec, 37 houses were damaged, 10 houses destroyed.\\t1\\t43\\t0\\t\\t\\t15/07/1984 12:00:00 AM\\t0\\t0\\t\\t\\t\\t\\t\\t0\\t0\\n',\n",
       "  'Disaster\\tNatural\\tMeteorological - Hydrological\\tStorms and Severe Thunderstorms\\tSouthern Manitoba\\t15/06/1984 12:00:00 AM\\tSouthern Manitoba, June-July 1984. Southern Manitoba experienced severe rainstorms with hail, thunder, and lightening. In some cases, tornadoes were reported. The storms led to crop damages and flooding. The cities of Winnipeg and Brandon were particularly affected. \\t0\\t0\\t0\\t1656780\\t164037.6\\t31/07/1984 12:00:00 AM\\t301190\\t1355590\\t\\t\\t\\t\\t\\t0\\t0\\n',\n",
       "  'Disaster\\tNatural\\tMeteorological - Hydrological\\tDrought\\tPrairie Provinces\\t01/06/1984 12:00:00 AM\\tPrairie Provinces, 1984. The worst agricultural drought since the 1930s to occur in the Prairies; severe and widespread surface water droughts reported on the Prairies. Over 10,000 farms were affected.\\t0\\t0\\t0\\t0\\t0\\t31/08/1984 12:00:00 AM\\t0\\t0\\t\\t\\t\\t\\t\\t0\\t0\\n',\n",
       "  'Incident\\tConflict\\tTerrorist\\tShootings\\tQuebec City QC\\t08/05/1984 12:00:00 AM\\tQuebec City QC, May 8, 1984. A shooting occurred at the National Assembly of Québec. Three people were killed, 13 injured (4 badly, 2 had a nervous breakdown). The shooting initiated a psychological support program for employees, and heightened security measures.\\t3\\t13\\t0\\t\\t\\t08/05/1984 12:00:00 AM\\t0\\t0\\t\\t\\t\\t\\t\\t0\\t0\\n',\n",
       "  'Disaster\\tNatural\\tMeteorological - Hydrological\\tStorm - Unspecified / Other\\tChesley ON\\t30/04/1984 12:00:00 AM\\tChesley, Bruce County ON, April 30, 1984.\\t0\\t0\\t0\\t39066000\\t3867920.8\\t30/04/1984 12:00:00 AM\\t0\\t0\\t\\t\\t\\t39066000\\t\\t0\\t0\\n',\n",
       "  'Disaster\\tNatural\\tMeteorological - Hydrological\\tWinter Storm\\tSouth, Central and Western Manitoba\\t27/04/1984 12:00:00 AM\\tSouth, Central, and Western MB, April 27-28, 1984. Snow, freezing rain and strong wind gusts caused damage to roads, hydro poles and drainage facilities. Municipalities affected were: Grey, Dufferin, Pembina, Portage la Prairie, Stanley and Thompson. Towns affected were: Carman, Morden, Neepawa and Winkler.\\t0\\t0\\t0\\t2686465\\t265986.6\\t28/04/1984 12:00:00 AM\\t816031\\t1870434\\t\\t\\t\\t\\t\\t0\\t0\\n',\n",
       "  'Disaster\\tNatural\\tMeteorological - Hydrological\\tFlood\\tSaint John River Basin NB\\t25/04/1984 12:00:00 AM\\tSaint John River basin NB, April 25 - May 6, 1984. Due to rain, mild temperatures and snowmelt in late Apr. and early May, the Saint John River flooded areas between Fredericton and Gagetown; several houses were inundated and the TransCanada Highway was closed for several days;  one person was reported to have drowned when his vehicle left a flooded section of Route #690 near Lakeville Corner and plunged into deeper water.\\t1\\t0\\t0\\t\\t\\t06/05/1984 12:00:00 AM\\t0\\t0\\t\\t\\t\\t\\t\\t0\\t0\\n',\n",
       "  \"Disaster\\tNatural\\tMeteorological - Hydrological\\tWinter Storm\\tSt. John's NL\\t13/04/1984 12:00:00 AM\\tSt. John's NL, April 13-15, 1984. 200,000 people of the Avalon Peninsula were left without heating and lighting for days after overhead electrical wires snapped from the weight of the formation of 15 cm of ice. Power on Bell Island was disrupted for a week. Many small businesses, broadcasting and utility companies felt the effects of the sleet storm; fishing boats sunk.  Homeowners also experienced flooded basements and loss of food stuffs. Areas which received major damage: Fogo Island,  Bell Island, Carbonear Upper Island Cove, Kenmount Hill, St. John's, Bay Roberts, Mt. Pearl, Torbay, Harbour Main, Western Avalon, Sunnyside and Oxen Pond.\\t0\\t0\\t0\\t3272619\\t324021.7\\t15/04/1984 12:00:00 AM\\t1786357\\t1486262\\t\\t\\t\\t\\t\\t7615063\\t0\\n\",\n",
       "  'Disaster\\tNatural\\tMeteorological - Hydrological\\tFlood\\tSouthern Ontario\\t13/02/1984 12:00:00 AM\\tSouthern Ontario, February 13-17, 1984. Toronto, Chatham, Dresden, Port Bruce, St. Thomas, and Brantford experienced flooding due to very mild weather and rainfall; ice jams formed on several rivers causing them to overflow; several roads were closed due to flooding, most of them along the St. Clair and Thames River in the southeastern part of Ontario; in Toronto, the Don Valley Parkway was closed in areas due to overflow in the Don River; two people died as they were swept away on Black Creek in Toronto; over a hundred were evacuated in southern Ontario; utilities were disrupted in some areas and businesses were forced to close.\\t2\\t0\\t150\\t\\t\\t17/02/1984 12:00:00 AM\\t0\\t0\\t\\t\\t\\t\\t\\t0\\t0\\n',\n",
       "  'Disaster\\tNatural\\tMeteorological - Hydrological\\tFlood\\tTruro NS\\t05/02/1984 12:00:00 AM\\tTruro NS, February 5-8, 1984. A combination of mild temperatures, rainfall, snowmelt and ice jams caused flooding in the Truro area; along the Salmon and North Rivers several homes were inundated; Feb. flood described as the worst in 50 years; one death from fumes while pumping out a basement.\\t1\\t0\\t0\\t\\t\\t08/02/1984 12:00:00 AM\\t0\\t0\\t\\t\\t\\t\\t\\t0\\t0\\n',\n",
       "  'Disaster\\tNatural\\tMeteorological - Hydrological\\tFlood\\tLower Fraser River Valley BC\\t04/01/1984 12:00:00 AM\\tLower Fraser River Valley BC, January 4-5, 1984. Heavy rainfall and snowmelt caused flooding in southwestern British Columbia; transportation was disrupted as debris jams and water obstructed traffic on Highway 1; several problems were caused by flooding and washouts; there was a mudslide and a bridge washout, and sections of CP and CN railway track were washed out as well as damage to a fish hatchery.\\t0\\t0\\t0\\t4029790\\t398989.1\\t05/01/1984 12:00:00 AM\\t605407\\t3424383\\t\\t\\t\\t\\t\\t0\\t0\\n',\n",
       "  'Disaster\\tNatural\\tMeteorological - Hydrological\\tCold Event\\tQuebec\\t01/01/1984 12:00:00 AM\\tQuebec, 1984. Winterkill and excessive moisture caused forage losses.\\t0\\t0\\t0\\t\\t\\t01/01/1984 12:00:00 AM\\t0\\t0\\t\\t\\t\\t\\t\\t0\\t0\\n',\n",
       "  'Incident\\tTechnology\\tHazardous Chemicals\\tFire\\tFort Frances ON\\t01/01/1984 12:00:00 AM\\tFort Frances ON, 1984. Hundreds of people were evacuated from Fort Frances, Ontario.\\t0\\t0\\t200\\t\\t\\t01/01/1984 12:00:00 AM\\t0\\t0\\t\\t\\t\\t\\t\\t0\\t0\\n',\n",
       "  'Disaster\\tNatural\\tMeteorological - Hydrological\\tFlood\\tNortheast Saskatchewan\\t01/01/1984 12:00:00 AM\\tNortheast SK, 1984. Excessive moisture caused crop losses.\\t0\\t0\\t0\\t\\t\\t01/01/1984 12:00:00 AM\\t0\\t0\\t\\t\\t\\t\\t\\t0\\t0\\n',\n",
       "  'Disaster\\tNatural\\tMeteorological - Hydrological\\tTornado\\tGrande Prairie and Drayton Valley AB\\t01/01/1984 12:00:00 AM\\tGrande Prairie and Drayton Valley AB, 1984.\\t0\\t0\\t0\\t\\t\\t01/01/1984 12:00:00 AM\\t0\\t0\\t\\t\\t\\t\\t\\t0\\t0\\n',\n",
       "  \"Disaster\\tNatural\\tMeteorological - Hydrological\\tFlood\\tAvalon Peninsula NL\\t22/12/1983 12:00:00 AM\\tAvalon Peninsula NL, December 22-25, 1983. On these days several coastal communities, including St. John's, experienced flooding and road washouts due to high tides and strong winds.\\t0\\t0\\t0\\t\\t\\t25/12/1983 12:00:00 AM\\t0\\t0\\t\\t\\t\\t\\t\\t0\\t0\\n\",\n",
       "  'Disaster\\tNatural\\tMeteorological - Hydrological\\tFlood\\tGaspésie QC\\t07/12/1983 12:00:00 AM\\tGaspésie and lower north shore of Gulf of St. Lawrence River QC, December 7-8, 1983. High tides and violent winds from a severe storm caused flooding along the Gaspésie and Gulf of St. Lawrence shores along with landslides; damage, partially wind related, was widespread; several wharves, ships, and roads were damage; several homes and cottages were flooded; the communities of Chandler, La Martre, Sainte-Anne-des-Monts and Longue-Pointe were affected.\\t0\\t0\\t0\\t53831341\\t5559174.6\\t07/12/1983 12:00:00 AM\\t27739771\\t26091570\\t\\t\\t\\t\\t\\t0\\t0\\n',\n",
       "  'Disaster\\tNatural\\tMeteorological - Hydrological\\tStorm Surge\\tCape Breton Island NS\\t25/10/1983 12:00:00 AM\\tCape Breton Island NS, October 25, 1983. The eastern shores of Cape Breton Island were struck by a storm surge. Water levels rose to 0.761.5 m above the normal high water mark.  The storm flooded highways as well as destroying 30 fishing boats and thousands of lobster traps.\\t0\\t0\\t0\\t\\t\\t25/10/1983 12:00:00 AM\\t0\\t0\\t\\t\\t\\t\\t\\t0\\t0\\n',\n",
       "  'Disaster\\tNatural\\tMeteorological - Hydrological\\tStorm - Unspecified / Other\\tEdmonton AB\\t03/08/1983 12:00:00 AM\\tEdmonton AB, August 3, 1983.  Hail the size of golf balls smashed windshields, stripped leaves and damaged roofs.\\t0\\t0\\t0\\t22060000\\t2278141.1\\t03/08/1983 12:00:00 AM\\t0\\t0\\t\\t\\t\\t22060000\\t\\t0\\t0\\n',\n",
       "  'Disaster\\tNatural\\tMeteorological - Hydrological\\tDrought\\tOntario\\t14/07/1983 12:00:00 AM\\tOntario, 1983. Heat and drought stress resulted in low crop yields in Ontario.  Heat caused roads and a rail to buckle on Aug. 3.  The latter spilled 6 CP Rail freight cars carrying grain and 1 car carrying steel rails into the Cypress River.\\t0\\t0\\t0\\t\\t\\t31/08/1983 12:00:00 AM\\t0\\t0\\t\\t\\t\\t\\t\\t0\\t0\\n',\n",
       "  'Disaster\\tNatural\\tMeteorological - Hydrological\\tStorms and Severe Thunderstorms\\tRegina SK\\t08/07/1983 12:00:00 AM\\tRegina SK, July 8-9, 1983. Regina Airport received 50 mm of rain in one hour, and 117 mm in a 24 hour period, while northern Regina received up to 150 mm, with 83 mm coming in one hour; the storm overloaded the sewer system and caused severe flooding, mostly in basements.\\t0\\t0\\t0\\t20614195\\t2128832.5\\t09/07/1983 12:00:00 AM\\t1121298\\t3107897\\t\\t\\t\\t16385000\\t\\t0\\t0\\n',\n",
       "  'Disaster\\tNatural\\tBiological\\tEpidemic\\tManitoba\\t01/07/1983 12:00:00 AM\\tManitoba, July 1983. An encephalitis outbreak occurred.\\t0\\t0\\t0\\t4444275\\t458961.3\\t01/07/1983 12:00:00 AM\\t1384672\\t3059603\\t\\t\\t\\t\\t\\t0\\t0\\n',\n",
       "  'Disaster\\tNatural\\tMeteorological - Hydrological\\tStorms and Severe Thunderstorms\\tRegina SK and Edmonton AB\\t24/06/1983 12:00:00 AM\\tRegina SK and Edmonton AB, June 24, 1983.\\t0\\t0\\t0\\t\\t\\t24/06/1983 12:00:00 AM\\t0\\t0\\t\\t\\t\\t\\t\\t0\\t0\\n',\n",
       "  'Incident\\tTechnology\\tTransportation accident\\tAir\\tCincinnati. Ohio, USA\\t02/06/1983 12:00:00 AM\\tCincinnati Ohio USA, June 2, 1983. An Air Canada DC-9 was destroyed when it caught fire en route to Toronto from Texas and landed in flames at Cincinnati airport.\\t23\\t18\\t0\\t\\t\\t02/06/1983 12:00:00 AM\\t0\\t0\\t\\t\\t\\t\\t\\t0\\t0\\n',\n",
       "  'Disaster\\tNatural\\tMeteorological - Hydrological\\tFlood\\tupper Richelieu River, Montréal QC\\t10/05/1983 12:00:00 AM\\tUpper Richelieu River QC, May 10, 1983. Plus several communities along the Ottawa River, Rivière Gatineau, Rivière du Lièvre, Rivière des Prairies, Rivière des Mille Îles, and Rivière Rouge were also affected; heavy rains of 70110 mm caused widespread flooding along the upper Richelieu River on May 10, 1983; from the city of Saint-Jean to the Canada-U.S. border, 640 homes and 373 cottages were flooded; approximately 160 people were evacuated.\\t0\\t0\\t160\\t\\t\\t10/05/1983 12:00:00 AM\\t0\\t0\\t\\t\\t\\t\\t\\t0\\t0\\n',\n",
       "  'Disaster\\tNatural\\tMeteorological - Hydrological\\tTornado\\tReeces Corners ON\\t03/05/1983 12:00:00 AM\\tReeces Corners ON, May 3, 1983.\\t0\\t0\\t0\\t111591\\t11524\\t03/05/1983 12:00:00 AM\\t0\\t0\\t111591\\t\\t\\t\\t\\t0\\t0\\n',\n",
       "  'Disaster\\tNatural\\tMeteorological - Hydrological\\tFlood\\tNorth shore of St. Lawrence River, and Yamachiche Maskinonge River basins QC\\t19/03/1983 12:00:00 AM\\tNorth shore of St. Lawrence River, and Yamachiche Maskinonge River basins QC, March 19-20, 1983. Ice jams caused flooding in Louiseville and Yamachiche which led to road closings and the evacuation of several hundred homes, businesses, schools and a hospital.\\t0\\t0\\t0\\t\\t\\t20/03/1983 12:00:00 AM\\t0\\t0\\t\\t\\t\\t\\t\\t0\\t0\\n',\n",
       "  'Disaster\\tNatural\\tMeteorological - Hydrological\\tWinter Storm\\tPrairie Provinces\\t06/03/1983 12:00:00 AM\\tPrairie Provinces, March 6, 1983. Especially southern Manitoba; the storm forced Winnipeg International Airport to close for two days and toppled several large television towers.  The freezing rain also caused other extensive damage.\\t0\\t0\\t0\\t0\\t0\\t06/03/1983 12:00:00 AM\\t0\\t0\\t\\t\\t\\t\\t\\t0\\t0\\n',\n",
       "  'Disaster\\tNatural\\tMeteorological - Hydrological\\tFlood\\tBadger NL\\t28/02/1983 12:00:00 AM\\tBadger NL, February 27 - March 10, 1983.  Severe flooding in Badger due to ice and debris blockages of the Exploits River. The town hall, fire hall and arena were flooded, and 34 homes evacuated. Badger was declared a disaster area.\\t\\t\\t\\t\\t\\t10/03/1983 12:00:00 AM\\t\\t\\t\\t\\t\\t\\t\\t0\\t0\\n',\n",
       "  \"Disaster\\tNatural\\tMeteorological - Hydrological\\tFlood\\tCentral, southern, and western Newfoundland\\t11/01/1983 12:00:00 AM\\tCentral, southern, and western Newfoundland, January 11-19, 1983. Due to mild temperatures and excessive rainfall from a major Snowstorm, homes and highways were damaged along the Exploits and Gander Rivers (central), the Conne River (southern), and in Stephenville (west coast); the flood occurred after 189 mm of rain fell within a 36-hour period, destroying several homes, businesses and other infrastructure worth approximately $4 million; several homes, two railway cars and a local club were washed away; approximately 500 people were evacuated; numerous washouts along many central highways forced travellers to seek refuge; no loss of life or personal injury was reported; flooding in the Exploits and Gander River basins resulted in partial damage to the dam and power house in Bishop's Falls on the Exploits River. >60 homes were flooded\\t0\\t0\\t500\\t6367841\\t657608.4\\t19/01/1983 12:00:00 AM\\t3879494\\t2484696\\t\\t\\t\\t\\t3651\\t0\\t0\\n\",\n",
       "  \"Incident\\tTechnology\\tHazardous Chemicals\\tVehicle Release\\tCurling NL\\t10/01/1983 12:00:00 AM\\tCurling NL, January 10, 1983. A gasoline truck, carrying 2377.8 litres of gas was going up an icy hill on O'Connell Dr. in Curling (a suburb of Corner Brook) when it went backwards down the hill and landed in a snow-covered, rock-filled ditch. The rocks punched 5 holes in the tanker's 3 compartments and the truck began to spill gasoline. The driver was trapped behind the wheel of the crushed cab. Most of the townspeople were evacuated.\\t0\\t1\\t24339\\t\\t\\t10/01/1983 12:00:00 AM\\t0\\t0\\t\\t\\t\\t\\t\\t0\\t0\\n\",\n",
       "  'Disaster\\tNatural\\tMeteorological - Hydrological\\tCold Event\\tEastern Canada\\t01/01/1983 12:00:00 AM\\tEastern Canada, 1983. Most damages were to the apple industry.\\t0\\t0\\t0\\t\\t\\t01/01/1983 12:00:00 AM\\t0\\t0\\t\\t\\t\\t\\t\\t0\\t0\\n',\n",
       "  'Disaster\\tNatural\\tMeteorological - Hydrological\\tDrought\\tPrairie Provinces\\t01/01/1983 12:00:00 AM\\tPrairie Provinces, 1983. Cereal crop drought occurred in parts of the Prairies; production declined in western Canada by 7.5% due to the onset of drought during the growing season.\\t0\\t0\\t0\\t0\\t0\\t01/01/1983 12:00:00 AM\\t0\\t\\t\\t0\\t\\t\\t\\t0\\t0\\n',\n",
       "  'Disaster\\tNatural\\tMeteorological - Hydrological\\tFlood\\tCentral Alberta\\t01/01/1983 12:00:00 AM\\tCentral Alberta, 1983.\\t0\\t0\\t0\\t\\t\\t01/01/1983 12:00:00 AM\\t0\\t0\\t\\t\\t\\t\\t\\t0\\t0\\n',\n",
       "  'Incident\\tConflict\\tTerrorist\\tBomb Attacks\\tToronto ON\\t14/10/1982 12:00:00 AM\\tToronto, ON, October 14, 1982.  Litton Industries, a manufacturer of American cruise missile components, was bombed.  The small anarchist group, Direct Action, also known as the Squamish Five, claimed responsibility for the attack, which injured ten.  The group also claimed responsibility for bombing a hydro sub-station in Vancouver, British Columbia, in their protest against pollution, pornography and the arms industry.  The five key members of the group were arrested in January 1983 and served prison terms ranging from four to eight years.\\t0\\t10\\t0\\t\\t\\t14/10/1982 12:00:00 AM\\t0\\t0\\t\\t\\t\\t\\t\\t0\\t0\\n',\n",
       "  \"Disaster\\tNatural\\tMeteorological - Hydrological\\tFlood\\tGrande Prairie AB\\t13/07/1982 12:00:00 AM\\tGrande Prairie AB, July 13-15 and August 1-3, 1982. Most of the Smoky River Basin above the junction of the Wapiti and Smoky rivers received in excess of 100 mm of precipitation.  The intensity of the rainfall overloaded Grande Prairie\\\\'s storm and sanitary sewage systems and caused numerous flooded basements.  The second storm on August 1-3 set a new 24-hour August rainfall record at Grande Prairie.  The flood events caused extensive damage to buildings, roads, bridges and rail facilities in the Smoky River Basin.\\t0\\t0\\t0\\t\\t\\t03/08/1982 12:00:00 AM\\t0\\t0\\t\\t\\t\\t\\t\\t115994\\t0\\n\",\n",
       "  'Disaster\\tNatural\\tMeteorological - Hydrological\\tTornado\\tMontreal (Sainte-Rose) QC\\t14/06/1982 12:00:00 AM\\tMontreal (Sainte-Rose) QC, June 14, 1982. 5 fatalities, 26 injured, and extensive damage; hundreds of homes and barns flattened.\\t5\\t26\\t0\\t\\t\\t14/06/1982 12:00:00 AM\\t0\\t0\\t\\t\\t\\t\\t\\t0\\t0\\n',\n",
       "  \"Disaster\\tNatural\\tMeteorological - Hydrological\\tFlood\\tAklavik NT\\t01/06/1982 12:00:00 AM\\tAklavik NT, June 1-6, 1982. Late in May, three separate ice jams occurred downstream of Point Seperation causing backwater flow to be diverted down the Peel Channel. As a result, the remote settlement of Aklavik experienced significant flooding. Flood waters damaged numerious homes in Aklavik and left debris scattered along the settlement's airstrip. On June 3, flood water reached a peak level of nearly 11 metres. It is estimated that 95 per cent of the Mackenzie Delta was under water. This event was the most severe flood event to occur in the region since 1961.\\t0\\t0\\t0\\t141412\\t15454.9\\t06/06/1982 12:00:00 AM\\t46278\\t95134\\t\\t\\t\\t\\t\\t0\\t0\\n\",\n",
       "  'Incident\\tConflict\\tTerrorist\\tBomb Attacks\\tDunsmuir, Vancouver Island BC\\t31/05/1982 12:00:00 AM\\tDunsmuir, Vancouver Island BC, May 31, 1982. A B.C. Hydro substation on Vancouver Island was dynamited by a left-wing group called Direct Action. The group said they were protesting industrial expansion.\\t0\\t0\\t0\\t\\t\\t31/05/1982 12:00:00 AM\\t0\\t0\\t\\t\\t\\t\\t\\t0\\t0\\n',\n",
       "  'Disaster\\tNatural\\tMeteorological - Hydrological\\tFlood\\tSherbrooke QC\\t17/04/1982 12:00:00 AM\\tSherbrooke QC, April 17-20, 1982. St-François River completely flooded downtown Sherbrooke with 3 metres of water. 100 businesses flooded; 300 people evacuated.\\t0\\t0\\t300\\t\\t\\t17/04/1982 12:00:00 AM\\t0\\t0\\t\\t\\t\\t\\t\\t0\\t0\\n',\n",
       "  'Incident\\tTechnology\\tHazardous Chemicals\\tDerailment Release\\tOrillia ON\\t28/02/1982 12:00:00 AM\\tOrillia ON, February 28, 1982. 1200 evacuated; a freight train hauling toxic chemicals and inflammable liquids was derailed near Orillia.\\t0\\t0\\t1200\\t\\t\\t28/02/1982 12:00:00 AM\\t0\\t0\\t\\t\\t\\t\\t\\t0\\t0\\n',\n",
       "  'Disaster\\tNatural\\tMeteorological - Hydrological\\tWinter Storm\\tÎles-de-la-Madeleine QC\\t22/02/1982 12:00:00 AM\\tÎles-de-la-Madeleine QC, February 22 - March 4, 1982. A snowstorm caused a blackout; 75 people were evacuated; 6,000 residents were affected.\\t0\\t0\\t75\\t\\t\\t22/02/1982 12:00:00 AM\\t0\\t0\\t\\t\\t\\t\\t\\t0\\t0\\n',\n",
       "  'Disaster\\tNatural\\tMeteorological - Hydrological\\tWinter Storm\\tPrince Edward Island\\t22/02/1982 12:00:00 AM\\tPrince Edward Island, February 22-26, 1982. Islanders were marooned for five days in a crippling blizzard; winds of 80 km/h whipped a 60 cm snowfall into 7 m drifts.  Succession of severe storms isolates many communities for days.\\t0\\t0\\t0\\t1585054\\t173229.9\\t22/02/1982 12:00:00 AM\\t1340291\\t244763\\t\\t\\t\\t\\t\\t0\\t0\\n',\n",
       "  'Disaster\\tNatural\\tMeteorological - Hydrological\\tWinter Storm\\tOff the coast of Newfoundland\\t14/02/1982 12:00:00 AM\\tOff the coast of Newfoundland, February 14-15, 1982.  The ocean-drilling rig \"Ocean Ranger\" overturned and sank during an intense snowstorm with winds in excess of 100 km/h off the east coast of Newfoundland: most lifeboats crashed into the pillars of the rig and sank or were flipped over by the waves.  There were no \"survival suits\". When the supply ship got to the scene, less than an hour after being dispatched, only one lifeboat was found afloat with living people inside: the lifeboat slowly rolled over, eventually killing all inside: 84 died: the severe storm also caused the \"Mechanic Tarasov\" to sink with the loss of 33 lives.\\t117\\t0\\t0\\t\\t\\t14/02/1982 12:00:00 AM\\t0\\t0\\t\\t\\t\\t\\t\\t0\\t0\\n',\n",
       "  'Incident\\tTechnology\\tExplosion\\tNon-Residential\\tLodgepole AB\\t01/02/1982 12:00:00 AM\\tLodgepole AB, February 1982. Two dead; a blowout at a sour gas well resulted in a fire; the subsequent gas plume extended for more than 400 km; as much as 3.2 million cubic metres of natural gas leaked from the well per day for 67 days until it was capped.\\t2\\t0\\t0\\t\\t\\t01/02/1982 12:00:00 AM\\t0\\t0\\t\\t\\t\\t\\t\\t0\\t0\\n',\n",
       "  'Disaster\\tNatural\\tMeteorological - Hydrological\\tWinter Storm\\tLabrador City NL\\t19/01/1982 12:00:00 AM\\tLabrador City NL, January 19, 1982. Leading up to the January 18th event, temperatures were in the -12 to -35 degrees Celsius range.  On the 18th, temperatures decreased further to the -30 to -40 degrees Celsius range.  Winds from the west were 65 km/hr with wind gusts up to 111 km/hr occurring during the evening hours.  This resulted in wind chills of -53 to -58 degrees Celsius.  Heavy snowfall and high winds reduced visibility to near zero, and were the cause of a power outage at the Harrie Lake Trailer Court.  The outage left residents without heat or hydro, and the extreme cold caused water pipes to freeze and burst within a majority of the residences.  The Mayor declared a local state of emergency, loaders and dump trucks were brought in to create access routes, and 2,000 residents of the trailer park were evacuated to A.P. Lowe School.\\t0\\t0\\t2000\\t\\t\\t19/01/1982 12:00:00 AM\\t0\\t0\\t\\t\\t\\t\\t\\t0\\t0\\n',\n",
       "  'Disaster\\tNatural\\tMeteorological - Hydrological\\tCold Event\\tAcross Canada\\t05/01/1982 12:00:00 AM\\tAcross Canada, January 5-28, 1982. Three week cold spell; trucks and trains failed and were abandoned until milder weather came; a damaged steel bridge forced a 200 km detour of the Alaskan highway; more than 25 highways in Ontario were closed in areas due to blowing snow and poor visibility.  In the northern Prairies, temperatures as low as -47°C were recorded on January 17.\\t0\\t0\\t0\\t\\t\\t05/01/1982 12:00:00 AM\\t0\\t0\\t\\t\\t\\t\\t\\t0\\t0\\n',\n",
       "  'Incident\\tTechnology\\tHazardous Chemicals\\tDerailment Release\\tMedonte ON\\t01/01/1982 12:00:00 AM\\tMedonte ON, 1982. A train derailment leaking toxic chemicals required the evacuation of hundreds of people.\\t0\\t0\\t200\\t\\t\\t01/01/1982 12:00:00 AM\\t0\\t0\\t\\t\\t\\t\\t\\t0\\t0\\n',\n",
       "  'Disaster\\tNatural\\tMeteorological - Hydrological\\tFlood\\tHay River NT\\t01/01/1982 12:00:00 AM\\tHay River NT, 1982.\\t0\\t0\\t0\\t572824\\t62603.7\\t01/01/1982 12:00:00 AM\\t413342\\t159482\\t\\t\\t\\t\\t\\t0\\t0\\n',\n",
       "  'Disaster\\tNatural\\tMeteorological - Hydrological\\tStorms and Severe Thunderstorms\\tGreater Vancouver BC\\t30/10/1981 12:00:00 AM\\tGreater Vancouver BC, October 30-31, 1981.  An estimated 70 mm of rainfall caused road and rail washouts, flooding of buildings and erosion. The accompanying wind caused hydro blackouts throughout Greater Vancouver, the Fraser Valley and along the Sunshine Coast. Blocked culverts and plugged storm drains caused extensive damage to surrounding areas. The following creeks reported the majority of the flooding: Lynn Creek, Seymour Creek and Mosquito Creek. Areas which received the most damage were: District of North Vancouver, City of North Vancouver, Pemberton, Squamish and Howe Sound. First Nation reserves also reported damage. One 17 year old drowned while trying to cross a creek; 4 people went missing and 5 people were killed due to the washing out of a bridge.\\t10\\t0\\t0\\t3130147\\t379411.8\\t31/10/1981 12:00:00 AM\\t217888\\t2912259\\t\\t\\t\\t\\t\\t0\\t0\\n',\n",
       "  'Disaster\\tNatural\\tGeological\\tLandslide\\tSquamish BC\\t28/10/1981 12:00:00 AM\\tM-Creek Bridge, Highway 99, Squamish BC, October 28, 1981. 9 dead; cars plunged into creek after debris flow had destroyed bridge during heavy rains and increased water levels.\\t9\\t0\\t0\\t\\t\\t28/10/1981 12:00:00 AM\\t0\\t0\\t\\t\\t\\t\\t\\t0\\t0\\n',\n",
       "  'Disaster\\tNatural\\tMeteorological - Hydrological\\tFlood\\tWestfield and Grand Bay NB\\t01/08/1981 12:00:00 AM\\tWestfield and Grand Bay NB, August 1981. Heavy rains caused a washout of streets and culverts in both villages.\\t0\\t0\\t0\\t\\t\\t01/08/1981 12:00:00 AM\\t0\\t0\\t\\t\\t\\t\\t\\t0\\t0\\n',\n",
       "  'Disaster\\tNatural\\tMeteorological - Hydrological\\tStorms and Severe Thunderstorms\\tCalgary AB\\t28/07/1981 12:00:00 AM\\tCalgary AB, July 28, 1981. One of the most damaging hailstorms in Canada hit Calgary; it lasted 15 minutes; 2 dead.\\t2\\t0\\t0\\t\\t\\t28/07/1981 12:00:00 AM\\t0\\t0\\t\\t\\t\\t\\t\\t0\\t0\\n',\n",
       "  'Incident\\tTechnology\\tTransportation accident\\tMarine\\toff the Northern coast of Newfoundland\\t03/07/1981 12:00:00 AM\\toff the Northern coast of Newfoundland, July 3, 1981. 13 dead, 19 survivors: the ship \"Arctic Explorer\" apparently hit an iceberg and sank in icy waters off Newfoundland\\'s northern coast.\\t13\\t19\\t0\\t\\t\\t03/07/1981 12:00:00 AM\\t0\\t0\\t\\t\\t\\t\\t\\t0\\t0\\n',\n",
       "  'Incident\\tTechnology\\tHazardous Chemicals\\tLeak / Spill Release\\tSt-Hilaire QC\\t29/04/1981 12:00:00 AM\\tSt-Hilaire, south shore of Montréal QC, April 29, 1981. A Chemical release (sulphur anhydride) which came from a damaged reservoir in a sugar refinery; 250 families(assume family of 4) were evacuated.\\t0\\t0\\t800\\t\\t\\t29/04/1981 12:00:00 AM\\t0\\t0\\t\\t\\t\\t\\t\\t0\\t0\\n',\n",
       "  'Disaster\\tNatural\\tMeteorological - Hydrological\\tAvalanche\\tGolden BC\\t23/02/1981 12:00:00 AM\\tGolden BC, February 23, 1981. An avalanche killed 3 heli-skiers near Conrad Icefield, west of Golden, B.C.\\t3\\t0\\t0\\t\\t\\t23/02/1981 12:00:00 AM\\t0\\t0\\t\\t\\t\\t\\t\\t0\\t0\\n',\n",
       "  'Disaster\\tNatural\\tMeteorological - Hydrological\\tFlood\\tSoutheastern ON\\t18/02/1981 12:00:00 AM\\tSoutheastern ON, February 18-20, 1981. The Ottawa and Rideau River basins in southeastern Ontario, as well as Toronto suffered flood damages.\\t0\\t0\\t0\\t1668590\\t202253.3\\t20/02/1981 12:00:00 AM\\t0\\t0\\t\\t1668590\\t\\t\\t\\t0\\t0\\n',\n",
       "  'Disaster\\tNatural\\tMeteorological - Hydrological\\tFlood\\tEdmonton AB\\t01/01/1981 12:00:00 AM\\tEdmonton AB, 1981. A thunderstorm dropped 56 mm of rain in less than 3 hours causing severe and widespread flooding; the flooding resulted in washouts, mudslides and 4 deaths.\\t4\\t0\\t0\\t\\t\\t01/01/1981 12:00:00 AM\\t0\\t0\\t\\t\\t\\t\\t\\t0\\t0\\n',\n",
       "  'Disaster\\tNatural\\tMeteorological - Hydrological\\tFlood\\tSussex NB\\t01/01/1981 12:00:00 AM\\tSussex NB, 1981. Floods caused the evacuation of 20 families (assume a family of 4) and damage to property.\\t0\\t0\\t80\\t22248\\t2696.7\\t01/01/1981 12:00:00 AM\\t0\\t0\\t22248\\t\\t\\t\\t\\t0\\t0\\n',\n",
       "  'Disaster\\tNatural\\tMeteorological - Hydrological\\tDrought\\tQuebec\\t01/01/1981 12:00:00 AM\\tQuébec, 1981. Drought caused severe damage to the Québec apple crop where an estimated 745,000 trees died; the provincial crop was reduced by 35% for the next ten years.  The greatest agricultural disaster ever in Québec.\\t0\\t0\\t0\\t\\t\\t01/01/1981 12:00:00 AM\\t0\\t0\\t\\t\\t\\t\\t\\t0\\t0\\n',\n",
       "  'Disaster\\tNatural\\tMeteorological - Hydrological\\tDrought\\tPrairie Provinces\\t01/01/1981 12:00:00 AM\\tPrairie Provinces, 1981. Severe and widespread surface water droughts reported on the Prairies.\\t0\\t0\\t0\\t1854\\t224.7\\t01/01/1981 12:00:00 AM\\t0\\t0\\t\\t\\t\\t\\t1854\\t0\\t0\\n',\n",
       "  'Disaster\\tNatural\\tMeteorological - Hydrological\\tFlood\\tSquamish River BC\\t26/12/1980 12:00:00 AM\\tSquamish River BC, December 26-27, 1980. A combination of heavy rain and melting snow caused floods along the Squamish River and other nearby rivers; flooded areas such as Brackendale, Squamish, Princeton, Coalmont, Hope and Vancouver Island. Several bridges were washed out.  An estimated 3000 people had to be evacuated and 200 homes were damaged.\\t0\\t0\\t3000\\t10143000\\t1383136.4\\t27/12/1980 12:00:00 AM\\t4328769\\t5814231\\t\\t\\t\\t\\t\\t119127\\t0\\n',\n",
       "  'Disaster\\tNatural\\tMeteorological - Hydrological\\tWinter Storm\\tSouthwest British Columbia\\t04/12/1980 12:00:00 AM\\tSouthwest British Columbia, December 4, 1980. A severe blizzard causing heavy snows (20-30 cm), strong winds, and record low temperatures struck southwestern mainland British Columbia and Victoria; three died due to the storm.\\t3\\t0\\t0\\t\\t\\t04/12/1980 12:00:00 AM\\t0\\t0\\t\\t\\t\\t\\t\\t0\\t0\\n',\n",
       "  'Incident\\tTechnology\\tFire\\tResidential\\tMississauga ON\\t14/07/1980 12:00:00 AM\\tMississauga ON, July 14, 1980. A fire spread quickly through a nursing home; 21 dead; 35 injured.\\t21\\t35\\t0\\t\\t\\t14/07/1980 12:00:00 AM\\t0\\t\\t\\t\\t\\t\\t\\t0\\t0\\n',\n",
       "  'Disaster\\tNatural\\tMeteorological - Hydrological\\tFlood\\tGaspésie Region QC\\t06/07/1980 12:00:00 AM\\tGaspésie Region QC, July 6-7, 1980. Torrential rain, bringing 150 mm of water, caused flooding and some landslides in Gaspée, Grande-Vallée and Percé. Water levels in the Grande Vallée River raised to 4 meters. Municipalities between Grande-Vallée and Gaspé were isolated following the closure of roads and 2 damaged bridges. 150 residences were flooded, 2 completely destroyed and 3 heavily damaged in Gaspé. 40 families were evacuated by helicopter.\\t0\\t0\\t160\\t\\t\\t07/07/1980 12:00:00 AM\\t0\\t0\\t\\t\\t\\t\\t\\t0\\t0\\n',\n",
       "  'Disaster\\tNatural\\tMeteorological - Hydrological\\tWildfire\\tRed Lake ON\\t01/06/1980 12:00:00 AM\\tRed Lake ON, June 1980. 43,664.76 ha of forest were destroyed by a fire, 5000 people had to be evacuated from the area, 3600 of which had to be airlifted to Winnipeg.\\t0\\t0\\t5000\\t\\t\\t01/06/1980 12:00:00 AM\\t0\\t0\\t\\t\\t\\t\\t\\t0\\t0\\n',\n",
       "  'Incident\\tTechnology\\tTransportation accident\\tVehicle\\tWebb SK\\t28/05/1980 12:00:00 AM\\tWebb SK, May 28, 1980. A bus and truck collided on the TransCanada highway near Webb: the bus was carrying CPR workers.\\t22\\t11\\t0\\t\\t\\t28/05/1980 12:00:00 AM\\t0\\t0\\t\\t\\t\\t\\t\\t0\\t0\\n',\n",
       "  \"Disaster\\tNatural\\tGeological\\tLandslide\\tBelmoral Mine, Val d'Or, QC\\t20/05/1980 12:00:00 AM\\tBelmoral Mine, Val d'Or QC, May 20, 1980.  Cave-in of mine triggered a flow of lacustrine sediments into mine workings.\\t8\\t0\\t0\\t\\t\\t20/05/1980 12:00:00 AM\\t\\t\\t\\t\\t\\t\\t\\t0\\t0\\n\",\n",
       "  'Disaster\\tNatural\\tMeteorological - Hydrological\\tFlood\\tSouthern Ontario\\t21/03/1980 12:00:00 AM\\tSouthern Ontario, March 21-22, 1980. Southwestern Ontario experienced severe flooding, especially in the Ganaraska region and Lower Trent River; several businesses and roads were closed.\\t0\\t0\\t0\\t\\t\\t22/03/1980 12:00:00 AM\\t0\\t0\\t\\t\\t\\t\\t\\t0\\t0\\n',\n",
       "  \"Incident\\tTechnology\\tFire\\tResidential\\tHamilton ON\\t01/01/1980 12:00:00 AM\\tHamilton ON, 1980. St. Joseph's Hospital, more than 600 patients evacuated by hundreds of staff, no deaths.\\t0\\t0\\t600\\t\\t\\t01/01/1980 12:00:00 AM\\t0\\t0\\t\\t\\t\\t\\t\\t0\\t0\\n\",\n",
       "  'Disaster\\tNatural\\tMeteorological - Hydrological\\tWinter Storm\\tDrumheller AB\\t01/01/1980 12:00:00 AM\\tDrumheller AB, 1980.\\t0\\t0\\t0\\t\\t\\t01/01/1980 12:00:00 AM\\t0\\t0\\t\\t\\t\\t\\t\\t0\\t0\\n',\n",
       "  'Incident\\tConflict\\tArson\\tResidential\\tChapais region of Chibougamau QC\\t01/01/1980 12:00:00 AM\\tChapais Region of Chibougamau QC, January 1, 1980. A fire caused by arson damaged Club Opemiska (a social club, property of the Falconbridge company). 45 people were killed, 55 injured. A committee was organised to stop the arsonists.\\t45\\t55\\t0\\t\\t\\t01/01/1980 12:00:00 AM\\t0\\t0\\t\\t\\t\\t\\t\\t0\\t0\\n',\n",
       "  'Disaster\\tNatural\\tMeteorological - Hydrological\\tFlood\\tVancouver Island BC\\t18/12/1979 12:00:00 AM\\tVancouver Island BC, December 18, 1979. A continuous downpour of heavy rains and strong winds caused great damage from flooding and mudslides. Campbell, Gold and Oyster Rivers on Vancouver Island were flooded. On the mainland, Surrey, Haztic, Port Moody, Squamish and some First Nation Reserves reported damage of public, private and municipal buildings/land due to flooding. Water, 15 to 30 cm deep, led to the damage of roads, bridges, and the Western Speedway.\\t0\\t0\\t0\\t2642670\\t396400.5\\t18/12/1979 12:00:00 AM\\t26635\\t2616035\\t\\t\\t\\t\\t\\t0\\t0\\n',\n",
       "  'Incident\\tTechnology\\tHazardous Chemicals\\tDerailment Release\\tMississauga ON\\t10/11/1979 12:00:00 AM\\tMississauga ON, November 10-16, 1979. A CPR train of 106 cars carrying many dangerous chemicals derailed near Morris Road in Mississauga and burst into flames, creating a spectacular explosion.  The proximity of tank cars containing chlorine to propane tank cars that may have exploded, and released a toxic cloud of chlorine, forced the evacuation of 225,000 people.\\t0\\t0\\t225000\\t\\t\\t16/11/1979 12:00:00 AM\\t0\\t0\\t\\t\\t\\t\\t\\t0\\t0\\n',\n",
       "  'Disaster\\tNatural\\tMeteorological - Hydrological\\tHurricane / Typhoon / Tropical Storm\\tSouthern Quebec\\t13/09/1979 12:00:00 AM\\tSouthern Quebec, September 13, 1979. Hurricane \"Frederic\" brought more than 80 mm of rain to southern Québec.\\t0\\t0\\t0\\t\\t\\t13/09/1979 12:00:00 AM\\t0\\t0\\t\\t\\t\\t\\t\\t0\\t0\\n',\n",
       "  'Disaster\\tNatural\\tMeteorological - Hydrological\\tHurricane / Typhoon / Tropical Storm\\tNew Brunswick\\t06/09/1979 12:00:00 AM\\tNew Brunswick, September 6-7, 1979. Tropical storm \"David\". Hall\\'s Creek area of Moncton, New Brunswick was affected.\\t0\\t0\\t0\\t\\t\\t07/09/1979 12:00:00 AM\\t0\\t0\\t\\t\\t\\t\\t\\t0\\t0\\n',\n",
       "  'Disaster\\tNatural\\tMeteorological - Hydrological\\tTornado\\tWoodstock ON\\t07/08/1979 12:00:00 AM\\tWoodstock ON, August 7, 1979.\\t2\\t0\\t0\\t\\t\\t07/08/1979 12:00:00 AM\\t0\\t0\\t\\t\\t\\t\\t\\t0\\t0\\n',\n",
       "  'Disaster\\tNatural\\tMeteorological - Hydrological\\tStorms and Severe Thunderstorms\\tMontreal QC\\t05/06/1979 12:00:00 AM\\tMontreal QC, June 5, 1979. A violent thunderstorm producing hail and heavy rains caused serious damages; especially to the Botanical Gardens.\\t0\\t0\\t0\\t\\t\\t05/06/1979 12:00:00 AM\\t0\\t0\\t\\t\\t\\t\\t\\t0\\t0\\n',\n",
       "  'Disaster\\tNatural\\tMeteorological - Hydrological\\tFlood\\tCentral Ontario\\t12/05/1979 12:00:00 AM\\tCentral Ontario, May 12, 1979. The White, Mississagi, Goulais, Spanish and Wanapetei Rivers were some rivers that overflowed and caused flooding in May 1979.  Roads and businesses were closed and utility services were disrupted in the community of White River.\\t0\\t0\\t0\\t\\t\\t12/05/1979 12:00:00 AM\\t0\\t0\\t\\t\\t\\t\\t\\t0\\t0\\n',\n",
       "  \"Disaster\\tNatural\\tMeteorological - Hydrological\\tFlood\\tDawson YT\\t03/05/1979 12:00:00 AM\\tDawson YT, May 3, 1979. An ice jam on the Yukon River caused water to rise 2 m, flooding 80% of Dawson's buildings.\\t0\\t0\\t0\\t1854000\\t278100\\t03/05/1979 12:00:00 AM\\t1682054\\t171946\\t\\t\\t\\t\\t\\t0\\t0\\n\",\n",
       "  'Disaster\\tNatural\\tMeteorological - Hydrological\\tFlood\\tCentral Ontario\\t24/04/1979 12:00:00 AM\\tCentral Ontario, April 24, 1979. Areas around Lake Nipissing and along the Mississagi, Blind and Mattagami Rivers experienced flooding in April 1979. Several roads were closed near Lake Nipissing and the Mattagami River.\\t0\\t0\\t0\\t\\t\\t24/04/1979 12:00:00 AM\\t0\\t0\\t\\t\\t\\t\\t\\t0\\t0\\n',\n",
       "  'Disaster\\tNatural\\tMeteorological - Hydrological\\tFlood\\tNew Brunswick\\t24/04/1979 12:00:00 AM\\tNew Brunswick, April 24 - May 7, 1979. Rainfall and heavy snowmelt caused extreme flood conditions in most parts of the province; record-breaking discharge was seen at some hydrometric stations. Several major highways were closed, and many residents evacuated when their homes were inundated by flood waters.\\t0\\t0\\t0\\t3227650\\t484147.5\\t07/05/1979 12:00:00 AM\\t1545488\\t1682162\\t\\t\\t\\t\\t\\t0\\t0\\n',\n",
       "  'Disaster\\tNatural\\tMeteorological - Hydrological\\tFlood\\tRed River region MB\\t01/04/1979 12:00:00 AM\\tRed River region MB, April-May 1979. A major flood, close to flood levels of the 1950 flood, hit the Red River region; most of the damage occurred in the valley; no communities were flooded as the dykes protecting them were temporarily raised; 10,000 people were ordered to evacuate: 1450 residents were evacuated in the town of Morris and 400 from the Roseau Reserve; livestock and poultry were also evacuated.\\t0\\t0\\t10000\\t18557303\\t2783595.5\\t31/05/1979 12:00:00 AM\\t14670604\\t3886699\\t\\t\\t\\t\\t\\t0\\t0\\n',\n",
       "  'Incident\\tTechnology\\tTransportation accident\\tAir\\tQuebec City QC\\t29/03/1979 12:00:00 AM\\tQuebec City QC, March 29, 1979. A F27 crashed on take-off at the Quebec Airport; plane destroyed: 17 dead and 7 injured.\\t17\\t7\\t0\\t\\t\\t29/03/1979 12:00:00 AM\\t0\\t0\\t\\t\\t\\t\\t\\t0\\t0\\n',\n",
       "  'Disaster\\tNatural\\tMeteorological - Hydrological\\tFlood\\tSouthwestern Ontario\\t05/03/1979 12:00:00 AM\\tSouthwestern Ontario, March 5, 1979. The Thames, Saugeen and Grand Rivers were some of the rivers that overflowed and caused flooding in March, 1979. Many roads were closed along the Thames River, and on the Grand River several businesses were closed; some communities on the Thames, Saugeen and Grand Rivers experienced disrupted utility service.\\t0\\t0\\t0\\t\\t\\t05/03/1979 12:00:00 AM\\t0\\t0\\t\\t\\t\\t\\t\\t0\\t0\\n',\n",
       "  'Incident\\tTechnology\\tExplosion\\tNon-Residential\\tGlace Bay NS\\t24/02/1979 12:00:00 AM\\tGlace Bay NS, February 24, 1979. The 12 deaths and 4 injuries were the result of an explosion in the #26 mine.\\t12\\t4\\t0\\t\\t\\t24/02/1979 12:00:00 AM\\t0\\t0\\t\\t\\t\\t\\t\\t0\\t0\\n',\n",
       "  'Incident\\tTechnology\\tHazardous Chemicals\\tLeak / Spill Release\\tNorth York ON\\t21/02/1979 12:00:00 AM\\tNorth York ON, February 21, 1979. The North York Gasoline Leak occurred on the morning of February 21, 1979 at Imperial Oil.  The gasoline had escaped from a separator and gone into the sewer system underneath the industrial area bounded by Finch and Sheppard on the north and south and by Keele and Dufferin on the west and east.  Estimates of the gasoline that eventually flowed into Dufferin Creek vary between 800 and 2,000 gallons.\\t0\\t0\\t5000\\t\\t\\t21/02/1979 12:00:00 AM\\t0\\t0\\t\\t\\t\\t\\t\\t0\\t0\\n',\n",
       "  'Disaster\\tNatural\\tMeteorological - Hydrological\\tAvalanche\\tGolden BC\\t14/02/1979 12:00:00 AM\\tGolden BC, February 14, 1979. An avalanche took the lives of seven heli-skiers in the Purcell Range southwest of Golden, B.C.\\t7\\t0\\t0\\t\\t\\t14/02/1979 12:00:00 AM\\t0\\t0\\t\\t\\t\\t\\t\\t0\\t0\\n',\n",
       "  'Disaster\\tNatural\\tMeteorological - Hydrological\\tCold Event\\tYukon to Ontario\\t08/02/1979 12:00:00 AM\\tYukon to Ontario, February 8-20, 1979. Weather slowed TransCanada and Alaska oil flow to one fourth its normal flow, causing furnaces to break down from lack of oil; pipes burst across Metro Toronto; Feb. 20, 1979 the first time in recorded history, all five Great Lakes froze over, ceasing all water traffic; a snowstorm in Iqaluit, Northwest Territories caused temperatures to reach -40°C, winds as high as 100 km/h, and snow kept residents indoors for 10 days.\\t0\\t0\\t0\\t\\t\\t20/02/1979 12:00:00 AM\\t0\\t0\\t\\t\\t\\t\\t\\t0\\t0\\n',\n",
       "  'Disaster\\tNatural\\tMeteorological - Hydrological\\tFlood\\tCalgary AB\\t01/01/1979 12:00:00 AM\\tCalgary AB, 1979. Flooding caused by hailstorm.\\t0\\t0\\t0\\t\\t\\t01/01/1979 12:00:00 AM\\t0\\t0\\t\\t\\t\\t\\t\\t0\\t0\\n',\n",
       "  'Disaster\\tNatural\\tMeteorological - Hydrological\\tFlood\\tLethbridge AB\\t01/01/1979 12:00:00 AM\\tLethbridge AB, 1979. Flooding caused by a rainstorm.\\t0\\t0\\t0\\t\\t\\t01/01/1979 12:00:00 AM\\t0\\t0\\t\\t\\t\\t\\t\\t0\\t0\\n',\n",
       "  'Incident\\tTechnology\\tExplosion\\tNon-Residential\\tMillwoods AB\\t01/01/1979 12:00:00 AM\\tMillwoods area AB, 1979.\\t0\\t0\\t0\\t\\t\\t01/01/1979 12:00:00 AM\\t0\\t0\\t\\t\\t\\t\\t\\t0\\t0\\n',\n",
       "  'Disaster\\tNatural\\tMeteorological - Hydrological\\tFlood\\tPeace River AB\\t01/01/1979 12:00:00 AM\\tPeace River AB, 1979.\\t0\\t0\\t0\\t\\t\\t01/01/1979 12:00:00 AM\\t0\\t0\\t\\t\\t\\t\\t\\t0\\t0\\n',\n",
       "  'Disaster\\tNatural\\tMeteorological - Hydrological\\tFlood\\tKicking Horse Pass, Alberta - British Columbia border\\t01/11/1978 12:00:00 AM\\tKicking Horse Pass, Alberta - British Columbia border, November 1978. Debris flows triggered by a jökulhlaup (sudden and rapid draining of a glacier dammed lake or of water impounded within a glacier) from Cathedral Glacier destroyed three levels of Canadian Pacific Railway track, derailing a freight train; sections of the TransCanada Highway were also buried.\\t0\\t0\\t0\\t20087353\\t3293008.7\\t01/11/1978 12:00:00 AM\\t7372141\\t12715212\\t\\t\\t\\t\\t\\t0\\t0\\n',\n",
       "  'Disaster\\tNatural\\tMeteorological - Hydrological\\tFlood\\tNorthwestern British Columbia\\t29/10/1978 12:00:00 AM\\tNorthwestern British Columbia, October 29 - November 7, 1978. Northwestern BC was hit by two floods. The first was due to a major storm system which struck October 29 to November 1. The second flood was caused by heavy rainfall and mixture of snow and rain occurring between November 4 and 7. Flooding occurred collectively along the Skeena and Nass rivers, and on the Queen Charlotte Islands. The Terrace-Kitimat region was declared a disaster area as the local economy was severely disrupted by the flooding and loss of communication links. Kitimaat Village and Thornhill were also affected while Lakelse Lake and Old Remo areas were the worst hit by flooding with dozens of homes flooded.  Numerous bridges were damaged and destroyed, roads and highways were washed out in many places, and the railway line between Smithers and Terrace was closed because of the flooding. A CN Rail track was undermined – a train engine fell into the Skeena River, causing the deaths of two people.\\t2\\t0\\t40\\t8277755\\t1357009\\t07/11/1978 12:00:00 AM\\t3037970\\t5239785\\t\\t\\t\\t\\t\\t0\\t0\\n',\n",
       "  'Disaster\\tNatural\\tMeteorological - Hydrological\\tHurricane / Typhoon / Tropical Storm\\tSt. John\\'s NL\\t05/09/1978 12:00:00 AM\\tSt. John\\'s NL, September 5, 1978. A violent storm, Hurricane \"Ella\", with winds over 220 km/h passed south of Cape Race; 45 mm of rain and winds of 115 km/h were recorded in St. John\\'s.\\t0\\t0\\t0\\t\\t\\t05/09/1978 12:00:00 AM\\t0\\t0\\t\\t\\t\\t\\t\\t0\\t0\\n',\n",
       "  \"Incident\\tTechnology\\tTransportation accident\\tVehicle\\tEastman QC\\t04/08/1978 12:00:00 AM\\tEastman QC, August 4, 1978. The brakes on a chartered bus failed and the bus plunged into Lac d'Argent.\\t41\\t0\\t0\\t\\t\\t04/08/1978 12:00:00 AM\\t0\\t0\\t\\t\\t\\t\\t\\t0\\t0\\n\",\n",
       "  \"Disaster\\tNatural\\tMeteorological - Hydrological\\tFlood\\tEdmonton AB\\t10/07/1978 12:00:00 AM\\tEdmonton AB, July 10-11, 1978. A highly localised rainstorm and subsequent runoff exceeded the capacity of Edmonton's sewer system, causing a severe urban flood. Approximately 90 mm of rain was dumped in 1618 hours although most of the rain fell within a 4-hour period. Roads and bridges were damaged, soil was eroded, basements were flooded and sewers were backed up. Brief telephone and power failures were also reported. The areas of Raymond, Lethbridge, Milk River and Coutts were also affected.\\t0\\t0\\t0\\t1597600\\t261901.6\\t11/07/1978 12:00:00 AM\\t87859\\t1509741\\t\\t\\t\\t\\t\\t0\\t0\\n\",\n",
       "  'Disaster\\tNatural\\tMeteorological - Hydrological\\tStorms and Severe Thunderstorms\\tWinnipeg MB\\t25/05/1978 12:00:00 AM\\tWinnipeg MB, May 25, 1978.\\t0\\t0\\t0\\t\\t\\t25/05/1978 12:00:00 AM\\t0\\t0\\t\\t\\t\\t\\t\\t0\\t0\\n',\n",
       "  'Incident\\tTechnology\\tHazardous Chemicals\\tLeak / Spill Release\\tSt-Eustache QC\\t12/04/1978 12:00:00 AM\\tSt-Eustache QC, April 12, 1978. A gas leak was discovered after two explosions occurred in a drain. 2000 people were evacuated (544 families and 39 businesses); 4 people were injured. 70 wells had to be drilled to recover 35,200 litres of gas. The evacuation lasted for 3 months for some families.\\t0\\t4\\t2000\\t\\t\\t12/04/1978 12:00:00 AM\\t0\\t0\\t\\t\\t\\t\\t\\t0\\t0\\n',\n",
       "  'Disaster\\tNatural\\tMeteorological - Hydrological\\tFlood\\tMilk River and area AB\\t01/04/1978 12:00:00 AM\\tRaymond, Lethbridge, Milk River and Coutts areas AB, Spring/Summer 1978. Over 400 basements were flooded (related to flooding which occurred in Edmonton on July 10, 1978).\\t0\\t0\\t0\\t\\t\\t31/08/1978 12:00:00 AM\\t0\\t0\\t\\t\\t\\t\\t\\t0\\t0\\n',\n",
       "  'Incident\\tTechnology\\tTransportation accident\\tAir\\tCranbrook BC\\t11/02/1978 12:00:00 AM\\tCranbrook BC, February 11, 1978. 43 dead, 4 seriously injured. A Boeing 737 coming in to land was destroyed when it tried to avoid hitting a snowplow on the runway.\\t43\\t4\\t0\\t\\t\\t11/02/1978 12:00:00 AM\\t0\\t0\\t\\t\\t\\t\\t\\t0\\t0\\n',\n",
       "  'Disaster\\tNatural\\tMeteorological - Hydrological\\tStorms and Severe Thunderstorms\\tFundy Isles NB\\t01/02/1978 12:00:00 AM\\tFundy Isles NB, February 1978.\\t0\\t0\\t0\\t\\t\\t01/02/1978 12:00:00 AM\\t0\\t0\\t\\t\\t\\t\\t\\t0\\t0\\n',\n",
       "  'Disaster\\tNatural\\tMeteorological - Hydrological\\tWinter Storm\\tSouthwestern Ontario\\t26/01/1978 12:00:00 AM\\tSouthwestern Ontario, January 26, 1978. 32 cm of snow in 36 hours.  Heavy snow and high winds (>115 km/hr), extensive damage done; 400 injuries.\\t8\\t400\\t0\\t\\t\\t26/01/1978 12:00:00 AM\\t0\\t0\\t\\t\\t\\t\\t\\t0\\t0\\n',\n",
       "  'Incident\\tTechnology\\tSpace Event\\tSpace Debris\\tNorthwest Territories\\t24/01/1978 12:00:00 AM\\tNorthwest Territories, January 24, 1978. A Soviet satellite, Cosmos 954, came down in the Northwest Territories, scattering 65 kg of radioactive material over a wide area.\\t0\\t0\\t0\\t\\t\\t24/01/1978 12:00:00 AM\\t0\\t0\\t\\t\\t\\t\\t\\t0\\t0\\n',\n",
       "  \"Disaster\\tNatural\\tMeteorological - Hydrological\\tFlood\\tNewfoundland\\t14/01/1978 12:00:00 AM\\tNewfoundland, January 14-16, 1978. Unseasonable weather conditions caused flooding of  the Grand Codroy River on the west coast of Newfoundland. The Grand Codroy River Bridge (standing since 1926) required major reconstruction because it collapsed under pressure of ice floes in the flooded river. The loss of a link between the north and south sides of the river stranded 1500 residents of Codroy, Melville, Cape Anguille and O'Regans. In addition, 244 m of telephone cable previously attached to the bridge were destroyed, leaving the four communities without phone service. In April 1978, a temporary single-lane bridge constructed 16 km downstream from the original bridge. \\t0\\t0\\t0\\t5235779\\t858324.4\\t16/01/1978 12:00:00 AM\\t3588601\\t1647178\\t\\t\\t\\t\\t\\t0\\t0\\n\",\n",
       "  'Disaster\\tNatural\\tMeteorological - Hydrological\\tDrought\\tCentral Ontario\\t01/01/1978 12:00:00 AM\\tCentral Ontario, 1978. Extensive central Ontario drought; heat and drought stress resulted in low crop yields in Ontario.\\t0\\t0\\t0\\t\\t\\t01/01/1978 12:00:00 AM\\t0\\t0\\t\\t\\t\\t\\t\\t0\\t0\\n',\n",
       "  'Disaster\\tNatural\\tMeteorological - Hydrological\\tFlood\\tCorner Brook NL\\t27/12/1977 12:00:00 AM\\tCorner Brook NL, December 27, 1977. Across Newfoundland, the combination of rain and warm temperatures on Christmas Day and Boxing Day melted the accumulation of snow and caused flooding, damaging city streets in Corner Brook.\\t0\\t0\\t0\\t\\t\\t27/12/1977 12:00:00 AM\\t0\\t0\\t\\t\\t\\t\\t\\t0\\t0\\n',\n",
       "  'Disaster\\tNatural\\tMeteorological - Hydrological\\tFlood\\tSouthern and Central Ontario\\t13/03/1977 12:00:00 AM\\tSouthern and central Ontario, March 13, 1977. Areas along the Saugeen and Maitland Rivers in southwestern Ontario and the city of Sault Ste. Marie that experienced flooding.  Many roads were closed along the Saugeen and Maitland Rivers.\\t0\\t0\\t0\\t\\t\\t13/03/1977 12:00:00 AM\\t0\\t0\\t\\t\\t\\t\\t\\t0\\t0\\n',\n",
       "  'Disaster\\tNatural\\tMeteorological - Hydrological\\tWinter Storm\\tNiagara Peninsula ON\\t28/01/1977 12:00:00 AM\\tNiagara Peninsula ON, January 28, 1977. The storm lasted 3 days and left 2000 people stranded by the end of the first day. 3,000 vehicles were left abandoned and had to be dug out and towed away.  All cities experienced freezing of individual lines.  St. Catharines reported 300 service calls during that weekend.  Ontario Hydro had two major breaks in electrical power.\\t0\\t0\\t0\\t\\t\\t31/01/1977 12:00:00 AM\\t0\\t0\\t\\t\\t\\t\\t\\t0\\t0\\n',\n",
       "  'Disaster\\tNatural\\tMeteorological - Hydrological\\tFlood\\tFort McMurray, Rainbow Lake AB\\t01/01/1977 12:00:00 AM\\tFort McMurray, Rainbow Lake AB, 1977.\\t0\\t0\\t0\\t\\t\\t01/01/1977 12:00:00 AM\\t0\\t0\\t\\t\\t\\t\\t\\t0\\t0\\n',\n",
       "  'Disaster\\tNatural\\tMeteorological - Hydrological\\tDrought\\tPrairie Provinces\\t01/01/1977 12:00:00 AM\\tPrairie Provinces, 1977. Cereal crop drought occurred in parts of the Prairies; among the most severe and widespread surface water droughts ever to occur on the Prairies; severe drought in southern Alberta and western Saskatchewan.\\t0\\t0\\t0\\t0\\t0\\t01/01/1977 12:00:00 AM\\t0\\t0\\t\\t\\t\\t\\t\\t0\\t0\\n',\n",
       "  'Incident\\tTechnology\\tFire\\tResidential\\tSaint John NB\\t01/01/1977 12:00:00 AM\\tSaint John NB, January 1, 1977. Cell block fire; 20 dead.\\t20\\t0\\t0\\t\\t\\t01/01/1977 12:00:00 AM\\t0\\t0\\t\\t\\t\\t\\t\\t0\\t0\\n',\n",
       "  \"Incident\\tTechnology\\tFire\\tResidential\\tPetty Harbour NL\\t26/12/1976 12:00:00 AM\\tPetty Harbour, just outside St. John's NL, December 26, 1976. A fire in a nursing home claimed the lives of 21 residents.\\t21\\t0\\t0\\t\\t\\t26/12/1976 12:00:00 AM\\t0\\t0\\t\\t\\t\\t\\t\\t0\\t0\\n\",\n",
       "  'Disaster\\tNatural\\tMeteorological - Hydrological\\tFlood\\tToronto ON\\t27/08/1976 12:00:00 AM\\tToronto ON, August 27, 1976. At least five roads were closed due to flooding.\\t0\\t0\\t0\\t\\t\\t27/08/1976 12:00:00 AM\\t0\\t0\\t\\t\\t\\t\\t\\t0\\t0\\n',\n",
       "  'Disaster\\tNatural\\tMeteorological - Hydrological\\tHurricane / Typhoon / Tropical Storm\\tNew Brunswick and Quebec\\t10/08/1976 12:00:00 AM\\tNew Brunswick and Quebec, August 10-11, 1976.  Hurricane Belle.  A hurricane warning was issued on Aug. 9.  Rainfall accumulation was 178 mm in a 3 day period, causing extensive damage. There were reports of flooded basements, damage to sewage disposal facilities, washed out roads and culverts. On Aug. 11 Saint John River rose to 4.9 m at Fredericton and 4.3 m at Maugerville. Approximately 13 areas were affected in QC including Notre-Dame-du-Lac and Sherbrooke.\\t0\\t0\\t0\\t\\t\\t11/08/1976 12:00:00 AM\\t0\\t0\\t\\t\\t\\t\\t\\t0\\t0\\n',\n",
       "  'Disaster\\tNatural\\tMeteorological - Hydrological\\tStorms and Severe Thunderstorms\\tMoncton NB\\t12/07/1976 12:00:00 AM\\tMoncton NB, July 12, 1976.  A rainstorm dropped 79.8 mm within 24 hours in Moncton, NB. Streets and basements all across the town were flooded. Transformers were hit by lightning during the storm; however, there were no widespread power outages. Smaller outages were fixed within a day.\\t0\\t0\\t0\\t8005500\\t1544469.5\\t12/07/1976 12:00:00 AM\\t3065714\\t4939786\\t\\t\\t\\t\\t\\t0\\t0\\n',\n",
       "  'Disaster\\tNatural\\tMeteorological - Hydrological\\tFlood\\tGrand Falls NL\\t04/05/1976 12:00:00 AM\\tGrand Falls NL, May 4, 1976. Spring runoff caused the rise of the Exploits River which inundated a section of highway west of Grand Falls;  two people were drowned when their vehicle went off the highway and into 3 meters of water.\\t2\\t0\\t0\\t\\t\\t04/05/1976 12:00:00 AM\\t0\\t0\\t\\t\\t\\t\\t\\t0\\t0\\n',\n",
       "  'Disaster\\tNatural\\tMeteorological - Hydrological\\tFlood\\tAssiniboine River MB\\t01/04/1976 12:00:00 AM\\tAssiniboine River MB, April 1976. Record flooding was reported.\\t0\\t0\\t0\\t4545103\\t876868.7\\t01/04/1976 12:00:00 AM\\t2134809\\t2410294\\t\\t\\t\\t\\t\\t0\\t0\\n',\n",
       "  'Disaster\\tNatural\\tMeteorological - Hydrological\\tFlood\\tSaint John River Basin NB\\t31/03/1976 12:00:00 AM\\tSaint John River Basin NB, March 31 – April 5, 1976. Town of Woodstock, Villages of Hartland, Ste Anne de Madawaska, Perth-Andover and Green River, New Brunswick; some river systems in the northeast of New Brunswick were also affected; cyclonic storms and high snowmelt rate contributed to cause severe ice jam flooding, inundated regional highways and municipal streets as well as railroads and bridges; massive ponds formed in some residential areas; losses in crops and livestock; a State of Emergency was declared; 400 people were evacuated as the flood submerged about 200 homes, several businesses, and a junior high school; 2 people died, one from a trail derailment, the other drowned.\\t2\\t0\\t400\\t975000\\t188102.9\\t05/04/1976 12:00:00 AM\\t155109\\t819891\\t\\t\\t\\t\\t\\t0\\t0\\n',\n",
       "  \"Disaster\\tNatural\\tMeteorological - Hydrological\\tFlood\\tSaskatchewan\\t01/03/1976 12:00:00 AM\\tSaskatchewan, March - April 15, 1976. During the spring season, there was large amount of rainfall in many areas of Saskatchewan. Flood damage to hospitals, churches, private property, small businesses and farmland occurred. Roads also required raising. Areas affected were the following: Souris River, Moose Jaw River, Qu'Appelle River, and Qu'Appelle Lakes.\\t0\\t0\\t0\\t1947804\\t375782.1\\t15/04/1976 12:00:00 AM\\t530877\\t1416927\\t\\t\\t\\t\\t\\t0\\t0\\n\",\n",
       "  'Disaster\\tNatural\\tMeteorological - Hydrological\\tFlood\\tQuebec\\t01/03/1976 12:00:00 AM\\tQuebec, March 1, 1976. Province-wide flooding caused by an unusually wet spring combined with heavy runoff from spring snowmelt affected several areas of the province; most notably the Lower St. Lawrence/Gaspésie, Saguenay/Lake St. John, Quebec, Montreal, Trois-Rivières, Eastern Townships, Abitibi/Temiscamingue and Outaouais areas. In total, approximately 104 communities located along and in the vicinity of the Souris and Assiniboine River were flooded. Public, private and municipal land was damaged.\\t0\\t0\\t0\\t20500000\\t3954983.9\\t15/07/1976 12:00:00 AM\\t7582330\\t12917670\\t\\t\\t\\t\\t\\t0\\t0\\n',\n",
       "  'Disaster\\tNatural\\tMeteorological - Hydrological\\tStorm Surge\\tNew Brunswick\\t02/02/1976 12:00:00 AM\\tNew Brunswick,  February 2-3, 1976. The \"Groundhog Day Storm\"; a severe storm hit the Bay of Fundy producing 188 km/h winds and 12 m waves with swells 10 m high; parts of central New Brunswick. Saint John, was hit the hardest within the province, with damaged docks, buildings, boats and mobile homes, lobster traps and fish nets; the storm severed hydro poles and trees; transportation and utilities were stopped for a week; coastline flooding occurred; 550 m of a sea wall caved in. All of Prince Edward Island and parts of Nova Scotia were affected. Refer to the Nova Scotia entry for more information on this storm system.\\t0\\t0\\t0\\t8005500\\t1544469.5\\t03/02/1976 12:00:00 AM\\t3065714\\t4939786\\t\\t\\t\\t\\t\\t0\\t0\\n',\n",
       "  'Disaster\\tNatural\\tMeteorological - Hydrological\\tStorm Surge\\tWestern, Central and Northern NS\\t02/02/1976 12:00:00 AM\\tWestern, Central and Northern NS, February 2-3, 1976. The \"Groundhog Day Storm\": high winds damaged roofs and windows, knocked down trees and power and telephone lines and caved in a 550 m sea wall.  The biggest impacts were caused by a storm surge. The fishing industry was greatly affected by the damage to the shoreline as a result of the extremely high tides. Refer to the New Brunswick entry for more information on this storm system.\\t0\\t0\\t0\\t4137800\\t798289.4\\t03/02/1976 12:00:00 AM\\t2067621\\t2070179\\t\\t\\t\\t\\t\\t0\\t0\\n',\n",
       "  'Incident\\tTechnology\\tExplosion\\tNon-Residential\\tPincher Creek AB\\t01/02/1976 12:00:00 AM\\tPincher Creek AB, February 1976. A sour gas well blow-out; the resulting fire and gas plume required the evacuation of 1036 sq. km.\\t0\\t0\\t0\\t\\t\\t01/02/1976 12:00:00 AM\\t0\\t0\\t\\t\\t\\t\\t\\t0\\t0\\n',\n",
       "  'Disaster\\tNatural\\tMeteorological - Hydrological\\tWinter Storm\\tRegion of Quebec City and Trois-Rivières QC\\t02/01/1976 12:00:00 AM\\tRegion of Québec and Trois-Rivières QC, January 2, 1976. A snowstorm caused major blackouts; 10 people were injured; 1 person died, and over 1,100 people provided assistance during the storm.\\t1\\t10\\t0\\t\\t\\t02/01/1976 12:00:00 AM\\t0\\t0\\t\\t\\t\\t\\t\\t0\\t0\\n',\n",
       "  'Disaster\\tNatural\\tMeteorological - Hydrological\\tStorms and Severe Thunderstorms\\tLake Superior ON\\t10/11/1975 12:00:00 AM\\tLake Superior ON, November 10, 1975. The entire crew of 29 died: the 218-metre ore carrier \"Edmund Fitzgerald\" sailing out of Sault Ste. Marie sank during a gale in 156 metres of water.\\t29\\t0\\t0\\t\\t\\t10/11/1975 12:00:00 AM\\t0\\t0\\t\\t\\t\\t\\t\\t0\\t0\\n',\n",
       "  'Disaster\\tNatural\\tMeteorological - Hydrological\\tHurricane / Typhoon / Tropical Storm\\tÎles-de-la-Madeleine QC\\t28/07/1975 12:00:00 AM\\tÎles-de-la-Madeleine QC, July 28, 1975. Hurricane \"Blanche\".  Violent winds up to 115 km/h accompanies with 120 mm of rain caused major damages. One person was killed, and seven fishing boats were damaged.\\t1\\t0\\t0\\t\\t\\t28/07/1975 12:00:00 AM\\t0\\t0\\t\\t\\t\\t\\t\\t0\\t0\\n',\n",
       "  'Disaster\\tNatural\\tMeteorological - Hydrological\\tTornado\\tSaint Bonaventure QC\\t25/07/1975 12:00:00 AM\\tSaint Bonaventure Region of Trois-Rivières QC, July 25, 1975. A tornado, which started around 5:40 pm, caused electrical failures and much damage; 75 dwellings were hit, leaving 45 uninhabitable; 918 people had to be relocated. There were 59 people injured, and 3 people died. The church was completely destroyed.\\t3\\t59\\t918\\t\\t\\t25/07/1975 12:00:00 AM\\t0\\t0\\t\\t\\t\\t\\t\\t0\\t0\\n',\n",
       "  'Disaster\\tNatural\\tGeological\\tLandslide\\tDevastation Glacier BC\\t22/07/1975 12:00:00 AM\\tDevastation Glacier BC, July 22, 1975. A massive rock avalanche buries geophysical survey crew.\\t4\\t0\\t0\\t\\t\\t22/07/1975 12:00:00 AM\\t0\\t0\\t\\t\\t\\t\\t\\t0\\t0\\n',\n",
       "  'Disaster\\tNatural\\tMeteorological - Hydrological\\tFlood\\tRegina SK\\t25/06/1975 12:00:00 AM\\tRegina SK, June 25, 1975. Over 120 mm of rain fell of Regina and the surrounding area, causing major property damage.\\t0\\t0\\t0\\t2828222\\t585149.4\\t25/06/1975 12:00:00 AM\\t640274\\t2187948\\t\\t\\t\\t\\t\\t0\\t0\\n',\n",
       "  'Disaster\\tNatural\\tMeteorological - Hydrological\\tFlood\\tSouthwestern AB\\t01/06/1975 12:00:00 AM\\tSouthwestern AB, June 1975.  A severe rain storm occurred over the upper portion of the Oldman River Basin in southwestern Alberta.  During a four-day period, the storm deluged the area with 360 mm of rain.  The storm resulted in flooding along the Oldman River and many of its tributaries.  Flood damage occurred in the towns of Waterton, Pincher Creek, Fort Macleod, Cardston and the City of Lethbridge.  At Fort Macleod, one resident drowned in the flood waters of the Oldman River.\\t1\\t0\\t0\\t\\t\\t01/06/1975 12:00:00 AM\\t0\\t0\\t\\t\\t\\t\\t\\t0\\t0\\n',\n",
       "  \"Disaster\\tNatural\\tMeteorological - Hydrological\\tFlood\\tSaskatchewan\\t01/04/1975 12:00:00 AM\\tSaskatchewan, April-May 1975. An extremely high snow accumulation combined with long periods of rain during the runoff period led to the spring flooding of Saskatchewan. The annual flood volume was 5 times above average.  Both the North and South Saskatchewan Rivers experienced flooding, along with the Qu\\\\'Appelle River basin.  Damage to homes, small businesses and public works occurred in 69 municipalities and 1 village. There were eroded banks, damaged churches, hospitals, roads and farmland. Losses in livestock and grains were reported. Raising of road grades was necessary.\\t0\\t0\\t0\\t1893852\\t391831.4\\t31/05/1975 12:00:00 AM\\t493226\\t1400626\\t\\t\\t\\t\\t\\t0\\t0\\n\",\n",
       "  'Disaster\\tNatural\\tMeteorological - Hydrological\\tStorms and Severe Thunderstorms\\tVancouver Island BC\\t01/03/1975 12:00:00 AM\\tVancouver Island BC, March 1975.\\t14\\t0\\t0\\t\\t\\t01/03/1975 12:00:00 AM\\t\\t0\\t0\\t\\t\\t\\t\\t0\\t0\\n',\n",
       "  'Disaster\\tNatural\\tMeteorological - Hydrological\\tStorms and Severe Thunderstorms\\tSaint John, Sussex Corner and Chaleur Bay NB\\t01/01/1975 12:00:00 AM\\tSaint John, Sussex Corner and Chaleur Bay NB, 1975. The storm brought heavy rain and high winds.\\t0\\t0\\t0\\t\\t\\t01/01/1975 12:00:00 AM\\t0\\t0\\t\\t\\t\\t\\t\\t0\\t0\\n',\n",
       "  'Incident\\tTechnology\\tTransportation accident\\tAir\\tRae Point NT\\t30/10/1974 12:00:00 AM\\tRae Point NT, October 30, 1974. Two survivors: a Pan-Arctic Oils Lockheed Electra crashed.\\t32\\t2\\t0\\t0\\t0\\t30/10/1974 12:00:00 AM\\t0\\t0\\t\\t\\t\\t\\t\\t0\\t0\\n',\n",
       "  'Disaster\\tNatural\\tMeteorological - Hydrological\\tStorms and Severe Thunderstorms\\tSoutheast YT\\t15/07/1974 12:00:00 AM\\tSoutheast YT, July 15-16, 1974. Heavy rainfall along the Alaska Highway caused sections of highway and bridges to be washed away; the Watson Lake area received 100 mm of rain; at times 25 mm fell during a six-hour period.\\t0\\t0\\t0\\t\\t\\t15/07/1974 12:00:00 AM\\t0\\t0\\t\\t\\t\\t\\t\\t0\\t0\\n',\n",
       "  \"Disaster\\tNatural\\tMeteorological - Hydrological\\tStorms and Severe Thunderstorms\\tCharlottetown PE\\t03/07/1974 12:00:00 AM\\tCharlottetown PE, July 3, 1974. At 4:30 pm, Charlottetown and the surrounding area received a half-hour storm of thunder, lightning, 30 mm of rain, large hailstones, and winds up to 140 km/h.  Damages reported were: broken windows, doors torn from frames, shingles lifted from roofs, buildings blown down, trees and shrubbery uprooted, electric and telephone lines knocked out by fallen trees, and damaged crops.  The damage was most severe in Sherwood, East Royalty, Mermaid, and Johnston's River. The airport in Charlottetown reported that planes were flipped over.\\t0\\t0\\t0\\t143000\\t32748.1\\t03/07/1974 12:00:00 AM\\t13473\\t129527\\t\\t\\t\\t\\t\\t0\\t0\\n\",\n",
       "  'Disaster\\tNatural\\tMeteorological - Hydrological\\tFlood\\tCambridge/Waterloo Region ON\\t17/05/1974 12:00:00 AM\\tGrand River, Cambridge ON, May 17-21, 1974. Many roads and businesses were closed in Cambridge; some small dams (one on the Grand River and two on the Maitland River) were damaged and utility services were disrupted in some areas.\\t0\\t0\\t0\\t\\t\\t21/05/1974 12:00:00 AM\\t0\\t0\\t\\t\\t\\t\\t\\t0\\t0\\n',\n",
       "  'Disaster\\tNatural\\tMeteorological - Hydrological\\tStorm - Unspecified / Other\\tNewfoundland\\t15/05/1974 12:00:00 AM\\tNewfoundland, May-July 1974. Severe ice conditions in Newfoundland resulted in losses in income and gear to fishermen. \\t0\\t0\\t0\\t5151752\\t1179790.5\\t31/07/1974 12:00:00 AM\\t3540871\\t1610881\\t\\t\\t\\t\\t\\t0\\t0\\n',\n",
       "  'Disaster\\tNatural\\tMeteorological - Hydrological\\tFlood\\tHay River Township, south shore of Great Slave Lake NT\\t02/05/1974 12:00:00 AM\\tHay River Township, south shore of Great Slave Lake NT, May 2, 1974. Flooding caused by ice jamming required evacuation of West Channel residents.\\t0\\t0\\t0\\t\\t\\t02/05/1974 12:00:00 AM\\t0\\t0\\t\\t\\t\\t\\t\\t0\\t0\\n',\n",
       "  'Disaster\\tNatural\\tMeteorological - Hydrological\\tFlood\\tSaint John River Basin NB\\t29/04/1974 12:00:00 AM\\tSaint John River NB, April 29, 1974. Heavy spring runoff and ice jams caused flooding along the Restigouche and Saint John Rivers beginning on April 29 and continuing to the middle of May. Major areas affected were along the Saint John River from Mactaquac through Fredericton to Maugerville and Sheffield. Residential property, private property, small businesses, schools, public property, churches and other buildings sustained damages. Highways, roads and bridges were flooded over and washed out. There were crop and livestock losses, also major damage to the fishing industry. Some minor flooding occurred along the following rivers: Keswick, Nashwaak, Tay, Oromocto and Jemseg.\\t0\\t0\\t0\\t800539\\t183329.5\\t29/04/1974 12:00:00 AM\\t73470\\t727069\\t\\t\\t\\t\\t\\t0\\t0\\n',\n",
       "  'Disaster\\tNatural\\tMeteorological - Hydrological\\tTornado\\tWindsor ON\\t03/04/1974 12:00:00 AM\\tWindsor ON, April 3, 1974. 9 dead, 30 injured.\\t9\\t30\\t0\\t\\t\\t03/04/1974 12:00:00 AM\\t0\\t0\\t\\t\\t\\t\\t\\t0\\t0\\n',\n",
       "  'Disaster\\tNatural\\tMeteorological - Hydrological\\tFlood\\tCentral and Southern Manitoba\\t01/04/1974 12:00:00 AM\\tCentral and Southern Manitoba, April-May 1974. Severe flooding occurred in central and southern Manitoba on practically all rivers and river systems; many people had to be evacuated; although the natural discharge of water was greater than the flood in 1966, the city of Winnipeg avoided major damage due to the Red River Floodway, the portage Diversion, and the Shellmouth Dam, which were flood control programs intentionally set-up to reduce flooding in Winnipeg.\\t0\\t0\\t0\\t14523061\\t3325891.8\\t31/05/1974 12:00:00 AM\\t11464005\\t3059056\\t\\t\\t\\t\\t\\t0\\t0\\n',\n",
       "  'Disaster\\tNatural\\tMeteorological - Hydrological\\tFlood\\tCentral and Northern Alberta\\t01/03/1974 12:00:00 AM\\tCentral and Northern AB, Spring 1974.  Adverse weather and flooding had major impacts in most of Alberta.  Heavy snowfall accumulations prevented the harvest of 1973 crops.  Farmers could not plant 1974 seeds either since the soil was saturated.  Spring flooding damaged private property, agricultural lands, livestock, roads, and bridges.\\t0\\t0\\t0\\t8532000\\t1953893.1\\t30/06/1974 12:00:00 AM\\t4246073\\t4285927\\t\\t\\t\\t\\t\\t0\\t0\\n',\n",
       "  'Disaster\\tNatural\\tMeteorological - Hydrological\\tDrought\\tPrairie Provinces\\t01/01/1974 12:00:00 AM\\tPrairie Provinces, 1974. Cereal crop drought occurred in parts of the Prairies.\\t0\\t0\\t0\\t0\\t0\\t01/01/1974 12:00:00 AM\\t0\\t0\\t\\t\\t\\t\\t\\t0\\t0\\n',\n",
       "  \"Disaster\\tNatural\\tMeteorological - Hydrological\\tFlood\\tSaskatchewan\\t01/01/1974 12:00:00 AM\\tSaskatchewan, 1974. In the winter of 1974, near-record snowfall resulted in extensive spring flooding across the province; farms and ranch land were flooded, while roads and bridges were damaged along the Carrot and Red Deer rivers; the communities of Pierceland and Green Lake on the Beaver River were affected; the cities of Moose Jaw, Regina and Lumsden, on the Qu'Appelle River basin, received major flood damage; in Moose Jaw, the Moose Jaw River, Thunder Creek and Spring Creek overflowed their banks and caused the flooding of 60 city blocks (including 480 homes) and the evacuation of 1400 people (April 18 and 19); the Wascana Creek overflowed its banks in Regina.\\t0\\t0\\t1400\\t6611800\\t1514152.7\\t01/01/1974 12:00:00 AM\\t4151261\\t2460539\\t\\t\\t\\t\\t\\t0\\t0\\n\",\n",
       "  'Disaster\\tNatural\\tMeteorological - Hydrological\\tFlood\\tManiwaki QC\\t01/01/1974 12:00:00 AM\\tManiwaki QC, January-June 1974. Over 300 municipalities were affected by the province-wide flooding caused by an unusually wet spring combined with excessive runoff of spring snowmelt;  flooding centred on the Gatineau, Ottawa, Richelieu, Saint Lawrence, Chateauguay, Saint-Maurice, and Chaudière Rivers; over 1000 homes and 600 summer cottages were flooded; approximately 7000 people were evacuated; in Maniwaki, damages were high as 3000 residents had to be evacuated; the communities of Wakefield, Chelsea, and Pointe-Gatineau, downstream from Maniwaki, were also affected.\\t0\\t0\\t10000\\t21765136\\t4984382.3\\t30/06/1974 12:00:00 AM\\t8670477\\t13094659\\t\\t\\t\\t\\t\\t0\\t0\\n',\n",
       "  'Disaster\\tNatural\\tMeteorological - Hydrological\\tStorms and Severe Thunderstorms\\tCedoux SK\\t27/08/1973 12:00:00 AM\\tCedoux SK, August 27, 1973. The largest documented hailstone in Canada was produced by this storm: 290 grams and 114 mm diameter.\\t0\\t0\\t0\\t\\t\\t27/08/1973 12:00:00 AM\\t0\\t0\\t\\t\\t\\t\\t\\t0\\t0\\n',\n",
       "  'Disaster\\tNatural\\tGeological\\tLandslide\\tHarbour Breton NL\\t01/08/1973 12:00:00 AM\\tHarbour Breton NL, August 1, 1973. Debris avalanche struck houses; 4 houses were swept into the harbour and destroyed.\\t4\\t0\\t0\\t\\t\\t01/08/1973 12:00:00 AM\\t0\\t0\\t\\t\\t\\t\\t\\t0\\t0\\n',\n",
       "  \"Disaster\\tNatural\\tMeteorological - Hydrological\\tStorms and Severe Thunderstorms\\tNewfoundland, Prince Edward Island and Nova Scotia\\t17/06/1973 12:00:00 AM\\tMaritimes, June 17, 1973. A sudden severe storm struck the Atlantic provinces causing extensive damage to fishermen's gear.\\t0\\t0\\t0\\t5330000\\t1355084.7\\t17/06/1973 12:00:00 AM\\t2314500\\t3015500\\t\\t\\t\\t\\t\\t0\\t0\\n\",\n",
       "  'Disaster\\tNatural\\tMeteorological - Hydrological\\tFlood\\tSaint John River Basin NB\\t27/04/1973 12:00:00 AM\\tSaint John River basin NB, April 27 - May 5, 1973. The Sheffield-Maugerville area (downstream from Fredericton), and Fredericton were some of the communities that were flooded; the pulp and paper industry was affected.  The centre of the Province reported 68 mm of rain.  The 60 cm of snow on the frozen ground increased the volume of water which was running into the river.  Over 2,500 private homes were flooded and 536 families (1,600 persons) were forced to evacuate their homes in the central part of the Province.  Only one death has been attributed to the flooding.  Major losses to crops have resulted from the high water, erosion, and loss of greenhouse plants.\\t1\\t0\\t1600\\t7311000\\t1858728.8\\t05/05/1973 12:00:00 AM\\t4225495\\t3085505\\t\\t\\t\\t\\t\\t0\\t0\\n',\n",
       "  'Disaster\\tNatural\\tMeteorological - Hydrological\\tWinter Storm\\tBarrie ON\\t18/03/1973 12:00:00 AM\\tBarrie ON, March 18, 1973. A bus-truck collision on Hwy 400 caused 12 deaths and 43 blizzard-related injuries.\\t12\\t43\\t0\\t\\t\\t18/03/1973 12:00:00 AM\\t0\\t0\\t\\t\\t\\t\\t\\t0\\t0\\n',\n",
       "  'Disaster\\tNatural\\tMeteorological - Hydrological\\tFlood\\tLake Huron ON\\t01/03/1973 12:00:00 AM\\tLake Huron ON, March 1973. The southern coast of Lake Huron from Sarnia to Bayfield was hit by major storms in the months of March and April; heavy damage was reported.\\t0\\t0\\t0\\t\\t\\t30/04/1973 12:00:00 AM\\t0\\t0\\t\\t\\t\\t\\t\\t0\\t0\\n',\n",
       "  'Disaster\\tNatural\\tMeteorological - Hydrological\\tDrought\\tOntario\\t01/01/1973 12:00:00 AM\\tOntario, 1973. Heat and drought stress resulted in low crop yields; record warm summer and local drought hurt potato and apple production.\\t0\\t0\\t0\\t\\t\\t01/01/1973 12:00:00 AM\\t0\\t0\\t\\t\\t\\t\\t\\t0\\t0\\n',\n",
       "  'Disaster\\tNatural\\tMeteorological - Hydrological\\tDrought\\tPrairie Provinces\\t01/01/1973 12:00:00 AM\\tPrairie Provinces, 1973. Severe and widespread surface water droughts reported on the Prairies, as well as winterkill in forage crops in British Columbia interior.\\t0\\t0\\t0\\t0\\t0\\t01/01/1973 12:00:00 AM\\t0\\t0\\t\\t\\t\\t\\t\\t0\\t0\\n',\n",
       "  'Incident\\tConflict\\tArson\\tResidential\\tMontreal QC\\t01/09/1972 12:00:00 AM\\tMontreal QC, September 1, 1972. The fire was set in the \\\\\"Blue Bird\\\\\" nightclub by three patrons who were ejected from the establishment earlier in the evening; 37 dead, 50 injured.\\t37\\t50\\t0\\t\\t\\t01/09/1972 12:00:00 AM\\t\\t\\t\\t\\t\\t\\t\\t0\\t0\\n',\n",
       "  'Disaster\\tNatural\\tMeteorological - Hydrological\\tFlood\\tSmoky and Peace River Basins AB\\t11/06/1972 12:00:00 AM\\tSmoky and Peace River basins AB, June 11-13, 1972. More than 150 mm of rain fell over parts of the Peace River basin southwest of Grande Prairie.  On June 13, a State of Emergency was declared in the town of Grande Prairie as flood water from the Wapiti River inundated the water treatment plant.  Strict water rationing was brought into effect and all non-essential water use was curtailed.  Some local industries were shut down and elementary schools closed.\\t0\\t0\\t105\\t\\t\\t13/06/1972 12:00:00 AM\\t0\\t0\\t\\t\\t\\t\\t\\t0\\t0\\n',\n",
       "  'Disaster\\tNatural\\tMeteorological - Hydrological\\tFlood\\tCorner Brook NL\\t15/05/1972 12:00:00 AM\\tCorner Brook NL, May 15, 1972. Spring runoff accompanied by rainfall caused flooding affecting communities on the Port au Prince Peninsula and area;  damage to CNR; in Corner Brook, a 3-year old child drowned when swept away by a swollen brook behind her home.\\t1\\t0\\t0\\t\\t\\t15/05/1972 12:00:00 AM\\t\\t\\t\\t\\t\\t\\t\\t0\\t0\\n',\n",
       "  'Disaster\\tNatural\\tMeteorological - Hydrological\\tFlood\\tPrince George BC\\t01/05/1972 12:00:00 AM\\tFraser River at Prince George BC, May 1972. Freshet flooding caused significant damage along the Fraser River; an above-average snowfall, and substantial mountain snowpacks, followed by high temperatures in late May resulted in severe flooding at the end of May and into June; the Fraser River peaked three times in June, flooding both the upper and lower Fraser River Valley, affecting several communities (upstream communities of Kamloops and Prince George, and downstream communities of Surrey and Hope).\\t0\\t0\\t0\\t5300000\\t1452054.8\\t01/05/1972 12:00:00 AM\\t1662223\\t3637777\\t\\t\\t\\t\\t\\t0\\t0\\n',\n",
       "  'Disaster\\tNatural\\tMeteorological - Hydrological\\tFlood\\tRichelieu River QC\\t01/04/1972 12:00:00 AM\\tRichelieu River QC, April-June 1972. Serious flooding throughout the province, notably that of the Richelieu which affected land from Missisquoi Bay to Saint-Jean, lasting from mid-April to the beginning of June.\\t0\\t0\\t0\\t\\t\\t01/06/1972 12:00:00 AM\\t0\\t0\\t\\t\\t\\t\\t\\t0\\t0\\n',\n",
       "  'Disaster\\tNatural\\tMeteorological - Hydrological\\tWinter Storm\\tSouthwestern Quebec\\t19/02/1972 12:00:00 AM\\tSouthwestern Quebec, February 19, 1972. A snowstorm produced 80 km/h winds and 37 cm of snow, causing widespread damage.\\t0\\t0\\t0\\t\\t\\t19/02/1972 12:00:00 AM\\t0\\t0\\t\\t\\t\\t\\t\\t0\\t0\\n',\n",
       "  'Incident\\tConflict\\tArson\\tNon-Residential\\tKootenay region and Vancouver area BC\\t01/01/1972 12:00:00 AM\\tKootenay region and Vancouver area BC, January 1, 1972 to September 24, 1986. Dozens of arson and bomb attacks were carried out in a resurgence of activity by the radical Doukhobor sect, the Sons of Freedom; favourite targets were railways, utility poles and lines belonging to the West Kootenay Power and Light Company and the homes and buildings of Orthodox Doukhobors.\\t0\\t0\\t0\\t\\t\\t24/09/1986 12:00:00 AM\\t0\\t0\\t\\t\\t\\t\\t\\t0\\t0\\n',\n",
       "  'Disaster\\tNatural\\tMeteorological - Hydrological\\tHurricane / Typhoon / Tropical Storm\\tVictoriaville QC\\t27/08/1971 12:00:00 AM\\tVictoriaville QC, August 27, 1971. Hurricane \"Doria\" caused floods in the region of Bois-Francs, Québec; the communities most affected were Thetford Mines, Victoriaville and Warwick.\\t0\\t0\\t0\\t\\t\\t27/08/1971 12:00:00 AM\\t0\\t0\\t\\t\\t\\t\\t\\t0\\t0\\n',\n",
       "  'Disaster\\tNatural\\tMeteorological - Hydrological\\tHurricane / Typhoon / Tropical Storm\\tDartmouth NS\\t15/08/1971 12:00:00 AM\\tDartmouth NS, August 15-16, 1971. Hurricane \"Beth\" produced 296 mm of rain in Nova Scotia; damage to crops was extensive, sections of highways and bridges were washed out; fresh water supplies in Dartmouth, Nova Scotia were left contaminated for days because of extensive runoff into Lake Antigonish.\\t0\\t0\\t0\\t2426000\\t696459.3\\t16/08/1971 12:00:00 AM\\t833229\\t1592771\\t\\t\\t\\t\\t\\t0\\t0\\n',\n",
       "  'Disaster\\tNatural\\tMeteorological - Hydrological\\tStorms and Severe Thunderstorms\\tWestern Prairies\\t23/07/1971 12:00:00 AM\\tWestern Prairies, July 23, 1971. Heavy hail damage extended over 500 km.\\t0\\t0\\t0\\t\\t\\t23/07/1971 12:00:00 AM\\t0\\t0\\t\\t\\t\\t\\t\\t0\\t0\\n',\n",
       "  'Disaster\\tNatural\\tMeteorological - Hydrological\\tTornado\\tManiwaki, Déléage, Egan, South Region of Outaouais QC\\t14/05/1971 12:00:00 AM\\tManiwaki, Déléage and Egan-South Region of Outaouais QC, May 14, 1971. A tornado damaged 71 residences, and completely destroyed 6. 25 families were evacuated (based on family of 4), 11 people were injured and 2 people were killed.\\t2\\t11\\t100\\t\\t\\t14/05/1971 12:00:00 AM\\t0\\t0\\t\\t\\t\\t\\t\\t0\\t0\\n',\n",
       "  'Disaster\\tNatural\\tGeological\\tLandslide\\tFraser Canyon BC\\t04/05/1971 12:00:00 AM\\tFraser Canyon BC, May 4, 1971. CNR train derailed by rockfall.\\t3\\t0\\t0\\t\\t\\t04/05/1971 12:00:00 AM\\t\\t\\t\\t\\t\\t\\t\\t0\\t0\\n',\n",
       "  'Disaster\\tNatural\\tGeological\\tLandslide\\tSaint-Jean-Vianney QC\\t04/05/1971 12:00:00 AM\\tSaint-Jean-Vianney QC, May 4, 1971. 31 dead, 1500 evacuated (entire town); during a lengthy rainstorm, a rapid retrogressive flowslide in leda clay swept away several homes as a 213 metre hole appeared in the ground swallowing the houses, several cars and a bus.\\t31\\t0\\t1500\\t1250000\\t358851.7\\t04/05/1971 12:00:00 AM\\t1250000\\t0\\t\\t\\t\\t\\t\\t0\\t0\\n',\n",
       "  'Disaster\\tNatural\\tMeteorological - Hydrological\\tFlood\\tSaint-Jean QC\\t01/05/1971 12:00:00 AM\\tSaint-Jean QC, May 1971. The Richelieu River overflowed to cover the surrounding area up to 72 kilometres in distance, reaching a height of 2.44 m of water; 65% of the damage costs were directed to the rural sector; basements in Saint-Jean were flooded.\\t0\\t0\\t0\\t\\t\\t01/05/1971 12:00:00 AM\\t0\\t0\\t\\t\\t\\t\\t\\t0\\t0\\n',\n",
       "  'Disaster\\tNatural\\tMeteorological - Hydrological\\tFlood\\tMontreal QC\\t01/04/1971 12:00:00 AM\\tMontreal QC, April 1971. Flooding at the mouth of the Outaouais on Lac des Deux-Montagnes and of the St. Lawrence from the southwest corner of Montreal island to Lake Saint-Pierre.\\t0\\t0\\t0\\t\\t\\t30/04/1971 12:00:00 AM\\t0\\t0\\t\\t\\t\\t\\t\\t0\\t0\\n',\n",
       "  \"Disaster\\tNatural\\tMeteorological - Hydrological\\tWinter Storm\\tMontreal QC\\t04/03/1971 12:00:00 AM\\tMontreal QC, March 4, 1971. The city\\\\'s worst snowstorm dumped 47 cm of snow; winds of 110 km/h produced huge drifts; electricity was cut for 2-7 days.\\t0\\t0\\t0\\t\\t\\t04/03/1971 12:00:00 AM\\t\\t\\t\\t\\t\\t\\t\\t0\\t0\\n\",\n",
       "  'Disaster\\tNatural\\tMeteorological - Hydrological\\tFlood\\tNova Scotia\\t13/02/1971 12:00:00 AM\\tNova Scotia, February 13-15, 1971.  Floods due to heavy rains and high temperatures, which caused snowmelt and ice jamming. There was widespread flood damage; homes and businesses flooded, highways and roads inundated.\\t\\t\\t\\t\\t\\t15/02/1971 12:00:00 AM\\t\\t\\t\\t\\t\\t\\t\\t0\\t0\\n',\n",
       "  'Disaster\\tNatural\\tMeteorological - Hydrological\\tAvalanche\\tTerrace BC\\t01/01/1971 12:00:00 AM\\tTerrace BC, 1971. 7 dead, one survivor; eight people were waiting out a storm in a small café when an avalanche struck the building.\\t7\\t0\\t1\\t\\t\\t01/01/1971 12:00:00 AM\\t\\t\\t\\t\\t\\t\\t\\t0\\t0\\n',\n",
       "  'Incident\\tConflict\\tTerrorist\\tKidnapping / Murder\\tMontreal QC\\t05/10/1970 12:00:00 AM\\tMontreal QC, October 5, 1970. British commercial attaché James Cross was kidnapped by the FLQ (Front de libération de Québec); encouraged by their success, the FLQ then kidnapped Québec Minister of Labour and Acting Premier Pierre Laporte on Oct. 10,1970; Laporte was murdered on Oct. 17,1970; in response, the federal government implemented the War Measures Act; Cross was held for 59 days and then released after negotiations which resulted in his kidnappers being allowed to leave the country.\\t1\\t0\\t0\\t\\t\\t05/10/1970 12:00:00 AM\\t\\t\\t\\t\\t\\t\\t\\t0\\t0\\n',\n",
       "  'Disaster\\tNatural\\tMeteorological - Hydrological\\tTornado\\tSudbury, Lively, Coppercliff and Field ON\\t20/08/1970 12:00:00 AM\\tSudbury, Lively, Coppercliff and Field ON, August 20, 1970.  An F3 tornado (wind speeds of 252-330 km/h) caused the loss of six lives, 200 injuries, and extensive damage to property.\\t6\\t200\\t0\\t75000\\t22167.5\\t20/08/1970 12:00:00 AM\\t75000\\t\\t\\t\\t\\t\\t\\t0\\t0\\n',\n",
       "  'Incident\\tTechnology\\tTransportation accident\\tAir\\tToronto ON\\t05/07/1970 12:00:00 AM\\tPearson International Airport (then called Malton Airport), Toronto ON, July 5, 1970. 109 dead (all aboard): a DC-8 lost one starboard engine during a landing attempt: on the second attempt, the second starboard engine fell off and the plane crashed.\\t109\\t0\\t0\\t\\t\\t05/07/1970 12:00:00 AM\\t0\\t0\\t\\t\\t\\t\\t\\t0\\t0\\n',\n",
       "  'Disaster\\tNatural\\tMeteorological - Hydrological\\tFlood\\tCentral Ontario\\t27/06/1970 12:00:00 AM\\tCentral Ontario, June 27-28, 1970. Areas along the Spanish, Wanapetei, Blind, Little White, Goulais and Mississagi Rivers, as well as the city of Sault Ste. Marie experienced flooding; several businesses and roads were closed due to the flooding.  Most of the damages were reported in Sault Ste. Marie and on the Spanish, Wanapetei and Blind Rivers.\\t0\\t0\\t0\\t\\t\\t28/06/1970 12:00:00 AM\\t0\\t0\\t\\t\\t\\t\\t\\t0\\t0\\n',\n",
       "  'Disaster\\tNatural\\tMeteorological - Hydrological\\tFlood\\tWinnipeg MB\\t30/04/1970 12:00:00 AM\\tWinnipeg MB, April 30, 1970. Severe flooding in the Winnipeg area of the Red River.\\t0\\t0\\t0\\t\\t\\t30/04/1970 12:00:00 AM\\t0\\t0\\t\\t\\t\\t\\t\\t0\\t0\\n',\n",
       "  \"Disaster\\tNatural\\tMeteorological - Hydrological\\tFlood\\tChaudière River QC\\t22/04/1970 12:00:00 AM\\tQuébec, April 1970. The year of 1970 was marked by two exceptional floods.  One of the St. Maurice, Mattawin, l'Assomption and Maskinonge Rivers on May 5, 1970 and the other in the Chaudière River Basin on April 22, 1970.\\t0\\t0\\t0\\t\\t\\t05/05/1970 12:00:00 AM\\t0\\t0\\t\\t\\t\\t\\t\\t0\\t0\\n\",\n",
       "  \"Disaster\\tNatural\\tMeteorological - Hydrological\\tWinter Storm\\tSt. John's NL\\t27/02/1970 12:00:00 AM\\tSt. John's NL, February 27, 1970. Major sleet damage was done to transmission line towers.\\t0\\t0\\t0\\t\\t\\t27/02/1970 12:00:00 AM\\t0\\t0\\t\\t\\t\\t\\t\\t0\\t0\\n\",\n",
       "  'Disaster\\tNatural\\tMeteorological - Hydrological\\tFlood\\tSaint John River Basin NB\\t02/02/1970 12:00:00 AM\\tSaint John River basin NB, February 2-6, 1970. Snowmelt, ice jams and heavy rainfall caused flooding in New Brunswick; a series of ice jams in six rivers caused the destruction of 32 bridges and caused the damage of 124 other bridges. Extensive damage was done to private homes, farmsteads, farm equipment, fishing gear,  industrial and commercial companies. Over 600 properties were damaged.  One person died when a barn collapsed, and two others drowned.\\t3\\t0\\t0\\t3737000\\t1104532\\t06/02/1970 12:00:00 AM\\t1550023\\t2186977\\t\\t\\t\\t\\t\\t0\\t0\\n',\n",
       "  'Disaster\\tNatural\\tMeteorological - Hydrological\\tWinter Storm\\tMontreal QC\\t28/12/1969 12:00:00 AM\\tMontreal QC, December 28, 1969. A 60 hour snowstorm dumped 70 cm of snow on Montréal causing 15 deaths.\\t15\\t0\\t0\\t\\t\\t28/12/1969 12:00:00 AM\\t\\t\\t\\t\\t\\t\\t\\t0\\t0\\n',\n",
       "  'Incident\\tTechnology\\tFire\\tResidential\\tNotre-Dame-du-Lac QC\\t02/12/1969 12:00:00 AM\\tNotre-Dame-du-Lac QC, December 2, 1969. Nursing home fire; 38 dead; 30 injured.\\t38\\t30\\t0\\t\\t\\t02/12/1969 12:00:00 AM\\t\\t\\t\\t\\t\\t\\t\\t0\\t0\\n',\n",
       "  'Disaster\\tNatural\\tMeteorological - Hydrological\\tStorms and Severe Thunderstorms\\tEdmonton AB\\t04/08/1969 12:00:00 AM\\tEdmonton AB, August 4, 1969. Some of the largest hailstones to that date.\\t0\\t0\\t0\\t\\t\\t04/08/1969 12:00:00 AM\\t\\t\\t\\t\\t\\t\\t\\t0\\t0\\n',\n",
       "  'Disaster\\tNatural\\tMeteorological - Hydrological\\tFlood\\tNewfoundland\\t19/05/1969 12:00:00 AM\\tNF, May 19-21, 1969.  Widespread flooding caused by heavy rainfall and snowmelt; railway traffic disrupted, highways washed out, homes and buildings inundated. Several municipal agencies assisted in the flood relief.\\t0\\t0\\t0\\t\\t\\t21/05/1969 12:00:00 AM\\t\\t\\t\\t\\t\\t\\t\\t0\\t0\\n',\n",
       "  'Disaster\\tNatural\\tMeteorological - Hydrological\\tFlood\\tIroquois NB\\t11/05/1969 12:00:00 AM\\tIroquois NB, May 11, 1969. Spring runoff created flood conditions throughout the upper portion of the Saint John River basin, New Brunswick; a 9-year old child drowned in a river at Iroquois, Madawaska County.\\t1\\t0\\t0\\t\\t\\t11/05/1969 12:00:00 AM\\t\\t\\t\\t\\t\\t\\t\\t0\\t0\\n',\n",
       "  'Disaster\\tNatural\\tMeteorological - Hydrological\\tFlood\\tWinnipeg MB\\t02/05/1969 12:00:00 AM\\tWinnipeg MB, May 2, 1969. Severe flooding in the Winnipeg area of the Red River.\\t0\\t0\\t0\\t\\t\\t02/05/1969 12:00:00 AM\\t\\t\\t\\t\\t\\t\\t\\t0\\t0\\n',\n",
       "  'Disaster\\tNatural\\tGeological\\tLandslide\\tPorteau BC\\t09/02/1969 12:00:00 AM\\tPorteau BC, February 9, 1969. Rockfall struck a car at Porteau Bluffs.\\t3\\t1\\t0\\t\\t\\t09/02/1969 12:00:00 AM\\t\\t\\t\\t\\t\\t\\t\\t0\\t0\\n',\n",
       "  'Disaster\\tNatural\\tMeteorological - Hydrological\\tWinter Storm\\tHalifax NS\\t02/02/1969 12:00:00 AM\\tHalifax NS, February 2, 1969. A snowstorm hit Halifax, leaving 75 cm in the downtown area, and 96 cm of snow in the suburbs; most of the snow fell within 24 hours.\\t0\\t0\\t0\\t\\t\\t02/02/1969 12:00:00 AM\\t\\t\\t\\t\\t\\t\\t\\t0\\t0\\n',\n",
       "  'Incident\\tTechnology\\tFire\\tResidential\\tDunnville ON\\t01/01/1969 12:00:00 AM\\tDunnville ON, 1969. Victoria Hotel Fire; 13 dead.\\t13\\t0\\t0\\t\\t\\t01/01/1969 12:00:00 AM\\t\\t\\t\\t\\t\\t\\t\\t0\\t0\\n',\n",
       "  'Disaster\\tNatural\\tMeteorological - Hydrological\\tDrought\\tPrairie Provinces\\t01/01/1969 12:00:00 AM\\tPrairie Provinces, 1969. Cereal crop drought occurred in parts of the Prairies.\\t0\\t0\\t0\\t0\\t0\\t01/01/1969 12:00:00 AM\\t\\t\\t\\t\\t\\t\\t\\t0\\t0\\n',\n",
       "  \"Disaster\\tNatural\\tMeteorological - Hydrological\\tFlood\\tQu'Appelle River Basin SK\\t01/01/1969 12:00:00 AM\\tQu'Appelle River SK, April 1969.  Flooding was caused by a rapid spring snowmelt following high fall and winter precipitation. Twelve to 14 thousand acres of agricultural land were flooded. There was urban flooding in Moose Jaw; highways, roads and bridges were damaged, and a train derailed by washout.\\t0\\t0\\t0\\t\\t\\t01/01/1969 12:00:00 AM\\t\\t\\t\\t\\t\\t\\t\\t0\\t0\\n\",\n",
       "  'Disaster\\tNatural\\tMeteorological - Hydrological\\tHurricane / Typhoon / Tropical Storm\\tMaritime Provinces\\t21/10/1968 12:00:00 AM\\tMaritime Provinces, October 21, 1968. Remnants of Hurricane \"Gladys\" passed over Cape Breton Island, killing one person and producing rainfall of 45-90 mm; the storm caused flooding in New Brunswick and Nova Scotia.\\t1\\t0\\t0\\t0\\t0\\t21/10/1968 12:00:00 AM\\t\\t\\t\\t\\t\\t\\t\\t0\\t0\\n',\n",
       "  'Disaster\\tNatural\\tMeteorological - Hydrological\\tStorms and Severe Thunderstorms\\tLambeth ON\\t19/08/1968 12:00:00 AM\\tLambeth ON, August 19, 1968. A severe hailstorm caused extensive crop and property damage and left ice up to 17.5 cm deep on streets.\\t0\\t0\\t0\\t\\t\\t19/08/1968 12:00:00 AM\\t\\t\\t\\t\\t\\t\\t\\t0\\t0\\n',\n",
       "  'Disaster\\tNatural\\tGeological\\tLandslide\\tCamp Creek BC\\t05/06/1968 12:00:00 AM\\tCamp Creek BC, June 5, 1968. Debris flow caused by heavy rains struck a car on the TransCanada Highway.\\t4\\t0\\t0\\t\\t\\t05/06/1968 12:00:00 AM\\t\\t\\t\\t\\t\\t\\t\\t0\\t0\\n',\n",
       "  'Disaster\\tNatural\\tMeteorological - Hydrological\\tFlood\\tSouthwestern and Southern Ontario\\t02/02/1968 12:00:00 AM\\tSouthwestern and Southern Ontario, February 2, 1968. Areas around Kettle Creek, the Thames and Ausable Rivers, the St. Clair and Niagara regions and the cities of Bayfield and Toronto experienced some flooding in February 1968.\\t0\\t0\\t0\\t\\t\\t02/02/1968 12:00:00 AM\\t\\t\\t\\t\\t\\t\\t\\t0\\t0\\n',\n",
       "  'Disaster\\tNatural\\tMeteorological - Hydrological\\tWinter Storm\\tSouthern Ontario\\t13/01/1968 12:00:00 AM\\tSouthern Ontario, January 13, 1968. Experienced 3 days of freezing rain and wet snow in Jan. 1968; the storm caused widespread power failures, school closures, cancellation of food deliveries, disruption of mail and fire services, the collapse of several buildings and antennae, isolation of hospitals, and highway blockings.\\t0\\t0\\t0\\t\\t\\t13/01/1968 12:00:00 AM\\t\\t\\t\\t\\t\\t\\t\\t1027473\\t0\\n',\n",
       "  'Disaster\\tNatural\\tMeteorological - Hydrological\\tDrought\\tPrairie Provinces\\t01/01/1968 12:00:00 AM\\tPrairie Provinces, 1968. Cereal crop drought occurred in parts of the Prairies; severe and widespread surface water droughts reported on the Prairies.\\t0\\t0\\t0\\t0\\t0\\t01/01/1968 12:00:00 AM\\t\\t\\t\\t\\t\\t\\t\\t0\\t0\\n',\n",
       "  'Disaster\\tNatural\\tMeteorological - Hydrological\\tStorms and Severe Thunderstorms\\tNova Scotia\\t11/10/1967 12:00:00 AM\\tNova Scotia, October 11-12, 1967. It produced heavy rainfall, resulting in serious flooding throughout Nova Scotia.\\t0\\t0\\t0\\t\\t\\t12/10/1967 12:00:00 AM\\t\\t\\t\\t\\t\\t\\t\\t0\\t0\\n',\n",
       "  'Disaster\\tNatural\\tMeteorological - Hydrological\\tWinter Storm\\tSouthern Alberta\\t17/04/1967 12:00:00 AM\\tSouthern Alberta, April 17-20 and April 27-29, 1967. A series of intense snowstorms dropped a record 175 cm of snow on southern Alberta. The deep snow blocked roads, closed schools and cut off power.  Army units were dispatched to assist in the snow clearing, while food, fuel and cattle feed were airlifted into the province.  Thousands of cattle, unable to forage for food in the deep snow, perished on the open range.\\t0\\t0\\t0\\t\\t\\t20/04/1967 12:00:00 AM\\t\\t\\t\\t\\t\\t\\t\\t0\\t0\\n',\n",
       "  'Disaster\\tNatural\\tMeteorological - Hydrological\\tTornado\\tHuron and Perth counties ON\\t17/04/1967 12:00:00 AM\\tHuron/Perth counties ON, April 17, 1967.\\t0\\t0\\t0\\t\\t\\t17/04/1967 12:00:00 AM\\t\\t\\t\\t\\t\\t\\t\\t0\\t0\\n',\n",
       "  'Disaster\\tNatural\\tMeteorological - Hydrological\\tDrought\\tPrairie Provinces\\t01/01/1967 12:00:00 AM\\tPrairie Provinces, 1967. Cereal crop drought occurred in parts of the Prairies; extensive drought from the Peace River, Alberta, to southern Manitoba.\\t0\\t0\\t0\\t0\\t0\\t01/01/1967 12:00:00 AM\\t\\t\\t\\t\\t\\t\\t\\t0\\t0\\n',\n",
       "  'Disaster\\tNatural\\tMeteorological - Hydrological\\tStorms and Severe Thunderstorms\\tNew Brunswick\\t01/01/1967 12:00:00 AM\\tNew Brunswick, 1967.\\t0\\t0\\t0\\t\\t\\t01/01/1967 12:00:00 AM\\t\\t\\t\\t\\t\\t\\t\\t0\\t0\\n',\n",
       "  'Incident\\tTechnology\\tTransportation accident\\tAir\\tGander NL\\t01/01/1967 12:00:00 AM\\tGander NF, 1967. Ilyushin Turboprop crash killed 33.\\t33\\t0\\t0\\t\\t\\t01/01/1967 12:00:00 AM\\t\\t\\t\\t\\t\\t\\t\\t0\\t0\\n',\n",
       "  'Incident\\tTechnology\\tExplosion\\tNon-Residential\\tCrowsnest Pass BC\\t01/01/1967 12:00:00 AM\\tCrowsnest Pass BC, 1967. An explosion in Balmer North, Crowsnest Pass, in the Kootenay region killed 15 people.\\t15\\t0\\t0\\t\\t\\t01/01/1967 12:00:00 AM\\t\\t\\t\\t\\t\\t\\t\\t0\\t0\\n',\n",
       "  'Disaster\\tNatural\\tMeteorological - Hydrological\\tFlood\\tBaie-Comeau QC\\t03/11/1966 12:00:00 AM\\tBaie-Comeau QC, November 3, 1966. An exceptional fall flood on the north bank of the St. Lawrence River, Québec; the region of Baie-Saint-Paul - Baie-Comeau reported the most severe damage, while the effects of the flood reached the region of Batiscan à Sept-Îles; three people died at Pointe-aux-Anglais on the Côte-Nord, two others died at Charlevoix.\\t5\\t0\\t0\\t\\t\\t03/11/1966 12:00:00 AM\\t\\t\\t\\t\\t\\t\\t\\t0\\t0\\n',\n",
       "  'Disaster\\tNatural\\tMeteorological - Hydrological\\tFlood\\tWinnipeg MB\\t14/04/1966 12:00:00 AM\\tWinnipeg MB, April 14, 1966. Spring runoff and heavy rains caused extensive damage.\\t0\\t0\\t0\\t\\t\\t14/04/1966 12:00:00 AM\\t\\t\\t\\t\\t\\t\\t\\t0\\t0\\n',\n",
       "  'Incident\\tTechnology\\tTransportation accident\\tAir\\tToyko, Japan\\t04/03/1966 12:00:00 AM\\tTokyo Japan, March 4, 1966: 8 survivors: a CP air DC-8 caught its wheels in the approach lights while landing in dense fog at Tokyo International Airport and smashed into a retaining wall.\\t64\\t0\\t0\\t\\t\\t04/03/1966 12:00:00 AM\\t\\t\\t\\t\\t\\t\\t\\t0\\t0\\n',\n",
       "  'Disaster\\tNatural\\tMeteorological - Hydrological\\tWinter Storm\\tWinnipeg MB\\t04/03/1966 12:00:00 AM\\tWinnipeg MB, March 4, 1966. A storm brought 35 cm of snow and 120 km/h winds, paralysing the city for two days.\\t0\\t0\\t0\\t\\t\\t04/03/1966 12:00:00 AM\\t\\t\\t\\t\\t\\t\\t\\t0\\t0\\n',\n",
       "  \"Incident\\tTechnology\\tInfrastructure failure\\tTransportation\\tOttawa ON\\t01/01/1966 12:00:00 AM\\tOttawa ON, August 1966. One hour before quitting time, the Heron road bridge that was under construction collapsed.  It was the worst construction accident up to that time in Ottawa's history resulting in 9 deaths and 57 people injured.  Police, construction workers, and ordinary citizens helped in the rescue of the survivors.  After this incident, the Ontario Safety Code was amended.\\t9\\t57\\t0\\t\\t\\t01/01/1966 12:00:00 AM\\t\\t\\t\\t\\t\\t\\t\\t0\\t0\\n\",\n",
       "  'Incident\\tTechnology\\tTransportation accident\\tMarine\\tLake Huron ON\\t01/01/1966 12:00:00 AM\\tLake Huron ON, 1966. Sinking of the ore carrier \\\\\"D.J. Morrell\\\\\": 28 dead.\\t28\\t0\\t0\\t\\t\\t01/01/1966 12:00:00 AM\\t\\t\\t\\t\\t\\t\\t\\t0\\t0\\n',\n",
       "  'Incident\\tTechnology\\tFire\\tNon-Residential\\tLasalle QC\\t01/01/1966 12:00:00 AM\\tLasalle QC, 1966. A chemical plant fire killed 11.\\t11\\t0\\t0\\t\\t\\t01/01/1966 12:00:00 AM\\t\\t\\t\\t\\t\\t\\t\\t0\\t0\\n',\n",
       "  'Disaster\\tNatural\\tMeteorological - Hydrological\\tDrought\\tSt. Lawrence counties of Quebec\\t01/01/1966 12:00:00 AM\\tSt. Lawrence counties of Quebec, 1966.\\t0\\t0\\t0\\t\\t\\t01/01/1966 12:00:00 AM\\t\\t\\t\\t\\t\\t\\t\\t0\\t0\\n',\n",
       "  'Disaster\\tNatural\\tMeteorological - Hydrological\\tDrought\\tPrince Edward Island\\t01/01/1966 12:00:00 AM\\tPrince Edward Island, 1966.\\t0\\t0\\t0\\t\\t\\t01/01/1966 12:00:00 AM\\t\\t\\t\\t\\t\\t\\t\\t0\\t0\\n',\n",
       "  'Incident\\tTechnology\\tTransportation accident\\tAir\\tNortheast of Vancouver BC\\t08/07/1965 12:00:00 AM\\tNortheast of Vancouver BC, July 8, 1965. 52 people died when a C-6B exploded and crashed.\\t52\\t0\\t0\\t\\t\\t08/07/1965 12:00:00 AM\\t\\t\\t\\t\\t\\t\\t\\t0\\t0\\n',\n",
       "  'Incident\\tTechnology\\tExplosion\\tResidential\\tLasalle QC\\t01/03/1965 12:00:00 AM\\tLaSalle, a suburb of Montréal QC, March 1, 1965. An apartment house blew up, killing 28 and injuring 48, mostly children.\\t28\\t50\\t0\\t\\t\\t01/03/1965 12:00:00 AM\\t\\t\\t\\t\\t\\t\\t\\t0\\t0\\n',\n",
       "  \"Disaster\\tNatural\\tMeteorological - Hydrological\\tAvalanche\\tGranduc Mine BC\\t18/02/1965 12:00:00 AM\\tGranduc Mine BC, February 18, 1965. An avalanche destroyed a miner's camp; 26 dead, 22 injured.\\t26\\t22\\t0\\t\\t\\t18/02/1965 12:00:00 AM\\t\\t\\t\\t\\t\\t\\t\\t0\\t0\\n\",\n",
       "  'Disaster\\tNatural\\tGeological\\tLandslide\\tOcean Falls BC\\t14/01/1965 12:00:00 AM\\tOcean Falls BC, January 14, 1965.  Seven people died when a slush avalanche/debris flow caused by melting snow struck the community.\\t7\\t0\\t0\\t\\t\\t14/01/1965 12:00:00 AM\\t\\t\\t\\t\\t\\t\\t\\t0\\t0\\n',\n",
       "  \"Disaster\\tNatural\\tGeological\\tLandslide\\tHope BC\\t09/01/1965 12:00:00 AM\\tHope BC, January 9, 1965. An earthquake in the magnitude of 3.0 on the Richter scale was recorded near Hope, British Columbia; two slides were triggered from Johnson's Peak; the second slide, on Jan. 9, buried vehicles on BC Highway #3, killing four people.\\t4\\t0\\t0\\t\\t\\t09/01/1965 12:00:00 AM\\t\\t\\t\\t\\t\\t\\t\\t0\\t0\\n\",\n",
       "  'Incident\\tConflict\\tTerrorist\\tBomb Attacks\\tEdmonton AB\\t02/01/1965 12:00:00 AM\\tEdmonton AB, January 2, 1965. Two U.S. jets (F-84s) being overhauled by Northwest Industries in Edmonton were destroyed and a third damaged when a left-wing group protesting the Vietnam War dynamited the planes; a security guard was killed during the incident.\\t1\\t0\\t0\\t\\t\\t02/01/1965 12:00:00 AM\\t\\t\\t\\t\\t\\t\\t\\t0\\t0\\n',\n",
       "  'Disaster\\tNatural\\tMeteorological - Hydrological\\tDrought\\tOntario, Quebec and New Brunswick\\t01/01/1965 12:00:00 AM\\tOntario, Quebec and New Brunswick, 1965.\\t0\\t0\\t0\\t\\t\\t01/01/1965 12:00:00 AM\\t\\t\\t\\t\\t\\t\\t\\t0\\t0\\n',\n",
       "  'Disaster\\tNatural\\tMeteorological - Hydrological\\tFlood\\tSt. Lawrence River QC\\t01/01/1965 12:00:00 AM\\tSt. Lawrence River QC, 1965. A flood was caused by an ice jam 20 km downstream from Montréal; damage was reported by several communities and 20 people died.\\t20\\t0\\t0\\t\\t\\t01/01/1965 12:00:00 AM\\t\\t\\t\\t\\t\\t\\t\\t0\\t0\\n',\n",
       "  'Disaster\\tNatural\\tMeteorological - Hydrological\\tWinter Storm\\tSouthern Prairies\\t15/12/1964 12:00:00 AM\\tSouthern Prairies, December 15, 1964. Referred to as the \"Great Blizzard\", it produced heavy snows, 90 km/h winds, -34°C temperatures; three people froze to death and thousands of animals died.\\t3\\t0\\t0\\t\\t\\t15/12/1964 12:00:00 AM\\t\\t\\t\\t\\t\\t\\t\\t0\\t0\\n',\n",
       "  'Disaster\\tNatural\\tMeteorological - Hydrological\\tWinter Storm\\tMaritime Provinces\\t01/12/1964 12:00:00 AM\\tMaritime Provinces, December 1-2, 1964. A severe snowstorm hit the Maritimes, with gales reaching gust speeds of 160 km/h.  Three fishing boats, including two large draggers, were lost in the storm, accounting for 23 deaths and 8 reported injuries.\\t23\\t8\\t0\\t0\\t0\\t02/12/1964 12:00:00 AM\\t\\t\\t\\t\\t\\t\\t\\t0\\t0\\n',\n",
       "  'Disaster\\tNatural\\tGeological\\tLandslide\\tRamsey Arm BC\\t16/09/1964 12:00:00 AM\\tRamsey Arm BC, September 16, 1964. Debris flow caused by heavy rains struck a logging camp; 5 dead.\\t5\\t0\\t0\\t\\t\\t16/09/1964 12:00:00 AM\\t\\t\\t\\t\\t\\t\\t\\t0\\t0\\n',\n",
       "  'Disaster\\tNatural\\tMeteorological - Hydrological\\tHurricane / Typhoon / Tropical Storm\\tNova Scotia\\t13/09/1964 12:00:00 AM\\tNova Scotia, 1964. Hurricane Ethel caused widespread flooding in Nova Scotia.\\t0\\t0\\t0\\t\\t\\t16/09/1964 12:00:00 AM\\t\\t\\t\\t\\t\\t\\t\\t0\\t0\\n',\n",
       "  'Disaster\\tNatural\\tGeological\\tTsunami\\tPort Alberni BC\\t28/03/1964 12:00:00 AM\\tPort Alberni BC, March 28, 1964. An earthquake in Alaska of magnitude 8.5 generated a 3.6 m tsunami; no Canadian fatalities.\\t0\\t0\\t0\\t\\t\\t28/03/1964 12:00:00 AM\\t\\t\\t\\t\\t\\t\\t\\t0\\t8\\n',\n",
       "  'Disaster\\tNatural\\tMeteorological - Hydrological\\tDrought\\tOntario and Quebec\\t01/01/1964 12:00:00 AM\\tOntario and Quebec, 1964.\\t0\\t0\\t0\\t\\t\\t01/01/1964 12:00:00 AM\\t\\t\\t\\t\\t\\t\\t\\t0\\t0\\n',\n",
       "  'Disaster\\tNatural\\tMeteorological - Hydrological\\tDrought\\tPrairie Provinces\\t01/01/1964 12:00:00 AM\\tPrairie Provinces, 1964. Cereal crop drought occurred in parts of the Prairies; severe and widespread surface water droughts reported on the Prairies.\\t0\\t0\\t0\\t0\\t0\\t01/01/1964 12:00:00 AM\\t\\t\\t\\t\\t\\t\\t\\t0\\t0\\n',\n",
       "  'Disaster\\tNatural\\tGeological\\tLandslide\\tSaint-Joachim-de-Tourelle QC\\t11/12/1963 12:00:00 AM\\tSaint-Joachim-de-Tourelle QC, December 11, 1963. 4 dead; 59 families evacuated (based on family of 4); landslide in leda clay.\\t4\\t0\\t236\\t\\t\\t11/12/1963 12:00:00 AM\\t\\t\\t\\t\\t\\t\\t\\t0\\t0\\n',\n",
       "  'Incident\\tTechnology\\tTransportation accident\\tAir\\tSainte-Thérèse-de-Blainville, QC\\t29/11/1963 12:00:00 AM\\tSainte-Therese-de-Blainville QC, November 29, 1963. 118 dead (all aboard): a DC-8 airline flight crashed four minutes after take-off from Dorval Airport in Montréal: the cause of the crash remains uncertain.\\t118\\t0\\t0\\t\\t\\t29/11/1963 12:00:00 AM\\t\\t\\t\\t\\t\\t\\t\\t0\\t0\\n',\n",
       "  'Disaster\\tNatural\\tMeteorological - Hydrological\\tHeat Event\\tNova Scotia\\t26/07/1963 12:00:00 AM\\tNova Scotia, July 26-28, 1963. The longest sustained heat wave in Halifax since 1928 with temperatures of 33-34°C; greater traffic volume caused many minor accidents and several people went to hospital; four individuals drowned, and one died in a burning car.\\t5\\t0\\t0\\t\\t\\t28/07/1963 12:00:00 AM\\t\\t\\t\\t\\t\\t\\t\\t0\\t0\\n',\n",
       "  'Incident\\tTechnology\\tTransportation accident\\tAir\\tBritish Columbia, Pacific coast\\t03/06/1963 12:00:00 AM\\tBritish Columbia, Pacific coast, June 3, 1963. A chartered Northwest Airlines DC-7 went down off the coast of British Columbia en route to Alaska.\\t101\\t0\\t0\\t\\t\\t03/06/1963 12:00:00 AM\\t\\t\\t\\t\\t\\t\\t\\t0\\t0\\n',\n",
       "  'Disaster\\tNatural\\tMeteorological - Hydrological\\tFlood\\tHay River Township, south shore of Great Slave Lake NT\\t03/05/1963 12:00:00 AM\\tHay River Township, south shore of Great Slave Lake NT, May 3, 1963. Major flooding caused by ice jamming in Old Town and Indian Village required evacuation of the community of Hay River.\\t0\\t0\\t1800\\t\\t\\t03/05/1963 12:00:00 AM\\t\\t\\t\\t\\t\\t\\t\\t0\\t0\\n',\n",
       "  'Disaster\\tNatural\\tMeteorological - Hydrological\\tDrought\\tPrairie Provinces\\t01/01/1963 12:00:00 AM\\tPrairie Provinces, 1963. Severe and widespread surface water droughts reported on the Prairies.\\t0\\t0\\t0\\t0\\t0\\t01/01/1963 12:00:00 AM\\t\\t\\t\\t\\t\\t\\t\\t0\\t0\\n',\n",
       "  'Disaster\\tNatural\\tMeteorological - Hydrological\\tDrought\\tOntario\\t01/01/1963 12:00:00 AM\\tOntario, 1963. Severe heat and drought stress resulted in low crop yields in Ontario, drastically cutting soybean and corn production.\\t0\\t0\\t0\\t\\t\\t01/01/1963 12:00:00 AM\\t\\t\\t\\t\\t\\t\\t\\t0\\t0\\n',\n",
       "  'Disaster\\tNatural\\tGeological\\tLandslide\\tToulnustouc River QC\\t11/12/1962 12:00:00 AM\\tRivière Toulnustouc QC, December 11, 1962. Nine workers killed by a landslide in marine clay caused by blasting.\\t9\\t0\\t0\\t\\t\\t11/12/1962 12:00:00 AM\\t\\t\\t\\t\\t\\t\\t\\t0\\t0\\n',\n",
       "  'Disaster\\tNatural\\tMeteorological - Hydrological\\tHurricane / Typhoon / Tropical Storm\\tWest coast British Columbia\\t12/10/1962 12:00:00 AM\\tWest coast British Columbia, October 12, 1962. The remnants of Typhoon Freda, struck the Pacific coast; the storm caused 7 deaths; winds were recorded in Victoria, on Vancouver Island, reaching sustained speeds of 90 km/h with gusts to 145 km/h.\\t7\\t0\\t0\\t\\t\\t12/10/1962 12:00:00 AM\\t\\t\\t\\t\\t\\t\\t\\t0\\t0\\n',\n",
       "  'Disaster\\tNatural\\tMeteorological - Hydrological\\tHurricane / Typhoon / Tropical Storm\\tNova Scotia\\t07/10/1962 12:00:00 AM\\tNova Scotia, October 7-8, 1962.  Hurricane/tropical cyclone \"Daisy\".\\t0\\t0\\t0\\t\\t\\t08/10/1962 12:00:00 AM\\t\\t\\t\\t\\t\\t\\t\\t0\\t0\\n',\n",
       "  'Disaster\\tNatural\\tMeteorological - Hydrological\\tFlood\\tSoutheastern New Brunswick\\t31/03/1962 12:00:00 AM\\tSoutheastern New Brunswick, March 31 - April 4, 1962.  Flooding was caused by heavy rainfall. Flooding occurred along many rivers in the southeastern portion of the province.  It was said to be the heaviest flooding in memory in Moncton.  Bridges, highways and railway lines were washed out; several communities and portions thereof isolated.  At least 50 people in Sackville were forced out of their homes.  Damage in St. John, Moncton, Sackville, and Kings County. \\t\\t\\t\\t\\t\\t04/04/1962 12:00:00 AM\\t\\t\\t\\t\\t\\t\\t\\t584656\\t0\\n',\n",
       "  'Disaster\\tNatural\\tMeteorological - Hydrological\\tFlood\\tPrince Edward Island\\t01/01/1962 12:00:00 AM\\tPrince Edward Island, April 1962. A frontal storm hit the south coast of Prince Edward Island, depositing 180 mm of rain on top of heavy snow in early April; major flooding occurred, causing several washouts and damaging bridges and paved highways; the problem was increased by ice jams; the flood affected almost the entire province.\\t0\\t0\\t0\\t\\t\\t01/01/1962 12:00:00 AM\\t\\t\\t\\t\\t\\t\\t\\t0\\t0\\n',\n",
       "  'Disaster\\tNatural\\tMeteorological - Hydrological\\tDrought\\tPrairie Provinces\\t01/01/1962 12:00:00 AM\\tPrairie Provinces, 1962. Severe and widespread surface water droughts reported on the Prairies.\\t0\\t0\\t0\\t0\\t0\\t01/01/1962 12:00:00 AM\\t\\t\\t\\t\\t\\t\\t\\t0\\t0\\n',\n",
       "  \"Disaster\\tNatural\\tMeteorological - Hydrological\\tFlood\\tNorthwestern British Columbia\\t10/10/1961 12:00:00 AM\\tNorthwestern British Columbia, October 10-14, 1961. Flash floods caused by storm with heavy rains, warm temperatures, and 'freak' winds. The flood on the Nass River was the largest recorded; Greenville and Aiyansh were cut-off. Homes were flooded, damaged, and destroyed in these two communities. Approximately 100 people were evacuated. Roads were washed-out, and many bridges in the area were damaged or destroyed. Much of the winter supply of fish and meat was lost at Greenville. The BC Red Cross Society provided aid.\\t0\\t0\\t100\\t\\t\\t14/10/1961 12:00:00 AM\\t\\t\\t\\t\\t\\t\\t\\t236364\\t0\\n\",\n",
       "  'Disaster\\tNatural\\tMeteorological - Hydrological\\tFlood\\tTimmins ON\\t31/08/1961 12:00:00 AM\\tTimmins ON, August 31, 1961. A severe thunderstorm moved across the Timmins area; hail was reported; storm runoff from the Town Creek basin and runoff from streets and storm sewers of Timmins caused Town Creek to reach flood stage; Timmins was flooded resulting in road washouts, smashed houses and undercut foundations; a mother and four children drowned in a house along the bank of the creek.\\t5\\t0\\t0\\t\\t\\t31/08/1961 12:00:00 AM\\t\\t\\t\\t\\t\\t\\t\\t0\\t0\\n',\n",
       "  'Disaster\\tNatural\\tMeteorological - Hydrological\\tStorms and Severe Thunderstorms\\tSouth Central Saskatchewan\\t30/05/1961 12:00:00 AM\\tSouth Central Saskatchewan, May 30, 1961. A Canadian record was set when 254 mm of rain fell within an hour at Buffalo Gap, Saskatchewan on May 30, 1961; the rain caused road washouts, field erosion, and loss of all vegetation from several crop and pasture fields; in some areas of the storm, heavy hail occurred which remained in drifts for several days.\\t0\\t0\\t0\\t\\t\\t30/05/1961 12:00:00 AM\\t\\t\\t\\t\\t\\t\\t\\t0\\t0\\n',\n",
       "  'Disaster\\tNatural\\tMeteorological - Hydrological\\tFlood\\tSaint John River Basin NB\\t25/05/1961 12:00:00 AM\\tSaint John River basin NB, May 25-31, 1961. Extensive rainfall from cyclonic storms over a long period of time added to the already substantial snowmelt resulted in widespread flooding across New Brunswick in late May 1961; significant damage was reported in the Saint John, Nashwaak, Miramichi and Tobique River basins; 1 drowning victim reported.\\t1\\t0\\t0\\t\\t\\t31/05/1961 12:00:00 AM\\t\\t\\t\\t\\t\\t\\t\\t0\\t0\\n',\n",
       "  'Disaster\\tNatural\\tMeteorological - Hydrological\\tStorms and Severe Thunderstorms\\tMontreal QC\\t25/02/1961 12:00:00 AM\\tMontreal QC, February 25, 1961. The storm with winds gusting to 120 km/h caused heavily loaded utility wires to snap; a week after the storm, parts of the city were still left without electricity.\\t0\\t0\\t0\\t\\t\\t25/02/1961 12:00:00 AM\\t\\t\\t\\t\\t\\t\\t\\t0\\t0\\n',\n",
       "  'Disaster\\tNatural\\tMeteorological - Hydrological\\tDrought\\tPrairie Provinces\\t01/01/1961 12:00:00 AM\\tPrairie Provinces, 1961. One of the worst agricultural droughts to occur in the Prairies; among the most severe and widespread surface water droughts ever to occur on the Prairies; total net farm income dropped by 48% compared to 1960.  The worst drought year this century for prairie wheat.\\t0\\t0\\t0\\t0\\t0\\t01/01/1961 12:00:00 AM\\t\\t\\t\\t\\t\\t\\t\\t0\\t0\\n',\n",
       "  'Disaster\\tNatural\\tGeological\\tLandslide\\tMcBride BC\\t07/09/1960 12:00:00 AM\\tMcBride BC, September 7, 1960. Victims were highway construction workers.\\t3\\t0\\t0\\t\\t\\t07/09/1960 12:00:00 AM\\t\\t\\t\\t\\t\\t\\t\\t0\\t0\\n',\n",
       "  'Incident\\tConflict\\tArson\\tNon-Residential\\tKootenay Region BC\\t02/07/1960 12:00:00 AM\\tKootenay region BC, July 2, 1960 - March 7, 1963. Dozens of arson and bomb attacks were carried out by the radical Doukhobor sect, the Sons of Freedom, during this period; favourite targets were railways, utility poles and lines belonging to the West Kootenay Power and Light Company and the homes and buildings of Orthodox Doukhobors; the only fatality was a Sons of Freedom follower killed by his own bomb.\\t1\\t0\\t0\\t\\t\\t07/03/1963 12:00:00 AM\\t\\t\\t\\t\\t\\t\\t\\t0\\t0\\n',\n",
       "  'Disaster\\tNatural\\tMeteorological - Hydrological\\tFlood\\tSouthern and Central Ontario\\t09/05/1960 12:00:00 AM\\tSouthern and Central Ontario, May 9-14, 1960. Substantial flooding caused the closing of numerous roads in central Ontario.\\t0\\t0\\t0\\t\\t\\t14/05/1960 12:00:00 AM\\t\\t\\t\\t\\t\\t\\t\\t0\\t0\\n',\n",
       "  'Disaster\\tNatural\\tMeteorological - Hydrological\\tFlood\\tWinnipeg MB\\t18/04/1960 12:00:00 AM\\tWinnipeg MB, April 18, 1960. Severe flooding of the Red River in the Winnipeg area (damages unknown).\\t0\\t0\\t0\\t\\t\\t18/04/1960 12:00:00 AM\\t\\t\\t\\t\\t\\t\\t\\t0\\t0\\n',\n",
       "  'Incident\\tTechnology\\tHazardous Chemicals\\tMarine Release\\tChedabucto Bay NS\\t04/02/1960 12:00:00 AM\\tChedabucto Bay NS, February 4, 1960. The tanker \"Arrow\" ran aground on Cerberus Rock and polluted 300 km of coast. The 18,000 ton Liberian ship owned by Sunstone Marine S.A. Panama was carrying 16,000 tons of Bunker C fuel oil for Imperial Oil Limited from Venezuela to the plant in the Strait of Canso.\\t0\\t0\\t0\\t\\t\\t04/02/1960 12:00:00 AM\\t\\t\\t\\t\\t\\t\\t\\t0\\t0\\n',\n",
       "  'Incident\\tTechnology\\tExplosion\\tNon-Residential\\tWindsor ON\\t01/01/1960 12:00:00 AM\\tWindsor ON, 1960. Gas explosion in store; 11 dead.\\t11\\t0\\t0\\t\\t\\t01/01/1960 12:00:00 AM\\t\\t\\t\\t\\t\\t\\t\\t0\\t0\\n',\n",
       "  'Disaster\\tNatural\\tGeological\\tTsunami\\tBritish Columbia\\t01/01/1960 12:00:00 AM\\tBritish Columbia, 1960. Outer coast; an earthquake of magnitude 9.5 in Chile caused a 1.2 metre wave at the Tofino tide gauge; run-up was higher in many areas; damage to log booms occurred along the west coast of Vancouver Island and the Queen Charlotte Islands.\\t0\\t0\\t0\\t\\t\\t01/01/1960 12:00:00 AM\\t\\t\\t\\t\\t\\t\\t\\t0\\t9\\n',\n",
       "  'Disaster\\tNatural\\tMeteorological - Hydrological\\tDrought\\tPrairie Provinces\\t01/01/1960 12:00:00 AM\\tPrairie Provinces, 1960. Cereal crop drought occurred in parts of the Prairies.\\t0\\t0\\t0\\t0\\t0\\t01/01/1960 12:00:00 AM\\t\\t\\t\\t\\t\\t\\t\\t0\\t0\\n',\n",
       "  'Disaster\\tNatural\\tMeteorological - Hydrological\\tHurricane / Typhoon / Tropical Storm\\tMaritime Provinces\\t20/06/1959 12:00:00 AM\\tMaritime Provinces, June 20, 1959. 33 people, mostly lobster fishermen, were killed as hurricane gales, reaching 120 km/h, swept across the Maritimes; caused considerable property damage. Twenty-two fishing boats were destroyed off Escuminac.\\t33\\t0\\t0\\t0\\t0\\t20/06/1959 12:00:00 AM\\t\\t\\t\\t\\t\\t\\t\\t0\\t0\\n',\n",
       "  'Disaster\\tNatural\\tGeological\\tLandslide\\tRevelstoke BC\\t27/03/1959 12:00:00 AM\\tRevelstoke BC, March 27, 1959. 4 dead; a landslide, which was triggered by highway construction, struck a house and killed 4 occupants.\\t4\\t0\\t0\\t\\t\\t27/03/1959 12:00:00 AM\\t\\t\\t\\t\\t\\t\\t\\t0\\t0\\n',\n",
       "  \"Disaster\\tNatural\\tMeteorological - Hydrological\\tAvalanche\\tThe Battery, St. John's Harbour NL\\t16/02/1959 12:00:00 AM\\tThe Battery, St. John's Harbour NL, February 16, 1959.  A severe storm hit St. John's with winds of up to 220 km/h and left 55 cm of snow on the ground.  An avalanche struck two houses and swept them down the slope, hitting two other houses.  Over 50 rescue workers and residents worked for 12 hours, digging through the snow and the debris to free trapped residents.  In the Outer Battery, another avalanche (caused by the same storm) buried a house that withheld the weight of the snow.  The strong structure protected the residents; however, they were trapped until dug out by rescue workers.  This was the second avalanche to affect The Battery in 40 years.  Inspection of the slopes has shown that a rockfall risk exists, and that The Battery is frequently affected by rockfalls.  The City of St. John's has recently constructed safety fences to protect against rockfalls and avalanches in the Outer Battery area.\\t5\\t9\\t0\\t\\t\\t16/02/1959 12:00:00 AM\\t\\t\\t\\t\\t\\t\\t\\t0\\t0\\n\",\n",
       "  \"Disaster\\tNatural\\tMeteorological - Hydrological\\tWinter Storm\\tSt. John's NL\\t16/02/1959 12:00:00 AM\\tSt. John's NL, February 16, 1959. Described as the province's worst snowstorm, it claimed six lives, left 70,000 without electricity, and blocked roads with 5 m drifts;  a snowslide killed five people in two homes at the Battery, which is located at Chain Rock at the entrance to St. John's Harbour; the sixth victim died in a stranded car.\\t6\\t10\\t0\\t\\t\\t16/02/1959 12:00:00 AM\\t\\t\\t\\t\\t\\t\\t\\t0\\t0\\n\",\n",
       "  'Incident\\tTechnology\\tFire\\tResidential\\tLanark ON\\t01/01/1959 12:00:00 AM\\tLanark ON, 1959. A fire that broke out in the town of Lanark left 122 people homeless. The Canadian Red Cross was called in to assist them.\\t0\\t0\\t122\\t\\t\\t01/01/1959 12:00:00 AM\\t\\t\\t\\t\\t\\t\\t\\t0\\t0\\n',\n",
       "  'Disaster\\tNatural\\tMeteorological - Hydrological\\tDrought\\tPrairie Provinces\\t01/01/1959 12:00:00 AM\\tPrairie Provinces, 1959. Severe and widespread surface water droughts reported on the Prairies.\\t0\\t0\\t0\\t0\\t0\\t01/01/1959 12:00:00 AM\\t\\t\\t\\t\\t\\t\\t\\t0\\t0\\n',\n",
       "  'Incident\\tTechnology\\tFire\\tResidential\\tMontreal QC\\t07/11/1958 12:00:00 AM\\tMontreal QC, November 7, 1958. A fire burned the Olfields Apartments, killing 18 people.\\t18\\t0\\t0\\t\\t\\t07/11/1958 12:00:00 AM\\t\\t\\t\\t\\t\\t\\t\\t0\\t0\\n',\n",
       "  'Incident\\tTechnology\\tInfrastructure failure\\tManufacturing / Industry\\tSpringhill NS\\t23/10/1958 12:00:00 AM\\tSpringhill NS, October 23, 1958. 75 dead, 99 survivors: a tunnel collapsed in the #2 colliery causing an explosion: the 99 survivors were trapped underground but later rescued.\\t75\\t99\\t0\\t\\t\\t23/10/1958 12:00:00 AM\\t\\t\\t\\t\\t\\t\\t\\t0\\t0\\n',\n",
       "  'Incident\\tTechnology\\tInfrastructure failure\\tTransportation\\tVancouver BC\\t17/06/1958 12:00:00 AM\\tVancouver BC, June 16, 1958. A section of the Second Narrows Bridge over Burrard Inlet collapsed during construction: design error was later determined to be the cause.\\t18\\t0\\t0\\t\\t\\t17/06/1958 12:00:00 AM\\t\\t\\t\\t\\t\\t\\t\\t0\\t0\\n',\n",
       "  \"Disaster\\tNatural\\tMeteorological - Hydrological\\tWinter Storm\\tSt. John's NL\\t01/03/1958 12:00:00 AM\\tSt. John's NL, March 1958. 43 hours of continuous freezing rain, disrupting traffic and city activity.\\t0\\t0\\t0\\t\\t\\t02/03/1958 12:00:00 AM\\t\\t\\t\\t\\t\\t\\t\\t0\\t0\\n\",\n",
       "  'Disaster\\tNatural\\tMeteorological - Hydrological\\tTornado\\tAmaranth MB\\t01/01/1958 12:00:00 AM\\tAmaranth MB, May 1958.\\t0\\t0\\t0\\t\\t\\t01/01/1958 12:00:00 AM\\t\\t\\t\\t\\t\\t\\t\\t0\\t0\\n',\n",
       "  'Disaster\\tNatural\\tMeteorological - Hydrological\\tDrought\\tPrairie Provinces\\t01/01/1958 12:00:00 AM\\tPrairie Provinces, 1958. Cereal crop drought occurred in parts of the Prairies; severe and widespread surface water droughts were reported.\\t0\\t0\\t0\\t0\\t0\\t01/01/1958 12:00:00 AM\\t\\t\\t\\t\\t\\t\\t\\t0\\t0\\n',\n",
       "  'Disaster\\tNatural\\tGeological\\tLandslide\\tPrince Rupert BC\\t22/11/1957 12:00:00 AM\\tPrince Rupert BC, November 22, 1957. 7 dead; debris avalanche triggered by heavy rains buried three houses.\\t7\\t0\\t0\\t\\t\\t22/11/1957 12:00:00 AM\\t\\t\\t\\t\\t\\t\\t\\t0\\t0\\n',\n",
       "  'Disaster\\tNatural\\tGeological\\tLandslide\\tPeace River BC\\t15/10/1957 12:00:00 AM\\tPeace River BC, 1957. A slump in Cretaceous shale destroyed the Alaska Highway suspension bridge over the Peace River near Fort St. John.\\t0\\t0\\t0\\t\\t\\t15/10/1957 12:00:00 AM\\t\\t\\t\\t\\t\\t\\t\\t0\\t0\\n',\n",
       "  'Incident\\tTechnology\\tTransportation accident\\tAir\\tQuebec City QC\\t11/08/1957 12:00:00 AM\\tQuebec City QC, August 11, 1957. 79 people killed when Maritime Central Airways DC-4 crashed near Quebec City.\\t79\\t0\\t0\\t\\t\\t11/08/1957 12:00:00 AM\\t\\t\\t\\t\\t\\t\\t\\t0\\t0\\n',\n",
       "  'Incident\\tConflict\\tCivil Incident\\tRioting\\tMurdochville QC\\t08/03/1957 12:00:00 AM\\tMurdochville QC, March 8, 1957. 924 mining employees in Murdochville, Québec, strike concerning the refusal of the company to recognise and negotiate with the union; on March 8, violence and property damage arose, one striker was killed and two seriously injured.\\t1\\t2\\t0\\t\\t\\t08/03/1957 12:00:00 AM\\t\\t\\t\\t\\t\\t\\t\\t0\\t0\\n',\n",
       "  'Disaster\\tNatural\\tMeteorological - Hydrological\\tFlood\\tThetford Mines QC\\t01/01/1957 12:00:00 AM\\tThetford Mines QC, August 1957. A convective storm brought torrential rainfall to the area near Thetford Mines; severe damage was caused in Thetford Mines and the Becancour Basin.\\t0\\t0\\t0\\t\\t\\t01/01/1957 12:00:00 AM\\t\\t\\t\\t\\t\\t\\t\\t0\\t0\\n',\n",
       "  'Incident\\tTechnology\\tHazardous Chemicals\\tLeak / Spill Release\\tSt. Lawrence NL\\t01/01/1957 12:00:00 AM\\tSt. Lawrence NL, 1957-1958. Radiation sickness resulting from fluorspar mine in 1957-1958; radiation leaked from a nearby large uranium deposit; 75 dead.\\t75\\t0\\t0\\t\\t\\t31/12/1958 12:00:00 AM\\t\\t\\t\\t\\t\\t\\t\\t0\\t0\\n',\n",
       "  'Incident\\tTechnology\\tTransportation accident\\tAir\\tMounte Slesse BC\\t09/12/1956 12:00:00 AM\\tMount Slesse BC, December 9, 1956. 62 people killed when TransCanada Air Lines North Star disappeared outside Vancouver en route to Calgary: the plane was discovered on May 13, 1957 on Mount Slesse, British Columbia.\\t62\\t0\\t0\\t\\t\\t09/12/1956 12:00:00 AM\\t\\t\\t\\t\\t\\t\\t\\t0\\t0\\n',\n",
       "  \"Incident\\tTechnology\\tExplosion\\tNon-Residential\\tSpringhill NS\\t01/11/1956 12:00:00 AM\\tSpringhill NS, November 1, 1956. 39 dead, 88 survivors: a gas explosion blasted Cumberland's #4 colliery: the 88 survivors were trapped underground but later rescued.\\t39\\t88\\t0\\t\\t\\t01/11/1956 12:00:00 AM\\t\\t\\t\\t\\t\\t\\t\\t0\\t0\\n\",\n",
       "  'Disaster\\tNatural\\tMeteorological - Hydrological\\tFlood\\tSouthern Ontario\\t30/08/1956 12:00:00 AM\\tSouthern Ontario, August 30-31, 1956. Due to flooding, several roads were closed and damage occurred along the Thames and Grand Rivers as well in the Toronto area.\\t0\\t0\\t0\\t\\t\\t31/08/1956 12:00:00 AM\\t\\t\\t\\t\\t\\t\\t\\t0\\t0\\n',\n",
       "  'Disaster\\tNatural\\tMeteorological - Hydrological\\tFlood\\tNova Scotia\\t03/01/1956 12:00:00 AM\\tNova Scotia, January 3-18, 1956. A prolonged warm spell from the month of December 1955-Feb 1956, caused province-wide flooding from snowmelt and ice jams; the major flooding occurred from Jan. 318, during a period referred to as the longest January thaw to date; 100 bridges were destroyed across the province.\\t0\\t0\\t0\\t\\t\\t18/01/1956 12:00:00 AM\\t\\t\\t\\t\\t\\t\\t\\t0\\t0\\n',\n",
       "  'Disaster\\tNatural\\tGeological\\tLandslide\\tNicolet QC\\t12/11/1955 12:00:00 AM\\tNicolet QC, November 12, 1955. 3 dead, 2000 evacuated, 6 injured; a landslide carried six buildings into a huge crater on the shore of the Nicolet River.\\t3\\t6\\t2000\\t\\t\\t12/11/1955 12:00:00 AM\\t\\t\\t\\t\\t\\t\\t\\t0\\t0\\n',\n",
       "  'Disaster\\tNatural\\tMeteorological - Hydrological\\tAvalanche\\tLake Louise AB\\t11/07/1955 12:00:00 AM\\tMount Temple, Lake Louise AB, July 11, 1955. 7 skiers killed; inexperienced climbers were swept away by an avalanche.\\t7\\t0\\t0\\t\\t\\t11/07/1955 12:00:00 AM\\t\\t\\t\\t\\t\\t\\t\\t0\\t0\\n',\n",
       "  'Disaster\\tNatural\\tMeteorological - Hydrological\\tWildfire\\tQuebec and Ontario\\t01/07/1955 12:00:00 AM\\tOntario and Québec, July-August 1955. More than 100 forest fires burned longer than four weeks; on August 4 there were 150 fires.\\t0\\t0\\t0\\t24402775\\t10384159.6\\t31/08/1955 12:00:00 AM\\t\\t\\t23207778\\t1194997\\t\\t\\t\\t0\\t0\\n',\n",
       "  'Disaster\\tNatural\\tMeteorological - Hydrological\\tFlood\\tManitoba and Saskatchewan\\t01/01/1955 12:00:00 AM\\tManitoba and Saskatchewan, 1955. Most damage to rural areas. Roads and bridges were washed out or damaged and sowing of fields was inhibited due to water cover.\\t0\\t0\\t0\\t\\t\\t01/01/1955 12:00:00 AM\\t\\t\\t\\t\\t\\t\\t\\t0\\t0\\n',\n",
       "  'Disaster\\tNatural\\tMeteorological - Hydrological\\tHurricane / Typhoon / Tropical Storm\\tToronto ON\\t14/10/1954 12:00:00 AM\\tToronto Ontario, October 14-15, 1954.  Hurricane Hazel; 81 dead; 7472 people (based on 1,868 families of 4) left homeless; winds reached 124 km/h; as much as 111 mm of rain fell in 12 hours in some areas; over 210 mm of rain fell over two days, causing severe flooding in the flood-plain regions (low lying areas) of the Don and Humber Rivers and the Etobicoke and Mimico Creeks; the area hit hardest by the storm (in terms of rainfall) was Brampton and the worst flooding occurred along the Humber River; it was the most severe flooding in the Toronto area in 200 years. 20 bridges were destroyed or damaged beyond repair; the Humber River in Weston rose 6 metres, sweeping away a full block of homes on Raymore Drive, and killing 32 residents; a trailer park in Woodbridge was flooded and destroyed, killing 20 people. Flooding was widespread, from Lake Simcoe to Toronto and from the Niagara region to Lake St. Clair.\\t81\\t0\\t7472\\t\\t\\t15/10/1954 12:00:00 AM\\t\\t\\t\\t\\t\\t\\t\\t0\\t0\\n',\n",
       "  'Disaster\\tNatural\\tMeteorological - Hydrological\\tHurricane / Typhoon / Tropical Storm\\tNew Brunswick\\t11/09/1954 12:00:00 AM\\tNew Brunswick, September 11-13, 1954. Hurricane \"Edna\" caused severe damage and flooding.\\t0\\t0\\t0\\t\\t\\t13/09/1954 12:00:00 AM\\t\\t\\t\\t\\t\\t\\t\\t0\\t0\\n',\n",
       "  'Incident\\tTechnology\\tTransportation accident\\tAir\\tMoose Jaw SK\\t07/04/1954 12:00:00 AM\\tMoose Jaw SK, April 7, 1954. A TransCanada Airlines aircraft collided with an Royal Canadian Air Force trainer.\\t37\\t0\\t0\\t\\t\\t07/04/1954 12:00:00 AM\\t\\t\\t\\t\\t\\t\\t\\t0\\t0\\n',\n",
       "  'Disaster\\tNatural\\tMeteorological - Hydrological\\tFlood\\tSouthern Ontario\\t15/02/1954 12:00:00 AM\\tSouthern Ontario, February 15-18, 1954. Communities on the shores of Lakes Ontario, Erie and Huron, including Toronto, experienced flooding; the Thames and Grand Rivers also experienced flooding which disrupted utilities and forced roads and businesses to close.\\t0\\t0\\t0\\t\\t\\t18/02/1954 12:00:00 AM\\t\\t\\t\\t\\t\\t\\t\\t0\\t0\\n',\n",
       "  'Disaster\\tNatural\\tMeteorological - Hydrological\\tTornado\\tWhite Point Beach NS\\t30/01/1954 12:00:00 AM\\tWhite Point Beach NS, January 30, 1954. A tornado producing hail and lightning hit the coast of Nova Scotia near Liverpool.\\t0\\t0\\t0\\t\\t\\t30/01/1954 12:00:00 AM\\t\\t\\t\\t\\t\\t\\t\\t0\\t0\\n',\n",
       "  'Disaster\\tNatural\\tMeteorological - Hydrological\\tHeat Event\\tToronto ON\\t24/08/1953 12:00:00 AM\\tToronto ON, August 24 - September 5, 1953; 1 person died of heat-related fever; 186 cases of heat prostration and injury were reported at the Canadian National Exhibition.  Water consumption levels reached record levels of 182 million gallons for Toronto area on September 2.\\t1\\t186\\t0\\t\\t\\t05/09/1953 12:00:00 AM\\t\\t\\t\\t\\t\\t\\t\\t0\\t0\\n',\n",
       "  'Disaster\\tNatural\\tMeteorological - Hydrological\\tStorms and Severe Thunderstorms\\tCentral Alberta\\t14/07/1953 12:00:00 AM\\tCentral Alberta, July 14, 1953. Thousands of birds were crushed by golf-ball sized hailstones as a hailstorm moved across central Alberta, affecting an area of 1800 sq. km.\\t0\\t0\\t0\\t\\t\\t14/07/1953 12:00:00 AM\\t\\t\\t\\t\\t\\t\\t\\t0\\t0\\n',\n",
       "  'Disaster\\tNatural\\tMeteorological - Hydrological\\tTornado\\tSarnia ON\\t21/05/1953 12:00:00 AM\\tSarnia ON, May 21, 1953. 7 dead, 40 injured and 500 left homeless.\\t7\\t40\\t500\\t\\t\\t21/05/1953 12:00:00 AM\\t\\t\\t\\t\\t\\t\\t\\t0\\t0\\n',\n",
       "  'Disaster\\tNatural\\tMeteorological - Hydrological\\tStorm - Unspecified / Other\\tLake Superior ON\\t01/01/1953 12:00:00 AM\\tLake Superior ON, 1953. Freighter sinks in high winds in Lake Superior: 17 dead.\\t17\\t0\\t0\\t\\t\\t01/01/1953 12:00:00 AM\\t\\t\\t\\t\\t\\t\\t\\t0\\t0\\n',\n",
       "  'Disaster\\tNatural\\tBiological\\tEpidemic\\tAcross Canada\\t01/01/1953 12:00:00 AM\\tAcross Canada, 1953. 481 dead; polio affected more than 8000 Canadians.\\t481\\t8000\\t0\\t\\t\\t31/12/1953 12:00:00 AM\\t\\t\\t\\t\\t\\t\\t\\t0\\t0\\n',\n",
       "  'Disaster\\tNatural\\tMeteorological - Hydrological\\tFlood\\tEastend SK\\t01/04/1952 12:00:00 AM\\tEastend SK, April 1952. In spring 1952, the Frenchman River flooded the town of Eastend; the flood was a result of a well-above-normal snowpack in the Cypress Hills and below-normal spring temperatures.\\t0\\t0\\t0\\t\\t\\t01/05/1952 12:00:00 AM\\t\\t\\t\\t\\t\\t\\t\\t0\\t0\\n',\n",
       "  'Incident\\tTechnology\\tExplosion\\tNon-Residential\\tPictou County NS\\t14/01/1952 12:00:00 AM\\tPictou County NS, January 14, 1952. 19 dead: a gas explosion in the MacGregor Mine killed 19 workers who stayed behind to block off the dangerous area.\\t19\\t0\\t0\\t\\t\\t14/01/1952 12:00:00 AM\\t\\t\\t\\t\\t\\t\\t\\t0\\t0\\n',\n",
       "  'Disaster\\tNatural\\tMeteorological - Hydrological\\tFlood\\tStephenville Crossing, Summerside NL\\t19/12/1951 12:00:00 AM\\tStephenville Crossing, Summerside NL, December 19, 1951.  A severe storm hit Stephenville Crossing and Summerside, with winds gusting at 180 km/h and flooding the towns. The rail bed was washed-out and the rail line closed for three days. The train station was flooded as were major roads that were covered under 1.2 m of water. A sawmill at Summerside was destroyed, 15 telegraph poles were blown down, fishermen lost boats and gear, and thousands of lobsters washed ashore.\\t0\\t0\\t600\\t\\t\\t19/12/1951 12:00:00 AM\\t\\t\\t\\t\\t\\t\\t\\t0\\t0\\n',\n",
       "  'Incident\\tTechnology\\tTransportation accident\\tRail\\tConiston ON\\t09/02/1951 12:00:00 AM\\tConiston ON, February 9, 1951. 9 dead, 31 injured: a bus collided with a CPR passenger train at the Coniston railway crossing near Sudbury.\\t9\\t31\\t0\\t\\t\\t09/02/1951 12:00:00 AM\\t\\t\\t\\t\\t\\t\\t\\t0\\t0\\n',\n",
       "  'Disaster\\tNatural\\tMeteorological - Hydrological\\tFlood\\tBow River BC\\t01/01/1951 12:00:00 AM\\tBow River BC, 1951.\\t0\\t0\\t0\\t\\t\\t01/01/1951 12:00:00 AM\\t\\t\\t\\t\\t\\t\\t\\t0\\t0\\n',\n",
       "  'Disaster\\tNatural\\tMeteorological - Hydrological\\tFlood\\tSumas and Chilliwack BC\\t01/01/1951 12:00:00 AM\\tSumas and Chilliwack BC, February 1951. Floods caused the evacuation of 94 families (assume a family of 4).\\t0\\t0\\t376\\t\\t\\t01/01/1951 12:00:00 AM\\t\\t\\t\\t\\t\\t\\t\\t0\\t0\\n',\n",
       "  'Incident\\tTechnology\\tTransportation accident\\tRail\\tCanoe River BC\\t21/11/1950 12:00:00 AM\\tCanoe River, BC, November 21, 1950.  A special force troop train westbound, and an eastbound train collided head on at Canoe River.\\t21\\t53\\t0\\t\\t\\t21/11/1950 12:00:00 AM\\t\\t\\t\\t\\t\\t\\t\\t0\\t0\\n',\n",
       "  'Disaster\\tNatural\\tMeteorological - Hydrological\\tTornado\\tRegina SK\\t01/11/1950 12:00:00 AM\\tRegina SK, November 1950.\\t0\\t0\\t0\\t\\t\\t01/11/1950 12:00:00 AM\\t\\t\\t\\t\\t\\t\\t\\t0\\t0\\n',\n",
       "  'Disaster\\tNatural\\tMeteorological - Hydrological\\tStorms and Severe Thunderstorms\\tNova Scotia\\t01/08/1950 12:00:00 AM\\tNova Scotia, August 1950. A hurricane-like storm hit Nova Scotia in August, 1950, and caused flooding throughout the province.\\t0\\t0\\t0\\t\\t\\t01/08/1950 12:00:00 AM\\t\\t\\t\\t\\t\\t\\t\\t0\\t0\\n',\n",
       "  'Disaster\\tNatural\\tMeteorological - Hydrological\\tFlood\\tWinnipeg MB\\t05/05/1950 12:00:00 AM\\tWinnipeg MB, May to June 1950. 1 dead, 107,000 evacuated (one-third of the city), 5000 buildings damaged. A major flood occurred April - June 1950; a heavy snow cover caused the Red River to reach flood levels by April 22, 1950; a heavy rainfall in early May caused the river to stay above flood stage for 51 days; the water reached 4.6 metres in depth in low lying areas; 60 000 people were forced to evacuate as one tenth of the city of Winnipeg was covered in water; a volunteer pump operator drowned.\\t1\\t0\\t107000\\t\\t\\t15/06/1950 12:00:00 AM\\t\\t\\t\\t\\t\\t\\t\\t0\\t0\\n',\n",
       "  'Disaster\\tNatural\\tMeteorological - Hydrological\\tFlood\\tSaint John River Basin NB\\t20/04/1950 12:00:00 AM\\tSaint John River basin NB, April 20, 1950. Heavy rains and spring breakup caused ice jams and consequent flooding of several rivers throughout New Brunswick.\\t0\\t0\\t0\\t\\t\\t20/04/1950 12:00:00 AM\\t\\t\\t\\t\\t\\t\\t\\t0\\t0\\n',\n",
       "  'Disaster\\tNatural\\tMeteorological - Hydrological\\tFlood\\tSouthern Ontario\\t04/04/1950 12:00:00 AM\\tSouthern Ontario, April 4-8, 1950. Widespread flooding across southern Ontario resulted in the closing of several roads.\\t0\\t0\\t0\\t\\t\\t08/04/1950 12:00:00 AM\\t\\t\\t\\t\\t\\t\\t\\t0\\t0\\n',\n",
       "  'Disaster\\tNatural\\tMeteorological - Hydrological\\tFlood\\tSouthern Ontario\\t24/03/1950 12:00:00 AM\\tSouthern Ontario, March 24-29, 1950. Widespread flooding affected southern Ontario including Toronto; many roads were flooded, and businesses were closed along the Grand River.\\t0\\t0\\t0\\t\\t\\t29/03/1950 12:00:00 AM\\t\\t\\t\\t\\t\\t\\t\\t0\\t0\\n',\n",
       "  'Incident\\tTechnology\\tFire\\tNon-Residential\\tRimouski and Cabano, QC\\t01/01/1950 12:00:00 AM\\tRimouski and Cabano QC, 1950.\\t0\\t0\\t0\\t\\t\\t01/01/1950 12:00:00 AM\\t\\t\\t\\t\\t\\t\\t\\t0\\t0\\n',\n",
       "  'Incident\\tTechnology\\tFire\\tVehicle\\tToronto ON\\t17/09/1949 12:00:00 AM\\tToronto ON, September 17, 1949. 118 dead; a blaze, believed to have been started in a closet,  broke out on the Canada Steamship Lines ship \"Noronic\"; the ship was docked in Toronto Harbour at the time of the fire.\\t118\\t0\\t0\\t\\t\\t17/09/1949 12:00:00 AM\\t\\t\\t\\t\\t\\t\\t\\t0\\t0\\n',\n",
       "  'Incident\\tConflict\\tTerrorist\\tBomb Attacks\\tSaint-Joachim QC\\t09/09/1949 12:00:00 AM\\tSaint-Joachim QC, September 9, 1949. A Québec Airways DC-3 was sabotaged with a  the plane exploded and crashed, killing 32: the saboteur, J.A. Guay and his two accomplices were later convicted and hanged.\\t32\\t0\\t0\\t\\t\\t09/09/1949 12:00:00 AM\\t\\t\\t\\t\\t\\t\\t\\t0\\t0\\n',\n",
       "  \"Disaster\\tNatural\\tGeological\\tEarthquake\\tOff Queen Charlotte Islands BC\\t22/08/1949 12:00:00 AM\\tOffshore Queen Charlotte Islands BC, August 22, 1949. Widely felt over a large area of western North America; this was Canada's largest and one of the world's greatest earthquakes; there was some damage on the Queen Charlotte Islands; chandeliers in Jasper, Alberta, were observed to sway.  Magnitude: 8.1\\t0\\t0\\t0\\t\\t\\t22/08/1949 12:00:00 AM\\t\\t\\t\\t\\t\\t\\t\\t0\\t8\\n\",\n",
       "  \"Disaster\\tNatural\\tMeteorological - Hydrological\\tFlood\\tSt. John's NL\\t14/09/1948 12:00:00 AM\\tSt. John's NL, September 14, 1948. Torrential rains caused at least three houses to collapse when hit by mudslides; in one area it was necessary to rescue residents by boat, one child died.\\t1\\t0\\t0\\t\\t\\t14/09/1948 12:00:00 AM\\t\\t\\t\\t\\t\\t\\t\\t0\\t0\\n\",\n",
       "  'Disaster\\tNatural\\tMeteorological - Hydrological\\tFlood\\tFraser River BC\\t31/05/1948 12:00:00 AM\\tFraser River BC, May 31, 1948. The flood ripped apart dikes;  almost 10% of the area of the Fraser Valley (22,257 ha) was flooded; ten people died and 9000 were left homeless; 3000 buildings were destroyed and eighty-two bridges were washed out.  Flood damage spread 200 km in area. The Canadian Red Cross (CRC) gave aid to 3800 of the 16000 evacuees; 33000 volunteers worked on dikes.\\t10\\t0\\t16000\\t\\t\\t31/05/1948 12:00:00 AM\\t\\t\\t\\t\\t\\t\\t\\t0\\t0\\n',\n",
       "  'Disaster\\tNatural\\tMeteorological - Hydrological\\tWildfire\\tMississagi ON\\t01/05/1948 12:00:00 AM\\tMississagi/Chapleau (a First Nation reserve) ON, May to late October 1948. 261,017 ha destroyed.\\t0\\t0\\t0\\t\\t\\t31/10/1948 12:00:00 AM\\t\\t\\t\\t\\t\\t\\t\\t0\\t0\\n',\n",
       "  'Disaster\\tNatural\\tMeteorological - Hydrological\\tFlood\\tRed Deer River AB\\t21/04/1948 12:00:00 AM\\tRed Deer River AB, April 21, 1948. Hundreds of families from Newcastle, Wayne, Rosedale, and Drumheller were evacuated by the Canadian Red Cross when the Red Deer River flooded.\\t0\\t0\\t\\t\\t\\t21/04/1948 12:00:00 AM\\t\\t\\t\\t\\t\\t\\t\\t0\\t0\\n',\n",
       "  'Disaster\\tNatural\\tMeteorological - Hydrological\\tFlood\\tSouthern Ontario\\t16/03/1948 12:00:00 AM\\tSouthern Ontario, March 16-22, 1948. Communities in the Lake St. Clair region, southwestern Ontario (on Maitland, Grand and Thames Rivers), southcentral Ontario (Toronto area) and in southwestern Ontario (the Rideau River) suffered from flood damages; transportation systems were closed due to flooding, and businesses were closed; dams were damaged on the Maitland and Thames Rivers and in Toronto.\\t0\\t0\\t0\\t\\t\\t16/03/1948 12:00:00 AM\\t\\t\\t\\t\\t\\t\\t\\t0\\t0\\n',\n",
       "  'Incident\\tTechnology\\tTransportation accident\\tRail\\tDugald MB\\t01/09/1947 12:00:00 AM\\tDugald MB, September 1, 1947. About 30 km east of Winnipeg: 31 dead, many injured: a CNR passenger train collided with a special CNR campers train filled with people returning from vacation.\\t31\\t0\\t0\\t\\t\\t01/09/1947 12:00:00 AM\\t\\t\\t\\t\\t\\t\\t\\t0\\t0\\n',\n",
       "  'Disaster\\tNatural\\tMeteorological - Hydrological\\tFlood\\tBristol NB\\t30/04/1947 12:00:00 AM\\tBristol NB, April 30, 1947. Heavy rains, mild temperatures and snowmelt contributed to a heavy runoff and overflow of the Saint John River, New Brunswick;  two people were killed in a train wreck near Bristol as a result of the track being undermined by the Saint John River.\\t2\\t0\\t100\\t\\t\\t30/04/1947 12:00:00 AM\\t\\t\\t\\t\\t\\t\\t\\t0\\t0\\n',\n",
       "  'Disaster\\tNatural\\tMeteorological - Hydrological\\tFlood\\tSouthern ON\\t05/04/1947 12:00:00 AM\\tSouthern ON, April 5-12, 1947. Widespread flooding occurred on several river systems (including the Thames, Grand, Rideau, Credit and Saugeen Rivers) as well as in the Lake St. Clair and Lake Nipissing regions. Several roads and railways were forced to close due to flooding; utilities and businesses were also disrupted.\\t0\\t0\\t0\\t\\t\\t12/04/1947 12:00:00 AM\\t\\t\\t\\t\\t\\t\\t\\t0\\t0\\n',\n",
       "  'Disaster\\tNatural\\tMeteorological - Hydrological\\tFlood\\tElgin NB\\t05/02/1947 12:00:00 AM\\tElgin NB, February 5, 1947. Rain, mild temperatures and ice jams caused flooding of large sections of Kings County and surrounding area, New Brunswick; two children were swept away and drowned in Sheffar Brook, near Elgin, Albert County.\\t2\\t0\\t0\\t\\t\\t05/02/1947 12:00:00 AM\\t\\t\\t\\t\\t\\t\\t\\t0\\t0\\n',\n",
       "  'Disaster\\tNatural\\tMeteorological - Hydrological\\tWinter Storm\\tPrairie Provinces\\t30/01/1947 12:00:00 AM\\tPrairie Provinces, January 30 - February 8, 1947. A blizzard raged for 10 days from Winnipeg to Calgary; the railway called it the worst storm in Canadian rail history; one train was buried in a snow drift 1 km long and 8 m deep.\\t0\\t0\\t0\\t0\\t0\\t08/02/1947 12:00:00 AM\\t\\t\\t\\t\\t\\t\\t\\t0\\t0\\n',\n",
       "  'Incident\\tTechnology\\tTransportation accident\\tAir\\tEstevan SK\\t15/09/1946 12:00:00 AM\\tEstevan SK, September 15, 1946. A Royal Canadian Air Force (RCAF) transport plane crashed near Estevan killing 20 RCAF personnel.\\t20\\t0\\t0\\t\\t\\t15/09/1946 12:00:00 AM\\t\\t\\t\\t\\t\\t\\t\\t0\\t0\\n',\n",
       "  'Disaster\\tNatural\\tMeteorological - Hydrological\\tStorms and Severe Thunderstorms\\tOkanagan Valley BC\\t29/07/1946 12:00:00 AM\\tOkanagan Valley (near Penticton) BC, July 29, 1946.  The 15 minute hailstorm, with hailstones 5 cm in diameter, causes extensive apple and pear crop damage.\\t0\\t0\\t0\\t\\t\\t29/07/1946 12:00:00 AM\\t\\t\\t\\t\\t\\t\\t\\t0\\t0\\n',\n",
       "  'Disaster\\tNatural\\tMeteorological - Hydrological\\tTornado\\tWindsor to Tecumseh ON\\t17/06/1946 12:00:00 AM\\tWindsor to Tecumseh ON, June 17, 1946; 17 dead, hundreds injured; 400 homes damaged; 150 barns and farm buildings destroyed.\\t17\\t100\\t0\\t\\t\\t17/06/1946 12:00:00 AM\\t\\t\\t\\t\\t\\t\\t\\t0\\t0\\n',\n",
       "  'Incident\\tTechnology\\tFire\\tNon-Residential\\tDartmouth NS\\t18/07/1945 12:00:00 AM\\tDartmouth NS, July 18, 1945. Naval Magazine.\\t0\\t0\\t0\\t\\t\\t18/07/1945 12:00:00 AM\\t\\t\\t\\t\\t\\t\\t\\t0\\t0\\n',\n",
       "  'Disaster\\tNatural\\tMeteorological - Hydrological\\tWinter Storm\\tToronto ON\\t11/12/1944 12:00:00 AM\\tToronto ON, December 11, 1944. A blizzard produced 57 cm of snow over two days; accompanying strong winds caused huge drifts which paralysed the city for days.  There were no home deliveries of milk, ice or fuel.  Of major concern, factories producing war ammunitions had to close temporarily.  In all, 21 people died, 13 from overexertion.\\t21\\t0\\t0\\t\\t\\t12/12/1944 12:00:00 AM\\t\\t\\t\\t\\t\\t\\t\\t0\\t0\\n',\n",
       "  'Incident\\tConflict\\tArson\\tNon-Residential\\tBritish Columbia\\t01/01/1944 12:00:00 AM\\tBritish Columbia, 1944. One person was killed during an arson attack carried out by the radical Doukhobor sect, the Sons of Freedom.\\t1\\t0\\t0\\t\\t\\t01/01/1944 12:00:00 AM\\t\\t\\t\\t\\t\\t\\t\\t0\\t0\\n',\n",
       "  'Incident\\tTechnology\\tTransportation accident\\tAir\\tSaint-Donat QC\\t19/10/1943 12:00:00 AM\\tSaint-Donat QC, October 19, 1943. 24 dead: a Liberator bomber crashed: many of the passengers were going on leave: the wreckage was not located until June, 1946.\\t24\\t0\\t0\\t\\t\\t19/10/1943 12:00:00 AM\\t\\t\\t\\t\\t\\t\\t\\t0\\t0\\n',\n",
       "  'Incident\\tTechnology\\tTransportation accident\\tRail\\tAldershot ON\\t10/09/1943 12:00:00 AM\\tAldershot ON, September 10, 1943. 12 killed, two injured: a CPR passenger train at Aldershot crossing near Hamilton collided with a Canada Coach Lines bus, splitting the bus in two.\\t12\\t2\\t0\\t\\t\\t10/09/1943 12:00:00 AM\\t\\t\\t\\t\\t\\t\\t\\t0\\t0\\n',\n",
       "  'Incident\\tTechnology\\tTransportation accident\\tRail\\tAlmonte ON\\t27/12/1942 12:00:00 AM\\tAlmonte ON, December 27, 1942. During a sleet storm on Sunday, December 27, a troop train pulled by a massive 2800-class locomotive smashed into the rear of a packed passenger train standing in darkness at the Canadian Pacific Railway station, killing 36 and injuring 155.\\t36\\t155\\t0\\t\\t\\t27/12/1942 12:00:00 AM\\t\\t\\t\\t\\t\\t\\t\\t0\\t0\\n',\n",
       "  \"Incident\\tConflict\\tArson\\tResidential\\tSt. John's NL\\t12/12/1942 12:00:00 AM\\tSt. John's NL, December 12, 1942. 99 dead, 100 seriously injured, mostly Canadian military; an arsonist set fire to the packed Knights of Columbus Hostel; exits were restricted, all doors opened inwards, and there was no emergency lighting system.\\t99\\t100\\t0\\t\\t\\t12/12/1942 12:00:00 AM\\t\\t\\t\\t\\t\\t\\t\\t0\\t0\\n\",\n",
       "  'Disaster\\tNatural\\tMeteorological - Hydrological\\tHurricane / Typhoon / Tropical Storm\\tCharlottetown PE\\t22/09/1942 12:00:00 AM\\tCharlottetown PE, September 22, 1942. A storm, remnants of a dissipating hurricane, left 163.8 mm of rain and damages in the city of Charlottetown.\\t0\\t0\\t0\\t\\t\\t22/09/1942 12:00:00 AM\\t\\t\\t\\t\\t\\t\\t\\t0\\t0\\n',\n",
       "  'Disaster\\tNatural\\tMeteorological - Hydrological\\tWinter Storm\\tNewfoundland, off coast\\t01/01/1942 12:00:00 AM\\tNewfoundland, 1942. 203 dead; three U.S. navy ships, the destroyers \"Wilkes\" and \"Truxton\" and the supply ship \"Pollux\", went off course during a blizzard and crashed into the rocks near St. Lawrence at the entrance to Placentia Bay: the ships had been unable to check their position as they had been ordered to keep radio silence: the \"Wilkes\" floated off the rocks but the other two ships were pounded to pieces: the rescue efforts of the villagers of St. Lawrence saved the lives of many sailors: as a gesture of gratitude, the U.S. government constructed a hospital in the town which was closed down by the Newfoundland government in 1989.\\t203\\t0\\t0\\t\\t\\t01/01/1942 12:00:00 AM\\t\\t\\t\\t\\t\\t\\t\\t0\\t0\\n',\n",
       "  'Disaster\\tNatural\\tMeteorological - Hydrological\\tHurricane / Typhoon / Tropical Storm\\tSouthwestern Ontario\\t25/09/1941 12:00:00 AM\\tSouthwestern Ontario, September 25, 1941. An unnamed hurricane struck southwestern Ontario; winds were reported to reach 130 km/h in London.\\t0\\t0\\t0\\t\\t\\t25/09/1941 12:00:00 AM\\t\\t\\t\\t\\t\\t\\t\\t0\\t0\\n',\n",
       "  \"Disaster\\tNatural\\tMeteorological - Hydrological\\tFlood\\tBurin Peninsula, St. John's and Little St. Lawrence NL\\t02/08/1941 12:00:00 AM\\tBurin Peninsula, St. John's and Little St. Lawrence NL, August 2, 1941. Experienced the effects of flooding caused by torrential rains;  two employees of United Towns Electric Company were drowned when a dam broke; the total rainfall was reported to be 98.3 mm for a 66-hour period.\\t2\\t0\\t0\\t\\t\\t02/08/1941 12:00:00 AM\\t\\t\\t\\t\\t\\t\\t\\t0\\t0\\n\",\n",
       "  'Disaster\\tNatural\\tMeteorological - Hydrological\\tWildfire\\tGogama ON\\t14/05/1941 12:00:00 AM\\tGogama ON, May 14 - June 15, 1941. No dead, 133,827 ha destroyed.\\t0\\t0\\t0\\t\\t\\t15/06/1941 12:00:00 AM\\t\\t\\t\\t\\t\\t\\t\\t0\\t0\\n',\n",
       "  'Disaster\\tNatural\\tMeteorological - Hydrological\\tWinter Storm\\tPrairie Provinces\\t14/03/1941 12:00:00 AM\\tPrairie Provinces, March 14, 1941. A severe blizzard producing a storm called an \"Alberta Low\" lasted 7 hours and produced winds exceeding 100 km/h; the storm caused 76 deaths in the southern parts of the Prairie provinces and the northern U.S.\\t76\\t0\\t0\\t0\\t0\\t14/03/1941 12:00:00 AM\\t\\t\\t\\t\\t\\t\\t\\t0\\t0\\n',\n",
       "  'Disaster\\tNatural\\tMeteorological - Hydrological\\tStorms and Severe Thunderstorms\\tGreat Lakes: Lake Ontario\\t01/01/1940 12:00:00 AM\\tOntario, 1940. Three Great Lakes ships wrecked in storm, killing 69.\\t69\\t0\\t0\\t\\t\\t01/01/1940 12:00:00 AM\\t\\t\\t\\t\\t\\t\\t\\t0\\t0\\n',\n",
       "  'Incident\\tTechnology\\tFire\\tResidential\\tNova Scotia\\t02/02/1939 12:00:00 AM\\tNova Scotia, February 2, 1939. Queen Hotel Fire.\\t0\\t0\\t0\\t\\t\\t02/02/1939 12:00:00 AM\\t\\t\\t\\t\\t\\t\\t\\t0\\t0\\n',\n",
       "  'Disaster\\tNatural\\tMeteorological - Hydrological\\tDrought\\tSaskatchewan\\t01/01/1939 12:00:00 AM\\tSaskatchewan, 1939.\\t0\\t0\\t0\\t\\t\\t01/01/1939 12:00:00 AM\\t\\t\\t\\t\\t\\t\\t\\t0\\t0\\n',\n",
       "  'Incident\\tTechnology\\tInfrastructure failure\\tManufacturing / Industry\\tSydney Mines, Cape Breton NS\\t06/12/1938 12:00:00 AM\\tSydney Mines, Cape Breton NS, December 6, 1938. 20 dead. A chain of small cars known as a \"man rake\" was being lowered into the shaft when a cable snapped sending the cars, laden with more than 200 men, crashing to the bottom.\\t20\\t0\\t0\\t\\t\\t06/12/1938 12:00:00 AM\\t\\t\\t\\t\\t\\t\\t\\t0\\t0\\n',\n",
       "  'Disaster\\tNatural\\tMeteorological - Hydrological\\tWildfire\\tRainy River and Dance Township ON\\t10/10/1938 12:00:00 AM\\tDance Township ON, October 10-15, 1938; 17 dead, 155 homeless, 37,230 ha of forest were destroyed.  The fire was caused by the settlers by brush fires.  The fire got out of control due to the lack of water in the area at the time.\\t17\\t0\\t155\\t\\t\\t15/10/1938 12:00:00 AM\\t\\t\\t\\t\\t\\t\\t\\t0\\t0\\n',\n",
       "  'Disaster\\tNatural\\tGeological\\tLandslide\\tSt-Gregoire-de-Montmercy QC\\t01/09/1938 12:00:00 AM\\tSt-Gregoire-de-Montmercy QC, September 1, 1938. 4 dead; 12 injured; landslide caused by heavy rains destroyed houses.\\t4\\t12\\t0\\t\\t\\t01/09/1938 12:00:00 AM\\t\\t\\t\\t\\t\\t\\t\\t0\\t0\\n',\n",
       "  'Disaster\\tNatural\\tMeteorological - Hydrological\\tFlood\\tSouthern Ontario\\t26/04/1937 12:00:00 AM\\tSouthern Ontario, April 26-28, 1937. Especially on the Thames River in London; the river flooded leaving 4000 people homeless; roads and railways were flooded and businesses were closed.\\t0\\t0\\t4000\\t\\t\\t28/04/1937 12:00:00 AM\\t\\t\\t\\t\\t\\t\\t\\t0\\t0\\n',\n",
       "  'Disaster\\tNatural\\tMeteorological - Hydrological\\tFlood\\tSouthern Ontario\\t13/01/1937 12:00:00 AM\\tSouthern Ontario, January 13-14, 1937. Widespread flooding caused damages and flooded roads and railways; flooding forced several businesses to close.\\t0\\t0\\t0\\t\\t\\t14/01/1937 12:00:00 AM\\t\\t\\t\\t\\t\\t\\t\\t0\\t0\\n',\n",
       "  'Disaster\\tNatural\\tMeteorological - Hydrological\\tStorms and Severe Thunderstorms\\tNova Scotia\\t01/09/1936 12:00:00 AM\\tNova Scotia, September 1936. A hurricane-like storm hit Nova Scotia in September 1936, and caused flooding throughout the province.\\t0\\t0\\t0\\t\\t\\t01/09/1936 12:00:00 AM\\t\\t\\t\\t\\t\\t\\t\\t0\\t0\\n',\n",
       "  'Incident\\tTechnology\\tTransportation accident\\tRail\\tLouiseville QC\\t15/08/1936 12:00:00 AM\\tLouiseville QC, August 15, 1936. 22 dead, 22 injured: a 16-car freight train smashed into a farm truck carrying more than 40 people from a Friday night political rally.\\t22\\t22\\t0\\t\\t\\t15/08/1936 12:00:00 AM\\t\\t\\t\\t\\t\\t\\t\\t0\\t0\\n',\n",
       "  'Disaster\\tNatural\\tMeteorological - Hydrological\\tWildfire\\tNorthern Saskatchewan\\t13/07/1936 12:00:00 AM\\tNorthern Saskatchewan, July 1936. During the week before July 20, 194 sq. km of Saskatchewan timberland burned.\\t\\t\\t\\t\\t\\t19/07/1936 12:00:00 AM\\t\\t\\t\\t\\t\\t\\t\\t0\\t0\\n',\n",
       "  'Disaster\\tNatural\\tMeteorological - Hydrological\\tHeat Event\\tAcross Canada\\t05/07/1936 12:00:00 AM\\tAcross Canada, July 5-17, 1936. A two-week heat wave starting on July 5, 1936; greater than 32°C in western and central Canada; from southern Saskatchewan to the Ottawa Valley temperatures were higher than 32°C for one and a half weeks; St. Albert, Manitoba reached 44.4°C and Atikokan, Ontario hit 42.2°C; 1,180 people died across Canada; a severe drought also occurred in 1936 (see 1931.002);  120.7 sq km of Saskatchewan timberland burned (see 1936.004).\\t1180\\t0\\t0\\t\\t\\t17/07/1936 12:00:00 AM\\t\\t\\t\\t\\t\\t\\t\\t0\\t0\\n',\n",
       "  'Incident\\tTechnology\\tInfrastructure failure\\tManufacturing / Industry\\tMoose River NS\\t12/04/1936 12:00:00 AM\\tMoose River NS, April 12-23, 1936. Three men were trapped in a gold mine: only two of the men survived.\\t1\\t0\\t0\\t\\t\\t23/04/1936 12:00:00 AM\\t\\t\\t\\t\\t\\t\\t\\t0\\t0\\n',\n",
       "  'Disaster\\tNatural\\tMeteorological - Hydrological\\tFlood\\tNew Brunswick\\t16/03/1936 12:00:00 AM\\tNew Brunswick, March 16-25, 1936. Snowmelt, ice jams and heavy rainfall caused flooding across New Brunswick and resulted in severe damage; 22 ice jams were reported along the Saint John River basin, some extending 10 km upstream; a major ice jam formed on the Fredericton public wharf and across the Saint John River near the Fredericton Highway Bridge; 15 bridges were partially or completely destroyed; roads and railways were inundated; numerous homes, businesses and barns were flooded or destroyed; lumber mill stock and livestock were lost.\\t0\\t0\\t0\\t\\t\\t25/03/1936 12:00:00 AM\\t\\t\\t\\t\\t\\t\\t\\t0\\t0\\n',\n",
       "  'Disaster\\tNatural\\tMeteorological - Hydrological\\tFlood\\tSouthern Ontario\\t10/03/1936 12:00:00 AM\\tSouthern Ontario, March 10-12, 1936. Widespread flooding caused damages and flooded roads and railways; flooding forced several businesses to close; several dams were also damaged.\\t0\\t0\\t0\\t\\t\\t12/03/1936 12:00:00 AM\\t\\t\\t\\t\\t\\t\\t\\t0\\t0\\n',\n",
       "  'Disaster\\tNatural\\tMeteorological - Hydrological\\tStorms and Severe Thunderstorms\\tNewfoundland\\t25/08/1935 12:00:00 AM\\tNewfoundland, August 25, 1935. Villages destroyed; 50 people left dead in the wake of a severe storm.\\t50\\t0\\t0\\t\\t\\t25/08/1935 12:00:00 AM\\t\\t\\t\\t\\t\\t\\t\\t0\\t0\\n',\n",
       "  'Incident\\tConflict\\tCivil Incident\\tRioting\\tRegina SK\\t01/06/1935 12:00:00 AM\\tRegina SK, June-July 1935. One person was killed on July 1 during a clash between police and 1000 unemployed workers taking part in the \"On to Ottawa\" trek.\\t1\\t0\\t0\\t\\t\\t01/07/1935 12:00:00 AM\\t\\t\\t\\t\\t\\t\\t\\t0\\t0\\n',\n",
       "  'Disaster\\tNatural\\tMeteorological - Hydrological\\tFlood\\tNova Scotia\\t10/01/1935 12:00:00 AM\\tNova Scotia, January 10-15, 1935.  Nova Scotia was hit hard by flooding caused by unusually high temperatures, torrential rains and ice jams.  Some rivers reached levels 8 to 14 metres higher than normal.  Dykes and highways were damaged, 25 bridges were destroyed, homes and businesses were inundated, homes were evacuated, roads were flooded and farm animals drowned.\\t\\t\\t2\\t\\t\\t15/01/1935 12:00:00 AM\\t\\t\\t\\t\\t\\t\\t\\t0\\t0\\n',\n",
       "  'Disaster\\tNatural\\tMeteorological - Hydrological\\tWinter Storm\\tManitoba\\t01/01/1935 12:00:00 AM\\tManitoba, 1935. Record snowfall in Manitoba reached 51.8 cm in March, 1935.\\t0\\t0\\t0\\t\\t\\t01/01/1935 12:00:00 AM\\t\\t\\t\\t\\t\\t\\t\\t0\\t0\\n',\n",
       "  'Disaster\\tNatural\\tMeteorological - Hydrological\\tFlood\\tPlaster Rock NB\\t16/04/1934 12:00:00 AM\\tPlaster Rock NB, April 16-24, 1934. Continuous rainfall for several days, snowmelt and an ice jam 6.4 kilometres north of Plaster Rock, New Brunswick, contributed to extensive flood damage in the Saint John River Basin;  the counties of Sunbury and York were most affected.\\t0\\t0\\t0\\t\\t\\t24/04/1934 12:00:00 AM\\t\\t\\t\\t\\t\\t\\t\\t0\\t0\\n',\n",
       "  'Disaster\\tNatural\\tMeteorological - Hydrological\\tCold Event\\tManitoba to Atlantic Canada\\t01/12/1933 12:00:00 AM\\tEastern Canada, December 1933 - February 1934. A Cold Wave engulfed North America from Manitoba to the Atlantic coast.  Ice trapped fishing vessels off Nova Scotia, hospitals were jammed with frostbite victims and for only the second time in recorded history, Lake Ontario froze completely; 15 weather-related deaths in Ontario; communication systems were disrupted.\\t15\\t0\\t0\\t\\t\\t01/02/1934 12:00:00 AM\\t\\t\\t\\t\\t\\t\\t\\t0\\t0\\n',\n",
       "  'Disaster\\tNatural\\tGeological\\tEarthquake\\tBaffin Bay NU\\t20/11/1933 12:00:00 AM\\tBaffin Bay NU, November 20, 1933. The largest earthquake ever recorded inside the Arctic Circle.  Magnitude: 7.3\\t0\\t0\\t0\\t\\t\\t20/11/1933 12:00:00 AM\\t\\t\\t\\t\\t\\t\\t\\t0\\t7\\n',\n",
       "  ...]]"
      ]
     },
     "execution_count": 234,
     "metadata": {},
     "output_type": "execute_result"
    }
   ],
   "source": [
    "l"
   ]
  }
 ],
 "metadata": {
  "kernelspec": {
   "display_name": "Python 3",
   "language": "python",
   "name": "python3"
  },
  "language_info": {
   "codemirror_mode": {
    "name": "ipython",
    "version": 3
   },
   "file_extension": ".py",
   "mimetype": "text/x-python",
   "name": "python",
   "nbconvert_exporter": "python",
   "pygments_lexer": "ipython3",
   "version": "3.7.6"
  },
  "toc": {
   "base_numbering": 1,
   "nav_menu": {},
   "number_sections": true,
   "sideBar": true,
   "skip_h1_title": false,
   "title_cell": "Table of Contents",
   "title_sidebar": "Contents",
   "toc_cell": true,
   "toc_position": {},
   "toc_section_display": true,
   "toc_window_display": false
  }
 },
 "nbformat": 4,
 "nbformat_minor": 4
}
