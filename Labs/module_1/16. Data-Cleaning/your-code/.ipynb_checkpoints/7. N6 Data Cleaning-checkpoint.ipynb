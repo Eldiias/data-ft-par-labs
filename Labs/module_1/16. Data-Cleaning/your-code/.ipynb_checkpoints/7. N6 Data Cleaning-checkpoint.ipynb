{
 "cells": [
  {
   "cell_type": "markdown",
   "metadata": {
    "toc": true
   },
   "source": [
    "<h1>Table of Contents<span class=\"tocSkip\"></span></h1>\n",
    "<div class=\"toc\"><ul class=\"toc-item\"><li><span><a href=\"#Intro\" data-toc-modified-id=\"Intro-1\"><span class=\"toc-item-num\">1&nbsp;&nbsp;</span>Intro</a></span></li><li><span><a href=\"#Grand-Turtles\" data-toc-modified-id=\"Grand-Turtles-2\"><span class=\"toc-item-num\">2&nbsp;&nbsp;</span>Grand Turtles</a></span></li><li><span><a href=\"#Missing-values\" data-toc-modified-id=\"Missing-values-3\"><span class=\"toc-item-num\">3&nbsp;&nbsp;</span>Missing values</a></span><ul class=\"toc-item\"><li><span><a href=\"#Drop-based-on-missing-rate\" data-toc-modified-id=\"Drop-based-on-missing-rate-3.1\"><span class=\"toc-item-num\">3.1&nbsp;&nbsp;</span>Drop based on missing rate</a></span></li><li><span><a href=\"#Interpolate\" data-toc-modified-id=\"Interpolate-3.2\"><span class=\"toc-item-num\">3.2&nbsp;&nbsp;</span>Interpolate</a></span></li><li><span><a href=\"#Fulfill-missing-data\" data-toc-modified-id=\"Fulfill-missing-data-3.3\"><span class=\"toc-item-num\">3.3&nbsp;&nbsp;</span>Fulfill missing data</a></span></li></ul></li><li><span><a href=\"#Incorrect-values\" data-toc-modified-id=\"Incorrect-values-4\"><span class=\"toc-item-num\">4&nbsp;&nbsp;</span>Incorrect values</a></span></li><li><span><a href=\"#Extreme-Values-and-Outliers\" data-toc-modified-id=\"Extreme-Values-and-Outliers-5\"><span class=\"toc-item-num\">5&nbsp;&nbsp;</span>Extreme Values and Outliers</a></span><ul class=\"toc-item\"><li><span><a href=\"#Detect-them\" data-toc-modified-id=\"Detect-them-5.1\"><span class=\"toc-item-num\">5.1&nbsp;&nbsp;</span>Detect them</a></span><ul class=\"toc-item\"><li><span><a href=\"#IQR\" data-toc-modified-id=\"IQR-5.1.1\"><span class=\"toc-item-num\">5.1.1&nbsp;&nbsp;</span>IQR</a></span></li><li><span><a href=\"#Boxplot\" data-toc-modified-id=\"Boxplot-5.1.2\"><span class=\"toc-item-num\">5.1.2&nbsp;&nbsp;</span>Boxplot</a></span></li><li><span><a href=\"#Z-score\" data-toc-modified-id=\"Z-score-5.1.3\"><span class=\"toc-item-num\">5.1.3&nbsp;&nbsp;</span>Z-score</a></span></li></ul></li><li><span><a href=\"#Fix-them\" data-toc-modified-id=\"Fix-them-5.2\"><span class=\"toc-item-num\">5.2&nbsp;&nbsp;</span>Fix them</a></span></li></ul></li><li><span><a href=\"#Data-Type\" data-toc-modified-id=\"Data-Type-6\"><span class=\"toc-item-num\">6&nbsp;&nbsp;</span>Data Type</a></span></li><li><span><a href=\"#Clean-Text\" data-toc-modified-id=\"Clean-Text-7\"><span class=\"toc-item-num\">7&nbsp;&nbsp;</span>Clean Text</a></span></li><li><span><a href=\"#Duplicates\" data-toc-modified-id=\"Duplicates-8\"><span class=\"toc-item-num\">8&nbsp;&nbsp;</span>Duplicates</a></span></li><li><span><a href=\"#Low-variance\" data-toc-modified-id=\"Low-variance-9\"><span class=\"toc-item-num\">9&nbsp;&nbsp;</span>Low variance</a></span></li></ul></div>"
   ]
  },
  {
   "cell_type": "code",
   "execution_count": 1,
   "metadata": {},
   "outputs": [],
   "source": [
    "import numpy as np\n",
    "import matplotlib.pyplot as plt\n",
    "import seaborn as sns\n",
    "sns.set()\n",
    "\n",
    "import pandas as pd\n",
    "import os"
   ]
  },
  {
   "cell_type": "markdown",
   "metadata": {
    "colab_type": "text",
    "id": "Ku6yFinFijg5"
   },
   "source": [
    "# Intro"
   ]
  },
  {
   "cell_type": "markdown",
   "metadata": {},
   "source": [
    "Data Cleaning is the most important and the most expensive part of data analysis.  \n",
    "If your data was not cleaned properly, nothing will make sense. Insights you managed to derive from dataset won't make any sense, tables and plots won't represent reality, conclusions you infered wont't be useful. And yeah, no model you build will be useful. \n",
    "\n",
    "So, companies are spending lots of money either to establish the process that won't accept wrong data (data discrimination), or to pay for data cleaners.\n",
    "\n",
    "<img src='https://i.pinimg.com/originals/bb/3b/07/bb3b070af4b0358eeea00c8b8fa1a4b6.gif' >"
   ]
  },
  {
   "cell_type": "markdown",
   "metadata": {},
   "source": [
    "Data cleaning can be split into core topics:\n",
    "1. Missing values\n",
    "2. Incorrect values\n",
    "3. Extreme values (outliers)\n",
    "4. Wrong data type\n",
    "5. Text cleaning\n",
    "6. Duplicates\n",
    "7. Low variance data\n",
    "\n",
    "Each of the issues should be treated separately. Still, you should never forget about the issues you can create by fixing the others."
   ]
  },
  {
   "cell_type": "code",
   "execution_count": 2,
   "metadata": {},
   "outputs": [],
   "source": [
    "#relocate to the file \n",
    "os.chdir('/home/mauritian/Downloads/vehicles/')"
   ]
  },
  {
   "cell_type": "code",
   "execution_count": 3,
   "metadata": {
    "colab": {},
    "colab_type": "code",
    "id": "Ad9vysuaijg6",
    "outputId": "bac2515a-2886-4c64-b245-2ccb9c7044aa"
   },
   "outputs": [
    {
     "name": "stderr",
     "output_type": "stream",
     "text": [
      "/home/mauritian/yes/lib/python3.7/site-packages/IPython/core/interactiveshell.py:3063: DtypeWarning: Columns (70,71,72,73,74,76,79) have mixed types.Specify dtype option on import or set low_memory=False.\n",
      "  interactivity=interactivity, compiler=compiler, result=result)\n"
     ]
    }
   ],
   "source": [
    "#import the file\n",
    "data=pd.read_csv('vehicles_messy.csv')"
   ]
  },
  {
   "cell_type": "code",
   "execution_count": 4,
   "metadata": {
    "colab": {},
    "colab_type": "code",
    "id": "FqmsxNP9ijg-",
    "outputId": "7278f28d-3e70-41c5-8601-3c4122b2c8a7",
    "scrolled": true
   },
   "outputs": [
    {
     "data": {
      "text/plain": [
       "(37843, 83)"
      ]
     },
     "execution_count": 4,
     "metadata": {},
     "output_type": "execute_result"
    }
   ],
   "source": [
    "data.shape"
   ]
  },
  {
   "cell_type": "code",
   "execution_count": 5,
   "metadata": {},
   "outputs": [
    {
     "name": "stdout",
     "output_type": "stream",
     "text": [
      "<class 'pandas.core.frame.DataFrame'>\n",
      "RangeIndex: 37843 entries, 0 to 37842\n",
      "Data columns (total 83 columns):\n",
      " #   Column           Non-Null Count  Dtype  \n",
      "---  ------           --------------  -----  \n",
      " 0   barrels08        37843 non-null  float64\n",
      " 1   barrelsA08       37843 non-null  float64\n",
      " 2   charge120        37843 non-null  float64\n",
      " 3   charge240        37843 non-null  float64\n",
      " 4   city08           37843 non-null  int64  \n",
      " 5   city08U          37843 non-null  float64\n",
      " 6   cityA08          37843 non-null  int64  \n",
      " 7   cityA08U         37843 non-null  float64\n",
      " 8   cityCD           37843 non-null  float64\n",
      " 9   cityE            37843 non-null  float64\n",
      " 10  cityUF           37843 non-null  float64\n",
      " 11  co2              37843 non-null  int64  \n",
      " 12  co2A             37843 non-null  int64  \n",
      " 13  co2TailpipeAGpm  37843 non-null  float64\n",
      " 14  co2TailpipeGpm   37843 non-null  float64\n",
      " 15  comb08           37843 non-null  int64  \n",
      " 16  comb08U          37843 non-null  float64\n",
      " 17  combA08          37843 non-null  int64  \n",
      " 18  combA08U         37843 non-null  float64\n",
      " 19  combE            37843 non-null  float64\n",
      " 20  combinedCD       37843 non-null  float64\n",
      " 21  combinedUF       37843 non-null  float64\n",
      " 22  cylinders        37720 non-null  float64\n",
      " 23  displ            37723 non-null  float64\n",
      " 24  drive            36654 non-null  object \n",
      " 25  engId            37843 non-null  int64  \n",
      " 26  eng_dscr         22440 non-null  object \n",
      " 27  feScore          37843 non-null  int64  \n",
      " 28  fuelCost08       37843 non-null  int64  \n",
      " 29  fuelCostA08      37843 non-null  int64  \n",
      " 30  fuelType         37843 non-null  object \n",
      " 31  fuelType1        37843 non-null  object \n",
      " 32  ghgScore         37843 non-null  int64  \n",
      " 33  ghgScoreA        37843 non-null  int64  \n",
      " 34  highway08        37843 non-null  int64  \n",
      " 35  highway08U       37843 non-null  float64\n",
      " 36  highwayA08       37843 non-null  int64  \n",
      " 37  highwayA08U      37843 non-null  float64\n",
      " 38  highwayCD        37843 non-null  float64\n",
      " 39  highwayE         37843 non-null  float64\n",
      " 40  highwayUF        37843 non-null  float64\n",
      " 41  hlv              37843 non-null  int64  \n",
      " 42  hpv              37843 non-null  int64  \n",
      " 43  id               37843 non-null  int64  \n",
      " 44  lv2              37843 non-null  int64  \n",
      " 45  lv4              37843 non-null  int64  \n",
      " 46  make             37843 non-null  object \n",
      " 47  model            37843 non-null  object \n",
      " 48  mpgData          37843 non-null  object \n",
      " 49  phevBlended      37843 non-null  bool   \n",
      " 50  pv2              37843 non-null  int64  \n",
      " 51  pv4              37843 non-null  int64  \n",
      " 52  range            37843 non-null  int64  \n",
      " 53  rangeCity        37843 non-null  float64\n",
      " 54  rangeCityA       37843 non-null  float64\n",
      " 55  rangeHwy         37843 non-null  float64\n",
      " 56  rangeHwyA        37843 non-null  float64\n",
      " 57  trany            37832 non-null  object \n",
      " 58  UCity            37843 non-null  float64\n",
      " 59  UCityA           37843 non-null  float64\n",
      " 60  UHighway         37843 non-null  float64\n",
      " 61  UHighwayA        37843 non-null  float64\n",
      " 62  VClass           37843 non-null  object \n",
      " 63  year             37843 non-null  int64  \n",
      " 64  youSaveSpend     37843 non-null  int64  \n",
      " 65  guzzler          2281 non-null   object \n",
      " 66  trans_dscr       15047 non-null  object \n",
      " 67  tCharger         5186 non-null   object \n",
      " 68  sCharger         666 non-null    object \n",
      " 69  atvType          3072 non-null   object \n",
      " 70  fuelType2        1408 non-null   object \n",
      " 71  rangeA           1403 non-null   object \n",
      " 72  evMotor          562 non-null    object \n",
      " 73  mfrCode          7025 non-null   object \n",
      " 74  c240Dscr         37 non-null     object \n",
      " 75  charge240b       37843 non-null  float64\n",
      " 76  c240bDscr        36 non-null     object \n",
      " 77  createdOn        37843 non-null  object \n",
      " 78  modifiedOn       37843 non-null  object \n",
      " 79  startStop        6138 non-null   object \n",
      " 80  phevCity         37843 non-null  int64  \n",
      " 81  phevHwy          37843 non-null  int64  \n",
      " 82  phevComb         37843 non-null  int64  \n",
      "dtypes: bool(1), float64(32), int64(27), object(23)\n",
      "memory usage: 23.7+ MB\n"
     ]
    }
   ],
   "source": [
    "data.info()"
   ]
  },
  {
   "cell_type": "code",
   "execution_count": 6,
   "metadata": {},
   "outputs": [
    {
     "data": {
      "text/html": [
       "<div>\n",
       "<style scoped>\n",
       "    .dataframe tbody tr th:only-of-type {\n",
       "        vertical-align: middle;\n",
       "    }\n",
       "\n",
       "    .dataframe tbody tr th {\n",
       "        vertical-align: top;\n",
       "    }\n",
       "\n",
       "    .dataframe thead th {\n",
       "        text-align: right;\n",
       "    }\n",
       "</style>\n",
       "<table border=\"1\" class=\"dataframe\">\n",
       "  <thead>\n",
       "    <tr style=\"text-align: right;\">\n",
       "      <th></th>\n",
       "      <th>barrels08</th>\n",
       "      <th>barrelsA08</th>\n",
       "      <th>charge120</th>\n",
       "      <th>charge240</th>\n",
       "      <th>city08</th>\n",
       "      <th>city08U</th>\n",
       "      <th>cityA08</th>\n",
       "      <th>cityA08U</th>\n",
       "      <th>cityCD</th>\n",
       "      <th>cityE</th>\n",
       "      <th>...</th>\n",
       "      <th>mfrCode</th>\n",
       "      <th>c240Dscr</th>\n",
       "      <th>charge240b</th>\n",
       "      <th>c240bDscr</th>\n",
       "      <th>createdOn</th>\n",
       "      <th>modifiedOn</th>\n",
       "      <th>startStop</th>\n",
       "      <th>phevCity</th>\n",
       "      <th>phevHwy</th>\n",
       "      <th>phevComb</th>\n",
       "    </tr>\n",
       "  </thead>\n",
       "  <tbody>\n",
       "    <tr>\n",
       "      <th>0</th>\n",
       "      <td>15.695714</td>\n",
       "      <td>0.0</td>\n",
       "      <td>0.0</td>\n",
       "      <td>0.0</td>\n",
       "      <td>19</td>\n",
       "      <td>0.0</td>\n",
       "      <td>0</td>\n",
       "      <td>0.0</td>\n",
       "      <td>0.0</td>\n",
       "      <td>0.0</td>\n",
       "      <td>...</td>\n",
       "      <td>NaN</td>\n",
       "      <td>NaN</td>\n",
       "      <td>0.0</td>\n",
       "      <td>NaN</td>\n",
       "      <td>Tue Jan 01 00:00:00 EST 2013</td>\n",
       "      <td>Tue Jan 01 00:00:00 EST 2013</td>\n",
       "      <td>NaN</td>\n",
       "      <td>0</td>\n",
       "      <td>0</td>\n",
       "      <td>0</td>\n",
       "    </tr>\n",
       "    <tr>\n",
       "      <th>1</th>\n",
       "      <td>29.964545</td>\n",
       "      <td>0.0</td>\n",
       "      <td>0.0</td>\n",
       "      <td>0.0</td>\n",
       "      <td>9</td>\n",
       "      <td>0.0</td>\n",
       "      <td>0</td>\n",
       "      <td>0.0</td>\n",
       "      <td>0.0</td>\n",
       "      <td>0.0</td>\n",
       "      <td>...</td>\n",
       "      <td>NaN</td>\n",
       "      <td>NaN</td>\n",
       "      <td>0.0</td>\n",
       "      <td>NaN</td>\n",
       "      <td>Tue Jan 01 00:00:00 EST 2013</td>\n",
       "      <td>Tue Jan 01 00:00:00 EST 2013</td>\n",
       "      <td>NaN</td>\n",
       "      <td>0</td>\n",
       "      <td>0</td>\n",
       "      <td>0</td>\n",
       "    </tr>\n",
       "    <tr>\n",
       "      <th>2</th>\n",
       "      <td>12.207778</td>\n",
       "      <td>0.0</td>\n",
       "      <td>0.0</td>\n",
       "      <td>0.0</td>\n",
       "      <td>23</td>\n",
       "      <td>0.0</td>\n",
       "      <td>0</td>\n",
       "      <td>0.0</td>\n",
       "      <td>0.0</td>\n",
       "      <td>0.0</td>\n",
       "      <td>...</td>\n",
       "      <td>NaN</td>\n",
       "      <td>NaN</td>\n",
       "      <td>0.0</td>\n",
       "      <td>NaN</td>\n",
       "      <td>Tue Jan 01 00:00:00 EST 2013</td>\n",
       "      <td>Tue Jan 01 00:00:00 EST 2013</td>\n",
       "      <td>NaN</td>\n",
       "      <td>0</td>\n",
       "      <td>0</td>\n",
       "      <td>0</td>\n",
       "    </tr>\n",
       "    <tr>\n",
       "      <th>3</th>\n",
       "      <td>29.964545</td>\n",
       "      <td>0.0</td>\n",
       "      <td>0.0</td>\n",
       "      <td>0.0</td>\n",
       "      <td>10</td>\n",
       "      <td>0.0</td>\n",
       "      <td>0</td>\n",
       "      <td>0.0</td>\n",
       "      <td>0.0</td>\n",
       "      <td>0.0</td>\n",
       "      <td>...</td>\n",
       "      <td>NaN</td>\n",
       "      <td>NaN</td>\n",
       "      <td>0.0</td>\n",
       "      <td>NaN</td>\n",
       "      <td>Tue Jan 01 00:00:00 EST 2013</td>\n",
       "      <td>Tue Jan 01 00:00:00 EST 2013</td>\n",
       "      <td>NaN</td>\n",
       "      <td>0</td>\n",
       "      <td>0</td>\n",
       "      <td>0</td>\n",
       "    </tr>\n",
       "    <tr>\n",
       "      <th>4</th>\n",
       "      <td>17.347895</td>\n",
       "      <td>0.0</td>\n",
       "      <td>0.0</td>\n",
       "      <td>0.0</td>\n",
       "      <td>17</td>\n",
       "      <td>0.0</td>\n",
       "      <td>0</td>\n",
       "      <td>0.0</td>\n",
       "      <td>0.0</td>\n",
       "      <td>0.0</td>\n",
       "      <td>...</td>\n",
       "      <td>NaN</td>\n",
       "      <td>NaN</td>\n",
       "      <td>0.0</td>\n",
       "      <td>NaN</td>\n",
       "      <td>Tue Jan 01 00:00:00 EST 2013</td>\n",
       "      <td>Tue Jan 01 00:00:00 EST 2013</td>\n",
       "      <td>NaN</td>\n",
       "      <td>0</td>\n",
       "      <td>0</td>\n",
       "      <td>0</td>\n",
       "    </tr>\n",
       "  </tbody>\n",
       "</table>\n",
       "<p>5 rows × 83 columns</p>\n",
       "</div>"
      ],
      "text/plain": [
       "   barrels08  barrelsA08  charge120  charge240  city08  city08U  cityA08  \\\n",
       "0  15.695714         0.0        0.0        0.0      19      0.0        0   \n",
       "1  29.964545         0.0        0.0        0.0       9      0.0        0   \n",
       "2  12.207778         0.0        0.0        0.0      23      0.0        0   \n",
       "3  29.964545         0.0        0.0        0.0      10      0.0        0   \n",
       "4  17.347895         0.0        0.0        0.0      17      0.0        0   \n",
       "\n",
       "   cityA08U  cityCD  cityE  ...  mfrCode  c240Dscr  charge240b  c240bDscr  \\\n",
       "0       0.0     0.0    0.0  ...      NaN       NaN         0.0        NaN   \n",
       "1       0.0     0.0    0.0  ...      NaN       NaN         0.0        NaN   \n",
       "2       0.0     0.0    0.0  ...      NaN       NaN         0.0        NaN   \n",
       "3       0.0     0.0    0.0  ...      NaN       NaN         0.0        NaN   \n",
       "4       0.0     0.0    0.0  ...      NaN       NaN         0.0        NaN   \n",
       "\n",
       "                      createdOn                    modifiedOn  startStop  \\\n",
       "0  Tue Jan 01 00:00:00 EST 2013  Tue Jan 01 00:00:00 EST 2013        NaN   \n",
       "1  Tue Jan 01 00:00:00 EST 2013  Tue Jan 01 00:00:00 EST 2013        NaN   \n",
       "2  Tue Jan 01 00:00:00 EST 2013  Tue Jan 01 00:00:00 EST 2013        NaN   \n",
       "3  Tue Jan 01 00:00:00 EST 2013  Tue Jan 01 00:00:00 EST 2013        NaN   \n",
       "4  Tue Jan 01 00:00:00 EST 2013  Tue Jan 01 00:00:00 EST 2013        NaN   \n",
       "\n",
       "   phevCity  phevHwy  phevComb  \n",
       "0         0        0         0  \n",
       "1         0        0         0  \n",
       "2         0        0         0  \n",
       "3         0        0         0  \n",
       "4         0        0         0  \n",
       "\n",
       "[5 rows x 83 columns]"
      ]
     },
     "execution_count": 6,
     "metadata": {},
     "output_type": "execute_result"
    }
   ],
   "source": [
    "data.head()"
   ]
  },
  {
   "cell_type": "code",
   "execution_count": 7,
   "metadata": {
    "colab": {},
    "colab_type": "code",
    "id": "PAX0HtaYijhB",
    "outputId": "9c7139ba-e65c-4404-a5d7-5bab06e4c5b1"
   },
   "outputs": [
    {
     "data": {
      "text/html": [
       "<div>\n",
       "<style scoped>\n",
       "    .dataframe tbody tr th:only-of-type {\n",
       "        vertical-align: middle;\n",
       "    }\n",
       "\n",
       "    .dataframe tbody tr th {\n",
       "        vertical-align: top;\n",
       "    }\n",
       "\n",
       "    .dataframe thead th {\n",
       "        text-align: right;\n",
       "    }\n",
       "</style>\n",
       "<table border=\"1\" class=\"dataframe\">\n",
       "  <thead>\n",
       "    <tr style=\"text-align: right;\">\n",
       "      <th></th>\n",
       "      <th>barrels08</th>\n",
       "      <th>barrelsA08</th>\n",
       "      <th>charge120</th>\n",
       "      <th>charge240</th>\n",
       "      <th>city08</th>\n",
       "      <th>city08U</th>\n",
       "      <th>cityA08</th>\n",
       "      <th>cityA08U</th>\n",
       "      <th>cityCD</th>\n",
       "      <th>cityE</th>\n",
       "      <th>...</th>\n",
       "      <th>UCity</th>\n",
       "      <th>UCityA</th>\n",
       "      <th>UHighway</th>\n",
       "      <th>UHighwayA</th>\n",
       "      <th>year</th>\n",
       "      <th>youSaveSpend</th>\n",
       "      <th>charge240b</th>\n",
       "      <th>phevCity</th>\n",
       "      <th>phevHwy</th>\n",
       "      <th>phevComb</th>\n",
       "    </tr>\n",
       "  </thead>\n",
       "  <tbody>\n",
       "    <tr>\n",
       "      <th>count</th>\n",
       "      <td>37843.000000</td>\n",
       "      <td>37843.000000</td>\n",
       "      <td>37843.0</td>\n",
       "      <td>37843.000000</td>\n",
       "      <td>37843.000000</td>\n",
       "      <td>37843.000000</td>\n",
       "      <td>37843.000000</td>\n",
       "      <td>37843.000000</td>\n",
       "      <td>37843.000000</td>\n",
       "      <td>37843.000000</td>\n",
       "      <td>...</td>\n",
       "      <td>37843.000000</td>\n",
       "      <td>37843.000000</td>\n",
       "      <td>37843.000000</td>\n",
       "      <td>37843.000000</td>\n",
       "      <td>37843.000000</td>\n",
       "      <td>37843.000000</td>\n",
       "      <td>37843.000000</td>\n",
       "      <td>37843.000000</td>\n",
       "      <td>37843.000000</td>\n",
       "      <td>37843.000000</td>\n",
       "    </tr>\n",
       "    <tr>\n",
       "      <th>mean</th>\n",
       "      <td>17.532506</td>\n",
       "      <td>0.216169</td>\n",
       "      <td>0.0</td>\n",
       "      <td>0.023531</td>\n",
       "      <td>17.941389</td>\n",
       "      <td>4.042737</td>\n",
       "      <td>0.520149</td>\n",
       "      <td>0.327163</td>\n",
       "      <td>0.000406</td>\n",
       "      <td>0.184790</td>\n",
       "      <td>...</td>\n",
       "      <td>22.587229</td>\n",
       "      <td>0.652380</td>\n",
       "      <td>33.619221</td>\n",
       "      <td>0.933845</td>\n",
       "      <td>2000.064398</td>\n",
       "      <td>-2658.999022</td>\n",
       "      <td>0.004360</td>\n",
       "      <td>0.069313</td>\n",
       "      <td>0.068203</td>\n",
       "      <td>0.068573</td>\n",
       "    </tr>\n",
       "    <tr>\n",
       "      <th>std</th>\n",
       "      <td>4.575950</td>\n",
       "      <td>1.141527</td>\n",
       "      <td>0.0</td>\n",
       "      <td>0.427647</td>\n",
       "      <td>6.660360</td>\n",
       "      <td>9.645820</td>\n",
       "      <td>3.837874</td>\n",
       "      <td>3.542596</td>\n",
       "      <td>0.039918</td>\n",
       "      <td>2.904558</td>\n",
       "      <td>...</td>\n",
       "      <td>9.350163</td>\n",
       "      <td>5.284547</td>\n",
       "      <td>10.048326</td>\n",
       "      <td>6.059456</td>\n",
       "      <td>10.390588</td>\n",
       "      <td>2553.098329</td>\n",
       "      <td>0.142776</td>\n",
       "      <td>1.966806</td>\n",
       "      <td>1.871986</td>\n",
       "      <td>1.913647</td>\n",
       "    </tr>\n",
       "    <tr>\n",
       "      <th>min</th>\n",
       "      <td>0.060000</td>\n",
       "      <td>0.000000</td>\n",
       "      <td>0.0</td>\n",
       "      <td>0.000000</td>\n",
       "      <td>6.000000</td>\n",
       "      <td>0.000000</td>\n",
       "      <td>0.000000</td>\n",
       "      <td>0.000000</td>\n",
       "      <td>0.000000</td>\n",
       "      <td>0.000000</td>\n",
       "      <td>...</td>\n",
       "      <td>0.000000</td>\n",
       "      <td>0.000000</td>\n",
       "      <td>0.000000</td>\n",
       "      <td>0.000000</td>\n",
       "      <td>1984.000000</td>\n",
       "      <td>-22250.000000</td>\n",
       "      <td>0.000000</td>\n",
       "      <td>0.000000</td>\n",
       "      <td>0.000000</td>\n",
       "      <td>0.000000</td>\n",
       "    </tr>\n",
       "    <tr>\n",
       "      <th>25%</th>\n",
       "      <td>14.330870</td>\n",
       "      <td>0.000000</td>\n",
       "      <td>0.0</td>\n",
       "      <td>0.000000</td>\n",
       "      <td>15.000000</td>\n",
       "      <td>0.000000</td>\n",
       "      <td>0.000000</td>\n",
       "      <td>0.000000</td>\n",
       "      <td>0.000000</td>\n",
       "      <td>0.000000</td>\n",
       "      <td>...</td>\n",
       "      <td>18.000000</td>\n",
       "      <td>0.000000</td>\n",
       "      <td>27.100000</td>\n",
       "      <td>0.000000</td>\n",
       "      <td>1990.000000</td>\n",
       "      <td>-4250.000000</td>\n",
       "      <td>0.000000</td>\n",
       "      <td>0.000000</td>\n",
       "      <td>0.000000</td>\n",
       "      <td>0.000000</td>\n",
       "    </tr>\n",
       "    <tr>\n",
       "      <th>50%</th>\n",
       "      <td>17.347895</td>\n",
       "      <td>0.000000</td>\n",
       "      <td>0.0</td>\n",
       "      <td>0.000000</td>\n",
       "      <td>17.000000</td>\n",
       "      <td>0.000000</td>\n",
       "      <td>0.000000</td>\n",
       "      <td>0.000000</td>\n",
       "      <td>0.000000</td>\n",
       "      <td>0.000000</td>\n",
       "      <td>...</td>\n",
       "      <td>21.000000</td>\n",
       "      <td>0.000000</td>\n",
       "      <td>33.000000</td>\n",
       "      <td>0.000000</td>\n",
       "      <td>2001.000000</td>\n",
       "      <td>-2500.000000</td>\n",
       "      <td>0.000000</td>\n",
       "      <td>0.000000</td>\n",
       "      <td>0.000000</td>\n",
       "      <td>0.000000</td>\n",
       "    </tr>\n",
       "    <tr>\n",
       "      <th>75%</th>\n",
       "      <td>20.600625</td>\n",
       "      <td>0.000000</td>\n",
       "      <td>0.0</td>\n",
       "      <td>0.000000</td>\n",
       "      <td>20.000000</td>\n",
       "      <td>0.000000</td>\n",
       "      <td>0.000000</td>\n",
       "      <td>0.000000</td>\n",
       "      <td>0.000000</td>\n",
       "      <td>0.000000</td>\n",
       "      <td>...</td>\n",
       "      <td>25.139300</td>\n",
       "      <td>0.000000</td>\n",
       "      <td>38.109600</td>\n",
       "      <td>0.000000</td>\n",
       "      <td>2009.000000</td>\n",
       "      <td>-750.000000</td>\n",
       "      <td>0.000000</td>\n",
       "      <td>0.000000</td>\n",
       "      <td>0.000000</td>\n",
       "      <td>0.000000</td>\n",
       "    </tr>\n",
       "    <tr>\n",
       "      <th>max</th>\n",
       "      <td>47.087143</td>\n",
       "      <td>18.311667</td>\n",
       "      <td>0.0</td>\n",
       "      <td>12.000000</td>\n",
       "      <td>138.000000</td>\n",
       "      <td>138.304000</td>\n",
       "      <td>127.000000</td>\n",
       "      <td>127.093000</td>\n",
       "      <td>5.350000</td>\n",
       "      <td>122.000000</td>\n",
       "      <td>...</td>\n",
       "      <td>197.577100</td>\n",
       "      <td>181.560900</td>\n",
       "      <td>159.100000</td>\n",
       "      <td>152.187800</td>\n",
       "      <td>2017.000000</td>\n",
       "      <td>4000.000000</td>\n",
       "      <td>7.000000</td>\n",
       "      <td>97.000000</td>\n",
       "      <td>79.000000</td>\n",
       "      <td>88.000000</td>\n",
       "    </tr>\n",
       "  </tbody>\n",
       "</table>\n",
       "<p>8 rows × 59 columns</p>\n",
       "</div>"
      ],
      "text/plain": [
       "          barrels08    barrelsA08  charge120     charge240        city08  \\\n",
       "count  37843.000000  37843.000000    37843.0  37843.000000  37843.000000   \n",
       "mean      17.532506      0.216169        0.0      0.023531     17.941389   \n",
       "std        4.575950      1.141527        0.0      0.427647      6.660360   \n",
       "min        0.060000      0.000000        0.0      0.000000      6.000000   \n",
       "25%       14.330870      0.000000        0.0      0.000000     15.000000   \n",
       "50%       17.347895      0.000000        0.0      0.000000     17.000000   \n",
       "75%       20.600625      0.000000        0.0      0.000000     20.000000   \n",
       "max       47.087143     18.311667        0.0     12.000000    138.000000   \n",
       "\n",
       "            city08U       cityA08      cityA08U        cityCD         cityE  \\\n",
       "count  37843.000000  37843.000000  37843.000000  37843.000000  37843.000000   \n",
       "mean       4.042737      0.520149      0.327163      0.000406      0.184790   \n",
       "std        9.645820      3.837874      3.542596      0.039918      2.904558   \n",
       "min        0.000000      0.000000      0.000000      0.000000      0.000000   \n",
       "25%        0.000000      0.000000      0.000000      0.000000      0.000000   \n",
       "50%        0.000000      0.000000      0.000000      0.000000      0.000000   \n",
       "75%        0.000000      0.000000      0.000000      0.000000      0.000000   \n",
       "max      138.304000    127.000000    127.093000      5.350000    122.000000   \n",
       "\n",
       "       ...         UCity        UCityA      UHighway     UHighwayA  \\\n",
       "count  ...  37843.000000  37843.000000  37843.000000  37843.000000   \n",
       "mean   ...     22.587229      0.652380     33.619221      0.933845   \n",
       "std    ...      9.350163      5.284547     10.048326      6.059456   \n",
       "min    ...      0.000000      0.000000      0.000000      0.000000   \n",
       "25%    ...     18.000000      0.000000     27.100000      0.000000   \n",
       "50%    ...     21.000000      0.000000     33.000000      0.000000   \n",
       "75%    ...     25.139300      0.000000     38.109600      0.000000   \n",
       "max    ...    197.577100    181.560900    159.100000    152.187800   \n",
       "\n",
       "               year  youSaveSpend    charge240b      phevCity       phevHwy  \\\n",
       "count  37843.000000  37843.000000  37843.000000  37843.000000  37843.000000   \n",
       "mean    2000.064398  -2658.999022      0.004360      0.069313      0.068203   \n",
       "std       10.390588   2553.098329      0.142776      1.966806      1.871986   \n",
       "min     1984.000000 -22250.000000      0.000000      0.000000      0.000000   \n",
       "25%     1990.000000  -4250.000000      0.000000      0.000000      0.000000   \n",
       "50%     2001.000000  -2500.000000      0.000000      0.000000      0.000000   \n",
       "75%     2009.000000   -750.000000      0.000000      0.000000      0.000000   \n",
       "max     2017.000000   4000.000000      7.000000     97.000000     79.000000   \n",
       "\n",
       "           phevComb  \n",
       "count  37843.000000  \n",
       "mean       0.068573  \n",
       "std        1.913647  \n",
       "min        0.000000  \n",
       "25%        0.000000  \n",
       "50%        0.000000  \n",
       "75%        0.000000  \n",
       "max       88.000000  \n",
       "\n",
       "[8 rows x 59 columns]"
      ]
     },
     "execution_count": 7,
     "metadata": {},
     "output_type": "execute_result"
    }
   ],
   "source": [
    "#description of dataset\n",
    "data.describe()"
   ]
  },
  {
   "cell_type": "code",
   "execution_count": 8,
   "metadata": {},
   "outputs": [
    {
     "data": {
      "text/plain": [
       "Index(['barrels08', 'barrelsA08', 'charge120', 'charge240', 'city08',\n",
       "       'city08U', 'cityA08', 'cityA08U', 'cityCD', 'cityE', 'cityUF', 'co2',\n",
       "       'co2A', 'co2TailpipeAGpm', 'co2TailpipeGpm', 'comb08', 'comb08U',\n",
       "       'combA08', 'combA08U', 'combE', 'combinedCD', 'combinedUF', 'cylinders',\n",
       "       'displ', 'drive', 'engId', 'eng_dscr', 'feScore', 'fuelCost08',\n",
       "       'fuelCostA08', 'fuelType', 'fuelType1', 'ghgScore', 'ghgScoreA',\n",
       "       'highway08', 'highway08U', 'highwayA08', 'highwayA08U', 'highwayCD',\n",
       "       'highwayE', 'highwayUF', 'hlv', 'hpv', 'id', 'lv2', 'lv4', 'make',\n",
       "       'model', 'mpgData', 'phevBlended', 'pv2', 'pv4', 'range', 'rangeCity',\n",
       "       'rangeCityA', 'rangeHwy', 'rangeHwyA', 'trany', 'UCity', 'UCityA',\n",
       "       'UHighway', 'UHighwayA', 'VClass', 'year', 'youSaveSpend', 'guzzler',\n",
       "       'trans_dscr', 'tCharger', 'sCharger', 'atvType', 'fuelType2', 'rangeA',\n",
       "       'evMotor', 'mfrCode', 'c240Dscr', 'charge240b', 'c240bDscr',\n",
       "       'createdOn', 'modifiedOn', 'startStop', 'phevCity', 'phevHwy',\n",
       "       'phevComb'],\n",
       "      dtype='object')"
      ]
     },
     "execution_count": 8,
     "metadata": {},
     "output_type": "execute_result"
    }
   ],
   "source": [
    "data.columns"
   ]
  },
  {
   "cell_type": "markdown",
   "metadata": {},
   "source": [
    "After all those tables, we can conclude that:\n",
    "* 37843 rows vs 83 columns. Enough data, but amount of columns... Could be better if we drop some.\n",
    "* `head()` shows that we have lots of missing data, zeros, different data types (such as date).\n",
    "* `describe` tells us that we have lots of columns with at least 75% of data being null. Not nice at all.\n",
    "* Lots  of columns starting from the same prefix - probably dummies. May be not. Not sure..."
   ]
  },
  {
   "cell_type": "markdown",
   "metadata": {
    "colab_type": "text",
    "heading_collapsed": true,
    "id": "rk2Fle0cijhF"
   },
   "source": [
    "# Grand Turtles"
   ]
  },
  {
   "cell_type": "markdown",
   "metadata": {
    "hidden": true
   },
   "source": [
    "Do you know the old legend about turtles? \n",
    "<img src='https://static01.nyt.com/images/2011/10/25/crosswords/NP_jk_turtles/NP_jk_turtles-blog480.jpg' width='300'>\n",
    "\n",
    "Such a beautiful legend telling that the Earth is flat and it is hold by turtles... There are turtles all way down... Stupid story. Where can you find infinite number of turtles? Or what if one of them wants to pee? Should it pee on others' heads or it should leave the pyramide to toilet? Many questions that lead nowhere, since we know that Earth is not flat.\n",
    "\n",
    "I define 3 turtles that rule every single process:\n",
    "1. Data - Make data be friendly\n",
    "2. Logic - Achieve the goals of analysis\n",
    "3. Interface - Make results be user-friendly\n",
    "\n",
    "Each step is very important. If you miss one of them - nothing will work. Here we are talking about step 1. "
   ]
  },
  {
   "cell_type": "markdown",
   "metadata": {
    "colab_type": "text",
    "heading_collapsed": true,
    "id": "bOK5pdsYijhG"
   },
   "source": [
    "# Missing values"
   ]
  },
  {
   "cell_type": "markdown",
   "metadata": {
    "hidden": true
   },
   "source": [
    "Missing data is a problem. You won't be able to finish your puzzle wuth 1 part missing. No matter how big and magnificent is your puzzle, it won't be as good as full one. And yeah, there is a high chance of misinterpreting your data, especially if it is [white heaven](https://www.boredpanda.com/amazon-selling-1000-pieces-white-blank-puzzle/?utm_source=google&utm_medium=organic&utm_campaign=organic).\n",
    "<img src='https://static.boredpanda.com/blog/wp-content/uploads/2020/04/5-5ea7de15ec5ac__700.jpg' width='350'>\n",
    "\n",
    "How do we deal with it? \n",
    "1. Detect the missing rate in each column.\n",
    "2. Select the solution:\n",
    "    - Drop column with missing rate higher than certain predefined threshold;\n",
    "    - Interpolate;\n",
    "    - Null them and create a flag variable.\n",
    "3. No more missing values, **PROFIT**!\n",
    "\n",
    "<img src='https://elitedatascience.com/wp-content/uploads/2017/06/Label-as-Missing-Puzzle.png'>"
   ]
  },
  {
   "cell_type": "markdown",
   "metadata": {
    "hidden": true
   },
   "source": [
    "Nulling is not the best solution, even though you can use it. Let's see some examples:\n"
   ]
  },
  {
   "cell_type": "code",
   "execution_count": 9,
   "metadata": {
    "hidden": true
   },
   "outputs": [
    {
     "data": {
      "text/plain": [
       "<matplotlib.axes._subplots.AxesSubplot at 0x7f24df21ec50>"
      ]
     },
     "execution_count": 9,
     "metadata": {},
     "output_type": "execute_result"
    },
    {
     "data": {
      "image/png": "[encoded data removed]",
      "text/plain": [
       "<Figure size 432x288 with 1 Axes>"
      ]
     },
     "metadata": {},
     "output_type": "display_data"
    }
   ],
   "source": [
    "#just simulation of case with lots of missing data filled with 0\n",
    "\n",
    "normal=5+2*np.random.randn((1000))\n",
    "missing=np.zeros(200)\n",
    "together=np.concatenate((normal,missing))\n",
    "\n",
    "sns.distplot(together)"
   ]
  },
  {
   "cell_type": "markdown",
   "metadata": {
    "hidden": true
   },
   "source": [
    "In the simulated example above we can see that most of the data follows normal distribution, while still we have lots of 0s that spoiles the picture. Ideal scenario would be:"
   ]
  },
  {
   "cell_type": "code",
   "execution_count": 10,
   "metadata": {
    "hidden": true
   },
   "outputs": [
    {
     "data": {
      "text/plain": [
       "<matplotlib.axes._subplots.AxesSubplot at 0x7f24dddca950>"
      ]
     },
     "execution_count": 10,
     "metadata": {},
     "output_type": "execute_result"
    },
    {
     "data": {
      "image/png": "[encoded data removed]",
      "text/plain": [
       "<Figure size 432x288 with 1 Axes>"
      ]
     },
     "metadata": {},
     "output_type": "display_data"
    }
   ],
   "source": [
    "sns.distplot(normal)"
   ]
  },
  {
   "cell_type": "markdown",
   "metadata": {
    "hidden": true
   },
   "source": [
    "What about actual data? I mean the one from `vehicles` dataset."
   ]
  },
  {
   "cell_type": "code",
   "execution_count": 11,
   "metadata": {
    "colab": {},
    "colab_type": "code",
    "hidden": true,
    "id": "Ek7l4YS7ijhq",
    "outputId": "173c6f18-7059-4487-afeb-5c6de9f74654"
   },
   "outputs": [
    {
     "data": {
      "text/plain": [
       "<matplotlib.axes._subplots.AxesSubplot at 0x7f24dd50ed90>"
      ]
     },
     "execution_count": 11,
     "metadata": {},
     "output_type": "execute_result"
    },
    {
     "data": {
      "image/png": "[encoded data removed]",
      "text/plain": [
       "<Figure size 432x288 with 1 Axes>"
      ]
     },
     "metadata": {},
     "output_type": "display_data"
    }
   ],
   "source": [
    "data.phevCity.hist(bins=100)"
   ]
  },
  {
   "cell_type": "markdown",
   "metadata": {
    "hidden": true
   },
   "source": [
    "We can see that we have extremely high frequency in the first bin, but no information about the rest. Let's drop select notnull values and plot the distribution."
   ]
  },
  {
   "cell_type": "code",
   "execution_count": 12,
   "metadata": {
    "hidden": true
   },
   "outputs": [
    {
     "data": {
      "text/plain": [
       "<matplotlib.axes._subplots.AxesSubplot at 0x7f24dd32b050>"
      ]
     },
     "execution_count": 12,
     "metadata": {},
     "output_type": "execute_result"
    },
    {
     "data": {
      "image/png": "[encoded data removed]",
      "text/plain": [
       "<Figure size 432x288 with 1 Axes>"
      ]
     },
     "metadata": {},
     "output_type": "display_data"
    }
   ],
   "source": [
    "data.loc[data.phevCity>0, 'phevCity'].hist()"
   ]
  },
  {
   "cell_type": "markdown",
   "metadata": {
    "hidden": true
   },
   "source": [
    "Voila! We see that 0s were spoiling the picture. Why do we need them actually? Hmm..."
   ]
  },
  {
   "cell_type": "markdown",
   "metadata": {
    "hidden": true
   },
   "source": [
    "## Drop based on missing rate"
   ]
  },
  {
   "cell_type": "code",
   "execution_count": 13,
   "metadata": {
    "colab": {},
    "colab_type": "code",
    "hidden": true,
    "id": "cMgWo6oXijh0",
    "outputId": "1cee1cd4-bd8f-49eb-c06b-8c94a554da46"
   },
   "outputs": [
    {
     "data": {
      "text/plain": [
       "Index(['cylinders', 'displ', 'drive', 'eng_dscr', 'trany', 'guzzler',\n",
       "       'trans_dscr', 'tCharger', 'sCharger', 'atvType', 'fuelType2', 'rangeA',\n",
       "       'evMotor', 'mfrCode', 'c240Dscr', 'c240bDscr', 'startStop'],\n",
       "      dtype='object')"
      ]
     },
     "execution_count": 13,
     "metadata": {},
     "output_type": "execute_result"
    }
   ],
   "source": [
    "# What columns have missing data?\n",
    "data.columns[data.isnull().sum()>0]"
   ]
  },
  {
   "cell_type": "code",
   "execution_count": 14,
   "metadata": {
    "colab": {},
    "colab_type": "code",
    "hidden": true,
    "id": "AIxVr7U_ijh4"
   },
   "outputs": [
    {
     "data": {
      "text/plain": [
       "barrels08         0\n",
       "barrelsA08        0\n",
       "charge120         0\n",
       "charge240         0\n",
       "city08            0\n",
       "              ...  \n",
       "modifiedOn        0\n",
       "startStop     31705\n",
       "phevCity          0\n",
       "phevHwy           0\n",
       "phevComb          0\n",
       "Length: 83, dtype: int64"
      ]
     },
     "execution_count": 14,
     "metadata": {},
     "output_type": "execute_result"
    }
   ],
   "source": [
    "#get the # of missing data in each column\n",
    "null_cols = data.isnull().sum()\n",
    "null_cols"
   ]
  },
  {
   "cell_type": "markdown",
   "metadata": {
    "hidden": true
   },
   "source": [
    "Too much columns. We can't get any insides yet."
   ]
  },
  {
   "cell_type": "code",
   "execution_count": 15,
   "metadata": {
    "hidden": true
   },
   "outputs": [
    {
     "data": {
      "text/plain": [
       "cylinders      0.33\n",
       "displ          0.32\n",
       "drive          3.14\n",
       "eng_dscr      40.70\n",
       "trany          0.03\n",
       "guzzler       93.97\n",
       "trans_dscr    60.24\n",
       "tCharger      86.30\n",
       "sCharger      98.24\n",
       "atvType       91.88\n",
       "fuelType2     96.28\n",
       "rangeA        96.29\n",
       "evMotor       98.51\n",
       "mfrCode       81.44\n",
       "c240Dscr      99.90\n",
       "c240bDscr     99.90\n",
       "startStop     83.78\n",
       "dtype: float64"
      ]
     },
     "execution_count": 15,
     "metadata": {},
     "output_type": "execute_result"
    }
   ],
   "source": [
    "# Select only those that have missing values and calculate the percentage of missing observations\n",
    "drop_perc=round(null_cols[null_cols > 0]/data.shape[0]*100,2)\n",
    "drop_perc\n"
   ]
  },
  {
   "cell_type": "markdown",
   "metadata": {
    "hidden": true
   },
   "source": [
    "Much better. We can see that we have columns with almost 100% of missing data. Could indicate something...\n",
    "\n",
    "**For the sake of exercise we are not diving into details of each column. Instead, just practice some techniques.**\n",
    "\n",
    "Let's drop columns with missing rate higher than 60%."
   ]
  },
  {
   "cell_type": "code",
   "execution_count": 16,
   "metadata": {
    "hidden": true
   },
   "outputs": [
    {
     "data": {
      "text/plain": [
       "Index(['guzzler', 'trans_dscr', 'tCharger', 'sCharger', 'atvType', 'fuelType2',\n",
       "       'rangeA', 'evMotor', 'mfrCode', 'c240Dscr', 'c240bDscr', 'startStop'],\n",
       "      dtype='object')"
      ]
     },
     "execution_count": 16,
     "metadata": {},
     "output_type": "execute_result"
    }
   ],
   "source": [
    "#filter those columns\n",
    "drop_cols=drop_perc[drop_perc>60].index\n",
    "drop_cols"
   ]
  },
  {
   "cell_type": "code",
   "execution_count": 17,
   "metadata": {
    "hidden": true
   },
   "outputs": [
    {
     "data": {
      "text/plain": [
       "(37843, 83)"
      ]
     },
     "execution_count": 17,
     "metadata": {},
     "output_type": "execute_result"
    }
   ],
   "source": [
    "# shape of df to track the # of columns\n",
    "data.shape"
   ]
  },
  {
   "cell_type": "code",
   "execution_count": 18,
   "metadata": {
    "colab": {},
    "colab_type": "code",
    "hidden": true,
    "id": "UhEn0oCAijiM",
    "outputId": "bd39e227-33f1-4f47-fe71-b54981b55cd5"
   },
   "outputs": [
    {
     "data": {
      "text/plain": [
       "(37843, 71)"
      ]
     },
     "execution_count": 18,
     "metadata": {},
     "output_type": "execute_result"
    }
   ],
   "source": [
    "data = data.drop(drop_cols, axis=1)\n",
    "data.shape"
   ]
  },
  {
   "cell_type": "markdown",
   "metadata": {
    "colab": {},
    "colab_type": "code",
    "hidden": true,
    "id": "_xqivEbeijiV"
   },
   "source": [
    "Voila. We've dropped a bunch of them."
   ]
  },
  {
   "cell_type": "markdown",
   "metadata": {
    "hidden": true
   },
   "source": [
    "## Interpolate"
   ]
  },
  {
   "cell_type": "markdown",
   "metadata": {
    "hidden": true
   },
   "source": [
    "Second approach is to interpolate your missing values. \n",
    "\n",
    "What is interpolation?  \n",
    "According to [wiki](https://en.wikipedia.org/wiki/Interpolation), interpolation is a method of constructing new data points within the range of a discrete set of known data points. TL;DR\n",
    "\n",
    "What it actually means?  \n",
    "Imagine, we have an array of numbers:\n",
    "```python\n",
    "[0,1,2,3,4,'?',6,7]\n",
    "```\n",
    "Which number is marked by question mark? Obviously it is 5.\n",
    "\n",
    "Another example:\n",
    "```python\n",
    "[0,1,4,9,16,'?',36,49]\n",
    "```\n",
    "Here the answer is 25.\n",
    "\n",
    "Another example:\n",
    "```python\n",
    "[1,2,3,7,8,'?',13,14,15,19,20,21]\n",
    "```\n",
    "Became quite tricky, right? The easiest way to solve it is to consider a matrix:\n",
    "```python\n",
    "[[ 1, 2, 3],\n",
    " [ 7,8,'?'],\n",
    " [13,14,15],\n",
    " [19,20,21]]\n",
    "```\n",
    "And now you see that the answer is 9. \n",
    "\n",
    "The method you used to guess the number is called interpolation. We use observations to the left and to the right from the missing one to guess the missing data point. You need to define a function you are going to use and the number of neighbours you take into consideration.\n",
    "\n",
    "So, in the first case you used `linear` function. Which is basically an average. It was an easy one, where the number of neighbours doesn't matter much.   \n",
    "Second case is related to `quadratic` function. Here you need at least 2 neighbours on each side to detect the value correctly.   \n",
    "In the third case since datapoint is located on the border line, it is impossible to interpolate it without a matrix representation. \n",
    "\n",
    "What about our dataset?"
   ]
  },
  {
   "cell_type": "code",
   "execution_count": 19,
   "metadata": {
    "colab": {},
    "colab_type": "code",
    "hidden": true,
    "id": "w6qYzCXqijiq",
    "outputId": "4b5fdf23-2787-4bb0-d3a9-3cfa01f85677"
   },
   "outputs": [],
   "source": [
    "#interpolation works only with numeric columns. So, select numeric columns first\n",
    "data_numeric=data._get_numeric_data().copy()\n",
    "\n",
    "#select numeric columns with missing data\n",
    "cols_interp=data_numeric.columns[data_numeric.isnull().sum()>0]\n",
    "cols_interp\n",
    "\n",
    "#interpolate them\n",
    "data_numeric[cols_interp]=data_numeric[cols_interp].interpolate(method='linear')"
   ]
  },
  {
   "cell_type": "markdown",
   "metadata": {
    "hidden": true
   },
   "source": [
    "Test if we still have missing values in numeric dataset"
   ]
  },
  {
   "cell_type": "code",
   "execution_count": 20,
   "metadata": {
    "hidden": true
   },
   "outputs": [
    {
     "data": {
      "text/plain": [
       "0"
      ]
     },
     "execution_count": 20,
     "metadata": {},
     "output_type": "execute_result"
    }
   ],
   "source": [
    "data_numeric.isna().sum().sum()"
   ]
  },
  {
   "cell_type": "markdown",
   "metadata": {
    "hidden": true
   },
   "source": [
    "Now replace columns into original df"
   ]
  },
  {
   "cell_type": "code",
   "execution_count": 21,
   "metadata": {
    "hidden": true
   },
   "outputs": [],
   "source": [
    "data[cols_interp]=data_numeric[cols_interp].interpolate(method='linear')"
   ]
  },
  {
   "cell_type": "markdown",
   "metadata": {
    "hidden": true
   },
   "source": [
    "What are the remaining columns?"
   ]
  },
  {
   "cell_type": "code",
   "execution_count": 22,
   "metadata": {
    "hidden": true
   },
   "outputs": [
    {
     "data": {
      "text/plain": [
       "Index(['drive', 'eng_dscr', 'trany'], dtype='object')"
      ]
     },
     "execution_count": 22,
     "metadata": {},
     "output_type": "execute_result"
    }
   ],
   "source": [
    "data.columns[data.isna().sum()>0]"
   ]
  },
  {
   "cell_type": "code",
   "execution_count": 23,
   "metadata": {
    "hidden": true
   },
   "outputs": [
    {
     "data": {
      "text/plain": [
       "Front-Wheel Drive             13286\n",
       "Rear-Wheel Drive              12931\n",
       "4-Wheel or All-Wheel Drive     6648\n",
       "All-Wheel Drive                2057\n",
       "4-Wheel Drive                  1065\n",
       "2-Wheel Drive                   507\n",
       "Part-time 4-Wheel Drive         159\n",
       "2-Wheel Drive, Front              1\n",
       "Name: drive, dtype: int64"
      ]
     },
     "execution_count": 23,
     "metadata": {},
     "output_type": "execute_result"
    }
   ],
   "source": [
    "data.drive.value_counts()"
   ]
  },
  {
   "cell_type": "markdown",
   "metadata": {
    "hidden": true
   },
   "source": [
    "As we can see, remaining columns contain categorical data. Let's fill them."
   ]
  },
  {
   "cell_type": "markdown",
   "metadata": {
    "hidden": true
   },
   "source": [
    "## Fulfill missing data"
   ]
  },
  {
   "cell_type": "markdown",
   "metadata": {
    "hidden": true
   },
   "source": [
    "Depending on data, we can fulfill them with different values. It can be just `0`, mean, mode, median value or simply a new category `missing`.\n",
    "\n",
    "For the sake of simplicity, we will fulfill them with `missing`.\n",
    "\n"
   ]
  },
  {
   "cell_type": "code",
   "execution_count": 24,
   "metadata": {
    "colab": {},
    "colab_type": "code",
    "hidden": true,
    "id": "2HKdCk8Uijix",
    "outputId": "ba180455-b323-4b9e-91fc-bb4bd1b148d8"
   },
   "outputs": [
    {
     "name": "stdout",
     "output_type": "stream",
     "text": [
      "Index([], dtype='object')\n"
     ]
    }
   ],
   "source": [
    "#select columns\n",
    "fill_cols=data.columns[data.isna().sum()>0]\n",
    "\n",
    "data[fill_cols]=data[fill_cols].fillna('missing')\n",
    "print(data.columns[data.isnull().sum()>0])"
   ]
  },
  {
   "cell_type": "markdown",
   "metadata": {
    "hidden": true
   },
   "source": [
    "As we can see, no more missing data. Profit!"
   ]
  },
  {
   "cell_type": "markdown",
   "metadata": {
    "colab_type": "text",
    "heading_collapsed": true,
    "id": "26kxItYDiji3"
   },
   "source": [
    "# Incorrect values"
   ]
  },
  {
   "cell_type": "markdown",
   "metadata": {
    "hidden": true
   },
   "source": [
    "Besides missing data we also have logically incorrect data. Does pregnant male observation seem to be correct? Or 10 y.o. PhD student? Or Budapest being a capital of USA? \n",
    "\n",
    "This issue is the most expensive. You need to have a domain knowledge in order to detect such issues. So, without agricultural background, you won't be able to identify the problem in the following statement:\n",
    "> I have a field of 20ha where I grow potatoes. On average, I can get 2000 tonnes per year. And yeah, I live in Bocholt, Netherlands.\n",
    "\n",
    "According to [Statista](https://www.statista.com/statistics/753103/average-potato-production-per-hectare-in-the-netherlands/), during 2012-2019yy average potato production in Netherlands per hectare wasn't above 50 tonnes. Therefore, 2000 tonnes seem to be 'quite' more than $50*20=1000$ tonnes.\n",
    "\n",
    "<img src='https://elitedatascience.com/wp-content/uploads/2017/06/Oliver-the-Owl.png'>\n",
    "\n",
    "\n",
    "How do we detect them?\n",
    "1. Define possible errors.\n",
    "2. Write rules to detect those errors.\n",
    "3. For rule in rules:\n",
    "    - Search for mistakes.\n",
    "    - If a mistake defined can be fixed:\n",
    "        - Define rules to fix mistakes.\n",
    "        - Correct mistakes.\n",
    "    - Else:\n",
    "        - First check other mistakes. May be it is just an outlier.\n",
    "        - If everything is fine, except for this value - try to access to actual data if possible (get the questionnaire for survey, cal the respondent, etc.)\n",
    "        - If actual data is unknown, drop the row.\n",
    "        \n",
    "What about our dataset? Previous random manipulatons could mess up the data. So let's reupload the dataset and fill missing data with 0."
   ]
  },
  {
   "cell_type": "code",
   "execution_count": 25,
   "metadata": {
    "hidden": true
   },
   "outputs": [
    {
     "name": "stderr",
     "output_type": "stream",
     "text": [
      "/home/mauritian/yes/lib/python3.7/site-packages/IPython/core/interactiveshell.py:3063: DtypeWarning: Columns (70,71,72,73,74,76,79) have mixed types.Specify dtype option on import or set low_memory=False.\n",
      "  interactivity=interactivity, compiler=compiler, result=result)\n"
     ]
    }
   ],
   "source": [
    "data=pd.read_csv('vehicles_messy.csv')\n",
    "data=data.fillna(0)"
   ]
  },
  {
   "cell_type": "markdown",
   "metadata": {
    "hidden": true
   },
   "source": [
    "According to our knowledge, there is no car without cylinders. Let's check that."
   ]
  },
  {
   "cell_type": "code",
   "execution_count": 26,
   "metadata": {
    "hidden": true
   },
   "outputs": [
    {
     "data": {
      "text/plain": [
       "(123, 83)"
      ]
     },
     "execution_count": 26,
     "metadata": {},
     "output_type": "execute_result"
    }
   ],
   "source": [
    "data[data.cylinders==0].shape"
   ]
  },
  {
   "cell_type": "markdown",
   "metadata": {
    "hidden": true
   },
   "source": [
    "We can see that there are 123 cars without cylinders. Is there a way to fix it? Let's check how many cars are noted to be without cylinders, but having engine displacement being indicated. "
   ]
  },
  {
   "cell_type": "code",
   "execution_count": 27,
   "metadata": {
    "hidden": true
   },
   "outputs": [
    {
     "data": {
      "text/html": [
       "<div>\n",
       "<style scoped>\n",
       "    .dataframe tbody tr th:only-of-type {\n",
       "        vertical-align: middle;\n",
       "    }\n",
       "\n",
       "    .dataframe tbody tr th {\n",
       "        vertical-align: top;\n",
       "    }\n",
       "\n",
       "    .dataframe thead th {\n",
       "        text-align: right;\n",
       "    }\n",
       "</style>\n",
       "<table border=\"1\" class=\"dataframe\">\n",
       "  <thead>\n",
       "    <tr style=\"text-align: right;\">\n",
       "      <th></th>\n",
       "      <th>year</th>\n",
       "      <th>make</th>\n",
       "      <th>model</th>\n",
       "      <th>trany</th>\n",
       "      <th>drive</th>\n",
       "      <th>fuelType</th>\n",
       "      <th>cylinders</th>\n",
       "      <th>displ</th>\n",
       "    </tr>\n",
       "  </thead>\n",
       "  <tbody>\n",
       "    <tr>\n",
       "      <th>21506</th>\n",
       "      <td>1986</td>\n",
       "      <td>Mazda</td>\n",
       "      <td>RX-7</td>\n",
       "      <td>Manual 5-spd</td>\n",
       "      <td>Rear-Wheel Drive</td>\n",
       "      <td>Regular</td>\n",
       "      <td>0.0</td>\n",
       "      <td>1.3</td>\n",
       "    </tr>\n",
       "  </tbody>\n",
       "</table>\n",
       "</div>"
      ],
      "text/plain": [
       "       year   make model         trany             drive fuelType  cylinders  \\\n",
       "21506  1986  Mazda  RX-7  Manual 5-spd  Rear-Wheel Drive  Regular        0.0   \n",
       "\n",
       "       displ  \n",
       "21506    1.3  "
      ]
     },
     "execution_count": 27,
     "metadata": {},
     "output_type": "execute_result"
    }
   ],
   "source": [
    "test = data[(data['cylinders']==0) & (data['displ']!=0)]\n",
    "test[['year', 'make', 'model', 'trany', 'drive','fuelType','cylinders', 'displ']]"
   ]
  },
  {
   "cell_type": "markdown",
   "metadata": {
    "colab": {},
    "colab_type": "code",
    "hidden": true,
    "id": "9W2sZzLpiji4",
    "outputId": "26454f1e-9705-4539-dadb-1829a845adc5"
   },
   "source": [
    "That's not expensive at all. 1 Google search gives us a correct answer.  \n",
    "After the very first google request we can find [this website](https://www.car.info/en-se/mazda/rx-7-98317/specs). Number of cylinders for this car varies from 2 to 4. After more desk research we would find the actual number. For the sake of simplicity let's go for 4."
   ]
  },
  {
   "cell_type": "code",
   "execution_count": 28,
   "metadata": {
    "colab": {},
    "colab_type": "code",
    "hidden": true,
    "id": "Rin1W7Aiiji-"
   },
   "outputs": [],
   "source": [
    " data.loc[(data['cylinders']==0) & (data['displ']!=0), 'cylinders'] = 4"
   ]
  },
  {
   "cell_type": "markdown",
   "metadata": {
    "hidden": true
   },
   "source": [
    "Double check:"
   ]
  },
  {
   "cell_type": "code",
   "execution_count": 29,
   "metadata": {
    "hidden": true
   },
   "outputs": [
    {
     "data": {
      "text/html": [
       "<div>\n",
       "<style scoped>\n",
       "    .dataframe tbody tr th:only-of-type {\n",
       "        vertical-align: middle;\n",
       "    }\n",
       "\n",
       "    .dataframe tbody tr th {\n",
       "        vertical-align: top;\n",
       "    }\n",
       "\n",
       "    .dataframe thead th {\n",
       "        text-align: right;\n",
       "    }\n",
       "</style>\n",
       "<table border=\"1\" class=\"dataframe\">\n",
       "  <thead>\n",
       "    <tr style=\"text-align: right;\">\n",
       "      <th></th>\n",
       "      <th>year</th>\n",
       "      <th>make</th>\n",
       "      <th>model</th>\n",
       "      <th>trany</th>\n",
       "      <th>drive</th>\n",
       "      <th>fuelType</th>\n",
       "      <th>cylinders</th>\n",
       "      <th>displ</th>\n",
       "    </tr>\n",
       "  </thead>\n",
       "  <tbody>\n",
       "  </tbody>\n",
       "</table>\n",
       "</div>"
      ],
      "text/plain": [
       "Empty DataFrame\n",
       "Columns: [year, make, model, trany, drive, fuelType, cylinders, displ]\n",
       "Index: []"
      ]
     },
     "execution_count": 29,
     "metadata": {},
     "output_type": "execute_result"
    }
   ],
   "source": [
    "test = data[(data['cylinders']==0) & (data['displ']!=0)]\n",
    "test[['year', 'make', 'model', 'trany', 'drive','fuelType','cylinders', 'displ']]"
   ]
  },
  {
   "cell_type": "markdown",
   "metadata": {
    "colab_type": "text",
    "heading_collapsed": true,
    "id": "X34MTwsBijjG"
   },
   "source": [
    "# Extreme Values and Outliers"
   ]
  },
  {
   "cell_type": "markdown",
   "metadata": {
    "hidden": true
   },
   "source": [
    "Extreme values can bring huge bias. \n",
    "\n",
    "Imagine, the following. Your team of 4 people got 100€ as payment for data cleaning. You could split it equally (25€ per person) or in the following way: You as team leader got 97€, giving 1€ each to your team members. Feels nice, yake! \n",
    "\n",
    "Now let's calculate the averages:\n",
    "```python\n",
    "np.mean([25,25,25,25])\n",
    "\n",
    ">>> 25\n",
    "\n",
    "np.mean([96,1,1,1])\n",
    "\n",
    ">>>24.75\n",
    "\n",
    "```\n",
    "Difference is not that big. But if we calculate salary of your team members (excluding you) we will obtain `25` and `1` accordingly. Difference is huge. \n",
    "\n",
    "In the second case your payment is an outlier that boosted the average almost 25 times! You can't get any useful insights from data that contains outliers. And yeah, no model will work. \n",
    "\n",
    "<img src='https://elitedatascience.com/wp-content/uploads/2017/06/Innocent-Until-Proven-Guilty.png'>\n",
    "\n",
    "There are different ways to detect the outlier:\n",
    "* IQR based\n",
    "* Boxplots\n",
    "* Z-score based\n",
    "* Machine Learning based\n",
    "\n",
    "Here we will discuss the first two. Machine Learning based outlier detection algorithms will be introduced later.\n"
   ]
  },
  {
   "cell_type": "markdown",
   "metadata": {
    "heading_collapsed": true,
    "hidden": true
   },
   "source": [
    "## Detect them"
   ]
  },
  {
   "cell_type": "markdown",
   "metadata": {
    "heading_collapsed": true,
    "hidden": true
   },
   "source": [
    "### IQR"
   ]
  },
  {
   "cell_type": "markdown",
   "metadata": {
    "hidden": true
   },
   "source": [
    "InterQuartile Range (IQR) is well-known outlier detection technique. It is based on data distribution.\n",
    "\n",
    "1. First we calculate 25th and 75th percentiles. Remember, it contains 50% of your data. That's your IQR\n",
    "2. We presume that data outside of this interval should be correct to some extend. But which extend? Most of the times 160% of your data. Calculate 1.6 of IQR. \n",
    "3. Calculate your whiskers. Left whisker is $25\\%- 1.6IQR$. Right wisker is $75\\% + 1.6IQR$\n",
    "4. Every datapoint outside your whiskers interval is considered as an outlier.\n",
    "\n",
    "<img src='https://cat-world.com/wp-content/uploads/2017/06/cat-whiskers.jpg' width=400, title='cat whiskers'>\n",
    "\n",
    "Note: in theory our whiskers represent actual datapoint. So if your left whisker is `-11` and the lowest datapoint is `4` you consider `4` to be you left whisker.\n",
    "\n",
    "Let's detect them. Global approach!"
   ]
  },
  {
   "cell_type": "code",
   "execution_count": 30,
   "metadata": {
    "hidden": true
   },
   "outputs": [
    {
     "data": {
      "text/html": [
       "<div>\n",
       "<style scoped>\n",
       "    .dataframe tbody tr th:only-of-type {\n",
       "        vertical-align: middle;\n",
       "    }\n",
       "\n",
       "    .dataframe tbody tr th {\n",
       "        vertical-align: top;\n",
       "    }\n",
       "\n",
       "    .dataframe thead th {\n",
       "        text-align: right;\n",
       "    }\n",
       "</style>\n",
       "<table border=\"1\" class=\"dataframe\">\n",
       "  <thead>\n",
       "    <tr style=\"text-align: right;\">\n",
       "      <th></th>\n",
       "      <th>count</th>\n",
       "      <th>mean</th>\n",
       "      <th>std</th>\n",
       "      <th>min</th>\n",
       "      <th>25%</th>\n",
       "      <th>50%</th>\n",
       "      <th>75%</th>\n",
       "      <th>max</th>\n",
       "    </tr>\n",
       "  </thead>\n",
       "  <tbody>\n",
       "    <tr>\n",
       "      <th>barrels08</th>\n",
       "      <td>37843.0</td>\n",
       "      <td>17.532506</td>\n",
       "      <td>4.575950</td>\n",
       "      <td>0.06</td>\n",
       "      <td>14.33087</td>\n",
       "      <td>17.347895</td>\n",
       "      <td>20.600625</td>\n",
       "      <td>47.087143</td>\n",
       "    </tr>\n",
       "    <tr>\n",
       "      <th>barrelsA08</th>\n",
       "      <td>37843.0</td>\n",
       "      <td>0.216169</td>\n",
       "      <td>1.141527</td>\n",
       "      <td>0.00</td>\n",
       "      <td>0.00000</td>\n",
       "      <td>0.000000</td>\n",
       "      <td>0.000000</td>\n",
       "      <td>18.311667</td>\n",
       "    </tr>\n",
       "    <tr>\n",
       "      <th>charge120</th>\n",
       "      <td>37843.0</td>\n",
       "      <td>0.000000</td>\n",
       "      <td>0.000000</td>\n",
       "      <td>0.00</td>\n",
       "      <td>0.00000</td>\n",
       "      <td>0.000000</td>\n",
       "      <td>0.000000</td>\n",
       "      <td>0.000000</td>\n",
       "    </tr>\n",
       "    <tr>\n",
       "      <th>charge240</th>\n",
       "      <td>37843.0</td>\n",
       "      <td>0.023531</td>\n",
       "      <td>0.427647</td>\n",
       "      <td>0.00</td>\n",
       "      <td>0.00000</td>\n",
       "      <td>0.000000</td>\n",
       "      <td>0.000000</td>\n",
       "      <td>12.000000</td>\n",
       "    </tr>\n",
       "    <tr>\n",
       "      <th>city08</th>\n",
       "      <td>37843.0</td>\n",
       "      <td>17.941389</td>\n",
       "      <td>6.660360</td>\n",
       "      <td>6.00</td>\n",
       "      <td>15.00000</td>\n",
       "      <td>17.000000</td>\n",
       "      <td>20.000000</td>\n",
       "      <td>138.000000</td>\n",
       "    </tr>\n",
       "  </tbody>\n",
       "</table>\n",
       "</div>"
      ],
      "text/plain": [
       "              count       mean       std   min       25%        50%  \\\n",
       "barrels08   37843.0  17.532506  4.575950  0.06  14.33087  17.347895   \n",
       "barrelsA08  37843.0   0.216169  1.141527  0.00   0.00000   0.000000   \n",
       "charge120   37843.0   0.000000  0.000000  0.00   0.00000   0.000000   \n",
       "charge240   37843.0   0.023531  0.427647  0.00   0.00000   0.000000   \n",
       "city08      37843.0  17.941389  6.660360  6.00  15.00000  17.000000   \n",
       "\n",
       "                  75%         max  \n",
       "barrels08   20.600625   47.087143  \n",
       "barrelsA08   0.000000   18.311667  \n",
       "charge120    0.000000    0.000000  \n",
       "charge240    0.000000   12.000000  \n",
       "city08      20.000000  138.000000  "
      ]
     },
     "execution_count": 30,
     "metadata": {},
     "output_type": "execute_result"
    }
   ],
   "source": [
    "# get statistical overview of our table\n",
    "summary=data.describe().T\n",
    "summary.head()"
   ]
  },
  {
   "cell_type": "markdown",
   "metadata": {
    "hidden": true
   },
   "source": [
    "As we can see, here we have our 25% and 75%. IQR is simply a difference."
   ]
  },
  {
   "cell_type": "code",
   "execution_count": 31,
   "metadata": {
    "hidden": true
   },
   "outputs": [
    {
     "data": {
      "text/html": [
       "<div>\n",
       "<style scoped>\n",
       "    .dataframe tbody tr th:only-of-type {\n",
       "        vertical-align: middle;\n",
       "    }\n",
       "\n",
       "    .dataframe tbody tr th {\n",
       "        vertical-align: top;\n",
       "    }\n",
       "\n",
       "    .dataframe thead th {\n",
       "        text-align: right;\n",
       "    }\n",
       "</style>\n",
       "<table border=\"1\" class=\"dataframe\">\n",
       "  <thead>\n",
       "    <tr style=\"text-align: right;\">\n",
       "      <th></th>\n",
       "      <th>count</th>\n",
       "      <th>mean</th>\n",
       "      <th>std</th>\n",
       "      <th>min</th>\n",
       "      <th>25%</th>\n",
       "      <th>50%</th>\n",
       "      <th>75%</th>\n",
       "      <th>max</th>\n",
       "      <th>IQR</th>\n",
       "    </tr>\n",
       "  </thead>\n",
       "  <tbody>\n",
       "    <tr>\n",
       "      <th>barrels08</th>\n",
       "      <td>37843.0</td>\n",
       "      <td>17.532506</td>\n",
       "      <td>4.575950</td>\n",
       "      <td>0.06</td>\n",
       "      <td>14.33087</td>\n",
       "      <td>17.347895</td>\n",
       "      <td>20.600625</td>\n",
       "      <td>47.087143</td>\n",
       "      <td>6.269755</td>\n",
       "    </tr>\n",
       "    <tr>\n",
       "      <th>barrelsA08</th>\n",
       "      <td>37843.0</td>\n",
       "      <td>0.216169</td>\n",
       "      <td>1.141527</td>\n",
       "      <td>0.00</td>\n",
       "      <td>0.00000</td>\n",
       "      <td>0.000000</td>\n",
       "      <td>0.000000</td>\n",
       "      <td>18.311667</td>\n",
       "      <td>0.000000</td>\n",
       "    </tr>\n",
       "    <tr>\n",
       "      <th>charge120</th>\n",
       "      <td>37843.0</td>\n",
       "      <td>0.000000</td>\n",
       "      <td>0.000000</td>\n",
       "      <td>0.00</td>\n",
       "      <td>0.00000</td>\n",
       "      <td>0.000000</td>\n",
       "      <td>0.000000</td>\n",
       "      <td>0.000000</td>\n",
       "      <td>0.000000</td>\n",
       "    </tr>\n",
       "    <tr>\n",
       "      <th>charge240</th>\n",
       "      <td>37843.0</td>\n",
       "      <td>0.023531</td>\n",
       "      <td>0.427647</td>\n",
       "      <td>0.00</td>\n",
       "      <td>0.00000</td>\n",
       "      <td>0.000000</td>\n",
       "      <td>0.000000</td>\n",
       "      <td>12.000000</td>\n",
       "      <td>0.000000</td>\n",
       "    </tr>\n",
       "    <tr>\n",
       "      <th>city08</th>\n",
       "      <td>37843.0</td>\n",
       "      <td>17.941389</td>\n",
       "      <td>6.660360</td>\n",
       "      <td>6.00</td>\n",
       "      <td>15.00000</td>\n",
       "      <td>17.000000</td>\n",
       "      <td>20.000000</td>\n",
       "      <td>138.000000</td>\n",
       "      <td>5.000000</td>\n",
       "    </tr>\n",
       "  </tbody>\n",
       "</table>\n",
       "</div>"
      ],
      "text/plain": [
       "              count       mean       std   min       25%        50%  \\\n",
       "barrels08   37843.0  17.532506  4.575950  0.06  14.33087  17.347895   \n",
       "barrelsA08  37843.0   0.216169  1.141527  0.00   0.00000   0.000000   \n",
       "charge120   37843.0   0.000000  0.000000  0.00   0.00000   0.000000   \n",
       "charge240   37843.0   0.023531  0.427647  0.00   0.00000   0.000000   \n",
       "city08      37843.0  17.941389  6.660360  6.00  15.00000  17.000000   \n",
       "\n",
       "                  75%         max       IQR  \n",
       "barrels08   20.600625   47.087143  6.269755  \n",
       "barrelsA08   0.000000   18.311667  0.000000  \n",
       "charge120    0.000000    0.000000  0.000000  \n",
       "charge240    0.000000   12.000000  0.000000  \n",
       "city08      20.000000  138.000000  5.000000  "
      ]
     },
     "execution_count": 31,
     "metadata": {},
     "output_type": "execute_result"
    }
   ],
   "source": [
    "summary['IQR']=summary['75%']-summary['25%']\n",
    "summary.head()"
   ]
  },
  {
   "cell_type": "markdown",
   "metadata": {
    "hidden": true
   },
   "source": [
    "Now it is a time for cuttoffs"
   ]
  },
  {
   "cell_type": "code",
   "execution_count": 32,
   "metadata": {
    "hidden": true
   },
   "outputs": [
    {
     "data": {
      "text/html": [
       "<div>\n",
       "<style scoped>\n",
       "    .dataframe tbody tr th:only-of-type {\n",
       "        vertical-align: middle;\n",
       "    }\n",
       "\n",
       "    .dataframe tbody tr th {\n",
       "        vertical-align: top;\n",
       "    }\n",
       "\n",
       "    .dataframe thead th {\n",
       "        text-align: right;\n",
       "    }\n",
       "</style>\n",
       "<table border=\"1\" class=\"dataframe\">\n",
       "  <thead>\n",
       "    <tr style=\"text-align: right;\">\n",
       "      <th></th>\n",
       "      <th>count</th>\n",
       "      <th>mean</th>\n",
       "      <th>std</th>\n",
       "      <th>min</th>\n",
       "      <th>25%</th>\n",
       "      <th>50%</th>\n",
       "      <th>75%</th>\n",
       "      <th>max</th>\n",
       "      <th>IQR</th>\n",
       "      <th>cutoff</th>\n",
       "    </tr>\n",
       "  </thead>\n",
       "  <tbody>\n",
       "    <tr>\n",
       "      <th>barrels08</th>\n",
       "      <td>37843.0</td>\n",
       "      <td>17.532506</td>\n",
       "      <td>4.575950</td>\n",
       "      <td>0.06</td>\n",
       "      <td>14.33087</td>\n",
       "      <td>17.347895</td>\n",
       "      <td>20.600625</td>\n",
       "      <td>47.087143</td>\n",
       "      <td>6.269755</td>\n",
       "      <td>10.031609</td>\n",
       "    </tr>\n",
       "    <tr>\n",
       "      <th>barrelsA08</th>\n",
       "      <td>37843.0</td>\n",
       "      <td>0.216169</td>\n",
       "      <td>1.141527</td>\n",
       "      <td>0.00</td>\n",
       "      <td>0.00000</td>\n",
       "      <td>0.000000</td>\n",
       "      <td>0.000000</td>\n",
       "      <td>18.311667</td>\n",
       "      <td>0.000000</td>\n",
       "      <td>0.000000</td>\n",
       "    </tr>\n",
       "    <tr>\n",
       "      <th>charge120</th>\n",
       "      <td>37843.0</td>\n",
       "      <td>0.000000</td>\n",
       "      <td>0.000000</td>\n",
       "      <td>0.00</td>\n",
       "      <td>0.00000</td>\n",
       "      <td>0.000000</td>\n",
       "      <td>0.000000</td>\n",
       "      <td>0.000000</td>\n",
       "      <td>0.000000</td>\n",
       "      <td>0.000000</td>\n",
       "    </tr>\n",
       "    <tr>\n",
       "      <th>charge240</th>\n",
       "      <td>37843.0</td>\n",
       "      <td>0.023531</td>\n",
       "      <td>0.427647</td>\n",
       "      <td>0.00</td>\n",
       "      <td>0.00000</td>\n",
       "      <td>0.000000</td>\n",
       "      <td>0.000000</td>\n",
       "      <td>12.000000</td>\n",
       "      <td>0.000000</td>\n",
       "      <td>0.000000</td>\n",
       "    </tr>\n",
       "    <tr>\n",
       "      <th>city08</th>\n",
       "      <td>37843.0</td>\n",
       "      <td>17.941389</td>\n",
       "      <td>6.660360</td>\n",
       "      <td>6.00</td>\n",
       "      <td>15.00000</td>\n",
       "      <td>17.000000</td>\n",
       "      <td>20.000000</td>\n",
       "      <td>138.000000</td>\n",
       "      <td>5.000000</td>\n",
       "      <td>8.000000</td>\n",
       "    </tr>\n",
       "  </tbody>\n",
       "</table>\n",
       "</div>"
      ],
      "text/plain": [
       "              count       mean       std   min       25%        50%  \\\n",
       "barrels08   37843.0  17.532506  4.575950  0.06  14.33087  17.347895   \n",
       "barrelsA08  37843.0   0.216169  1.141527  0.00   0.00000   0.000000   \n",
       "charge120   37843.0   0.000000  0.000000  0.00   0.00000   0.000000   \n",
       "charge240   37843.0   0.023531  0.427647  0.00   0.00000   0.000000   \n",
       "city08      37843.0  17.941389  6.660360  6.00  15.00000  17.000000   \n",
       "\n",
       "                  75%         max       IQR     cutoff  \n",
       "barrels08   20.600625   47.087143  6.269755  10.031609  \n",
       "barrelsA08   0.000000   18.311667  0.000000   0.000000  \n",
       "charge120    0.000000    0.000000  0.000000   0.000000  \n",
       "charge240    0.000000   12.000000  0.000000   0.000000  \n",
       "city08      20.000000  138.000000  5.000000   8.000000  "
      ]
     },
     "execution_count": 32,
     "metadata": {},
     "output_type": "execute_result"
    }
   ],
   "source": [
    "summary['cutoff']=summary.IQR*1.6\n",
    "summary.head()"
   ]
  },
  {
   "cell_type": "markdown",
   "metadata": {
    "hidden": true
   },
   "source": [
    "Whiskers!"
   ]
  },
  {
   "cell_type": "code",
   "execution_count": 33,
   "metadata": {
    "hidden": true
   },
   "outputs": [
    {
     "data": {
      "text/html": [
       "<div>\n",
       "<style scoped>\n",
       "    .dataframe tbody tr th:only-of-type {\n",
       "        vertical-align: middle;\n",
       "    }\n",
       "\n",
       "    .dataframe tbody tr th {\n",
       "        vertical-align: top;\n",
       "    }\n",
       "\n",
       "    .dataframe thead th {\n",
       "        text-align: right;\n",
       "    }\n",
       "</style>\n",
       "<table border=\"1\" class=\"dataframe\">\n",
       "  <thead>\n",
       "    <tr style=\"text-align: right;\">\n",
       "      <th></th>\n",
       "      <th>count</th>\n",
       "      <th>mean</th>\n",
       "      <th>std</th>\n",
       "      <th>min</th>\n",
       "      <th>25%</th>\n",
       "      <th>50%</th>\n",
       "      <th>75%</th>\n",
       "      <th>max</th>\n",
       "      <th>IQR</th>\n",
       "      <th>cutoff</th>\n",
       "      <th>lw</th>\n",
       "      <th>rw</th>\n",
       "    </tr>\n",
       "  </thead>\n",
       "  <tbody>\n",
       "    <tr>\n",
       "      <th>barrels08</th>\n",
       "      <td>37843.0</td>\n",
       "      <td>17.532506</td>\n",
       "      <td>4.575950</td>\n",
       "      <td>0.06</td>\n",
       "      <td>14.33087</td>\n",
       "      <td>17.347895</td>\n",
       "      <td>20.600625</td>\n",
       "      <td>47.087143</td>\n",
       "      <td>6.269755</td>\n",
       "      <td>10.031609</td>\n",
       "      <td>4.299261</td>\n",
       "      <td>30.632234</td>\n",
       "    </tr>\n",
       "    <tr>\n",
       "      <th>barrelsA08</th>\n",
       "      <td>37843.0</td>\n",
       "      <td>0.216169</td>\n",
       "      <td>1.141527</td>\n",
       "      <td>0.00</td>\n",
       "      <td>0.00000</td>\n",
       "      <td>0.000000</td>\n",
       "      <td>0.000000</td>\n",
       "      <td>18.311667</td>\n",
       "      <td>0.000000</td>\n",
       "      <td>0.000000</td>\n",
       "      <td>0.000000</td>\n",
       "      <td>0.000000</td>\n",
       "    </tr>\n",
       "    <tr>\n",
       "      <th>charge120</th>\n",
       "      <td>37843.0</td>\n",
       "      <td>0.000000</td>\n",
       "      <td>0.000000</td>\n",
       "      <td>0.00</td>\n",
       "      <td>0.00000</td>\n",
       "      <td>0.000000</td>\n",
       "      <td>0.000000</td>\n",
       "      <td>0.000000</td>\n",
       "      <td>0.000000</td>\n",
       "      <td>0.000000</td>\n",
       "      <td>0.000000</td>\n",
       "      <td>0.000000</td>\n",
       "    </tr>\n",
       "    <tr>\n",
       "      <th>charge240</th>\n",
       "      <td>37843.0</td>\n",
       "      <td>0.023531</td>\n",
       "      <td>0.427647</td>\n",
       "      <td>0.00</td>\n",
       "      <td>0.00000</td>\n",
       "      <td>0.000000</td>\n",
       "      <td>0.000000</td>\n",
       "      <td>12.000000</td>\n",
       "      <td>0.000000</td>\n",
       "      <td>0.000000</td>\n",
       "      <td>0.000000</td>\n",
       "      <td>0.000000</td>\n",
       "    </tr>\n",
       "    <tr>\n",
       "      <th>city08</th>\n",
       "      <td>37843.0</td>\n",
       "      <td>17.941389</td>\n",
       "      <td>6.660360</td>\n",
       "      <td>6.00</td>\n",
       "      <td>15.00000</td>\n",
       "      <td>17.000000</td>\n",
       "      <td>20.000000</td>\n",
       "      <td>138.000000</td>\n",
       "      <td>5.000000</td>\n",
       "      <td>8.000000</td>\n",
       "      <td>7.000000</td>\n",
       "      <td>28.000000</td>\n",
       "    </tr>\n",
       "  </tbody>\n",
       "</table>\n",
       "</div>"
      ],
      "text/plain": [
       "              count       mean       std   min       25%        50%  \\\n",
       "barrels08   37843.0  17.532506  4.575950  0.06  14.33087  17.347895   \n",
       "barrelsA08  37843.0   0.216169  1.141527  0.00   0.00000   0.000000   \n",
       "charge120   37843.0   0.000000  0.000000  0.00   0.00000   0.000000   \n",
       "charge240   37843.0   0.023531  0.427647  0.00   0.00000   0.000000   \n",
       "city08      37843.0  17.941389  6.660360  6.00  15.00000  17.000000   \n",
       "\n",
       "                  75%         max       IQR     cutoff        lw         rw  \n",
       "barrels08   20.600625   47.087143  6.269755  10.031609  4.299261  30.632234  \n",
       "barrelsA08   0.000000   18.311667  0.000000   0.000000  0.000000   0.000000  \n",
       "charge120    0.000000    0.000000  0.000000   0.000000  0.000000   0.000000  \n",
       "charge240    0.000000   12.000000  0.000000   0.000000  0.000000   0.000000  \n",
       "city08      20.000000  138.000000  5.000000   8.000000  7.000000  28.000000  "
      ]
     },
     "execution_count": 33,
     "metadata": {},
     "output_type": "execute_result"
    }
   ],
   "source": [
    "summary['lw']=summary['25%']-summary.cutoff\n",
    "summary['rw']=summary['75%']+summary.cutoff\n",
    "summary.head()"
   ]
  },
  {
   "cell_type": "code",
   "execution_count": 34,
   "metadata": {
    "hidden": true
   },
   "outputs": [],
   "source": [
    "# create a df with outliers\n",
    "outliers=pd.DataFrame(columns=data.columns)\n",
    "\n",
    "#loop to detect outliers in each column\n",
    "for col in summary.index:\n",
    "    lower=summary.at[col,'lw'] #get lower whisker for this column\n",
    "    upper=summary.at[col,'rw'] #get upper whisker for this column\n",
    "    results=data[(data[col]<lower)|\n",
    "                 (data[col]>upper)].copy() #get the dataframe\n",
    "    results['Outlier']=col #to be able to identify in which column we obtained outliers\n",
    "    outliers=outliers.append(results) #save them"
   ]
  },
  {
   "cell_type": "code",
   "execution_count": 35,
   "metadata": {
    "hidden": true
   },
   "outputs": [
    {
     "data": {
      "text/plain": [
       "(92765, 84)"
      ]
     },
     "execution_count": 35,
     "metadata": {},
     "output_type": "execute_result"
    }
   ],
   "source": [
    "outliers.shape"
   ]
  },
  {
   "cell_type": "markdown",
   "metadata": {
    "hidden": true
   },
   "source": [
    "As we can see, we obtained lots of outliers. The number of rows is 3x times more than observations. SImply because 1 observation can be an outlier in multiple columns."
   ]
  },
  {
   "cell_type": "markdown",
   "metadata": {
    "heading_collapsed": true,
    "hidden": true
   },
   "source": [
    "### Boxplot"
   ]
  },
  {
   "cell_type": "markdown",
   "metadata": {
    "hidden": true
   },
   "source": [
    "This is the easiest way to visualise your outliers. It uses IQR as outlier detection algorithm.\n",
    "\n",
    "As it stands in the name, this approach is done simply to visualise outliers. You can't actually name them.\n",
    "* Blue box is considered as IQR \n",
    "* Line inside of the box is a median\n",
    "* Lines on both sides of the box are whiskers \n",
    "* Nodes outside are considered as outliers."
   ]
  },
  {
   "cell_type": "code",
   "execution_count": 36,
   "metadata": {
    "hidden": true
   },
   "outputs": [
    {
     "data": {
      "text/plain": [
       "<matplotlib.axes._subplots.AxesSubplot at 0x7f24dd1cf790>"
      ]
     },
     "execution_count": 36,
     "metadata": {},
     "output_type": "execute_result"
    },
    {
     "data": {
      "image/png": "[encoded data removed]",
      "text/plain": [
       "<Figure size 432x288 with 1 Axes>"
      ]
     },
     "metadata": {},
     "output_type": "display_data"
    }
   ],
   "source": [
    "sns.boxplot(data.barrels08)"
   ]
  },
  {
   "cell_type": "markdown",
   "metadata": {
    "heading_collapsed": true,
    "hidden": true
   },
   "source": [
    "### Z-score"
   ]
  },
  {
   "cell_type": "markdown",
   "metadata": {
    "hidden": true
   },
   "source": [
    "Z-score is another outlier detection technique that works well for normally distributed data.\n",
    "\n",
    "If you take a look on a distribution of Normally distributed data you will see the following:\n",
    "\n",
    "<img src='https://i.pinimg.com/originals/d7/fe/d0/d7fed0b8ecff934fbf5ab9325b201844.gif'>\n",
    "\n",
    "What can you detect from here? Well...\n",
    "<img src='https://www.researchgate.net/profile/Bin_Wang111/publication/273955667/figure/fig3/AS:339883190177813@1458045875582/The-confidence-intervals-correspond-to-3-sigma-rule-of-the-normal-distribution.png'>\n",
    "\n",
    "... 99.73% of your data are located within $3\\sigma$ range, which represents 3 standard deviations. \n",
    "\n",
    "Idea is following: if your data follows Normal distribution, the probability of meeting an observation outside $3\\sigma$ range is less than 1%. Here comes the solution."
   ]
  },
  {
   "cell_type": "code",
   "execution_count": 37,
   "metadata": {
    "hidden": true
   },
   "outputs": [
    {
     "data": {
      "text/html": [
       "<div>\n",
       "<style scoped>\n",
       "    .dataframe tbody tr th:only-of-type {\n",
       "        vertical-align: middle;\n",
       "    }\n",
       "\n",
       "    .dataframe tbody tr th {\n",
       "        vertical-align: top;\n",
       "    }\n",
       "\n",
       "    .dataframe thead th {\n",
       "        text-align: right;\n",
       "    }\n",
       "</style>\n",
       "<table border=\"1\" class=\"dataframe\">\n",
       "  <thead>\n",
       "    <tr style=\"text-align: right;\">\n",
       "      <th></th>\n",
       "      <th>count</th>\n",
       "      <th>mean</th>\n",
       "      <th>std</th>\n",
       "      <th>min</th>\n",
       "      <th>25%</th>\n",
       "      <th>50%</th>\n",
       "      <th>75%</th>\n",
       "      <th>max</th>\n",
       "      <th>lbound</th>\n",
       "      <th>rbound</th>\n",
       "    </tr>\n",
       "  </thead>\n",
       "  <tbody>\n",
       "    <tr>\n",
       "      <th>barrels08</th>\n",
       "      <td>37843.0</td>\n",
       "      <td>17.532506</td>\n",
       "      <td>4.575950</td>\n",
       "      <td>0.06</td>\n",
       "      <td>14.33087</td>\n",
       "      <td>17.347895</td>\n",
       "      <td>20.600625</td>\n",
       "      <td>47.087143</td>\n",
       "      <td>3.804656</td>\n",
       "      <td>31.260356</td>\n",
       "    </tr>\n",
       "    <tr>\n",
       "      <th>barrelsA08</th>\n",
       "      <td>37843.0</td>\n",
       "      <td>0.216169</td>\n",
       "      <td>1.141527</td>\n",
       "      <td>0.00</td>\n",
       "      <td>0.00000</td>\n",
       "      <td>0.000000</td>\n",
       "      <td>0.000000</td>\n",
       "      <td>18.311667</td>\n",
       "      <td>-3.208412</td>\n",
       "      <td>3.640750</td>\n",
       "    </tr>\n",
       "    <tr>\n",
       "      <th>charge120</th>\n",
       "      <td>37843.0</td>\n",
       "      <td>0.000000</td>\n",
       "      <td>0.000000</td>\n",
       "      <td>0.00</td>\n",
       "      <td>0.00000</td>\n",
       "      <td>0.000000</td>\n",
       "      <td>0.000000</td>\n",
       "      <td>0.000000</td>\n",
       "      <td>0.000000</td>\n",
       "      <td>0.000000</td>\n",
       "    </tr>\n",
       "    <tr>\n",
       "      <th>charge240</th>\n",
       "      <td>37843.0</td>\n",
       "      <td>0.023531</td>\n",
       "      <td>0.427647</td>\n",
       "      <td>0.00</td>\n",
       "      <td>0.00000</td>\n",
       "      <td>0.000000</td>\n",
       "      <td>0.000000</td>\n",
       "      <td>12.000000</td>\n",
       "      <td>-1.259411</td>\n",
       "      <td>1.306473</td>\n",
       "    </tr>\n",
       "    <tr>\n",
       "      <th>city08</th>\n",
       "      <td>37843.0</td>\n",
       "      <td>17.941389</td>\n",
       "      <td>6.660360</td>\n",
       "      <td>6.00</td>\n",
       "      <td>15.00000</td>\n",
       "      <td>17.000000</td>\n",
       "      <td>20.000000</td>\n",
       "      <td>138.000000</td>\n",
       "      <td>-2.039690</td>\n",
       "      <td>37.922469</td>\n",
       "    </tr>\n",
       "  </tbody>\n",
       "</table>\n",
       "</div>"
      ],
      "text/plain": [
       "              count       mean       std   min       25%        50%  \\\n",
       "barrels08   37843.0  17.532506  4.575950  0.06  14.33087  17.347895   \n",
       "barrelsA08  37843.0   0.216169  1.141527  0.00   0.00000   0.000000   \n",
       "charge120   37843.0   0.000000  0.000000  0.00   0.00000   0.000000   \n",
       "charge240   37843.0   0.023531  0.427647  0.00   0.00000   0.000000   \n",
       "city08      37843.0  17.941389  6.660360  6.00  15.00000  17.000000   \n",
       "\n",
       "                  75%         max    lbound     rbound  \n",
       "barrels08   20.600625   47.087143  3.804656  31.260356  \n",
       "barrelsA08   0.000000   18.311667 -3.208412   3.640750  \n",
       "charge120    0.000000    0.000000  0.000000   0.000000  \n",
       "charge240    0.000000   12.000000 -1.259411   1.306473  \n",
       "city08      20.000000  138.000000 -2.039690  37.922469  "
      ]
     },
     "execution_count": 37,
     "metadata": {},
     "output_type": "execute_result"
    }
   ],
   "source": [
    "#reinitialize our summary\n",
    "summary_Z=data.describe().T\n",
    "\n",
    "#get left and right bounds\n",
    "summary_Z['lbound']=summary_Z['mean']-3*summary_Z['std']\n",
    "summary_Z['rbound']=summary_Z['mean']+3*summary_Z['std']\n",
    "summary_Z.head()"
   ]
  },
  {
   "cell_type": "code",
   "execution_count": 38,
   "metadata": {
    "hidden": true
   },
   "outputs": [],
   "source": [
    "#the rest is the same\n",
    "\n",
    "# create a df with outliers\n",
    "outliers_Z=pd.DataFrame(columns=data.columns)\n",
    "\n",
    "#loop to detect outliers in each column\n",
    "for col in summary_Z.index:\n",
    "    lower=summary_Z.at[col,'lbound'] #get lower whisker for this column\n",
    "    upper=summary_Z.at[col,'rbound'] #get upper whisker for this column\n",
    "    results=data[(data[col]<lower)|\n",
    "                 (data[col]>upper)].copy() #get the dataframe\n",
    "    results['Outlier']=col #to be able to identify in which column we obtained outliers\n",
    "    outliers_Z=outliers_Z.append(results) #save them"
   ]
  },
  {
   "cell_type": "code",
   "execution_count": 39,
   "metadata": {
    "hidden": true
   },
   "outputs": [
    {
     "data": {
      "text/plain": [
       "(21947, 84)"
      ]
     },
     "execution_count": 39,
     "metadata": {},
     "output_type": "execute_result"
    }
   ],
   "source": [
    "outliers_Z.shape"
   ]
  },
  {
   "cell_type": "markdown",
   "metadata": {
    "hidden": true
   },
   "source": [
    "Since this algorithm works with Normally dstributed data (assumption that our data highly violates), we obtained a different number of outliers."
   ]
  },
  {
   "cell_type": "markdown",
   "metadata": {
    "heading_collapsed": true,
    "hidden": true
   },
   "source": [
    "## Fix them"
   ]
  },
  {
   "cell_type": "markdown",
   "metadata": {
    "hidden": true
   },
   "source": [
    "Now it is time to fix outliers. What is the workflow?\n",
    "\n",
    "1. Detect outliers\n",
    "2. Solution:\n",
    "    - Drop observations\n",
    "    - Limit values by 5th and 95th percentiles, aka winsorizing\n",
    "    - Fix the values, if possible\n",
    "    - Leave as it is"
   ]
  },
  {
   "cell_type": "code",
   "execution_count": 40,
   "metadata": {
    "colab": {},
    "colab_type": "code",
    "hidden": true,
    "id": "j6T-LU9_ijjm",
    "outputId": "8b448607-7cd4-497d-9dc1-2b439f87ffc8",
    "scrolled": true
   },
   "outputs": [
    {
     "name": "stdout",
     "output_type": "stream",
     "text": [
      "shape after dropping changed: (16152, 83)\n",
      "shape is the same here:  (37843, 83)\n"
     ]
    }
   ],
   "source": [
    "# drop is easy\n",
    "data1=data.drop(outliers.index)\n",
    "print('shape after dropping changed:', data1.shape)\n",
    "\n",
    "#winsorize is not that much\n",
    "from scipy.stats.mstats import winsorize\n",
    "data2=data.copy()\n",
    "data2.cylinders=winsorize(data.cylinders, limits=[0.05, 0.05])\n",
    "print('shape is the same here: ',data2.shape)\n"
   ]
  },
  {
   "cell_type": "markdown",
   "metadata": {
    "hidden": true
   },
   "source": [
    "Winsorizing is a technique that basically cuts our data. All the observations with values greater 95th percentile take the value of the 95th percentile, and all observations with values less than the 5th percentile take the value of the 5th percentile.\n",
    "\n",
    "<img src='https://protobi.com/images/tutorial/winsorize/bell-2.png' width=400>\n",
    "\n",
    "**It is very sharp technique that is not recommended to use. It has strong assumption on Normality and can only be used for very brief, mostly incorrect results.**\n",
    "\n",
    "In the following case it doesn't make sense at all:\n",
    "\n",
    "<img src='https://garstats.files.wordpress.com/2017/11/fdist.jpg?w=625'>"
   ]
  },
  {
   "cell_type": "code",
   "execution_count": 41,
   "metadata": {
    "hidden": true
   },
   "outputs": [
    {
     "data": {
      "image/png": "[encoded data removed]",
      "text/plain": [
       "<Figure size 432x288 with 2 Axes>"
      ]
     },
     "metadata": {},
     "output_type": "display_data"
    }
   ],
   "source": [
    "#simulation of nonnormal process\n",
    "random_nonnormal=np.random.lognormal(mean=1.0, sigma=1, size=10000)\n",
    "#winsorize it\n",
    "random_nonnormal_w=winsorize(random_nonnormal, limits=[0.05, 0.05])\n",
    "\n",
    "fig,ax=plt.subplots(1,2)\n",
    "sns.distplot(random_nonnormal,ax=ax[0])\n",
    "ax[0].title.set_text('Original')\n",
    "\n",
    "sns.distplot(random_nonnormal_w,ax=ax[1])\n",
    "ax[1].title.set_text('Transformed')\n",
    "plt.show()"
   ]
  },
  {
   "cell_type": "markdown",
   "metadata": {
    "heading_collapsed": true
   },
   "source": [
    "# Data Type"
   ]
  },
  {
   "cell_type": "markdown",
   "metadata": {
    "hidden": true
   },
   "source": [
    "This issue is related to computations and correct operations with your data."
   ]
  },
  {
   "cell_type": "code",
   "execution_count": 42,
   "metadata": {
    "colab": {},
    "colab_type": "code",
    "hidden": true,
    "id": "_nmLR-eXijjr",
    "outputId": "183f6a54-18bd-43b0-9743-9bd5cacd95e8"
   },
   "outputs": [
    {
     "data": {
      "text/plain": [
       "dtype('int64')"
      ]
     },
     "metadata": {},
     "output_type": "display_data"
    },
    {
     "data": {
      "text/plain": [
       "dtype('O')"
      ]
     },
     "metadata": {},
     "output_type": "display_data"
    }
   ],
   "source": [
    "#datatype before\n",
    "display(data.year.dtype)\n",
    "\n",
    "# simply switch the datatype\n",
    "data['year'] = data['year'].astype('object')\n",
    "\n",
    "#datatype after\n",
    "display(data.year.dtype)\n"
   ]
  },
  {
   "cell_type": "markdown",
   "metadata": {
    "colab_type": "text",
    "id": "-tDpEAY8ijjv"
   },
   "source": [
    "# Clean Text\n",
    "\n",
    "Possible errors:\n",
    "1. Data entry errors: Pais vs Paris\n",
    "2. Missing integrity constraint: Age=142\n",
    "3. Multiple conventions for data: Avenue des Champs-Élysées vs Ave. des Champs-Élysées\n",
    "4. Diacritic symbols: Blvd. de l’Hôpital vs Blvd. de l’Hopital\n",
    "5. Special symbols and punctuation marks\n"
   ]
  },
  {
   "cell_type": "code",
   "execution_count": 43,
   "metadata": {
    "colab": {},
    "colab_type": "code",
    "id": "NlNwZOffijjw",
    "outputId": "4016f574-a2b6-4d27-ab2e-34fbc272a1ed"
   },
   "outputs": [
    {
     "data": {
      "text/plain": [
       "array(['Manual 5-spd', 'Automatic 3-spd', 'Automatic 4-spd',\n",
       "       'Automatic 5-spd', 'Manual 4-spd', 'Manual 3-spd', 'Manual 6-spd',\n",
       "       'Automatic (S5)', 'Automatic (variable gear ratios)',\n",
       "       'Automatic 6-spd', 'Automatic (S6)', 0, 'Automatic (S4)',\n",
       "       'Automatic 7-spd', 'Automatic (S7)', 'Automatic (S8)',\n",
       "       'Automatic (AM5)', 'Auto(AM6)', 'Auto(AV-S7)', 'Automatic (A6)',\n",
       "       'Automatic (AV-S6)', 'Auto(AM7)', 'Manual 4-spd Doubled',\n",
       "       'Manual 5 spd', 'Automatic (AM6)', 'Manual 7-spd', 'Auto(L4)',\n",
       "       'Auto(L3)', 'Automatic (AV)', 'Auto (AV-S6)', 'Auto(AM5)',\n",
       "       'Auto(AV-S6)', 'Auto (AV-S8)', 'Automatic 8-spd', 'Auto(AV-S8)',\n",
       "       'Automatic (A1)', 'Auto (AV)', 'Auto(AM-S6)', 'Auto(AM-S7)',\n",
       "       'Automatic 6spd', 'Automatic 9-spd', 'Automatic (S9)',\n",
       "       'Auto(AM-S8)', 'Auto(A1)', 'Auto(AM8)', 'Manual(M7)',\n",
       "       'Auto(AM-S9)'], dtype=object)"
      ]
     },
     "execution_count": 43,
     "metadata": {},
     "output_type": "execute_result"
    }
   ],
   "source": [
    "data.trany.unique()"
   ]
  },
  {
   "cell_type": "code",
   "execution_count": 44,
   "metadata": {
    "colab": {},
    "colab_type": "code",
    "id": "crTIGKIdijjz",
    "outputId": "a698f429-5405-406e-9b4d-dd1a0041201a"
   },
   "outputs": [
    {
     "data": {
      "text/plain": [
       "array(['Manual 5spd', 'Automatic 3spd', 'Automatic 4spd',\n",
       "       'Automatic 5spd', 'Manual 4spd', 'Manual 3spd', 'Manual 6spd',\n",
       "       'Automatic (S5)', 'Automatic (variable gear ratios)',\n",
       "       'Automatic 6spd', 'Automatic (S6)', nan, 'Automatic (S4)',\n",
       "       'Automatic 7spd', 'Automatic (S7)', 'Automatic (S8)',\n",
       "       'Automatic (AM5)', 'Auto(AM6)', 'Auto(AVS7)', 'Automatic (A6)',\n",
       "       'Automatic (AVS6)', 'Auto(AM7)', 'Manual 4spd Doubled',\n",
       "       'Manual 5 spd', 'Automatic (AM6)', 'Manual 7spd', 'Auto(L4)',\n",
       "       'Auto(L3)', 'Automatic (AV)', 'Auto (AVS6)', 'Auto(AM5)',\n",
       "       'Auto(AVS6)', 'Auto (AVS8)', 'Automatic 8spd', 'Auto(AVS8)',\n",
       "       'Automatic (A1)', 'Auto (AV)', 'Auto(AMS6)', 'Auto(AMS7)',\n",
       "       'Automatic 9spd', 'Automatic (S9)', 'Auto(AMS8)', 'Auto(A1)',\n",
       "       'Auto(AM8)', 'Manual(M7)', 'Auto(AMS9)'], dtype=object)"
      ]
     },
     "execution_count": 44,
     "metadata": {},
     "output_type": "execute_result"
    }
   ],
   "source": [
    "data['trany'] = data['trany'].str.replace('-', '')\n",
    "data.trany.unique()"
   ]
  },
  {
   "cell_type": "code",
   "execution_count": 45,
   "metadata": {
    "colab": {},
    "colab_type": "code",
    "id": "ENH4ntR_ijkF",
    "outputId": "9fd9d162-22b2-4368-ae8a-e336026d7547"
   },
   "outputs": [
    {
     "data": {
      "text/plain": [
       "array(['Manual 5spd', 'Auto 3spd', 'Auto 4spd', 'Auto 5spd',\n",
       "       'Manual 4spd', 'Manual 3spd', 'Manual 6spd', 'Auto S5',\n",
       "       'Auto variable gear ratios', 'Auto 6spd', 'Auto S6', nan,\n",
       "       'Auto S4', 'Auto 7spd', 'Auto S7', 'Auto S8', 'Auto AM5',\n",
       "       'Auto AM6', 'Auto AVS7', 'Auto A6', 'Auto AVS6', 'Auto AM7',\n",
       "       'Manual 4spd Doubled', 'Manual 5 spd', 'Manual 7spd', 'Auto L4',\n",
       "       'Auto L3', 'Auto AV', 'Auto AVS8', 'Auto 8spd', 'Auto A1',\n",
       "       'Auto AMS6', 'Auto AMS7', 'Auto 9spd', 'Auto S9', 'Auto AMS8',\n",
       "       'Auto AM8', 'Manual M7', 'Auto AMS9'], dtype=object)"
      ]
     },
     "execution_count": 45,
     "metadata": {},
     "output_type": "execute_result"
    }
   ],
   "source": [
    "data['trany'] = data['trany'].str.replace('Automatic', 'Auto')\n",
    "data['trany'] = data['trany'].str.replace('Auto\\(', 'Auto ')\n",
    "data['trany'] = data['trany'].str.replace('Manual\\(', 'Manual ')\n",
    "data['trany'] = data['trany'].str.replace('\\(', '')\n",
    "data['trany'] = data['trany'].str.replace('\\)', '')\n",
    "data.trany.unique()"
   ]
  },
  {
   "cell_type": "markdown",
   "metadata": {
    "colab_type": "text",
    "id": "qPjYWCphijkT"
   },
   "source": [
    "# Duplicates"
   ]
  },
  {
   "cell_type": "markdown",
   "metadata": {},
   "source": [
    "<img src='https://elitedatascience.com/wp-content/uploads/2017/06/This-Town-Aint-Big-Enough.png'>"
   ]
  },
  {
   "cell_type": "code",
   "execution_count": 46,
   "metadata": {
    "colab": {},
    "colab_type": "code",
    "id": "FiZmbKGyijkV",
    "outputId": "31755eae-a22e-4420-bbd9-b60207d46fcb"
   },
   "outputs": [
    {
     "name": "stdout",
     "output_type": "stream",
     "text": [
      "Number of duplicate records dropped:  0\n"
     ]
    }
   ],
   "source": [
    "before = len(data)\n",
    "data = data.drop_duplicates()\n",
    "after = len(data)\n",
    "print('Number of duplicate records dropped: ', str(before - after))"
   ]
  },
  {
   "cell_type": "code",
   "execution_count": 47,
   "metadata": {
    "colab": {},
    "colab_type": "code",
    "id": "jjBTPB3bijkZ"
   },
   "outputs": [
    {
     "name": "stdout",
     "output_type": "stream",
     "text": [
      "Number of duplicate records dropped:  885\n"
     ]
    }
   ],
   "source": [
    "select_columns = ['make', 'model', 'year', 'displ', 'cylinders', \n",
    "                  'trany', 'drive', 'VClass','fuelType','barrels08', \n",
    "                  'city08', 'highway08', 'comb08', 'co2TailpipeGpm', 'fuelCost08']\n",
    "\n",
    "data = data[select_columns].drop_duplicates()\n",
    "after = len(data)\n",
    "print('Number of duplicate records dropped: ', str(before - after))"
   ]
  },
  {
   "cell_type": "markdown",
   "metadata": {},
   "source": [
    "# Low variance"
   ]
  },
  {
   "cell_type": "markdown",
   "metadata": {},
   "source": [
    "This problem is related to nnumerical problems of your data. Usually if your data has low variance, it can indicate non-informative columns. If you are studying salaries of Data Scientists and you have only 2 companies in your dataset - there is a \"*A Teeny, Tiny Possibility*\" that your analysis is not representative.\n",
    "\n",
    "<img src='https://preview.redd.it/coai6or9lav31.jpg?width=700&format=pjpg&auto=webp&s=17bb4802c66619243e2bbcc479fbbbaf6ad146a4'>"
   ]
  },
  {
   "cell_type": "markdown",
   "metadata": {},
   "source": [
    "Simpliest technique is to check whether your data didn't change throughout more than 90% of your data."
   ]
  },
  {
   "cell_type": "code",
   "execution_count": 54,
   "metadata": {},
   "outputs": [
    {
     "name": "stdout",
     "output_type": "stream",
     "text": [
      "['barrelsA08', 'charge120', 'charge240', 'city08U', 'cityA08', 'cityA08U', 'cityCD', 'cityE', 'cityUF', 'co2', 'co2A', 'co2TailpipeAGpm', 'comb08U', 'combA08', 'combA08U', 'combE', 'combinedCD', 'combinedUF', 'feScore', 'fuelCostA08', 'ghgScore', 'ghgScoreA', 'highway08U', 'highwayA08', 'highwayA08U', 'highwayCD', 'highwayE', 'highwayUF', 'hlv', 'hpv', 'lv2', 'phevBlended', 'pv2', 'range', 'rangeCity', 'rangeCityA', 'rangeHwy', 'rangeHwyA', 'UCityA', 'UHighwayA', 'guzzler', 'tCharger', 'sCharger', 'atvType', 'fuelType2', 'rangeA', 'evMotor', 'mfrCode', 'c240Dscr', 'charge240b', 'c240bDscr', 'createdOn', 'modifiedOn', 'startStop', 'phevCity', 'phevHwy', 'phevComb']\n"
     ]
    }
   ],
   "source": [
    "#since I modified data for duplicates, I will use data1\n",
    "low_variance=[]\n",
    "\n",
    "for col in data1.columns:\n",
    "    highest_freq=data1[col].value_counts(normalize=True).iloc[0]\n",
    "    if highest_freq>0.9:\n",
    "        low_variance.append(col)\n",
    "        \n",
    "print(low_variance)\n"
   ]
  },
  {
   "cell_type": "code",
   "execution_count": 57,
   "metadata": {
    "colab": {},
    "colab_type": "code",
    "id": "kCP5QGNvijjE"
   },
   "outputs": [
    {
     "data": {
      "text/plain": [
       "(16152, 26)"
      ]
     },
     "execution_count": 57,
     "metadata": {},
     "output_type": "execute_result"
    }
   ],
   "source": [
    "#shape before removal\n",
    "data1.shape\n",
    "\n",
    "data1 = data1.drop(low_variance, axis=1)\n",
    "\n",
    "#shape after removal\n",
    "data1.shape"
   ]
  }
 ],
 "metadata": {
  "colab": {
   "name": "D3-D4. Data Cleaning.ipynb",
   "provenance": []
  },
  "kernelspec": {
   "display_name": "Python 3",
   "language": "python",
   "name": "python3"
  },
  "language_info": {
   "codemirror_mode": {
    "name": "ipython",
    "version": 3
   },
   "file_extension": ".py",
   "mimetype": "text/x-python",
   "name": "python",
   "nbconvert_exporter": "python",
   "pygments_lexer": "ipython3",
   "version": "3.8.5"
  },
  "toc": {
   "base_numbering": 1,
   "nav_menu": {},
   "number_sections": true,
   "sideBar": true,
   "skip_h1_title": false,
   "title_cell": "Table of Contents",
   "title_sidebar": "Contents",
   "toc_cell": true,
   "toc_position": {},
   "toc_section_display": true,
   "toc_window_display": false
  }
 },
 "nbformat": 4,
 "nbformat_minor": 1
}
