{
 "cells": [
  {
   "cell_type": "markdown",
   "metadata": {},
   "source": [
    "# Programming Paradigmas"
   ]
  },
  {
   "cell_type": "markdown",
   "metadata": {},
   "source": [
    "* Imperative Programming\n",
    "    - Procedural\n",
    "    - Object Oriented\n",
    "* Declarative Programming\n",
    "    - Functional\n",
    "    - Object Oriented"
   ]
  },
  {
   "cell_type": "code",
   "execution_count": 1,
   "metadata": {},
   "outputs": [
    {
     "name": "stdout",
     "output_type": "stream",
     "text": [
      "13\n"
     ]
    }
   ],
   "source": [
    "y=2\n",
    "print(y+11)"
   ]
  },
  {
   "cell_type": "code",
   "execution_count": 1,
   "metadata": {},
   "outputs": [
    {
     "ename": "NameError",
     "evalue": "name 'y' is not defined",
     "output_type": "error",
     "traceback": [
      "\u001b[1;31m---------------------------------------------------------------------------\u001b[0m",
      "\u001b[1;31mNameError\u001b[0m                                 Traceback (most recent call last)",
      "\u001b[1;32m<ipython-input-1-95163d30f4a2>\u001b[0m in \u001b[0;36m<module>\u001b[1;34m\u001b[0m\n\u001b[1;32m----> 1\u001b[1;33m \u001b[0mprint\u001b[0m\u001b[1;33m(\u001b[0m\u001b[0my\u001b[0m\u001b[1;33m+\u001b[0m\u001b[1;36m11\u001b[0m\u001b[1;33m)\u001b[0m\u001b[1;33m\u001b[0m\u001b[1;33m\u001b[0m\u001b[0m\n\u001b[0m\u001b[0;32m      2\u001b[0m \u001b[0my\u001b[0m\u001b[1;33m=\u001b[0m\u001b[1;36m2\u001b[0m\u001b[1;33m\u001b[0m\u001b[1;33m\u001b[0m\u001b[0m\n",
      "\u001b[1;31mNameError\u001b[0m: name 'y' is not defined"
     ]
    }
   ],
   "source": [
    "print(y+11)\n",
    "y=2"
   ]
  },
  {
   "cell_type": "code",
   "execution_count": 3,
   "metadata": {},
   "outputs": [
    {
     "name": "stdout",
     "output_type": "stream",
     "text": [
      "the length of the word computer is 8\n"
     ]
    }
   ],
   "source": [
    "word='computer'\n",
    "l=0\n",
    "\n",
    "for i in word:\n",
    "    l+=1\n",
    "\n",
    "print(f'the length of the word {word} is {l}')"
   ]
  },
  {
   "cell_type": "code",
   "execution_count": 4,
   "metadata": {},
   "outputs": [
    {
     "name": "stdout",
     "output_type": "stream",
     "text": [
      "the length of the word laptop is 6\n"
     ]
    }
   ],
   "source": [
    "word='laptop'\n",
    "l=0\n",
    "\n",
    "for i in word:\n",
    "    l+=1\n",
    "\n",
    "print(f'the length of the word {word} is {l}')"
   ]
  },
  {
   "cell_type": "code",
   "execution_count": 7,
   "metadata": {},
   "outputs": [],
   "source": [
    "def len_of_word(word):\n",
    "    l=0\n",
    "    for i in word:\n",
    "        l+=1\n",
    "\n",
    "    print(f'the length of the word {word} is {l}')\n",
    "    return None"
   ]
  },
  {
   "cell_type": "code",
   "execution_count": 8,
   "metadata": {},
   "outputs": [
    {
     "name": "stdout",
     "output_type": "stream",
     "text": [
      "the length of the word computer is 8\n"
     ]
    }
   ],
   "source": [
    "len_of_word('computer')"
   ]
  },
  {
   "cell_type": "code",
   "execution_count": 9,
   "metadata": {},
   "outputs": [
    {
     "name": "stdout",
     "output_type": "stream",
     "text": [
      "the length of the word PC is 2\n"
     ]
    }
   ],
   "source": [
    "len_of_word('PC')"
   ]
  },
  {
   "cell_type": "markdown",
   "metadata": {},
   "source": [
    "# Mobile Phone - Functional Programming"
   ]
  },
  {
   "cell_type": "code",
   "execution_count": 10,
   "metadata": {},
   "outputs": [],
   "source": [
    "contact_list={'Huey':711111, 'Dewey':722222, 'Louis':733333}\n",
    "received_calls=[]\n",
    "made_calls=[]\n",
    "sms_sent={}\n",
    "sms_received={}\n",
    "galery_of_photos=[]"
   ]
  },
  {
   "cell_type": "markdown",
   "metadata": {},
   "source": [
    "```python\n",
    "def name_of_function(mandatory_args, optional_arguments=default_value):\n",
    "    \"\"\"documentation\"\"\" #optional\n",
    "    statements\n",
    "    return output\n",
    "```"
   ]
  },
  {
   "cell_type": "code",
   "execution_count": 12,
   "metadata": {},
   "outputs": [],
   "source": [
    "#add a contact\n",
    "def add_contact(name, number, contacts=contact_list):\n",
    "    \"\"\"\n",
    "    this function adds a new entry to the contact_list\n",
    "    inputs:\n",
    "    name - the name of a contact\n",
    "    number - the phone number of a contact\n",
    "    contacts - optional argument that represents the contact list\n",
    "    \n",
    "    Output:\n",
    "    updated contact_list\n",
    "    \"\"\"\n",
    "    flag=True\n",
    "    \n",
    "    while flag:\n",
    "        if name in contacts.keys():\n",
    "            print('Sorry, but the name is occupied already')\n",
    "            name=input('Please input a new name in the field below\\n')\n",
    "        else:\n",
    "            contacts.update({name:number})\n",
    "            flag=False\n",
    "            print('Thank you, the new contact is stored')\n",
    "    return contacts\n",
    "        "
   ]
  },
  {
   "cell_type": "code",
   "execution_count": 15,
   "metadata": {},
   "outputs": [
    {
     "name": "stdout",
     "output_type": "stream",
     "text": [
      "Sorry, but the name is occupied already\n",
      "Please input a new name in the field below\n",
      "Launchpad McQuack1\n",
      "Thank you, the new contact is stored\n"
     ]
    }
   ],
   "source": [
    "contact_list=add_contact('Launchpad McQuack', 744444)"
   ]
  },
  {
   "cell_type": "code",
   "execution_count": 17,
   "metadata": {},
   "outputs": [],
   "source": [
    "?add_contact"
   ]
  },
  {
   "cell_type": "code",
   "execution_count": 18,
   "metadata": {
    "scrolled": true
   },
   "outputs": [
    {
     "name": "stdout",
     "output_type": "stream",
     "text": [
      "Thank you, the new contact is stored\n"
     ]
    },
    {
     "data": {
      "text/plain": [
       "{'me': '123456'}"
      ]
     },
     "execution_count": 18,
     "metadata": {},
     "output_type": "execute_result"
    }
   ],
   "source": [
    "add_contact('me','123456',{})"
   ]
  },
  {
   "cell_type": "code",
   "execution_count": null,
   "metadata": {},
   "outputs": [],
   "source": []
  },
  {
   "cell_type": "code",
   "execution_count": 19,
   "metadata": {},
   "outputs": [],
   "source": [
    "#remove a contact\n",
    "def remove_a_contact(name, contacts=contact_list):\n",
    "    if name in contacts.keys():\n",
    "        del contacts[name]\n",
    "        print('Operation finished successfully')\n",
    "    else:\n",
    "        print('Sorry, you don\\'t know this name')\n",
    "    return contacts"
   ]
  },
  {
   "cell_type": "code",
   "execution_count": 20,
   "metadata": {},
   "outputs": [
    {
     "name": "stdout",
     "output_type": "stream",
     "text": [
      "Operation finished successfully\n"
     ]
    }
   ],
   "source": [
    "contact_list=remove_a_contact('Launchpad McQuack1')"
   ]
  },
  {
   "cell_type": "code",
   "execution_count": 21,
   "metadata": {},
   "outputs": [
    {
     "name": "stdout",
     "output_type": "stream",
     "text": [
      "Sorry, you don't know this name\n"
     ]
    }
   ],
   "source": [
    "contact_list=remove_a_contact('Launchpad McQuack1')"
   ]
  },
  {
   "cell_type": "code",
   "execution_count": 22,
   "metadata": {},
   "outputs": [
    {
     "data": {
      "text/plain": [
       "{'Huey': 711111, 'Dewey': 722222, 'Louis': 733333, 'Launchpad McQuack': 744444}"
      ]
     },
     "execution_count": 22,
     "metadata": {},
     "output_type": "execute_result"
    }
   ],
   "source": [
    "contact_list"
   ]
  },
  {
   "cell_type": "code",
   "execution_count": 23,
   "metadata": {},
   "outputs": [],
   "source": [
    "?remove_a_contact"
   ]
  },
  {
   "cell_type": "code",
   "execution_count": 37,
   "metadata": {},
   "outputs": [],
   "source": [
    "#phone calls\n",
    "def make_a_call(number, calls=made_calls, contacts=contact_list):\n",
    "    if number in contacts.values(): #add a name instead of number, assuming numbers are unique\n",
    "        name=[i for i in contacts if contacts[i]==number][0]\n",
    "            #[i for i,j in contacts.items() if j==number][0] could also work\n",
    "    else:\n",
    "        name=str(number)\n",
    "    print(f'Dialing {name}...')\n",
    "    calls.append(name)\n",
    "    return calls"
   ]
  },
  {
   "cell_type": "code",
   "execution_count": 38,
   "metadata": {},
   "outputs": [
    {
     "name": "stdout",
     "output_type": "stream",
     "text": [
      "Dialing Louis...\n"
     ]
    }
   ],
   "source": [
    "made_calls=make_a_call(733333)"
   ]
  },
  {
   "cell_type": "code",
   "execution_count": 39,
   "metadata": {},
   "outputs": [
    {
     "data": {
      "text/plain": [
       "['Louis']"
      ]
     },
     "execution_count": 39,
     "metadata": {},
     "output_type": "execute_result"
    }
   ],
   "source": [
    "made_calls"
   ]
  },
  {
   "cell_type": "code",
   "execution_count": 40,
   "metadata": {},
   "outputs": [
    {
     "name": "stdout",
     "output_type": "stream",
     "text": [
      "Dialing 755555...\n"
     ]
    }
   ],
   "source": [
    "made_calls=make_a_call(755555)"
   ]
  },
  {
   "cell_type": "code",
   "execution_count": 41,
   "metadata": {},
   "outputs": [],
   "source": [
    "#phone calls\n",
    "def receive_a_call(number, calls=received_calls, contacts=contact_list):\n",
    "    if number in contacts.values(): #add a name instead of number, assuming numbers are unique\n",
    "        name=[i for i in contacts if contacts[i]==number][0]\n",
    "            #[i for i,j in contacts.items() if j==number][0] could also work\n",
    "    else:\n",
    "        name=str(number)\n",
    "    print(f'{name} is calling...')\n",
    "    calls.append(name)\n",
    "    return calls"
   ]
  },
  {
   "cell_type": "code",
   "execution_count": 42,
   "metadata": {},
   "outputs": [
    {
     "name": "stdout",
     "output_type": "stream",
     "text": [
      "Huey is calling...\n"
     ]
    }
   ],
   "source": [
    "received_calls=receive_a_call(711111)"
   ]
  },
  {
   "cell_type": "code",
   "execution_count": 44,
   "metadata": {},
   "outputs": [],
   "source": [
    "#send an sms\n",
    "def send_an_sms(number, text, sms=sms_sent, contacts=contact_list):\n",
    "    if number in contacts.values():\n",
    "        name=[i for i,j in contacts.items() if j==number][0]\n",
    "    else:\n",
    "        name=str(number)\n",
    "    print(f'Write a message to {name}:\\n\\n{text}')\n",
    "    sms[name]=text\n",
    "    return sms"
   ]
  },
  {
   "cell_type": "code",
   "execution_count": 45,
   "metadata": {},
   "outputs": [
    {
     "name": "stdout",
     "output_type": "stream",
     "text": [
      "Write a message to Huey:\n",
      "\n",
      "Hi Huey!\n"
     ]
    }
   ],
   "source": [
    "sms_sent=send_an_sms(711111, 'Hi Huey!')"
   ]
  },
  {
   "cell_type": "code",
   "execution_count": 48,
   "metadata": {},
   "outputs": [],
   "source": [
    "#send an sms\n",
    "def send_an_sms(number, text, sms=sms_sent, contacts=contact_list):\n",
    "    if number in contacts.values():\n",
    "        name=[i for i,j in contacts.items() if j==number][0]\n",
    "    else:\n",
    "        name=str(number)\n",
    "    print(f'Write a message to {name}:\\n\\n{text}')\n",
    "    \n",
    "    new_index=len(sms)+1\n",
    "    sms[new_index]={'name':name, 'text':text}\n",
    "    return sms"
   ]
  },
  {
   "cell_type": "code",
   "execution_count": 55,
   "metadata": {},
   "outputs": [
    {
     "name": "stdout",
     "output_type": "stream",
     "text": [
      "Write a message to 111111:\n",
      "\n",
      "Hi one!\n"
     ]
    }
   ],
   "source": [
    "sms_sent=send_an_sms(111111, 'Hi one!')"
   ]
  },
  {
   "cell_type": "code",
   "execution_count": 56,
   "metadata": {},
   "outputs": [
    {
     "data": {
      "text/plain": [
       "{'Huey': 'Hi Huey!',\n",
       " 2: {'name': 'Huey', 'text': 'Hi Huey!'},\n",
       " 3: {'name': 'Huey', 'text': 'Hi Huey!'},\n",
       " 4: {'name': 'Dewey', 'text': 'Hi Dewey!'},\n",
       " 5: {'name': '111111', 'text': 'Hi one!'}}"
      ]
     },
     "execution_count": 56,
     "metadata": {},
     "output_type": "execute_result"
    }
   ],
   "source": [
    "sms_sent"
   ]
  },
  {
   "cell_type": "code",
   "execution_count": 57,
   "metadata": {},
   "outputs": [],
   "source": [
    "#make a photo\n",
    "def make_a_photo():\n",
    "    global galery_of_photos #now all the changes we apply to this variable in the function will be stored in the variable outside the function\n",
    "    new_index=len(galery_of_photos)+1\n",
    "    galery_of_photos.append(f'{new_index}.jpg')\n",
    "    return None"
   ]
  },
  {
   "cell_type": "code",
   "execution_count": 58,
   "metadata": {},
   "outputs": [
    {
     "name": "stdout",
     "output_type": "stream",
     "text": [
      "[]\n"
     ]
    }
   ],
   "source": [
    "print(galery_of_photos)"
   ]
  },
  {
   "cell_type": "code",
   "execution_count": 65,
   "metadata": {},
   "outputs": [],
   "source": [
    "make_a_photo()"
   ]
  },
  {
   "cell_type": "code",
   "execution_count": 66,
   "metadata": {},
   "outputs": [
    {
     "name": "stdout",
     "output_type": "stream",
     "text": [
      "['1.jpg', '2.jpg', '3.jpg', '4.jpg']\n"
     ]
    }
   ],
   "source": [
    "print(galery_of_photos)"
   ]
  },
  {
   "cell_type": "code",
   "execution_count": null,
   "metadata": {},
   "outputs": [],
   "source": []
  },
  {
   "cell_type": "code",
   "execution_count": null,
   "metadata": {},
   "outputs": [],
   "source": [
    "#wrapping it up\n",
    "contact_list={'Huey':711111, 'Dewey':722222, 'Louis':733333}\n",
    "received_calls=[]\n",
    "made_calls=[]\n",
    "sms_sent={}\n",
    "sms_received={}\n",
    "galery_of_photos=[]\n",
    "\n",
    "\n",
    "#add a contact\n",
    "def add_contact(name, number, contacts=contact_list):\n",
    "    \"\"\"\n",
    "    this function adds a new entry to the contact_list\n",
    "    inputs:\n",
    "    name - the name of a contact\n",
    "    number - the phone number of a contact\n",
    "    contacts - optional argument that represents the contact list\n",
    "    \n",
    "    Output:\n",
    "    updated contact_list\n",
    "    \"\"\"\n",
    "    flag=True\n",
    "    \n",
    "    while flag:\n",
    "        if name in contacts.keys():\n",
    "            print('Sorry, but the name is occupied already')\n",
    "            name=input('Please input a new name in the field below\\n')\n",
    "        else:\n",
    "            contacts.update({name:number})\n",
    "            flag=False\n",
    "            print('Thank you, the new contact is stored')\n",
    "    return contacts\n",
    "        \n",
    "#remove a contact\n",
    "def remove_a_contact(name, contacts=contact_list):\n",
    "    if name in contacts.keys():\n",
    "        del contacts[name]\n",
    "        print('Operation finished successfully')\n",
    "    else:\n",
    "        print('Sorry, you don\\'t know this name')\n",
    "    return contacts\n",
    "\n",
    "#phone calls\n",
    "def make_a_call(number, calls=made_calls, contacts=contact_list):\n",
    "    if number in contacts.values(): #add a name instead of number, assuming numbers are unique\n",
    "        name=[i for i in contacts if contacts[i]==number][0]\n",
    "            #[i for i,j in contacts.items() if j==number][0] could also work\n",
    "    else:\n",
    "        name=str(number)\n",
    "    print(f'Dialing {name}...')\n",
    "    calls.append(name)\n",
    "    return calls\n",
    "\n",
    "#phone calls\n",
    "def receive_a_call(number, calls=received_calls, contacts=contact_list):\n",
    "    if number in contacts.values(): #add a name instead of number, assuming numbers are unique\n",
    "        name=[i for i in contacts if contacts[i]==number][0]\n",
    "            #[i for i,j in contacts.items() if j==number][0] could also work\n",
    "    else:\n",
    "        name=str(number)\n",
    "    print(f'{name} is calling...')\n",
    "    calls.append(name)\n",
    "    return calls\n",
    "\n",
    "#send an sms\n",
    "def send_an_sms(number, text, sms=sms_sent, contacts=contact_list):\n",
    "    if number in contacts.values():\n",
    "        name=[i for i,j in contacts.items() if j==number][0]\n",
    "    else:\n",
    "        name=str(number)\n",
    "    print(f'Write a message to {name}:\\n\\n{text}')\n",
    "    \n",
    "    new_index=len(sms)+1\n",
    "    sms[new_index]={'name':name, 'text':text}\n",
    "    return sms\n",
    "\n",
    "#make a photo\n",
    "def make_a_photo():\n",
    "    global galery_of_photos #now all the changes we apply to this variable in the function will be stored in the variable outside the function\n",
    "    new_index=len(galery_of_photos)+1\n",
    "    galery_of_photos.append(f'{new_index}.jpg')\n",
    "    return None"
   ]
  },
  {
   "cell_type": "markdown",
   "metadata": {},
   "source": [
    "# Try Except"
   ]
  },
  {
   "cell_type": "markdown",
   "metadata": {},
   "source": [
    "```python\n",
    "try:\n",
    "    statement to try\n",
    "except [thenemaoftheerror]:\n",
    "    do smth\n",
    "else:\n",
    "    do smth else\n",
    "finally:\n",
    "    finally do smth\n",
    "```"
   ]
  },
  {
   "cell_type": "code",
   "execution_count": 68,
   "metadata": {},
   "outputs": [],
   "source": [
    "def foo(a,b):\n",
    "    return a/b"
   ]
  },
  {
   "cell_type": "code",
   "execution_count": 70,
   "metadata": {},
   "outputs": [
    {
     "ename": "ZeroDivisionError",
     "evalue": "division by zero",
     "output_type": "error",
     "traceback": [
      "\u001b[1;31m---------------------------------------------------------------------------\u001b[0m",
      "\u001b[1;31mZeroDivisionError\u001b[0m                         Traceback (most recent call last)",
      "\u001b[1;32m<ipython-input-70-4fdd65234fb4>\u001b[0m in \u001b[0;36m<module>\u001b[1;34m\u001b[0m\n\u001b[1;32m----> 1\u001b[1;33m \u001b[0mfoo\u001b[0m\u001b[1;33m(\u001b[0m\u001b[1;36m2\u001b[0m\u001b[1;33m,\u001b[0m\u001b[1;36m0\u001b[0m\u001b[1;33m)\u001b[0m\u001b[1;33m\u001b[0m\u001b[1;33m\u001b[0m\u001b[0m\n\u001b[0m",
      "\u001b[1;32m<ipython-input-68-fddd26d4a1a2>\u001b[0m in \u001b[0;36mfoo\u001b[1;34m(a, b)\u001b[0m\n\u001b[0;32m      1\u001b[0m \u001b[1;32mdef\u001b[0m \u001b[0mfoo\u001b[0m\u001b[1;33m(\u001b[0m\u001b[0ma\u001b[0m\u001b[1;33m,\u001b[0m\u001b[0mb\u001b[0m\u001b[1;33m)\u001b[0m\u001b[1;33m:\u001b[0m\u001b[1;33m\u001b[0m\u001b[1;33m\u001b[0m\u001b[0m\n\u001b[1;32m----> 2\u001b[1;33m     \u001b[1;32mreturn\u001b[0m \u001b[0ma\u001b[0m\u001b[1;33m/\u001b[0m\u001b[0mb\u001b[0m\u001b[1;33m\u001b[0m\u001b[1;33m\u001b[0m\u001b[0m\n\u001b[0m",
      "\u001b[1;31mZeroDivisionError\u001b[0m: division by zero"
     ]
    }
   ],
   "source": [
    "foo(2,0)"
   ]
  },
  {
   "cell_type": "code",
   "execution_count": 71,
   "metadata": {},
   "outputs": [],
   "source": [
    "def foo(a,b):\n",
    "    try:\n",
    "        c=a/b\n",
    "    except ZeroDivisionError:\n",
    "        c=0\n",
    "        print('you have divided by 0. We fixed the problem and returned 0')\n",
    "    return c"
   ]
  },
  {
   "cell_type": "code",
   "execution_count": 74,
   "metadata": {},
   "outputs": [
    {
     "ename": "TypeError",
     "evalue": "unsupported operand type(s) for /: 'int' and 'str'",
     "output_type": "error",
     "traceback": [
      "\u001b[1;31m---------------------------------------------------------------------------\u001b[0m",
      "\u001b[1;31mTypeError\u001b[0m                                 Traceback (most recent call last)",
      "\u001b[1;32m<ipython-input-74-62a88fa68c31>\u001b[0m in \u001b[0;36m<module>\u001b[1;34m\u001b[0m\n\u001b[1;32m----> 1\u001b[1;33m \u001b[0mfoo\u001b[0m\u001b[1;33m(\u001b[0m\u001b[1;36m4\u001b[0m\u001b[1;33m,\u001b[0m\u001b[1;34m'a'\u001b[0m\u001b[1;33m)\u001b[0m\u001b[1;33m\u001b[0m\u001b[1;33m\u001b[0m\u001b[0m\n\u001b[0m",
      "\u001b[1;32m<ipython-input-71-17f84c2c43b8>\u001b[0m in \u001b[0;36mfoo\u001b[1;34m(a, b)\u001b[0m\n\u001b[0;32m      1\u001b[0m \u001b[1;32mdef\u001b[0m \u001b[0mfoo\u001b[0m\u001b[1;33m(\u001b[0m\u001b[0ma\u001b[0m\u001b[1;33m,\u001b[0m\u001b[0mb\u001b[0m\u001b[1;33m)\u001b[0m\u001b[1;33m:\u001b[0m\u001b[1;33m\u001b[0m\u001b[1;33m\u001b[0m\u001b[0m\n\u001b[0;32m      2\u001b[0m     \u001b[1;32mtry\u001b[0m\u001b[1;33m:\u001b[0m\u001b[1;33m\u001b[0m\u001b[1;33m\u001b[0m\u001b[0m\n\u001b[1;32m----> 3\u001b[1;33m         \u001b[0mc\u001b[0m\u001b[1;33m=\u001b[0m\u001b[0ma\u001b[0m\u001b[1;33m/\u001b[0m\u001b[0mb\u001b[0m\u001b[1;33m\u001b[0m\u001b[1;33m\u001b[0m\u001b[0m\n\u001b[0m\u001b[0;32m      4\u001b[0m     \u001b[1;32mexcept\u001b[0m \u001b[0mZeroDivisionError\u001b[0m\u001b[1;33m:\u001b[0m\u001b[1;33m\u001b[0m\u001b[1;33m\u001b[0m\u001b[0m\n\u001b[0;32m      5\u001b[0m         \u001b[0mc\u001b[0m\u001b[1;33m=\u001b[0m\u001b[1;36m0\u001b[0m\u001b[1;33m\u001b[0m\u001b[1;33m\u001b[0m\u001b[0m\n",
      "\u001b[1;31mTypeError\u001b[0m: unsupported operand type(s) for /: 'int' and 'str'"
     ]
    }
   ],
   "source": [
    "foo(4,'a')"
   ]
  },
  {
   "cell_type": "code",
   "execution_count": 80,
   "metadata": {},
   "outputs": [],
   "source": [
    "def foo(a,b):\n",
    "    try:\n",
    "        print('trying here')\n",
    "        c=a/b\n",
    "    except ZeroDivisionError:\n",
    "        c=0\n",
    "        print('you have divided by 0. We fixed the problem and returned 0')\n",
    "    else:\n",
    "        print(f'{a} divided by {b} is equal to {c}')\n",
    "    finally:\n",
    "        print('returning the output...')\n",
    "    return c"
   ]
  },
  {
   "cell_type": "code",
   "execution_count": 81,
   "metadata": {},
   "outputs": [
    {
     "name": "stdout",
     "output_type": "stream",
     "text": [
      "trying here\n",
      "4 divided by 2 is equal to 2.0\n",
      "returning the output...\n"
     ]
    },
    {
     "data": {
      "text/plain": [
       "2.0"
      ]
     },
     "execution_count": 81,
     "metadata": {},
     "output_type": "execute_result"
    }
   ],
   "source": [
    "foo(4,2)"
   ]
  },
  {
   "cell_type": "code",
   "execution_count": 82,
   "metadata": {},
   "outputs": [
    {
     "name": "stdout",
     "output_type": "stream",
     "text": [
      "trying here\n",
      "you have divided by 0. We fixed the problem and returned 0\n",
      "returning the output...\n"
     ]
    },
    {
     "data": {
      "text/plain": [
       "0"
      ]
     },
     "execution_count": 82,
     "metadata": {},
     "output_type": "execute_result"
    }
   ],
   "source": [
    "foo(4,0)"
   ]
  },
  {
   "cell_type": "markdown",
   "metadata": {},
   "source": [
    "try -> else -> finally  \n",
    "try -> except -> finally"
   ]
  },
  {
   "cell_type": "markdown",
   "metadata": {},
   "source": [
    "# Raise your own errors"
   ]
  },
  {
   "cell_type": "code",
   "execution_count": 86,
   "metadata": {},
   "outputs": [],
   "source": [
    "def perimeter_trapezoid():\n",
    "\n",
    "    list_of_dimensions=input('Please provide 4 numbers separated with comma')\n",
    "    list_of_dimensions=list_of_dimensions.split(',')\n",
    "\n",
    "    list_of_dimensions=[float(i) for i in list_of_dimensions]\n",
    "\n",
    "    if max(list_of_dimensions)>=sum(list_of_dimensions)-max(list_of_dimensions):\n",
    "        raise ValueError(\"Sorry, the data you've provided doesn't follow quadrilateral inequality\")\n",
    "        \n",
    "    \n",
    "    return sum(list_of_dimensions)"
   ]
  },
  {
   "cell_type": "code",
   "execution_count": 88,
   "metadata": {},
   "outputs": [
    {
     "name": "stdout",
     "output_type": "stream",
     "text": [
      "Please provide 4 numbers separated with comma1,2,3,100\n"
     ]
    },
    {
     "ename": "ValueError",
     "evalue": "Sorry, the data you've provided doesn't follow quadrilateral inequality",
     "output_type": "error",
     "traceback": [
      "\u001b[1;31m---------------------------------------------------------------------------\u001b[0m",
      "\u001b[1;31mValueError\u001b[0m                                Traceback (most recent call last)",
      "\u001b[1;32m<ipython-input-88-25be299594a4>\u001b[0m in \u001b[0;36m<module>\u001b[1;34m\u001b[0m\n\u001b[1;32m----> 1\u001b[1;33m \u001b[0mperimeter_trapezoid\u001b[0m\u001b[1;33m(\u001b[0m\u001b[1;33m)\u001b[0m\u001b[1;33m\u001b[0m\u001b[1;33m\u001b[0m\u001b[0m\n\u001b[0m",
      "\u001b[1;32m<ipython-input-86-2a86efd17fa8>\u001b[0m in \u001b[0;36mperimeter_trapezoid\u001b[1;34m()\u001b[0m\n\u001b[0;32m      7\u001b[0m \u001b[1;33m\u001b[0m\u001b[0m\n\u001b[0;32m      8\u001b[0m     \u001b[1;32mif\u001b[0m \u001b[0mmax\u001b[0m\u001b[1;33m(\u001b[0m\u001b[0mlist_of_dimensions\u001b[0m\u001b[1;33m)\u001b[0m\u001b[1;33m>=\u001b[0m\u001b[0msum\u001b[0m\u001b[1;33m(\u001b[0m\u001b[0mlist_of_dimensions\u001b[0m\u001b[1;33m)\u001b[0m\u001b[1;33m-\u001b[0m\u001b[0mmax\u001b[0m\u001b[1;33m(\u001b[0m\u001b[0mlist_of_dimensions\u001b[0m\u001b[1;33m)\u001b[0m\u001b[1;33m:\u001b[0m\u001b[1;33m\u001b[0m\u001b[1;33m\u001b[0m\u001b[0m\n\u001b[1;32m----> 9\u001b[1;33m         \u001b[1;32mraise\u001b[0m \u001b[0mValueError\u001b[0m\u001b[1;33m(\u001b[0m\u001b[1;34m\"Sorry, the data you've provided doesn't follow quadrilateral inequality\"\u001b[0m\u001b[1;33m)\u001b[0m\u001b[1;33m\u001b[0m\u001b[1;33m\u001b[0m\u001b[0m\n\u001b[0m\u001b[0;32m     10\u001b[0m \u001b[1;33m\u001b[0m\u001b[0m\n\u001b[0;32m     11\u001b[0m \u001b[1;33m\u001b[0m\u001b[0m\n",
      "\u001b[1;31mValueError\u001b[0m: Sorry, the data you've provided doesn't follow quadrilateral inequality"
     ]
    }
   ],
   "source": [
    "perimeter_trapezoid()"
   ]
  },
  {
   "cell_type": "markdown",
   "metadata": {},
   "source": [
    "```python\n",
    "class Nameoftheerror(Exception):\n",
    "    pass\n",
    "```"
   ]
  },
  {
   "cell_type": "code",
   "execution_count": 90,
   "metadata": {},
   "outputs": [],
   "source": [
    "class MathError(Exception):\n",
    "    pass"
   ]
  },
  {
   "cell_type": "code",
   "execution_count": 91,
   "metadata": {},
   "outputs": [],
   "source": [
    "def perimeter_trapezoid():\n",
    "\n",
    "    list_of_dimensions=input('Please provide 4 numbers separated with comma')\n",
    "    list_of_dimensions=list_of_dimensions.split(',')\n",
    "\n",
    "    list_of_dimensions=[float(i) for i in list_of_dimensions]\n",
    "\n",
    "    if max(list_of_dimensions)>=sum(list_of_dimensions)-max(list_of_dimensions):\n",
    "        raise MathError(\"Sorry, the data you've provided doesn't follow quadrilateral inequality\")\n",
    "        \n",
    "    \n",
    "    return sum(list_of_dimensions)"
   ]
  },
  {
   "cell_type": "code",
   "execution_count": 92,
   "metadata": {},
   "outputs": [
    {
     "name": "stdout",
     "output_type": "stream",
     "text": [
      "Please provide 4 numbers separated with comma1,2,3,100\n"
     ]
    },
    {
     "ename": "MathError",
     "evalue": "Sorry, the data you've provided doesn't follow quadrilateral inequality",
     "output_type": "error",
     "traceback": [
      "\u001b[1;31m---------------------------------------------------------------------------\u001b[0m",
      "\u001b[1;31mMathError\u001b[0m                                 Traceback (most recent call last)",
      "\u001b[1;32m<ipython-input-92-25be299594a4>\u001b[0m in \u001b[0;36m<module>\u001b[1;34m\u001b[0m\n\u001b[1;32m----> 1\u001b[1;33m \u001b[0mperimeter_trapezoid\u001b[0m\u001b[1;33m(\u001b[0m\u001b[1;33m)\u001b[0m\u001b[1;33m\u001b[0m\u001b[1;33m\u001b[0m\u001b[0m\n\u001b[0m",
      "\u001b[1;32m<ipython-input-91-83666b369129>\u001b[0m in \u001b[0;36mperimeter_trapezoid\u001b[1;34m()\u001b[0m\n\u001b[0;32m      7\u001b[0m \u001b[1;33m\u001b[0m\u001b[0m\n\u001b[0;32m      8\u001b[0m     \u001b[1;32mif\u001b[0m \u001b[0mmax\u001b[0m\u001b[1;33m(\u001b[0m\u001b[0mlist_of_dimensions\u001b[0m\u001b[1;33m)\u001b[0m\u001b[1;33m>=\u001b[0m\u001b[0msum\u001b[0m\u001b[1;33m(\u001b[0m\u001b[0mlist_of_dimensions\u001b[0m\u001b[1;33m)\u001b[0m\u001b[1;33m-\u001b[0m\u001b[0mmax\u001b[0m\u001b[1;33m(\u001b[0m\u001b[0mlist_of_dimensions\u001b[0m\u001b[1;33m)\u001b[0m\u001b[1;33m:\u001b[0m\u001b[1;33m\u001b[0m\u001b[1;33m\u001b[0m\u001b[0m\n\u001b[1;32m----> 9\u001b[1;33m         \u001b[1;32mraise\u001b[0m \u001b[0mMathError\u001b[0m\u001b[1;33m(\u001b[0m\u001b[1;34m\"Sorry, the data you've provided doesn't follow quadrilateral inequality\"\u001b[0m\u001b[1;33m)\u001b[0m\u001b[1;33m\u001b[0m\u001b[1;33m\u001b[0m\u001b[0m\n\u001b[0m\u001b[0;32m     10\u001b[0m \u001b[1;33m\u001b[0m\u001b[0m\n\u001b[0;32m     11\u001b[0m \u001b[1;33m\u001b[0m\u001b[0m\n",
      "\u001b[1;31mMathError\u001b[0m: Sorry, the data you've provided doesn't follow quadrilateral inequality"
     ]
    }
   ],
   "source": [
    "perimeter_trapezoid()"
   ]
  },
  {
   "cell_type": "markdown",
   "metadata": {},
   "source": [
    "# OOP"
   ]
  },
  {
   "cell_type": "code",
   "execution_count": null,
   "metadata": {},
   "outputs": [],
   "source": [
    "animal1=Tamagochi()\n",
    "animal1.feed()\n",
    "animal1.gotowalk()"
   ]
  },
  {
   "cell_type": "code",
   "execution_count": null,
   "metadata": {},
   "outputs": [],
   "source": [
    "lst=list()\n",
    "lst.count(value)\n",
    "lst.index(value)"
   ]
  },
  {
   "cell_type": "markdown",
   "metadata": {},
   "source": [
    "```python\n",
    "class name:\n",
    "    \n",
    "    global attributes #optional, will be applied to every object of a class\n",
    "    \n",
    "    def __init__(self, mandatory_arguments, optional_ones=default_values):\n",
    "        self.arg1=mandatory_arguments\n",
    "        self.arg2=optional_ones\n",
    "    \n",
    "    def all_other_functions(self, args):\n",
    "        statement\n",
    "```"
   ]
  },
  {
   "cell_type": "code",
   "execution_count": 95,
   "metadata": {},
   "outputs": [],
   "source": [
    "class MobilePhone:\n",
    "    \n",
    "    operating_system='Duck OS'\n",
    "    brand='McDuck Inc.'\n",
    "    \n",
    "    def __init__(self):\n",
    "        pass"
   ]
  },
  {
   "cell_type": "code",
   "execution_count": 96,
   "metadata": {},
   "outputs": [],
   "source": [
    "p1=MobilePhone()\n",
    "p2=MobilePhone()"
   ]
  },
  {
   "cell_type": "code",
   "execution_count": 97,
   "metadata": {},
   "outputs": [
    {
     "data": {
      "text/plain": [
       "<__main__.MobilePhone at 0x1b1379aa160>"
      ]
     },
     "execution_count": 97,
     "metadata": {},
     "output_type": "execute_result"
    }
   ],
   "source": [
    "p1"
   ]
  },
  {
   "cell_type": "code",
   "execution_count": 98,
   "metadata": {},
   "outputs": [
    {
     "data": {
      "text/plain": [
       "'Duck OS'"
      ]
     },
     "execution_count": 98,
     "metadata": {},
     "output_type": "execute_result"
    }
   ],
   "source": [
    "p1.operating_system"
   ]
  },
  {
   "cell_type": "code",
   "execution_count": 99,
   "metadata": {},
   "outputs": [
    {
     "data": {
      "text/plain": [
       "'Duck OS'"
      ]
     },
     "execution_count": 99,
     "metadata": {},
     "output_type": "execute_result"
    }
   ],
   "source": [
    "p2.operating_system"
   ]
  },
  {
   "cell_type": "code",
   "execution_count": 100,
   "metadata": {},
   "outputs": [],
   "source": [
    "class MobilePhone:\n",
    "    \n",
    "    operating_system='Duck OS'\n",
    "    brand='McDuck Inc.'\n",
    "    \n",
    "    def __init__(self, number, owners_name):\n",
    "        self.owner=owners_name\n",
    "        self.pn=number"
   ]
  },
  {
   "cell_type": "code",
   "execution_count": 102,
   "metadata": {},
   "outputs": [],
   "source": [
    "p1=MobilePhone(711111,'Uncle Scrooge')\n",
    "p2=MobilePhone(722222, 'Dewey')"
   ]
  },
  {
   "cell_type": "code",
   "execution_count": 34,
   "metadata": {},
   "outputs": [
    {
     "data": {
      "text/plain": [
       "'Duck OS'"
      ]
     },
     "execution_count": 34,
     "metadata": {},
     "output_type": "execute_result"
    }
   ],
   "source": [
    "p1.operating_system\n"
   ]
  },
  {
   "cell_type": "code",
   "execution_count": 104,
   "metadata": {},
   "outputs": [
    {
     "data": {
      "text/plain": [
       "'Duck OS'"
      ]
     },
     "execution_count": 104,
     "metadata": {},
     "output_type": "execute_result"
    }
   ],
   "source": [
    "p2.operating_system"
   ]
  },
  {
   "cell_type": "code",
   "execution_count": 105,
   "metadata": {},
   "outputs": [
    {
     "data": {
      "text/plain": [
       "711111"
      ]
     },
     "execution_count": 105,
     "metadata": {},
     "output_type": "execute_result"
    }
   ],
   "source": [
    "p1.pn"
   ]
  },
  {
   "cell_type": "code",
   "execution_count": 106,
   "metadata": {},
   "outputs": [
    {
     "data": {
      "text/plain": [
       "722222"
      ]
     },
     "execution_count": 106,
     "metadata": {},
     "output_type": "execute_result"
    }
   ],
   "source": [
    "p2.pn"
   ]
  },
  {
   "cell_type": "code",
   "execution_count": 1,
   "metadata": {},
   "outputs": [],
   "source": [
    "#wrapping it up\n",
    "contact_list={'Huey':711111, 'Dewey':722222, 'Louis':733333}\n",
    "received_calls=[]\n",
    "made_calls=[]\n",
    "sms_sent={}\n",
    "sms_received={}\n",
    "galery_of_photos=[]\n",
    "\n",
    "\n",
    "#add a contact\n",
    "def add_contact(name, number, contacts=contact_list):\n",
    "    \"\"\"\n",
    "    this function adds a new entry to the contact_list\n",
    "    inputs:\n",
    "    name - the name of a contact\n",
    "    number - the phone number of a contact\n",
    "    contacts - optional argument that represents the contact list\n",
    "    \n",
    "    Output:\n",
    "    updated contact_list\n",
    "    \"\"\"\n",
    "    flag=True\n",
    "    \n",
    "    while flag:\n",
    "        if name in contacts.keys():\n",
    "            print('Sorry, but the name is occupied already')\n",
    "            name=input('Please input a new name in the field below\\n')\n",
    "        else:\n",
    "            contacts.update({name:number})\n",
    "            flag=False\n",
    "            print('Thank you, the new contact is stored')\n",
    "    return contacts\n",
    "        \n",
    "#remove a contact\n",
    "def remove_a_contact(name, contacts=contact_list):\n",
    "    if name in contacts.keys():\n",
    "        del contacts[name]\n",
    "        print('Operation finished successfully')\n",
    "    else:\n",
    "        print('Sorry, you don\\'t know this name')\n",
    "    return contacts\n",
    "\n",
    "#phone calls\n",
    "def make_a_call(number, calls=made_calls, contacts=contact_list):\n",
    "    if number in contacts.values(): #add a name instead of number, assuming numbers are unique\n",
    "        name=[i for i in contacts if contacts[i]==number][0]\n",
    "            #[i for i,j in contacts.items() if j==number][0] could also work\n",
    "    else:\n",
    "        name=str(number)\n",
    "    print(f'Dialing {name}...')\n",
    "    calls.append(name)\n",
    "    return calls\n",
    "\n",
    "#phone calls\n",
    "def receive_a_call(number, calls=received_calls, contacts=contact_list):\n",
    "    if number in contacts.values(): #add a name instead of number, assuming numbers are unique\n",
    "        name=[i for i in contacts if contacts[i]==number][0]\n",
    "            #[i for i,j in contacts.items() if j==number][0] could also work\n",
    "    else:\n",
    "        name=str(number)\n",
    "    print(f'{name} is calling...')\n",
    "    calls.append(name)\n",
    "    return calls\n",
    "\n",
    "#send an sms\n",
    "def send_an_sms(number, text, sms=sms_sent, contacts=contact_list):\n",
    "    if number in contacts.values():\n",
    "        name=[i for i,j in contacts.items() if j==number][0]\n",
    "    else:\n",
    "        name=str(number)\n",
    "    print(f'Write a message to {name}:\\n\\n{text}')\n",
    "    \n",
    "    new_index=len(sms)+1\n",
    "    sms[new_index]={'name':name, 'text':text}\n",
    "    return sms\n",
    "\n",
    "#make a photo\n",
    "def make_a_photo():\n",
    "    global galery_of_photos #now all the changes we apply to this variable in the function will be stored in the variable outside the function\n",
    "    new_index=len(galery_of_photos)+1\n",
    "    galery_of_photos.append(f'{new_index}.jpg')\n",
    "    return None"
   ]
  },
  {
   "cell_type": "code",
   "execution_count": null,
   "metadata": {},
   "outputs": [],
   "source": []
  },
  {
   "cell_type": "code",
   "execution_count": 1,
   "metadata": {},
   "outputs": [],
   "source": [
    "from copy import deepcopy\n",
    "class MobilePhone:\n",
    "    \n",
    "    operating_system='Duck OS'\n",
    "    brand='McDuck Inc.'\n",
    "    \n",
    "    def __init__(self, number, owners_name):\n",
    "        self.owner=owners_name\n",
    "        self.pn=number\n",
    "        self.contact_list=dict()\n",
    "        self.received_calls=[]\n",
    "        self.made_calls=[]\n",
    "        self.sms_sent={}\n",
    "        self.sms_received={}\n",
    "    \n",
    "    def add_contact(self, number, name, inplace=False):\n",
    "        if inplace==False:\n",
    "            obj=deepcopy(self)\n",
    "        else:\n",
    "            obj=self\n",
    "        \n",
    "        flag=True\n",
    "        \n",
    "        while flag:\n",
    "            if name in obj.contact_list.keys():\n",
    "                print('Sorry, but the name is occupied already')\n",
    "                name=input('Please input a new name in the field below\\n')\n",
    "            else:\n",
    "                obj.contact_list.update({name:number})\n",
    "                flag=False\n",
    "                print('Thank you, the new contact is stored')\n",
    "        return obj if not inplace else None"
   ]
  },
  {
   "cell_type": "code",
   "execution_count": 2,
   "metadata": {},
   "outputs": [
    {
     "name": "stdout",
     "output_type": "stream",
     "text": [
      "Thank you, the new contact is stored\n"
     ]
    },
    {
     "data": {
      "text/plain": [
       "<__main__.MobilePhone at 0x7f92280106a0>"
      ]
     },
     "execution_count": 2,
     "metadata": {},
     "output_type": "execute_result"
    }
   ],
   "source": [
    "p1=MobilePhone(711111,'Uncle Scrooge')\n",
    "p2=MobilePhone(722222, 'Dewey')\n",
    "p1.add_contact(722222, 'Dewey')"
   ]
  },
  {
   "cell_type": "code",
   "execution_count": 45,
   "metadata": {},
   "outputs": [
    {
     "name": "stdout",
     "output_type": "stream",
     "text": [
      "Thank you, the new contact is stored\n"
     ]
    }
   ],
   "source": [
    "p1.add_contact(744444,'Dita',inplace=True)"
   ]
  },
  {
   "cell_type": "code",
   "execution_count": 46,
   "metadata": {},
   "outputs": [
    {
     "data": {
      "text/plain": [
       "{'Edwin': 733333, 'Dita': 744444}"
      ]
     },
     "execution_count": 46,
     "metadata": {},
     "output_type": "execute_result"
    }
   ],
   "source": [
    "p1.contact_list"
   ]
  },
  {
   "cell_type": "code",
   "execution_count": 47,
   "metadata": {},
   "outputs": [],
   "source": [
    "p2=MobilePhone(722222, 'Dewey')"
   ]
  },
  {
   "cell_type": "code",
   "execution_count": 3,
   "metadata": {},
   "outputs": [
    {
     "name": "stdout",
     "output_type": "stream",
     "text": [
      "Thank you, the new contact is stored\n"
     ]
    }
   ],
   "source": [
    "p2.add_contact(744444,'Dita',inplace=True)"
   ]
  },
  {
   "cell_type": "code",
   "execution_count": 5,
   "metadata": {},
   "outputs": [
    {
     "ename": "NameError",
     "evalue": "name 'contact_list' is not defined",
     "output_type": "error",
     "traceback": [
      "\u001b[0;31m---------------------------------------------------------------------------\u001b[0m",
      "\u001b[0;31mNameError\u001b[0m                                 Traceback (most recent call last)",
      "\u001b[0;32m<ipython-input-5-8a3e41107e60>\u001b[0m in \u001b[0;36m<module>\u001b[0;34m\u001b[0m\n\u001b[0;32m----> 1\u001b[0;31m \u001b[0mcontact_list\u001b[0m\u001b[0;34m\u001b[0m\u001b[0;34m\u001b[0m\u001b[0m\n\u001b[0m",
      "\u001b[0;31mNameError\u001b[0m: name 'contact_list' is not defined"
     ]
    }
   ],
   "source": [
    "p2.contact_list"
   ]
  },
  {
   "cell_type": "code",
   "execution_count": 123,
   "metadata": {},
   "outputs": [
    {
     "name": "stdout",
     "output_type": "stream",
     "text": [
      "Thank you, the new contact is stored\n"
     ]
    },
    {
     "data": {
      "text/plain": [
       "{'Dewey': 722222}"
      ]
     },
     "execution_count": 123,
     "metadata": {},
     "output_type": "execute_result"
    }
   ],
   "source": [
    "p1.add_contact(722222, 'Dewey', inplace=True)\n",
    "p1.contact_list"
   ]
  },
  {
   "cell_type": "code",
   "execution_count": 124,
   "metadata": {},
   "outputs": [
    {
     "name": "stdout",
     "output_type": "stream",
     "text": [
      "Sorry, but the name is occupied already\n",
      "Please input a new name in the field below\n",
      "Louis\n",
      "Thank you, the new contact is stored\n"
     ]
    }
   ],
   "source": [
    "p3=p1.add_contact(722222, 'Dewey', inplace=False)\n"
   ]
  },
  {
   "cell_type": "code",
   "execution_count": 125,
   "metadata": {},
   "outputs": [
    {
     "data": {
      "text/plain": [
       "{'Dewey': 722222, 'Louis': 722222}"
      ]
     },
     "execution_count": 125,
     "metadata": {},
     "output_type": "execute_result"
    }
   ],
   "source": [
    "p3.contact_list"
   ]
  },
  {
   "cell_type": "code",
   "execution_count": 126,
   "metadata": {},
   "outputs": [
    {
     "data": {
      "text/plain": [
       "{'Dewey': 722222}"
      ]
     },
     "execution_count": 126,
     "metadata": {},
     "output_type": "execute_result"
    }
   ],
   "source": [
    "p1.contact_list"
   ]
  },
  {
   "cell_type": "code",
   "execution_count": 134,
   "metadata": {},
   "outputs": [],
   "source": [
    "from copy import deepcopy\n",
    "class MobilePhone:\n",
    "    \n",
    "    operating_system='Duck OS'\n",
    "    brand='McDuck Inc.'\n",
    "    \n",
    "    def __init__(self, number, owners_name):\n",
    "        self.owner=owners_name\n",
    "        self.pn=number\n",
    "        self.contact_list=dict()\n",
    "        self.received_calls=[]\n",
    "        self.made_calls=[]\n",
    "        self.sms_sent={}\n",
    "        self.sms_received={}\n",
    "    \n",
    "    def add_contact(self, number, name, inplace=False):\n",
    "        if inplace==False:\n",
    "            obj=deepcopy(self)\n",
    "        else:\n",
    "            obj=self\n",
    "        \n",
    "        flag=True\n",
    "        \n",
    "        while flag:\n",
    "            if name in obj.contact_list.keys():\n",
    "                print('Sorry, but the name is occupied already')\n",
    "                name=input('Please input a new name in the field below\\n')\n",
    "            else:\n",
    "                obj.contact_list.update({name:number})\n",
    "                flag=False\n",
    "                print('Thank you, the new contact is stored')\n",
    "        return obj if not inplace else None\n",
    "    \n",
    "    def remove_a_contact(self, name):\n",
    "        if name in self.contact_list.keys():\n",
    "            del self.contact_list[name]\n",
    "            print('Operation finished successfully')\n",
    "        else:\n",
    "            print('Sorry, you don\\'t know this name')\n"
   ]
  },
  {
   "cell_type": "code",
   "execution_count": 135,
   "metadata": {},
   "outputs": [
    {
     "name": "stdout",
     "output_type": "stream",
     "text": [
      "Thank you, the new contact is stored\n"
     ]
    }
   ],
   "source": [
    "p1=MobilePhone(711111,'Uncle Scrooge')\n",
    "p2=MobilePhone(722222, 'Dewey')\n",
    "p1.add_contact(722222, 'Dewey', inplace=True)"
   ]
  },
  {
   "cell_type": "code",
   "execution_count": 137,
   "metadata": {},
   "outputs": [
    {
     "data": {
      "text/plain": [
       "{'Dewey': 722222}"
      ]
     },
     "execution_count": 137,
     "metadata": {},
     "output_type": "execute_result"
    }
   ],
   "source": [
    "p1.contact_list"
   ]
  },
  {
   "cell_type": "code",
   "execution_count": 138,
   "metadata": {},
   "outputs": [
    {
     "name": "stdout",
     "output_type": "stream",
     "text": [
      "Operation finished successfully\n"
     ]
    }
   ],
   "source": [
    "p1.remove_a_contact('Dewey')"
   ]
  },
  {
   "cell_type": "code",
   "execution_count": 139,
   "metadata": {},
   "outputs": [
    {
     "data": {
      "text/plain": [
       "{}"
      ]
     },
     "execution_count": 139,
     "metadata": {},
     "output_type": "execute_result"
    }
   ],
   "source": [
    "p1.contact_list"
   ]
  },
  {
   "cell_type": "code",
   "execution_count": 140,
   "metadata": {},
   "outputs": [
    {
     "name": "stdout",
     "output_type": "stream",
     "text": [
      "Sorry, you don't know this name\n"
     ]
    }
   ],
   "source": [
    "p1.remove_a_contact('Dewey')"
   ]
  },
  {
   "cell_type": "code",
   "execution_count": 3,
   "metadata": {},
   "outputs": [],
   "source": [
    "from copy import deepcopy\n",
    "class MobilePhone:\n",
    "    \n",
    "    operating_system='Duck OS'\n",
    "    brand='McDuck Inc.'\n",
    "    \n",
    "    def __init__(self, number, owners_name):\n",
    "        self.owner=owners_name\n",
    "        self.pn=number\n",
    "        self.contact_list=dict()\n",
    "        self.received_calls=[]\n",
    "        self.made_calls=[]\n",
    "        self.sms_sent={}\n",
    "        self.sms_received={}\n",
    "    \n",
    "    def add_contact(self, number, name, inplace=False):\n",
    "        if inplace==False:\n",
    "            obj=deepcopy(self)\n",
    "        else:\n",
    "            obj=self\n",
    "        \n",
    "        flag=True\n",
    "        \n",
    "        while flag:\n",
    "            if name in obj.contact_list.keys():\n",
    "                print('Sorry, but the name is occupied already')\n",
    "                name=input('Please input a new name in the field below\\n')\n",
    "            else:\n",
    "                obj.contact_list.update({name:number})\n",
    "                flag=False\n",
    "                print('Thank you, the new contact is stored')\n",
    "        return obj if not inplace else None\n",
    "    \n",
    "    def remove_a_contact(self, name):\n",
    "        if name in self.contact_list.keys():\n",
    "            del self.contact_list[name]\n",
    "            print('Operation finished successfully')\n",
    "        else:\n",
    "            print('Sorry, you don\\'t know this name')\n",
    "\n",
    "    def make_a_call(self, recipient):\n",
    "        \"\"\"\n",
    "        Function performs a phone call from self to recipient.\n",
    "        Both self and recipient must be MobilePhone instances.\n",
    "        \"\"\"\n",
    "        #self part\n",
    "        if recipient.pn in self.contact_list.values(): #add a name instead of number, assuming numbers are unique\n",
    "            name=recipient.owner\n",
    "        else:\n",
    "            name=str(recipient.pn)\n",
    "        \n",
    "        print(f'Dialing {name}...')\n",
    "        self.made_calls.append(name)\n",
    "        \n",
    "        #recipient part\n",
    "        if self.pn in recipient.contact_list.values(): #add a name instead of number, assuming numbers are unique\n",
    "            name=self.owner\n",
    "        else:\n",
    "            name=str(self.pn)\n",
    "        \n",
    "        recipient.received_calls.append(name)        "
   ]
  },
  {
   "cell_type": "code",
   "execution_count": 6,
   "metadata": {},
   "outputs": [
    {
     "name": "stdout",
     "output_type": "stream",
     "text": [
      "Thank you, the new contact is stored\n"
     ]
    }
   ],
   "source": [
    "p1=MobilePhone(711111,'Uncle Scrooge')\n",
    "p2=MobilePhone(722222, 'Dewey')\n",
    "p1.add_contact(722222, 'Dewey', inplace=True)"
   ]
  },
  {
   "cell_type": "code",
   "execution_count": 7,
   "metadata": {},
   "outputs": [
    {
     "ename": "AttributeError",
     "evalue": "'str' object has no attribute 'pn'",
     "output_type": "error",
     "traceback": [
      "\u001b[0;31m---------------------------------------------------------------------------\u001b[0m",
      "\u001b[0;31mAttributeError\u001b[0m                            Traceback (most recent call last)",
      "\u001b[0;32m<ipython-input-7-7ca13adf2c17>\u001b[0m in \u001b[0;36m<module>\u001b[0;34m\u001b[0m\n\u001b[0;32m----> 1\u001b[0;31m \u001b[0mp1\u001b[0m\u001b[0;34m.\u001b[0m\u001b[0mmake_a_call\u001b[0m\u001b[0;34m(\u001b[0m\u001b[0;34m'Dewey'\u001b[0m\u001b[0;34m)\u001b[0m\u001b[0;34m\u001b[0m\u001b[0;34m\u001b[0m\u001b[0m\n\u001b[0m",
      "\u001b[0;32m<ipython-input-3-28416536f9ee>\u001b[0m in \u001b[0;36mmake_a_call\u001b[0;34m(self, recipient)\u001b[0m\n\u001b[1;32m     45\u001b[0m         \"\"\"\n\u001b[1;32m     46\u001b[0m         \u001b[0;31m#self part\u001b[0m\u001b[0;34m\u001b[0m\u001b[0;34m\u001b[0m\u001b[0;34m\u001b[0m\u001b[0m\n\u001b[0;32m---> 47\u001b[0;31m         \u001b[0;32mif\u001b[0m \u001b[0mrecipient\u001b[0m\u001b[0;34m.\u001b[0m\u001b[0mpn\u001b[0m \u001b[0;32min\u001b[0m \u001b[0mself\u001b[0m\u001b[0;34m.\u001b[0m\u001b[0mcontact_list\u001b[0m\u001b[0;34m.\u001b[0m\u001b[0mvalues\u001b[0m\u001b[0;34m(\u001b[0m\u001b[0;34m)\u001b[0m\u001b[0;34m:\u001b[0m \u001b[0;31m#add a name instead of number, assuming numbers are unique\u001b[0m\u001b[0;34m\u001b[0m\u001b[0;34m\u001b[0m\u001b[0m\n\u001b[0m\u001b[1;32m     48\u001b[0m             \u001b[0mname\u001b[0m\u001b[0;34m=\u001b[0m\u001b[0mrecipient\u001b[0m\u001b[0;34m.\u001b[0m\u001b[0mowner\u001b[0m\u001b[0;34m\u001b[0m\u001b[0;34m\u001b[0m\u001b[0m\n\u001b[1;32m     49\u001b[0m         \u001b[0;32melse\u001b[0m\u001b[0;34m:\u001b[0m\u001b[0;34m\u001b[0m\u001b[0;34m\u001b[0m\u001b[0m\n",
      "\u001b[0;31mAttributeError\u001b[0m: 'str' object has no attribute 'pn'"
     ]
    }
   ],
   "source": [
    "p1.make_a_call('Dewey')"
   ]
  },
  {
   "cell_type": "code",
   "execution_count": 26,
   "metadata": {},
   "outputs": [
    {
     "name": "stdout",
     "output_type": "stream",
     "text": [
      "Dialing Dewey...\n"
     ]
    }
   ],
   "source": [
    "p1.make_a_call(p2)"
   ]
  },
  {
   "cell_type": "code",
   "execution_count": 27,
   "metadata": {},
   "outputs": [
    {
     "ename": "AttributeError",
     "evalue": "'str' object has no attribute 'pn'",
     "output_type": "error",
     "traceback": [
      "\u001b[0;31m---------------------------------------------------------------------------\u001b[0m",
      "\u001b[0;31mAttributeError\u001b[0m                            Traceback (most recent call last)",
      "\u001b[0;32m<ipython-input-27-7ca13adf2c17>\u001b[0m in \u001b[0;36m<module>\u001b[0;34m\u001b[0m\n\u001b[0;32m----> 1\u001b[0;31m \u001b[0mp1\u001b[0m\u001b[0;34m.\u001b[0m\u001b[0mmake_a_call\u001b[0m\u001b[0;34m(\u001b[0m\u001b[0;34m'Dewey'\u001b[0m\u001b[0;34m)\u001b[0m\u001b[0;34m\u001b[0m\u001b[0;34m\u001b[0m\u001b[0m\n\u001b[0m",
      "\u001b[0;32m<ipython-input-3-28416536f9ee>\u001b[0m in \u001b[0;36mmake_a_call\u001b[0;34m(self, recipient)\u001b[0m\n\u001b[1;32m     45\u001b[0m         \"\"\"\n\u001b[1;32m     46\u001b[0m         \u001b[0;31m#self part\u001b[0m\u001b[0;34m\u001b[0m\u001b[0;34m\u001b[0m\u001b[0;34m\u001b[0m\u001b[0m\n\u001b[0;32m---> 47\u001b[0;31m         \u001b[0;32mif\u001b[0m \u001b[0mrecipient\u001b[0m\u001b[0;34m.\u001b[0m\u001b[0mpn\u001b[0m \u001b[0;32min\u001b[0m \u001b[0mself\u001b[0m\u001b[0;34m.\u001b[0m\u001b[0mcontact_list\u001b[0m\u001b[0;34m.\u001b[0m\u001b[0mvalues\u001b[0m\u001b[0;34m(\u001b[0m\u001b[0;34m)\u001b[0m\u001b[0;34m:\u001b[0m \u001b[0;31m#add a name instead of number, assuming numbers are unique\u001b[0m\u001b[0;34m\u001b[0m\u001b[0;34m\u001b[0m\u001b[0m\n\u001b[0m\u001b[1;32m     48\u001b[0m             \u001b[0mname\u001b[0m\u001b[0;34m=\u001b[0m\u001b[0mrecipient\u001b[0m\u001b[0;34m.\u001b[0m\u001b[0mowner\u001b[0m\u001b[0;34m\u001b[0m\u001b[0;34m\u001b[0m\u001b[0m\n\u001b[1;32m     49\u001b[0m         \u001b[0;32melse\u001b[0m\u001b[0;34m:\u001b[0m\u001b[0;34m\u001b[0m\u001b[0;34m\u001b[0m\u001b[0m\n",
      "\u001b[0;31mAttributeError\u001b[0m: 'str' object has no attribute 'pn'"
     ]
    }
   ],
   "source": []
  },
  {
   "cell_type": "code",
   "execution_count": 147,
   "metadata": {},
   "outputs": [
    {
     "data": {
      "text/plain": [
       "['Dewey']"
      ]
     },
     "execution_count": 147,
     "metadata": {},
     "output_type": "execute_result"
    }
   ],
   "source": [
    "p1.made_calls"
   ]
  },
  {
   "cell_type": "code",
   "execution_count": 148,
   "metadata": {},
   "outputs": [
    {
     "data": {
      "text/plain": [
       "['711111']"
      ]
     },
     "execution_count": 148,
     "metadata": {},
     "output_type": "execute_result"
    }
   ],
   "source": [
    "p2.received_calls"
   ]
  },
  {
   "cell_type": "code",
   "execution_count": 150,
   "metadata": {},
   "outputs": [],
   "source": [
    "from copy import deepcopy\n",
    "class MobilePhone:\n",
    "    \n",
    "    operating_system='Duck OS'\n",
    "    brand='McDuck Inc.'\n",
    "    \n",
    "    def __init__(self, number, owners_name):\n",
    "        self.owner=owners_name\n",
    "        self.pn=number\n",
    "        self.contact_list=dict()\n",
    "        self.received_calls=[]\n",
    "        self.made_calls=[]\n",
    "        self.sms_sent={}\n",
    "        self.sms_received={}\n",
    "    \n",
    "    def add_contact(self, number, name, inplace=False):\n",
    "        if inplace==False:\n",
    "            obj=deepcopy(self)\n",
    "        else:\n",
    "            obj=self\n",
    "        \n",
    "        flag=True\n",
    "        \n",
    "        while flag:\n",
    "            if name in obj.contact_list.keys():\n",
    "                print('Sorry, but the name is occupied already')\n",
    "                name=input('Please input a new name in the field below\\n')\n",
    "            else:\n",
    "                obj.contact_list.update({name:number})\n",
    "                flag=False\n",
    "                print('Thank you, the new contact is stored')\n",
    "        return obj if not inplace else None\n",
    "    \n",
    "    def remove_a_contact(self, name):\n",
    "        if name in self.contact_list.keys():\n",
    "            del self.contact_list[name]\n",
    "            print('Operation finished successfully')\n",
    "        else:\n",
    "            print('Sorry, you don\\'t know this name')\n",
    "\n",
    "    def make_a_call(self, recipient):\n",
    "        \"\"\"\n",
    "        Function performs a phone call from self to recipient.\n",
    "        Both self and recipient must be MobilePhone instances.\n",
    "        \"\"\"\n",
    "        #self part\n",
    "        if recipient.pn in self.contact_list.values(): #add a name instead of number, assuming numbers are unique\n",
    "            name=recipient.owner\n",
    "        else:\n",
    "            name=str(recipient.pn)\n",
    "        \n",
    "        print(f'Dialing {name}...')\n",
    "        self.made_calls.append(name)\n",
    "        \n",
    "        #recipient part\n",
    "        if self.pn in recipient.contact_list.values(): #add a name instead of number, assuming numbers are unique\n",
    "            name=self.owner\n",
    "        else:\n",
    "            name=str(self.pn)\n",
    "        \n",
    "        recipient.received_calls.append(name)        \n",
    "        \n",
    "    def send_an_sms(self, recipient, text):\n",
    "        #self part\n",
    "        if recipient.pn in self.contact_list.values(): #add a name instead of number, assuming numbers are unique\n",
    "            name=recipient.owner\n",
    "        else:\n",
    "            name=str(recipient.pn)\n",
    "            \n",
    "        print(f'Write a message to {name}:\\n\\n{text}')\n",
    "\n",
    "        new_index=len(self.sms_sent)+1\n",
    "        self.sms_sent[new_index]={'name':name, 'text':text}\n",
    "        \n",
    "        #recipient part\n",
    "        if self.pn in recipient.contact_list.values(): #add a name instead of number, assuming numbers are unique\n",
    "            name=self.owner\n",
    "        else:\n",
    "            name=str(self.pn)\n",
    "            \n",
    "        new_index=len(recipient.sms_received)+1\n",
    "        recipient.sms_received[new_index]={'name':name, 'text':text}        "
   ]
  },
  {
   "cell_type": "code",
   "execution_count": 151,
   "metadata": {},
   "outputs": [
    {
     "name": "stdout",
     "output_type": "stream",
     "text": [
      "Thank you, the new contact is stored\n"
     ]
    }
   ],
   "source": [
    "p1=MobilePhone(711111,'Uncle Scrooge')\n",
    "p2=MobilePhone(722222, 'Dewey')\n",
    "p1.add_contact(722222, 'Dewey', inplace=True)"
   ]
  },
  {
   "cell_type": "code",
   "execution_count": 152,
   "metadata": {},
   "outputs": [
    {
     "name": "stdout",
     "output_type": "stream",
     "text": [
      "Write a message to Dewey:\n",
      "\n",
      "Heyho Dewey! We are leaving to Olympia to participate in Olympics! If you are not here in 2 minutes, we are leaving without you! RUSH!!!\n"
     ]
    }
   ],
   "source": [
    "p1.send_an_sms(p2, 'Heyho Dewey! We are leaving to Olympia to participate in Olympics! If you are not here in 2 minutes, we are leaving without you! RUSH!!!')"
   ]
  },
  {
   "cell_type": "code",
   "execution_count": 153,
   "metadata": {},
   "outputs": [
    {
     "data": {
      "text/plain": [
       "{1: {'name': 'Dewey',\n",
       "  'text': 'Heyho Dewey! We are leaving to Olympia to participate in Olympics! If you are not here in 2 minutes, we are leaving without you! RUSH!!!'}}"
      ]
     },
     "execution_count": 153,
     "metadata": {},
     "output_type": "execute_result"
    }
   ],
   "source": [
    "p1.sms_sent"
   ]
  },
  {
   "cell_type": "code",
   "execution_count": 154,
   "metadata": {},
   "outputs": [
    {
     "data": {
      "text/plain": [
       "{}"
      ]
     },
     "execution_count": 154,
     "metadata": {},
     "output_type": "execute_result"
    }
   ],
   "source": [
    "p1.sms_received"
   ]
  },
  {
   "cell_type": "code",
   "execution_count": 155,
   "metadata": {},
   "outputs": [
    {
     "data": {
      "text/plain": [
       "{1: {'name': '711111',\n",
       "  'text': 'Heyho Dewey! We are leaving to Olympia to participate in Olympics! If you are not here in 2 minutes, we are leaving without you! RUSH!!!'}}"
      ]
     },
     "execution_count": 155,
     "metadata": {},
     "output_type": "execute_result"
    }
   ],
   "source": [
    "p2.sms_received"
   ]
  },
  {
   "cell_type": "code",
   "execution_count": 175,
   "metadata": {},
   "outputs": [],
   "source": [
    "class CameraPhone(MobilePhone):\n",
    "    \n",
    "    def __init__(self,  number, owners_name):\n",
    "        super().__init__(number, owners_name)\n",
    "        self.gallery=list()\n",
    "    \n",
    "    def make_a_photo(self):\n",
    "        new_index=len(self.gallery)+1\n",
    "        self.gallery.append(f'{new_index}.jpg')\n",
    "        print(f'photo {self.gallery[-1]} is saved')"
   ]
  },
  {
   "cell_type": "code",
   "execution_count": 176,
   "metadata": {},
   "outputs": [],
   "source": [
    "cp=CameraPhone(733333, 'Louis')"
   ]
  },
  {
   "cell_type": "code",
   "execution_count": 177,
   "metadata": {},
   "outputs": [
    {
     "data": {
      "text/plain": [
       "733333"
      ]
     },
     "execution_count": 177,
     "metadata": {},
     "output_type": "execute_result"
    }
   ],
   "source": [
    "cp.pn"
   ]
  },
  {
   "cell_type": "code",
   "execution_count": 178,
   "metadata": {},
   "outputs": [
    {
     "data": {
      "text/plain": [
       "'Louis'"
      ]
     },
     "execution_count": 178,
     "metadata": {},
     "output_type": "execute_result"
    }
   ],
   "source": [
    "cp.owner"
   ]
  },
  {
   "cell_type": "code",
   "execution_count": 179,
   "metadata": {},
   "outputs": [
    {
     "data": {
      "text/plain": [
       "{}"
      ]
     },
     "execution_count": 179,
     "metadata": {},
     "output_type": "execute_result"
    }
   ],
   "source": [
    "cp.contact_list"
   ]
  },
  {
   "cell_type": "code",
   "execution_count": 180,
   "metadata": {},
   "outputs": [
    {
     "data": {
      "text/plain": [
       "[]"
      ]
     },
     "execution_count": 180,
     "metadata": {},
     "output_type": "execute_result"
    }
   ],
   "source": [
    "cp.gallery"
   ]
  },
  {
   "cell_type": "code",
   "execution_count": 181,
   "metadata": {},
   "outputs": [
    {
     "name": "stdout",
     "output_type": "stream",
     "text": [
      "photo 1.jpg is saved\n"
     ]
    }
   ],
   "source": [
    "cp.make_a_photo()"
   ]
  },
  {
   "cell_type": "code",
   "execution_count": 182,
   "metadata": {},
   "outputs": [
    {
     "name": "stdout",
     "output_type": "stream",
     "text": [
      "photo 2.jpg is saved\n"
     ]
    }
   ],
   "source": [
    "cp.make_a_photo()"
   ]
  },
  {
   "cell_type": "code",
   "execution_count": 183,
   "metadata": {},
   "outputs": [
    {
     "name": "stdout",
     "output_type": "stream",
     "text": [
      "photo 3.jpg is saved\n"
     ]
    }
   ],
   "source": [
    "cp.make_a_photo()"
   ]
  },
  {
   "cell_type": "code",
   "execution_count": 184,
   "metadata": {},
   "outputs": [
    {
     "data": {
      "text/plain": [
       "['1.jpg', '2.jpg', '3.jpg']"
      ]
     },
     "execution_count": 184,
     "metadata": {},
     "output_type": "execute_result"
    }
   ],
   "source": [
    "cp.gallery"
   ]
  },
  {
   "cell_type": "code",
   "execution_count": 185,
   "metadata": {},
   "outputs": [
    {
     "name": "stdout",
     "output_type": "stream",
     "text": [
      "Dialing 711111...\n"
     ]
    }
   ],
   "source": [
    "cp.make_a_call(p1)"
   ]
  },
  {
   "cell_type": "code",
   "execution_count": 186,
   "metadata": {},
   "outputs": [
    {
     "data": {
      "text/plain": [
       "['711111']"
      ]
     },
     "execution_count": 186,
     "metadata": {},
     "output_type": "execute_result"
    }
   ],
   "source": [
    "cp.made_calls"
   ]
  },
  {
   "cell_type": "code",
   "execution_count": 187,
   "metadata": {},
   "outputs": [
    {
     "data": {
      "text/plain": [
       "['733333']"
      ]
     },
     "execution_count": 187,
     "metadata": {},
     "output_type": "execute_result"
    }
   ],
   "source": [
    "p1.received_calls"
   ]
  },
  {
   "cell_type": "code",
   "execution_count": 188,
   "metadata": {},
   "outputs": [
    {
     "data": {
      "text/plain": [
       "['1.jpg', '2.jpg', '3.jpg']"
      ]
     },
     "execution_count": 188,
     "metadata": {},
     "output_type": "execute_result"
    }
   ],
   "source": [
    "cp.gallery"
   ]
  },
  {
   "cell_type": "code",
   "execution_count": 189,
   "metadata": {},
   "outputs": [
    {
     "ename": "AttributeError",
     "evalue": "'MobilePhone' object has no attribute 'make_a_photo'",
     "output_type": "error",
     "traceback": [
      "\u001b[1;31m---------------------------------------------------------------------------\u001b[0m",
      "\u001b[1;31mAttributeError\u001b[0m                            Traceback (most recent call last)",
      "\u001b[1;32m<ipython-input-189-71f5caf7eda9>\u001b[0m in \u001b[0;36m<module>\u001b[1;34m\u001b[0m\n\u001b[1;32m----> 1\u001b[1;33m \u001b[0mp1\u001b[0m\u001b[1;33m.\u001b[0m\u001b[0mmake_a_photo\u001b[0m\u001b[1;33m(\u001b[0m\u001b[1;33m)\u001b[0m\u001b[1;33m\u001b[0m\u001b[1;33m\u001b[0m\u001b[0m\n\u001b[0m",
      "\u001b[1;31mAttributeError\u001b[0m: 'MobilePhone' object has no attribute 'make_a_photo'"
     ]
    }
   ],
   "source": [
    "p1.make_a_photo()"
   ]
  },
  {
   "cell_type": "code",
   "execution_count": 190,
   "metadata": {},
   "outputs": [
    {
     "data": {
      "text/plain": [
       "'Duck OS'"
      ]
     },
     "execution_count": 190,
     "metadata": {},
     "output_type": "execute_result"
    }
   ],
   "source": [
    "p1.operating_system"
   ]
  },
  {
   "cell_type": "code",
   "execution_count": 191,
   "metadata": {},
   "outputs": [
    {
     "data": {
      "text/plain": [
       "'Duck OS'"
      ]
     },
     "execution_count": 191,
     "metadata": {},
     "output_type": "execute_result"
    }
   ],
   "source": [
    "cp.operating_system"
   ]
  },
  {
   "cell_type": "code",
   "execution_count": 24,
   "metadata": {},
   "outputs": [],
   "source": [
    "class Test:\n",
    "    \n",
    "    def __init__(self, number, result):\n",
    "        self.num=number\n",
    "        self.res=result\n",
    "    \n",
    "    def testbranch(self,branch):\n",
    "        final=branch.number\n",
    "        print(final)\n",
    "   \n",
    "    "
   ]
  },
  {
   "cell_type": "code",
   "execution_count": 31,
   "metadata": {},
   "outputs": [
    {
     "ename": "AttributeError",
     "evalue": "'Test' object has no attribute 'number'",
     "output_type": "error",
     "traceback": [
      "\u001b[0;31m---------------------------------------------------------------------------\u001b[0m",
      "\u001b[0;31mAttributeError\u001b[0m                            Traceback (most recent call last)",
      "\u001b[0;32m<ipython-input-31-755ba8a31053>\u001b[0m in \u001b[0;36m<module>\u001b[0;34m\u001b[0m\n\u001b[1;32m      2\u001b[0m \u001b[0mt2\u001b[0m\u001b[0;34m=\u001b[0m\u001b[0mTest\u001b[0m\u001b[0;34m(\u001b[0m\u001b[0;36m1\u001b[0m\u001b[0;34m,\u001b[0m\u001b[0;36m5\u001b[0m\u001b[0;34m)\u001b[0m\u001b[0;34m\u001b[0m\u001b[0;34m\u001b[0m\u001b[0m\n\u001b[1;32m      3\u001b[0m \u001b[0;34m\u001b[0m\u001b[0m\n\u001b[0;32m----> 4\u001b[0;31m \u001b[0mt1\u001b[0m\u001b[0;34m.\u001b[0m\u001b[0mtestbranch\u001b[0m\u001b[0;34m(\u001b[0m\u001b[0mt2\u001b[0m\u001b[0;34m)\u001b[0m\u001b[0;34m\u001b[0m\u001b[0;34m\u001b[0m\u001b[0m\n\u001b[0m",
      "\u001b[0;32m<ipython-input-24-0089397fbafe>\u001b[0m in \u001b[0;36mtestbranch\u001b[0;34m(self, branch)\u001b[0m\n\u001b[1;32m      6\u001b[0m \u001b[0;34m\u001b[0m\u001b[0m\n\u001b[1;32m      7\u001b[0m     \u001b[0;32mdef\u001b[0m \u001b[0mtestbranch\u001b[0m\u001b[0;34m(\u001b[0m\u001b[0mself\u001b[0m\u001b[0;34m,\u001b[0m\u001b[0mbranch\u001b[0m\u001b[0;34m)\u001b[0m\u001b[0;34m:\u001b[0m\u001b[0;34m\u001b[0m\u001b[0;34m\u001b[0m\u001b[0m\n\u001b[0;32m----> 8\u001b[0;31m         \u001b[0mfinal\u001b[0m\u001b[0;34m=\u001b[0m\u001b[0mbranch\u001b[0m\u001b[0;34m.\u001b[0m\u001b[0mnumber\u001b[0m\u001b[0;34m\u001b[0m\u001b[0;34m\u001b[0m\u001b[0m\n\u001b[0m\u001b[1;32m      9\u001b[0m         \u001b[0mprint\u001b[0m\u001b[0;34m(\u001b[0m\u001b[0mfinal\u001b[0m\u001b[0;34m)\u001b[0m\u001b[0;34m\u001b[0m\u001b[0;34m\u001b[0m\u001b[0m\n\u001b[1;32m     10\u001b[0m \u001b[0;34m\u001b[0m\u001b[0m\n",
      "\u001b[0;31mAttributeError\u001b[0m: 'Test' object has no attribute 'number'"
     ]
    }
   ],
   "source": [
    "t1=Test(10,20)\n",
    "t2=Test(1,5)\n",
    "\n",
    "t1.testbranch(t2)"
   ]
  },
  {
   "cell_type": "code",
   "execution_count": null,
   "metadata": {},
   "outputs": [],
   "source": []
  }
 ],
 "metadata": {
  "kernelspec": {
   "display_name": "Python 3",
   "language": "python",
   "name": "python3"
  },
  "language_info": {
   "codemirror_mode": {
    "name": "ipython",
    "version": 3
   },
   "file_extension": ".py",
   "mimetype": "text/x-python",
   "name": "python",
   "nbconvert_exporter": "python",
   "pygments_lexer": "ipython3",
   "version": "3.8.5"
  }
 },
 "nbformat": 4,
 "nbformat_minor": 4
}
