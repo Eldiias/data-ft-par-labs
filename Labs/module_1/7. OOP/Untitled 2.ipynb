{
 "cells": [
  {
   "cell_type": "markdown",
   "metadata": {},
   "source": [
    "# Mobile phone - functionnal programming"
   ]
  },
  {
   "cell_type": "code",
   "execution_count": 33,
   "metadata": {},
   "outputs": [],
   "source": [
    "contact_list={'Huey':711111, 'Dewey':722222, 'Louis': 733333}\n",
    "received_calls=[]\n",
    "made_calls=[]\n",
    "sms_sent={}\n",
    "sms_received={}\n",
    "galery_of_photos=[]"
   ]
  },
  {
   "cell_type": "markdown",
   "metadata": {},
   "source": [
    "```python\n",
    "def name_of_function(mandatory_args, optional_arguments=default_value)\n",
    "    \"\"\"\"documentation\"\"\" #optional \n",
    "    statements\n",
    "    return output\n",
    "```"
   ]
  },
  {
   "cell_type": "code",
   "execution_count": 34,
   "metadata": {},
   "outputs": [],
   "source": [
    "#add a contact\n",
    "def add_contact(name,number, contacts=contact_list):\n",
    "    \"\"\"\"\n",
    "    this function adds a new entry to the contact_list\n",
    "    inputs :\n",
    "    name - the name of a contact\n",
    "    number - the phone number of a contact \n",
    "    contacts - optional argument that represent the contact list \n",
    "    \n",
    "    Output:\n",
    "    updated contact_list\n",
    "    \"\"\"\n",
    "    flag=True\n",
    "    \n",
    "    while flag:\n",
    "        if name in contacts.keys():\n",
    "            print('Sorry, but the name is occupied already')\n",
    "            name=input('Please input a new name in the field below\\n')\n",
    "        else:\n",
    "            contacts.update({name:number})\n",
    "            flag=False\n",
    "            print('Thank you, the new contact is stored')\n",
    "    return contacts"
   ]
  },
  {
   "cell_type": "code",
   "execution_count": 5,
   "metadata": {},
   "outputs": [
    {
     "name": "stdout",
     "output_type": "stream",
     "text": [
      "Sorry, but the name is occupied already\n",
      "Please input a new name in the field below\n",
      "Launchpad McQuack1\n",
      "Thank you, the new contact is stored\n"
     ]
    }
   ],
   "source": [
    "contact_list=add_contact('Launchpad McQuack',744444)"
   ]
  },
  {
   "cell_type": "code",
   "execution_count": 6,
   "metadata": {},
   "outputs": [
    {
     "data": {
      "text/plain": [
       "{'Huey': 711111,\n",
       " 'Dewey': 722222,\n",
       " 'Louis': 733333,\n",
       " 'Launchpad McQuack': 744444,\n",
       " 'Launchpad McQuack1': 744444}"
      ]
     },
     "execution_count": 6,
     "metadata": {},
     "output_type": "execute_result"
    }
   ],
   "source": [
    "contact_list"
   ]
  },
  {
   "cell_type": "code",
   "execution_count": 8,
   "metadata": {},
   "outputs": [],
   "source": [
    "?add_contact"
   ]
  },
  {
   "cell_type": "code",
   "execution_count": 10,
   "metadata": {},
   "outputs": [
    {
     "name": "stdout",
     "output_type": "stream",
     "text": [
      "Thank you, the new contact is stored\n"
     ]
    },
    {
     "data": {
      "text/plain": [
       "{'me': '123456'}"
      ]
     },
     "execution_count": 10,
     "metadata": {},
     "output_type": "execute_result"
    }
   ],
   "source": [
    "add_contact('me','123456',{})"
   ]
  },
  {
   "cell_type": "code",
   "execution_count": 11,
   "metadata": {},
   "outputs": [],
   "source": [
    "#remove a contact\n",
    "def remove_a_contact(name,contacts=contact_list):\n",
    "    if name in contacts.keys():\n",
    "        del contacts[name]\n",
    "        print('Operation finished successfully')\n",
    "    else:\n",
    "        print('Sorry, you don\\'t know this name')\n",
    "    return contacts"
   ]
  },
  {
   "cell_type": "code",
   "execution_count": 14,
   "metadata": {},
   "outputs": [
    {
     "name": "stdout",
     "output_type": "stream",
     "text": [
      "Operation finished successfully\n"
     ]
    }
   ],
   "source": [
    "contact_list=remove_a_contact('Launchpad McQuack1')"
   ]
  },
  {
   "cell_type": "code",
   "execution_count": 15,
   "metadata": {},
   "outputs": [
    {
     "name": "stdout",
     "output_type": "stream",
     "text": [
      "Sorry, you don't know this name\n"
     ]
    }
   ],
   "source": [
    "contact_list=remove_a_contact('Launchpad McQuack1')"
   ]
  },
  {
   "cell_type": "code",
   "execution_count": 16,
   "metadata": {},
   "outputs": [
    {
     "data": {
      "text/plain": [
       "{'Huey': 711111, 'Dewey': 722222, 'Louis': 733333, 'Launchpad McQuack': 744444}"
      ]
     },
     "execution_count": 16,
     "metadata": {},
     "output_type": "execute_result"
    }
   ],
   "source": [
    "contact_list"
   ]
  },
  {
   "cell_type": "code",
   "execution_count": 17,
   "metadata": {},
   "outputs": [],
   "source": [
    "?remove_a_contact"
   ]
  },
  {
   "cell_type": "code",
   "execution_count": 37,
   "metadata": {},
   "outputs": [],
   "source": [
    "#phone calls\n",
    "def make_a_call(number, calls=made_calls, contacts=contact_list):\n",
    "    if number in contacts.values(): #add a name instead of number\n",
    "        name=[i for i in contacts if contacts[i]==number][0]\n",
    "             #[i for i,j in contacts.items() if j==number][0] could work also\n",
    "        print(name)\n",
    "    else:\n",
    "        name=str(number)\n",
    "    print(f'Dialing {name}...')\n",
    "    calls.append(name)\n",
    "    return calls\n",
    "    "
   ]
  },
  {
   "cell_type": "code",
   "execution_count": 46,
   "metadata": {},
   "outputs": [
    {
     "name": "stdout",
     "output_type": "stream",
     "text": [
      "Dewey\n",
      "Dialing Dewey...\n"
     ]
    }
   ],
   "source": [
    "made_calls=make_a_call(722222)"
   ]
  },
  {
   "cell_type": "code",
   "execution_count": 47,
   "metadata": {},
   "outputs": [
    {
     "data": {
      "text/plain": [
       "['Louis', '511111', 'Dewey']"
      ]
     },
     "execution_count": 47,
     "metadata": {},
     "output_type": "execute_result"
    }
   ],
   "source": [
    "made_calls"
   ]
  },
  {
   "cell_type": "code",
   "execution_count": 48,
   "metadata": {},
   "outputs": [
    {
     "ename": "NameError",
     "evalue": "name 'name' is not defined",
     "output_type": "error",
     "traceback": [
      "\u001b[0;31m---------------------------------------------------------------------------\u001b[0m",
      "\u001b[0;31mNameError\u001b[0m                                 Traceback (most recent call last)",
      "\u001b[0;32m<ipython-input-48-9ba126b17b03>\u001b[0m in \u001b[0;36m<module>\u001b[0;34m\u001b[0m\n\u001b[0;32m----> 1\u001b[0;31m \u001b[0mprint\u001b[0m\u001b[0;34m(\u001b[0m\u001b[0mname\u001b[0m\u001b[0;34m)\u001b[0m\u001b[0;34m\u001b[0m\u001b[0;34m\u001b[0m\u001b[0m\n\u001b[0m",
      "\u001b[0;31mNameError\u001b[0m: name 'name' is not defined"
     ]
    }
   ],
   "source": []
  },
  {
   "cell_type": "code",
   "execution_count": 40,
   "metadata": {},
   "outputs": [],
   "source": [
    "def receive_a_call(number, calls=received_calls, contacts=contact_list):\n",
    "    if number in contacts.values(): #add a name instead of number\n",
    "        name=[i for i in contacts if contacts[i]==number][0]\n",
    "             #[i for i,j in contacts.items() if j==number][0] could work also\n",
    "        print(name)\n",
    "    else:\n",
    "        name=str(number)\n",
    "    print(f'{name} is calling...')\n",
    "    calls.append(name)\n",
    "    return calls\n",
    "    "
   ]
  },
  {
   "cell_type": "code",
   "execution_count": 41,
   "metadata": {},
   "outputs": [
    {
     "name": "stdout",
     "output_type": "stream",
     "text": [
      "Dewey\n",
      "Dewey is calling...\n"
     ]
    }
   ],
   "source": [
    "received_calls=receive_a_call(722222)"
   ]
  },
  {
   "cell_type": "code",
   "execution_count": 53,
   "metadata": {},
   "outputs": [],
   "source": [
    "#send an sms\n",
    "def send_an_sms(number,text, sms=sms_sent, contacts=contact_list):\n",
    "    if number in contacts.values():\n",
    "        name=[i for i,j in contacts.items() if j==number][0]\n",
    "    else:\n",
    "        name=str(number)\n",
    "    print(f'Write a message to {name}:\\n\\n{text}')\n",
    "    \n",
    "    new_index=len(sms)+1\n",
    "    sms[new_index]={'name':name, 'text': text}\n",
    "    return sms"
   ]
  },
  {
   "cell_type": "code",
   "execution_count": 56,
   "metadata": {},
   "outputs": [
    {
     "name": "stdout",
     "output_type": "stream",
     "text": [
      "Write a message to Huey:\n",
      "\n",
      "hello\n"
     ]
    }
   ],
   "source": [
    "sms_sent=send_an_sms(711111,'hello')"
   ]
  },
  {
   "cell_type": "code",
   "execution_count": 57,
   "metadata": {},
   "outputs": [
    {
     "data": {
      "text/plain": [
       "{'Huey': 'hello'}"
      ]
     },
     "execution_count": 57,
     "metadata": {},
     "output_type": "execute_result"
    }
   ],
   "source": [
    "sms_sent"
   ]
  },
  {
   "cell_type": "code",
   "execution_count": 58,
   "metadata": {},
   "outputs": [],
   "source": [
    "#make a photo\n",
    "def make_a_photo():\n",
    "    global galery_of_photos #now all the changes we apply to this variable in the function will be stored out of the function \n",
    "    new_index=len(galery_of_photos)+1\n",
    "    galery_of_photos.append(f'{new_index}.jpg')\n",
    "    return None"
   ]
  },
  {
   "cell_type": "code",
   "execution_count": 62,
   "metadata": {},
   "outputs": [],
   "source": [
    "make_a_photo()"
   ]
  },
  {
   "cell_type": "code",
   "execution_count": 63,
   "metadata": {},
   "outputs": [
    {
     "data": {
      "text/plain": [
       "['1.jpg', '2.jpg']"
      ]
     },
     "execution_count": 63,
     "metadata": {},
     "output_type": "execute_result"
    }
   ],
   "source": [
    "galery_of_photos"
   ]
  },
  {
   "cell_type": "code",
   "execution_count": 87,
   "metadata": {},
   "outputs": [
    {
     "data": {
      "text/plain": [
       "17"
      ]
     },
     "execution_count": 87,
     "metadata": {},
     "output_type": "execute_result"
    }
   ],
   "source": [
    "sheeps_status = [True,  True,  True,  False,\n",
    "          True,  True,  True,  True ,\n",
    "          True,  False, True,  False,\n",
    "          True,  False, False, True ,\n",
    "          True,  True,  True,  True ,\n",
    "          False, False, True,  True ]\n",
    "\n",
    "def count_sheeps(sheep):\n",
    "    c=0\n",
    "    for sheep in sheeps_status:\n",
    "        if sheep == True:\n",
    "            c+=1\n",
    "        else:\n",
    "            pass\n",
    "    return c\n",
    "count_sheeps(sheeps_status)\n"
   ]
  },
  {
   "cell_type": "code",
   "execution_count": 106,
   "metadata": {},
   "outputs": [
    {
     "data": {
      "text/plain": [
       "['Keep', 'Keep', 'Remove', 'Keep', Ellipsis]"
      ]
     },
     "execution_count": 106,
     "metadata": {},
     "output_type": "execute_result"
    }
   ],
   "source": [
    "my_list = ['Keep', 'Remove', 'Keep', 'Remove', 'Keep', ...]\n",
    "\n",
    "def remove_every_other(my_list):\n",
    "    for i in my_list:\n",
    "        d=my_list.index(i)\n",
    "        if (d+1)%2==0:\n",
    "            my_list.remove(i)\n",
    "        else:\n",
    "            pass\n",
    "    return my_list\n",
    "remove_every_other(my_list)"
   ]
  },
  {
   "cell_type": "markdown",
   "metadata": {},
   "source": [
    "# OOP"
   ]
  },
  {
   "cell_type": "code",
   "execution_count": 1,
   "metadata": {},
   "outputs": [
    {
     "ename": "NameError",
     "evalue": "name 'Tamagochi' is not defined",
     "output_type": "error",
     "traceback": [
      "\u001b[0;31m---------------------------------------------------------------------------\u001b[0m",
      "\u001b[0;31mNameError\u001b[0m                                 Traceback (most recent call last)",
      "\u001b[0;32m<ipython-input-1-f36a28ed106c>\u001b[0m in \u001b[0;36m<module>\u001b[0;34m\u001b[0m\n\u001b[0;32m----> 1\u001b[0;31m \u001b[0manimal1\u001b[0m\u001b[0;34m=\u001b[0m\u001b[0mTamagochi\u001b[0m\u001b[0;34m(\u001b[0m\u001b[0;34m)\u001b[0m\u001b[0;34m\u001b[0m\u001b[0;34m\u001b[0m\u001b[0m\n\u001b[0m\u001b[1;32m      2\u001b[0m \u001b[0manimal1\u001b[0m\u001b[0;34m.\u001b[0m\u001b[0mfeed\u001b[0m\u001b[0;34m(\u001b[0m\u001b[0;34m)\u001b[0m\u001b[0;34m\u001b[0m\u001b[0;34m\u001b[0m\u001b[0m\n\u001b[1;32m      3\u001b[0m \u001b[0manimal1\u001b[0m\u001b[0;34m.\u001b[0m\u001b[0mgotowalk\u001b[0m\u001b[0;34m(\u001b[0m\u001b[0;34m)\u001b[0m\u001b[0;34m\u001b[0m\u001b[0;34m\u001b[0m\u001b[0m\n",
      "\u001b[0;31mNameError\u001b[0m: name 'Tamagochi' is not defined"
     ]
    }
   ],
   "source": [
    "animal1=Tamagochi()\n",
    "animal1.feed()\n",
    "animal1.gotowalk()"
   ]
  },
  {
   "cell_type": "code",
   "execution_count": null,
   "metadata": {},
   "outputs": [],
   "source": [
    "lst=list()\n",
    "lst.count(value)\n",
    "lst.index(value)"
   ]
  }
 ],
 "metadata": {
  "kernelspec": {
   "display_name": "Python 3",
   "language": "python",
   "name": "python3"
  },
  "language_info": {
   "codemirror_mode": {
    "name": "ipython",
    "version": 3
   },
   "file_extension": ".py",
   "mimetype": "text/x-python",
   "name": "python",
   "nbconvert_exporter": "python",
   "pygments_lexer": "ipython3",
   "version": "3.8.5"
  }
 },
 "nbformat": 4,
 "nbformat_minor": 4
}
