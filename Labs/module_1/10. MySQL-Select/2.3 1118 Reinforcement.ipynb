{
 "cells": [
  {
   "cell_type": "markdown",
   "metadata": {},
   "source": [
    "# Reinforcement 18 Nov"
   ]
  },
  {
   "cell_type": "markdown",
   "metadata": {
    "collapsed": "true"
   },
   "source": [
    "## Functions"
   ]
  },
  {
   "cell_type": "markdown",
   "metadata": {},
   "source": [
    "How to write a function:\n",
    "```python\n",
    "def function_name(mandatory_parameter1, mandatory_parameter2, optional_parameter1=2, optional_parameter2=1):\n",
    "    \"\"\"optional description about your function\"\"\"\n",
    "    return (mandatory_parameter1-mandatory_parameter2)**optional_parameter1/optional_parameter2\n",
    "```\n",
    "\n",
    "How to call a function:\n",
    "```python\n",
    "function_name(variable1, variable2)\n",
    "```\n",
    "The above will return a variable that is (variable1 + variable2) ** 2 / 1<br>\n",
    "Why? Because the optional_parameter1 and optional_parameter2=1 are not supplied when we called the function, therefore it uses the default value we have assigned when we wrote the function.<p>\n",
    "\n",
    "\n",
    "what happens if I want to supply something for optional_parameter2 but not optional_parameter1?\n",
    "```python\n",
    "function_name(variable1, variable2, optional_parameter2=variable3)\n",
    "```"
   ]
  },
  {
   "cell_type": "code",
   "execution_count": 24,
   "metadata": {},
   "outputs": [],
   "source": [
    "def test_function(mandatory1, mandatory2, optional1=2, optional2=1):\n",
    "    return (mandatory1-mandatory2)**optional1/optional2\n",
    "\n",
    "variable1= 5\n",
    "variable2= 1\n",
    "variable3= 3"
   ]
  },
  {
   "cell_type": "code",
   "execution_count": 26,
   "metadata": {},
   "outputs": [
    {
     "data": {
      "text/plain": [
       "16.0"
      ]
     },
     "execution_count": 26,
     "metadata": {},
     "output_type": "execute_result"
    }
   ],
   "source": [
    "test_function(variable1, variable2)"
   ]
  },
  {
   "cell_type": "code",
   "execution_count": 27,
   "metadata": {},
   "outputs": [
    {
     "data": {
      "text/plain": [
       "64.0"
      ]
     },
     "execution_count": 27,
     "metadata": {},
     "output_type": "execute_result"
    }
   ],
   "source": [
    "test_function(variable1, variable2, variable3)"
   ]
  },
  {
   "cell_type": "code",
   "execution_count": 28,
   "metadata": {},
   "outputs": [
    {
     "data": {
      "text/plain": [
       "5.333333333333333"
      ]
     },
     "execution_count": 28,
     "metadata": {},
     "output_type": "execute_result"
    }
   ],
   "source": [
    "test_function(variable1, variable2, optional2=variable3)"
   ]
  },
  {
   "cell_type": "markdown",
   "metadata": {},
   "source": [
    "## Loops"
   ]
  },
  {
   "cell_type": "markdown",
   "metadata": {},
   "source": [
    "There are two types for loops for when you need run the same codes more than once.\n",
    "\n",
    "Loops will always run until a condition is met, i.e. For Loops (when the specified condition is no longer True); While Loops (when all the iterables are done)"
   ]
  },
  {
   "cell_type": "markdown",
   "metadata": {},
   "source": [
    "### For Loops"
   ]
  },
  {
   "cell_type": "markdown",
   "metadata": {},
   "source": [
    "For Loops primarily used to loop a set number of times.\n",
    "\n",
    "```python\n",
    "for temporary_variable in iterable:\n",
    "    # do something\n",
    "```\n",
    "At each iteration, it will runs the whole code block and starts over again from the top until all iterations are done.\n"
   ]
  },
  {
   "cell_type": "markdown",
   "metadata": {},
   "source": [
    "#### enumerate()"
   ]
  },
  {
   "cell_type": "markdown",
   "metadata": {},
   "source": [
    "A python function that adds a counter to an iterable, in order word it will increments by a value of 1 through each iteration\n",
    "```python\n",
    "enumerate(iterable, start=0)\n",
    "```\n",
    "The enumerate function requires a mandatory argument, iterable. <br>\n",
    "The second argument, start, is optional with a default value of 0. It is a value which the counter will start from.<br>\n",
    "This works well as a counter or as to show index of the iteration\n",
    "```python\n",
    "for index, temporary_variable in enumerate(iterable):\n",
    "    # do something\n",
    "```\n"
   ]
  },
  {
   "cell_type": "code",
   "execution_count": 29,
   "metadata": {},
   "outputs": [],
   "source": [
    "# Exmaple: Everyone who starts with \"M\" we will add \"Mamma mia \" in front, and every 3rd name on the list we will add \" farfallone\" to the end of the name\n",
    "\n",
    "ironhack = [\"Inigo\", \"Mahshid\", \"Meitar\", \"Matthieu\", \"Ludovica\", \"Helene\", \"Chris\", \"Jiawei\", \"Yani\", \"Thomas\"]"
   ]
  },
  {
   "cell_type": "code",
   "execution_count": 37,
   "metadata": {},
   "outputs": [
    {
     "data": {
      "text/plain": [
       "'Meitar'"
      ]
     },
     "execution_count": 37,
     "metadata": {},
     "output_type": "execute_result"
    }
   ],
   "source": [
    "ironhack[2]"
   ]
  },
  {
   "cell_type": "code",
   "execution_count": 31,
   "metadata": {},
   "outputs": [
    {
     "data": {
      "text/plain": [
       "[(0, 'Inigo'),\n",
       " (1, 'Mahshid'),\n",
       " (2, 'Meitar'),\n",
       " (3, 'Matthieu'),\n",
       " (4, 'Ludovica'),\n",
       " (5, 'Helene'),\n",
       " (6, 'Chris'),\n",
       " (7, 'Jiawei'),\n",
       " (8, 'Yani'),\n",
       " (9, 'Thomas')]"
      ]
     },
     "execution_count": 31,
     "metadata": {},
     "output_type": "execute_result"
    }
   ],
   "source": [
    "list(enumerate(ironhack)) # enumerate returns a tuple with (counter, iterated_variable)"
   ]
  },
  {
   "cell_type": "code",
   "execution_count": 36,
   "metadata": {},
   "outputs": [
    {
     "data": {
      "text/plain": [
       "False"
      ]
     },
     "execution_count": 36,
     "metadata": {},
     "output_type": "execute_result"
    }
   ],
   "source": [
    "ironhack[0].startswith(\"M\")"
   ]
  },
  {
   "cell_type": "code",
   "execution_count": 69,
   "metadata": {},
   "outputs": [
    {
     "name": "stdout",
     "output_type": "stream",
     "text": [
      "['Chris', 'Helene', 'Inigo farfallone', 'Jiawei', 'Ludovica', 'Mamma mia Mahshid farfallone', 'Mamma mia Matthieu', 'Mamma mia Meitar', 'Thomas farfallone', 'Yani']\n"
     ]
    }
   ],
   "source": [
    "start = \"Mamma mia \"\n",
    "end = \" farfallone\"\n",
    "new_list=[]\n",
    "# write code here\n",
    "for idx, name in enumerate(ironhack):\n",
    "    if name[0].lower()==\"m\":\n",
    "        if (idx+1)%3==0:\n",
    "            new_list.append(start+name+end)\n",
    "        else:\n",
    "            new_list.append(start+name)\n",
    "    elif (idx+1)%3==0:\n",
    "        new_list.append(name+end)\n",
    "    else:\n",
    "        new_list.append(name)\n",
    "        \n",
    "print(new_list)"
   ]
  },
  {
   "cell_type": "markdown",
   "metadata": {},
   "source": [
    "#### List Comprehension"
   ]
  },
  {
   "cell_type": "markdown",
   "metadata": {},
   "source": [
    "A For Loop with only an if... statement, but no else... statement, i.e. used to filter a list\n",
    "```python\n",
    "list_comprehension1 = [temporary_variable for temporary_variable in iterable if condition]\n",
    "# corresponds to:\n",
    "new_list1=[]\n",
    "for temporary_variable in iterable:\n",
    "    if condition:\n",
    "        new_list1.append(temporary_variable)\n",
    "```\n",
    "\n",
    "A For Loop with an if... else... statement\n",
    "```python\n",
    "list_comprehension2 = [temporary_variable if condition else temperary_variable+1 for temporary_variable in iterable]\n",
    "# corresponds to:\n",
    "new_list2=[]\n",
    "for temporary_variable in iterable:\n",
    "    if condition:\n",
    "        new_list2.append(temporary_variable)\n",
    "    else:\n",
    "        new_list2.append(temperary_variable+1)\n",
    "```\n",
    "\n",
    "A For Loop with an if... elif... else... statement\n",
    "```python\n",
    "list_comprehension3 = [temporary_variable if condition1 else temporary_variable+1 if condition2 else temporary_variable+2 for temporary_variable in iterable]\n",
    "# corresponds to:\n",
    "new_list3=[]\n",
    "for temporary_variable in iterable:\n",
    "    if condition1:\n",
    "        new_list3.append(temporary_variable)\n",
    "    elif:\n",
    "        new_list3.append(temperary_variable+1)\n",
    "    else:\n",
    "        new_list3.append(temperary_variable+2)\n",
    "```\n",
    "\n",
    "A For Loop with nested if... else... statement\n",
    "```python\n",
    "list_comprehension4 = [temporary_variable if condition1 and condition2 else temporary_variable+1 if condition1 else temporary_variable+2 for temporary_variable in iterable]\n",
    "# corresponds to:\n",
    "new_list4=[]\n",
    "for temporary_variable in iterable:\n",
    "    if condition1:\n",
    "        if condition2:\n",
    "            new_list4.append(temporary_variable)\n",
    "        else:\n",
    "            new_list4.append(temporary_variable+1)\n",
    "    else:\n",
    "        new_list4.append(temperary_variable+2)\n",
    "```"
   ]
  },
  {
   "cell_type": "code",
   "execution_count": 41,
   "metadata": {},
   "outputs": [
    {
     "data": {
      "text/plain": [
       "['Inigo',\n",
       " 'Mamma mia Mahshid',\n",
       " 'Mamma mia Meitar farfallone',\n",
       " 'Mamma mia Matthieu',\n",
       " 'Ludovica',\n",
       " 'Helene farfallone',\n",
       " 'Chris',\n",
       " 'Jiawei',\n",
       " 'Yani farfallone',\n",
       " 'Thomas']"
      ]
     },
     "execution_count": 41,
     "metadata": {},
     "output_type": "execute_result"
    }
   ],
   "source": [
    "# using the example from before...\n",
    "start = \"Mamma mia \"\n",
    "end = \" farfallone\"\n",
    "# turning the below code into list_comphresion\n",
    "new_list=[]\n",
    "# write code here\n",
    "for idx, name in enumerate(ironhack):\n",
    "    if name[0].lower()==\"m\":\n",
    "        if (idx+1)%3==0:\n",
    "            new_list.append(start+name+end)\n",
    "        else:\n",
    "            new_list.append(start+name)\n",
    "    elif (idx+1)%3==0:\n",
    "        new_list.append(name+end)\n",
    "    else:\n",
    "        new_list.append(name)\n",
    "\n",
    "\n",
    "# below is how to do it with list comprehension\n",
    "new_list_comprehension=[start+name+end if name[0].lower()==\"m\" and (idx+1)%3==0 else start+name if name[0].lower()==\"m\" else name+end if (idx+1)%3==0 else name for idx, name in enumerate(ironhack)]\n",
    "\n",
    "new_list_comprehension\n",
    "        "
   ]
  },
  {
   "cell_type": "markdown",
   "metadata": {},
   "source": [
    "A nested For Loop\n",
    "```python\n",
    "list_of_list = [[1,2,3], [4,5,6], [7,8,9]]\n",
    "# to flatten the list of list into simply a list\n",
    "nested_list_comprehension = [temporary_variable for temporary_list in list_of_list for temporary_variable in temporary_list]\n",
    "# corresponds to:\n",
    "new_list5 = []\n",
    "for temporary_list in list_of_list:\n",
    "    for temporary_variable in temporary_list:\n",
    "        new_list5.append(temporary_variable)\n",
    "\n",
    "```\n",
    "A nested For Loop with only an if... statement, but no else... statement i.e. to filter the items\n",
    "```python\n",
    "nested_list_comprehension2 = [temporary_variable for temporary_list in list_of_list for temporary_variable in temporary_list if condition]\n",
    "# corresponds to:\n",
    "new_list6 = []\n",
    "for temporary_list in list_of_list:\n",
    "    for temporary_variable in temporary_list:\n",
    "        if condition:\n",
    "            new_list6.append(temporary_variable)\n",
    "```\n",
    "A nested For Loop with if... else... statement\n",
    "```python\n",
    "nested_list_comprehension3 = [temporary_variable if condition else temporary_variable+1 for temporary_list in list_of_list for temporary_variable in temporary_list]\n",
    "# corresponds to:\n",
    "new_list7 = []\n",
    "for temporary_list in list_of_list:\n",
    "    for temporary_variable in temporary_list:\n",
    "        if condition:\n",
    "            new_list7.append(temporary_variable)\n",
    "        else:\n",
    "            new_list7.append(temporary_variaable+1)\n",
    "```"
   ]
  },
  {
   "cell_type": "code",
   "execution_count": 70,
   "metadata": {},
   "outputs": [
    {
     "data": {
      "text/plain": [
       "['Mahshid', 'Meitar', 'Matthieu']"
      ]
     },
     "execution_count": 70,
     "metadata": {},
     "output_type": "execute_result"
    }
   ],
   "source": [
    "# Exmaple: Create a list with the name that starts with \"M\"\n",
    "breakout_rooms = [[\"Inigo\", \"Mahshid\", \"Meitar\"], [\"Matthieu\", \"Ludovica\", \"Helene\"], [\"Chris\", \"Jiawei\", \"Yani\", \"Thomas\"]]\n",
    "\n",
    "# nested for loop\n",
    "new_list2=[]\n",
    "for room in breakout_rooms:\n",
    "    for name in room:\n",
    "        if name.startswith(\"M\"):\n",
    "            new_list2.append(name)\n",
    "            \n",
    "# nested for list comprehension\n",
    "new_list_comprehension2=[name for room in breakout_rooms for name in room if name.startswith(\"M\")]\n",
    "\n",
    "new_list_comprehension2"
   ]
  },
  {
   "cell_type": "markdown",
   "metadata": {
    "collapsed": "true"
   },
   "source": [
    "### While Loops"
   ]
  },
  {
   "cell_type": "markdown",
   "metadata": {},
   "source": [
    "While Loops generally used when you need to loop based on a condition rather than counting, it is a condition-based looping.\n",
    "\n",
    "```python\n",
    "while variable == condition:\n",
    "    # do something\n",
    "```"
   ]
  },
  {
   "cell_type": "code",
   "execution_count": 43,
   "metadata": {},
   "outputs": [],
   "source": [
    "# Example: I have a list of my expense ordered in the priorities of purchase in variable to_buy\n",
    "# I will keep on buying as long as my bank_balance is above 100\n",
    "# I want to know how many items I could buy\n",
    "bank_balance = 200\n",
    "to_buy = [17, 3, 14, 8, 69, 18, 36]"
   ]
  },
  {
   "cell_type": "code",
   "execution_count": 44,
   "metadata": {},
   "outputs": [
    {
     "name": "stdout",
     "output_type": "stream",
     "text": [
      "5\n"
     ]
    }
   ],
   "source": [
    "count=0\n",
    "while bank_balance > 100:\n",
    "    bank_balance-=to_buy.pop(0)\n",
    "    count+=1\n",
    "print(count)"
   ]
  },
  {
   "cell_type": "markdown",
   "metadata": {
    "collapsed": "true"
   },
   "source": [
    "### Statements"
   ]
  },
  {
   "cell_type": "markdown",
   "metadata": {
    "collapsed": "true"
   },
   "source": [
    "#### Continue Statement"
   ]
  },
  {
   "cell_type": "markdown",
   "metadata": {},
   "source": [
    "Once a continue statement is hit, the current iteration stops and goes back to the top of the loop"
   ]
  },
  {
   "cell_type": "code",
   "execution_count": 45,
   "metadata": {},
   "outputs": [
    {
     "name": "stdout",
     "output_type": "stream",
     "text": [
      "0\n",
      "1\n",
      "2\n",
      "4\n"
     ]
    }
   ],
   "source": [
    "# Example:\n",
    "for num in range(5):\n",
    "    if num == 3:\n",
    "        continue # this will stop the current iteration and go back to the top, hence not reaching the next line\n",
    "    print(num)"
   ]
  },
  {
   "cell_type": "markdown",
   "metadata": {
    "collapsed": "true"
   },
   "source": [
    "#### Break Statement"
   ]
  },
  {
   "cell_type": "markdown",
   "metadata": {},
   "source": [
    "Allows us to break out of a loop at any point in time"
   ]
  },
  {
   "cell_type": "code",
   "execution_count": 7,
   "metadata": {},
   "outputs": [
    {
     "name": "stdout",
     "output_type": "stream",
     "text": [
      "0\n",
      "1\n",
      "2\n"
     ]
    }
   ],
   "source": [
    "# Example:\n",
    "for num in range(5):\n",
    "    if num == 3:\n",
    "        break # break out of the loop\n",
    "    print(num)"
   ]
  },
  {
   "cell_type": "markdown",
   "metadata": {},
   "source": [
    "If you use a double loop, the break statement will only break out of the loop\n",
    "that the statement is within. Meaning, it will not break out of both loops if the break\n",
    "statement is used within the inner loop."
   ]
  },
  {
   "cell_type": "code",
   "execution_count": 14,
   "metadata": {},
   "outputs": [
    {
     "name": "stdout",
     "output_type": "stream",
     "text": [
      "0 a\n",
      "1 a\n",
      "0 b\n",
      "1 b\n",
      "0 c\n",
      "1 c\n"
     ]
    }
   ],
   "source": [
    "# Example:\n",
    "alphabets = [\"a\", \"b\", \"c\"]\n",
    "\n",
    "for letter in alphabets:\n",
    "    for num in range(5):\n",
    "        if num==2:\n",
    "            break\n",
    "        print(num, letter)"
   ]
  },
  {
   "cell_type": "markdown",
   "metadata": {
    "collapsed": "true"
   },
   "source": [
    "#### Pass Statement"
   ]
  },
  {
   "cell_type": "markdown",
   "metadata": {},
   "source": [
    "the index value from which the counter is to be started"
   ]
  },
  {
   "cell_type": "code",
   "execution_count": 15,
   "metadata": {},
   "outputs": [
    {
     "name": "stdout",
     "output_type": "stream",
     "text": [
      "0\n",
      "1\n",
      "2\n",
      "3\n",
      "4\n"
     ]
    }
   ],
   "source": [
    "# Example:\n",
    "for i in range(5):\n",
    "    if i == 3:\n",
    "        # TODO: add code do something awesome\n",
    "        pass\n",
    "    print(i)"
   ]
  },
  {
   "cell_type": "markdown",
   "metadata": {
    "collapsed": "true"
   },
   "source": [
    "## List Operations"
   ]
  },
  {
   "cell_type": "code",
   "execution_count": 46,
   "metadata": {},
   "outputs": [
    {
     "data": {
      "text/plain": [
       "10"
      ]
     },
     "execution_count": 46,
     "metadata": {},
     "output_type": "execute_result"
    }
   ],
   "source": [
    "len(ironhack)"
   ]
  },
  {
   "cell_type": "code",
   "execution_count": 47,
   "metadata": {},
   "outputs": [
    {
     "data": {
      "text/plain": [
       "4"
      ]
     },
     "execution_count": 47,
     "metadata": {},
     "output_type": "execute_result"
    }
   ],
   "source": [
    "ironhack.index(\"Ludovica\")"
   ]
  },
  {
   "cell_type": "code",
   "execution_count": 48,
   "metadata": {},
   "outputs": [],
   "source": [
    "ironhack.sort()"
   ]
  },
  {
   "cell_type": "code",
   "execution_count": 49,
   "metadata": {},
   "outputs": [
    {
     "data": {
      "text/plain": [
       "['Chris',\n",
       " 'Helene',\n",
       " 'Inigo',\n",
       " 'Jiawei',\n",
       " 'Ludovica',\n",
       " 'Mahshid',\n",
       " 'Matthieu',\n",
       " 'Meitar',\n",
       " 'Thomas',\n",
       " 'Yani']"
      ]
     },
     "execution_count": 49,
     "metadata": {},
     "output_type": "execute_result"
    }
   ],
   "source": [
    "ironhack"
   ]
  },
  {
   "cell_type": "code",
   "execution_count": 50,
   "metadata": {},
   "outputs": [
    {
     "data": {
      "text/plain": [
       "6"
      ]
     },
     "execution_count": 50,
     "metadata": {},
     "output_type": "execute_result"
    }
   ],
   "source": [
    "fruit_tuple = (\"apple\", \"pear\", \"grape\", \"grape\", \"grape\", \"grape\", \"grape\", \"grape\")\n",
    "fruit_tuple.count(\"grape\")"
   ]
  },
  {
   "cell_type": "code",
   "execution_count": 51,
   "metadata": {},
   "outputs": [
    {
     "data": {
      "text/plain": [
       "{'apple', 'grape', 'pear'}"
      ]
     },
     "execution_count": 51,
     "metadata": {},
     "output_type": "execute_result"
    }
   ],
   "source": [
    "# return the unique value in fruit_tuple\n",
    "set(fruit_tuple)"
   ]
  },
  {
   "cell_type": "code",
   "execution_count": 52,
   "metadata": {},
   "outputs": [
    {
     "data": {
      "text/plain": [
       "{'grape': 6, 'apple': 1, 'pear': 1}"
      ]
     },
     "execution_count": 52,
     "metadata": {},
     "output_type": "execute_result"
    }
   ],
   "source": [
    "# create a dictionary that gives me with names of each fruit and its count in fruit_tuple\n",
    "fruit_dict = {fruit: fruit_tuple.count(fruit) for fruit in set(fruit_tuple)}\n",
    "fruit_dict"
   ]
  },
  {
   "cell_type": "code",
   "execution_count": 53,
   "metadata": {},
   "outputs": [
    {
     "data": {
      "text/plain": [
       "dict_keys(['grape', 'apple', 'pear'])"
      ]
     },
     "execution_count": 53,
     "metadata": {},
     "output_type": "execute_result"
    }
   ],
   "source": [
    "fruit_dict.keys()"
   ]
  },
  {
   "cell_type": "code",
   "execution_count": 55,
   "metadata": {},
   "outputs": [
    {
     "data": {
      "text/plain": [
       "dict_values([6, 1, 1])"
      ]
     },
     "execution_count": 55,
     "metadata": {},
     "output_type": "execute_result"
    }
   ],
   "source": [
    "fruit_dict.values()"
   ]
  },
  {
   "cell_type": "code",
   "execution_count": 58,
   "metadata": {},
   "outputs": [
    {
     "name": "stdout",
     "output_type": "stream",
     "text": [
      "I have 17 of apple.\n"
     ]
    }
   ],
   "source": [
    "a=\"apple\"\n",
    "b=17\n",
    "print(f\"I have {b} of {a}.\") #f string"
   ]
  },
  {
   "cell_type": "code",
   "execution_count": 61,
   "metadata": {},
   "outputs": [
    {
     "data": {
      "text/plain": [
       "dict_items([('grape', 6), ('apple', 1), ('pear', 1)])"
      ]
     },
     "execution_count": 61,
     "metadata": {},
     "output_type": "execute_result"
    }
   ],
   "source": [
    "fruit_dict.items()"
   ]
  },
  {
   "cell_type": "code",
   "execution_count": 62,
   "metadata": {},
   "outputs": [
    {
     "name": "stdout",
     "output_type": "stream",
     "text": [
      "I have 6 of grape.\n",
      "I have 1 of apple.\n",
      "I have 1 of pear.\n"
     ]
    }
   ],
   "source": [
    "for k, v in fruit_dict.items():\n",
    "    print(f\"I have {v} of {k}.\")"
   ]
  },
  {
   "cell_type": "markdown",
   "metadata": {
    "collapsed": "true"
   },
   "source": [
    "## Pandas Import"
   ]
  },
  {
   "cell_type": "code",
   "execution_count": 64,
   "metadata": {},
   "outputs": [],
   "source": [
    "import os\n",
    "import pandas as pd"
   ]
  },
  {
   "cell_type": "code",
   "execution_count": 65,
   "metadata": {
    "collapsed": true,
    "jupyter": {
     "outputs_hidden": true
    }
   },
   "outputs": [
    {
     "data": {
      "text/html": [
       "<div>\n",
       "<style scoped>\n",
       "    .dataframe tbody tr th:only-of-type {\n",
       "        vertical-align: middle;\n",
       "    }\n",
       "\n",
       "    .dataframe tbody tr th {\n",
       "        vertical-align: top;\n",
       "    }\n",
       "\n",
       "    .dataframe thead th {\n",
       "        text-align: right;\n",
       "    }\n",
       "</style>\n",
       "<table border=\"1\" class=\"dataframe\">\n",
       "  <thead>\n",
       "    <tr style=\"text-align: right;\">\n",
       "      <th></th>\n",
       "      <th>Date</th>\n",
       "      <th>Time</th>\n",
       "      <th>Transaction</th>\n",
       "      <th>Item</th>\n",
       "    </tr>\n",
       "  </thead>\n",
       "  <tbody>\n",
       "    <tr>\n",
       "      <th>0</th>\n",
       "      <td>2016-10-30</td>\n",
       "      <td>09:58:11</td>\n",
       "      <td>1</td>\n",
       "      <td>Bread</td>\n",
       "    </tr>\n",
       "    <tr>\n",
       "      <th>1</th>\n",
       "      <td>2016-10-30</td>\n",
       "      <td>10:05:34</td>\n",
       "      <td>2</td>\n",
       "      <td>Scandinavian</td>\n",
       "    </tr>\n",
       "    <tr>\n",
       "      <th>2</th>\n",
       "      <td>2016-10-30</td>\n",
       "      <td>10:05:34</td>\n",
       "      <td>2</td>\n",
       "      <td>Scandinavian</td>\n",
       "    </tr>\n",
       "    <tr>\n",
       "      <th>3</th>\n",
       "      <td>2016-10-30</td>\n",
       "      <td>10:07:57</td>\n",
       "      <td>3</td>\n",
       "      <td>Hot chocolate</td>\n",
       "    </tr>\n",
       "    <tr>\n",
       "      <th>4</th>\n",
       "      <td>2016-10-30</td>\n",
       "      <td>10:07:57</td>\n",
       "      <td>3</td>\n",
       "      <td>Jam</td>\n",
       "    </tr>\n",
       "    <tr>\n",
       "      <th>...</th>\n",
       "      <td>...</td>\n",
       "      <td>...</td>\n",
       "      <td>...</td>\n",
       "      <td>...</td>\n",
       "    </tr>\n",
       "    <tr>\n",
       "      <th>21288</th>\n",
       "      <td>2017-04-09</td>\n",
       "      <td>14:32:58</td>\n",
       "      <td>9682</td>\n",
       "      <td>Coffee</td>\n",
       "    </tr>\n",
       "    <tr>\n",
       "      <th>21289</th>\n",
       "      <td>2017-04-09</td>\n",
       "      <td>14:32:58</td>\n",
       "      <td>9682</td>\n",
       "      <td>Tea</td>\n",
       "    </tr>\n",
       "    <tr>\n",
       "      <th>21290</th>\n",
       "      <td>2017-04-09</td>\n",
       "      <td>14:57:06</td>\n",
       "      <td>9683</td>\n",
       "      <td>Coffee</td>\n",
       "    </tr>\n",
       "    <tr>\n",
       "      <th>21291</th>\n",
       "      <td>2017-04-09</td>\n",
       "      <td>14:57:06</td>\n",
       "      <td>9683</td>\n",
       "      <td>Pastry</td>\n",
       "    </tr>\n",
       "    <tr>\n",
       "      <th>21292</th>\n",
       "      <td>2017-04-09</td>\n",
       "      <td>15:04:24</td>\n",
       "      <td>9684</td>\n",
       "      <td>Smoothies</td>\n",
       "    </tr>\n",
       "  </tbody>\n",
       "</table>\n",
       "<p>21293 rows × 4 columns</p>\n",
       "</div>"
      ],
      "text/plain": [
       "             Date      Time  Transaction           Item\n",
       "0      2016-10-30  09:58:11            1          Bread\n",
       "1      2016-10-30  10:05:34            2   Scandinavian\n",
       "2      2016-10-30  10:05:34            2   Scandinavian\n",
       "3      2016-10-30  10:07:57            3  Hot chocolate\n",
       "4      2016-10-30  10:07:57            3            Jam\n",
       "...           ...       ...          ...            ...\n",
       "21288  2017-04-09  14:32:58         9682         Coffee\n",
       "21289  2017-04-09  14:32:58         9682            Tea\n",
       "21290  2017-04-09  14:57:06         9683         Coffee\n",
       "21291  2017-04-09  14:57:06         9683         Pastry\n",
       "21292  2017-04-09  15:04:24         9684      Smoothies\n",
       "\n",
       "[21293 rows x 4 columns]"
      ]
     },
     "execution_count": 65,
     "metadata": {},
     "output_type": "execute_result"
    }
   ],
   "source": [
    "pd.read_csv(\"BreadBasket_DMS.csv\")"
   ]
  },
  {
   "cell_type": "code",
   "execution_count": 66,
   "metadata": {},
   "outputs": [],
   "source": [
    "os.chdir(\"vehicles\") # change directory"
   ]
  },
  {
   "cell_type": "code",
   "execution_count": 68,
   "metadata": {},
   "outputs": [
    {
     "data": {
      "text/plain": [
       "'C:\\\\Users\\\\nclee\\\\Downloads\\\\vehicles'"
      ]
     },
     "execution_count": 68,
     "metadata": {},
     "output_type": "execute_result"
    }
   ],
   "source": [
    "os.getcwd() # show where/which directory you are in"
   ]
  }
 ],
 "metadata": {
  "kernelspec": {
   "display_name": "Python 3",
   "language": "python",
   "name": "python3"
  },
  "language_info": {
   "codemirror_mode": {
    "name": "ipython",
    "version": 3
   },
   "file_extension": ".py",
   "mimetype": "text/x-python",
   "name": "python",
   "nbconvert_exporter": "python",
   "pygments_lexer": "ipython3",
   "version": "3.8.2"
  }
 },
 "nbformat": 4,
 "nbformat_minor": 4
}
