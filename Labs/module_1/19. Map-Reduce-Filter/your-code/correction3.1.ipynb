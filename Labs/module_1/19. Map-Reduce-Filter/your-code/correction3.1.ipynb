{
 "cells": [
  {
   "cell_type": "code",
   "execution_count": 1,
   "metadata": {},
   "outputs": [],
   "source": [
    "import numpy as np"
   ]
  },
  {
   "cell_type": "code",
   "execution_count": 15,
   "metadata": {},
   "outputs": [],
   "source": [
    "a=np.random.random((2,2))\n",
    "b=np.random.random((3,2,2))\n",
    "c=np.arange(16).reshape((2,2,2,2))"
   ]
  },
  {
   "cell_type": "code",
   "execution_count": 16,
   "metadata": {},
   "outputs": [
    {
     "data": {
      "text/plain": [
       "array([[0.54505349, 0.2469789 ],\n",
       "       [0.2493157 , 0.46031084]])"
      ]
     },
     "execution_count": 16,
     "metadata": {},
     "output_type": "execute_result"
    }
   ],
   "source": [
    "a"
   ]
  },
  {
   "cell_type": "code",
   "execution_count": 17,
   "metadata": {},
   "outputs": [
    {
     "data": {
      "text/plain": [
       "array([[[0.05289432, 0.97800037],\n",
       "        [0.39094252, 0.38308627]],\n",
       "\n",
       "       [[0.36015093, 0.32695925],\n",
       "        [0.72772366, 0.3774145 ]],\n",
       "\n",
       "       [[0.52720279, 0.67330391],\n",
       "        [0.25763909, 0.12749418]]])"
      ]
     },
     "execution_count": 17,
     "metadata": {},
     "output_type": "execute_result"
    }
   ],
   "source": [
    "b"
   ]
  },
  {
   "cell_type": "code",
   "execution_count": 19,
   "metadata": {},
   "outputs": [
    {
     "data": {
      "text/plain": [
       "array([[[[ 0,  1],\n",
       "         [ 2,  3]],\n",
       "\n",
       "        [[ 4,  5],\n",
       "         [ 6,  7]]],\n",
       "\n",
       "\n",
       "       [[[ 8,  9],\n",
       "         [10, 11]],\n",
       "\n",
       "        [[12, 13],\n",
       "         [14, 15]]]])"
      ]
     },
     "execution_count": 19,
     "metadata": {},
     "output_type": "execute_result"
    }
   ],
   "source": [
    "c"
   ]
  },
  {
   "cell_type": "code",
   "execution_count": 21,
   "metadata": {},
   "outputs": [
    {
     "data": {
      "text/plain": [
       "array([[0.54505349, 0.2469789 ],\n",
       "       [0.2493157 , 0.46031084]])"
      ]
     },
     "execution_count": 21,
     "metadata": {},
     "output_type": "execute_result"
    }
   ],
   "source": [
    "a"
   ]
  },
  {
   "cell_type": "code",
   "execution_count": 22,
   "metadata": {},
   "outputs": [
    {
     "data": {
      "text/plain": [
       "array([0.54505349, 0.2469789 ])"
      ]
     },
     "execution_count": 22,
     "metadata": {},
     "output_type": "execute_result"
    }
   ],
   "source": [
    "a[0]"
   ]
  },
  {
   "cell_type": "code",
   "execution_count": 23,
   "metadata": {},
   "outputs": [
    {
     "data": {
      "text/plain": [
       "array([0.2493157 , 0.46031084])"
      ]
     },
     "execution_count": 23,
     "metadata": {},
     "output_type": "execute_result"
    }
   ],
   "source": [
    "a[1]"
   ]
  },
  {
   "cell_type": "code",
   "execution_count": 24,
   "metadata": {},
   "outputs": [
    {
     "data": {
      "text/plain": [
       "array([0.54505349, 0.2493157 ])"
      ]
     },
     "execution_count": 24,
     "metadata": {},
     "output_type": "execute_result"
    }
   ],
   "source": [
    "a[:,0]"
   ]
  },
  {
   "cell_type": "code",
   "execution_count": 25,
   "metadata": {},
   "outputs": [
    {
     "data": {
      "text/plain": [
       "array([0.2469789 , 0.46031084])"
      ]
     },
     "execution_count": 25,
     "metadata": {},
     "output_type": "execute_result"
    }
   ],
   "source": [
    "a[:,1]"
   ]
  },
  {
   "cell_type": "code",
   "execution_count": 26,
   "metadata": {},
   "outputs": [
    {
     "data": {
      "text/plain": [
       "array([[[0.05289432, 0.97800037],\n",
       "        [0.39094252, 0.38308627]],\n",
       "\n",
       "       [[0.36015093, 0.32695925],\n",
       "        [0.72772366, 0.3774145 ]],\n",
       "\n",
       "       [[0.52720279, 0.67330391],\n",
       "        [0.25763909, 0.12749418]]])"
      ]
     },
     "execution_count": 26,
     "metadata": {},
     "output_type": "execute_result"
    }
   ],
   "source": [
    "b"
   ]
  },
  {
   "cell_type": "code",
   "execution_count": 27,
   "metadata": {},
   "outputs": [
    {
     "data": {
      "text/plain": [
       "array([[0.05289432, 0.97800037],\n",
       "       [0.39094252, 0.38308627]])"
      ]
     },
     "execution_count": 27,
     "metadata": {},
     "output_type": "execute_result"
    }
   ],
   "source": [
    "b[0]"
   ]
  },
  {
   "cell_type": "code",
   "execution_count": 28,
   "metadata": {},
   "outputs": [
    {
     "data": {
      "text/plain": [
       "array([[0.05289432, 0.97800037],\n",
       "       [0.36015093, 0.32695925],\n",
       "       [0.52720279, 0.67330391]])"
      ]
     },
     "execution_count": 28,
     "metadata": {},
     "output_type": "execute_result"
    }
   ],
   "source": [
    "b[:,0]"
   ]
  },
  {
   "cell_type": "code",
   "execution_count": 29,
   "metadata": {},
   "outputs": [
    {
     "data": {
      "text/plain": [
       "array([[0.97800037, 0.38308627],\n",
       "       [0.32695925, 0.3774145 ],\n",
       "       [0.67330391, 0.12749418]])"
      ]
     },
     "execution_count": 29,
     "metadata": {},
     "output_type": "execute_result"
    }
   ],
   "source": [
    "b[:,:,1]"
   ]
  },
  {
   "cell_type": "code",
   "execution_count": 34,
   "metadata": {},
   "outputs": [
    {
     "data": {
      "text/plain": [
       "array([[[[ 0,  1],\n",
       "         [ 2,  3]],\n",
       "\n",
       "        [[ 4,  5],\n",
       "         [ 6,  7]]],\n",
       "\n",
       "\n",
       "       [[[ 8,  9],\n",
       "         [10, 11]],\n",
       "\n",
       "        [[12, 13],\n",
       "         [14, 15]]]])"
      ]
     },
     "execution_count": 34,
     "metadata": {},
     "output_type": "execute_result"
    }
   ],
   "source": [
    "c"
   ]
  },
  {
   "cell_type": "code",
   "execution_count": 33,
   "metadata": {},
   "outputs": [
    {
     "data": {
      "text/plain": [
       "array([6, 7])"
      ]
     },
     "execution_count": 33,
     "metadata": {},
     "output_type": "execute_result"
    }
   ],
   "source": [
    "c[0,1,1]"
   ]
  },
  {
   "cell_type": "code",
   "execution_count": 35,
   "metadata": {},
   "outputs": [
    {
     "data": {
      "text/plain": [
       "array([[[ 1,  3],\n",
       "        [ 5,  7]],\n",
       "\n",
       "       [[ 9, 11],\n",
       "        [13, 15]]])"
      ]
     },
     "execution_count": 35,
     "metadata": {},
     "output_type": "execute_result"
    }
   ],
   "source": [
    "c[:,:,:,1]"
   ]
  },
  {
   "cell_type": "code",
   "execution_count": 37,
   "metadata": {},
   "outputs": [
    {
     "data": {
      "text/plain": [
       "array([[[0.05289432, 0.97800037],\n",
       "        [0.39094252, 0.38308627]],\n",
       "\n",
       "       [[0.36015093, 0.32695925],\n",
       "        [0.72772366, 0.3774145 ]],\n",
       "\n",
       "       [[0.52720279, 0.67330391],\n",
       "        [0.25763909, 0.12749418]]])"
      ]
     },
     "execution_count": 37,
     "metadata": {},
     "output_type": "execute_result"
    }
   ],
   "source": [
    "b"
   ]
  },
  {
   "cell_type": "code",
   "execution_count": 38,
   "metadata": {},
   "outputs": [
    {
     "data": {
      "text/plain": [
       "array([[0.05289432, 0.97800037],\n",
       "       [0.39094252, 0.38308627]])"
      ]
     },
     "execution_count": 38,
     "metadata": {},
     "output_type": "execute_result"
    }
   ],
   "source": [
    "b[0]"
   ]
  },
  {
   "cell_type": "code",
   "execution_count": 39,
   "metadata": {},
   "outputs": [
    {
     "data": {
      "text/plain": [
       "array([[0.54505349, 0.2493157 ],\n",
       "       [0.2469789 , 0.46031084]])"
      ]
     },
     "execution_count": 39,
     "metadata": {},
     "output_type": "execute_result"
    }
   ],
   "source": [
    "a.T"
   ]
  },
  {
   "cell_type": "code",
   "execution_count": 40,
   "metadata": {},
   "outputs": [
    {
     "data": {
      "text/plain": [
       "array([[0.54505349, 0.2493157 ],\n",
       "       [0.2469789 , 0.46031084]])"
      ]
     },
     "execution_count": 40,
     "metadata": {},
     "output_type": "execute_result"
    }
   ],
   "source": [
    "a.transpose()"
   ]
  },
  {
   "cell_type": "code",
   "execution_count": 42,
   "metadata": {},
   "outputs": [
    {
     "data": {
      "text/plain": [
       "120"
      ]
     },
     "execution_count": 42,
     "metadata": {},
     "output_type": "execute_result"
    }
   ],
   "source": [
    "c.sum()"
   ]
  },
  {
   "cell_type": "code",
   "execution_count": 45,
   "metadata": {},
   "outputs": [
    {
     "data": {
      "text/plain": [
       "array([[[[ 0,  1],\n",
       "         [ 2,  3]],\n",
       "\n",
       "        [[ 4,  5],\n",
       "         [ 6,  7]]],\n",
       "\n",
       "\n",
       "       [[[ 8,  9],\n",
       "         [10, 11]],\n",
       "\n",
       "        [[12, 13],\n",
       "         [14, 15]]]])"
      ]
     },
     "execution_count": 45,
     "metadata": {},
     "output_type": "execute_result"
    }
   ],
   "source": [
    "c"
   ]
  },
  {
   "cell_type": "code",
   "execution_count": 44,
   "metadata": {},
   "outputs": [
    {
     "data": {
      "text/plain": [
       "array([[[ 8, 10],\n",
       "        [12, 14]],\n",
       "\n",
       "       [[16, 18],\n",
       "        [20, 22]]])"
      ]
     },
     "execution_count": 44,
     "metadata": {},
     "output_type": "execute_result"
    }
   ],
   "source": [
    "c.sum(axis=0)"
   ]
  },
  {
   "cell_type": "code",
   "execution_count": 46,
   "metadata": {},
   "outputs": [
    {
     "data": {
      "text/plain": [
       "array([[[ 1,  5],\n",
       "        [ 9, 13]],\n",
       "\n",
       "       [[17, 21],\n",
       "        [25, 29]]])"
      ]
     },
     "execution_count": 46,
     "metadata": {},
     "output_type": "execute_result"
    }
   ],
   "source": [
    "c.sum(axis=3)"
   ]
  },
  {
   "cell_type": "code",
   "execution_count": 47,
   "metadata": {},
   "outputs": [],
   "source": [
    "c.sort()"
   ]
  },
  {
   "cell_type": "code",
   "execution_count": 48,
   "metadata": {},
   "outputs": [
    {
     "data": {
      "text/plain": [
       "array([[[[ 0,  1],\n",
       "         [ 2,  3]],\n",
       "\n",
       "        [[ 4,  5],\n",
       "         [ 6,  7]]],\n",
       "\n",
       "\n",
       "       [[[ 8,  9],\n",
       "         [10, 11]],\n",
       "\n",
       "        [[12, 13],\n",
       "         [14, 15]]]])"
      ]
     },
     "execution_count": 48,
     "metadata": {},
     "output_type": "execute_result"
    }
   ],
   "source": [
    "c"
   ]
  },
  {
   "cell_type": "code",
   "execution_count": 50,
   "metadata": {},
   "outputs": [],
   "source": [
    "c=np.arange(16,0,-1).reshape((2,2,2,2))"
   ]
  },
  {
   "cell_type": "code",
   "execution_count": 51,
   "metadata": {},
   "outputs": [
    {
     "data": {
      "text/plain": [
       "array([[[[16, 15],\n",
       "         [14, 13]],\n",
       "\n",
       "        [[12, 11],\n",
       "         [10,  9]]],\n",
       "\n",
       "\n",
       "       [[[ 8,  7],\n",
       "         [ 6,  5]],\n",
       "\n",
       "        [[ 4,  3],\n",
       "         [ 2,  1]]]])"
      ]
     },
     "execution_count": 51,
     "metadata": {},
     "output_type": "execute_result"
    }
   ],
   "source": [
    "c"
   ]
  },
  {
   "cell_type": "code",
   "execution_count": 52,
   "metadata": {},
   "outputs": [],
   "source": [
    "c.sort()"
   ]
  },
  {
   "cell_type": "code",
   "execution_count": 54,
   "metadata": {},
   "outputs": [],
   "source": [
    "c.sort(axis=0)"
   ]
  },
  {
   "cell_type": "code",
   "execution_count": 57,
   "metadata": {},
   "outputs": [
    {
     "data": {
      "text/plain": [
       "array([[[[ 1,  2],\n",
       "         [ 3,  4]],\n",
       "\n",
       "        [[ 5,  6],\n",
       "         [ 7,  8]]],\n",
       "\n",
       "\n",
       "       [[[ 9, 10],\n",
       "         [11, 12]],\n",
       "\n",
       "        [[13, 14],\n",
       "         [15, 16]]]])"
      ]
     },
     "execution_count": 57,
     "metadata": {},
     "output_type": "execute_result"
    }
   ],
   "source": [
    "c.sort(axis=1)\n",
    "c.sort(axis=2)\n",
    "c"
   ]
  },
  {
   "cell_type": "code",
   "execution_count": 58,
   "metadata": {},
   "outputs": [
    {
     "data": {
      "text/plain": [
       "array([[[0.05289432, 0.97800037],\n",
       "        [0.39094252, 0.38308627]],\n",
       "\n",
       "       [[0.36015093, 0.32695925],\n",
       "        [0.72772366, 0.3774145 ]],\n",
       "\n",
       "       [[0.52720279, 0.67330391],\n",
       "        [0.25763909, 0.12749418]]])"
      ]
     },
     "execution_count": 58,
     "metadata": {},
     "output_type": "execute_result"
    }
   ],
   "source": [
    "b"
   ]
  },
  {
   "cell_type": "code",
   "execution_count": 59,
   "metadata": {},
   "outputs": [],
   "source": [
    "b.sort(axis=0)"
   ]
  },
  {
   "cell_type": "code",
   "execution_count": 60,
   "metadata": {},
   "outputs": [
    {
     "data": {
      "text/plain": [
       "array([[[0.05289432, 0.32695925],\n",
       "        [0.25763909, 0.12749418]],\n",
       "\n",
       "       [[0.36015093, 0.67330391],\n",
       "        [0.39094252, 0.3774145 ]],\n",
       "\n",
       "       [[0.52720279, 0.97800037],\n",
       "        [0.72772366, 0.38308627]]])"
      ]
     },
     "execution_count": 60,
     "metadata": {},
     "output_type": "execute_result"
    }
   ],
   "source": [
    "b"
   ]
  },
  {
   "cell_type": "markdown",
   "metadata": {},
   "source": [
    "# Lab Review"
   ]
  },
  {
   "cell_type": "code",
   "execution_count": 5,
   "metadata": {},
   "outputs": [],
   "source": [
    "import numpy as np"
   ]
  },
  {
   "cell_type": "code",
   "execution_count": 6,
   "metadata": {},
   "outputs": [
    {
     "name": "stdout",
     "output_type": "stream",
     "text": [
      "1.19.2\n"
     ]
    }
   ],
   "source": [
    "print(np.__version__)"
   ]
  },
  {
   "cell_type": "code",
   "execution_count": 7,
   "metadata": {},
   "outputs": [],
   "source": [
    "a=np.random.random((2,3,5))"
   ]
  },
  {
   "cell_type": "code",
   "execution_count": 8,
   "metadata": {},
   "outputs": [
    {
     "data": {
      "text/plain": [
       "array([[[0.16934179, 0.47340438, 0.5381245 , 0.26551718, 0.21137736],\n",
       "        [0.25483375, 0.94155855, 0.9065304 , 0.1185789 , 0.36863527],\n",
       "        [0.63283801, 0.98571907, 0.85260574, 0.10684635, 0.50388784]],\n",
       "\n",
       "       [[0.33050999, 0.21297503, 0.6394684 , 0.14759132, 0.85992124],\n",
       "        [0.38588075, 0.10730984, 0.30261959, 0.96705553, 0.67404607],\n",
       "        [0.14952381, 0.01864145, 0.07535842, 0.38588098, 0.15580808]]])"
      ]
     },
     "execution_count": 8,
     "metadata": {},
     "output_type": "execute_result"
    }
   ],
   "source": [
    "a"
   ]
  },
  {
   "cell_type": "code",
   "execution_count": 9,
   "metadata": {},
   "outputs": [],
   "source": [
    "b=np.ones((5,2,3))"
   ]
  },
  {
   "cell_type": "code",
   "execution_count": 10,
   "metadata": {},
   "outputs": [
    {
     "data": {
      "text/plain": [
       "array([[[1., 1., 1.],\n",
       "        [1., 1., 1.]],\n",
       "\n",
       "       [[1., 1., 1.],\n",
       "        [1., 1., 1.]],\n",
       "\n",
       "       [[1., 1., 1.],\n",
       "        [1., 1., 1.]],\n",
       "\n",
       "       [[1., 1., 1.],\n",
       "        [1., 1., 1.]],\n",
       "\n",
       "       [[1., 1., 1.],\n",
       "        [1., 1., 1.]]])"
      ]
     },
     "execution_count": 10,
     "metadata": {},
     "output_type": "execute_result"
    }
   ],
   "source": [
    "b"
   ]
  },
  {
   "cell_type": "code",
   "execution_count": 11,
   "metadata": {},
   "outputs": [
    {
     "data": {
      "text/plain": [
       "(30, 30)"
      ]
     },
     "execution_count": 11,
     "metadata": {},
     "output_type": "execute_result"
    }
   ],
   "source": [
    "a.size, b.size"
   ]
  },
  {
   "cell_type": "code",
   "execution_count": 12,
   "metadata": {},
   "outputs": [
    {
     "ename": "ValueError",
     "evalue": "operands could not be broadcast together with shapes (2,3,5) (5,2,3) ",
     "output_type": "error",
     "traceback": [
      "\u001b[1;31m---------------------------------------------------------------------------\u001b[0m",
      "\u001b[1;31mValueError\u001b[0m                                Traceback (most recent call last)",
      "\u001b[1;32m<ipython-input-12-ca730b97bf8a>\u001b[0m in \u001b[0;36m<module>\u001b[1;34m\u001b[0m\n\u001b[1;32m----> 1\u001b[1;33m \u001b[0ma\u001b[0m\u001b[1;33m+\u001b[0m\u001b[0mb\u001b[0m\u001b[1;33m\u001b[0m\u001b[1;33m\u001b[0m\u001b[0m\n\u001b[0m",
      "\u001b[1;31mValueError\u001b[0m: operands could not be broadcast together with shapes (2,3,5) (5,2,3) "
     ]
    }
   ],
   "source": [
    "a+b"
   ]
  },
  {
   "cell_type": "code",
   "execution_count": 13,
   "metadata": {},
   "outputs": [],
   "source": [
    "c=b.transpose((1,2,0))"
   ]
  },
  {
   "cell_type": "code",
   "execution_count": 14,
   "metadata": {},
   "outputs": [],
   "source": [
    "d=a+c"
   ]
  },
  {
   "cell_type": "code",
   "execution_count": 15,
   "metadata": {},
   "outputs": [
    {
     "data": {
      "text/plain": [
       "array([[[0.16934179, 0.47340438, 0.5381245 , 0.26551718, 0.21137736],\n",
       "        [0.25483375, 0.94155855, 0.9065304 , 0.1185789 , 0.36863527],\n",
       "        [0.63283801, 0.98571907, 0.85260574, 0.10684635, 0.50388784]],\n",
       "\n",
       "       [[0.33050999, 0.21297503, 0.6394684 , 0.14759132, 0.85992124],\n",
       "        [0.38588075, 0.10730984, 0.30261959, 0.96705553, 0.67404607],\n",
       "        [0.14952381, 0.01864145, 0.07535842, 0.38588098, 0.15580808]]])"
      ]
     },
     "execution_count": 15,
     "metadata": {},
     "output_type": "execute_result"
    }
   ],
   "source": [
    "a"
   ]
  },
  {
   "cell_type": "code",
   "execution_count": 16,
   "metadata": {},
   "outputs": [
    {
     "data": {
      "text/plain": [
       "array([[[1.16934179, 1.47340438, 1.5381245 , 1.26551718, 1.21137736],\n",
       "        [1.25483375, 1.94155855, 1.9065304 , 1.1185789 , 1.36863527],\n",
       "        [1.63283801, 1.98571907, 1.85260574, 1.10684635, 1.50388784]],\n",
       "\n",
       "       [[1.33050999, 1.21297503, 1.6394684 , 1.14759132, 1.85992124],\n",
       "        [1.38588075, 1.10730984, 1.30261959, 1.96705553, 1.67404607],\n",
       "        [1.14952381, 1.01864145, 1.07535842, 1.38588098, 1.15580808]]])"
      ]
     },
     "execution_count": 16,
     "metadata": {},
     "output_type": "execute_result"
    }
   ],
   "source": [
    "d"
   ]
  },
  {
   "cell_type": "code",
   "execution_count": 17,
   "metadata": {},
   "outputs": [],
   "source": [
    "e=a*c"
   ]
  },
  {
   "cell_type": "code",
   "execution_count": 18,
   "metadata": {},
   "outputs": [
    {
     "data": {
      "text/plain": [
       "array([[[0.16934179, 0.47340438, 0.5381245 , 0.26551718, 0.21137736],\n",
       "        [0.25483375, 0.94155855, 0.9065304 , 0.1185789 , 0.36863527],\n",
       "        [0.63283801, 0.98571907, 0.85260574, 0.10684635, 0.50388784]],\n",
       "\n",
       "       [[0.33050999, 0.21297503, 0.6394684 , 0.14759132, 0.85992124],\n",
       "        [0.38588075, 0.10730984, 0.30261959, 0.96705553, 0.67404607],\n",
       "        [0.14952381, 0.01864145, 0.07535842, 0.38588098, 0.15580808]]])"
      ]
     },
     "execution_count": 18,
     "metadata": {},
     "output_type": "execute_result"
    }
   ],
   "source": [
    "a"
   ]
  },
  {
   "cell_type": "code",
   "execution_count": 19,
   "metadata": {},
   "outputs": [
    {
     "data": {
      "text/plain": [
       "array([[[0.16934179, 0.47340438, 0.5381245 , 0.26551718, 0.21137736],\n",
       "        [0.25483375, 0.94155855, 0.9065304 , 0.1185789 , 0.36863527],\n",
       "        [0.63283801, 0.98571907, 0.85260574, 0.10684635, 0.50388784]],\n",
       "\n",
       "       [[0.33050999, 0.21297503, 0.6394684 , 0.14759132, 0.85992124],\n",
       "        [0.38588075, 0.10730984, 0.30261959, 0.96705553, 0.67404607],\n",
       "        [0.14952381, 0.01864145, 0.07535842, 0.38588098, 0.15580808]]])"
      ]
     },
     "execution_count": 19,
     "metadata": {},
     "output_type": "execute_result"
    }
   ],
   "source": [
    "e"
   ]
  },
  {
   "cell_type": "code",
   "execution_count": 20,
   "metadata": {},
   "outputs": [],
   "source": [
    "d_max=d.max()"
   ]
  },
  {
   "cell_type": "code",
   "execution_count": 21,
   "metadata": {},
   "outputs": [],
   "source": [
    "d_min=d.min()"
   ]
  },
  {
   "cell_type": "code",
   "execution_count": 22,
   "metadata": {},
   "outputs": [],
   "source": [
    "d_mean=d.mean()"
   ]
  },
  {
   "cell_type": "code",
   "execution_count": 23,
   "metadata": {},
   "outputs": [],
   "source": [
    "f=np.zeros((2,3,5))"
   ]
  },
  {
   "cell_type": "code",
   "execution_count": 24,
   "metadata": {},
   "outputs": [
    {
     "data": {
      "text/plain": [
       "array([[[0., 0., 0., 0., 0.],\n",
       "        [0., 0., 0., 0., 0.],\n",
       "        [0., 0., 0., 0., 0.]],\n",
       "\n",
       "       [[0., 0., 0., 0., 0.],\n",
       "        [0., 0., 0., 0., 0.],\n",
       "        [0., 0., 0., 0., 0.]]])"
      ]
     },
     "execution_count": 24,
     "metadata": {},
     "output_type": "execute_result"
    }
   ],
   "source": [
    "f"
   ]
  },
  {
   "cell_type": "code",
   "execution_count": null,
   "metadata": {},
   "outputs": [],
   "source": []
  },
  {
   "cell_type": "code",
   "execution_count": 30,
   "metadata": {},
   "outputs": [],
   "source": [
    "for idx1, m_1 in enumerate(d):\n",
    "    for idx2, m_2 in enumerate(m_1):\n",
    "        for idx, i in enumerate(m_2):\n",
    "            if d_min < i < d_mean:\n",
    "                f[idx1, idx2, idx] = 25\n",
    "            elif d_mean < i < d_max:\n",
    "                f[idx1, idx2, idx] = 75\n",
    "            elif i == d_mean:\n",
    "                f[idx1, idx2, idx] = 50\n",
    "            elif i == d_min:\n",
    "                f[idx1, idx2, idx] = 0\n",
    "            elif i == d_max:\n",
    "                f[idx1, idx2, idx] = 100"
   ]
  },
  {
   "cell_type": "code",
   "execution_count": 31,
   "metadata": {},
   "outputs": [
    {
     "data": {
      "text/plain": [
       "1.9857190660926003"
      ]
     },
     "execution_count": 31,
     "metadata": {},
     "output_type": "execute_result"
    }
   ],
   "source": [
    "d_max"
   ]
  },
  {
   "cell_type": "code",
   "execution_count": 32,
   "metadata": {},
   "outputs": [
    {
     "data": {
      "text/plain": [
       "array([[[1.16934179, 1.47340438, 1.5381245 , 1.26551718, 1.21137736],\n",
       "        [1.25483375, 1.94155855, 1.9065304 , 1.1185789 , 1.36863527],\n",
       "        [1.63283801, 1.98571907, 1.85260574, 1.10684635, 1.50388784]],\n",
       "\n",
       "       [[1.33050999, 1.21297503, 1.6394684 , 1.14759132, 1.85992124],\n",
       "        [1.38588075, 1.10730984, 1.30261959, 1.96705553, 1.67404607],\n",
       "        [1.14952381, 1.01864145, 1.07535842, 1.38588098, 1.15580808]]])"
      ]
     },
     "execution_count": 32,
     "metadata": {},
     "output_type": "execute_result"
    }
   ],
   "source": [
    "d"
   ]
  },
  {
   "cell_type": "code",
   "execution_count": 33,
   "metadata": {},
   "outputs": [
    {
     "data": {
      "text/plain": [
       "array([[[ 25.,  75.,  75.,  25.,  25.],\n",
       "        [ 25.,  75.,  75.,  25.,  25.],\n",
       "        [ 75., 100.,  75.,  25.,  75.]],\n",
       "\n",
       "       [[ 25.,  25.,  75.,  25.,  75.],\n",
       "        [ 25.,  25.,  25.,  75.,  75.],\n",
       "        [ 25.,   0.,  25.,  25.,  25.]]])"
      ]
     },
     "execution_count": 33,
     "metadata": {},
     "output_type": "execute_result"
    }
   ],
   "source": [
    "f"
   ]
  },
  {
   "cell_type": "code",
   "execution_count": null,
   "metadata": {},
   "outputs": [],
   "source": []
  },
  {
   "cell_type": "code",
   "execution_count": null,
   "metadata": {},
   "outputs": [],
   "source": []
  },
  {
   "cell_type": "code",
   "execution_count": null,
   "metadata": {},
   "outputs": [],
   "source": []
  },
  {
   "cell_type": "code",
   "execution_count": 102,
   "metadata": {},
   "outputs": [],
   "source": [
    "f=np.where(d==d_max,100,d)\n",
    "f=np.where(d<d_max, 75, f)\n",
    "f=np.where(d==d_mean, 50, f)\n",
    "f=np.where(d<d_mean, 25, f)\n",
    "f=np.where(d==d_min, 0, f)"
   ]
  },
  {
   "cell_type": "code",
   "execution_count": 103,
   "metadata": {},
   "outputs": [
    {
     "data": {
      "text/plain": [
       "array([[[ 75.,  75.,  25.,  75.,  75.],\n",
       "        [ 75.,  75.,  25.,  25.,  25.],\n",
       "        [ 75.,  75.,  25., 100.,  25.]],\n",
       "\n",
       "       [[ 75.,  25.,   0.,  25.,  25.],\n",
       "        [ 75.,  75.,  75.,  25.,  25.],\n",
       "        [ 25.,  25.,  25.,  25.,  75.]]])"
      ]
     },
     "execution_count": 103,
     "metadata": {},
     "output_type": "execute_result"
    }
   ],
   "source": [
    "f"
   ]
  },
  {
   "cell_type": "code",
   "execution_count": 104,
   "metadata": {},
   "outputs": [],
   "source": [
    "g=np.where(f==100,'E',f)\n",
    "g=np.where(f==75, 'D', g)\n",
    "g=np.where(f==50, 'C', g)\n",
    "g=np.where(f==25, 'B', g)\n",
    "g=np.where(f==0, 'A', g)"
   ]
  },
  {
   "cell_type": "code",
   "execution_count": 105,
   "metadata": {},
   "outputs": [
    {
     "data": {
      "text/plain": [
       "array([[['D', 'D', 'B', 'D', 'D'],\n",
       "        ['D', 'D', 'B', 'B', 'B'],\n",
       "        ['D', 'D', 'B', 'E', 'B']],\n",
       "\n",
       "       [['D', 'B', 'A', 'B', 'B'],\n",
       "        ['D', 'D', 'D', 'B', 'B'],\n",
       "        ['B', 'B', 'B', 'B', 'D']]], dtype='<U32')"
      ]
     },
     "execution_count": 105,
     "metadata": {},
     "output_type": "execute_result"
    }
   ],
   "source": [
    "g"
   ]
  },
  {
   "cell_type": "markdown",
   "metadata": {},
   "source": [
    "# Advanced Functional Programming"
   ]
  },
  {
   "cell_type": "markdown",
   "metadata": {},
   "source": [
    "## map"
   ]
  },
  {
   "cell_type": "code",
   "execution_count": 114,
   "metadata": {},
   "outputs": [],
   "source": [
    "def foo(x):\n",
    "    return x%2==0"
   ]
  },
  {
   "cell_type": "code",
   "execution_count": 109,
   "metadata": {},
   "outputs": [
    {
     "data": {
      "text/plain": [
       "True"
      ]
     },
     "execution_count": 109,
     "metadata": {},
     "output_type": "execute_result"
    }
   ],
   "source": [
    "foo(2)"
   ]
  },
  {
   "cell_type": "code",
   "execution_count": 110,
   "metadata": {},
   "outputs": [],
   "source": [
    "l=[10,11,13,16,17]"
   ]
  },
  {
   "cell_type": "code",
   "execution_count": 116,
   "metadata": {},
   "outputs": [
    {
     "data": {
      "text/plain": [
       "[True, False, False, True, False]"
      ]
     },
     "execution_count": 116,
     "metadata": {},
     "output_type": "execute_result"
    }
   ],
   "source": [
    "[foo(i) for i in l]"
   ]
  },
  {
   "cell_type": "code",
   "execution_count": 117,
   "metadata": {},
   "outputs": [
    {
     "data": {
      "text/plain": [
       "<map at 0x1dda7848d00>"
      ]
     },
     "execution_count": 117,
     "metadata": {},
     "output_type": "execute_result"
    }
   ],
   "source": [
    "map(foo, l)"
   ]
  },
  {
   "cell_type": "code",
   "execution_count": 118,
   "metadata": {},
   "outputs": [
    {
     "data": {
      "text/plain": [
       "[True, False, False, True, False]"
      ]
     },
     "execution_count": 118,
     "metadata": {},
     "output_type": "execute_result"
    }
   ],
   "source": [
    "list(map(foo,l))"
   ]
  },
  {
   "cell_type": "code",
   "execution_count": 125,
   "metadata": {},
   "outputs": [],
   "source": [
    "import pandas as pd\n",
    "df=pd.DataFrame([[1,2,3],[2,3,np.nan]])\n"
   ]
  },
  {
   "cell_type": "code",
   "execution_count": 126,
   "metadata": {},
   "outputs": [
    {
     "data": {
      "text/html": [
       "<div>\n",
       "<style scoped>\n",
       "    .dataframe tbody tr th:only-of-type {\n",
       "        vertical-align: middle;\n",
       "    }\n",
       "\n",
       "    .dataframe tbody tr th {\n",
       "        vertical-align: top;\n",
       "    }\n",
       "\n",
       "    .dataframe thead th {\n",
       "        text-align: right;\n",
       "    }\n",
       "</style>\n",
       "<table border=\"1\" class=\"dataframe\">\n",
       "  <thead>\n",
       "    <tr style=\"text-align: right;\">\n",
       "      <th></th>\n",
       "      <th>0</th>\n",
       "      <th>1</th>\n",
       "      <th>2</th>\n",
       "    </tr>\n",
       "  </thead>\n",
       "  <tbody>\n",
       "    <tr>\n",
       "      <th>0</th>\n",
       "      <td>1</td>\n",
       "      <td>2</td>\n",
       "      <td>3.0</td>\n",
       "    </tr>\n",
       "    <tr>\n",
       "      <th>1</th>\n",
       "      <td>2</td>\n",
       "      <td>3</td>\n",
       "      <td>NaN</td>\n",
       "    </tr>\n",
       "  </tbody>\n",
       "</table>\n",
       "</div>"
      ],
      "text/plain": [
       "   0  1    2\n",
       "0  1  2  3.0\n",
       "1  2  3  NaN"
      ]
     },
     "execution_count": 126,
     "metadata": {},
     "output_type": "execute_result"
    }
   ],
   "source": [
    "df"
   ]
  },
  {
   "cell_type": "code",
   "execution_count": 128,
   "metadata": {},
   "outputs": [
    {
     "name": "stdout",
     "output_type": "stream",
     "text": [
      "1\n",
      "1\n",
      "0.0\n"
     ]
    }
   ],
   "source": [
    "for i in df:\n",
    "    print(df[i].max()-df[i].min())"
   ]
  },
  {
   "cell_type": "code",
   "execution_count": 134,
   "metadata": {},
   "outputs": [],
   "source": [
    "def foo(x):\n",
    "    return x/2"
   ]
  },
  {
   "cell_type": "code",
   "execution_count": 136,
   "metadata": {},
   "outputs": [
    {
     "data": {
      "text/plain": [
       "0    0.5\n",
       "1    1.0\n",
       "Name: 0, dtype: float64"
      ]
     },
     "execution_count": 136,
     "metadata": {},
     "output_type": "execute_result"
    }
   ],
   "source": [
    "df[0].map(foo)"
   ]
  },
  {
   "cell_type": "code",
   "execution_count": 138,
   "metadata": {},
   "outputs": [
    {
     "data": {
      "text/plain": [
       "array([1, 2], dtype=int64)"
      ]
     },
     "execution_count": 138,
     "metadata": {},
     "output_type": "execute_result"
    }
   ],
   "source": [
    "df[0].values"
   ]
  },
  {
   "cell_type": "code",
   "execution_count": 139,
   "metadata": {},
   "outputs": [],
   "source": [
    "dct={1:'apple',2:'plum'}"
   ]
  },
  {
   "cell_type": "code",
   "execution_count": 142,
   "metadata": {},
   "outputs": [
    {
     "data": {
      "text/plain": [
       "0    1\n",
       "1    2\n",
       "Name: 0, dtype: int64"
      ]
     },
     "execution_count": 142,
     "metadata": {},
     "output_type": "execute_result"
    }
   ],
   "source": [
    "df[0]"
   ]
  },
  {
   "cell_type": "code",
   "execution_count": 141,
   "metadata": {},
   "outputs": [
    {
     "data": {
      "text/plain": [
       "0    apple\n",
       "1     plum\n",
       "Name: 0, dtype: object"
      ]
     },
     "execution_count": 141,
     "metadata": {},
     "output_type": "execute_result"
    }
   ],
   "source": [
    "df[0].map(dct)"
   ]
  },
  {
   "cell_type": "code",
   "execution_count": 144,
   "metadata": {},
   "outputs": [
    {
     "data": {
      "text/plain": [
       "0    plum\n",
       "1     NaN\n",
       "Name: 1, dtype: object"
      ]
     },
     "execution_count": 144,
     "metadata": {},
     "output_type": "execute_result"
    }
   ],
   "source": [
    "df[1].map(dct)"
   ]
  },
  {
   "cell_type": "code",
   "execution_count": 145,
   "metadata": {},
   "outputs": [
    {
     "data": {
      "text/plain": [
       "0    0.5\n",
       "1    1.0\n",
       "Name: 0, dtype: float64"
      ]
     },
     "execution_count": 145,
     "metadata": {},
     "output_type": "execute_result"
    }
   ],
   "source": [
    "df[0]/2"
   ]
  },
  {
   "cell_type": "markdown",
   "metadata": {},
   "source": [
    "## filter"
   ]
  },
  {
   "cell_type": "code",
   "execution_count": 146,
   "metadata": {},
   "outputs": [
    {
     "data": {
      "text/plain": [
       "[10, 11, 13, 16, 17]"
      ]
     },
     "execution_count": 146,
     "metadata": {},
     "output_type": "execute_result"
    }
   ],
   "source": [
    "l"
   ]
  },
  {
   "cell_type": "code",
   "execution_count": 149,
   "metadata": {},
   "outputs": [],
   "source": [
    "def foo(x):\n",
    "    return x%2==0"
   ]
  },
  {
   "cell_type": "markdown",
   "metadata": {},
   "source": [
    "The procedure that returns a list containing only those values from a given iterable that meets the criteria specified in the function (function should return True)"
   ]
  },
  {
   "cell_type": "code",
   "execution_count": 150,
   "metadata": {},
   "outputs": [
    {
     "data": {
      "text/plain": [
       "[True, False, False, True, False]"
      ]
     },
     "execution_count": 150,
     "metadata": {},
     "output_type": "execute_result"
    }
   ],
   "source": [
    "list(map(foo, l))"
   ]
  },
  {
   "cell_type": "code",
   "execution_count": 151,
   "metadata": {},
   "outputs": [
    {
     "data": {
      "text/plain": [
       "[10, 16]"
      ]
     },
     "execution_count": 151,
     "metadata": {},
     "output_type": "execute_result"
    }
   ],
   "source": [
    "list(filter(foo,l))"
   ]
  },
  {
   "cell_type": "code",
   "execution_count": 152,
   "metadata": {},
   "outputs": [],
   "source": [
    "df.index=['mouse','cat']"
   ]
  },
  {
   "cell_type": "code",
   "execution_count": 153,
   "metadata": {},
   "outputs": [
    {
     "data": {
      "text/html": [
       "<div>\n",
       "<style scoped>\n",
       "    .dataframe tbody tr th:only-of-type {\n",
       "        vertical-align: middle;\n",
       "    }\n",
       "\n",
       "    .dataframe tbody tr th {\n",
       "        vertical-align: top;\n",
       "    }\n",
       "\n",
       "    .dataframe thead th {\n",
       "        text-align: right;\n",
       "    }\n",
       "</style>\n",
       "<table border=\"1\" class=\"dataframe\">\n",
       "  <thead>\n",
       "    <tr style=\"text-align: right;\">\n",
       "      <th></th>\n",
       "      <th>0</th>\n",
       "      <th>1</th>\n",
       "      <th>2</th>\n",
       "    </tr>\n",
       "  </thead>\n",
       "  <tbody>\n",
       "    <tr>\n",
       "      <th>mouse</th>\n",
       "      <td>1</td>\n",
       "      <td>2</td>\n",
       "      <td>3.0</td>\n",
       "    </tr>\n",
       "    <tr>\n",
       "      <th>cat</th>\n",
       "      <td>2</td>\n",
       "      <td>3</td>\n",
       "      <td>NaN</td>\n",
       "    </tr>\n",
       "  </tbody>\n",
       "</table>\n",
       "</div>"
      ],
      "text/plain": [
       "       0  1    2\n",
       "mouse  1  2  3.0\n",
       "cat    2  3  NaN"
      ]
     },
     "execution_count": 153,
     "metadata": {},
     "output_type": "execute_result"
    }
   ],
   "source": [
    "df"
   ]
  },
  {
   "cell_type": "code",
   "execution_count": 154,
   "metadata": {},
   "outputs": [
    {
     "data": {
      "text/html": [
       "<div>\n",
       "<style scoped>\n",
       "    .dataframe tbody tr th:only-of-type {\n",
       "        vertical-align: middle;\n",
       "    }\n",
       "\n",
       "    .dataframe tbody tr th {\n",
       "        vertical-align: top;\n",
       "    }\n",
       "\n",
       "    .dataframe thead th {\n",
       "        text-align: right;\n",
       "    }\n",
       "</style>\n",
       "<table border=\"1\" class=\"dataframe\">\n",
       "  <thead>\n",
       "    <tr style=\"text-align: right;\">\n",
       "      <th></th>\n",
       "      <th>0</th>\n",
       "      <th>1</th>\n",
       "      <th>2</th>\n",
       "    </tr>\n",
       "  </thead>\n",
       "  <tbody>\n",
       "    <tr>\n",
       "      <th>mouse</th>\n",
       "      <td>1</td>\n",
       "      <td>2</td>\n",
       "      <td>3.0</td>\n",
       "    </tr>\n",
       "  </tbody>\n",
       "</table>\n",
       "</div>"
      ],
      "text/plain": [
       "       0  1    2\n",
       "mouse  1  2  3.0"
      ]
     },
     "execution_count": 154,
     "metadata": {},
     "output_type": "execute_result"
    }
   ],
   "source": [
    "df.filter(like='ouse',axis=0)"
   ]
  },
  {
   "cell_type": "code",
   "execution_count": 155,
   "metadata": {},
   "outputs": [
    {
     "data": {
      "text/html": [
       "<div>\n",
       "<style scoped>\n",
       "    .dataframe tbody tr th:only-of-type {\n",
       "        vertical-align: middle;\n",
       "    }\n",
       "\n",
       "    .dataframe tbody tr th {\n",
       "        vertical-align: top;\n",
       "    }\n",
       "\n",
       "    .dataframe thead th {\n",
       "        text-align: right;\n",
       "    }\n",
       "</style>\n",
       "<table border=\"1\" class=\"dataframe\">\n",
       "  <thead>\n",
       "    <tr style=\"text-align: right;\">\n",
       "      <th></th>\n",
       "      <th>0</th>\n",
       "      <th>1</th>\n",
       "      <th>2</th>\n",
       "    </tr>\n",
       "  </thead>\n",
       "  <tbody>\n",
       "    <tr>\n",
       "      <th>mouse</th>\n",
       "      <td>1</td>\n",
       "      <td>2</td>\n",
       "      <td>3.0</td>\n",
       "    </tr>\n",
       "  </tbody>\n",
       "</table>\n",
       "</div>"
      ],
      "text/plain": [
       "       0  1    2\n",
       "mouse  1  2  3.0"
      ]
     },
     "execution_count": 155,
     "metadata": {},
     "output_type": "execute_result"
    }
   ],
   "source": [
    "df.filter(like='ou',axis=0)"
   ]
  },
  {
   "cell_type": "code",
   "execution_count": 156,
   "metadata": {},
   "outputs": [
    {
     "data": {
      "text/html": [
       "<div>\n",
       "<style scoped>\n",
       "    .dataframe tbody tr th:only-of-type {\n",
       "        vertical-align: middle;\n",
       "    }\n",
       "\n",
       "    .dataframe tbody tr th {\n",
       "        vertical-align: top;\n",
       "    }\n",
       "\n",
       "    .dataframe thead th {\n",
       "        text-align: right;\n",
       "    }\n",
       "</style>\n",
       "<table border=\"1\" class=\"dataframe\">\n",
       "  <thead>\n",
       "    <tr style=\"text-align: right;\">\n",
       "      <th></th>\n",
       "      <th>0</th>\n",
       "      <th>1</th>\n",
       "      <th>2</th>\n",
       "    </tr>\n",
       "  </thead>\n",
       "  <tbody>\n",
       "    <tr>\n",
       "      <th>cat</th>\n",
       "      <td>2</td>\n",
       "      <td>3</td>\n",
       "      <td>NaN</td>\n",
       "    </tr>\n",
       "  </tbody>\n",
       "</table>\n",
       "</div>"
      ],
      "text/plain": [
       "     0  1   2\n",
       "cat  2  3 NaN"
      ]
     },
     "execution_count": 156,
     "metadata": {},
     "output_type": "execute_result"
    }
   ],
   "source": [
    "df.filter(like='t',axis=0)"
   ]
  },
  {
   "cell_type": "code",
   "execution_count": 159,
   "metadata": {},
   "outputs": [
    {
     "data": {
      "text/html": [
       "<div>\n",
       "<style scoped>\n",
       "    .dataframe tbody tr th:only-of-type {\n",
       "        vertical-align: middle;\n",
       "    }\n",
       "\n",
       "    .dataframe tbody tr th {\n",
       "        vertical-align: top;\n",
       "    }\n",
       "\n",
       "    .dataframe thead th {\n",
       "        text-align: right;\n",
       "    }\n",
       "</style>\n",
       "<table border=\"1\" class=\"dataframe\">\n",
       "  <thead>\n",
       "    <tr style=\"text-align: right;\">\n",
       "      <th></th>\n",
       "      <th>0</th>\n",
       "      <th>1</th>\n",
       "      <th>2</th>\n",
       "    </tr>\n",
       "  </thead>\n",
       "  <tbody>\n",
       "    <tr>\n",
       "      <th>mouse</th>\n",
       "      <td>1</td>\n",
       "      <td>2</td>\n",
       "      <td>3.0</td>\n",
       "    </tr>\n",
       "  </tbody>\n",
       "</table>\n",
       "</div>"
      ],
      "text/plain": [
       "       0  1    2\n",
       "mouse  1  2  3.0"
      ]
     },
     "execution_count": 159,
     "metadata": {},
     "output_type": "execute_result"
    }
   ],
   "source": [
    "df.loc[df.index.str.contains('ouse')]"
   ]
  },
  {
   "cell_type": "code",
   "execution_count": 160,
   "metadata": {},
   "outputs": [
    {
     "data": {
      "text/html": [
       "<div>\n",
       "<style scoped>\n",
       "    .dataframe tbody tr th:only-of-type {\n",
       "        vertical-align: middle;\n",
       "    }\n",
       "\n",
       "    .dataframe tbody tr th {\n",
       "        vertical-align: top;\n",
       "    }\n",
       "\n",
       "    .dataframe thead th {\n",
       "        text-align: right;\n",
       "    }\n",
       "</style>\n",
       "<table border=\"1\" class=\"dataframe\">\n",
       "  <thead>\n",
       "    <tr style=\"text-align: right;\">\n",
       "      <th></th>\n",
       "      <th>0</th>\n",
       "      <th>2</th>\n",
       "    </tr>\n",
       "  </thead>\n",
       "  <tbody>\n",
       "    <tr>\n",
       "      <th>mouse</th>\n",
       "      <td>1</td>\n",
       "      <td>3.0</td>\n",
       "    </tr>\n",
       "    <tr>\n",
       "      <th>cat</th>\n",
       "      <td>2</td>\n",
       "      <td>NaN</td>\n",
       "    </tr>\n",
       "  </tbody>\n",
       "</table>\n",
       "</div>"
      ],
      "text/plain": [
       "       0    2\n",
       "mouse  1  3.0\n",
       "cat    2  NaN"
      ]
     },
     "execution_count": 160,
     "metadata": {},
     "output_type": "execute_result"
    }
   ],
   "source": [
    "df.filter(items=[0,2],axis=1)"
   ]
  },
  {
   "cell_type": "markdown",
   "metadata": {},
   "source": [
    "## reduce"
   ]
  },
  {
   "cell_type": "markdown",
   "metadata": {},
   "source": [
    "<img src='https://www.python-course.eu/images/reduce_diagram.png'>"
   ]
  },
  {
   "cell_type": "code",
   "execution_count": 161,
   "metadata": {},
   "outputs": [],
   "source": [
    "def func(a,b):\n",
    "    return a+b"
   ]
  },
  {
   "cell_type": "code",
   "execution_count": 162,
   "metadata": {},
   "outputs": [],
   "source": [
    "from functools import reduce"
   ]
  },
  {
   "cell_type": "code",
   "execution_count": 163,
   "metadata": {},
   "outputs": [
    {
     "data": {
      "text/plain": [
       "113"
      ]
     },
     "execution_count": 163,
     "metadata": {},
     "output_type": "execute_result"
    }
   ],
   "source": [
    "reduce(func, [47,11,42,13])"
   ]
  },
  {
   "cell_type": "code",
   "execution_count": 164,
   "metadata": {},
   "outputs": [],
   "source": [
    "def func(a,b):\n",
    "    return a if a>b else b"
   ]
  },
  {
   "cell_type": "markdown",
   "metadata": {},
   "source": [
    "47 vs 11 --> 47  \n",
    "47 vs 42 --> 47  \n",
    "47 vs 13 --> 47  "
   ]
  },
  {
   "cell_type": "code",
   "execution_count": 165,
   "metadata": {},
   "outputs": [
    {
     "data": {
      "text/plain": [
       "47"
      ]
     },
     "execution_count": 165,
     "metadata": {},
     "output_type": "execute_result"
    }
   ],
   "source": [
    "reduce(func, [47,11,42,13])"
   ]
  },
  {
   "cell_type": "code",
   "execution_count": 166,
   "metadata": {},
   "outputs": [],
   "source": [
    "def func(a,b):\n",
    "    return b if a>b else a"
   ]
  },
  {
   "cell_type": "code",
   "execution_count": 167,
   "metadata": {},
   "outputs": [
    {
     "data": {
      "text/plain": [
       "11"
      ]
     },
     "execution_count": 167,
     "metadata": {},
     "output_type": "execute_result"
    }
   ],
   "source": [
    "reduce(func, [47,11,42,13])"
   ]
  },
  {
   "cell_type": "markdown",
   "metadata": {},
   "source": [
    "## lambda"
   ]
  },
  {
   "cell_type": "markdown",
   "metadata": {},
   "source": [
    "```python\n",
    "lambda arguments: expression\n",
    "```"
   ]
  },
  {
   "cell_type": "code",
   "execution_count": 172,
   "metadata": {},
   "outputs": [],
   "source": [
    "# regular function\n",
    "def squared(x):\n",
    "    return x**2"
   ]
  },
  {
   "cell_type": "code",
   "execution_count": 173,
   "metadata": {},
   "outputs": [
    {
     "data": {
      "text/plain": [
       "[100, 121, 169, 256, 289]"
      ]
     },
     "execution_count": 173,
     "metadata": {},
     "output_type": "execute_result"
    }
   ],
   "source": [
    "list(map(squared, l))"
   ]
  },
  {
   "cell_type": "code",
   "execution_count": 174,
   "metadata": {},
   "outputs": [],
   "source": [
    "square=lambda x: x**2"
   ]
  },
  {
   "cell_type": "code",
   "execution_count": 175,
   "metadata": {},
   "outputs": [
    {
     "data": {
      "text/plain": [
       "[100, 121, 169, 256, 289]"
      ]
     },
     "execution_count": 175,
     "metadata": {},
     "output_type": "execute_result"
    }
   ],
   "source": [
    "list(map(square, l))"
   ]
  },
  {
   "cell_type": "code",
   "execution_count": 176,
   "metadata": {},
   "outputs": [
    {
     "data": {
      "text/plain": [
       "[100, 121, 169, 256, 289]"
      ]
     },
     "execution_count": 176,
     "metadata": {},
     "output_type": "execute_result"
    }
   ],
   "source": [
    "list(map(lambda x: x**2, l))"
   ]
  },
  {
   "cell_type": "code",
   "execution_count": 177,
   "metadata": {},
   "outputs": [
    {
     "data": {
      "text/plain": [
       "121"
      ]
     },
     "execution_count": 177,
     "metadata": {},
     "output_type": "execute_result"
    }
   ],
   "source": [
    "squared(11)"
   ]
  },
  {
   "cell_type": "code",
   "execution_count": 178,
   "metadata": {},
   "outputs": [
    {
     "data": {
      "text/plain": [
       "121"
      ]
     },
     "execution_count": 178,
     "metadata": {},
     "output_type": "execute_result"
    }
   ],
   "source": [
    "square(11)"
   ]
  },
  {
   "cell_type": "code",
   "execution_count": 179,
   "metadata": {},
   "outputs": [
    {
     "data": {
      "text/plain": [
       "121"
      ]
     },
     "execution_count": 179,
     "metadata": {},
     "output_type": "execute_result"
    }
   ],
   "source": [
    "(lambda x: x**2)(11)"
   ]
  },
  {
   "cell_type": "markdown",
   "metadata": {},
   "source": [
    "define a normal and lambda function that would return me a result of division with 0 in case of division by 0"
   ]
  },
  {
   "cell_type": "code",
   "execution_count": 180,
   "metadata": {},
   "outputs": [],
   "source": [
    "def div(x,y):\n",
    "    return x/y if y!=0 else y"
   ]
  },
  {
   "cell_type": "code",
   "execution_count": 181,
   "metadata": {},
   "outputs": [
    {
     "data": {
      "text/plain": [
       "2.0"
      ]
     },
     "execution_count": 181,
     "metadata": {},
     "output_type": "execute_result"
    }
   ],
   "source": [
    "div(4,2)"
   ]
  },
  {
   "cell_type": "code",
   "execution_count": 182,
   "metadata": {},
   "outputs": [
    {
     "data": {
      "text/plain": [
       "0"
      ]
     },
     "execution_count": 182,
     "metadata": {},
     "output_type": "execute_result"
    }
   ],
   "source": [
    "div(4,0)"
   ]
  },
  {
   "cell_type": "code",
   "execution_count": 183,
   "metadata": {},
   "outputs": [],
   "source": [
    "div2=lambda x,y: x/y if y!=0 else y"
   ]
  },
  {
   "cell_type": "code",
   "execution_count": 184,
   "metadata": {},
   "outputs": [
    {
     "data": {
      "text/plain": [
       "2.0"
      ]
     },
     "execution_count": 184,
     "metadata": {},
     "output_type": "execute_result"
    }
   ],
   "source": [
    "div2(4,2)"
   ]
  },
  {
   "cell_type": "code",
   "execution_count": 185,
   "metadata": {},
   "outputs": [
    {
     "data": {
      "text/plain": [
       "0"
      ]
     },
     "execution_count": 185,
     "metadata": {},
     "output_type": "execute_result"
    }
   ],
   "source": [
    "div2(4,0)"
   ]
  },
  {
   "cell_type": "code",
   "execution_count": 186,
   "metadata": {},
   "outputs": [],
   "source": [
    "def generate_range(lower):\n",
    "    return lambda upper: range(lower,upper)"
   ]
  },
  {
   "cell_type": "code",
   "execution_count": 187,
   "metadata": {},
   "outputs": [],
   "source": [
    "func1=generate_range(1)"
   ]
  },
  {
   "cell_type": "code",
   "execution_count": 189,
   "metadata": {},
   "outputs": [
    {
     "data": {
      "text/plain": [
       "range(1, 10)"
      ]
     },
     "execution_count": 189,
     "metadata": {},
     "output_type": "execute_result"
    }
   ],
   "source": [
    "func1(10)"
   ]
  },
  {
   "cell_type": "code",
   "execution_count": 190,
   "metadata": {},
   "outputs": [
    {
     "data": {
      "text/plain": [
       "range(1, 5)"
      ]
     },
     "execution_count": 190,
     "metadata": {},
     "output_type": "execute_result"
    }
   ],
   "source": [
    "func1(5)"
   ]
  },
  {
   "cell_type": "code",
   "execution_count": 191,
   "metadata": {},
   "outputs": [
    {
     "data": {
      "text/plain": [
       "range(5, 10)"
      ]
     },
     "execution_count": 191,
     "metadata": {},
     "output_type": "execute_result"
    }
   ],
   "source": [
    "func5=generate_range(5)\n",
    "func5(10)"
   ]
  },
  {
   "cell_type": "code",
   "execution_count": 192,
   "metadata": {},
   "outputs": [
    {
     "data": {
      "text/plain": [
       "range(5, 22)"
      ]
     },
     "execution_count": 192,
     "metadata": {},
     "output_type": "execute_result"
    }
   ],
   "source": [
    "func5(22)"
   ]
  },
  {
   "cell_type": "code",
   "execution_count": 193,
   "metadata": {},
   "outputs": [
    {
     "data": {
      "text/plain": [
       "range(-10000000, 10)"
      ]
     },
     "execution_count": 193,
     "metadata": {},
     "output_type": "execute_result"
    }
   ],
   "source": [
    "func5=generate_range(-10000000)\n",
    "func5(10)"
   ]
  },
  {
   "cell_type": "code",
   "execution_count": 194,
   "metadata": {},
   "outputs": [],
   "source": [
    "list_of_topics=['python-programming','mysql','web-scrapping','tableau','data-viz','statistics','machine-learning','neural-nets']\n"
   ]
  },
  {
   "cell_type": "code",
   "execution_count": 195,
   "metadata": {},
   "outputs": [
    {
     "data": {
      "text/plain": [
       "['python-programming',\n",
       " 'mysql',\n",
       " 'web-scrapping',\n",
       " 'tableau',\n",
       " 'data-viz',\n",
       " 'statistics',\n",
       " 'machine-learning',\n",
       " 'neural-nets']"
      ]
     },
     "execution_count": 195,
     "metadata": {},
     "output_type": "execute_result"
    }
   ],
   "source": [
    "list_of_topics"
   ]
  },
  {
   "cell_type": "code",
   "execution_count": 199,
   "metadata": {},
   "outputs": [],
   "source": [
    "list_of_topics=list(map(lambda x: x.replace('-',' ').title(), list_of_topics))"
   ]
  },
  {
   "cell_type": "code",
   "execution_count": 197,
   "metadata": {},
   "outputs": [
    {
     "data": {
      "text/plain": [
       "['Python Programming',\n",
       " 'Mysql',\n",
       " 'Web Scrapping',\n",
       " 'Tableau',\n",
       " 'Data Viz',\n",
       " 'Statistics',\n",
       " 'Machine Learning',\n",
       " 'Neural Nets']"
      ]
     },
     "execution_count": 197,
     "metadata": {},
     "output_type": "execute_result"
    }
   ],
   "source": [
    "[x.replace('-',' ').title() for x in list_of_topics]"
   ]
  },
  {
   "cell_type": "code",
   "execution_count": 201,
   "metadata": {},
   "outputs": [],
   "source": [
    "dct_of_topics={x:len(x) for x in list_of_topics}"
   ]
  },
  {
   "cell_type": "code",
   "execution_count": 202,
   "metadata": {},
   "outputs": [],
   "source": [
    "from operator import itemgetter"
   ]
  },
  {
   "cell_type": "code",
   "execution_count": 204,
   "metadata": {},
   "outputs": [
    {
     "data": {
      "text/plain": [
       "{'Python Programming': 18,\n",
       " 'Machine Learning': 16,\n",
       " 'Web Scrapping': 13,\n",
       " 'Neural Nets': 11,\n",
       " 'Statistics': 10,\n",
       " 'Data Viz': 8,\n",
       " 'Tableau': 7,\n",
       " 'Mysql': 5}"
      ]
     },
     "execution_count": 204,
     "metadata": {},
     "output_type": "execute_result"
    }
   ],
   "source": [
    "dict(sorted(dct_of_topics.items(), key=itemgetter(1), reverse=True))"
   ]
  },
  {
   "cell_type": "code",
   "execution_count": 205,
   "metadata": {},
   "outputs": [
    {
     "data": {
      "text/plain": [
       "{'Python Programming': 18,\n",
       " 'Machine Learning': 16,\n",
       " 'Web Scrapping': 13,\n",
       " 'Neural Nets': 11,\n",
       " 'Statistics': 10,\n",
       " 'Data Viz': 8,\n",
       " 'Tableau': 7,\n",
       " 'Mysql': 5}"
      ]
     },
     "execution_count": 205,
     "metadata": {},
     "output_type": "execute_result"
    }
   ],
   "source": [
    "dict(sorted(dct_of_topics.items(), \n",
    "            key= lambda x: x[1], \n",
    "            reverse=True))"
   ]
  },
  {
   "cell_type": "code",
   "execution_count": 206,
   "metadata": {},
   "outputs": [
    {
     "data": {
      "text/plain": [
       "dict_items([('Python Programming', 18), ('Mysql', 5), ('Web Scrapping', 13), ('Tableau', 7), ('Data Viz', 8), ('Statistics', 10), ('Machine Learning', 16), ('Neural Nets', 11)])"
      ]
     },
     "execution_count": 206,
     "metadata": {},
     "output_type": "execute_result"
    }
   ],
   "source": [
    "dct_of_topics.items()"
   ]
  },
  {
   "cell_type": "markdown",
   "metadata": {},
   "source": [
    "# Map, Apply, Applymap + Lambda in Pandas"
   ]
  },
  {
   "cell_type": "markdown",
   "metadata": {},
   "source": [
    "* Map - maps a function/dict to every value in the Series\n",
    "* Apply - applies a function to every value in the Series or every Serie in the DataFrame (both rows and columns)\n",
    "* Applymap - applies a function to every value in the DataFrame"
   ]
  },
  {
   "cell_type": "code",
   "execution_count": 207,
   "metadata": {},
   "outputs": [],
   "source": [
    "df=pd.read_csv('https://ironhack.school/asset-v1:IRONHACK+DAFT+201910_PAR+type@asset+block@IMDB-Movie-Data.csv')"
   ]
  },
  {
   "cell_type": "code",
   "execution_count": 208,
   "metadata": {},
   "outputs": [
    {
     "data": {
      "text/html": [
       "<div>\n",
       "<style scoped>\n",
       "    .dataframe tbody tr th:only-of-type {\n",
       "        vertical-align: middle;\n",
       "    }\n",
       "\n",
       "    .dataframe tbody tr th {\n",
       "        vertical-align: top;\n",
       "    }\n",
       "\n",
       "    .dataframe thead th {\n",
       "        text-align: right;\n",
       "    }\n",
       "</style>\n",
       "<table border=\"1\" class=\"dataframe\">\n",
       "  <thead>\n",
       "    <tr style=\"text-align: right;\">\n",
       "      <th></th>\n",
       "      <th>Rank</th>\n",
       "      <th>Title</th>\n",
       "      <th>Genre</th>\n",
       "      <th>Description</th>\n",
       "      <th>Director</th>\n",
       "      <th>Actors</th>\n",
       "      <th>Year</th>\n",
       "      <th>Runtime (Minutes)</th>\n",
       "      <th>Rating</th>\n",
       "      <th>Votes</th>\n",
       "      <th>Revenue (Millions)</th>\n",
       "      <th>Metascore</th>\n",
       "    </tr>\n",
       "  </thead>\n",
       "  <tbody>\n",
       "    <tr>\n",
       "      <th>0</th>\n",
       "      <td>1</td>\n",
       "      <td>Guardians of the Galaxy</td>\n",
       "      <td>Action,Adventure,Sci-Fi</td>\n",
       "      <td>A group of intergalactic criminals are forced ...</td>\n",
       "      <td>James Gunn</td>\n",
       "      <td>Chris Pratt, Vin Diesel, Bradley Cooper, Zoe S...</td>\n",
       "      <td>2014</td>\n",
       "      <td>121</td>\n",
       "      <td>8.1</td>\n",
       "      <td>757074</td>\n",
       "      <td>333.13</td>\n",
       "      <td>76.0</td>\n",
       "    </tr>\n",
       "    <tr>\n",
       "      <th>1</th>\n",
       "      <td>2</td>\n",
       "      <td>Prometheus</td>\n",
       "      <td>Adventure,Mystery,Sci-Fi</td>\n",
       "      <td>Following clues to the origin of mankind, a te...</td>\n",
       "      <td>Ridley Scott</td>\n",
       "      <td>Noomi Rapace, Logan Marshall-Green, Michael Fa...</td>\n",
       "      <td>2012</td>\n",
       "      <td>124</td>\n",
       "      <td>7.0</td>\n",
       "      <td>485820</td>\n",
       "      <td>126.46</td>\n",
       "      <td>65.0</td>\n",
       "    </tr>\n",
       "    <tr>\n",
       "      <th>2</th>\n",
       "      <td>3</td>\n",
       "      <td>Split</td>\n",
       "      <td>Horror,Thriller</td>\n",
       "      <td>Three girls are kidnapped by a man with a diag...</td>\n",
       "      <td>M. Night Shyamalan</td>\n",
       "      <td>James McAvoy, Anya Taylor-Joy, Haley Lu Richar...</td>\n",
       "      <td>2016</td>\n",
       "      <td>117</td>\n",
       "      <td>7.3</td>\n",
       "      <td>157606</td>\n",
       "      <td>138.12</td>\n",
       "      <td>62.0</td>\n",
       "    </tr>\n",
       "    <tr>\n",
       "      <th>3</th>\n",
       "      <td>4</td>\n",
       "      <td>Sing</td>\n",
       "      <td>Animation,Comedy,Family</td>\n",
       "      <td>In a city of humanoid animals, a hustling thea...</td>\n",
       "      <td>Christophe Lourdelet</td>\n",
       "      <td>Matthew McConaughey,Reese Witherspoon, Seth Ma...</td>\n",
       "      <td>2016</td>\n",
       "      <td>108</td>\n",
       "      <td>7.2</td>\n",
       "      <td>60545</td>\n",
       "      <td>270.32</td>\n",
       "      <td>59.0</td>\n",
       "    </tr>\n",
       "    <tr>\n",
       "      <th>4</th>\n",
       "      <td>5</td>\n",
       "      <td>Suicide Squad</td>\n",
       "      <td>Action,Adventure,Fantasy</td>\n",
       "      <td>A secret government agency recruits some of th...</td>\n",
       "      <td>David Ayer</td>\n",
       "      <td>Will Smith, Jared Leto, Margot Robbie, Viola D...</td>\n",
       "      <td>2016</td>\n",
       "      <td>123</td>\n",
       "      <td>6.2</td>\n",
       "      <td>393727</td>\n",
       "      <td>325.02</td>\n",
       "      <td>40.0</td>\n",
       "    </tr>\n",
       "  </tbody>\n",
       "</table>\n",
       "</div>"
      ],
      "text/plain": [
       "   Rank                    Title                     Genre  \\\n",
       "0     1  Guardians of the Galaxy   Action,Adventure,Sci-Fi   \n",
       "1     2               Prometheus  Adventure,Mystery,Sci-Fi   \n",
       "2     3                    Split           Horror,Thriller   \n",
       "3     4                     Sing   Animation,Comedy,Family   \n",
       "4     5            Suicide Squad  Action,Adventure,Fantasy   \n",
       "\n",
       "                                         Description              Director  \\\n",
       "0  A group of intergalactic criminals are forced ...            James Gunn   \n",
       "1  Following clues to the origin of mankind, a te...          Ridley Scott   \n",
       "2  Three girls are kidnapped by a man with a diag...    M. Night Shyamalan   \n",
       "3  In a city of humanoid animals, a hustling thea...  Christophe Lourdelet   \n",
       "4  A secret government agency recruits some of th...            David Ayer   \n",
       "\n",
       "                                              Actors  Year  Runtime (Minutes)  \\\n",
       "0  Chris Pratt, Vin Diesel, Bradley Cooper, Zoe S...  2014                121   \n",
       "1  Noomi Rapace, Logan Marshall-Green, Michael Fa...  2012                124   \n",
       "2  James McAvoy, Anya Taylor-Joy, Haley Lu Richar...  2016                117   \n",
       "3  Matthew McConaughey,Reese Witherspoon, Seth Ma...  2016                108   \n",
       "4  Will Smith, Jared Leto, Margot Robbie, Viola D...  2016                123   \n",
       "\n",
       "   Rating   Votes  Revenue (Millions)  Metascore  \n",
       "0     8.1  757074              333.13       76.0  \n",
       "1     7.0  485820              126.46       65.0  \n",
       "2     7.3  157606              138.12       62.0  \n",
       "3     7.2   60545              270.32       59.0  \n",
       "4     6.2  393727              325.02       40.0  "
      ]
     },
     "execution_count": 208,
     "metadata": {},
     "output_type": "execute_result"
    }
   ],
   "source": [
    "df.head()"
   ]
  },
  {
   "cell_type": "code",
   "execution_count": 210,
   "metadata": {},
   "outputs": [
    {
     "data": {
      "text/plain": [
       "9.0"
      ]
     },
     "execution_count": 210,
     "metadata": {},
     "output_type": "execute_result"
    }
   ],
   "source": [
    "df.Rating.max()"
   ]
  },
  {
   "cell_type": "code",
   "execution_count": 211,
   "metadata": {},
   "outputs": [
    {
     "data": {
      "text/plain": [
       "54"
      ]
     },
     "execution_count": 211,
     "metadata": {},
     "output_type": "execute_result"
    }
   ],
   "source": [
    "df.Rating.idxmax()"
   ]
  },
  {
   "cell_type": "code",
   "execution_count": 212,
   "metadata": {},
   "outputs": [
    {
     "data": {
      "text/plain": [
       "Rank                                                                 55\n",
       "Title                                                   The Dark Knight\n",
       "Genre                                                Action,Crime,Drama\n",
       "Description           When the menace known as the Joker wreaks havo...\n",
       "Director                                              Christopher Nolan\n",
       "Actors                Christian Bale, Heath Ledger, Aaron Eckhart,Mi...\n",
       "Year                                                               2008\n",
       "Runtime (Minutes)                                                   152\n",
       "Rating                                                                9\n",
       "Votes                                                           1791916\n",
       "Revenue (Millions)                                               533.32\n",
       "Metascore                                                            82\n",
       "Name: 54, dtype: object"
      ]
     },
     "execution_count": 212,
     "metadata": {},
     "output_type": "execute_result"
    }
   ],
   "source": [
    "df.loc[df.Rating.idxmax()]"
   ]
  },
  {
   "cell_type": "markdown",
   "metadata": {},
   "source": [
    "Rescale Rating column to be up to 5"
   ]
  },
  {
   "cell_type": "code",
   "execution_count": 215,
   "metadata": {},
   "outputs": [],
   "source": [
    "df.Rating.map(lambda x: x/2);"
   ]
  },
  {
   "cell_type": "code",
   "execution_count": 216,
   "metadata": {},
   "outputs": [],
   "source": [
    "def range_column(x: pd.Series):\n",
    "    return x.max()-x.min()"
   ]
  },
  {
   "cell_type": "code",
   "execution_count": 219,
   "metadata": {},
   "outputs": [
    {
     "data": {
      "text/plain": [
       "Rating        7.1\n",
       "Metascore    89.0\n",
       "dtype: float64"
      ]
     },
     "execution_count": 219,
     "metadata": {},
     "output_type": "execute_result"
    }
   ],
   "source": [
    "df[['Rating','Metascore']].apply(range_column)"
   ]
  },
  {
   "cell_type": "code",
   "execution_count": 220,
   "metadata": {},
   "outputs": [],
   "source": [
    "def missing_col(x:pd.Series):\n",
    "    return x.isna().sum()"
   ]
  },
  {
   "cell_type": "code",
   "execution_count": 221,
   "metadata": {},
   "outputs": [
    {
     "data": {
      "text/plain": [
       "Rank                    0\n",
       "Title                   0\n",
       "Genre                   0\n",
       "Description             0\n",
       "Director                0\n",
       "Actors                  0\n",
       "Year                    0\n",
       "Runtime (Minutes)       0\n",
       "Rating                  0\n",
       "Votes                   0\n",
       "Revenue (Millions)    128\n",
       "Metascore              64\n",
       "dtype: int64"
      ]
     },
     "execution_count": 221,
     "metadata": {},
     "output_type": "execute_result"
    }
   ],
   "source": [
    "df.apply(missing_col)"
   ]
  },
  {
   "cell_type": "code",
   "execution_count": 224,
   "metadata": {},
   "outputs": [
    {
     "data": {
      "text/plain": [
       "0      759627.23\n",
       "1      488156.46\n",
       "2      159949.42\n",
       "3       63009.52\n",
       "4      396242.22\n",
       "         ...    \n",
       "995          NaN\n",
       "996     76319.04\n",
       "997     73917.21\n",
       "998          NaN\n",
       "999     15573.94\n",
       "Length: 1000, dtype: float64"
      ]
     },
     "execution_count": 224,
     "metadata": {},
     "output_type": "execute_result"
    }
   ],
   "source": [
    "df._get_numeric_data().apply(sum, axis=1)"
   ]
  },
  {
   "cell_type": "markdown",
   "metadata": {},
   "source": [
    "Select an action movie for me to watch tonight. \n",
    "\n",
    "I don't like fantasy movies, so action fantasy doesnt count.  \n",
    "I can accept Action, Action/Thrillers or Action/Adventure movies."
   ]
  },
  {
   "cell_type": "code",
   "execution_count": 229,
   "metadata": {},
   "outputs": [],
   "source": [
    "df[df.Genre.str.contains('action',case=False)];"
   ]
  },
  {
   "cell_type": "code",
   "execution_count": 231,
   "metadata": {
    "collapsed": true
   },
   "outputs": [
    {
     "data": {
      "text/html": [
       "<div>\n",
       "<style scoped>\n",
       "    .dataframe tbody tr th:only-of-type {\n",
       "        vertical-align: middle;\n",
       "    }\n",
       "\n",
       "    .dataframe tbody tr th {\n",
       "        vertical-align: top;\n",
       "    }\n",
       "\n",
       "    .dataframe thead th {\n",
       "        text-align: right;\n",
       "    }\n",
       "</style>\n",
       "<table border=\"1\" class=\"dataframe\">\n",
       "  <thead>\n",
       "    <tr style=\"text-align: right;\">\n",
       "      <th></th>\n",
       "      <th>Rank</th>\n",
       "      <th>Title</th>\n",
       "      <th>Genre</th>\n",
       "      <th>Description</th>\n",
       "      <th>Director</th>\n",
       "      <th>Actors</th>\n",
       "      <th>Year</th>\n",
       "      <th>Runtime (Minutes)</th>\n",
       "      <th>Rating</th>\n",
       "      <th>Votes</th>\n",
       "      <th>Revenue (Millions)</th>\n",
       "      <th>Metascore</th>\n",
       "    </tr>\n",
       "  </thead>\n",
       "  <tbody>\n",
       "    <tr>\n",
       "      <th>17</th>\n",
       "      <td>18</td>\n",
       "      <td>Jason Bourne</td>\n",
       "      <td>Action,Thriller</td>\n",
       "      <td>The CIA's most dangerous former operative is d...</td>\n",
       "      <td>Paul Greengrass</td>\n",
       "      <td>Matt Damon, Tommy Lee Jones, Alicia Vikander,V...</td>\n",
       "      <td>2016</td>\n",
       "      <td>123</td>\n",
       "      <td>6.7</td>\n",
       "      <td>150823</td>\n",
       "      <td>162.16</td>\n",
       "      <td>58.0</td>\n",
       "    </tr>\n",
       "    <tr>\n",
       "      <th>53</th>\n",
       "      <td>54</td>\n",
       "      <td>John Wick</td>\n",
       "      <td>Action,Crime,Thriller</td>\n",
       "      <td>An ex-hitman comes out of retirement to track ...</td>\n",
       "      <td>Chad Stahelski</td>\n",
       "      <td>Keanu Reeves, Michael Nyqvist, Alfie Allen, Wi...</td>\n",
       "      <td>2014</td>\n",
       "      <td>101</td>\n",
       "      <td>7.2</td>\n",
       "      <td>321933</td>\n",
       "      <td>43.00</td>\n",
       "      <td>68.0</td>\n",
       "    </tr>\n",
       "    <tr>\n",
       "      <th>69</th>\n",
       "      <td>70</td>\n",
       "      <td>Deepwater Horizon</td>\n",
       "      <td>Action,Drama,Thriller</td>\n",
       "      <td>A dramatization of the April 2010 disaster, wh...</td>\n",
       "      <td>Peter Berg</td>\n",
       "      <td>Mark Wahlberg, Kurt Russell, Douglas M. Griffi...</td>\n",
       "      <td>2016</td>\n",
       "      <td>107</td>\n",
       "      <td>7.2</td>\n",
       "      <td>89849</td>\n",
       "      <td>61.28</td>\n",
       "      <td>68.0</td>\n",
       "    </tr>\n",
       "    <tr>\n",
       "      <th>84</th>\n",
       "      <td>85</td>\n",
       "      <td>Furious Seven</td>\n",
       "      <td>Action,Crime,Thriller</td>\n",
       "      <td>Deckard Shaw seeks revenge against Dominic Tor...</td>\n",
       "      <td>James Wan</td>\n",
       "      <td>Vin Diesel, Paul Walker, Dwayne Johnson, Jason...</td>\n",
       "      <td>2015</td>\n",
       "      <td>137</td>\n",
       "      <td>7.2</td>\n",
       "      <td>301249</td>\n",
       "      <td>350.03</td>\n",
       "      <td>67.0</td>\n",
       "    </tr>\n",
       "    <tr>\n",
       "      <th>110</th>\n",
       "      <td>111</td>\n",
       "      <td>The Belko Experiment</td>\n",
       "      <td>Action,Horror,Thriller</td>\n",
       "      <td>In a twisted social experiment, 80 Americans a...</td>\n",
       "      <td>Greg McLean</td>\n",
       "      <td>John Gallagher Jr., Tony Goldwyn, Adria Arjona...</td>\n",
       "      <td>2016</td>\n",
       "      <td>89</td>\n",
       "      <td>6.3</td>\n",
       "      <td>3712</td>\n",
       "      <td>10.16</td>\n",
       "      <td>44.0</td>\n",
       "    </tr>\n",
       "    <tr>\n",
       "      <th>124</th>\n",
       "      <td>125</td>\n",
       "      <td>The Dark Knight Rises</td>\n",
       "      <td>Action,Thriller</td>\n",
       "      <td>Eight years after the Joker's reign of anarchy...</td>\n",
       "      <td>Christopher Nolan</td>\n",
       "      <td>Christian Bale, Tom Hardy, Anne Hathaway,Gary ...</td>\n",
       "      <td>2012</td>\n",
       "      <td>164</td>\n",
       "      <td>8.5</td>\n",
       "      <td>1222645</td>\n",
       "      <td>448.13</td>\n",
       "      <td>78.0</td>\n",
       "    </tr>\n",
       "    <tr>\n",
       "      <th>134</th>\n",
       "      <td>135</td>\n",
       "      <td>Furious 6</td>\n",
       "      <td>Action,Crime,Thriller</td>\n",
       "      <td>Hobbs has Dominic and Brian reassemble their c...</td>\n",
       "      <td>Justin Lin</td>\n",
       "      <td>Vin Diesel, Paul Walker, Dwayne Johnson, Miche...</td>\n",
       "      <td>2013</td>\n",
       "      <td>130</td>\n",
       "      <td>7.1</td>\n",
       "      <td>318051</td>\n",
       "      <td>238.67</td>\n",
       "      <td>61.0</td>\n",
       "    </tr>\n",
       "    <tr>\n",
       "      <th>164</th>\n",
       "      <td>165</td>\n",
       "      <td>Casino Royale</td>\n",
       "      <td>Action,Adventure,Thriller</td>\n",
       "      <td>Armed with a licence to kill, Secret Agent Jam...</td>\n",
       "      <td>Martin Campbell</td>\n",
       "      <td>Daniel Craig, Eva Green, Judi Dench, Jeffrey W...</td>\n",
       "      <td>2006</td>\n",
       "      <td>144</td>\n",
       "      <td>8.0</td>\n",
       "      <td>495106</td>\n",
       "      <td>167.01</td>\n",
       "      <td>80.0</td>\n",
       "    </tr>\n",
       "    <tr>\n",
       "      <th>169</th>\n",
       "      <td>170</td>\n",
       "      <td>Spectre</td>\n",
       "      <td>Action,Adventure,Thriller</td>\n",
       "      <td>A cryptic message from Bond's past sends him o...</td>\n",
       "      <td>Sam Mendes</td>\n",
       "      <td>Daniel Craig, Christoph Waltz, Léa Seydoux, Ra...</td>\n",
       "      <td>2015</td>\n",
       "      <td>148</td>\n",
       "      <td>6.8</td>\n",
       "      <td>308981</td>\n",
       "      <td>200.07</td>\n",
       "      <td>60.0</td>\n",
       "    </tr>\n",
       "    <tr>\n",
       "      <th>233</th>\n",
       "      <td>234</td>\n",
       "      <td>Mission: Impossible - Rogue Nation</td>\n",
       "      <td>Action,Adventure,Thriller</td>\n",
       "      <td>Ethan and team take on their most impossible m...</td>\n",
       "      <td>Christopher McQuarrie</td>\n",
       "      <td>Tom Cruise, Rebecca Ferguson, Jeremy Renner, S...</td>\n",
       "      <td>2015</td>\n",
       "      <td>131</td>\n",
       "      <td>7.4</td>\n",
       "      <td>257472</td>\n",
       "      <td>195.00</td>\n",
       "      <td>75.0</td>\n",
       "    </tr>\n",
       "    <tr>\n",
       "      <th>270</th>\n",
       "      <td>271</td>\n",
       "      <td>Skyfall</td>\n",
       "      <td>Action,Adventure,Thriller</td>\n",
       "      <td>Bond's loyalty to M is tested when her past co...</td>\n",
       "      <td>Sam Mendes</td>\n",
       "      <td>Daniel Craig, Javier Bardem, Naomie Harris, Ju...</td>\n",
       "      <td>2012</td>\n",
       "      <td>143</td>\n",
       "      <td>7.8</td>\n",
       "      <td>547386</td>\n",
       "      <td>304.36</td>\n",
       "      <td>81.0</td>\n",
       "    </tr>\n",
       "    <tr>\n",
       "      <th>300</th>\n",
       "      <td>301</td>\n",
       "      <td>The Equalizer</td>\n",
       "      <td>Action,Crime,Thriller</td>\n",
       "      <td>A man believes he has put his mysterious past ...</td>\n",
       "      <td>Antoine Fuqua</td>\n",
       "      <td>Denzel Washington, Marton Csokas, Chloë Grace ...</td>\n",
       "      <td>2014</td>\n",
       "      <td>132</td>\n",
       "      <td>7.2</td>\n",
       "      <td>249425</td>\n",
       "      <td>101.53</td>\n",
       "      <td>57.0</td>\n",
       "    </tr>\n",
       "    <tr>\n",
       "      <th>308</th>\n",
       "      <td>309</td>\n",
       "      <td>The Fast and the Furious: Tokyo Drift</td>\n",
       "      <td>Action,Crime,Thriller</td>\n",
       "      <td>A teenager becomes a major competitor in the w...</td>\n",
       "      <td>Justin Lin</td>\n",
       "      <td>Lucas Black, Zachery Ty Bryan, Shad Moss, Dami...</td>\n",
       "      <td>2006</td>\n",
       "      <td>104</td>\n",
       "      <td>6.0</td>\n",
       "      <td>193479</td>\n",
       "      <td>62.49</td>\n",
       "      <td>45.0</td>\n",
       "    </tr>\n",
       "    <tr>\n",
       "      <th>319</th>\n",
       "      <td>320</td>\n",
       "      <td>Fast Five</td>\n",
       "      <td>Action,Crime,Thriller</td>\n",
       "      <td>Dominic Toretto and his crew of street racers ...</td>\n",
       "      <td>Justin Lin</td>\n",
       "      <td>Vin Diesel, Paul Walker, Dwayne Johnson, Jorda...</td>\n",
       "      <td>2011</td>\n",
       "      <td>131</td>\n",
       "      <td>7.3</td>\n",
       "      <td>300803</td>\n",
       "      <td>209.81</td>\n",
       "      <td>66.0</td>\n",
       "    </tr>\n",
       "    <tr>\n",
       "      <th>322</th>\n",
       "      <td>323</td>\n",
       "      <td>RocknRolla</td>\n",
       "      <td>Action,Crime,Thriller</td>\n",
       "      <td>In London, a real-estate scam puts millions of...</td>\n",
       "      <td>Guy Ritchie</td>\n",
       "      <td>Gerard Butler, Tom Wilkinson, Idris Elba, Than...</td>\n",
       "      <td>2008</td>\n",
       "      <td>114</td>\n",
       "      <td>7.3</td>\n",
       "      <td>203096</td>\n",
       "      <td>5.69</td>\n",
       "      <td>53.0</td>\n",
       "    </tr>\n",
       "    <tr>\n",
       "      <th>323</th>\n",
       "      <td>324</td>\n",
       "      <td>In Time</td>\n",
       "      <td>Action,Sci-Fi,Thriller</td>\n",
       "      <td>In a future where people stop aging at 25, but...</td>\n",
       "      <td>Andrew Niccol</td>\n",
       "      <td>Justin Timberlake, Amanda Seyfried, Cillian Mu...</td>\n",
       "      <td>2011</td>\n",
       "      <td>109</td>\n",
       "      <td>6.7</td>\n",
       "      <td>319025</td>\n",
       "      <td>37.55</td>\n",
       "      <td>53.0</td>\n",
       "    </tr>\n",
       "    <tr>\n",
       "      <th>340</th>\n",
       "      <td>341</td>\n",
       "      <td>Fast &amp; Furious</td>\n",
       "      <td>Action,Crime,Thriller</td>\n",
       "      <td>Brian O'Conner, back working for the FBI in Lo...</td>\n",
       "      <td>Justin Lin</td>\n",
       "      <td>Vin Diesel, Paul Walker, Michelle Rodriguez, J...</td>\n",
       "      <td>2009</td>\n",
       "      <td>107</td>\n",
       "      <td>6.6</td>\n",
       "      <td>217464</td>\n",
       "      <td>155.02</td>\n",
       "      <td>46.0</td>\n",
       "    </tr>\n",
       "    <tr>\n",
       "      <th>342</th>\n",
       "      <td>343</td>\n",
       "      <td>White House Down</td>\n",
       "      <td>Action,Drama,Thriller</td>\n",
       "      <td>While on a tour of the White House with his yo...</td>\n",
       "      <td>Roland Emmerich</td>\n",
       "      <td>Channing Tatum, Jamie Foxx, Maggie Gyllenhaal,...</td>\n",
       "      <td>2013</td>\n",
       "      <td>131</td>\n",
       "      <td>6.4</td>\n",
       "      <td>173320</td>\n",
       "      <td>73.10</td>\n",
       "      <td>52.0</td>\n",
       "    </tr>\n",
       "    <tr>\n",
       "      <th>375</th>\n",
       "      <td>376</td>\n",
       "      <td>Collide</td>\n",
       "      <td>Action,Crime,Thriller</td>\n",
       "      <td>An American backpacker gets involved with a ri...</td>\n",
       "      <td>Eran Creevy</td>\n",
       "      <td>Nicholas Hoult, Felicity Jones, Anthony Hopkin...</td>\n",
       "      <td>2016</td>\n",
       "      <td>99</td>\n",
       "      <td>5.7</td>\n",
       "      <td>7583</td>\n",
       "      <td>2.20</td>\n",
       "      <td>33.0</td>\n",
       "    </tr>\n",
       "    <tr>\n",
       "      <th>379</th>\n",
       "      <td>380</td>\n",
       "      <td>The Expendables 3</td>\n",
       "      <td>Action,Adventure,Thriller</td>\n",
       "      <td>Barney augments his team with new blood for a ...</td>\n",
       "      <td>Patrick Hughes</td>\n",
       "      <td>Sylvester Stallone, Jason Statham, Jet Li, Ant...</td>\n",
       "      <td>2014</td>\n",
       "      <td>126</td>\n",
       "      <td>6.1</td>\n",
       "      <td>137568</td>\n",
       "      <td>39.29</td>\n",
       "      <td>35.0</td>\n",
       "    </tr>\n",
       "    <tr>\n",
       "      <th>410</th>\n",
       "      <td>411</td>\n",
       "      <td>Taken</td>\n",
       "      <td>Action,Thriller</td>\n",
       "      <td>A retired CIA agent travels across Europe and ...</td>\n",
       "      <td>Pierre Morel</td>\n",
       "      <td>Liam Neeson, Maggie Grace, Famke Janssen, Lela...</td>\n",
       "      <td>2008</td>\n",
       "      <td>93</td>\n",
       "      <td>7.8</td>\n",
       "      <td>502961</td>\n",
       "      <td>145.00</td>\n",
       "      <td>50.0</td>\n",
       "    </tr>\n",
       "    <tr>\n",
       "      <th>420</th>\n",
       "      <td>421</td>\n",
       "      <td>Hanna</td>\n",
       "      <td>Action,Drama,Thriller</td>\n",
       "      <td>A sixteen-year-old girl who was raised by her ...</td>\n",
       "      <td>Joe Wright</td>\n",
       "      <td>Saoirse Ronan, Cate Blanchett, Eric Bana, Vick...</td>\n",
       "      <td>2011</td>\n",
       "      <td>111</td>\n",
       "      <td>6.8</td>\n",
       "      <td>164208</td>\n",
       "      <td>40.25</td>\n",
       "      <td>65.0</td>\n",
       "    </tr>\n",
       "    <tr>\n",
       "      <th>426</th>\n",
       "      <td>427</td>\n",
       "      <td>Sin City: A Dame to Kill For</td>\n",
       "      <td>Action,Crime,Thriller</td>\n",
       "      <td>Some of Sin City's most hard-boiled citizens c...</td>\n",
       "      <td>Frank Miller</td>\n",
       "      <td>Mickey Rourke, Jessica Alba, Josh Brolin, Jose...</td>\n",
       "      <td>2014</td>\n",
       "      <td>102</td>\n",
       "      <td>6.5</td>\n",
       "      <td>122185</td>\n",
       "      <td>13.75</td>\n",
       "      <td>46.0</td>\n",
       "    </tr>\n",
       "    <tr>\n",
       "      <th>427</th>\n",
       "      <td>428</td>\n",
       "      <td>The Bourne Ultimatum</td>\n",
       "      <td>Action,Mystery,Thriller</td>\n",
       "      <td>Jason Bourne dodges a ruthless CIA official an...</td>\n",
       "      <td>Paul Greengrass</td>\n",
       "      <td>Matt Damon, Edgar Ramírez, Joan Allen, Julia S...</td>\n",
       "      <td>2007</td>\n",
       "      <td>115</td>\n",
       "      <td>8.1</td>\n",
       "      <td>525700</td>\n",
       "      <td>227.14</td>\n",
       "      <td>85.0</td>\n",
       "    </tr>\n",
       "    <tr>\n",
       "      <th>433</th>\n",
       "      <td>434</td>\n",
       "      <td>Mission: Impossible - Ghost Protocol</td>\n",
       "      <td>Action,Adventure,Thriller</td>\n",
       "      <td>The IMF is shut down when it's implicated in t...</td>\n",
       "      <td>Brad Bird</td>\n",
       "      <td>Tom Cruise, Jeremy Renner, Simon Pegg, Paula P...</td>\n",
       "      <td>2011</td>\n",
       "      <td>132</td>\n",
       "      <td>7.4</td>\n",
       "      <td>382459</td>\n",
       "      <td>209.36</td>\n",
       "      <td>73.0</td>\n",
       "    </tr>\n",
       "    <tr>\n",
       "      <th>453</th>\n",
       "      <td>454</td>\n",
       "      <td>Olympus Has Fallen</td>\n",
       "      <td>Action,Thriller</td>\n",
       "      <td>Disgraced Secret Service agent (and former pre...</td>\n",
       "      <td>Antoine Fuqua</td>\n",
       "      <td>Gerard Butler, Aaron Eckhart, Morgan Freeman,A...</td>\n",
       "      <td>2013</td>\n",
       "      <td>119</td>\n",
       "      <td>6.5</td>\n",
       "      <td>214994</td>\n",
       "      <td>98.90</td>\n",
       "      <td>41.0</td>\n",
       "    </tr>\n",
       "    <tr>\n",
       "      <th>468</th>\n",
       "      <td>469</td>\n",
       "      <td>District 9</td>\n",
       "      <td>Action,Sci-Fi,Thriller</td>\n",
       "      <td>An extraterrestrial race forced to live in slu...</td>\n",
       "      <td>Neill Blomkamp</td>\n",
       "      <td>Sharlto Copley, David James, Jason Cope, Natha...</td>\n",
       "      <td>2009</td>\n",
       "      <td>112</td>\n",
       "      <td>8.0</td>\n",
       "      <td>556794</td>\n",
       "      <td>115.65</td>\n",
       "      <td>81.0</td>\n",
       "    </tr>\n",
       "    <tr>\n",
       "      <th>500</th>\n",
       "      <td>501</td>\n",
       "      <td>Maze Runner: The Scorch Trials</td>\n",
       "      <td>Action,Sci-Fi,Thriller</td>\n",
       "      <td>After having escaped the Maze, the Gladers now...</td>\n",
       "      <td>Wes Ball</td>\n",
       "      <td>Dylan O'Brien, Kaya Scodelario, Thomas Brodie-...</td>\n",
       "      <td>2015</td>\n",
       "      <td>131</td>\n",
       "      <td>6.3</td>\n",
       "      <td>159364</td>\n",
       "      <td>81.69</td>\n",
       "      <td>43.0</td>\n",
       "    </tr>\n",
       "    <tr>\n",
       "      <th>532</th>\n",
       "      <td>533</td>\n",
       "      <td>Deja Vu</td>\n",
       "      <td>Action,Sci-Fi,Thriller</td>\n",
       "      <td>After a ferry is bombed in New Orleans, an A.T...</td>\n",
       "      <td>Tony Scott</td>\n",
       "      <td>Denzel Washington, Paula Patton, Jim Caviezel,...</td>\n",
       "      <td>2006</td>\n",
       "      <td>126</td>\n",
       "      <td>7.0</td>\n",
       "      <td>253858</td>\n",
       "      <td>NaN</td>\n",
       "      <td>NaN</td>\n",
       "    </tr>\n",
       "    <tr>\n",
       "      <th>533</th>\n",
       "      <td>534</td>\n",
       "      <td>Lucy</td>\n",
       "      <td>Action,Sci-Fi,Thriller</td>\n",
       "      <td>A woman, accidentally caught in a dark deal, t...</td>\n",
       "      <td>Luc Besson</td>\n",
       "      <td>Scarlett Johansson, Morgan Freeman, Min-sik Ch...</td>\n",
       "      <td>2014</td>\n",
       "      <td>89</td>\n",
       "      <td>6.4</td>\n",
       "      <td>352698</td>\n",
       "      <td>126.55</td>\n",
       "      <td>61.0</td>\n",
       "    </tr>\n",
       "    <tr>\n",
       "      <th>560</th>\n",
       "      <td>561</td>\n",
       "      <td>The Expendables</td>\n",
       "      <td>Action,Adventure,Thriller</td>\n",
       "      <td>A CIA operative hires a team of mercenaries to...</td>\n",
       "      <td>Sylvester Stallone</td>\n",
       "      <td>Sylvester Stallone, Jason Statham, Jet Li, Dol...</td>\n",
       "      <td>2010</td>\n",
       "      <td>103</td>\n",
       "      <td>6.5</td>\n",
       "      <td>283282</td>\n",
       "      <td>102.98</td>\n",
       "      <td>45.0</td>\n",
       "    </tr>\n",
       "    <tr>\n",
       "      <th>585</th>\n",
       "      <td>586</td>\n",
       "      <td>Ghost Rider</td>\n",
       "      <td>Action,Fantasy,Thriller</td>\n",
       "      <td>Stunt motorcyclist Johnny Blaze gives up his s...</td>\n",
       "      <td>Mark Steven Johnson</td>\n",
       "      <td>Nicolas Cage, Eva Mendes, Sam Elliott, Matt Long</td>\n",
       "      <td>2007</td>\n",
       "      <td>114</td>\n",
       "      <td>5.2</td>\n",
       "      <td>190673</td>\n",
       "      <td>115.80</td>\n",
       "      <td>35.0</td>\n",
       "    </tr>\n",
       "    <tr>\n",
       "      <th>624</th>\n",
       "      <td>625</td>\n",
       "      <td>Taken 3</td>\n",
       "      <td>Action,Thriller</td>\n",
       "      <td>Ex-government operative Bryan Mills is accused...</td>\n",
       "      <td>Olivier Megaton</td>\n",
       "      <td>Liam Neeson, Forest Whitaker, Maggie Grace,Fam...</td>\n",
       "      <td>2014</td>\n",
       "      <td>109</td>\n",
       "      <td>6.0</td>\n",
       "      <td>144715</td>\n",
       "      <td>89.25</td>\n",
       "      <td>26.0</td>\n",
       "    </tr>\n",
       "    <tr>\n",
       "      <th>679</th>\n",
       "      <td>680</td>\n",
       "      <td>The Age of Shadows</td>\n",
       "      <td>Action,Drama,Thriller</td>\n",
       "      <td>Japanese agents close in as members of the Kor...</td>\n",
       "      <td>Jee-woon Kim</td>\n",
       "      <td>Byung-hun Lee, Yoo Gong, Kang-ho Song, Ji-min Han</td>\n",
       "      <td>2016</td>\n",
       "      <td>140</td>\n",
       "      <td>7.2</td>\n",
       "      <td>2403</td>\n",
       "      <td>0.54</td>\n",
       "      <td>78.0</td>\n",
       "    </tr>\n",
       "    <tr>\n",
       "      <th>698</th>\n",
       "      <td>699</td>\n",
       "      <td>Live Free or Die Hard</td>\n",
       "      <td>Action,Adventure,Thriller</td>\n",
       "      <td>John McClane and a young hacker join forces to...</td>\n",
       "      <td>Len Wiseman</td>\n",
       "      <td>Bruce Willis, Justin Long, Timothy Olyphant, M...</td>\n",
       "      <td>2007</td>\n",
       "      <td>128</td>\n",
       "      <td>7.2</td>\n",
       "      <td>347567</td>\n",
       "      <td>134.52</td>\n",
       "      <td>69.0</td>\n",
       "    </tr>\n",
       "    <tr>\n",
       "      <th>763</th>\n",
       "      <td>764</td>\n",
       "      <td>Eagle Eye</td>\n",
       "      <td>Action,Mystery,Thriller</td>\n",
       "      <td>Jerry and Rachel are two strangers thrown toge...</td>\n",
       "      <td>D.J. Caruso</td>\n",
       "      <td>Shia LaBeouf, Michelle Monaghan, Rosario Dawso...</td>\n",
       "      <td>2008</td>\n",
       "      <td>118</td>\n",
       "      <td>6.6</td>\n",
       "      <td>156158</td>\n",
       "      <td>101.11</td>\n",
       "      <td>43.0</td>\n",
       "    </tr>\n",
       "    <tr>\n",
       "      <th>770</th>\n",
       "      <td>771</td>\n",
       "      <td>Quantum of Solace</td>\n",
       "      <td>Action,Adventure,Thriller</td>\n",
       "      <td>James Bond descends into mystery as he tries t...</td>\n",
       "      <td>Marc Forster</td>\n",
       "      <td>Daniel Craig, Olga Kurylenko, Mathieu Amalric,...</td>\n",
       "      <td>2008</td>\n",
       "      <td>106</td>\n",
       "      <td>6.6</td>\n",
       "      <td>347798</td>\n",
       "      <td>168.37</td>\n",
       "      <td>58.0</td>\n",
       "    </tr>\n",
       "    <tr>\n",
       "      <th>771</th>\n",
       "      <td>772</td>\n",
       "      <td>The Assignment</td>\n",
       "      <td>Action,Crime,Thriller</td>\n",
       "      <td>After waking up and discovering that he has un...</td>\n",
       "      <td>Walter Hill</td>\n",
       "      <td>Sigourney Weaver, Michelle Rodriguez, Tony Sha...</td>\n",
       "      <td>2016</td>\n",
       "      <td>95</td>\n",
       "      <td>4.5</td>\n",
       "      <td>2043</td>\n",
       "      <td>NaN</td>\n",
       "      <td>34.0</td>\n",
       "    </tr>\n",
       "    <tr>\n",
       "      <th>777</th>\n",
       "      <td>778</td>\n",
       "      <td>Final Girl</td>\n",
       "      <td>Action,Thriller</td>\n",
       "      <td>A man teaches a young woman how to become a co...</td>\n",
       "      <td>Tyler Shields</td>\n",
       "      <td>Abigail Breslin, Wes Bentley, Logan Huffman,Al...</td>\n",
       "      <td>2015</td>\n",
       "      <td>90</td>\n",
       "      <td>4.7</td>\n",
       "      <td>9026</td>\n",
       "      <td>NaN</td>\n",
       "      <td>56.0</td>\n",
       "    </tr>\n",
       "    <tr>\n",
       "      <th>780</th>\n",
       "      <td>781</td>\n",
       "      <td>Unknown</td>\n",
       "      <td>Action,Mystery,Thriller</td>\n",
       "      <td>A man awakens from a coma, only to discover th...</td>\n",
       "      <td>Jaume Collet-Serra</td>\n",
       "      <td>Liam Neeson, Diane Kruger, January Jones,Aidan...</td>\n",
       "      <td>2011</td>\n",
       "      <td>113</td>\n",
       "      <td>6.9</td>\n",
       "      <td>218679</td>\n",
       "      <td>61.09</td>\n",
       "      <td>56.0</td>\n",
       "    </tr>\n",
       "    <tr>\n",
       "      <th>794</th>\n",
       "      <td>795</td>\n",
       "      <td>Man on a Ledge</td>\n",
       "      <td>Action,Crime,Thriller</td>\n",
       "      <td>As a police psychologist works to talk down an...</td>\n",
       "      <td>Asger Leth</td>\n",
       "      <td>Sam Worthington, Elizabeth Banks, Jamie Bell, ...</td>\n",
       "      <td>2012</td>\n",
       "      <td>102</td>\n",
       "      <td>6.6</td>\n",
       "      <td>129252</td>\n",
       "      <td>18.60</td>\n",
       "      <td>40.0</td>\n",
       "    </tr>\n",
       "    <tr>\n",
       "      <th>803</th>\n",
       "      <td>804</td>\n",
       "      <td>Jack Ryan: Shadow Recruit</td>\n",
       "      <td>Action,Drama,Thriller</td>\n",
       "      <td>Jack Ryan, as a young covert CIA analyst, unco...</td>\n",
       "      <td>Kenneth Branagh</td>\n",
       "      <td>Chris Pine, Kevin Costner, Keira Knightley,Ken...</td>\n",
       "      <td>2014</td>\n",
       "      <td>105</td>\n",
       "      <td>6.2</td>\n",
       "      <td>103681</td>\n",
       "      <td>50.55</td>\n",
       "      <td>57.0</td>\n",
       "    </tr>\n",
       "    <tr>\n",
       "      <th>828</th>\n",
       "      <td>829</td>\n",
       "      <td>Grindhouse</td>\n",
       "      <td>Action,Horror,Thriller</td>\n",
       "      <td>Quentin Tarantino and Robert Rodriguez's homag...</td>\n",
       "      <td>Robert Rodriguez</td>\n",
       "      <td>Kurt Russell, Rose McGowan, Danny Trejo, Zoë Bell</td>\n",
       "      <td>2007</td>\n",
       "      <td>191</td>\n",
       "      <td>7.6</td>\n",
       "      <td>160350</td>\n",
       "      <td>25.03</td>\n",
       "      <td>NaN</td>\n",
       "    </tr>\n",
       "    <tr>\n",
       "      <th>844</th>\n",
       "      <td>845</td>\n",
       "      <td>Unstoppable</td>\n",
       "      <td>Action,Thriller</td>\n",
       "      <td>With an unmanned, half-mile-long freight train...</td>\n",
       "      <td>Tony Scott</td>\n",
       "      <td>Denzel Washington, Chris Pine, Rosario Dawson,...</td>\n",
       "      <td>2010</td>\n",
       "      <td>98</td>\n",
       "      <td>6.8</td>\n",
       "      <td>157499</td>\n",
       "      <td>81.56</td>\n",
       "      <td>69.0</td>\n",
       "    </tr>\n",
       "    <tr>\n",
       "      <th>869</th>\n",
       "      <td>870</td>\n",
       "      <td>Mission: Impossible III</td>\n",
       "      <td>Action,Adventure,Thriller</td>\n",
       "      <td>Agent Ethan Hunt comes into conflict with a da...</td>\n",
       "      <td>J.J. Abrams</td>\n",
       "      <td>Tom Cruise, Michelle Monaghan, Ving Rhames, Ph...</td>\n",
       "      <td>2006</td>\n",
       "      <td>126</td>\n",
       "      <td>6.9</td>\n",
       "      <td>270429</td>\n",
       "      <td>133.38</td>\n",
       "      <td>66.0</td>\n",
       "    </tr>\n",
       "    <tr>\n",
       "      <th>872</th>\n",
       "      <td>873</td>\n",
       "      <td>Red Dawn</td>\n",
       "      <td>Action,Thriller</td>\n",
       "      <td>A group of teenagers look to save their town f...</td>\n",
       "      <td>Dan Bradley</td>\n",
       "      <td>Chris Hemsworth, Isabel Lucas, Josh Hutcherson...</td>\n",
       "      <td>2012</td>\n",
       "      <td>93</td>\n",
       "      <td>5.4</td>\n",
       "      <td>64584</td>\n",
       "      <td>44.80</td>\n",
       "      <td>31.0</td>\n",
       "    </tr>\n",
       "    <tr>\n",
       "      <th>894</th>\n",
       "      <td>895</td>\n",
       "      <td>Rambo</td>\n",
       "      <td>Action,Thriller,War</td>\n",
       "      <td>In Thailand, John Rambo joins a group of missi...</td>\n",
       "      <td>Sylvester Stallone</td>\n",
       "      <td>Sylvester Stallone, Julie Benz, Matthew Marsde...</td>\n",
       "      <td>2008</td>\n",
       "      <td>92</td>\n",
       "      <td>7.1</td>\n",
       "      <td>187077</td>\n",
       "      <td>42.72</td>\n",
       "      <td>46.0</td>\n",
       "    </tr>\n",
       "    <tr>\n",
       "      <th>916</th>\n",
       "      <td>917</td>\n",
       "      <td>The Expendables 2</td>\n",
       "      <td>Action,Adventure,Thriller</td>\n",
       "      <td>Mr. Church reunites the Expendables for what s...</td>\n",
       "      <td>Simon West</td>\n",
       "      <td>Sylvester Stallone, Liam Hemsworth, Randy Cout...</td>\n",
       "      <td>2012</td>\n",
       "      <td>103</td>\n",
       "      <td>6.6</td>\n",
       "      <td>257395</td>\n",
       "      <td>85.02</td>\n",
       "      <td>51.0</td>\n",
       "    </tr>\n",
       "    <tr>\n",
       "      <th>923</th>\n",
       "      <td>924</td>\n",
       "      <td>No Escape</td>\n",
       "      <td>Action,Thriller</td>\n",
       "      <td>In their new overseas home, an American family...</td>\n",
       "      <td>John Erick Dowdle</td>\n",
       "      <td>Lake Bell, Pierce Brosnan, Owen Wilson,Chatcha...</td>\n",
       "      <td>2015</td>\n",
       "      <td>103</td>\n",
       "      <td>6.8</td>\n",
       "      <td>57921</td>\n",
       "      <td>27.29</td>\n",
       "      <td>38.0</td>\n",
       "    </tr>\n",
       "    <tr>\n",
       "      <th>938</th>\n",
       "      <td>939</td>\n",
       "      <td>The Siege of Jadotville</td>\n",
       "      <td>Action,Drama,Thriller</td>\n",
       "      <td>Irish Commandant Pat Quinlan leads a stand off...</td>\n",
       "      <td>Richie Smyth</td>\n",
       "      <td>Jamie Dornan, Mark Strong, Jason O'Mara, Micha...</td>\n",
       "      <td>2016</td>\n",
       "      <td>108</td>\n",
       "      <td>7.3</td>\n",
       "      <td>14689</td>\n",
       "      <td>NaN</td>\n",
       "      <td>83.0</td>\n",
       "    </tr>\n",
       "    <tr>\n",
       "      <th>944</th>\n",
       "      <td>945</td>\n",
       "      <td>Riddick</td>\n",
       "      <td>Action,Sci-Fi,Thriller</td>\n",
       "      <td>Left for dead on a sun-scorched planet, Riddic...</td>\n",
       "      <td>David Twohy</td>\n",
       "      <td>Vin Diesel, Karl Urban, Katee Sackhoff, Jordi ...</td>\n",
       "      <td>2013</td>\n",
       "      <td>119</td>\n",
       "      <td>6.4</td>\n",
       "      <td>132098</td>\n",
       "      <td>42.00</td>\n",
       "      <td>49.0</td>\n",
       "    </tr>\n",
       "    <tr>\n",
       "      <th>954</th>\n",
       "      <td>955</td>\n",
       "      <td>Death Race</td>\n",
       "      <td>Action,Sci-Fi,Thriller</td>\n",
       "      <td>Ex-con Jensen Ames is forced by the warden of ...</td>\n",
       "      <td>Paul W.S. Anderson</td>\n",
       "      <td>Jason Statham, Joan Allen, Tyrese Gibson, Ian ...</td>\n",
       "      <td>2008</td>\n",
       "      <td>105</td>\n",
       "      <td>6.4</td>\n",
       "      <td>173731</td>\n",
       "      <td>36.06</td>\n",
       "      <td>43.0</td>\n",
       "    </tr>\n",
       "    <tr>\n",
       "      <th>958</th>\n",
       "      <td>959</td>\n",
       "      <td>3 Days to Kill</td>\n",
       "      <td>Action,Drama,Thriller</td>\n",
       "      <td>A dying CIA agent trying to reconnect with his...</td>\n",
       "      <td>McG</td>\n",
       "      <td>Kevin Costner, Hailee Steinfeld, Connie Nielse...</td>\n",
       "      <td>2014</td>\n",
       "      <td>117</td>\n",
       "      <td>6.2</td>\n",
       "      <td>73567</td>\n",
       "      <td>30.69</td>\n",
       "      <td>40.0</td>\n",
       "    </tr>\n",
       "    <tr>\n",
       "      <th>968</th>\n",
       "      <td>969</td>\n",
       "      <td>Wrecker</td>\n",
       "      <td>Action,Horror,Thriller</td>\n",
       "      <td>Best friends Emily and Lesley go on a road tri...</td>\n",
       "      <td>Micheal Bafaro</td>\n",
       "      <td>Anna Hutchison, Andrea Whitburn, Jennifer Koen...</td>\n",
       "      <td>2015</td>\n",
       "      <td>83</td>\n",
       "      <td>3.5</td>\n",
       "      <td>1210</td>\n",
       "      <td>NaN</td>\n",
       "      <td>37.0</td>\n",
       "    </tr>\n",
       "  </tbody>\n",
       "</table>\n",
       "</div>"
      ],
      "text/plain": [
       "     Rank                                  Title                      Genre  \\\n",
       "17     18                           Jason Bourne            Action,Thriller   \n",
       "53     54                              John Wick      Action,Crime,Thriller   \n",
       "69     70                      Deepwater Horizon      Action,Drama,Thriller   \n",
       "84     85                          Furious Seven      Action,Crime,Thriller   \n",
       "110   111                   The Belko Experiment     Action,Horror,Thriller   \n",
       "124   125                  The Dark Knight Rises            Action,Thriller   \n",
       "134   135                              Furious 6      Action,Crime,Thriller   \n",
       "164   165                          Casino Royale  Action,Adventure,Thriller   \n",
       "169   170                                Spectre  Action,Adventure,Thriller   \n",
       "233   234     Mission: Impossible - Rogue Nation  Action,Adventure,Thriller   \n",
       "270   271                                Skyfall  Action,Adventure,Thriller   \n",
       "300   301                          The Equalizer      Action,Crime,Thriller   \n",
       "308   309  The Fast and the Furious: Tokyo Drift      Action,Crime,Thriller   \n",
       "319   320                              Fast Five      Action,Crime,Thriller   \n",
       "322   323                             RocknRolla      Action,Crime,Thriller   \n",
       "323   324                                In Time     Action,Sci-Fi,Thriller   \n",
       "340   341                         Fast & Furious      Action,Crime,Thriller   \n",
       "342   343                       White House Down      Action,Drama,Thriller   \n",
       "375   376                                Collide      Action,Crime,Thriller   \n",
       "379   380                      The Expendables 3  Action,Adventure,Thriller   \n",
       "410   411                                  Taken            Action,Thriller   \n",
       "420   421                                  Hanna      Action,Drama,Thriller   \n",
       "426   427           Sin City: A Dame to Kill For      Action,Crime,Thriller   \n",
       "427   428                   The Bourne Ultimatum    Action,Mystery,Thriller   \n",
       "433   434   Mission: Impossible - Ghost Protocol  Action,Adventure,Thriller   \n",
       "453   454                     Olympus Has Fallen            Action,Thriller   \n",
       "468   469                             District 9     Action,Sci-Fi,Thriller   \n",
       "500   501         Maze Runner: The Scorch Trials     Action,Sci-Fi,Thriller   \n",
       "532   533                                Deja Vu     Action,Sci-Fi,Thriller   \n",
       "533   534                                   Lucy     Action,Sci-Fi,Thriller   \n",
       "560   561                        The Expendables  Action,Adventure,Thriller   \n",
       "585   586                            Ghost Rider    Action,Fantasy,Thriller   \n",
       "624   625                                Taken 3            Action,Thriller   \n",
       "679   680                     The Age of Shadows      Action,Drama,Thriller   \n",
       "698   699                  Live Free or Die Hard  Action,Adventure,Thriller   \n",
       "763   764                              Eagle Eye    Action,Mystery,Thriller   \n",
       "770   771                      Quantum of Solace  Action,Adventure,Thriller   \n",
       "771   772                         The Assignment      Action,Crime,Thriller   \n",
       "777   778                             Final Girl            Action,Thriller   \n",
       "780   781                                Unknown    Action,Mystery,Thriller   \n",
       "794   795                         Man on a Ledge      Action,Crime,Thriller   \n",
       "803   804              Jack Ryan: Shadow Recruit      Action,Drama,Thriller   \n",
       "828   829                             Grindhouse     Action,Horror,Thriller   \n",
       "844   845                            Unstoppable            Action,Thriller   \n",
       "869   870                Mission: Impossible III  Action,Adventure,Thriller   \n",
       "872   873                               Red Dawn            Action,Thriller   \n",
       "894   895                                  Rambo        Action,Thriller,War   \n",
       "916   917                      The Expendables 2  Action,Adventure,Thriller   \n",
       "923   924                              No Escape            Action,Thriller   \n",
       "938   939                The Siege of Jadotville      Action,Drama,Thriller   \n",
       "944   945                                Riddick     Action,Sci-Fi,Thriller   \n",
       "954   955                             Death Race     Action,Sci-Fi,Thriller   \n",
       "958   959                         3 Days to Kill      Action,Drama,Thriller   \n",
       "968   969                                Wrecker     Action,Horror,Thriller   \n",
       "\n",
       "                                           Description               Director  \\\n",
       "17   The CIA's most dangerous former operative is d...        Paul Greengrass   \n",
       "53   An ex-hitman comes out of retirement to track ...         Chad Stahelski   \n",
       "69   A dramatization of the April 2010 disaster, wh...             Peter Berg   \n",
       "84   Deckard Shaw seeks revenge against Dominic Tor...              James Wan   \n",
       "110  In a twisted social experiment, 80 Americans a...            Greg McLean   \n",
       "124  Eight years after the Joker's reign of anarchy...      Christopher Nolan   \n",
       "134  Hobbs has Dominic and Brian reassemble their c...             Justin Lin   \n",
       "164  Armed with a licence to kill, Secret Agent Jam...        Martin Campbell   \n",
       "169  A cryptic message from Bond's past sends him o...             Sam Mendes   \n",
       "233  Ethan and team take on their most impossible m...  Christopher McQuarrie   \n",
       "270  Bond's loyalty to M is tested when her past co...             Sam Mendes   \n",
       "300  A man believes he has put his mysterious past ...          Antoine Fuqua   \n",
       "308  A teenager becomes a major competitor in the w...             Justin Lin   \n",
       "319  Dominic Toretto and his crew of street racers ...             Justin Lin   \n",
       "322  In London, a real-estate scam puts millions of...            Guy Ritchie   \n",
       "323  In a future where people stop aging at 25, but...          Andrew Niccol   \n",
       "340  Brian O'Conner, back working for the FBI in Lo...             Justin Lin   \n",
       "342  While on a tour of the White House with his yo...        Roland Emmerich   \n",
       "375  An American backpacker gets involved with a ri...            Eran Creevy   \n",
       "379  Barney augments his team with new blood for a ...         Patrick Hughes   \n",
       "410  A retired CIA agent travels across Europe and ...           Pierre Morel   \n",
       "420  A sixteen-year-old girl who was raised by her ...             Joe Wright   \n",
       "426  Some of Sin City's most hard-boiled citizens c...           Frank Miller   \n",
       "427  Jason Bourne dodges a ruthless CIA official an...        Paul Greengrass   \n",
       "433  The IMF is shut down when it's implicated in t...              Brad Bird   \n",
       "453  Disgraced Secret Service agent (and former pre...          Antoine Fuqua   \n",
       "468  An extraterrestrial race forced to live in slu...         Neill Blomkamp   \n",
       "500  After having escaped the Maze, the Gladers now...               Wes Ball   \n",
       "532  After a ferry is bombed in New Orleans, an A.T...             Tony Scott   \n",
       "533  A woman, accidentally caught in a dark deal, t...             Luc Besson   \n",
       "560  A CIA operative hires a team of mercenaries to...     Sylvester Stallone   \n",
       "585  Stunt motorcyclist Johnny Blaze gives up his s...    Mark Steven Johnson   \n",
       "624  Ex-government operative Bryan Mills is accused...        Olivier Megaton   \n",
       "679  Japanese agents close in as members of the Kor...           Jee-woon Kim   \n",
       "698  John McClane and a young hacker join forces to...            Len Wiseman   \n",
       "763  Jerry and Rachel are two strangers thrown toge...            D.J. Caruso   \n",
       "770  James Bond descends into mystery as he tries t...           Marc Forster   \n",
       "771  After waking up and discovering that he has un...            Walter Hill   \n",
       "777  A man teaches a young woman how to become a co...          Tyler Shields   \n",
       "780  A man awakens from a coma, only to discover th...     Jaume Collet-Serra   \n",
       "794  As a police psychologist works to talk down an...             Asger Leth   \n",
       "803  Jack Ryan, as a young covert CIA analyst, unco...        Kenneth Branagh   \n",
       "828  Quentin Tarantino and Robert Rodriguez's homag...       Robert Rodriguez   \n",
       "844  With an unmanned, half-mile-long freight train...             Tony Scott   \n",
       "869  Agent Ethan Hunt comes into conflict with a da...            J.J. Abrams   \n",
       "872  A group of teenagers look to save their town f...            Dan Bradley   \n",
       "894  In Thailand, John Rambo joins a group of missi...     Sylvester Stallone   \n",
       "916  Mr. Church reunites the Expendables for what s...             Simon West   \n",
       "923  In their new overseas home, an American family...      John Erick Dowdle   \n",
       "938  Irish Commandant Pat Quinlan leads a stand off...           Richie Smyth   \n",
       "944  Left for dead on a sun-scorched planet, Riddic...            David Twohy   \n",
       "954  Ex-con Jensen Ames is forced by the warden of ...     Paul W.S. Anderson   \n",
       "958  A dying CIA agent trying to reconnect with his...                    McG   \n",
       "968  Best friends Emily and Lesley go on a road tri...         Micheal Bafaro   \n",
       "\n",
       "                                                Actors  Year  \\\n",
       "17   Matt Damon, Tommy Lee Jones, Alicia Vikander,V...  2016   \n",
       "53   Keanu Reeves, Michael Nyqvist, Alfie Allen, Wi...  2014   \n",
       "69   Mark Wahlberg, Kurt Russell, Douglas M. Griffi...  2016   \n",
       "84   Vin Diesel, Paul Walker, Dwayne Johnson, Jason...  2015   \n",
       "110  John Gallagher Jr., Tony Goldwyn, Adria Arjona...  2016   \n",
       "124  Christian Bale, Tom Hardy, Anne Hathaway,Gary ...  2012   \n",
       "134  Vin Diesel, Paul Walker, Dwayne Johnson, Miche...  2013   \n",
       "164  Daniel Craig, Eva Green, Judi Dench, Jeffrey W...  2006   \n",
       "169  Daniel Craig, Christoph Waltz, Léa Seydoux, Ra...  2015   \n",
       "233  Tom Cruise, Rebecca Ferguson, Jeremy Renner, S...  2015   \n",
       "270  Daniel Craig, Javier Bardem, Naomie Harris, Ju...  2012   \n",
       "300  Denzel Washington, Marton Csokas, Chloë Grace ...  2014   \n",
       "308  Lucas Black, Zachery Ty Bryan, Shad Moss, Dami...  2006   \n",
       "319  Vin Diesel, Paul Walker, Dwayne Johnson, Jorda...  2011   \n",
       "322  Gerard Butler, Tom Wilkinson, Idris Elba, Than...  2008   \n",
       "323  Justin Timberlake, Amanda Seyfried, Cillian Mu...  2011   \n",
       "340  Vin Diesel, Paul Walker, Michelle Rodriguez, J...  2009   \n",
       "342  Channing Tatum, Jamie Foxx, Maggie Gyllenhaal,...  2013   \n",
       "375  Nicholas Hoult, Felicity Jones, Anthony Hopkin...  2016   \n",
       "379  Sylvester Stallone, Jason Statham, Jet Li, Ant...  2014   \n",
       "410  Liam Neeson, Maggie Grace, Famke Janssen, Lela...  2008   \n",
       "420  Saoirse Ronan, Cate Blanchett, Eric Bana, Vick...  2011   \n",
       "426  Mickey Rourke, Jessica Alba, Josh Brolin, Jose...  2014   \n",
       "427  Matt Damon, Edgar Ramírez, Joan Allen, Julia S...  2007   \n",
       "433  Tom Cruise, Jeremy Renner, Simon Pegg, Paula P...  2011   \n",
       "453  Gerard Butler, Aaron Eckhart, Morgan Freeman,A...  2013   \n",
       "468  Sharlto Copley, David James, Jason Cope, Natha...  2009   \n",
       "500  Dylan O'Brien, Kaya Scodelario, Thomas Brodie-...  2015   \n",
       "532  Denzel Washington, Paula Patton, Jim Caviezel,...  2006   \n",
       "533  Scarlett Johansson, Morgan Freeman, Min-sik Ch...  2014   \n",
       "560  Sylvester Stallone, Jason Statham, Jet Li, Dol...  2010   \n",
       "585   Nicolas Cage, Eva Mendes, Sam Elliott, Matt Long  2007   \n",
       "624  Liam Neeson, Forest Whitaker, Maggie Grace,Fam...  2014   \n",
       "679  Byung-hun Lee, Yoo Gong, Kang-ho Song, Ji-min Han  2016   \n",
       "698  Bruce Willis, Justin Long, Timothy Olyphant, M...  2007   \n",
       "763  Shia LaBeouf, Michelle Monaghan, Rosario Dawso...  2008   \n",
       "770  Daniel Craig, Olga Kurylenko, Mathieu Amalric,...  2008   \n",
       "771  Sigourney Weaver, Michelle Rodriguez, Tony Sha...  2016   \n",
       "777  Abigail Breslin, Wes Bentley, Logan Huffman,Al...  2015   \n",
       "780  Liam Neeson, Diane Kruger, January Jones,Aidan...  2011   \n",
       "794  Sam Worthington, Elizabeth Banks, Jamie Bell, ...  2012   \n",
       "803  Chris Pine, Kevin Costner, Keira Knightley,Ken...  2014   \n",
       "828  Kurt Russell, Rose McGowan, Danny Trejo, Zoë Bell  2007   \n",
       "844  Denzel Washington, Chris Pine, Rosario Dawson,...  2010   \n",
       "869  Tom Cruise, Michelle Monaghan, Ving Rhames, Ph...  2006   \n",
       "872  Chris Hemsworth, Isabel Lucas, Josh Hutcherson...  2012   \n",
       "894  Sylvester Stallone, Julie Benz, Matthew Marsde...  2008   \n",
       "916  Sylvester Stallone, Liam Hemsworth, Randy Cout...  2012   \n",
       "923  Lake Bell, Pierce Brosnan, Owen Wilson,Chatcha...  2015   \n",
       "938  Jamie Dornan, Mark Strong, Jason O'Mara, Micha...  2016   \n",
       "944  Vin Diesel, Karl Urban, Katee Sackhoff, Jordi ...  2013   \n",
       "954  Jason Statham, Joan Allen, Tyrese Gibson, Ian ...  2008   \n",
       "958  Kevin Costner, Hailee Steinfeld, Connie Nielse...  2014   \n",
       "968  Anna Hutchison, Andrea Whitburn, Jennifer Koen...  2015   \n",
       "\n",
       "     Runtime (Minutes)  Rating    Votes  Revenue (Millions)  Metascore  \n",
       "17                 123     6.7   150823              162.16       58.0  \n",
       "53                 101     7.2   321933               43.00       68.0  \n",
       "69                 107     7.2    89849               61.28       68.0  \n",
       "84                 137     7.2   301249              350.03       67.0  \n",
       "110                 89     6.3     3712               10.16       44.0  \n",
       "124                164     8.5  1222645              448.13       78.0  \n",
       "134                130     7.1   318051              238.67       61.0  \n",
       "164                144     8.0   495106              167.01       80.0  \n",
       "169                148     6.8   308981              200.07       60.0  \n",
       "233                131     7.4   257472              195.00       75.0  \n",
       "270                143     7.8   547386              304.36       81.0  \n",
       "300                132     7.2   249425              101.53       57.0  \n",
       "308                104     6.0   193479               62.49       45.0  \n",
       "319                131     7.3   300803              209.81       66.0  \n",
       "322                114     7.3   203096                5.69       53.0  \n",
       "323                109     6.7   319025               37.55       53.0  \n",
       "340                107     6.6   217464              155.02       46.0  \n",
       "342                131     6.4   173320               73.10       52.0  \n",
       "375                 99     5.7     7583                2.20       33.0  \n",
       "379                126     6.1   137568               39.29       35.0  \n",
       "410                 93     7.8   502961              145.00       50.0  \n",
       "420                111     6.8   164208               40.25       65.0  \n",
       "426                102     6.5   122185               13.75       46.0  \n",
       "427                115     8.1   525700              227.14       85.0  \n",
       "433                132     7.4   382459              209.36       73.0  \n",
       "453                119     6.5   214994               98.90       41.0  \n",
       "468                112     8.0   556794              115.65       81.0  \n",
       "500                131     6.3   159364               81.69       43.0  \n",
       "532                126     7.0   253858                 NaN        NaN  \n",
       "533                 89     6.4   352698              126.55       61.0  \n",
       "560                103     6.5   283282              102.98       45.0  \n",
       "585                114     5.2   190673              115.80       35.0  \n",
       "624                109     6.0   144715               89.25       26.0  \n",
       "679                140     7.2     2403                0.54       78.0  \n",
       "698                128     7.2   347567              134.52       69.0  \n",
       "763                118     6.6   156158              101.11       43.0  \n",
       "770                106     6.6   347798              168.37       58.0  \n",
       "771                 95     4.5     2043                 NaN       34.0  \n",
       "777                 90     4.7     9026                 NaN       56.0  \n",
       "780                113     6.9   218679               61.09       56.0  \n",
       "794                102     6.6   129252               18.60       40.0  \n",
       "803                105     6.2   103681               50.55       57.0  \n",
       "828                191     7.6   160350               25.03        NaN  \n",
       "844                 98     6.8   157499               81.56       69.0  \n",
       "869                126     6.9   270429              133.38       66.0  \n",
       "872                 93     5.4    64584               44.80       31.0  \n",
       "894                 92     7.1   187077               42.72       46.0  \n",
       "916                103     6.6   257395               85.02       51.0  \n",
       "923                103     6.8    57921               27.29       38.0  \n",
       "938                108     7.3    14689                 NaN       83.0  \n",
       "944                119     6.4   132098               42.00       49.0  \n",
       "954                105     6.4   173731               36.06       43.0  \n",
       "958                117     6.2    73567               30.69       40.0  \n",
       "968                 83     3.5     1210                 NaN       37.0  "
      ]
     },
     "execution_count": 231,
     "metadata": {},
     "output_type": "execute_result"
    }
   ],
   "source": [
    "df[df.Genre.str.contains('action',case=False) &df.Genre.str.contains('thriller',case=False)]"
   ]
  },
  {
   "cell_type": "code",
   "execution_count": 241,
   "metadata": {},
   "outputs": [
    {
     "data": {
      "text/plain": [
       "0      False\n",
       "1      False\n",
       "2      False\n",
       "3      False\n",
       "4      False\n",
       "       ...  \n",
       "995    False\n",
       "996    False\n",
       "997    False\n",
       "998    False\n",
       "999    False\n",
       "Name: Genre, Length: 1000, dtype: bool"
      ]
     },
     "execution_count": 241,
     "metadata": {},
     "output_type": "execute_result"
    }
   ],
   "source": [
    "#have at most 2 genres\n",
    "(df.Genre.str.count(',')+1)<3;\n",
    "#have action among genres\n",
    "df.Genre.str.contains('action',case=False);\n",
    "#are combined from action, thriller, adventure only\n",
    "(df.Genre.str.split(',').map(set)-set(['Action','Thriller',\"Adventure\"]))==set()"
   ]
  },
  {
   "cell_type": "code",
   "execution_count": 248,
   "metadata": {},
   "outputs": [],
   "source": [
    "#2 and #3 and #4\n",
    "#either it is just an action or it is an action +thriller or adventure"
   ]
  },
  {
   "cell_type": "code",
   "execution_count": 257,
   "metadata": {
    "collapsed": true
   },
   "outputs": [
    {
     "data": {
      "text/html": [
       "<div>\n",
       "<style scoped>\n",
       "    .dataframe tbody tr th:only-of-type {\n",
       "        vertical-align: middle;\n",
       "    }\n",
       "\n",
       "    .dataframe tbody tr th {\n",
       "        vertical-align: top;\n",
       "    }\n",
       "\n",
       "    .dataframe thead th {\n",
       "        text-align: right;\n",
       "    }\n",
       "</style>\n",
       "<table border=\"1\" class=\"dataframe\">\n",
       "  <thead>\n",
       "    <tr style=\"text-align: right;\">\n",
       "      <th></th>\n",
       "      <th>Rank</th>\n",
       "      <th>Title</th>\n",
       "      <th>Genre</th>\n",
       "      <th>Description</th>\n",
       "      <th>Director</th>\n",
       "      <th>Actors</th>\n",
       "      <th>Year</th>\n",
       "      <th>Runtime (Minutes)</th>\n",
       "      <th>Rating</th>\n",
       "      <th>Votes</th>\n",
       "      <th>Revenue (Millions)</th>\n",
       "      <th>Metascore</th>\n",
       "    </tr>\n",
       "  </thead>\n",
       "  <tbody>\n",
       "    <tr>\n",
       "      <th>17</th>\n",
       "      <td>18</td>\n",
       "      <td>Jason Bourne</td>\n",
       "      <td>Action,Thriller</td>\n",
       "      <td>The CIA's most dangerous former operative is d...</td>\n",
       "      <td>Paul Greengrass</td>\n",
       "      <td>Matt Damon, Tommy Lee Jones, Alicia Vikander,V...</td>\n",
       "      <td>2016</td>\n",
       "      <td>123</td>\n",
       "      <td>6.7</td>\n",
       "      <td>150823</td>\n",
       "      <td>162.16</td>\n",
       "      <td>58.0</td>\n",
       "    </tr>\n",
       "    <tr>\n",
       "      <th>123</th>\n",
       "      <td>124</td>\n",
       "      <td>Boyka: Undisputed IV</td>\n",
       "      <td>Action</td>\n",
       "      <td>In the fourth installment of the fighting fran...</td>\n",
       "      <td>Todor Chapkanov</td>\n",
       "      <td>Scott Adkins, Teodora Duhovnikova, Alon Aboutb...</td>\n",
       "      <td>2016</td>\n",
       "      <td>86</td>\n",
       "      <td>7.4</td>\n",
       "      <td>10428</td>\n",
       "      <td>NaN</td>\n",
       "      <td>NaN</td>\n",
       "    </tr>\n",
       "    <tr>\n",
       "      <th>124</th>\n",
       "      <td>125</td>\n",
       "      <td>The Dark Knight Rises</td>\n",
       "      <td>Action,Thriller</td>\n",
       "      <td>Eight years after the Joker's reign of anarchy...</td>\n",
       "      <td>Christopher Nolan</td>\n",
       "      <td>Christian Bale, Tom Hardy, Anne Hathaway,Gary ...</td>\n",
       "      <td>2012</td>\n",
       "      <td>164</td>\n",
       "      <td>8.5</td>\n",
       "      <td>1222645</td>\n",
       "      <td>448.13</td>\n",
       "      <td>78.0</td>\n",
       "    </tr>\n",
       "    <tr>\n",
       "      <th>284</th>\n",
       "      <td>285</td>\n",
       "      <td>Hercules</td>\n",
       "      <td>Action,Adventure</td>\n",
       "      <td>Having endured his legendary twelve labors, He...</td>\n",
       "      <td>Brett Ratner</td>\n",
       "      <td>Dwayne Johnson, John Hurt, Ian McShane, Joseph...</td>\n",
       "      <td>2014</td>\n",
       "      <td>98</td>\n",
       "      <td>6.0</td>\n",
       "      <td>122838</td>\n",
       "      <td>72.66</td>\n",
       "      <td>47.0</td>\n",
       "    </tr>\n",
       "    <tr>\n",
       "      <th>344</th>\n",
       "      <td>345</td>\n",
       "      <td>Spider-Man 3</td>\n",
       "      <td>Action,Adventure</td>\n",
       "      <td>A strange black entity from another world bond...</td>\n",
       "      <td>Sam Raimi</td>\n",
       "      <td>Tobey Maguire, Kirsten Dunst, Topher Grace, Th...</td>\n",
       "      <td>2007</td>\n",
       "      <td>139</td>\n",
       "      <td>6.2</td>\n",
       "      <td>406219</td>\n",
       "      <td>336.53</td>\n",
       "      <td>59.0</td>\n",
       "    </tr>\n",
       "    <tr>\n",
       "      <th>368</th>\n",
       "      <td>369</td>\n",
       "      <td>The Amazing Spider-Man</td>\n",
       "      <td>Action,Adventure</td>\n",
       "      <td>After Peter Parker is bitten by a genetically ...</td>\n",
       "      <td>Marc Webb</td>\n",
       "      <td>Andrew Garfield, Emma Stone, Rhys Ifans, Irrfa...</td>\n",
       "      <td>2012</td>\n",
       "      <td>136</td>\n",
       "      <td>7.0</td>\n",
       "      <td>474320</td>\n",
       "      <td>262.03</td>\n",
       "      <td>66.0</td>\n",
       "    </tr>\n",
       "    <tr>\n",
       "      <th>410</th>\n",
       "      <td>411</td>\n",
       "      <td>Taken</td>\n",
       "      <td>Action,Thriller</td>\n",
       "      <td>A retired CIA agent travels across Europe and ...</td>\n",
       "      <td>Pierre Morel</td>\n",
       "      <td>Liam Neeson, Maggie Grace, Famke Janssen, Lela...</td>\n",
       "      <td>2008</td>\n",
       "      <td>93</td>\n",
       "      <td>7.8</td>\n",
       "      <td>502961</td>\n",
       "      <td>145.00</td>\n",
       "      <td>50.0</td>\n",
       "    </tr>\n",
       "    <tr>\n",
       "      <th>453</th>\n",
       "      <td>454</td>\n",
       "      <td>Olympus Has Fallen</td>\n",
       "      <td>Action,Thriller</td>\n",
       "      <td>Disgraced Secret Service agent (and former pre...</td>\n",
       "      <td>Antoine Fuqua</td>\n",
       "      <td>Gerard Butler, Aaron Eckhart, Morgan Freeman,A...</td>\n",
       "      <td>2013</td>\n",
       "      <td>119</td>\n",
       "      <td>6.5</td>\n",
       "      <td>214994</td>\n",
       "      <td>98.90</td>\n",
       "      <td>41.0</td>\n",
       "    </tr>\n",
       "    <tr>\n",
       "      <th>580</th>\n",
       "      <td>581</td>\n",
       "      <td>Kickboxer: Vengeance</td>\n",
       "      <td>Action</td>\n",
       "      <td>A kick boxer is out to avenge his brother.</td>\n",
       "      <td>John Stockwell</td>\n",
       "      <td>Dave Bautista, Alain Moussi, Gina Carano, Jean...</td>\n",
       "      <td>2016</td>\n",
       "      <td>90</td>\n",
       "      <td>4.9</td>\n",
       "      <td>6809</td>\n",
       "      <td>131.56</td>\n",
       "      <td>37.0</td>\n",
       "    </tr>\n",
       "    <tr>\n",
       "      <th>624</th>\n",
       "      <td>625</td>\n",
       "      <td>Taken 3</td>\n",
       "      <td>Action,Thriller</td>\n",
       "      <td>Ex-government operative Bryan Mills is accused...</td>\n",
       "      <td>Olivier Megaton</td>\n",
       "      <td>Liam Neeson, Forest Whitaker, Maggie Grace,Fam...</td>\n",
       "      <td>2014</td>\n",
       "      <td>109</td>\n",
       "      <td>6.0</td>\n",
       "      <td>144715</td>\n",
       "      <td>89.25</td>\n",
       "      <td>26.0</td>\n",
       "    </tr>\n",
       "    <tr>\n",
       "      <th>777</th>\n",
       "      <td>778</td>\n",
       "      <td>Final Girl</td>\n",
       "      <td>Action,Thriller</td>\n",
       "      <td>A man teaches a young woman how to become a co...</td>\n",
       "      <td>Tyler Shields</td>\n",
       "      <td>Abigail Breslin, Wes Bentley, Logan Huffman,Al...</td>\n",
       "      <td>2015</td>\n",
       "      <td>90</td>\n",
       "      <td>4.7</td>\n",
       "      <td>9026</td>\n",
       "      <td>NaN</td>\n",
       "      <td>56.0</td>\n",
       "    </tr>\n",
       "    <tr>\n",
       "      <th>844</th>\n",
       "      <td>845</td>\n",
       "      <td>Unstoppable</td>\n",
       "      <td>Action,Thriller</td>\n",
       "      <td>With an unmanned, half-mile-long freight train...</td>\n",
       "      <td>Tony Scott</td>\n",
       "      <td>Denzel Washington, Chris Pine, Rosario Dawson,...</td>\n",
       "      <td>2010</td>\n",
       "      <td>98</td>\n",
       "      <td>6.8</td>\n",
       "      <td>157499</td>\n",
       "      <td>81.56</td>\n",
       "      <td>69.0</td>\n",
       "    </tr>\n",
       "    <tr>\n",
       "      <th>872</th>\n",
       "      <td>873</td>\n",
       "      <td>Red Dawn</td>\n",
       "      <td>Action,Thriller</td>\n",
       "      <td>A group of teenagers look to save their town f...</td>\n",
       "      <td>Dan Bradley</td>\n",
       "      <td>Chris Hemsworth, Isabel Lucas, Josh Hutcherson...</td>\n",
       "      <td>2012</td>\n",
       "      <td>93</td>\n",
       "      <td>5.4</td>\n",
       "      <td>64584</td>\n",
       "      <td>44.80</td>\n",
       "      <td>31.0</td>\n",
       "    </tr>\n",
       "    <tr>\n",
       "      <th>923</th>\n",
       "      <td>924</td>\n",
       "      <td>No Escape</td>\n",
       "      <td>Action,Thriller</td>\n",
       "      <td>In their new overseas home, an American family...</td>\n",
       "      <td>John Erick Dowdle</td>\n",
       "      <td>Lake Bell, Pierce Brosnan, Owen Wilson,Chatcha...</td>\n",
       "      <td>2015</td>\n",
       "      <td>103</td>\n",
       "      <td>6.8</td>\n",
       "      <td>57921</td>\n",
       "      <td>27.29</td>\n",
       "      <td>38.0</td>\n",
       "    </tr>\n",
       "  </tbody>\n",
       "</table>\n",
       "</div>"
      ],
      "text/plain": [
       "     Rank                   Title             Genre  \\\n",
       "17     18            Jason Bourne   Action,Thriller   \n",
       "123   124    Boyka: Undisputed IV            Action   \n",
       "124   125   The Dark Knight Rises   Action,Thriller   \n",
       "284   285                Hercules  Action,Adventure   \n",
       "344   345            Spider-Man 3  Action,Adventure   \n",
       "368   369  The Amazing Spider-Man  Action,Adventure   \n",
       "410   411                   Taken   Action,Thriller   \n",
       "453   454      Olympus Has Fallen   Action,Thriller   \n",
       "580   581    Kickboxer: Vengeance            Action   \n",
       "624   625                 Taken 3   Action,Thriller   \n",
       "777   778              Final Girl   Action,Thriller   \n",
       "844   845             Unstoppable   Action,Thriller   \n",
       "872   873                Red Dawn   Action,Thriller   \n",
       "923   924               No Escape   Action,Thriller   \n",
       "\n",
       "                                           Description           Director  \\\n",
       "17   The CIA's most dangerous former operative is d...    Paul Greengrass   \n",
       "123  In the fourth installment of the fighting fran...    Todor Chapkanov   \n",
       "124  Eight years after the Joker's reign of anarchy...  Christopher Nolan   \n",
       "284  Having endured his legendary twelve labors, He...       Brett Ratner   \n",
       "344  A strange black entity from another world bond...          Sam Raimi   \n",
       "368  After Peter Parker is bitten by a genetically ...          Marc Webb   \n",
       "410  A retired CIA agent travels across Europe and ...       Pierre Morel   \n",
       "453  Disgraced Secret Service agent (and former pre...      Antoine Fuqua   \n",
       "580         A kick boxer is out to avenge his brother.     John Stockwell   \n",
       "624  Ex-government operative Bryan Mills is accused...    Olivier Megaton   \n",
       "777  A man teaches a young woman how to become a co...      Tyler Shields   \n",
       "844  With an unmanned, half-mile-long freight train...         Tony Scott   \n",
       "872  A group of teenagers look to save their town f...        Dan Bradley   \n",
       "923  In their new overseas home, an American family...  John Erick Dowdle   \n",
       "\n",
       "                                                Actors  Year  \\\n",
       "17   Matt Damon, Tommy Lee Jones, Alicia Vikander,V...  2016   \n",
       "123  Scott Adkins, Teodora Duhovnikova, Alon Aboutb...  2016   \n",
       "124  Christian Bale, Tom Hardy, Anne Hathaway,Gary ...  2012   \n",
       "284  Dwayne Johnson, John Hurt, Ian McShane, Joseph...  2014   \n",
       "344  Tobey Maguire, Kirsten Dunst, Topher Grace, Th...  2007   \n",
       "368  Andrew Garfield, Emma Stone, Rhys Ifans, Irrfa...  2012   \n",
       "410  Liam Neeson, Maggie Grace, Famke Janssen, Lela...  2008   \n",
       "453  Gerard Butler, Aaron Eckhart, Morgan Freeman,A...  2013   \n",
       "580  Dave Bautista, Alain Moussi, Gina Carano, Jean...  2016   \n",
       "624  Liam Neeson, Forest Whitaker, Maggie Grace,Fam...  2014   \n",
       "777  Abigail Breslin, Wes Bentley, Logan Huffman,Al...  2015   \n",
       "844  Denzel Washington, Chris Pine, Rosario Dawson,...  2010   \n",
       "872  Chris Hemsworth, Isabel Lucas, Josh Hutcherson...  2012   \n",
       "923  Lake Bell, Pierce Brosnan, Owen Wilson,Chatcha...  2015   \n",
       "\n",
       "     Runtime (Minutes)  Rating    Votes  Revenue (Millions)  Metascore  \n",
       "17                 123     6.7   150823              162.16       58.0  \n",
       "123                 86     7.4    10428                 NaN        NaN  \n",
       "124                164     8.5  1222645              448.13       78.0  \n",
       "284                 98     6.0   122838               72.66       47.0  \n",
       "344                139     6.2   406219              336.53       59.0  \n",
       "368                136     7.0   474320              262.03       66.0  \n",
       "410                 93     7.8   502961              145.00       50.0  \n",
       "453                119     6.5   214994               98.90       41.0  \n",
       "580                 90     4.9     6809              131.56       37.0  \n",
       "624                109     6.0   144715               89.25       26.0  \n",
       "777                 90     4.7     9026                 NaN       56.0  \n",
       "844                 98     6.8   157499               81.56       69.0  \n",
       "872                 93     5.4    64584               44.80       31.0  \n",
       "923                103     6.8    57921               27.29       38.0  "
      ]
     },
     "execution_count": 257,
     "metadata": {},
     "output_type": "execute_result"
    }
   ],
   "source": [
    "df[df.Genre.str.split(',').map(set).apply(lambda x: \n",
    "                                          (len(x)<3) &\n",
    "                                          (\"Action\" in x) &\n",
    "                                          ((x-{'Action','Thriller',\"Adventure\"})==set())\n",
    "                                      )]"
   ]
  },
  {
   "cell_type": "markdown",
   "metadata": {},
   "source": [
    "Calculate the average number of words in description and actors"
   ]
  },
  {
   "cell_type": "code",
   "execution_count": 263,
   "metadata": {},
   "outputs": [
    {
     "data": {
      "text/plain": [
       "7.86"
      ]
     },
     "execution_count": 263,
     "metadata": {},
     "output_type": "execute_result"
    }
   ],
   "source": [
    "df.Description.str.split().map(len).mean()\n",
    "df.Actors.str.split().map(len).mean()"
   ]
  },
  {
   "cell_type": "code",
   "execution_count": 266,
   "metadata": {},
   "outputs": [
    {
     "data": {
      "text/plain": [
       "Description    27.921\n",
       "Actors          7.860\n",
       "dtype: float64"
      ]
     },
     "execution_count": 266,
     "metadata": {},
     "output_type": "execute_result"
    }
   ],
   "source": [
    "df[['Description','Actors']].applymap(lambda x: len(x.split())).mean()"
   ]
  }
 ],
 "metadata": {
  "kernelspec": {
   "display_name": "Python 3",
   "language": "python",
   "name": "python3"
  },
  "language_info": {
   "codemirror_mode": {
    "name": "ipython",
    "version": 3
   },
   "file_extension": ".py",
   "mimetype": "text/x-python",
   "name": "python",
   "nbconvert_exporter": "python",
   "pygments_lexer": "ipython3",
   "version": "3.8.5"
  }
 },
 "nbformat": 4,
 "nbformat_minor": 4
}
