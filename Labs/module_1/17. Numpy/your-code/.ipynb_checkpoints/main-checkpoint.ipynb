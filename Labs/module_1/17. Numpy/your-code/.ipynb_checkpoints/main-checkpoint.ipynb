{
 "cells": [
  {
   "cell_type": "markdown",
   "metadata": {},
   "source": [
    "# Intrduction to NumPy\n",
    "\n",
    "\n",
    "#### 1. Import NumPy under the name np."
   ]
  },
  {
   "cell_type": "code",
   "execution_count": 1,
   "metadata": {},
   "outputs": [],
   "source": [
    "import numpy as np"
   ]
  },
  {
   "cell_type": "markdown",
   "metadata": {},
   "source": [
    "#### 2. Print your NumPy version."
   ]
  },
  {
   "cell_type": "code",
   "execution_count": 5,
   "metadata": {},
   "outputs": [
    {
     "data": {
      "text/plain": [
       "'1.18.5'"
      ]
     },
     "execution_count": 5,
     "metadata": {},
     "output_type": "execute_result"
    }
   ],
   "source": [
    "np.__version__"
   ]
  },
  {
   "cell_type": "markdown",
   "metadata": {},
   "source": [
    "#### 3. Generate a 2x3x5 3-dimensional array with random values. Assign the array to variable *a*.\n",
    "**Challenge**: there are at least three easy ways that use numpy to generate random arrays. How many ways can you find?"
   ]
  },
  {
   "cell_type": "code",
   "execution_count": 29,
   "metadata": {},
   "outputs": [
    {
     "data": {
      "text/plain": [
       "array([[[0.4566236 , 0.83229833, 0.77390149, 0.5876278 , 0.02784794],\n",
       "        [0.1832097 , 0.24308701, 0.32342753, 0.62507605, 0.01767085],\n",
       "        [0.67561246, 0.13130847, 0.98366465, 0.25424051, 0.75730944]],\n",
       "\n",
       "       [[0.09074159, 0.02187715, 0.96414818, 0.64550418, 0.11539403],\n",
       "        [0.95064835, 0.21811804, 0.1551939 , 0.25629826, 0.2816198 ],\n",
       "        [0.38956424, 0.84287929, 0.52325252, 0.97302962, 0.06448857]]])"
      ]
     },
     "execution_count": 29,
     "metadata": {},
     "output_type": "execute_result"
    }
   ],
   "source": [
    "a = np.random.random((2,3,5))\n",
    "a"
   ]
  },
  {
   "cell_type": "code",
   "execution_count": 18,
   "metadata": {},
   "outputs": [
    {
     "data": {
      "text/plain": [
       "array([[[0.91621082, 0.94316581, 0.72833252, 0.80692095, 0.43211737],\n",
       "        [0.97547093, 0.12718108, 0.52674791, 0.62439699, 0.62105031],\n",
       "        [0.5540528 , 0.28661334, 0.08596492, 0.47180359, 0.21566264]],\n",
       "\n",
       "       [[0.75462311, 0.45814252, 0.97619809, 0.27852747, 0.08935759],\n",
       "        [0.36160073, 0.97654884, 0.46822959, 0.17532746, 0.21315056],\n",
       "        [0.70089802, 0.6538205 , 0.02195301, 0.43184095, 0.43855359]]])"
      ]
     },
     "execution_count": 18,
     "metadata": {},
     "output_type": "execute_result"
    }
   ],
   "source": [
    "np.empty([2, 3, 5]) \n"
   ]
  },
  {
   "cell_type": "code",
   "execution_count": 25,
   "metadata": {},
   "outputs": [
    {
     "data": {
      "text/plain": [
       "array([[[7.37235058e-01, 1.06056385e-01, 3.92632656e-01, 9.95040958e-02,\n",
       "         7.16798430e-01],\n",
       "        [6.15796488e-02, 3.66236394e-01, 9.33680877e-01, 1.60638790e-01,\n",
       "         2.88306934e-01],\n",
       "        [4.18488739e-01, 6.32914781e-01, 7.83681712e-01, 3.64498292e-01,\n",
       "         4.87816844e-01]],\n",
       "\n",
       "       [[4.20698747e-01, 7.51613965e-01, 5.15087308e-01, 9.07034096e-01,\n",
       "         3.98164475e-04],\n",
       "        [4.80333896e-01, 5.82142757e-01, 4.14194901e-01, 9.89100642e-01,\n",
       "         5.03305078e-01],\n",
       "        [8.25072882e-01, 2.37390478e-02, 8.79836871e-01, 2.45784510e-01,\n",
       "         7.77761671e-01]]])"
      ]
     },
     "execution_count": 25,
     "metadata": {},
     "output_type": "execute_result"
    }
   ],
   "source": [
    "np.random.rand(2,3,5)"
   ]
  },
  {
   "cell_type": "markdown",
   "metadata": {},
   "source": [
    "#### 4. Print *a*.\n"
   ]
  },
  {
   "cell_type": "code",
   "execution_count": 15,
   "metadata": {},
   "outputs": [
    {
     "data": {
      "text/plain": [
       "array([[[0.91621082, 0.94316581, 0.72833252, 0.80692095, 0.43211737],\n",
       "        [0.97547093, 0.12718108, 0.52674791, 0.62439699, 0.62105031],\n",
       "        [0.5540528 , 0.28661334, 0.08596492, 0.47180359, 0.21566264]],\n",
       "\n",
       "       [[0.75462311, 0.45814252, 0.97619809, 0.27852747, 0.08935759],\n",
       "        [0.36160073, 0.97654884, 0.46822959, 0.17532746, 0.21315056],\n",
       "        [0.70089802, 0.6538205 , 0.02195301, 0.43184095, 0.43855359]]])"
      ]
     },
     "execution_count": 15,
     "metadata": {},
     "output_type": "execute_result"
    }
   ],
   "source": [
    "a"
   ]
  },
  {
   "cell_type": "markdown",
   "metadata": {},
   "source": [
    "#### 5. Create a 5x2x3 3-dimensional array with all values equaling 1. Assign the array to variable *b*."
   ]
  },
  {
   "cell_type": "code",
   "execution_count": 22,
   "metadata": {},
   "outputs": [],
   "source": [
    "b = np.random.uniform(low=1, size = (5,2,3))"
   ]
  },
  {
   "cell_type": "markdown",
   "metadata": {},
   "source": [
    "#### 6. Print *b*.\n"
   ]
  },
  {
   "cell_type": "code",
   "execution_count": 23,
   "metadata": {},
   "outputs": [
    {
     "data": {
      "text/plain": [
       "array([[[1., 1., 1.],\n",
       "        [1., 1., 1.]],\n",
       "\n",
       "       [[1., 1., 1.],\n",
       "        [1., 1., 1.]],\n",
       "\n",
       "       [[1., 1., 1.],\n",
       "        [1., 1., 1.]],\n",
       "\n",
       "       [[1., 1., 1.],\n",
       "        [1., 1., 1.]],\n",
       "\n",
       "       [[1., 1., 1.],\n",
       "        [1., 1., 1.]]])"
      ]
     },
     "execution_count": 23,
     "metadata": {},
     "output_type": "execute_result"
    }
   ],
   "source": [
    "b"
   ]
  },
  {
   "cell_type": "markdown",
   "metadata": {},
   "source": [
    "#### 7. Do *a* and *b* have the same size? How do you prove that in Python code?"
   ]
  },
  {
   "cell_type": "code",
   "execution_count": 31,
   "metadata": {},
   "outputs": [
    {
     "name": "stdout",
     "output_type": "stream",
     "text": [
      "(2, 3, 5)\n",
      "(5, 2, 3)\n"
     ]
    },
    {
     "data": {
      "text/plain": [
       "False"
      ]
     },
     "execution_count": 31,
     "metadata": {},
     "output_type": "execute_result"
    }
   ],
   "source": [
    "print(a.shape)\n",
    "print(b.shape)\n",
    "\n",
    "a.shape==b.shape"
   ]
  },
  {
   "cell_type": "markdown",
   "metadata": {},
   "source": [
    "#### 8. Are you able to add *a* and *b*? Why or why not?\n"
   ]
  },
  {
   "cell_type": "code",
   "execution_count": 32,
   "metadata": {},
   "outputs": [
    {
     "ename": "ValueError",
     "evalue": "operands could not be broadcast together with shapes (2,3,5) (5,2,3) ",
     "output_type": "error",
     "traceback": [
      "\u001b[1;31m---------------------------------------------------------------------------\u001b[0m",
      "\u001b[1;31mValueError\u001b[0m                                Traceback (most recent call last)",
      "\u001b[1;32m<ipython-input-32-bd58363a63fc>\u001b[0m in \u001b[0;36m<module>\u001b[1;34m\u001b[0m\n\u001b[1;32m----> 1\u001b[1;33m \u001b[0ma\u001b[0m \u001b[1;33m+\u001b[0m \u001b[0mb\u001b[0m\u001b[1;33m\u001b[0m\u001b[1;33m\u001b[0m\u001b[0m\n\u001b[0m",
      "\u001b[1;31mValueError\u001b[0m: operands could not be broadcast together with shapes (2,3,5) (5,2,3) "
     ]
    }
   ],
   "source": [
    "#They are not the same shape.\n",
    "a + b"
   ]
  },
  {
   "cell_type": "markdown",
   "metadata": {},
   "source": [
    "#### 9. Transpose *b* so that it has the same structure of *a* (i.e. become a 2x3x5 array). Assign the transposed array to variable *c*."
   ]
  },
  {
   "cell_type": "code",
   "execution_count": 49,
   "metadata": {},
   "outputs": [
    {
     "data": {
      "text/plain": [
       "array([[[1., 1., 1., 1., 1.],\n",
       "        [1., 1., 1., 1., 1.],\n",
       "        [1., 1., 1., 1., 1.]],\n",
       "\n",
       "       [[1., 1., 1., 1., 1.],\n",
       "        [1., 1., 1., 1., 1.],\n",
       "        [1., 1., 1., 1., 1.]]])"
      ]
     },
     "execution_count": 49,
     "metadata": {},
     "output_type": "execute_result"
    }
   ],
   "source": [
    "#!!! WRONG\n",
    "c = b.reshape(2,3,5)\n",
    "c"
   ]
  },
  {
   "cell_type": "code",
   "execution_count": null,
   "metadata": {},
   "outputs": [],
   "source": [
    "b.transpose((1,2,0))"
   ]
  },
  {
   "cell_type": "markdown",
   "metadata": {},
   "source": [
    "#### 10. Try to add *a* and *c*. Now it should work. Assign the sum to variable *d*. But why does it work now?"
   ]
  },
  {
   "cell_type": "code",
   "execution_count": 40,
   "metadata": {},
   "outputs": [],
   "source": [
    "d = a + c"
   ]
  },
  {
   "cell_type": "markdown",
   "metadata": {},
   "source": [
    "#### 11. Print *a* and *d*. Notice the difference and relation of the two array in terms of the values? Explain."
   ]
  },
  {
   "cell_type": "code",
   "execution_count": 46,
   "metadata": {},
   "outputs": [
    {
     "name": "stdout",
     "output_type": "stream",
     "text": [
      "[[[0.4566236  0.83229833 0.77390149 0.5876278  0.02784794]\n",
      "  [0.1832097  0.24308701 0.32342753 0.62507605 0.01767085]\n",
      "  [0.67561246 0.13130847 0.98366465 0.25424051 0.75730944]]\n",
      "\n",
      " [[0.09074159 0.02187715 0.96414818 0.64550418 0.11539403]\n",
      "  [0.95064835 0.21811804 0.1551939  0.25629826 0.2816198 ]\n",
      "  [0.38956424 0.84287929 0.52325252 0.97302962 0.06448857]]]\n",
      "\n",
      "\n",
      "\n",
      " [[[1.4566236  1.83229833 1.77390149 1.5876278  1.02784794]\n",
      "  [1.1832097  1.24308701 1.32342753 1.62507605 1.01767085]\n",
      "  [1.67561246 1.13130847 1.98366465 1.25424051 1.75730944]]\n",
      "\n",
      " [[1.09074159 1.02187715 1.96414818 1.64550418 1.11539403]\n",
      "  [1.95064835 1.21811804 1.1551939  1.25629826 1.2816198 ]\n",
      "  [1.38956424 1.84287929 1.52325252 1.97302962 1.06448857]]]\n"
     ]
    }
   ],
   "source": [
    "print(a)\n",
    "\n",
    "print(\"\\n\\n\\n\",d)"
   ]
  },
  {
   "cell_type": "markdown",
   "metadata": {},
   "source": [
    "#### 12. Multiply *a* and *c*. Assign the result to *e*."
   ]
  },
  {
   "cell_type": "code",
   "execution_count": 50,
   "metadata": {},
   "outputs": [
    {
     "data": {
      "text/plain": [
       "array([[[0.4566236 , 0.83229833, 0.77390149, 0.5876278 , 0.02784794],\n",
       "        [0.1832097 , 0.24308701, 0.32342753, 0.62507605, 0.01767085],\n",
       "        [0.67561246, 0.13130847, 0.98366465, 0.25424051, 0.75730944]],\n",
       "\n",
       "       [[0.09074159, 0.02187715, 0.96414818, 0.64550418, 0.11539403],\n",
       "        [0.95064835, 0.21811804, 0.1551939 , 0.25629826, 0.2816198 ],\n",
       "        [0.38956424, 0.84287929, 0.52325252, 0.97302962, 0.06448857]]])"
      ]
     },
     "execution_count": 50,
     "metadata": {},
     "output_type": "execute_result"
    }
   ],
   "source": [
    "a"
   ]
  },
  {
   "cell_type": "code",
   "execution_count": 51,
   "metadata": {},
   "outputs": [
    {
     "data": {
      "text/plain": [
       "array([[[1., 1., 1., 1., 1.],\n",
       "        [1., 1., 1., 1., 1.],\n",
       "        [1., 1., 1., 1., 1.]],\n",
       "\n",
       "       [[1., 1., 1., 1., 1.],\n",
       "        [1., 1., 1., 1., 1.],\n",
       "        [1., 1., 1., 1., 1.]]])"
      ]
     },
     "execution_count": 51,
     "metadata": {},
     "output_type": "execute_result"
    }
   ],
   "source": [
    "c"
   ]
  },
  {
   "cell_type": "code",
   "execution_count": 48,
   "metadata": {},
   "outputs": [
    {
     "data": {
      "text/plain": [
       "array([[[0.4566236 , 0.83229833, 0.77390149, 0.5876278 , 0.02784794],\n",
       "        [0.1832097 , 0.24308701, 0.32342753, 0.62507605, 0.01767085],\n",
       "        [0.67561246, 0.13130847, 0.98366465, 0.25424051, 0.75730944]],\n",
       "\n",
       "       [[0.09074159, 0.02187715, 0.96414818, 0.64550418, 0.11539403],\n",
       "        [0.95064835, 0.21811804, 0.1551939 , 0.25629826, 0.2816198 ],\n",
       "        [0.38956424, 0.84287929, 0.52325252, 0.97302962, 0.06448857]]])"
      ]
     },
     "execution_count": 48,
     "metadata": {},
     "output_type": "execute_result"
    }
   ],
   "source": [
    "e = a * c\n",
    "e"
   ]
  },
  {
   "cell_type": "markdown",
   "metadata": {},
   "source": [
    "#### 13. Does *e* equal to *a*? Why or why not?\n"
   ]
  },
  {
   "cell_type": "code",
   "execution_count": 54,
   "metadata": {},
   "outputs": [
    {
     "data": {
      "text/plain": [
       "array([[[ True,  True,  True,  True,  True],\n",
       "        [ True,  True,  True,  True,  True],\n",
       "        [ True,  True,  True,  True,  True]],\n",
       "\n",
       "       [[ True,  True,  True,  True,  True],\n",
       "        [ True,  True,  True,  True,  True],\n",
       "        [ True,  True,  True,  True,  True]]])"
      ]
     },
     "execution_count": 54,
     "metadata": {},
     "output_type": "execute_result"
    }
   ],
   "source": [
    "#Because a * c = a\n",
    "# e = a will equal the same as a\n",
    "e == a"
   ]
  },
  {
   "cell_type": "markdown",
   "metadata": {},
   "source": [
    "#### 14. Identify the max, min, and mean values in *d*. Assign those values to variables *d_max*, *d_min* and *d_mean*."
   ]
  },
  {
   "cell_type": "code",
   "execution_count": 58,
   "metadata": {},
   "outputs": [
    {
     "name": "stdout",
     "output_type": "stream",
     "text": [
      "1.983664645803132\n",
      "1.0176708486618375\n",
      "1.4455221183996136\n"
     ]
    }
   ],
   "source": [
    "d_max = d.max()\n",
    "d_min = d.min()\n",
    "d_mean = d.mean()\n",
    "\n",
    "print(d_max)\n",
    "print(d_min)\n",
    "print(d_mean)"
   ]
  },
  {
   "cell_type": "markdown",
   "metadata": {},
   "source": [
    "#### 15. Now we want to label the values in *d*. First create an empty array *f* with the same shape (i.e. 2x3x5) as *d* using `np.empty`.\n"
   ]
  },
  {
   "cell_type": "code",
   "execution_count": 117,
   "metadata": {},
   "outputs": [
    {
     "data": {
      "text/plain": [
       "array([[[0., 0., 0., 0., 0.],\n",
       "        [0., 0., 0., 0., 0.],\n",
       "        [0., 0., 0., 0., 0.]],\n",
       "\n",
       "       [[0., 0., 0., 0., 0.],\n",
       "        [0., 0., 0., 0., 0.],\n",
       "        [0., 0., 0., 0., 0.]]])"
      ]
     },
     "execution_count": 117,
     "metadata": {},
     "output_type": "execute_result"
    }
   ],
   "source": [
    "# empty will use values from past memory.\n",
    "f = np.empty((2,3,5))\n",
    "f"
   ]
  },
  {
   "cell_type": "markdown",
   "metadata": {},
   "source": [
    "#### 16. Populate the values in *f*. \n",
    "\n",
    "For each value in *d*, if it's larger than *d_min* but smaller than *d_mean*, assign 25 to the corresponding value in *f*. If a value in *d* is larger than *d_mean* but smaller than *d_max*, assign 75 to the corresponding value in *f*. If a value equals to *d_mean*, assign 50 to the corresponding value in *f*. Assign 0 to the corresponding value(s) in *f* for *d_min* in *d*. Assign 100 to the corresponding value(s) in *f* for *d_max* in *d*. In the end, f should have only the following values: 0, 25, 50, 75, and 100.\n",
    "\n",
    "**Note**: you don't have to use Numpy in this question."
   ]
  },
  {
   "cell_type": "code",
   "execution_count": 95,
   "metadata": {
    "collapsed": true
   },
   "outputs": [
    {
     "data": {
      "text/plain": [
       "[1.4566236047810563,\n",
       " 1.832298328640476,\n",
       " 1.7739014910197943,\n",
       " 1.5876277999625534,\n",
       " 1.0278479438625803,\n",
       " 1.1832097016402603,\n",
       " 1.243087009685504,\n",
       " 1.3234275255999282,\n",
       " 1.6250760538823568,\n",
       " 1.0176708486618375,\n",
       " 1.6756124596660447,\n",
       " 1.131308470254813,\n",
       " 1.983664645803132,\n",
       " 1.2542405053016226,\n",
       " 1.7573094413499173,\n",
       " 1.0907415910526972,\n",
       " 1.0218771471992563,\n",
       " 1.9641481818342128,\n",
       " 1.6455041825734797,\n",
       " 1.115394033770189,\n",
       " 1.9506483522979186,\n",
       " 1.2181180446649682,\n",
       " 1.1551938979535388,\n",
       " 1.2562982580735609,\n",
       " 1.2816197952991,\n",
       " 1.3895642416732918,\n",
       " 1.8428792881026346,\n",
       " 1.5232525178193468,\n",
       " 1.973029616176309,\n",
       " 1.0644885733860319]"
      ]
     },
     "execution_count": 95,
     "metadata": {},
     "output_type": "execute_result"
    }
   ],
   "source": [
    "z = [k for i in d for j in i for k in j]\n",
    "z"
   ]
  },
  {
   "cell_type": "code",
   "execution_count": 111,
   "metadata": {},
   "outputs": [
    {
     "data": {
      "text/plain": [
       "array([[[ 75,  75,  75,  75,  25],\n",
       "        [ 25,  25,  25,  75,   0],\n",
       "        [ 75,  25, 100,  25,  75]],\n",
       "\n",
       "       [[ 25,  25,  75,  75,  25],\n",
       "        [ 75,  25,  25,  25,  25],\n",
       "        [ 25,  75,  75,  75,  25]]])"
      ]
     },
     "execution_count": 111,
     "metadata": {},
     "output_type": "execute_result"
    }
   ],
   "source": [
    "# your code here\n",
    "# dont need numpy for this solution\n",
    "z2 = []\n",
    "for i in z:\n",
    "    if i > d_min and i < d_mean:\n",
    "        z2.append(25)\n",
    "    elif i > d_mean and i < d_max:\n",
    "        z2.append(75)\n",
    "    elif i == d_mean:\n",
    "        z2.append(50)\n",
    "    elif i == d_min:\n",
    "        z2.append(0)\n",
    "    elif i == d_max:\n",
    "        z2.append(100)\n",
    "\n",
    "z2=np.reshape(z2, (2,3,5))   \n",
    "z2"
   ]
  },
  {
   "cell_type": "code",
   "execution_count": 114,
   "metadata": {},
   "outputs": [
    {
     "data": {
      "text/plain": [
       "array([[[ 75,  75,  75,  75,  25],\n",
       "        [ 25,  25,  25,  75,   0],\n",
       "        [ 75,  25, 100,  25,  75]],\n",
       "\n",
       "       [[ 25,  25,  75,  75,  25],\n",
       "        [ 75,  25,  25,  25,  25],\n",
       "        [ 25,  75,  75,  75,  25]]])"
      ]
     },
     "execution_count": 114,
     "metadata": {},
     "output_type": "execute_result"
    }
   ],
   "source": [
    "# Thats not right\n",
    "f=z2\n",
    "f"
   ]
  },
  {
   "cell_type": "code",
   "execution_count": 121,
   "metadata": {},
   "outputs": [
    {
     "ename": "ValueError",
     "evalue": "The truth value of an array with more than one element is ambiguous. Use a.any() or a.all()",
     "output_type": "error",
     "traceback": [
      "\u001b[1;31m---------------------------------------------------------------------------\u001b[0m",
      "\u001b[1;31mValueError\u001b[0m                                Traceback (most recent call last)",
      "\u001b[1;32m<ipython-input-121-d9689b57ecfa>\u001b[0m in \u001b[0;36m<module>\u001b[1;34m\u001b[0m\n\u001b[0;32m      4\u001b[0m \u001b[0mf\u001b[0m\u001b[1;33m=\u001b[0m\u001b[0mnp\u001b[0m\u001b[1;33m.\u001b[0m\u001b[0mwhere\u001b[0m\u001b[1;33m(\u001b[0m\u001b[0md\u001b[0m\u001b[1;33m==\u001b[0m\u001b[0md_min\u001b[0m\u001b[1;33m,\u001b[0m \u001b[1;36m0\u001b[0m\u001b[1;33m,\u001b[0m \u001b[0mf\u001b[0m\u001b[1;33m)\u001b[0m\u001b[1;33m\u001b[0m\u001b[1;33m\u001b[0m\u001b[0m\n\u001b[0;32m      5\u001b[0m \u001b[0mf\u001b[0m\u001b[1;33m=\u001b[0m\u001b[0mnp\u001b[0m\u001b[1;33m.\u001b[0m\u001b[0mwhere\u001b[0m\u001b[1;33m(\u001b[0m\u001b[0md\u001b[0m\u001b[1;33m==\u001b[0m\u001b[0md_mean\u001b[0m\u001b[1;33m,\u001b[0m \u001b[1;36m50\u001b[0m\u001b[1;33m,\u001b[0m \u001b[0mf\u001b[0m\u001b[1;33m)\u001b[0m\u001b[1;33m\u001b[0m\u001b[1;33m\u001b[0m\u001b[0m\n\u001b[1;32m----> 6\u001b[1;33m \u001b[0mf\u001b[0m\u001b[1;33m=\u001b[0m\u001b[0mnp\u001b[0m\u001b[1;33m.\u001b[0m\u001b[0mwhere\u001b[0m\u001b[1;33m(\u001b[0m\u001b[0md\u001b[0m\u001b[1;33m>\u001b[0m\u001b[0md_max\u001b[0m \u001b[1;32mand\u001b[0m \u001b[0md\u001b[0m\u001b[1;33m<\u001b[0m\u001b[0md_mean\u001b[0m\u001b[1;33m,\u001b[0m \u001b[1;36m25\u001b[0m\u001b[1;33m,\u001b[0m \u001b[0mf\u001b[0m\u001b[1;33m)\u001b[0m\u001b[1;33m\u001b[0m\u001b[1;33m\u001b[0m\u001b[0m\n\u001b[0m\u001b[0;32m      7\u001b[0m \u001b[0mf\u001b[0m\u001b[1;33m=\u001b[0m\u001b[0mnp\u001b[0m\u001b[1;33m.\u001b[0m\u001b[0mwhere\u001b[0m\u001b[1;33m(\u001b[0m\u001b[0md\u001b[0m\u001b[1;33m>\u001b[0m\u001b[0md_mean\u001b[0m \u001b[1;32mand\u001b[0m \u001b[0md\u001b[0m\u001b[1;33m<\u001b[0m\u001b[0md_max\u001b[0m\u001b[1;33m,\u001b[0m \u001b[1;36m75\u001b[0m\u001b[1;33m,\u001b[0m \u001b[0mf\u001b[0m\u001b[1;33m)\u001b[0m\u001b[1;33m\u001b[0m\u001b[1;33m\u001b[0m\u001b[0m\n",
      "\u001b[1;31mValueError\u001b[0m: The truth value of an array with more than one element is ambiguous. Use a.any() or a.all()"
     ]
    }
   ],
   "source": [
    "#Use np.where()\n",
    "\n",
    "f=np.where(d==d_max, 100, d)\n",
    "f=np.where(d==d_min, 0, f)\n",
    "f=np.where(d==d_mean, 50, f)\n",
    "f=np.where(d>d_max and d<d_mean, 25, f)\n",
    "f=np.where(d>d_mean and d<d_max, 75, f)"
   ]
  },
  {
   "cell_type": "markdown",
   "metadata": {},
   "source": [
    "#### 17. Print *d* and *f*. Do you have your expected *f*?\n",
    "For instance, if your *d* is:\n",
    "```python\n",
    "[[[1.85836099, 1.67064465, 1.62576044, 1.40243961, 1.88454931],\n",
    "[1.75354326, 1.69403643, 1.36729252, 1.61415071, 1.12104981],\n",
    "[1.72201435, 1.1862918 , 1.87078449, 1.7726778 , 1.88180042]],\n",
    "[[1.44747908, 1.31673383, 1.02000951, 1.52218947, 1.97066381],\n",
    "[1.79129243, 1.74983003, 1.96028037, 1.85166831, 1.65450881],\n",
    "[1.18068344, 1.9587381 , 1.00656599, 1.93402165, 1.73514584]]]\n",
    "```\n",
    "Your *f* should be:\n",
    "```python\n",
    "[[[ 75.,  75.,  75.,  25.,  75.],\n",
    "[ 75.,  75.,  25.,  25.,  25.],\n",
    "[ 75.,  25.,  75.,  75.,  75.]],\n",
    "[[ 25.,  25.,  25.,  25., 100.],\n",
    "[ 75.,  75.,  75.,  75.,  75.],\n",
    "[ 25.,  75.,   0.,  75.,  75.]]]\n",
    "```"
   ]
  },
  {
   "cell_type": "code",
   "execution_count": null,
   "metadata": {},
   "outputs": [],
   "source": []
  },
  {
   "cell_type": "markdown",
   "metadata": {},
   "source": [
    "#### 18. Bonus question: instead of using numbers (i.e. 0, 25, 50, 75, and 100), use string values  (\"A\", \"B\", \"C\", \"D\", and \"E\") to label the array elements. For the example above, the expected result is:\n",
    "\n",
    "```python\n",
    "[[[ 'D',  'D',  'D',  'B',  'D'],\n",
    "[ 'D',  'D',  'B',  'B',  'B'],\n",
    "[ 'D',  'B',  'D',  'D',  'D']],\n",
    "[[ 'B',  'B',  'B',  'B',  'E'],\n",
    "[ 'D',  'D',  'D',  'D',  'D'],\n",
    "[ 'B',  'D',   'A',  'D', 'D']]]\n",
    "```\n",
    "**Note**: you don't have to use Numpy in this question."
   ]
  },
  {
   "cell_type": "code",
   "execution_count": 116,
   "metadata": {},
   "outputs": [
    {
     "data": {
      "text/plain": [
       "array([[['D', 'D', 'D', 'D', 'B'],\n",
       "        ['B', 'B', 'B', 'D', 'A'],\n",
       "        ['D', 'B', 'E', 'B', 'D']],\n",
       "\n",
       "       [['B', 'B', 'D', 'D', 'B'],\n",
       "        ['D', 'B', 'B', 'B', 'B'],\n",
       "        ['B', 'D', 'D', 'D', 'B']]], dtype='<U1')"
      ]
     },
     "execution_count": 116,
     "metadata": {},
     "output_type": "execute_result"
    }
   ],
   "source": [
    "lst = [k for i in d for j in i for k in j]\n",
    "\n",
    "lst2 = []\n",
    "for i in z:\n",
    "    if i > d_min and i < d_mean:\n",
    "        lst2.append(\"B\")\n",
    "    elif i > d_mean and i < d_max:\n",
    "        lst2.append(\"D\")\n",
    "    elif i == d_mean:\n",
    "        lst2.append(\"C\")\n",
    "    elif i == d_min:\n",
    "        lst2.append(\"A\")\n",
    "    elif i == d_max:\n",
    "        lst2.append(\"E\")\n",
    "\n",
    "lst2=np.reshape(lst2, (2,3,5))   \n",
    "lst2"
   ]
  },
  {
   "cell_type": "code",
   "execution_count": null,
   "metadata": {},
   "outputs": [],
   "source": []
  }
 ],
 "metadata": {
  "kernelspec": {
   "display_name": "Python 3",
   "language": "python",
   "name": "python3"
  },
  "language_info": {
   "codemirror_mode": {
    "name": "ipython",
    "version": 3
   },
   "file_extension": ".py",
   "mimetype": "text/x-python",
   "name": "python",
   "nbconvert_exporter": "python",
   "pygments_lexer": "ipython3",
   "version": "3.8.3"
  }
 },
 "nbformat": 4,
 "nbformat_minor": 2
}
