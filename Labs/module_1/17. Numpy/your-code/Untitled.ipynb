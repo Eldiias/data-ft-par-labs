{
 "cells": [
  {
   "cell_type": "markdown",
   "metadata": {},
   "source": [
    "# Numpy"
   ]
  },
  {
   "cell_type": "code",
   "execution_count": 66,
   "metadata": {},
   "outputs": [],
   "source": [
    "import numpy as np\n"
   ]
  },
  {
   "cell_type": "code",
   "execution_count": 79,
   "metadata": {},
   "outputs": [],
   "source": [
    "a=np.random.random((2,2))\n",
    "b=np.random.random((3,2,2))\n",
    "c=np.random.random((2,2,2,2))\n",
    "c=np."
   ]
  },
  {
   "cell_type": "code",
   "execution_count": 72,
   "metadata": {},
   "outputs": [
    {
     "data": {
      "text/plain": [
       "array([[0.13455788, 0.91354294],\n",
       "       [0.51048477, 0.41017805]])"
      ]
     },
     "execution_count": 72,
     "metadata": {},
     "output_type": "execute_result"
    }
   ],
   "source": [
    "a"
   ]
  },
  {
   "cell_type": "code",
   "execution_count": 69,
   "metadata": {},
   "outputs": [
    {
     "data": {
      "text/plain": [
       "array([[[0.95006417, 0.150096  ],\n",
       "        [0.4512144 , 0.79672594]],\n",
       "\n",
       "       [[0.16046202, 0.88226662],\n",
       "        [0.16007468, 0.5164372 ]],\n",
       "\n",
       "       [[0.18928664, 0.01531686],\n",
       "        [0.28273179, 0.37468172]]])"
      ]
     },
     "execution_count": 69,
     "metadata": {},
     "output_type": "execute_result"
    }
   ],
   "source": [
    "b"
   ]
  },
  {
   "cell_type": "code",
   "execution_count": 76,
   "metadata": {},
   "outputs": [
    {
     "data": {
      "text/plain": [
       "array([[[[0.04711716, 0.66336807],\n",
       "         [0.87513124, 0.45596168]],\n",
       "\n",
       "        [[0.80680423, 0.99956963],\n",
       "         [0.78919478, 0.26144125]]],\n",
       "\n",
       "\n",
       "       [[[0.91975195, 0.1469119 ],\n",
       "         [0.67739108, 0.29559167]],\n",
       "\n",
       "        [[0.23290305, 0.18494313],\n",
       "         [0.89677985, 0.28773663]]]])"
      ]
     },
     "execution_count": 76,
     "metadata": {},
     "output_type": "execute_result"
    }
   ],
   "source": [
    "c"
   ]
  },
  {
   "cell_type": "code",
   "execution_count": 81,
   "metadata": {},
   "outputs": [
    {
     "data": {
      "text/plain": [
       "array([[0.92054923, 0.21567567],\n",
       "       [0.66066279, 0.97341485]])"
      ]
     },
     "execution_count": 81,
     "metadata": {},
     "output_type": "execute_result"
    }
   ],
   "source": [
    "a"
   ]
  },
  {
   "cell_type": "code",
   "execution_count": 74,
   "metadata": {},
   "outputs": [
    {
     "data": {
      "text/plain": [
       "array([0.13455788, 0.91354294])"
      ]
     },
     "execution_count": 74,
     "metadata": {},
     "output_type": "execute_result"
    }
   ],
   "source": [
    "a[0]"
   ]
  },
  {
   "cell_type": "code",
   "execution_count": 82,
   "metadata": {},
   "outputs": [
    {
     "data": {
      "text/plain": [
       "array([0.66066279, 0.97341485])"
      ]
     },
     "execution_count": 82,
     "metadata": {},
     "output_type": "execute_result"
    }
   ],
   "source": [
    "a[1]"
   ]
  },
  {
   "cell_type": "code",
   "execution_count": 83,
   "metadata": {},
   "outputs": [
    {
     "data": {
      "text/plain": [
       "array([0.21567567, 0.97341485])"
      ]
     },
     "execution_count": 83,
     "metadata": {},
     "output_type": "execute_result"
    }
   ],
   "source": [
    "a[:,1]"
   ]
  },
  {
   "cell_type": "code",
   "execution_count": 84,
   "metadata": {},
   "outputs": [
    {
     "data": {
      "text/plain": [
       "array([[[0.81229761, 0.90578697],\n",
       "        [0.4289865 , 0.89112125]],\n",
       "\n",
       "       [[0.61255706, 0.49226178],\n",
       "        [0.89776816, 0.70005665]],\n",
       "\n",
       "       [[0.33198378, 0.63771858],\n",
       "        [0.02901839, 0.95120034]]])"
      ]
     },
     "execution_count": 84,
     "metadata": {},
     "output_type": "execute_result"
    }
   ],
   "source": [
    "b"
   ]
  },
  {
   "cell_type": "code",
   "execution_count": 85,
   "metadata": {},
   "outputs": [
    {
     "data": {
      "text/plain": [
       "array([[0.81229761, 0.90578697],\n",
       "       [0.4289865 , 0.89112125]])"
      ]
     },
     "execution_count": 85,
     "metadata": {},
     "output_type": "execute_result"
    }
   ],
   "source": [
    "b[0]  # this selects the first ELEMENT (not rows or columns bzcause only one number inside the brackets)"
   ]
  },
  {
   "cell_type": "code",
   "execution_count": 86,
   "metadata": {},
   "outputs": [
    {
     "data": {
      "text/plain": [
       "array([[0.81229761, 0.90578697],\n",
       "       [0.61255706, 0.49226178],\n",
       "       [0.33198378, 0.63771858]])"
      ]
     },
     "execution_count": 86,
     "metadata": {},
     "output_type": "execute_result"
    }
   ],
   "source": [
    "b[:,0]"
   ]
  },
  {
   "cell_type": "code",
   "execution_count": 87,
   "metadata": {},
   "outputs": [
    {
     "data": {
      "text/plain": [
       "array([[0.90578697, 0.89112125],\n",
       "       [0.49226178, 0.70005665],\n",
       "       [0.63771858, 0.95120034]])"
      ]
     },
     "execution_count": 87,
     "metadata": {},
     "output_type": "execute_result"
    }
   ],
   "source": [
    "b[:,:,1] # from all matrices from all rows from all colums, 2n element"
   ]
  },
  {
   "cell_type": "code",
   "execution_count": 88,
   "metadata": {},
   "outputs": [
    {
     "data": {
      "text/plain": [
       "array([[[[0.74433449, 0.49168291],\n",
       "         [0.313271  , 0.30039541]],\n",
       "\n",
       "        [[0.76431792, 0.6503141 ],\n",
       "         [0.24976849, 0.93483041]]],\n",
       "\n",
       "\n",
       "       [[[0.86642455, 0.28792787],\n",
       "         [0.75712497, 0.86562892]],\n",
       "\n",
       "        [[0.74790331, 0.44671504],\n",
       "         [0.47654831, 0.79922615]]]])"
      ]
     },
     "execution_count": 88,
     "metadata": {},
     "output_type": "execute_result"
    }
   ],
   "source": [
    "c"
   ]
  },
  {
   "cell_type": "code",
   "execution_count": 89,
   "metadata": {},
   "outputs": [
    {
     "data": {
      "text/plain": [
       "array([0.24976849, 0.93483041])"
      ]
     },
     "execution_count": 89,
     "metadata": {},
     "output_type": "execute_result"
    }
   ],
   "source": [
    "c[0,1,1]"
   ]
  },
  {
   "cell_type": "code",
   "execution_count": 90,
   "metadata": {},
   "outputs": [
    {
     "data": {
      "text/plain": [
       "array([[[0.49168291, 0.30039541],\n",
       "        [0.6503141 , 0.93483041]],\n",
       "\n",
       "       [[0.28792787, 0.86562892],\n",
       "        [0.44671504, 0.79922615]]])"
      ]
     },
     "execution_count": 90,
     "metadata": {},
     "output_type": "execute_result"
    }
   ],
   "source": [
    "c[:,:,:,1]"
   ]
  },
  {
   "cell_type": "code",
   "execution_count": 91,
   "metadata": {},
   "outputs": [
    {
     "data": {
      "text/plain": [
       "array([[0.92054923, 0.66066279],\n",
       "       [0.21567567, 0.97341485]])"
      ]
     },
     "execution_count": 91,
     "metadata": {},
     "output_type": "execute_result"
    }
   ],
   "source": [
    "a.T"
   ]
  },
  {
   "cell_type": "code",
   "execution_count": 92,
   "metadata": {},
   "outputs": [
    {
     "data": {
      "text/plain": [
       "array([[0.92054923, 0.66066279],\n",
       "       [0.21567567, 0.97341485]])"
      ]
     },
     "execution_count": 92,
     "metadata": {},
     "output_type": "execute_result"
    }
   ],
   "source": [
    "a.transpose()"
   ]
  },
  {
   "cell_type": "code",
   "execution_count": 93,
   "metadata": {},
   "outputs": [
    {
     "data": {
      "text/plain": [
       "array([[[[0.74433449, 0.49168291],\n",
       "         [0.313271  , 0.30039541]],\n",
       "\n",
       "        [[0.76431792, 0.6503141 ],\n",
       "         [0.24976849, 0.93483041]]],\n",
       "\n",
       "\n",
       "       [[[0.86642455, 0.28792787],\n",
       "         [0.75712497, 0.86562892]],\n",
       "\n",
       "        [[0.74790331, 0.44671504],\n",
       "         [0.47654831, 0.79922615]]]])"
      ]
     },
     "execution_count": 93,
     "metadata": {},
     "output_type": "execute_result"
    }
   ],
   "source": [
    "c"
   ]
  },
  {
   "cell_type": "code",
   "execution_count": 94,
   "metadata": {},
   "outputs": [],
   "source": [
    "c.sort(axis=0)"
   ]
  },
  {
   "cell_type": "code",
   "execution_count": 95,
   "metadata": {},
   "outputs": [
    {
     "data": {
      "text/plain": [
       "array([[[[0.74433449, 0.28792787],\n",
       "         [0.313271  , 0.30039541]],\n",
       "\n",
       "        [[0.74790331, 0.44671504],\n",
       "         [0.24976849, 0.79922615]]],\n",
       "\n",
       "\n",
       "       [[[0.86642455, 0.49168291],\n",
       "         [0.75712497, 0.86562892]],\n",
       "\n",
       "        [[0.76431792, 0.6503141 ],\n",
       "         [0.47654831, 0.93483041]]]])"
      ]
     },
     "execution_count": 95,
     "metadata": {},
     "output_type": "execute_result"
    }
   ],
   "source": [
    "c"
   ]
  },
  {
   "cell_type": "code",
   "execution_count": 96,
   "metadata": {},
   "outputs": [],
   "source": [
    "c.sort(axis=1)"
   ]
  },
  {
   "cell_type": "code",
   "execution_count": 97,
   "metadata": {},
   "outputs": [
    {
     "data": {
      "text/plain": [
       "array([[[[0.74433449, 0.28792787],\n",
       "         [0.24976849, 0.30039541]],\n",
       "\n",
       "        [[0.74790331, 0.44671504],\n",
       "         [0.313271  , 0.79922615]]],\n",
       "\n",
       "\n",
       "       [[[0.76431792, 0.49168291],\n",
       "         [0.47654831, 0.86562892]],\n",
       "\n",
       "        [[0.86642455, 0.6503141 ],\n",
       "         [0.75712497, 0.93483041]]]])"
      ]
     },
     "execution_count": 97,
     "metadata": {},
     "output_type": "execute_result"
    }
   ],
   "source": [
    "c"
   ]
  },
  {
   "cell_type": "code",
   "execution_count": null,
   "metadata": {},
   "outputs": [],
   "source": []
  }
 ],
 "metadata": {
  "kernelspec": {
   "display_name": "Python 3",
   "language": "python",
   "name": "python3"
  },
  "language_info": {
   "codemirror_mode": {
    "name": "ipython",
    "version": 3
   },
   "file_extension": ".py",
   "mimetype": "text/x-python",
   "name": "python",
   "nbconvert_exporter": "python",
   "pygments_lexer": "ipython3",
   "version": "3.8.5"
  }
 },
 "nbformat": 4,
 "nbformat_minor": 4
}
