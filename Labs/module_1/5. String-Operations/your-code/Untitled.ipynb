{
 "cells": [
  {
   "cell_type": "code",
   "execution_count": 1,
   "metadata": {},
   "outputs": [],
   "source": [
    "# Recap on list comprehensions"
   ]
  },
  {
   "cell_type": "code",
   "execution_count": 2,
   "metadata": {},
   "outputs": [
    {
     "ename": "SyntaxError",
     "evalue": "invalid syntax (<ipython-input-2-76333488691e>, line 1)",
     "output_type": "error",
     "traceback": [
      "\u001b[0;36m  File \u001b[0;32m\"<ipython-input-2-76333488691e>\"\u001b[0;36m, line \u001b[0;32m1\u001b[0m\n\u001b[0;31m    create a list which are even and divisible by 3 from 0 to 10\u001b[0m\n\u001b[0m           ^\u001b[0m\n\u001b[0;31mSyntaxError\u001b[0m\u001b[0;31m:\u001b[0m invalid syntax\n"
     ]
    }
   ],
   "source": [
    "create a list which are even and divisible by 3 from 0 to 10"
   ]
  },
  {
   "cell_type": "code",
   "execution_count": 4,
   "metadata": {},
   "outputs": [
    {
     "data": {
      "text/plain": [
       "[0, 6, 12, 18, 24, 30, 36, 42, 48, 54, 60, 66, 72, 78, 84, 90, 96]"
      ]
     },
     "execution_count": 4,
     "metadata": {},
     "output_type": "execute_result"
    }
   ],
   "source": [
    "[numbers for numbers in range(0,100,2) if numbers%3==0]"
   ]
  },
  {
   "cell_type": "code",
   "execution_count": null,
   "metadata": {},
   "outputs": [],
   "source": [
    "create a list of numbers from -100 to 100 follow certain conditions:\n",
    "    *odd\n",
    "    *the squared value of the number should be divisible by 9\n",
    "    \n",
    "    "
   ]
  },
  {
   "cell_type": "code",
   "execution_count": 5,
   "metadata": {},
   "outputs": [
    {
     "data": {
      "text/plain": [
       "[-99,\n",
       " -93,\n",
       " -87,\n",
       " -81,\n",
       " -75,\n",
       " -69,\n",
       " -63,\n",
       " -57,\n",
       " -51,\n",
       " -45,\n",
       " -39,\n",
       " -33,\n",
       " -27,\n",
       " -21,\n",
       " -15,\n",
       " -9,\n",
       " -3,\n",
       " 3,\n",
       " 9,\n",
       " 15,\n",
       " 21,\n",
       " 27,\n",
       " 33,\n",
       " 39,\n",
       " 45,\n",
       " 51,\n",
       " 57,\n",
       " 63,\n",
       " 69,\n",
       " 75,\n",
       " 81,\n",
       " 87,\n",
       " 93,\n",
       " 99]"
      ]
     },
     "execution_count": 5,
     "metadata": {},
     "output_type": "execute_result"
    }
   ],
   "source": [
    "[numbers for numbers in range(-99,100,2) if numbers**2%9==0]"
   ]
  },
  {
   "cell_type": "code",
   "execution_count": 6,
   "metadata": {},
   "outputs": [
    {
     "data": {
      "text/plain": [
       "[-99,\n",
       " -93,\n",
       " -87,\n",
       " -81,\n",
       " -75,\n",
       " -69,\n",
       " -63,\n",
       " -57,\n",
       " -51,\n",
       " -45,\n",
       " -39,\n",
       " -33,\n",
       " -27,\n",
       " -21,\n",
       " -15,\n",
       " -9,\n",
       " -3,\n",
       " 3,\n",
       " 9,\n",
       " 15,\n",
       " 21,\n",
       " 27,\n",
       " 33,\n",
       " 39,\n",
       " 45,\n",
       " 51,\n",
       " 57,\n",
       " 63,\n",
       " 69,\n",
       " 75,\n",
       " 81,\n",
       " 87,\n",
       " 93,\n",
       " 99]"
      ]
     },
     "execution_count": 6,
     "metadata": {},
     "output_type": "execute_result"
    }
   ],
   "source": [
    "[numbers for numbers in range(-99,100,2) if numbers%3==0]"
   ]
  },
  {
   "cell_type": "code",
   "execution_count": 7,
   "metadata": {},
   "outputs": [],
   "source": [
    "#Text Intro"
   ]
  },
  {
   "cell_type": "code",
   "execution_count": 8,
   "metadata": {},
   "outputs": [],
   "source": [
    "txt='hello world'"
   ]
  },
  {
   "cell_type": "code",
   "execution_count": 9,
   "metadata": {},
   "outputs": [
    {
     "data": {
      "text/plain": [
       "'hello world'"
      ]
     },
     "execution_count": 9,
     "metadata": {},
     "output_type": "execute_result"
    }
   ],
   "source": [
    "txt"
   ]
  },
  {
   "cell_type": "code",
   "execution_count": 13,
   "metadata": {},
   "outputs": [
    {
     "name": "stdout",
     "output_type": "stream",
     "text": [
      "Hallo! Wie gehtsca va bien\n"
     ]
    }
   ],
   "source": [
    "txt=input('Hallo! Wie gehts')"
   ]
  },
  {
   "cell_type": "code",
   "execution_count": 14,
   "metadata": {},
   "outputs": [
    {
     "data": {
      "text/plain": [
       "'ca va bien'"
      ]
     },
     "execution_count": 14,
     "metadata": {},
     "output_type": "execute_result"
    }
   ],
   "source": [
    "txt"
   ]
  },
  {
   "cell_type": "code",
   "execution_count": 15,
   "metadata": {},
   "outputs": [
    {
     "data": {
      "text/plain": [
       "'ca va'"
      ]
     },
     "execution_count": 15,
     "metadata": {},
     "output_type": "execute_result"
    }
   ],
   "source": [
    "txt[:5]"
   ]
  },
  {
   "cell_type": "code",
   "execution_count": 16,
   "metadata": {},
   "outputs": [
    {
     "data": {
      "text/plain": [
       "'va'"
      ]
     },
     "execution_count": 16,
     "metadata": {},
     "output_type": "execute_result"
    }
   ],
   "source": [
    "txt[3:5]"
   ]
  },
  {
   "cell_type": "code",
   "execution_count": 17,
   "metadata": {},
   "outputs": [
    {
     "data": {
      "text/plain": [
       "'c abe'"
      ]
     },
     "execution_count": 17,
     "metadata": {},
     "output_type": "execute_result"
    }
   ],
   "source": [
    "txt[::2]"
   ]
  },
  {
   "cell_type": "code",
   "execution_count": 18,
   "metadata": {},
   "outputs": [
    {
     "data": {
      "text/plain": [
       "'neib av ac'"
      ]
     },
     "execution_count": 18,
     "metadata": {},
     "output_type": "execute_result"
    }
   ],
   "source": [
    "txt[::-1]"
   ]
  },
  {
   "cell_type": "code",
   "execution_count": 19,
   "metadata": {},
   "outputs": [
    {
     "data": {
      "text/plain": [
       "'CA VA BIEN'"
      ]
     },
     "execution_count": 19,
     "metadata": {},
     "output_type": "execute_result"
    }
   ],
   "source": [
    "txt.upper()"
   ]
  },
  {
   "cell_type": "code",
   "execution_count": 20,
   "metadata": {},
   "outputs": [
    {
     "data": {
      "text/plain": [
       "'ca va bien'"
      ]
     },
     "execution_count": 20,
     "metadata": {},
     "output_type": "execute_result"
    }
   ],
   "source": [
    "txt.lower()"
   ]
  },
  {
   "cell_type": "code",
   "execution_count": 21,
   "metadata": {},
   "outputs": [
    {
     "data": {
      "text/plain": [
       "'Ca va bien'"
      ]
     },
     "execution_count": 21,
     "metadata": {},
     "output_type": "execute_result"
    }
   ],
   "source": [
    "txt.capitalize()"
   ]
  },
  {
   "cell_type": "code",
   "execution_count": 22,
   "metadata": {},
   "outputs": [
    {
     "data": {
      "text/plain": [
       "'Ca Va Bien'"
      ]
     },
     "execution_count": 22,
     "metadata": {},
     "output_type": "execute_result"
    }
   ],
   "source": [
    "txt.title()"
   ]
  },
  {
   "cell_type": "code",
   "execution_count": 23,
   "metadata": {},
   "outputs": [
    {
     "data": {
      "text/plain": [
       "'Ca va bien. Und du?'"
      ]
     },
     "execution_count": 23,
     "metadata": {},
     "output_type": "execute_result"
    }
   ],
   "source": [
    "txt.capitalize() + '. Und du?'"
   ]
  },
  {
   "cell_type": "code",
   "execution_count": 24,
   "metadata": {},
   "outputs": [],
   "source": [
    "hi ='hello'\n",
    "all = 'world'  #normally all is a python function but now we're overiding it. So next time we call it, we get 'world'\n"
   ]
  },
  {
   "cell_type": "code",
   "execution_count": 25,
   "metadata": {},
   "outputs": [
    {
     "data": {
      "text/plain": [
       "'world'"
      ]
     },
     "execution_count": 25,
     "metadata": {},
     "output_type": "execute_result"
    }
   ],
   "source": [
    "all"
   ]
  },
  {
   "cell_type": "code",
   "execution_count": 26,
   "metadata": {},
   "outputs": [
    {
     "data": {
      "text/plain": [
       "'helloworld'"
      ]
     },
     "execution_count": 26,
     "metadata": {},
     "output_type": "execute_result"
    }
   ],
   "source": [
    "hi+all"
   ]
  },
  {
   "cell_type": "code",
   "execution_count": 27,
   "metadata": {},
   "outputs": [
    {
     "data": {
      "text/plain": [
       "'hello world'"
      ]
     },
     "execution_count": 27,
     "metadata": {},
     "output_type": "execute_result"
    }
   ],
   "source": [
    "hi+' '+all\n"
   ]
  },
  {
   "cell_type": "code",
   "execution_count": null,
   "metadata": {},
   "outputs": [],
   "source": [
    "# turning my list into one text"
   ]
  },
  {
   "cell_type": "code",
   "execution_count": 48,
   "metadata": {},
   "outputs": [],
   "source": [
    "lst=['I','really','love','my','sweet','thing',' ']"
   ]
  },
  {
   "cell_type": "code",
   "execution_count": null,
   "metadata": {},
   "outputs": [],
   "source": []
  },
  {
   "cell_type": "code",
   "execution_count": 29,
   "metadata": {},
   "outputs": [
    {
     "data": {
      "text/plain": [
       "['', 'really', 'love', 'my', 'sweet', 'thing']"
      ]
     },
     "execution_count": 29,
     "metadata": {},
     "output_type": "execute_result"
    }
   ],
   "source": [
    "lst"
   ]
  },
  {
   "cell_type": "code",
   "execution_count": 37,
   "metadata": {},
   "outputs": [
    {
     "data": {
      "text/plain": [
       "'I really love my sweet thing.'"
      ]
     },
     "execution_count": 37,
     "metadata": {},
     "output_type": "execute_result"
    }
   ],
   "source": [
    "txt=''\n",
    "for i in lst:\n",
    "    txt+=i+' '\n",
    "txt[:-1]+'.'\n"
   ]
  },
  {
   "cell_type": "code",
   "execution_count": null,
   "metadata": {},
   "outputs": [],
   "source": [
    "# the easier way to mix"
   ]
  },
  {
   "cell_type": "code",
   "execution_count": 38,
   "metadata": {},
   "outputs": [
    {
     "data": {
      "text/plain": [
       "'I really love my sweet thing'"
      ]
     },
     "execution_count": 38,
     "metadata": {},
     "output_type": "execute_result"
    }
   ],
   "source": [
    "' '.join(lst)"
   ]
  },
  {
   "cell_type": "code",
   "execution_count": 40,
   "metadata": {},
   "outputs": [
    {
     "data": {
      "text/plain": [
       "'I banana really banana love banana my banana sweet banana thing'"
      ]
     },
     "execution_count": 40,
     "metadata": {},
     "output_type": "execute_result"
    }
   ],
   "source": [
    "' banana ' . join(lst)"
   ]
  },
  {
   "cell_type": "code",
   "execution_count": 41,
   "metadata": {},
   "outputs": [
    {
     "data": {
      "text/plain": [
       "'I really love my sweet thing'"
      ]
     },
     "execution_count": 41,
     "metadata": {},
     "output_type": "execute_result"
    }
   ],
   "source": [
    "sentence=' '.join(lst)\n",
    "sentence"
   ]
  },
  {
   "cell_type": "code",
   "execution_count": 51,
   "metadata": {},
   "outputs": [],
   "source": [
    "for i in range(20):\n",
    "    if i%2==1:\n",
    "        lst.append(i)\n",
    "    else:\n",
    "        lst.append(i+1)"
   ]
  },
  {
   "cell_type": "code",
   "execution_count": null,
   "metadata": {},
   "outputs": [],
   "source": [
    "# Turning text in to list of WORDS"
   ]
  },
  {
   "cell_type": "code",
   "execution_count": 52,
   "metadata": {},
   "outputs": [
    {
     "data": {
      "text/plain": [
       "['I', 'really', 'love', 'my', 'sweet', 'thing']"
      ]
     },
     "execution_count": 52,
     "metadata": {},
     "output_type": "execute_result"
    }
   ],
   "source": [
    "lst=[]\n",
    "word=''\n",
    "for i in sentence+' ':  #sometimes you have to tweak the data to get the good result\n",
    "    if i ==' ':\n",
    "        lst.append(word)\n",
    "        word=''\n",
    "    else:\n",
    "        word+=i\n",
    "lst"
   ]
  },
  {
   "cell_type": "code",
   "execution_count": 44,
   "metadata": {},
   "outputs": [
    {
     "data": {
      "text/plain": [
       "'thing'"
      ]
     },
     "execution_count": 44,
     "metadata": {},
     "output_type": "execute_result"
    }
   ],
   "source": [
    "word"
   ]
  },
  {
   "cell_type": "code",
   "execution_count": null,
   "metadata": {},
   "outputs": [],
   "source": [
    "#split will return a list \n",
    "# we cannot use list comprehension for this"
   ]
  },
  {
   "cell_type": "code",
   "execution_count": 50,
   "metadata": {},
   "outputs": [
    {
     "data": {
      "text/plain": [
       "['I', 'really', 'love', 'my', 'sweet', 'thing']"
      ]
     },
     "execution_count": 50,
     "metadata": {},
     "output_type": "execute_result"
    }
   ],
   "source": [
    "sentence.split()       "
   ]
  },
  {
   "cell_type": "code",
   "execution_count": 53,
   "metadata": {},
   "outputs": [],
   "source": []
  },
  {
   "cell_type": "code",
   "execution_count": 54,
   "metadata": {},
   "outputs": [
    {
     "data": {
      "text/plain": [
       "['I really love', 'sweet thing']"
      ]
     },
     "execution_count": 54,
     "metadata": {},
     "output_type": "execute_result"
    }
   ],
   "source": [
    "sentence.split(' my ')"
   ]
  },
  {
   "cell_type": "code",
   "execution_count": 55,
   "metadata": {},
   "outputs": [
    {
     "data": {
      "text/plain": [
       "['I really love my sweet thing']"
      ]
     },
     "execution_count": 55,
     "metadata": {},
     "output_type": "execute_result"
    }
   ],
   "source": [
    "sentence.split('u')   #the u is not part of the list so the whole list become 1 item"
   ]
  },
  {
   "cell_type": "code",
   "execution_count": 56,
   "metadata": {},
   "outputs": [
    {
     "data": {
      "text/plain": [
       "[\"champs d'élysé\", 's']"
      ]
     },
     "execution_count": 56,
     "metadata": {},
     "output_type": "execute_result"
    }
   ],
   "source": [
    "\"champs d'élysées\".split('e')"
   ]
  },
  {
   "cell_type": "code",
   "execution_count": 57,
   "metadata": {},
   "outputs": [
    {
     "data": {
      "text/plain": [
       "[\"champs d'élys\", '', 's']"
      ]
     },
     "execution_count": 57,
     "metadata": {},
     "output_type": "execute_result"
    }
   ],
   "source": [
    "\"champs d'élysees\".split('e')  #we always get the blank (missing quote) item between two same characters"
   ]
  },
  {
   "cell_type": "code",
   "execution_count": 63,
   "metadata": {},
   "outputs": [
    {
     "data": {
      "text/plain": [
       "'Freds friends fried fritos for fridays food.'"
      ]
     },
     "execution_count": 63,
     "metadata": {},
     "output_type": "execute_result"
    }
   ],
   "source": [
    "sentence.strip()"
   ]
  },
  {
   "cell_type": "code",
   "execution_count": 64,
   "metadata": {},
   "outputs": [
    {
     "ename": "NameError",
     "evalue": "name 'r' is not defined",
     "output_type": "error",
     "traceback": [
      "\u001b[0;31m---------------------------------------------------------------------------\u001b[0m",
      "\u001b[0;31mNameError\u001b[0m                                 Traceback (most recent call last)",
      "\u001b[0;32m<ipython-input-64-48a9f5f4485f>\u001b[0m in \u001b[0;36m<module>\u001b[0;34m\u001b[0m\n\u001b[0;32m----> 1\u001b[0;31m \u001b[0msentence\u001b[0m\u001b[0;34m.\u001b[0m\u001b[0mstrip\u001b[0m\u001b[0;34m(\u001b[0m\u001b[0mr\u001b[0m\u001b[0;34m)\u001b[0m\u001b[0;34m\u001b[0m\u001b[0;34m\u001b[0m\u001b[0m\n\u001b[0m",
      "\u001b[0;31mNameError\u001b[0m: name 'r' is not defined"
     ]
    }
   ],
   "source": [
    "sentence.strip(r)"
   ]
  },
  {
   "cell_type": "code",
   "execution_count": 61,
   "metadata": {},
   "outputs": [],
   "source": [
    "sentence='Freds friends fried fritos for fridays food.'"
   ]
  },
  {
   "cell_type": "code",
   "execution_count": 62,
   "metadata": {},
   "outputs": [
    {
     "data": {
      "text/plain": [
       "'reds friends fried fritos for fridays food.'"
      ]
     },
     "execution_count": 62,
     "metadata": {},
     "output_type": "execute_result"
    }
   ],
   "source": [
    "sentence.strip('F')"
   ]
  },
  {
   "cell_type": "code",
   "execution_count": 65,
   "metadata": {},
   "outputs": [
    {
     "data": {
      "text/plain": [
       "'reds friends fried fritos for fridays food'"
      ]
     },
     "execution_count": 65,
     "metadata": {},
     "output_type": "execute_result"
    }
   ],
   "source": [
    "sentence.strip('F.')"
   ]
  },
  {
   "cell_type": "code",
   "execution_count": 66,
   "metadata": {},
   "outputs": [
    {
     "data": {
      "text/plain": [
       "'eds friends fried fritos for fridays food'"
      ]
     },
     "execution_count": 66,
     "metadata": {},
     "output_type": "execute_result"
    }
   ],
   "source": [
    "sentence.strip('F.r')"
   ]
  },
  {
   "cell_type": "code",
   "execution_count": 67,
   "metadata": {},
   "outputs": [
    {
     "data": {
      "text/plain": [
       "'Freds friends fried fritos for fridays food'"
      ]
     },
     "execution_count": 67,
     "metadata": {},
     "output_type": "execute_result"
    }
   ],
   "source": [
    "sentence.strip('.r')"
   ]
  },
  {
   "cell_type": "code",
   "execution_count": 69,
   "metadata": {},
   "outputs": [
    {
     "data": {
      "text/plain": [
       "'iends fried fritos for friday'"
      ]
     },
     "execution_count": 69,
     "metadata": {},
     "output_type": "execute_result"
    }
   ],
   "source": [
    "sentence.strip('.rFdofes ')"
   ]
  },
  {
   "cell_type": "code",
   "execution_count": 70,
   "metadata": {},
   "outputs": [
    {
     "data": {
      "text/plain": [
       "'iends fried fritos for fridays food.'"
      ]
     },
     "execution_count": 70,
     "metadata": {},
     "output_type": "execute_result"
    }
   ],
   "source": [
    "sentence.lstrip('.rFdofes ')"
   ]
  },
  {
   "cell_type": "code",
   "execution_count": 71,
   "metadata": {},
   "outputs": [
    {
     "data": {
      "text/plain": [
       "'Freds friends fried fritos for friday'"
      ]
     },
     "execution_count": 71,
     "metadata": {},
     "output_type": "execute_result"
    }
   ],
   "source": [
    "sentence.rstrip('.rFdofes ')"
   ]
  },
  {
   "cell_type": "code",
   "execution_count": 72,
   "metadata": {},
   "outputs": [],
   "source": [
    "lyrics=\"\"\"I'm Blue – da ba dee da ba dye, da ba dee da ba dye\n",
    "Da ba dee da ba dye, da ba dee da ba dye\n",
    "Da ba dee da ba dye, da ba dee da ba dye\n",
    "Da ba dee da ba dye\n",
    "I'm Blue – da ba dee da ba dye, da ba dee da ba dye\n",
    "Da ba dee da ba dye, da ba dee da ba dye\n",
    "Da ba dee da ba dye, da ba dee da ba dye\n",
    "Da ba dee da ba dye\"\"\""
   ]
  },
  {
   "cell_type": "code",
   "execution_count": 81,
   "metadata": {},
   "outputs": [],
   "source": [
    "from collections import Counter"
   ]
  },
  {
   "cell_type": "code",
   "execution_count": 89,
   "metadata": {},
   "outputs": [
    {
     "data": {
      "text/plain": [
       "Counter({\"I'm\": 2,\n",
       "         'Blue': 2,\n",
       "         '–': 2,\n",
       "         'da': 22,\n",
       "         'ba': 28,\n",
       "         'dee': 14,\n",
       "         'dye,': 6,\n",
       "         'dye': 8,\n",
       "         'Da': 6})"
      ]
     },
     "execution_count": 89,
     "metadata": {},
     "output_type": "execute_result"
    }
   ],
   "source": [
    "words=lyrics.split()\n",
    "words\n",
    "d=Counter(words)\n",
    "d"
   ]
  },
  {
   "cell_type": "code",
   "execution_count": 90,
   "metadata": {},
   "outputs": [],
   "source": [
    "#this is not clean, we have to clean it first "
   ]
  },
  {
   "cell_type": "code",
   "execution_count": 91,
   "metadata": {},
   "outputs": [],
   "source": [
    "lyrics=\"\"\"I'm blue da ba dee da ba daa\n",
    "Da ba dee da ba daa, da ba dee da ba daa, da ba dee da ba daa\n",
    "Da ba dee da ba daa, da ba dee da ba daa, da ba dee da ba daa\"\"\""
   ]
  },
  {
   "cell_type": "code",
   "execution_count": 93,
   "metadata": {},
   "outputs": [
    {
     "data": {
      "text/plain": [
       "{'ba', 'blue', 'da', 'daa', 'daa,', 'dee', \"i'm\"}"
      ]
     },
     "execution_count": 93,
     "metadata": {},
     "output_type": "execute_result"
    }
   ],
   "source": [
    "word1={word.strip(',') for word in lyrics.lower().split() } \n",
    "word1"
   ]
  },
  {
   "cell_type": "code",
   "execution_count": 101,
   "metadata": {},
   "outputs": [
    {
     "data": {
      "text/plain": [
       "{\"i'm\": 1, 'blue': 1, 'da': 14, 'ba': 14, 'dee': 7, 'daa': 7}"
      ]
     },
     "execution_count": 101,
     "metadata": {},
     "output_type": "execute_result"
    }
   ],
   "source": [
    "words=[word.strip(',.!_?').lower() for word in lyrics.split()]\n",
    "{i:words.count(i) for i in words } "
   ]
  },
  {
   "cell_type": "code",
   "execution_count": null,
   "metadata": {},
   "outputs": [],
   "source": [
    "words=[word.strip(',.!_?').lower() for word in lyrics.replace(\"'\",' ').split()]\n",
    "{i:words.count(i) for i in words } "
   ]
  },
  {
   "cell_type": "code",
   "execution_count": null,
   "metadata": {},
   "outputs": [],
   "source": [
    "Print a list of words that start with d"
   ]
  },
  {
   "cell_type": "code",
   "execution_count": 104,
   "metadata": {},
   "outputs": [
    {
     "data": {
      "text/plain": [
       "['da',\n",
       " 'dee',\n",
       " 'da',\n",
       " 'daa',\n",
       " 'da',\n",
       " 'dee',\n",
       " 'da',\n",
       " 'daa,',\n",
       " 'da',\n",
       " 'dee',\n",
       " 'da',\n",
       " 'daa,',\n",
       " 'da',\n",
       " 'dee',\n",
       " 'da',\n",
       " 'daa',\n",
       " 'da',\n",
       " 'dee',\n",
       " 'da',\n",
       " 'daa,',\n",
       " 'da',\n",
       " 'dee',\n",
       " 'da',\n",
       " 'daa,',\n",
       " 'da',\n",
       " 'dee',\n",
       " 'da',\n",
       " 'daa']"
      ]
     },
     "execution_count": 104,
     "metadata": {},
     "output_type": "execute_result"
    }
   ],
   "source": [
    "lst_d=[]\n",
    "for word in lyrics.lower().split():\n",
    "    if word[0]=='d':\n",
    "        lst_d.append(word)\n",
    "lst_d"
   ]
  },
  {
   "cell_type": "code",
   "execution_count": 105,
   "metadata": {},
   "outputs": [
    {
     "data": {
      "text/plain": [
       "['da',\n",
       " 'dee',\n",
       " 'da',\n",
       " 'daa',\n",
       " 'da',\n",
       " 'dee',\n",
       " 'da',\n",
       " 'daa,',\n",
       " 'da',\n",
       " 'dee',\n",
       " 'da',\n",
       " 'daa,',\n",
       " 'da',\n",
       " 'dee',\n",
       " 'da',\n",
       " 'daa',\n",
       " 'da',\n",
       " 'dee',\n",
       " 'da',\n",
       " 'daa,',\n",
       " 'da',\n",
       " 'dee',\n",
       " 'da',\n",
       " 'daa,',\n",
       " 'da',\n",
       " 'dee',\n",
       " 'da',\n",
       " 'daa']"
      ]
     },
     "execution_count": 105,
     "metadata": {},
     "output_type": "execute_result"
    }
   ],
   "source": [
    "[word for word in lyrics.lower().split() if word[0]=='d']"
   ]
  },
  {
   "cell_type": "code",
   "execution_count": 106,
   "metadata": {},
   "outputs": [
    {
     "data": {
      "text/plain": [
       "['da',\n",
       " 'dee',\n",
       " 'da',\n",
       " 'daa',\n",
       " 'da',\n",
       " 'dee',\n",
       " 'da',\n",
       " 'daa,',\n",
       " 'da',\n",
       " 'dee',\n",
       " 'da',\n",
       " 'daa,',\n",
       " 'da',\n",
       " 'dee',\n",
       " 'da',\n",
       " 'daa',\n",
       " 'da',\n",
       " 'dee',\n",
       " 'da',\n",
       " 'daa,',\n",
       " 'da',\n",
       " 'dee',\n",
       " 'da',\n",
       " 'daa,',\n",
       " 'da',\n",
       " 'dee',\n",
       " 'da',\n",
       " 'daa']"
      ]
     },
     "execution_count": 106,
     "metadata": {},
     "output_type": "execute_result"
    }
   ],
   "source": [
    "[word for word in lyrics.lower().split() if word.startswith('d')] #the simpler way to call words starting with "
   ]
  },
  {
   "cell_type": "code",
   "execution_count": 107,
   "metadata": {},
   "outputs": [],
   "source": [
    "#words ending with"
   ]
  },
  {
   "cell_type": "code",
   "execution_count": 110,
   "metadata": {},
   "outputs": [
    {
     "data": {
      "text/plain": [
       "['daa', 'daa', 'daa']"
      ]
     },
     "execution_count": 110,
     "metadata": {},
     "output_type": "execute_result"
    }
   ],
   "source": [
    "[word for word in lyrics.lower().split() if word.endswith('aa')]"
   ]
  },
  {
   "cell_type": "code",
   "execution_count": 111,
   "metadata": {},
   "outputs": [
    {
     "data": {
      "text/plain": [
       "False"
      ]
     },
     "execution_count": 111,
     "metadata": {},
     "output_type": "execute_result"
    }
   ],
   "source": [
    "lyrics.istitle()"
   ]
  },
  {
   "cell_type": "code",
   "execution_count": 112,
   "metadata": {},
   "outputs": [
    {
     "data": {
      "text/plain": [
       "['Da', 'Da']"
      ]
     },
     "execution_count": 112,
     "metadata": {},
     "output_type": "execute_result"
    }
   ],
   "source": [
    "[i for i in lyrics.split() if i.istitle()]"
   ]
  },
  {
   "cell_type": "code",
   "execution_count": 113,
   "metadata": {},
   "outputs": [
    {
     "data": {
      "text/plain": [
       "[]"
      ]
     },
     "execution_count": 113,
     "metadata": {},
     "output_type": "execute_result"
    }
   ],
   "source": [
    "[i for i in lyrics.split() if i.isupper()]"
   ]
  },
  {
   "cell_type": "code",
   "execution_count": 114,
   "metadata": {},
   "outputs": [
    {
     "data": {
      "text/plain": [
       "['blue',\n",
       " 'da',\n",
       " 'ba',\n",
       " 'dee',\n",
       " 'da',\n",
       " 'ba',\n",
       " 'daa',\n",
       " 'ba',\n",
       " 'dee',\n",
       " 'da',\n",
       " 'ba',\n",
       " 'daa,',\n",
       " 'da',\n",
       " 'ba',\n",
       " 'dee',\n",
       " 'da',\n",
       " 'ba',\n",
       " 'daa,',\n",
       " 'da',\n",
       " 'ba',\n",
       " 'dee',\n",
       " 'da',\n",
       " 'ba',\n",
       " 'daa',\n",
       " 'ba',\n",
       " 'dee',\n",
       " 'da',\n",
       " 'ba',\n",
       " 'daa,',\n",
       " 'da',\n",
       " 'ba',\n",
       " 'dee',\n",
       " 'da',\n",
       " 'ba',\n",
       " 'daa,',\n",
       " 'da',\n",
       " 'ba',\n",
       " 'dee',\n",
       " 'da',\n",
       " 'ba',\n",
       " 'daa']"
      ]
     },
     "execution_count": 114,
     "metadata": {},
     "output_type": "execute_result"
    }
   ],
   "source": [
    "[i for i in lyrics.split() if i.islower()]"
   ]
  },
  {
   "cell_type": "code",
   "execution_count": 115,
   "metadata": {},
   "outputs": [
    {
     "name": "stdout",
     "output_type": "stream",
     "text": [
      "I'm blue da ba MONKEY da ba daa\n",
      "Da ba MONKEY da ba daa, da ba MONKEY da ba daa, da ba MONKEY da ba daa\n",
      "Da ba MONKEY da ba daa, da ba MONKEY da ba daa, da ba MONKEY da ba daa\n"
     ]
    }
   ],
   "source": [
    "print(lyrics.replace('dee','MONKEY'))"
   ]
  },
  {
   "cell_type": "code",
   "execution_count": 116,
   "metadata": {},
   "outputs": [
    {
     "name": "stdout",
     "output_type": "stream",
     "text": [
      "I'm blue da ba MONKEY da ba daa\n",
      "Da ba MONKEY da ba daa, da ba dee da ba daa, da ba dee da ba daa\n",
      "Da ba dee da ba daa, da ba dee da ba daa, da ba dee da ba daa\n"
     ]
    }
   ],
   "source": [
    "print(lyrics.replace('dee','MONKEY',2))"
   ]
  },
  {
   "cell_type": "code",
   "execution_count": 117,
   "metadata": {},
   "outputs": [],
   "source": [
    "#decrypting text"
   ]
  },
  {
   "cell_type": "code",
   "execution_count": 118,
   "metadata": {},
   "outputs": [],
   "source": [
    "encrypted_text=\"\"\"GFS WMY OG LGDVS MF SFNKYHOSU ESLLMRS, PC WS BFGW POL DMFRQMRS, PL OG CPFU M UPCCSKSFO HDMPFOSXO GC OIS LMES DMFRQMRS DGFR SFGQRI OG CPDD GFS LISSO GK LG, MFU OISF WS NGQFO OIS GNNQKKSFNSL GC SMNI DSOOSK. WS NMDD OIS EGLO CKSJQSFODY GNNQKKPFR DSOOSK OIS 'CPKLO', OIS FSXO EGLO GNNQKKPFR DSOOSK OIS 'LSNGFU' OIS CGDDGWPFR EGLO GNNQKKPFR DSOOSK OIS 'OIPKU', MFU LG GF, QFOPD WS MNNGQFO CGK MDD OIS UPCCSKSFO DSOOSKL PF OIS HDMPFOSXO LMEHDS. OISF WS DGGB MO OIS NPHISK OSXO WS WMFO OG LGDVS MFU WS MDLG NDMLLPCY POL LYEAGDL. WS CPFU OIS EGLO GNNQKKPFR LYEAGD MFU NIMFRS PO OG OIS CGKE GC OIS 'CPKLO' DSOOSK GC OIS HDMPFOSXO LMEHDS, OIS FSXO EGLO NGEEGF LYEAGD PL NIMFRSU OG OIS CGKE GC OIS 'LSNGFU' DSOOSK, MFU OIS CGDDGWPFR EGLO NGEEGF LYEAGD PL NIMFRSU OG OIS CGKE GC OIS 'OIPKU' DSOOSK, MFU LG GF, QFOPD WS MNNGQFO CGK MDD LYEAGDL GC OIS NKYHOGRKME WS WMFO OG LGDVS.\"\"\""
   ]
  },
  {
   "cell_type": "code",
   "execution_count": 119,
   "metadata": {},
   "outputs": [],
   "source": [
    "freq_dict={letter:encrypted_text.count(letter) for letter in encrypted_text}"
   ]
  },
  {
   "cell_type": "code",
   "execution_count": 120,
   "metadata": {},
   "outputs": [
    {
     "data": {
      "text/plain": [
       "{'G': 67,\n",
       " 'F': 51,\n",
       " 'S': 88,\n",
       " ' ': 158,\n",
       " 'W': 16,\n",
       " 'M': 35,\n",
       " 'Y': 10,\n",
       " 'O': 85,\n",
       " 'L': 39,\n",
       " 'D': 42,\n",
       " 'V': 3,\n",
       " 'N': 29,\n",
       " 'K': 35,\n",
       " 'H': 8,\n",
       " 'U': 17,\n",
       " 'E': 23,\n",
       " 'R': 17,\n",
       " ',': 10,\n",
       " 'P': 30,\n",
       " 'C': 26,\n",
       " 'B': 2,\n",
       " 'Q': 14,\n",
       " 'X': 6,\n",
       " 'I': 33,\n",
       " '.': 4,\n",
       " 'J': 1,\n",
       " \"'\": 12,\n",
       " 'A': 5}"
      ]
     },
     "execution_count": 120,
     "metadata": {},
     "output_type": "execute_result"
    }
   ],
   "source": [
    "freq_dict"
   ]
  },
  {
   "cell_type": "code",
   "execution_count": 122,
   "metadata": {},
   "outputs": [
    {
     "data": {
      "text/plain": [
       "{' ': 158,\n",
       " 'S': 88,\n",
       " 'O': 85,\n",
       " 'G': 67,\n",
       " 'F': 51,\n",
       " 'D': 42,\n",
       " 'L': 39,\n",
       " 'M': 35,\n",
       " 'K': 35,\n",
       " 'I': 33,\n",
       " 'P': 30,\n",
       " 'N': 29,\n",
       " 'C': 26,\n",
       " 'E': 23,\n",
       " 'U': 17,\n",
       " 'R': 17,\n",
       " 'W': 16,\n",
       " 'Q': 14,\n",
       " \"'\": 12,\n",
       " 'Y': 10,\n",
       " ',': 10,\n",
       " 'H': 8,\n",
       " 'X': 6,\n",
       " 'A': 5,\n",
       " '.': 4,\n",
       " 'V': 3,\n",
       " 'B': 2,\n",
       " 'J': 1}"
      ]
     },
     "execution_count": 122,
     "metadata": {},
     "output_type": "execute_result"
    }
   ],
   "source": [
    "import operator\n",
    "dict(sorted(freq_dict.items(), key=operator.itemgetter(1),reverse=True))"
   ]
  },
  {
   "cell_type": "code",
   "execution_count": null,
   "metadata": {},
   "outputs": [],
   "source": [
    "As we can see, the most frequent letter in this text is S. The most frequent letter in this text should correspond to the most frequent letter in the language. "
   ]
  },
  {
   "cell_type": "code",
   "execution_count": 126,
   "metadata": {},
   "outputs": [],
   "source": [
    "encrypted_text=encrypted_text.replace('S','e')"
   ]
  },
  {
   "cell_type": "code",
   "execution_count": 131,
   "metadata": {},
   "outputs": [],
   "source": [
    "encrypted_text=encrypted_text.replace('O','t').replace('I','h')"
   ]
  },
  {
   "cell_type": "code",
   "execution_count": 133,
   "metadata": {},
   "outputs": [],
   "source": [
    "encrypted_text=encrypted_text.replace('G','o').replace('F','n')"
   ]
  },
  {
   "cell_type": "code",
   "execution_count": 136,
   "metadata": {},
   "outputs": [],
   "source": [
    "encrypted_text=encrypted_text.replace('Q','u').replace('R','g')"
   ]
  },
  {
   "cell_type": "code",
   "execution_count": 138,
   "metadata": {},
   "outputs": [],
   "source": [
    "encrypted_text=encrypted_text.replace('D','l').replace('C','f')"
   ]
  },
  {
   "cell_type": "code",
   "execution_count": 139,
   "metadata": {},
   "outputs": [],
   "source": [
    "encrypted_text=encrypted_text.replace('K','r').replace('J','q').replace('Y','y')"
   ]
  },
  {
   "cell_type": "code",
   "execution_count": 140,
   "metadata": {},
   "outputs": [],
   "source": [
    "encrypted_text=encrypted_text.replace('M','a').replace('P','i').replace('U','d')"
   ]
  },
  {
   "cell_type": "code",
   "execution_count": 144,
   "metadata": {},
   "outputs": [],
   "source": [
    "encrypted_text=encrypted_text.replace('L','s').replace('B','k').replace('N','c')"
   ]
  },
  {
   "cell_type": "code",
   "execution_count": 148,
   "metadata": {},
   "outputs": [],
   "source": [
    "encrypted_text=encrypted_text.replace('H','p').replace('E','m').replace('A','b')"
   ]
  },
  {
   "cell_type": "code",
   "execution_count": 149,
   "metadata": {},
   "outputs": [
    {
     "data": {
      "text/plain": [
       "\"one Way to solVe an encrypted message, if We knoW its language, is to find a different plainteXt of the same language long enough to fill one sheet or so, and then We count the occurrences of each letter. We call the most frequently occurring letter the 'first', the neXt most occurring letter the 'second' the folloWing most occurring letter the 'third', and so on, until We account for all the different letters in the plainteXt sample. then We look at the cipher teXt We Want to solVe and We also classify its symbols. We find the most occurring symbol and change it to the form of the 'first' letter of the plainteXt sample, the neXt most common symbol is changed to the form of the 'second' letter, and the folloWing most common symbol is changed to the form of the 'third' letter, and so on, until We account for all symbols of the cryptogram We Want to solVe.\""
      ]
     },
     "execution_count": 149,
     "metadata": {},
     "output_type": "execute_result"
    }
   ],
   "source": [
    "encrypted_text"
   ]
  },
  {
   "cell_type": "code",
   "execution_count": null,
   "metadata": {},
   "outputs": [],
   "source": []
  }
 ],
 "metadata": {
  "kernelspec": {
   "display_name": "Python 3",
   "language": "python",
   "name": "python3"
  },
  "language_info": {
   "codemirror_mode": {
    "name": "ipython",
    "version": 3
   },
   "file_extension": ".py",
   "mimetype": "text/x-python",
   "name": "python",
   "nbconvert_exporter": "python",
   "pygments_lexer": "ipython3",
   "version": "3.8.5"
  }
 },
 "nbformat": 4,
 "nbformat_minor": 4
}
