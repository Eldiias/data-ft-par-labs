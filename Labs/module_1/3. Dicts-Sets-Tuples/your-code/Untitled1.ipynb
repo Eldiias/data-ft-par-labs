{
 "cells": [
  {
   "cell_type": "code",
   "execution_count": 11,
   "metadata": {},
   "outputs": [
    {
     "name": "stdout",
     "output_type": "stream",
     "text": [
      "['apple', 'pear', 'orange', 'grapefruit']\n"
     ]
    }
   ],
   "source": [
    "fruits = ['apple','pear','mango','orange', 'grapefruit']\n",
    "fruits2 = []\n",
    "\n",
    "for i in fruits:\n",
    "    if 'e' in i:\n",
    "        fruits2.append(i)\n",
    "\n",
    "print(fruits2)"
   ]
  },
  {
   "cell_type": "code",
   "execution_count": 13,
   "metadata": {},
   "outputs": [
    {
     "data": {
      "text/plain": [
       "['apple', 'pear', 'orange', 'grapefruit']"
      ]
     },
     "execution_count": 13,
     "metadata": {},
     "output_type": "execute_result"
    }
   ],
   "source": [
    "fruits = ['apple','pear','mango','orange', 'grapefruit']\n",
    "fruits2 = []\n",
    "\n",
    "[i for i in fruits if 'e' in i]"
   ]
  },
  {
   "cell_type": "code",
   "execution_count": null,
   "metadata": {},
   "outputs": [],
   "source": []
  }
 ],
 "metadata": {
  "kernelspec": {
   "display_name": "Python 3",
   "language": "python",
   "name": "python3"
  },
  "language_info": {
   "codemirror_mode": {
    "name": "ipython",
    "version": 3
   },
   "file_extension": ".py",
   "mimetype": "text/x-python",
   "name": "python",
   "nbconvert_exporter": "python",
   "pygments_lexer": "ipython3",
   "version": "3.8.3"
  }
 },
 "nbformat": 4,
 "nbformat_minor": 4
}
