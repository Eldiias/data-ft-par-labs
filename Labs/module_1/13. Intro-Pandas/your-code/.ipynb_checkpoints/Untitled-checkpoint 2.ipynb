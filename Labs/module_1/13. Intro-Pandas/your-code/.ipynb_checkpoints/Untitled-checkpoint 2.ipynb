{
 "cells": [
  {
   "cell_type": "markdown",
   "metadata": {},
   "source": [
    "import pandas as pd"
   ]
  },
  {
   "cell_type": "raw",
   "metadata": {},
   "source": [
    "# "
   ]
  },
  {
   "cell_type": "code",
   "execution_count": 2,
   "metadata": {},
   "outputs": [
    {
     "data": {
      "text/plain": [
       "pandas.core.series.Series"
      ]
     },
     "execution_count": 2,
     "metadata": {},
     "output_type": "execute_result"
    }
   ],
   "source": [
    "pd.Series"
   ]
  },
  {
   "cell_type": "code",
   "execution_count": null,
   "metadata": {},
   "outputs": [],
   "source": []
  },
  {
   "cell_type": "code",
   "execution_count": 3,
   "metadata": {},
   "outputs": [
    {
     "name": "stdout",
     "output_type": "stream",
     "text": [
      "\n",
      "    One-dimensional ndarray with axis labels (including time series).\n",
      "\n",
      "    Labels need not be unique but must be a hashable type. The object\n",
      "    supports both integer- and label-based indexing and provides a host of\n",
      "    methods for performing operations involving the index. Statistical\n",
      "    methods from ndarray have been overridden to automatically exclude\n",
      "    missing data (currently represented as NaN).\n",
      "\n",
      "    Operations between Series (+, -, /, *, **) align values based on their\n",
      "    associated index values-- they need not be the same length. The result\n",
      "    index will be the sorted union of the two indexes.\n",
      "\n",
      "    Parameters\n",
      "    ----------\n",
      "    data : array-like, Iterable, dict, or scalar value\n",
      "        Contains data stored in Series.\n",
      "\n",
      "        .. versionchanged:: 0.23.0\n",
      "           If data is a dict, argument order is maintained for Python 3.6\n",
      "           and later.\n",
      "\n",
      "    index : array-like or Index (1d)\n",
      "        Values must be hashable and have the same length as `data`.\n",
      "        Non-unique index values are allowed. Will default to\n",
      "        RangeIndex (0, 1, 2, ..., n) if not provided. If both a dict and index\n",
      "        sequence are used, the index will override the keys found in the\n",
      "        dict.\n",
      "    dtype : str, numpy.dtype, or ExtensionDtype, optional\n",
      "        Data type for the output Series. If not specified, this will be\n",
      "        inferred from `data`.\n",
      "        See the :ref:`user guide <basics.dtypes>` for more usages.\n",
      "    name : str, optional\n",
      "        The name to give to the Series.\n",
      "    copy : bool, default False\n",
      "        Copy input data.\n",
      "    \n"
     ]
    }
   ],
   "source": [
    "print(pd.Series.__doc__)"
   ]
  },
  {
   "cell_type": "code",
   "execution_count": 4,
   "metadata": {},
   "outputs": [],
   "source": [
    "l=list(range(-5,50,5))"
   ]
  },
  {
   "cell_type": "code",
   "execution_count": 5,
   "metadata": {},
   "outputs": [
    {
     "data": {
      "text/plain": [
       "[-5, 0, 5, 10, 15, 20, 25, 30, 35, 40, 45]"
      ]
     },
     "execution_count": 5,
     "metadata": {},
     "output_type": "execute_result"
    }
   ],
   "source": [
    "l"
   ]
  },
  {
   "cell_type": "code",
   "execution_count": 6,
   "metadata": {},
   "outputs": [
    {
     "data": {
      "text/plain": [
       "0     -5\n",
       "1      0\n",
       "2      5\n",
       "3     10\n",
       "4     15\n",
       "5     20\n",
       "6     25\n",
       "7     30\n",
       "8     35\n",
       "9     40\n",
       "10    45\n",
       "dtype: int64"
      ]
     },
     "execution_count": 6,
     "metadata": {},
     "output_type": "execute_result"
    }
   ],
   "source": [
    "pd.Series(l)"
   ]
  },
  {
   "cell_type": "code",
   "execution_count": 8,
   "metadata": {},
   "outputs": [
    {
     "data": {
      "text/plain": [
       "0     -5\n",
       "1      0\n",
       "2      5\n",
       "3     10\n",
       "4     15\n",
       "5     20\n",
       "6     25\n",
       "7     30\n",
       "8     35\n",
       "9     40\n",
       "10    45\n",
       "dtype: int64"
      ]
     },
     "execution_count": 8,
     "metadata": {},
     "output_type": "execute_result"
    }
   ],
   "source": [
    "pd.Series(range(-5,50,5))"
   ]
  },
  {
   "cell_type": "code",
   "execution_count": 9,
   "metadata": {},
   "outputs": [
    {
     "data": {
      "text/plain": [
       "0     -5\n",
       "1      0\n",
       "2      5\n",
       "3     10\n",
       "4     15\n",
       "5     20\n",
       "6     25\n",
       "7     30\n",
       "8     35\n",
       "9     40\n",
       "10    45\n",
       "Name: x5 series, dtype: int64"
      ]
     },
     "execution_count": 9,
     "metadata": {},
     "output_type": "execute_result"
    }
   ],
   "source": [
    "pd.Series(range(-5,50,5), name='x5 series')"
   ]
  },
  {
   "cell_type": "code",
   "execution_count": 10,
   "metadata": {},
   "outputs": [
    {
     "data": {
      "text/plain": [
       "0    5\n",
       "dtype: int64"
      ]
     },
     "execution_count": 10,
     "metadata": {},
     "output_type": "execute_result"
    }
   ],
   "source": [
    "pd.Series(5)"
   ]
  },
  {
   "cell_type": "code",
   "execution_count": 11,
   "metadata": {},
   "outputs": [],
   "source": [
    "#by default pandas can take integers, dictionnaries but not list\n",
    "\n",
    "dct={'apples': 10, \n",
    "    'cucumbers': 3,\n",
    "    'bread': 5,\n",
    "    'water':10,\n",
    "    'wine': 4}"
   ]
  },
  {
   "cell_type": "code",
   "execution_count": 13,
   "metadata": {},
   "outputs": [
    {
     "data": {
      "text/plain": [
       "apples       10\n",
       "cucumbers     3\n",
       "bread         5\n",
       "water        10\n",
       "wine          4\n",
       "Name: picnic, dtype: int64"
      ]
     },
     "execution_count": 13,
     "metadata": {},
     "output_type": "execute_result"
    }
   ],
   "source": [
    "pd.Series(dct, name='picnic')"
   ]
  },
  {
   "cell_type": "code",
   "execution_count": 14,
   "metadata": {},
   "outputs": [
    {
     "data": {
      "text/plain": [
       "a      [0, 1, 2, 3, 4, 5]\n",
       "b    [0, 1, 4, 9, 16, 25]\n",
       "c         [0, -1, -2, -3]\n",
       "dtype: object"
      ]
     },
     "execution_count": 14,
     "metadata": {},
     "output_type": "execute_result"
    }
   ],
   "source": [
    "#using list \n",
    "\n",
    "pd.Series({'a':[0,1,2,3,4,5],'b':[0,1,4,9,16,25],'c':[0,-1,-2,-3]})"
   ]
  },
  {
   "cell_type": "code",
   "execution_count": null,
   "metadata": {},
   "outputs": [],
   "source": []
  }
 ],
 "metadata": {
  "kernelspec": {
   "display_name": "Python 3",
   "language": "python",
   "name": "python3"
  },
  "language_info": {
   "codemirror_mode": {
    "name": "ipython",
    "version": 3
   },
   "file_extension": ".py",
   "mimetype": "text/x-python",
   "name": "python",
   "nbconvert_exporter": "python",
   "pygments_lexer": "ipython3",
   "version": "3.8.5"
  }
 },
 "nbformat": 4,
 "nbformat_minor": 4
}
