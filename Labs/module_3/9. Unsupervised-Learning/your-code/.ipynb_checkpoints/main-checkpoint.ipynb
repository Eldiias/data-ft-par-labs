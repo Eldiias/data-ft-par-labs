{
 "cells": [
  {
   "cell_type": "markdown",
   "metadata": {},
   "source": [
    "# Before your start:\n",
    "- Read the README.md file\n",
    "- Comment as much as you can and use the resources in the README.md file\n",
    "- Happy learning!"
   ]
  },
  {
   "cell_type": "code",
   "execution_count": 233,
   "metadata": {},
   "outputs": [],
   "source": [
    "# Import your libraries:\n",
    "\n",
    "%matplotlib inline\n",
    "\n",
    "import matplotlib.pyplot as plt\n",
    "import numpy as np\n",
    "import pandas as pd\n",
    "\n",
    "import seaborn as sns"
   ]
  },
  {
   "cell_type": "markdown",
   "metadata": {},
   "source": [
    "# Challenge 1 - Import and Describe the Dataset\n",
    "\n",
    "In this lab, we will use a dataset containing information about customer preferences. We will look at how much each customer spends in a year on each subcategory in the grocery store and try to find similarities using clustering.\n",
    "\n",
    "The origin of the dataset is [here](https://archive.ics.uci.edu/ml/datasets/wholesale+customers)."
   ]
  },
  {
   "cell_type": "code",
   "execution_count": 234,
   "metadata": {},
   "outputs": [],
   "source": [
    "# loading the data:\n",
    "df = pd.read_csv(r'C:\\Users\\Quoc\\Desktop\\[ironhack]\\[IronHack]\\github\\data-ft-par-labs\\Labs\\module_3\\9. Unsupervised-Learning\\data\\Wholesale customers data.csv')"
   ]
  },
  {
   "cell_type": "markdown",
   "metadata": {},
   "source": [
    "#### Explore the dataset with mathematical and visualization techniques. What do you find?\n",
    "\n",
    "Checklist:\n",
    "\n",
    "* What does each column mean?\n",
    "* Any categorical data to convert?\n",
    "* Any missing data to remove?\n",
    "* Column collinearity - any high correlations?\n",
    "* Descriptive statistics - any outliers to remove?\n",
    "* Column-wise data distribution - is the distribution skewed?\n",
    "* Etc.\n",
    "\n",
    "Additional info: Over a century ago, an Italian economist named Vilfredo Pareto discovered that roughly 20% of the customers account for 80% of the typical retail sales. This is called the [Pareto principle](https://en.wikipedia.org/wiki/Pareto_principle). Check if this dataset displays this characteristic."
   ]
  },
  {
   "cell_type": "code",
   "execution_count": 235,
   "metadata": {},
   "outputs": [
    {
     "data": {
      "text/html": [
       "<div>\n",
       "<style scoped>\n",
       "    .dataframe tbody tr th:only-of-type {\n",
       "        vertical-align: middle;\n",
       "    }\n",
       "\n",
       "    .dataframe tbody tr th {\n",
       "        vertical-align: top;\n",
       "    }\n",
       "\n",
       "    .dataframe thead th {\n",
       "        text-align: right;\n",
       "    }\n",
       "</style>\n",
       "<table border=\"1\" class=\"dataframe\">\n",
       "  <thead>\n",
       "    <tr style=\"text-align: right;\">\n",
       "      <th></th>\n",
       "      <th>Channel</th>\n",
       "      <th>Region</th>\n",
       "      <th>Fresh</th>\n",
       "      <th>Milk</th>\n",
       "      <th>Grocery</th>\n",
       "      <th>Frozen</th>\n",
       "      <th>Detergents_Paper</th>\n",
       "      <th>Delicassen</th>\n",
       "    </tr>\n",
       "  </thead>\n",
       "  <tbody>\n",
       "    <tr>\n",
       "      <th>0</th>\n",
       "      <td>2</td>\n",
       "      <td>3</td>\n",
       "      <td>12669</td>\n",
       "      <td>9656</td>\n",
       "      <td>7561</td>\n",
       "      <td>214</td>\n",
       "      <td>2674</td>\n",
       "      <td>1338</td>\n",
       "    </tr>\n",
       "    <tr>\n",
       "      <th>1</th>\n",
       "      <td>2</td>\n",
       "      <td>3</td>\n",
       "      <td>7057</td>\n",
       "      <td>9810</td>\n",
       "      <td>9568</td>\n",
       "      <td>1762</td>\n",
       "      <td>3293</td>\n",
       "      <td>1776</td>\n",
       "    </tr>\n",
       "    <tr>\n",
       "      <th>2</th>\n",
       "      <td>2</td>\n",
       "      <td>3</td>\n",
       "      <td>6353</td>\n",
       "      <td>8808</td>\n",
       "      <td>7684</td>\n",
       "      <td>2405</td>\n",
       "      <td>3516</td>\n",
       "      <td>7844</td>\n",
       "    </tr>\n",
       "    <tr>\n",
       "      <th>3</th>\n",
       "      <td>1</td>\n",
       "      <td>3</td>\n",
       "      <td>13265</td>\n",
       "      <td>1196</td>\n",
       "      <td>4221</td>\n",
       "      <td>6404</td>\n",
       "      <td>507</td>\n",
       "      <td>1788</td>\n",
       "    </tr>\n",
       "    <tr>\n",
       "      <th>4</th>\n",
       "      <td>2</td>\n",
       "      <td>3</td>\n",
       "      <td>22615</td>\n",
       "      <td>5410</td>\n",
       "      <td>7198</td>\n",
       "      <td>3915</td>\n",
       "      <td>1777</td>\n",
       "      <td>5185</td>\n",
       "    </tr>\n",
       "  </tbody>\n",
       "</table>\n",
       "</div>"
      ],
      "text/plain": [
       "   Channel  Region  Fresh  Milk  Grocery  Frozen  Detergents_Paper  Delicassen\n",
       "0        2       3  12669  9656     7561     214              2674        1338\n",
       "1        2       3   7057  9810     9568    1762              3293        1776\n",
       "2        2       3   6353  8808     7684    2405              3516        7844\n",
       "3        1       3  13265  1196     4221    6404               507        1788\n",
       "4        2       3  22615  5410     7198    3915              1777        5185"
      ]
     },
     "execution_count": 235,
     "metadata": {},
     "output_type": "execute_result"
    }
   ],
   "source": [
    "# Your code here:\n",
    "df.head()"
   ]
  },
  {
   "cell_type": "code",
   "execution_count": 236,
   "metadata": {},
   "outputs": [
    {
     "data": {
      "text/plain": [
       "Channel             int64\n",
       "Region              int64\n",
       "Fresh               int64\n",
       "Milk                int64\n",
       "Grocery             int64\n",
       "Frozen              int64\n",
       "Detergents_Paper    int64\n",
       "Delicassen          int64\n",
       "dtype: object"
      ]
     },
     "execution_count": 236,
     "metadata": {},
     "output_type": "execute_result"
    }
   ],
   "source": [
    "df.dtypes"
   ]
  },
  {
   "cell_type": "code",
   "execution_count": 237,
   "metadata": {},
   "outputs": [
    {
     "data": {
      "text/plain": [
       "Channel             0\n",
       "Region              0\n",
       "Fresh               0\n",
       "Milk                0\n",
       "Grocery             0\n",
       "Frozen              0\n",
       "Detergents_Paper    0\n",
       "Delicassen          0\n",
       "dtype: int64"
      ]
     },
     "execution_count": 237,
     "metadata": {},
     "output_type": "execute_result"
    }
   ],
   "source": [
    "df.isna().sum()"
   ]
  },
  {
   "cell_type": "code",
   "execution_count": 238,
   "metadata": {},
   "outputs": [
    {
     "data": {
      "text/plain": [
       "<AxesSubplot:>"
      ]
     },
     "execution_count": 238,
     "metadata": {},
     "output_type": "execute_result"
    },
    {
     "data": {
      "image/png": "[encoded data removed]",
      "text/plain": [
       "<Figure size 432x288 with 2 Axes>"
      ]
     },
     "metadata": {
      "needs_background": "light"
     },
     "output_type": "display_data"
    }
   ],
   "source": [
    "# dont see any clear multicollenarity. \n",
    "sns.heatmap(df.corr(), annot=True)"
   ]
  },
  {
   "cell_type": "code",
   "execution_count": 239,
   "metadata": {},
   "outputs": [
    {
     "data": {
      "text/html": [
       "<div>\n",
       "<style scoped>\n",
       "    .dataframe tbody tr th:only-of-type {\n",
       "        vertical-align: middle;\n",
       "    }\n",
       "\n",
       "    .dataframe tbody tr th {\n",
       "        vertical-align: top;\n",
       "    }\n",
       "\n",
       "    .dataframe thead th {\n",
       "        text-align: right;\n",
       "    }\n",
       "</style>\n",
       "<table border=\"1\" class=\"dataframe\">\n",
       "  <thead>\n",
       "    <tr style=\"text-align: right;\">\n",
       "      <th></th>\n",
       "      <th>count</th>\n",
       "      <th>mean</th>\n",
       "      <th>std</th>\n",
       "      <th>min</th>\n",
       "      <th>25%</th>\n",
       "      <th>50%</th>\n",
       "      <th>75%</th>\n",
       "      <th>max</th>\n",
       "    </tr>\n",
       "  </thead>\n",
       "  <tbody>\n",
       "    <tr>\n",
       "      <th>Channel</th>\n",
       "      <td>440.00</td>\n",
       "      <td>1.32</td>\n",
       "      <td>0.47</td>\n",
       "      <td>1.00</td>\n",
       "      <td>1.00</td>\n",
       "      <td>1.00</td>\n",
       "      <td>2.00</td>\n",
       "      <td>2.00</td>\n",
       "    </tr>\n",
       "    <tr>\n",
       "      <th>Region</th>\n",
       "      <td>440.00</td>\n",
       "      <td>2.54</td>\n",
       "      <td>0.77</td>\n",
       "      <td>1.00</td>\n",
       "      <td>2.00</td>\n",
       "      <td>3.00</td>\n",
       "      <td>3.00</td>\n",
       "      <td>3.00</td>\n",
       "    </tr>\n",
       "    <tr>\n",
       "      <th>Fresh</th>\n",
       "      <td>440.00</td>\n",
       "      <td>12000.30</td>\n",
       "      <td>12647.33</td>\n",
       "      <td>3.00</td>\n",
       "      <td>3127.75</td>\n",
       "      <td>8504.00</td>\n",
       "      <td>16933.75</td>\n",
       "      <td>112151.00</td>\n",
       "    </tr>\n",
       "    <tr>\n",
       "      <th>Milk</th>\n",
       "      <td>440.00</td>\n",
       "      <td>5796.27</td>\n",
       "      <td>7380.38</td>\n",
       "      <td>55.00</td>\n",
       "      <td>1533.00</td>\n",
       "      <td>3627.00</td>\n",
       "      <td>7190.25</td>\n",
       "      <td>73498.00</td>\n",
       "    </tr>\n",
       "    <tr>\n",
       "      <th>Grocery</th>\n",
       "      <td>440.00</td>\n",
       "      <td>7951.28</td>\n",
       "      <td>9503.16</td>\n",
       "      <td>3.00</td>\n",
       "      <td>2153.00</td>\n",
       "      <td>4755.50</td>\n",
       "      <td>10655.75</td>\n",
       "      <td>92780.00</td>\n",
       "    </tr>\n",
       "    <tr>\n",
       "      <th>Frozen</th>\n",
       "      <td>440.00</td>\n",
       "      <td>3071.93</td>\n",
       "      <td>4854.67</td>\n",
       "      <td>25.00</td>\n",
       "      <td>742.25</td>\n",
       "      <td>1526.00</td>\n",
       "      <td>3554.25</td>\n",
       "      <td>60869.00</td>\n",
       "    </tr>\n",
       "    <tr>\n",
       "      <th>Detergents_Paper</th>\n",
       "      <td>440.00</td>\n",
       "      <td>2881.49</td>\n",
       "      <td>4767.85</td>\n",
       "      <td>3.00</td>\n",
       "      <td>256.75</td>\n",
       "      <td>816.50</td>\n",
       "      <td>3922.00</td>\n",
       "      <td>40827.00</td>\n",
       "    </tr>\n",
       "    <tr>\n",
       "      <th>Delicassen</th>\n",
       "      <td>440.00</td>\n",
       "      <td>1524.87</td>\n",
       "      <td>2820.11</td>\n",
       "      <td>3.00</td>\n",
       "      <td>408.25</td>\n",
       "      <td>965.50</td>\n",
       "      <td>1820.25</td>\n",
       "      <td>47943.00</td>\n",
       "    </tr>\n",
       "  </tbody>\n",
       "</table>\n",
       "</div>"
      ],
      "text/plain": [
       "                  count     mean      std   min     25%     50%      75%  \\\n",
       "Channel          440.00     1.32     0.47  1.00    1.00    1.00     2.00   \n",
       "Region           440.00     2.54     0.77  1.00    2.00    3.00     3.00   \n",
       "Fresh            440.00 12000.30 12647.33  3.00 3127.75 8504.00 16933.75   \n",
       "Milk             440.00  5796.27  7380.38 55.00 1533.00 3627.00  7190.25   \n",
       "Grocery          440.00  7951.28  9503.16  3.00 2153.00 4755.50 10655.75   \n",
       "Frozen           440.00  3071.93  4854.67 25.00  742.25 1526.00  3554.25   \n",
       "Detergents_Paper 440.00  2881.49  4767.85  3.00  256.75  816.50  3922.00   \n",
       "Delicassen       440.00  1524.87  2820.11  3.00  408.25  965.50  1820.25   \n",
       "\n",
       "                       max  \n",
       "Channel               2.00  \n",
       "Region                3.00  \n",
       "Fresh            112151.00  \n",
       "Milk              73498.00  \n",
       "Grocery           92780.00  \n",
       "Frozen            60869.00  \n",
       "Detergents_Paper  40827.00  \n",
       "Delicassen        47943.00  "
      ]
     },
     "execution_count": 239,
     "metadata": {},
     "output_type": "execute_result"
    }
   ],
   "source": [
    "df.describe().T"
   ]
  },
  {
   "cell_type": "code",
   "execution_count": 240,
   "metadata": {},
   "outputs": [
    {
     "data": {
      "text/html": [
       "<div>\n",
       "<style scoped>\n",
       "    .dataframe tbody tr th:only-of-type {\n",
       "        vertical-align: middle;\n",
       "    }\n",
       "\n",
       "    .dataframe tbody tr th {\n",
       "        vertical-align: top;\n",
       "    }\n",
       "\n",
       "    .dataframe thead th {\n",
       "        text-align: right;\n",
       "    }\n",
       "</style>\n",
       "<table border=\"1\" class=\"dataframe\">\n",
       "  <thead>\n",
       "    <tr style=\"text-align: right;\">\n",
       "      <th></th>\n",
       "      <th>count</th>\n",
       "      <th>mean</th>\n",
       "      <th>std</th>\n",
       "      <th>min</th>\n",
       "      <th>25%</th>\n",
       "      <th>50%</th>\n",
       "      <th>75%</th>\n",
       "      <th>max</th>\n",
       "      <th>IQR</th>\n",
       "      <th>cutoff</th>\n",
       "      <th>lw</th>\n",
       "      <th>rw</th>\n",
       "    </tr>\n",
       "  </thead>\n",
       "  <tbody>\n",
       "    <tr>\n",
       "      <th>Channel</th>\n",
       "      <td>440.00</td>\n",
       "      <td>1.32</td>\n",
       "      <td>0.47</td>\n",
       "      <td>1.00</td>\n",
       "      <td>1.00</td>\n",
       "      <td>1.00</td>\n",
       "      <td>2.00</td>\n",
       "      <td>2.00</td>\n",
       "      <td>1.00</td>\n",
       "      <td>1.60</td>\n",
       "      <td>-0.60</td>\n",
       "      <td>3.60</td>\n",
       "    </tr>\n",
       "    <tr>\n",
       "      <th>Region</th>\n",
       "      <td>440.00</td>\n",
       "      <td>2.54</td>\n",
       "      <td>0.77</td>\n",
       "      <td>1.00</td>\n",
       "      <td>2.00</td>\n",
       "      <td>3.00</td>\n",
       "      <td>3.00</td>\n",
       "      <td>3.00</td>\n",
       "      <td>1.00</td>\n",
       "      <td>1.60</td>\n",
       "      <td>0.40</td>\n",
       "      <td>4.60</td>\n",
       "    </tr>\n",
       "    <tr>\n",
       "      <th>Fresh</th>\n",
       "      <td>440.00</td>\n",
       "      <td>12000.30</td>\n",
       "      <td>12647.33</td>\n",
       "      <td>3.00</td>\n",
       "      <td>3127.75</td>\n",
       "      <td>8504.00</td>\n",
       "      <td>16933.75</td>\n",
       "      <td>112151.00</td>\n",
       "      <td>13806.00</td>\n",
       "      <td>22089.60</td>\n",
       "      <td>-18961.85</td>\n",
       "      <td>39023.35</td>\n",
       "    </tr>\n",
       "    <tr>\n",
       "      <th>Milk</th>\n",
       "      <td>440.00</td>\n",
       "      <td>5796.27</td>\n",
       "      <td>7380.38</td>\n",
       "      <td>55.00</td>\n",
       "      <td>1533.00</td>\n",
       "      <td>3627.00</td>\n",
       "      <td>7190.25</td>\n",
       "      <td>73498.00</td>\n",
       "      <td>5657.25</td>\n",
       "      <td>9051.60</td>\n",
       "      <td>-7518.60</td>\n",
       "      <td>16241.85</td>\n",
       "    </tr>\n",
       "    <tr>\n",
       "      <th>Grocery</th>\n",
       "      <td>440.00</td>\n",
       "      <td>7951.28</td>\n",
       "      <td>9503.16</td>\n",
       "      <td>3.00</td>\n",
       "      <td>2153.00</td>\n",
       "      <td>4755.50</td>\n",
       "      <td>10655.75</td>\n",
       "      <td>92780.00</td>\n",
       "      <td>8502.75</td>\n",
       "      <td>13604.40</td>\n",
       "      <td>-11451.40</td>\n",
       "      <td>24260.15</td>\n",
       "    </tr>\n",
       "    <tr>\n",
       "      <th>Frozen</th>\n",
       "      <td>440.00</td>\n",
       "      <td>3071.93</td>\n",
       "      <td>4854.67</td>\n",
       "      <td>25.00</td>\n",
       "      <td>742.25</td>\n",
       "      <td>1526.00</td>\n",
       "      <td>3554.25</td>\n",
       "      <td>60869.00</td>\n",
       "      <td>2812.00</td>\n",
       "      <td>4499.20</td>\n",
       "      <td>-3756.95</td>\n",
       "      <td>8053.45</td>\n",
       "    </tr>\n",
       "    <tr>\n",
       "      <th>Detergents_Paper</th>\n",
       "      <td>440.00</td>\n",
       "      <td>2881.49</td>\n",
       "      <td>4767.85</td>\n",
       "      <td>3.00</td>\n",
       "      <td>256.75</td>\n",
       "      <td>816.50</td>\n",
       "      <td>3922.00</td>\n",
       "      <td>40827.00</td>\n",
       "      <td>3665.25</td>\n",
       "      <td>5864.40</td>\n",
       "      <td>-5607.65</td>\n",
       "      <td>9786.40</td>\n",
       "    </tr>\n",
       "    <tr>\n",
       "      <th>Delicassen</th>\n",
       "      <td>440.00</td>\n",
       "      <td>1524.87</td>\n",
       "      <td>2820.11</td>\n",
       "      <td>3.00</td>\n",
       "      <td>408.25</td>\n",
       "      <td>965.50</td>\n",
       "      <td>1820.25</td>\n",
       "      <td>47943.00</td>\n",
       "      <td>1412.00</td>\n",
       "      <td>2259.20</td>\n",
       "      <td>-1850.95</td>\n",
       "      <td>4079.45</td>\n",
       "    </tr>\n",
       "  </tbody>\n",
       "</table>\n",
       "</div>"
      ],
      "text/plain": [
       "                  count     mean      std   min     25%     50%      75%  \\\n",
       "Channel          440.00     1.32     0.47  1.00    1.00    1.00     2.00   \n",
       "Region           440.00     2.54     0.77  1.00    2.00    3.00     3.00   \n",
       "Fresh            440.00 12000.30 12647.33  3.00 3127.75 8504.00 16933.75   \n",
       "Milk             440.00  5796.27  7380.38 55.00 1533.00 3627.00  7190.25   \n",
       "Grocery          440.00  7951.28  9503.16  3.00 2153.00 4755.50 10655.75   \n",
       "Frozen           440.00  3071.93  4854.67 25.00  742.25 1526.00  3554.25   \n",
       "Detergents_Paper 440.00  2881.49  4767.85  3.00  256.75  816.50  3922.00   \n",
       "Delicassen       440.00  1524.87  2820.11  3.00  408.25  965.50  1820.25   \n",
       "\n",
       "                       max      IQR   cutoff        lw       rw  \n",
       "Channel               2.00     1.00     1.60     -0.60     3.60  \n",
       "Region                3.00     1.00     1.60      0.40     4.60  \n",
       "Fresh            112151.00 13806.00 22089.60 -18961.85 39023.35  \n",
       "Milk              73498.00  5657.25  9051.60  -7518.60 16241.85  \n",
       "Grocery           92780.00  8502.75 13604.40 -11451.40 24260.15  \n",
       "Frozen            60869.00  2812.00  4499.20  -3756.95  8053.45  \n",
       "Detergents_Paper  40827.00  3665.25  5864.40  -5607.65  9786.40  \n",
       "Delicassen        47943.00  1412.00  2259.20  -1850.95  4079.45  "
      ]
     },
     "execution_count": 240,
     "metadata": {},
     "output_type": "execute_result"
    }
   ],
   "source": [
    "# check for significant outliers\n",
    "pd.set_option('display.float_format', '{:.2f}'.format)\n",
    "summary = df.describe().T\n",
    "summary['IQR'] = summary['75%']-summary['25%']\n",
    "summary['cutoff']=summary.IQR*1.6\n",
    "summary['lw']=summary['25%']-summary.cutoff\n",
    "summary['rw']=summary['75%']+summary.cutoff\n",
    "summary"
   ]
  },
  {
   "cell_type": "code",
   "execution_count": 241,
   "metadata": {},
   "outputs": [
    {
     "data": {
      "text/plain": [
       "array([[<AxesSubplot:title={'center':'Channel'}>,\n",
       "        <AxesSubplot:title={'center':'Region'}>,\n",
       "        <AxesSubplot:title={'center':'Fresh'}>],\n",
       "       [<AxesSubplot:title={'center':'Milk'}>,\n",
       "        <AxesSubplot:title={'center':'Grocery'}>,\n",
       "        <AxesSubplot:title={'center':'Frozen'}>],\n",
       "       [<AxesSubplot:title={'center':'Detergents_Paper'}>,\n",
       "        <AxesSubplot:title={'center':'Delicassen'}>, <AxesSubplot:>]],\n",
       "      dtype=object)"
      ]
     },
     "execution_count": 241,
     "metadata": {},
     "output_type": "execute_result"
    },
    {
     "data": {
      "image/png": "[encoded data removed]",
      "text/plain": [
       "<Figure size 864x720 with 9 Axes>"
      ]
     },
     "metadata": {
      "needs_background": "light"
     },
     "output_type": "display_data"
    }
   ],
   "source": [
    "df.hist(bins = 40, figsize=(12,10))"
   ]
  },
  {
   "cell_type": "code",
   "execution_count": 242,
   "metadata": {},
   "outputs": [
    {
     "data": {
      "text/plain": [
       "Index(['Channel', 'Region', 'Fresh', 'Milk', 'Grocery', 'Frozen',\n",
       "       'Detergents_Paper', 'Delicassen'],\n",
       "      dtype='object')"
      ]
     },
     "execution_count": 242,
     "metadata": {},
     "output_type": "execute_result"
    }
   ],
   "source": [
    "df.columns"
   ]
  },
  {
   "cell_type": "code",
   "execution_count": 243,
   "metadata": {},
   "outputs": [
    {
     "data": {
      "text/plain": [
       "array([ 1338,  1776,  7844,  1788,  5185,  1451,   545,  2566,   750,\n",
       "        2098,  1744,   497,  2931,   602,  2168,   412,  1080,  4478,\n",
       "        3181,   501,  2124,   569,  4334, 16523,  5778,    57,   833,\n",
       "         518,  5206,   823,  2963,   985,   405,  1083,   395,   436,\n",
       "        4626,   714,   433,  2916,  5864,  2802,    46,    72,    65,\n",
       "        4985,  1452,  6465,  1476,  1163,  2162,   301,  1278,   224,\n",
       "        1333,  1130,  1340,  1282,  1603,   225,  2017,   964,  1295,\n",
       "        1145,  1423,    27,   834,  3095,   144,  1365, 14472,   181,\n",
       "         648,  1780,   975,   894,  1009,   167,  1653,   529,   156,\n",
       "        2342,   772,   120,  2944,   903, 14351,  3178,   360,  1117,\n",
       "        5130,  2698,   244,   709,   217,    63,   132,   323,  3029,\n",
       "        1838,  1386,  2498,   548,  1378,  1831,  1438,  1236,     3,\n",
       "        1647,  1519,  2708,  1561,  1266,   610,   222,  1160,   933,\n",
       "         635,  1136,   255,   860,   143,  1621,   918,   483,  2749,\n",
       "        1819,   911,   310,   328,   396,   537,   326,  1542,    36,\n",
       "        3271,   929,  2616,  1450,   318,   201,  4430,   520,   526,\n",
       "         434,  1440,  1067,  1774,   184,  1627,     8,  2153,  3182,\n",
       "         418,  1682,   303,  2157,  2233,   446,   238,  2379,  3637,\n",
       "         693,   429,  6250,   707,   716,  1442,  1697,   230,  2631,\n",
       "        2165,  2794,  8550, 47943,    11,   247,   727,   404,  1856,\n",
       "          64,    84,   409,   666,  1142,  1755,  2876,  1468,   697,\n",
       "         347,   731,  1681,  6854,    18,  1328,   710,   285,   806,\n",
       "         797,  2100,  2870,  1775,  1215,   791,  2388,   674,  1158,\n",
       "        6372,   130,   749,   239,   375,  1360,   659,   786,  1553,\n",
       "         689,   203,   980,  2137,   490,     7,  2563,   295,   216,\n",
       "        2253,  2564,  1047,   578,  2398,  1970,  2784,   572,   291,\n",
       "        5121,  1693,  1391,  3265,   615,   373,   987,  3321,   818,\n",
       "         287,   655,   411,  1265,  3636,  3628,   698,   204,    56,\n",
       "        1550,  1040,  1824,  1153,   379,  2503,   139,  1409,  1721,\n",
       "        1104,  2079,  1404,  1384,  2406,   128,  1027,   258,    22,\n",
       "        1522,   686,  1060,   741,  1854,   254,   898,   531,  1037,\n",
       "         259,  2005,   172,   555,    59,  2410,   211,  1543,   925,\n",
       "         656,   117,   142,   297,  1233,  3508,  1059,  1637,    51,\n",
       "        1625,  1113,   229,   573,  1092,  5609,   522,  1534,   739,\n",
       "        1043,  1102,  2602,  3486,  2139,   778,   868,   550,  1942,\n",
       "        1371,  2158,    37,  1115,  1022,   665,   445,   995,  3137,\n",
       "         195,  1111,  2341,   127,   110,  4100,   776,   503,   712,\n",
       "         314,   468,  3105,   447,   342,   558,   296,  2235,   790,\n",
       "        4829,  3113,    70,  1426,  1242,  1114,   179,   270,   532,\n",
       "        2893,   361,  5120,  1068,   967,   961,   406,   684,  1000,\n",
       "        1827,   654,   819,   452,   290,  2213,   743,  1014,  1902,\n",
       "         340,   288,   715,   378,   960,   553,   344,  5137,  1892,\n",
       "        4365,    62,  2435,  1874,   993,  1063,  1521,  1393,  1784,\n",
       "        1218,   668,   249,  1886,  1894,   317,  2501,  2080,  1498,\n",
       "        1449,   838,  2204,  2346,  1867,  2125,    52], dtype=int64)"
      ]
     },
     "execution_count": 243,
     "metadata": {},
     "output_type": "execute_result"
    }
   ],
   "source": [
    "df.Delicassen.unique()"
   ]
  },
  {
   "cell_type": "code",
   "execution_count": null,
   "metadata": {},
   "outputs": [],
   "source": []
  },
  {
   "cell_type": "code",
   "execution_count": 244,
   "metadata": {},
   "outputs": [],
   "source": [
    "# Your observations here\n",
    "# Each column is a different type of product that customers bought. \n",
    "# Channel and region are categorical data as they only range from a few digits.  \n",
    "# The other columns appear to be more numerical about amounts bought for that item. "
   ]
  },
  {
   "cell_type": "markdown",
   "metadata": {},
   "source": [
    "# Challenge 2 - Data Cleaning and Transformation\n",
    "\n",
    "If your conclusion from the previous challenge is the data need cleaning/transformation, do it in the cells below. However, if your conclusion is the data need not be cleaned or transformed, feel free to skip this challenge. But if you do choose the latter, please provide rationale."
   ]
  },
  {
   "cell_type": "code",
   "execution_count": 245,
   "metadata": {},
   "outputs": [
    {
     "data": {
      "text/html": [
       "<div>\n",
       "<style scoped>\n",
       "    .dataframe tbody tr th:only-of-type {\n",
       "        vertical-align: middle;\n",
       "    }\n",
       "\n",
       "    .dataframe tbody tr th {\n",
       "        vertical-align: top;\n",
       "    }\n",
       "\n",
       "    .dataframe thead th {\n",
       "        text-align: right;\n",
       "    }\n",
       "</style>\n",
       "<table border=\"1\" class=\"dataframe\">\n",
       "  <thead>\n",
       "    <tr style=\"text-align: right;\">\n",
       "      <th></th>\n",
       "      <th>Channel</th>\n",
       "      <th>Region</th>\n",
       "      <th>Fresh</th>\n",
       "      <th>Milk</th>\n",
       "      <th>Grocery</th>\n",
       "      <th>Frozen</th>\n",
       "      <th>Detergents_Paper</th>\n",
       "      <th>Delicassen</th>\n",
       "    </tr>\n",
       "  </thead>\n",
       "  <tbody>\n",
       "    <tr>\n",
       "      <th>0</th>\n",
       "      <td>2</td>\n",
       "      <td>3</td>\n",
       "      <td>12669</td>\n",
       "      <td>9656</td>\n",
       "      <td>7561</td>\n",
       "      <td>214</td>\n",
       "      <td>2674</td>\n",
       "      <td>1338</td>\n",
       "    </tr>\n",
       "    <tr>\n",
       "      <th>1</th>\n",
       "      <td>2</td>\n",
       "      <td>3</td>\n",
       "      <td>7057</td>\n",
       "      <td>9810</td>\n",
       "      <td>9568</td>\n",
       "      <td>1762</td>\n",
       "      <td>3293</td>\n",
       "      <td>1776</td>\n",
       "    </tr>\n",
       "    <tr>\n",
       "      <th>2</th>\n",
       "      <td>2</td>\n",
       "      <td>3</td>\n",
       "      <td>6353</td>\n",
       "      <td>8808</td>\n",
       "      <td>7684</td>\n",
       "      <td>2405</td>\n",
       "      <td>3516</td>\n",
       "      <td>7844</td>\n",
       "    </tr>\n",
       "    <tr>\n",
       "      <th>3</th>\n",
       "      <td>1</td>\n",
       "      <td>3</td>\n",
       "      <td>13265</td>\n",
       "      <td>1196</td>\n",
       "      <td>4221</td>\n",
       "      <td>6404</td>\n",
       "      <td>507</td>\n",
       "      <td>1788</td>\n",
       "    </tr>\n",
       "    <tr>\n",
       "      <th>4</th>\n",
       "      <td>2</td>\n",
       "      <td>3</td>\n",
       "      <td>22615</td>\n",
       "      <td>5410</td>\n",
       "      <td>7198</td>\n",
       "      <td>3915</td>\n",
       "      <td>1777</td>\n",
       "      <td>5185</td>\n",
       "    </tr>\n",
       "    <tr>\n",
       "      <th>...</th>\n",
       "      <td>...</td>\n",
       "      <td>...</td>\n",
       "      <td>...</td>\n",
       "      <td>...</td>\n",
       "      <td>...</td>\n",
       "      <td>...</td>\n",
       "      <td>...</td>\n",
       "      <td>...</td>\n",
       "    </tr>\n",
       "    <tr>\n",
       "      <th>435</th>\n",
       "      <td>1</td>\n",
       "      <td>3</td>\n",
       "      <td>29703</td>\n",
       "      <td>12051</td>\n",
       "      <td>16027</td>\n",
       "      <td>13135</td>\n",
       "      <td>182</td>\n",
       "      <td>2204</td>\n",
       "    </tr>\n",
       "    <tr>\n",
       "      <th>436</th>\n",
       "      <td>1</td>\n",
       "      <td>3</td>\n",
       "      <td>39228</td>\n",
       "      <td>1431</td>\n",
       "      <td>764</td>\n",
       "      <td>4510</td>\n",
       "      <td>93</td>\n",
       "      <td>2346</td>\n",
       "    </tr>\n",
       "    <tr>\n",
       "      <th>437</th>\n",
       "      <td>2</td>\n",
       "      <td>3</td>\n",
       "      <td>14531</td>\n",
       "      <td>15488</td>\n",
       "      <td>30243</td>\n",
       "      <td>437</td>\n",
       "      <td>14841</td>\n",
       "      <td>1867</td>\n",
       "    </tr>\n",
       "    <tr>\n",
       "      <th>438</th>\n",
       "      <td>1</td>\n",
       "      <td>3</td>\n",
       "      <td>10290</td>\n",
       "      <td>1981</td>\n",
       "      <td>2232</td>\n",
       "      <td>1038</td>\n",
       "      <td>168</td>\n",
       "      <td>2125</td>\n",
       "    </tr>\n",
       "    <tr>\n",
       "      <th>439</th>\n",
       "      <td>1</td>\n",
       "      <td>3</td>\n",
       "      <td>2787</td>\n",
       "      <td>1698</td>\n",
       "      <td>2510</td>\n",
       "      <td>65</td>\n",
       "      <td>477</td>\n",
       "      <td>52</td>\n",
       "    </tr>\n",
       "  </tbody>\n",
       "</table>\n",
       "<p>440 rows × 8 columns</p>\n",
       "</div>"
      ],
      "text/plain": [
       "     Channel  Region  Fresh   Milk  Grocery  Frozen  Detergents_Paper  \\\n",
       "0          2       3  12669   9656     7561     214              2674   \n",
       "1          2       3   7057   9810     9568    1762              3293   \n",
       "2          2       3   6353   8808     7684    2405              3516   \n",
       "3          1       3  13265   1196     4221    6404               507   \n",
       "4          2       3  22615   5410     7198    3915              1777   \n",
       "..       ...     ...    ...    ...      ...     ...               ...   \n",
       "435        1       3  29703  12051    16027   13135               182   \n",
       "436        1       3  39228   1431      764    4510                93   \n",
       "437        2       3  14531  15488    30243     437             14841   \n",
       "438        1       3  10290   1981     2232    1038               168   \n",
       "439        1       3   2787   1698     2510      65               477   \n",
       "\n",
       "     Delicassen  \n",
       "0          1338  \n",
       "1          1776  \n",
       "2          7844  \n",
       "3          1788  \n",
       "4          5185  \n",
       "..          ...  \n",
       "435        2204  \n",
       "436        2346  \n",
       "437        1867  \n",
       "438        2125  \n",
       "439          52  \n",
       "\n",
       "[440 rows x 8 columns]"
      ]
     },
     "execution_count": 245,
     "metadata": {},
     "output_type": "execute_result"
    }
   ],
   "source": [
    "df"
   ]
  },
  {
   "cell_type": "code",
   "execution_count": 246,
   "metadata": {},
   "outputs": [
    {
     "data": {
      "text/html": [
       "<div>\n",
       "<style scoped>\n",
       "    .dataframe tbody tr th:only-of-type {\n",
       "        vertical-align: middle;\n",
       "    }\n",
       "\n",
       "    .dataframe tbody tr th {\n",
       "        vertical-align: top;\n",
       "    }\n",
       "\n",
       "    .dataframe thead th {\n",
       "        text-align: right;\n",
       "    }\n",
       "</style>\n",
       "<table border=\"1\" class=\"dataframe\">\n",
       "  <thead>\n",
       "    <tr style=\"text-align: right;\">\n",
       "      <th></th>\n",
       "      <th>Channel</th>\n",
       "      <th>Region</th>\n",
       "      <th>Fresh</th>\n",
       "      <th>Milk</th>\n",
       "      <th>Grocery</th>\n",
       "      <th>Frozen</th>\n",
       "      <th>Detergents_Paper</th>\n",
       "      <th>Delicassen</th>\n",
       "    </tr>\n",
       "  </thead>\n",
       "  <tbody>\n",
       "    <tr>\n",
       "      <th>0</th>\n",
       "      <td>2</td>\n",
       "      <td>3</td>\n",
       "      <td>9.45</td>\n",
       "      <td>9.18</td>\n",
       "      <td>8.93</td>\n",
       "      <td>5.37</td>\n",
       "      <td>7.89</td>\n",
       "      <td>7.20</td>\n",
       "    </tr>\n",
       "    <tr>\n",
       "      <th>1</th>\n",
       "      <td>2</td>\n",
       "      <td>3</td>\n",
       "      <td>8.86</td>\n",
       "      <td>9.19</td>\n",
       "      <td>9.17</td>\n",
       "      <td>7.47</td>\n",
       "      <td>8.10</td>\n",
       "      <td>7.48</td>\n",
       "    </tr>\n",
       "    <tr>\n",
       "      <th>2</th>\n",
       "      <td>2</td>\n",
       "      <td>3</td>\n",
       "      <td>8.76</td>\n",
       "      <td>9.08</td>\n",
       "      <td>8.95</td>\n",
       "      <td>7.79</td>\n",
       "      <td>8.17</td>\n",
       "      <td>8.97</td>\n",
       "    </tr>\n",
       "    <tr>\n",
       "      <th>3</th>\n",
       "      <td>1</td>\n",
       "      <td>3</td>\n",
       "      <td>9.49</td>\n",
       "      <td>7.09</td>\n",
       "      <td>8.35</td>\n",
       "      <td>8.76</td>\n",
       "      <td>6.23</td>\n",
       "      <td>7.49</td>\n",
       "    </tr>\n",
       "    <tr>\n",
       "      <th>4</th>\n",
       "      <td>2</td>\n",
       "      <td>3</td>\n",
       "      <td>10.03</td>\n",
       "      <td>8.60</td>\n",
       "      <td>8.88</td>\n",
       "      <td>8.27</td>\n",
       "      <td>7.48</td>\n",
       "      <td>8.55</td>\n",
       "    </tr>\n",
       "  </tbody>\n",
       "</table>\n",
       "</div>"
      ],
      "text/plain": [
       "   Channel  Region  Fresh  Milk  Grocery  Frozen  Detergents_Paper  Delicassen\n",
       "0        2       3   9.45  9.18     8.93    5.37              7.89        7.20\n",
       "1        2       3   8.86  9.19     9.17    7.47              8.10        7.48\n",
       "2        2       3   8.76  9.08     8.95    7.79              8.17        8.97\n",
       "3        1       3   9.49  7.09     8.35    8.76              6.23        7.49\n",
       "4        2       3  10.03  8.60     8.88    8.27              7.48        8.55"
      ]
     },
     "execution_count": 246,
     "metadata": {},
     "output_type": "execute_result"
    }
   ],
   "source": [
    "# normal distribution\n",
    "df.iloc[:, 2:]=df.iloc[:, 2:].applymap(np.log)\n",
    "df.head()"
   ]
  },
  {
   "cell_type": "code",
   "execution_count": 247,
   "metadata": {},
   "outputs": [],
   "source": [
    "# Your comment here"
   ]
  },
  {
   "cell_type": "markdown",
   "metadata": {},
   "source": [
    "# Challenge 3 - Data Preprocessing\n",
    "\n",
    "One problem with the dataset is the value ranges are remarkably different across various categories (e.g. `Fresh` and `Grocery` compared to `Detergents_Paper` and `Delicassen`). If you made this observation in the first challenge, you've done a great job! This means you not only completed the bonus questions in the previous Supervised Learning lab but also researched deep into [*feature scaling*](https://en.wikipedia.org/wiki/Feature_scaling). Keep on the good work!\n",
    "\n",
    "Diverse value ranges in different features could cause issues in our clustering. The way to reduce the problem is through feature scaling. We'll use this technique again with this dataset.\n",
    "\n",
    "#### We will use the `StandardScaler` from `sklearn.preprocessing` and scale our data. Read more about `StandardScaler` [here](https://scikit-learn.org/stable/modules/generated/sklearn.preprocessing.StandardScaler.html#sklearn.preprocessing.StandardScaler).\n",
    "\n",
    "*After scaling your data, assign the transformed data to a new variable `customers_scale`.*"
   ]
  },
  {
   "cell_type": "code",
   "execution_count": 264,
   "metadata": {},
   "outputs": [
    {
     "data": {
      "text/html": [
       "<div>\n",
       "<style scoped>\n",
       "    .dataframe tbody tr th:only-of-type {\n",
       "        vertical-align: middle;\n",
       "    }\n",
       "\n",
       "    .dataframe tbody tr th {\n",
       "        vertical-align: top;\n",
       "    }\n",
       "\n",
       "    .dataframe thead th {\n",
       "        text-align: right;\n",
       "    }\n",
       "</style>\n",
       "<table border=\"1\" class=\"dataframe\">\n",
       "  <thead>\n",
       "    <tr style=\"text-align: right;\">\n",
       "      <th></th>\n",
       "      <th>0</th>\n",
       "      <th>1</th>\n",
       "      <th>2</th>\n",
       "      <th>3</th>\n",
       "      <th>4</th>\n",
       "      <th>5</th>\n",
       "      <th>6</th>\n",
       "      <th>7</th>\n",
       "    </tr>\n",
       "  </thead>\n",
       "  <tbody>\n",
       "    <tr>\n",
       "      <th>0</th>\n",
       "      <td>0.48</td>\n",
       "      <td>0.98</td>\n",
       "      <td>0.44</td>\n",
       "      <td>-1.51</td>\n",
       "      <td>0.64</td>\n",
       "      <td>0.41</td>\n",
       "      <td>-1.15</td>\n",
       "      <td>-0.11</td>\n",
       "    </tr>\n",
       "    <tr>\n",
       "      <th>1</th>\n",
       "      <td>0.09</td>\n",
       "      <td>0.99</td>\n",
       "      <td>0.65</td>\n",
       "      <td>0.13</td>\n",
       "      <td>0.76</td>\n",
       "      <td>0.62</td>\n",
       "      <td>0.09</td>\n",
       "      <td>9.33</td>\n",
       "    </tr>\n",
       "    <tr>\n",
       "      <th>2</th>\n",
       "      <td>0.02</td>\n",
       "      <td>0.89</td>\n",
       "      <td>0.45</td>\n",
       "      <td>0.38</td>\n",
       "      <td>0.80</td>\n",
       "      <td>1.76</td>\n",
       "      <td>-1.15</td>\n",
       "      <td>-0.11</td>\n",
       "    </tr>\n",
       "    <tr>\n",
       "      <th>3</th>\n",
       "      <td>0.52</td>\n",
       "      <td>-0.96</td>\n",
       "      <td>-0.08</td>\n",
       "      <td>1.14</td>\n",
       "      <td>-0.32</td>\n",
       "      <td>0.63</td>\n",
       "      <td>-0.32</td>\n",
       "      <td>-0.11</td>\n",
       "    </tr>\n",
       "    <tr>\n",
       "      <th>4</th>\n",
       "      <td>0.88</td>\n",
       "      <td>0.44</td>\n",
       "      <td>0.40</td>\n",
       "      <td>0.76</td>\n",
       "      <td>0.41</td>\n",
       "      <td>1.44</td>\n",
       "      <td>-0.32</td>\n",
       "      <td>-0.11</td>\n",
       "    </tr>\n",
       "    <tr>\n",
       "      <th>...</th>\n",
       "      <td>...</td>\n",
       "      <td>...</td>\n",
       "      <td>...</td>\n",
       "      <td>...</td>\n",
       "      <td>...</td>\n",
       "      <td>...</td>\n",
       "      <td>...</td>\n",
       "      <td>...</td>\n",
       "    </tr>\n",
       "    <tr>\n",
       "      <th>435</th>\n",
       "      <td>1.06</td>\n",
       "      <td>1.18</td>\n",
       "      <td>1.11</td>\n",
       "      <td>1.70</td>\n",
       "      <td>-0.92</td>\n",
       "      <td>0.79</td>\n",
       "      <td>-0.32</td>\n",
       "      <td>-0.11</td>\n",
       "    </tr>\n",
       "    <tr>\n",
       "      <th>436</th>\n",
       "      <td>1.25</td>\n",
       "      <td>-0.79</td>\n",
       "      <td>-1.62</td>\n",
       "      <td>0.87</td>\n",
       "      <td>-1.31</td>\n",
       "      <td>0.84</td>\n",
       "      <td>-0.74</td>\n",
       "      <td>-0.11</td>\n",
       "    </tr>\n",
       "    <tr>\n",
       "      <th>437</th>\n",
       "      <td>0.58</td>\n",
       "      <td>1.41</td>\n",
       "      <td>1.68</td>\n",
       "      <td>-0.95</td>\n",
       "      <td>1.64</td>\n",
       "      <td>0.66</td>\n",
       "      <td>-1.15</td>\n",
       "      <td>-0.11</td>\n",
       "    </tr>\n",
       "    <tr>\n",
       "      <th>438</th>\n",
       "      <td>0.34</td>\n",
       "      <td>-0.49</td>\n",
       "      <td>-0.66</td>\n",
       "      <td>-0.28</td>\n",
       "      <td>-0.97</td>\n",
       "      <td>0.76</td>\n",
       "      <td>-0.74</td>\n",
       "      <td>-0.11</td>\n",
       "    </tr>\n",
       "    <tr>\n",
       "      <th>439</th>\n",
       "      <td>-0.54</td>\n",
       "      <td>-0.63</td>\n",
       "      <td>-0.55</td>\n",
       "      <td>-2.44</td>\n",
       "      <td>-0.36</td>\n",
       "      <td>-2.07</td>\n",
       "      <td>0.51</td>\n",
       "      <td>-0.11</td>\n",
       "    </tr>\n",
       "  </tbody>\n",
       "</table>\n",
       "<p>440 rows × 8 columns</p>\n",
       "</div>"
      ],
      "text/plain": [
       "        0     1     2     3     4     5     6     7\n",
       "0    0.48  0.98  0.44 -1.51  0.64  0.41 -1.15 -0.11\n",
       "1    0.09  0.99  0.65  0.13  0.76  0.62  0.09  9.33\n",
       "2    0.02  0.89  0.45  0.38  0.80  1.76 -1.15 -0.11\n",
       "3    0.52 -0.96 -0.08  1.14 -0.32  0.63 -0.32 -0.11\n",
       "4    0.88  0.44  0.40  0.76  0.41  1.44 -0.32 -0.11\n",
       "..    ...   ...   ...   ...   ...   ...   ...   ...\n",
       "435  1.06  1.18  1.11  1.70 -0.92  0.79 -0.32 -0.11\n",
       "436  1.25 -0.79 -1.62  0.87 -1.31  0.84 -0.74 -0.11\n",
       "437  0.58  1.41  1.68 -0.95  1.64  0.66 -1.15 -0.11\n",
       "438  0.34 -0.49 -0.66 -0.28 -0.97  0.76 -0.74 -0.11\n",
       "439 -0.54 -0.63 -0.55 -2.44 -0.36 -2.07  0.51 -0.11\n",
       "\n",
       "[440 rows x 8 columns]"
      ]
     },
     "execution_count": 264,
     "metadata": {},
     "output_type": "execute_result"
    }
   ],
   "source": [
    "# Your import here:\n",
    "\n",
    "from sklearn.preprocessing import StandardScaler\n",
    "\n",
    "# Your code here:\n",
    "scaler = StandardScaler()\n",
    "customers_scale = scaler.fit_transform(df.iloc[:, 2:])\n",
    "customers_scale = pd.DataFrame(customers_scale)\n",
    "customers_scale"
   ]
  },
  {
   "cell_type": "markdown",
   "metadata": {},
   "source": [
    "# Challenge 3 - Data Clustering with K-Means\n",
    "\n",
    "Now let's cluster the data with K-Means first. Initiate the K-Means model, then fit your scaled data. In the data returned from the `.fit` method, there is an attribute called `labels_` which is the cluster number assigned to each data record. What you can do is to assign these labels back to `customers` in a new column called `customers['labels']`. Then you'll see the cluster results of the original data."
   ]
  },
  {
   "cell_type": "code",
   "execution_count": 249,
   "metadata": {},
   "outputs": [],
   "source": [
    "from sklearn.cluster import KMeans"
   ]
  },
  {
   "cell_type": "code",
   "execution_count": 257,
   "metadata": {},
   "outputs": [
    {
     "data": {
      "text/plain": [
       "array([0, 3, 0, 2, 2, 0, 5, 3, 5, 0, 0, 1, 0, 0, 0, 5, 7, 5, 0, 5, 5, 1,\n",
       "       2, 0, 0, 4, 1, 1, 0, 1, 0, 5, 5, 2, 5, 7, 2, 0, 7, 2, 2, 2, 4, 4,\n",
       "       4, 0, 0, 0, 0, 0, 1, 7, 5, 7, 1, 5, 0, 7, 1, 5, 4, 0, 0, 0, 1, 7,\n",
       "       4, 0, 2, 5, 2, 2, 1, 2, 3, 6, 2, 0, 1, 5, 5, 7, 0, 1, 5, 0, 0, 2,\n",
       "       6, 2, 6, 2, 0, 2, 7, 7, 7, 6, 6, 1, 0, 0, 0, 2, 5, 1, 7, 0, 7, 4,\n",
       "       1, 0, 2, 1, 1, 1, 1, 5, 2, 1, 1, 1, 6, 0, 2, 2, 1, 0, 4, 1, 1, 6,\n",
       "       5, 1, 1, 1, 0, 4, 5, 5, 2, 5, 4, 1, 5, 0, 1, 5, 6, 1, 1, 5, 1, 5,\n",
       "       6, 0, 0, 1, 0, 7, 0, 6, 1, 0, 0, 0, 0, 5, 6, 1, 7, 0, 7, 7, 5, 7,\n",
       "       2, 2, 5, 2, 0, 2, 7, 2, 4, 1, 6, 4, 0, 7, 1, 6, 5, 7, 1, 2, 2, 0,\n",
       "       1, 5, 0, 0, 2, 4, 1, 0, 6, 4, 5, 0, 1, 0, 1, 0, 0, 0, 7, 1, 7, 6,\n",
       "       1, 7, 1, 2, 6, 5, 0, 1, 6, 2, 2, 5, 5, 4, 2, 5, 1, 1, 6, 2, 2, 1,\n",
       "       1, 5, 3, 0, 1, 6, 5, 1, 1, 0, 2, 0, 2, 1, 5, 1, 2, 2, 5, 6, 1, 1,\n",
       "       7, 2, 0, 2, 0, 6, 6, 5, 7, 2, 5, 6, 2, 6, 2, 0, 5, 0, 2, 2, 2, 6,\n",
       "       1, 2, 6, 6, 5, 1, 5, 0, 5, 5, 1, 5, 0, 6, 0, 0, 7, 4, 7, 7, 0, 1,\n",
       "       5, 0, 2, 1, 4, 1, 5, 0, 1, 5, 1, 0, 5, 1, 1, 5, 1, 2, 1, 6, 2, 1,\n",
       "       1, 0, 1, 0, 2, 0, 1, 1, 6, 2, 7, 0, 7, 4, 1, 7, 0, 0, 5, 0, 1, 0,\n",
       "       6, 7, 2, 6, 6, 7, 2, 5, 1, 6, 5, 5, 1, 0, 1, 6, 1, 6, 2, 2, 5, 0,\n",
       "       1, 6, 0, 1, 5, 4, 1, 2, 2, 1, 2, 1, 5, 1, 6, 1, 1, 5, 5, 2, 1, 1,\n",
       "       0, 1, 6, 6, 1, 2, 5, 5, 2, 1, 2, 0, 5, 2, 5, 5, 7, 2, 1, 3, 0, 0,\n",
       "       7, 5, 7, 0, 5, 5, 5, 2, 0, 2, 5, 5, 5, 2, 5, 5, 5, 2, 1, 0, 1, 4])"
      ]
     },
     "execution_count": 257,
     "metadata": {},
     "output_type": "execute_result"
    }
   ],
   "source": [
    "# Your code here:\n",
    "km = KMeans()\n",
    "km.fit(customers_scale)\n",
    "\n",
    "y_pred = km.predict(customers_scale)\n",
    "y_pred"
   ]
  },
  {
   "cell_type": "code",
   "execution_count": 258,
   "metadata": {},
   "outputs": [],
   "source": [
    "df['labels'] = km.labels_"
   ]
  },
  {
   "cell_type": "markdown",
   "metadata": {},
   "source": [
    "Count the values in `labels`."
   ]
  },
  {
   "cell_type": "code",
   "execution_count": 259,
   "metadata": {},
   "outputs": [
    {
     "data": {
      "text/plain": [
       "1    97\n",
       "0    92\n",
       "5    77\n",
       "2    72\n",
       "6    40\n",
       "7    37\n",
       "4    20\n",
       "3     5\n",
       "Name: labels, dtype: int64"
      ]
     },
     "execution_count": 259,
     "metadata": {},
     "output_type": "execute_result"
    }
   ],
   "source": [
    "# Your code here:\n",
    "df['labels'].value_counts()"
   ]
  },
  {
   "cell_type": "code",
   "execution_count": null,
   "metadata": {},
   "outputs": [],
   "source": []
  },
  {
   "cell_type": "markdown",
   "metadata": {},
   "source": [
    "# Challenge 4 - Data Clustering with DBSCAN\n",
    "\n",
    "Now let's cluster the data using DBSCAN. Use `DBSCAN(eps=0.5)` to initiate the model, then fit your scaled data. In the data returned from the `.fit` method, assign the `labels_` back to `customers['labels_DBSCAN']`. Now your original data have two labels, one from K-Means and the other from DBSCAN."
   ]
  },
  {
   "cell_type": "code",
   "execution_count": 260,
   "metadata": {
    "scrolled": true
   },
   "outputs": [],
   "source": [
    "# Your code here\n",
    "from sklearn.cluster import DBSCAN\n",
    "\n",
    "dbscan = DBSCAN(eps=0.5)\n",
    "dbscan.fit(customers_scale)\n",
    "\n",
    "df['labels_DBSCAN'] = dbscan.labels_"
   ]
  },
  {
   "cell_type": "markdown",
   "metadata": {},
   "source": [
    "Count the values in `labels_DBSCAN`."
   ]
  },
  {
   "cell_type": "code",
   "execution_count": 263,
   "metadata": {},
   "outputs": [
    {
     "data": {
      "text/plain": [
       "-1    435\n",
       " 0      5\n",
       "Name: labels_DBSCAN, dtype: int64"
      ]
     },
     "execution_count": 263,
     "metadata": {},
     "output_type": "execute_result"
    }
   ],
   "source": [
    "# Your code here\n",
    "df['labels_DBSCAN'].value_counts()"
   ]
  },
  {
   "cell_type": "markdown",
   "metadata": {},
   "source": [
    "# Challenge 5 - Compare K-Means with DBSCAN\n",
    "\n",
    "Now we want to visually compare how K-Means and DBSCAN have clustered our data. We will create scatter plots for several columns. For each of the following column pairs, plot a scatter plot using `labels` and another using `labels_DBSCAN`. Put them side by side to compare. Which clustering algorithm makes better sense?\n",
    "\n",
    "Columns to visualize:\n",
    "\n",
    "* `Detergents_Paper` as X and `Milk` as y\n",
    "* `Grocery` as X and `Fresh` as y\n",
    "* `Frozen` as X and `Delicassen` as y"
   ]
  },
  {
   "cell_type": "markdown",
   "metadata": {},
   "source": [
    "Visualize `Detergents_Paper` as X and `Milk` as y by `labels` and `labels_DBSCAN` respectively"
   ]
  },
  {
   "cell_type": "code",
   "execution_count": 116,
   "metadata": {},
   "outputs": [],
   "source": [
    "from sklearn.datasets import make_moons, make_blobs\n",
    "from sklearn.cluster import AgglomerativeClustering, KMeans"
   ]
  },
  {
   "cell_type": "code",
   "execution_count": 126,
   "metadata": {},
   "outputs": [
    {
     "data": {
      "text/plain": [
       "<AxesSubplot:xlabel='Detergents_Paper', ylabel='Milk'>"
      ]
     },
     "execution_count": 126,
     "metadata": {},
     "output_type": "execute_result"
    },
    {
     "data": {
      "image/png": "[encoded data removed]",
      "text/plain": [
       "<Figure size 432x288 with 1 Axes>"
      ]
     },
     "metadata": {
      "needs_background": "light"
     },
     "output_type": "display_data"
    }
   ],
   "source": [
    "# Your code here:\n",
    "sns.scatterplot(data = df, x='Detergents_Paper', y='Milk', hue='labels')"
   ]
  },
  {
   "cell_type": "markdown",
   "metadata": {},
   "source": [
    "Visualize `Grocery` as X and `Fresh` as y by `labels` and `labels_DBSCAN` respectively"
   ]
  },
  {
   "cell_type": "code",
   "execution_count": null,
   "metadata": {},
   "outputs": [],
   "source": [
    "# Your code here:\n"
   ]
  },
  {
   "cell_type": "markdown",
   "metadata": {},
   "source": [
    "Visualize `Frozen` as X and `Delicassen` as y by `labels` and `labels_DBSCAN` respectively"
   ]
  },
  {
   "cell_type": "code",
   "execution_count": null,
   "metadata": {},
   "outputs": [],
   "source": [
    "# Your code here:"
   ]
  },
  {
   "cell_type": "markdown",
   "metadata": {},
   "source": [
    "Let's use a groupby to see how the mean differs between the groups. Group `customers` by `labels` and `labels_DBSCAN` respectively and compute the means for all columns."
   ]
  },
  {
   "cell_type": "code",
   "execution_count": null,
   "metadata": {},
   "outputs": [],
   "source": [
    "# Your code here:\n"
   ]
  },
  {
   "cell_type": "markdown",
   "metadata": {},
   "source": [
    "Which algorithm appears to perform better?"
   ]
  },
  {
   "cell_type": "code",
   "execution_count": null,
   "metadata": {},
   "outputs": [],
   "source": [
    "# Your observations here"
   ]
  },
  {
   "cell_type": "markdown",
   "metadata": {},
   "source": [
    "# Bonus Challenge 2 - Changing K-Means Number of Clusters\n",
    "\n",
    "As we mentioned earlier, we don't need to worry about the number of clusters with DBSCAN because it automatically decides that based on the parameters we send to it. But with K-Means, we have to supply the `n_clusters` param (if you don't supply `n_clusters`, the algorithm will use `8` by default). You need to know that the optimal number of clusters differs case by case based on the dataset. K-Means can perform badly if the wrong number of clusters is used.\n",
    "\n",
    "In advanced machine learning, data scientists try different numbers of clusters and evaluate the results with statistical measures (read [here](https://en.wikipedia.org/wiki/Cluster_analysis#External_evaluation)). We are not using statistical measures today but we'll use our eyes instead. In the cells below, experiment with different number of clusters and visualize with scatter plots. What number of clusters seems to work best for K-Means?"
   ]
  },
  {
   "cell_type": "code",
   "execution_count": null,
   "metadata": {},
   "outputs": [],
   "source": [
    "# look at it visually \n",
    "# Your code here"
   ]
  },
  {
   "cell_type": "code",
   "execution_count": null,
   "metadata": {},
   "outputs": [],
   "source": [
    "# Your comment here"
   ]
  },
  {
   "cell_type": "markdown",
   "metadata": {},
   "source": [
    "# Bonus Challenge 3 - Changing DBSCAN `eps` and `min_samples`\n",
    "\n",
    "Experiment changing the `eps` and `min_samples` params for DBSCAN. See how the results differ with scatter plot visualization."
   ]
  },
  {
   "cell_type": "code",
   "execution_count": null,
   "metadata": {},
   "outputs": [],
   "source": [
    "# Your code here"
   ]
  },
  {
   "cell_type": "code",
   "execution_count": null,
   "metadata": {},
   "outputs": [],
   "source": [
    "# Your comment here"
   ]
  }
 ],
 "metadata": {
  "kernelspec": {
   "display_name": "Python 3",
   "language": "python",
   "name": "python3"
  },
  "language_info": {
   "codemirror_mode": {
    "name": "ipython",
    "version": 3
   },
   "file_extension": ".py",
   "mimetype": "text/x-python",
   "name": "python",
   "nbconvert_exporter": "python",
   "pygments_lexer": "ipython3",
   "version": "3.8.8"
  }
 },
 "nbformat": 4,
 "nbformat_minor": 2
}
