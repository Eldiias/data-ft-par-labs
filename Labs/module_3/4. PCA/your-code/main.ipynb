{
 "cells": [
  {
   "cell_type": "markdown",
   "metadata": {},
   "source": [
    "# Before your start:\n",
    "- Read the README.md file\n",
    "- Comment as much as you can and use the resources (README.md file)\n",
    "- Happy learning!"
   ]
  },
  {
   "cell_type": "code",
   "execution_count": 1,
   "metadata": {},
   "outputs": [],
   "source": [
    "# Run this code:\n",
    "\n",
    "%matplotlib inline\n",
    "\n",
    "import matplotlib.pyplot as plt"
   ]
  },
  {
   "cell_type": "code",
   "execution_count": 2,
   "metadata": {},
   "outputs": [],
   "source": [
    "# Import numpy and pandas:\n",
    "import numpy as np\n",
    "import pandas as pd"
   ]
  },
  {
   "cell_type": "markdown",
   "metadata": {},
   "source": [
    "# Challenge 1 - Reading and Standardizing the Data\n",
    "\n",
    "In this challenge we will work with image data and reduce the dimensions of the data to create a 2 dimensional plot. While we have not worked much with image data before, it can be represented as a numpy array where each pixel is assigned a numeric value. In this lesson, we will look at a dataset of cats and a dataset of dogs and see whether reducing them to two dimensions allows us to see if the data is separable. We will start by loading and processing the data. Run the cell below to load the two csv files and convert them into numpy arrays."
   ]
  },
  {
   "cell_type": "code",
   "execution_count": 3,
   "metadata": {},
   "outputs": [],
   "source": [
    "# Run this code\n",
    "\n",
    "cats = np.array(pd.read_csv(\"https://raw.githubusercontent.com/bioramble/pca/master/cat.csv\", header=None))\n",
    "dogs = np.array(pd.read_csv(\"https://raw.githubusercontent.com/bioramble/pca/master/dog.csv\", header=None))"
   ]
  },
  {
   "cell_type": "markdown",
   "metadata": {},
   "source": [
    "Next, we'll examine the shape of both the cats and the dogs arrays. Print out both shapes below."
   ]
  },
  {
   "cell_type": "code",
   "execution_count": 4,
   "metadata": {},
   "outputs": [
    {
     "name": "stdout",
     "output_type": "stream",
     "text": [
      "(4096, 80)\n",
      "(4096, 80)\n"
     ]
    }
   ],
   "source": [
    "# Your code here:\n",
    "\n",
    "print(cats.shape)\n",
    "print(dogs.shape)"
   ]
  },
  {
   "cell_type": "markdown",
   "metadata": {},
   "source": [
    "What this means is that both arrays contain 80 images each (the number of columns). Each image is comprised of 64x64 pixels (so a total of 4096 pixels per image). The images have been flattened such that all 4096 are in a single row.\n",
    "\n",
    "Print out column 0 of the cats array to see what the pixels values look like."
   ]
  },
  {
   "cell_type": "code",
   "execution_count": 5,
   "metadata": {},
   "outputs": [
    {
     "data": {
      "text/plain": [
       "array([64, 64, 64, ..., 64, 64, 61])"
      ]
     },
     "execution_count": 5,
     "metadata": {},
     "output_type": "execute_result"
    }
   ],
   "source": [
    "# Your code here:\n",
    "\n",
    "cats[:, 0]"
   ]
  },
  {
   "cell_type": "markdown",
   "metadata": {},
   "source": [
    "Using `matplotlib` we can plot a single cat or a single dog. We do this by reshaping the vector back to a 64x64 image and then using the `imshow` function.\n",
    "\n",
    "Run the code below to look at the first dog and the first cat."
   ]
  },
  {
   "cell_type": "code",
   "execution_count": 6,
   "metadata": {},
   "outputs": [
    {
     "data": {
      "text/plain": [
       "<matplotlib.image.AxesImage at 0x7ff50f55f950>"
      ]
     },
     "execution_count": 6,
     "metadata": {},
     "output_type": "execute_result"
    },
    {
     "data": {
      "image/png": "[encoded data removed]",
      "text/plain": [
       "<Figure size 432x288 with 1 Axes>"
      ]
     },
     "metadata": {
      "needs_background": "light"
     },
     "output_type": "display_data"
    }
   ],
   "source": [
    "# Run this code:\n",
    "\n",
    "fig, ax = plt.subplots()\n",
    "ax.imshow(cats[:,0].reshape(64, 64).T, cmap=plt.cm.bone, interpolation='nearest') "
   ]
  },
  {
   "cell_type": "code",
   "execution_count": 7,
   "metadata": {},
   "outputs": [
    {
     "data": {
      "text/plain": [
       "<matplotlib.image.AxesImage at 0x7ff50f4078d0>"
      ]
     },
     "execution_count": 7,
     "metadata": {},
     "output_type": "execute_result"
    },
    {
     "data": {
      "image/png": "[encoded data removed]",
      "text/plain": [
       "<Figure size 432x288 with 1 Axes>"
      ]
     },
     "metadata": {
      "needs_background": "light"
     },
     "output_type": "display_data"
    }
   ],
   "source": [
    "# Run this code:\n",
    "\n",
    "fig, ax = plt.subplots()\n",
    "ax.imshow(dogs[:,0].reshape(64, 64).T, cmap=plt.cm.bone, interpolation='nearest') "
   ]
  },
  {
   "cell_type": "markdown",
   "metadata": {},
   "source": [
    "Next, we would like to create a standardization function. This function will find the mean and standard deviation of each image. We subtract the mean from each pixel and divide each pixel by the standard deviation. Write the function below.\n",
    "\n",
    "Hint: To find the mean and standard deviation of each image, use `numpy`'s version of mean and stadnard deviation and use `axis=0`."
   ]
  },
  {
   "cell_type": "code",
   "execution_count": 74,
   "metadata": {},
   "outputs": [],
   "source": [
    "def standardize(x):\n",
    "    #This function takes as input a numpy array and returns a stadardized numpy array of the same dimensions.\n",
    "    #Sample input: np.array([[1,2,3],[4,5,6]])\n",
    "    #Sample output: np.array([[-1,-1,-1],[1,1,1]])\n",
    "    \n",
    "    # Your code here:\n",
    "    \n",
    "    normal = (x - np.mean(x, axis=0))/np.std(x,axis=0)\n",
    "    return normal "
   ]
  },
  {
   "cell_type": "code",
   "execution_count": 75,
   "metadata": {},
   "outputs": [
    {
     "data": {
      "text/plain": [
       "array([[-1., -1., -1.],\n",
       "       [ 1.,  1.,  1.]])"
      ]
     },
     "execution_count": 75,
     "metadata": {},
     "output_type": "execute_result"
    }
   ],
   "source": [
    "standardize(np.array([[1,2,3],[4,5,6]]))"
   ]
  },
  {
   "cell_type": "markdown",
   "metadata": {},
   "source": [
    "Now, use the `np.concatenate` function to combine the cats and dogs arrays. Use `axis=1` to combine the two correctly. Make sure to put dogs first."
   ]
  },
  {
   "cell_type": "code",
   "execution_count": 76,
   "metadata": {},
   "outputs": [],
   "source": [
    "# Your code here:\n",
    "dogs_n_cats = np.concatenate((dogs, cats), axis=1)"
   ]
  },
  {
   "cell_type": "markdown",
   "metadata": {},
   "source": [
    "Standardize the concatenated array below."
   ]
  },
  {
   "cell_type": "code",
   "execution_count": 77,
   "metadata": {},
   "outputs": [
    {
     "data": {
      "text/plain": [
       "array([[ 2.37662907, -0.30753004,  0.93254857, ..., -1.80817356,\n",
       "         1.42293481, -0.20363951],\n",
       "       [ 2.37662907, -0.40500299,  1.15681724, ..., -2.06459792,\n",
       "         1.44036713, -0.05437635],\n",
       "       [ 2.37662907, -0.68349716,  0.93254857, ..., -1.73124626,\n",
       "         1.45779946, -0.07925354],\n",
       "       ...,\n",
       "       [ 0.22755315, -0.68349716,  0.63352369, ..., -0.65426398,\n",
       "         0.67334483,  0.11976401],\n",
       "       [ 0.22755315, -0.40500299,  0.35941754, ..., -0.32091232,\n",
       "         0.70820948, -0.45241144],\n",
       "       [ 0.22755315, -0.40500299,  0.35941754, ..., -0.67990641,\n",
       "         0.62104786,  0.09488681]])"
      ]
     },
     "execution_count": 77,
     "metadata": {},
     "output_type": "execute_result"
    }
   ],
   "source": [
    "# Your code here:\n",
    "dogs_n_cats_std = standardize(dogs_n_cats)\n",
    "dogs_n_cats_std"
   ]
  },
  {
   "cell_type": "markdown",
   "metadata": {},
   "source": [
    "# Challenge 2 - Using PCA\n",
    "\n",
    "Now that we have created a standardized matrix of cats and dogs, we'll find the two most important components in the data.\n",
    "\n",
    "Load the `PCA` function from `statsmodels` (read about this function [here](https://www.statsmodels.org/dev/generated/statsmodels.multivariate.pca.PCA.html)) and apply the function to our standarized data. Create a PCA model with two components."
   ]
  },
  {
   "cell_type": "code",
   "execution_count": 78,
   "metadata": {},
   "outputs": [],
   "source": [
    "# Your code here:\n",
    "from statsmodels.multivariate.pca import PCA\n",
    "pca = PCA(dogs_n_cats_std, ncomp=2)"
   ]
  },
  {
   "cell_type": "code",
   "execution_count": 79,
   "metadata": {},
   "outputs": [
    {
     "data": {
      "text/plain": [
       "Principal Component Analysis(nobs: 4096, nvar: 160, transformation: Standardize (Correlation), normalization: True, number of components: 2, SVD, id: 0x7ff4880bf890)"
      ]
     },
     "execution_count": 79,
     "metadata": {},
     "output_type": "execute_result"
    }
   ],
   "source": [
    "pca"
   ]
  },
  {
   "cell_type": "markdown",
   "metadata": {},
   "source": [
    "Use `numpy` to find to transpose the standardized pet array. This will help us compute the projection."
   ]
  },
  {
   "cell_type": "code",
   "execution_count": 80,
   "metadata": {},
   "outputs": [],
   "source": [
    "# Your code here:\n",
    "\n",
    "dogs_n_cats_trans = np.transpose(dogs_n_cats_std)"
   ]
  },
  {
   "cell_type": "markdown",
   "metadata": {},
   "source": [
    "Find the dot product of the transposed standardized pet matrix and the `factors` of the `PCA` model found above. This will be the projection onto 2 dimensions. This means that each cat and dog image will now only have two columns instead of 4096."
   ]
  },
  {
   "cell_type": "code",
   "execution_count": 81,
   "metadata": {},
   "outputs": [],
   "source": [
    "# Your code here:\n",
    "\n",
    "dogs_n_cats_dot = np.dot(dogs_n_cats_trans, pca.factors)"
   ]
  },
  {
   "cell_type": "markdown",
   "metadata": {},
   "source": [
    "# Challenge 3 - Plotting the Data\n",
    "\n",
    "Now that we have reduced our cats and dogs arrays, we can easily plot the data in a way that the human eye can understand. We can look at this plot to see whether there are differences between the cat and dog images. \n",
    "\n",
    "In the cell below, turn the two dimensional projection into a pandas dataframe and name the columns `pc1`, and `pc2` respectively."
   ]
  },
  {
   "cell_type": "code",
   "execution_count": 82,
   "metadata": {},
   "outputs": [
    {
     "data": {
      "text/plain": [
       "(160, 2)"
      ]
     },
     "execution_count": 82,
     "metadata": {},
     "output_type": "execute_result"
    }
   ],
   "source": [
    "# Your code here:\n",
    "\n",
    "df = pd.DataFrame(dogs_n_cats_dot, columns=['pc1', 'pc2'])\n",
    "df.shape"
   ]
  },
  {
   "cell_type": "markdown",
   "metadata": {},
   "source": [
    "Create a labels list. This list will be of size 160. The first 80 elements in the list will be the word `blue`, and the last 80 elements will be `red`. This will ensure that all dog observations will be colored in blue and all cats will be colored in red. Name this list `colors`."
   ]
  },
  {
   "cell_type": "code",
   "execution_count": 83,
   "metadata": {},
   "outputs": [],
   "source": [
    "# Your code here:\n",
    "\n",
    "# long alternative\n",
    "\n",
    "# colors = []\n",
    "# size = range(0,160)\n",
    "# for i in size:\n",
    "#     if i < 81:\n",
    "#         colors.append('blue')\n",
    "#     else:\n",
    "#         colors.append('red')"
   ]
  },
  {
   "cell_type": "code",
   "execution_count": 86,
   "metadata": {},
   "outputs": [],
   "source": [
    "colors = (['blue']*80)+(['red']*80)"
   ]
  },
  {
   "cell_type": "code",
   "execution_count": 87,
   "metadata": {
    "collapsed": true
   },
   "outputs": [
    {
     "data": {
      "text/plain": [
       "['blue',\n",
       " 'blue',\n",
       " 'blue',\n",
       " 'blue',\n",
       " 'blue',\n",
       " 'blue',\n",
       " 'blue',\n",
       " 'blue',\n",
       " 'blue',\n",
       " 'blue',\n",
       " 'blue',\n",
       " 'blue',\n",
       " 'blue',\n",
       " 'blue',\n",
       " 'blue',\n",
       " 'blue',\n",
       " 'blue',\n",
       " 'blue',\n",
       " 'blue',\n",
       " 'blue',\n",
       " 'blue',\n",
       " 'blue',\n",
       " 'blue',\n",
       " 'blue',\n",
       " 'blue',\n",
       " 'blue',\n",
       " 'blue',\n",
       " 'blue',\n",
       " 'blue',\n",
       " 'blue',\n",
       " 'blue',\n",
       " 'blue',\n",
       " 'blue',\n",
       " 'blue',\n",
       " 'blue',\n",
       " 'blue',\n",
       " 'blue',\n",
       " 'blue',\n",
       " 'blue',\n",
       " 'blue',\n",
       " 'blue',\n",
       " 'blue',\n",
       " 'blue',\n",
       " 'blue',\n",
       " 'blue',\n",
       " 'blue',\n",
       " 'blue',\n",
       " 'blue',\n",
       " 'blue',\n",
       " 'blue',\n",
       " 'blue',\n",
       " 'blue',\n",
       " 'blue',\n",
       " 'blue',\n",
       " 'blue',\n",
       " 'blue',\n",
       " 'blue',\n",
       " 'blue',\n",
       " 'blue',\n",
       " 'blue',\n",
       " 'blue',\n",
       " 'blue',\n",
       " 'blue',\n",
       " 'blue',\n",
       " 'blue',\n",
       " 'blue',\n",
       " 'blue',\n",
       " 'blue',\n",
       " 'blue',\n",
       " 'blue',\n",
       " 'blue',\n",
       " 'blue',\n",
       " 'blue',\n",
       " 'blue',\n",
       " 'blue',\n",
       " 'blue',\n",
       " 'blue',\n",
       " 'blue',\n",
       " 'blue',\n",
       " 'blue',\n",
       " 'red',\n",
       " 'red',\n",
       " 'red',\n",
       " 'red',\n",
       " 'red',\n",
       " 'red',\n",
       " 'red',\n",
       " 'red',\n",
       " 'red',\n",
       " 'red',\n",
       " 'red',\n",
       " 'red',\n",
       " 'red',\n",
       " 'red',\n",
       " 'red',\n",
       " 'red',\n",
       " 'red',\n",
       " 'red',\n",
       " 'red',\n",
       " 'red',\n",
       " 'red',\n",
       " 'red',\n",
       " 'red',\n",
       " 'red',\n",
       " 'red',\n",
       " 'red',\n",
       " 'red',\n",
       " 'red',\n",
       " 'red',\n",
       " 'red',\n",
       " 'red',\n",
       " 'red',\n",
       " 'red',\n",
       " 'red',\n",
       " 'red',\n",
       " 'red',\n",
       " 'red',\n",
       " 'red',\n",
       " 'red',\n",
       " 'red',\n",
       " 'red',\n",
       " 'red',\n",
       " 'red',\n",
       " 'red',\n",
       " 'red',\n",
       " 'red',\n",
       " 'red',\n",
       " 'red',\n",
       " 'red',\n",
       " 'red',\n",
       " 'red',\n",
       " 'red',\n",
       " 'red',\n",
       " 'red',\n",
       " 'red',\n",
       " 'red',\n",
       " 'red',\n",
       " 'red',\n",
       " 'red',\n",
       " 'red',\n",
       " 'red',\n",
       " 'red',\n",
       " 'red',\n",
       " 'red',\n",
       " 'red',\n",
       " 'red',\n",
       " 'red',\n",
       " 'red',\n",
       " 'red',\n",
       " 'red',\n",
       " 'red',\n",
       " 'red',\n",
       " 'red',\n",
       " 'red',\n",
       " 'red',\n",
       " 'red',\n",
       " 'red',\n",
       " 'red',\n",
       " 'red',\n",
       " 'red']"
      ]
     },
     "execution_count": 87,
     "metadata": {},
     "output_type": "execute_result"
    }
   ],
   "source": [
    "colors"
   ]
  },
  {
   "cell_type": "markdown",
   "metadata": {},
   "source": [
    "Create a scatter plot of `pc1` and `pc2` below. Use the `colors` list above to color the observations by setting `c=colors`."
   ]
  },
  {
   "cell_type": "code",
   "execution_count": 85,
   "metadata": {},
   "outputs": [
    {
     "data": {
      "text/plain": [
       "<matplotlib.collections.PathCollection at 0x7ff488ca3d50>"
      ]
     },
     "execution_count": 85,
     "metadata": {},
     "output_type": "execute_result"
    },
    {
     "data": {
      "image/png": "[encoded data removed]",
      "text/plain": [
       "<Figure size 432x288 with 1 Axes>"
      ]
     },
     "metadata": {
      "needs_background": "light"
     },
     "output_type": "display_data"
    }
   ],
   "source": [
    "# Your code here:\n",
    "\n",
    "plt.scatter(df['pc1'], df['pc2'], c=colors)"
   ]
  },
  {
   "cell_type": "markdown",
   "metadata": {},
   "source": [
    "Do you see a clear separation between cats and dogs? Write your answer below."
   ]
  },
  {
   "cell_type": "code",
   "execution_count": 88,
   "metadata": {},
   "outputs": [],
   "source": [
    "# Your conclusions here:\n",
    "# there is no clear distinction between the cats and dogs "
   ]
  }
 ],
 "metadata": {
  "kernelspec": {
   "display_name": "Python 3",
   "language": "python",
   "name": "python3"
  },
  "language_info": {
   "codemirror_mode": {
    "name": "ipython",
    "version": 3
   },
   "file_extension": ".py",
   "mimetype": "text/x-python",
   "name": "python",
   "nbconvert_exporter": "python",
   "pygments_lexer": "ipython3",
   "version": "3.7.4"
  }
 },
 "nbformat": 4,
 "nbformat_minor": 2
}
