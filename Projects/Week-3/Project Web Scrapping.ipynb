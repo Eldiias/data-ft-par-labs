{
 "cells": [
  {
   "cell_type": "code",
   "execution_count": 1,
   "metadata": {},
   "outputs": [],
   "source": [
    "# importing the requisite libraries\n",
    "import requests\n",
    "from bs4 import BeautifulSoup\n",
    "import pandas as pd\n",
    "import numpy as np\n",
    "from datetime import datetime\n",
    "\n",
    "# list to append the extracted data from the website\n",
    "\n",
    "job_list = []\n",
    "\n",
    "def get_webpage_data(job_title, location, page):\n",
    "    \n",
    "    \"\"\" The below function iterates through the webpage and extracts the\n",
    "    - Job job title based on input\n",
    "    - Post data\n",
    "    - Company Name\n",
    "    - Job location\n",
    "    - Job summary\n",
    "    - Job url link\n",
    "    - Company ratings and \n",
    "    - Salary\"\"\"\n",
    "\n",
    "    # generating a header to avoid being locked out of site\n",
    "    # calling url and formatting so as to call any job or location\n",
    "    # creating a soup to better read html\n",
    "    \n",
    "    headers = {'User-Agent': 'Mozilla/5.0 (Macintosh; Intel Mac OS X 10_15_7) AppleWebKit/537.36 (KHTML, like Gecko) Chrome/88.0.4324.182 Safari/537.36'}\n",
    "    url = f'https://fr.indeed.com/jobs?q={job_title}&l={location}&start={page}'\n",
    "    response = requests.get(url, headers, timeout=5)\n",
    "    soup = BeautifulSoup((response.content), 'lxml')\n",
    "    \n",
    "    \n",
    "    # This is the highest level tag available ot all the parameters of interest and allows to return None \n",
    "    # when missing a value for a parameter\n",
    "    jobs = soup.select('div.jobsearch-SerpJobCard')\n",
    "    \n",
    "    for job in jobs:\n",
    "\n",
    "\n",
    "        job_title = job.find('h2').text.strip('\\nnouveau')\n",
    "        post_date = [i.text.replace('\\xa0', ' ') for i in job.select('span.date')]\n",
    "        company_name = [i.text.strip() for i in job.select('span.company')]\n",
    "        job_location = job.find('div', 'recJobLoc')['data-rc-loc']\n",
    "        job_summary = [i.text.strip() for i in job.select('div.summary')]\n",
    "        job_url = ['https://fr.indeed.com' + i['href'] for i in soup.select('h2>a[href]')]\n",
    "        \n",
    "        company_rates = []\n",
    "        salary = []\n",
    "\n",
    "        r = job.find('span', 'ratingsContent')\n",
    "        if r:\n",
    "            company_rates.append(float(r.text.strip().replace(',', '.')))\n",
    "        else:\n",
    "            company_rates.append(None)\n",
    "\n",
    "        sal = job.find('span', 'salaryText')\n",
    "        if sal:\n",
    "            salary.append(sal.text.strip('\\n').replace('\\xa0', ''))\n",
    "        else:\n",
    "            salary.append(None)\n",
    "        \n",
    "        \n",
    "        # generating a dictionary for parameters and data pulled from site\n",
    "        job_listings = {'JobTitle':job_title, 'NumDaysPosted':post_date, 'CompanyName':company_name, \\\n",
    "                        'JobLocation':job_location,'JobSummary':job_summary,  'JobUrl':job_url, \\\n",
    "                        'CompanyRating':company_rates, 'JobSalary':salary}\n",
    "        \n",
    "        # appending job_listings dictionary to list for dataframe creation\n",
    "        job_list.append(job_listings)  \n",
    "\n",
    "    return"
   ]
  },
  {
   "cell_type": "code",
   "execution_count": 2,
   "metadata": {},
   "outputs": [
    {
     "data": {
      "text/plain": [
       "pandas.core.frame.DataFrame"
      ]
     },
     "execution_count": 2,
     "metadata": {},
     "output_type": "execute_result"
    }
   ],
   "source": [
    "# Iterating through the various webpages to pull 200 job listings\n",
    "for i in range(0, 170, 10):\n",
    "    get_webpage_data('data', 'Île-de-France', i)\n",
    "    \n",
    "#generating a dataframe from pulled data\n",
    "df = pd.DataFrame(job_list)\n",
    "type(df)"
   ]
  },
  {
   "cell_type": "markdown",
   "metadata": {},
   "source": [
    "---"
   ]
  },
  {
   "cell_type": "code",
   "execution_count": 3,
   "metadata": {},
   "outputs": [
    {
     "data": {
      "text/plain": [
       "(255, 8)"
      ]
     },
     "execution_count": 3,
     "metadata": {},
     "output_type": "execute_result"
    }
   ],
   "source": [
    "#cleaning dataframe as needed\n",
    "df.shape"
   ]
  },
  {
   "cell_type": "code",
   "execution_count": 4,
   "metadata": {},
   "outputs": [
    {
     "data": {
      "text/html": [
       "<div>\n",
       "<style scoped>\n",
       "    .dataframe tbody tr th:only-of-type {\n",
       "        vertical-align: middle;\n",
       "    }\n",
       "\n",
       "    .dataframe tbody tr th {\n",
       "        vertical-align: top;\n",
       "    }\n",
       "\n",
       "    .dataframe thead th {\n",
       "        text-align: right;\n",
       "    }\n",
       "</style>\n",
       "<table border=\"1\" class=\"dataframe\">\n",
       "  <thead>\n",
       "    <tr style=\"text-align: right;\">\n",
       "      <th></th>\n",
       "      <th>JobTitle</th>\n",
       "      <th>NumDaysPosted</th>\n",
       "      <th>CompanyName</th>\n",
       "      <th>JobLocation</th>\n",
       "      <th>JobSummary</th>\n",
       "      <th>JobUrl</th>\n",
       "      <th>CompanyRating</th>\n",
       "      <th>JobSalary</th>\n",
       "    </tr>\n",
       "  </thead>\n",
       "  <tbody>\n",
       "    <tr>\n",
       "      <th>0</th>\n",
       "      <td>Data Engineer H/F (CDI)</td>\n",
       "      <td>[il y a 24 jours]</td>\n",
       "      <td>[Leaseplan France]</td>\n",
       "      <td>Rueil-Malmaison (92)</td>\n",
       "      <td>[Data engineer h/f (cdi) ou similaire: 2 ans (...</td>\n",
       "      <td>[https://fr.indeed.com/pagead/clk?mo=r&amp;ad=-6NY...</td>\n",
       "      <td>[3.9]</td>\n",
       "      <td>[38000 € - 45000 € par an]</td>\n",
       "    </tr>\n",
       "    <tr>\n",
       "      <th>1</th>\n",
       "      <td>Manager Data Analyst</td>\n",
       "      <td>[il y a 2 jours]</td>\n",
       "      <td>[CAPENCY]</td>\n",
       "      <td>Enghien-les-Bains (95)</td>\n",
       "      <td>[Créée en 2007, CAPENCY (anciennement CAP ADRE...</td>\n",
       "      <td>[https://fr.indeed.com/pagead/clk?mo=r&amp;ad=-6NY...</td>\n",
       "      <td>[None]</td>\n",
       "      <td>[40000 € - 45000 € par an]</td>\n",
       "    </tr>\n",
       "  </tbody>\n",
       "</table>\n",
       "</div>"
      ],
      "text/plain": [
       "                  JobTitle      NumDaysPosted         CompanyName  \\\n",
       "0  Data Engineer H/F (CDI)  [il y a 24 jours]  [Leaseplan France]   \n",
       "1     Manager Data Analyst   [il y a 2 jours]           [CAPENCY]   \n",
       "\n",
       "              JobLocation                                         JobSummary  \\\n",
       "0    Rueil-Malmaison (92)  [Data engineer h/f (cdi) ou similaire: 2 ans (...   \n",
       "1  Enghien-les-Bains (95)  [Créée en 2007, CAPENCY (anciennement CAP ADRE...   \n",
       "\n",
       "                                              JobUrl CompanyRating  \\\n",
       "0  [https://fr.indeed.com/pagead/clk?mo=r&ad=-6NY...         [3.9]   \n",
       "1  [https://fr.indeed.com/pagead/clk?mo=r&ad=-6NY...        [None]   \n",
       "\n",
       "                    JobSalary  \n",
       "0  [38000 € - 45000 € par an]  \n",
       "1  [40000 € - 45000 € par an]  "
      ]
     },
     "execution_count": 4,
     "metadata": {},
     "output_type": "execute_result"
    }
   ],
   "source": [
    "df.head(2)"
   ]
  },
  {
   "cell_type": "code",
   "execution_count": 5,
   "metadata": {},
   "outputs": [],
   "source": [
    "# converting list to string\n",
    "df = df.applymap(lambda x:x if not isinstance(x, list) else x[0] if len(x) else '')"
   ]
  },
  {
   "cell_type": "code",
   "execution_count": 6,
   "metadata": {},
   "outputs": [
    {
     "data": {
      "text/html": [
       "<div>\n",
       "<style scoped>\n",
       "    .dataframe tbody tr th:only-of-type {\n",
       "        vertical-align: middle;\n",
       "    }\n",
       "\n",
       "    .dataframe tbody tr th {\n",
       "        vertical-align: top;\n",
       "    }\n",
       "\n",
       "    .dataframe thead th {\n",
       "        text-align: right;\n",
       "    }\n",
       "</style>\n",
       "<table border=\"1\" class=\"dataframe\">\n",
       "  <thead>\n",
       "    <tr style=\"text-align: right;\">\n",
       "      <th></th>\n",
       "      <th>JobTitle</th>\n",
       "      <th>NumDaysPosted</th>\n",
       "      <th>CompanyName</th>\n",
       "      <th>JobLocation</th>\n",
       "      <th>JobSummary</th>\n",
       "      <th>JobUrl</th>\n",
       "      <th>CompanyRating</th>\n",
       "      <th>JobSalary</th>\n",
       "    </tr>\n",
       "  </thead>\n",
       "  <tbody>\n",
       "    <tr>\n",
       "      <th>0</th>\n",
       "      <td>Data Engineer H/F (CDI)</td>\n",
       "      <td>il y a 24 jours</td>\n",
       "      <td>Leaseplan France</td>\n",
       "      <td>Rueil-Malmaison (92)</td>\n",
       "      <td>Data engineer h/f (cdi) ou similaire: 2 ans (S...</td>\n",
       "      <td>https://fr.indeed.com/pagead/clk?mo=r&amp;ad=-6NYl...</td>\n",
       "      <td>3.9</td>\n",
       "      <td>38000 € - 45000 € par an</td>\n",
       "    </tr>\n",
       "    <tr>\n",
       "      <th>1</th>\n",
       "      <td>Manager Data Analyst</td>\n",
       "      <td>il y a 2 jours</td>\n",
       "      <td>CAPENCY</td>\n",
       "      <td>Enghien-les-Bains (95)</td>\n",
       "      <td>Créée en 2007, CAPENCY (anciennement CAP ADRES...</td>\n",
       "      <td>https://fr.indeed.com/pagead/clk?mo=r&amp;ad=-6NYl...</td>\n",
       "      <td>NaN</td>\n",
       "      <td>40000 € - 45000 € par an</td>\n",
       "    </tr>\n",
       "  </tbody>\n",
       "</table>\n",
       "</div>"
      ],
      "text/plain": [
       "                  JobTitle    NumDaysPosted       CompanyName  \\\n",
       "0  Data Engineer H/F (CDI)  il y a 24 jours  Leaseplan France   \n",
       "1     Manager Data Analyst   il y a 2 jours           CAPENCY   \n",
       "\n",
       "              JobLocation                                         JobSummary  \\\n",
       "0    Rueil-Malmaison (92)  Data engineer h/f (cdi) ou similaire: 2 ans (S...   \n",
       "1  Enghien-les-Bains (95)  Créée en 2007, CAPENCY (anciennement CAP ADRES...   \n",
       "\n",
       "                                              JobUrl  CompanyRating  \\\n",
       "0  https://fr.indeed.com/pagead/clk?mo=r&ad=-6NYl...            3.9   \n",
       "1  https://fr.indeed.com/pagead/clk?mo=r&ad=-6NYl...            NaN   \n",
       "\n",
       "                  JobSalary  \n",
       "0  38000 € - 45000 € par an  \n",
       "1  40000 € - 45000 € par an  "
      ]
     },
     "execution_count": 6,
     "metadata": {},
     "output_type": "execute_result"
    }
   ],
   "source": [
    "df.head(2)"
   ]
  },
  {
   "cell_type": "code",
   "execution_count": 7,
   "metadata": {},
   "outputs": [
    {
     "name": "stdout",
     "output_type": "stream",
     "text": [
      "<class 'pandas.core.frame.DataFrame'>\n",
      "RangeIndex: 255 entries, 0 to 254\n",
      "Data columns (total 8 columns):\n",
      " #   Column         Non-Null Count  Dtype  \n",
      "---  ------         --------------  -----  \n",
      " 0   JobTitle       255 non-null    object \n",
      " 1   NumDaysPosted  255 non-null    object \n",
      " 2   CompanyName    255 non-null    object \n",
      " 3   JobLocation    255 non-null    object \n",
      " 4   JobSummary     255 non-null    object \n",
      " 5   JobUrl         255 non-null    object \n",
      " 6   CompanyRating  154 non-null    float64\n",
      " 7   JobSalary      47 non-null     object \n",
      "dtypes: float64(1), object(7)\n",
      "memory usage: 16.1+ KB\n"
     ]
    }
   ],
   "source": [
    "df.info()"
   ]
  },
  {
   "cell_type": "code",
   "execution_count": 8,
   "metadata": {},
   "outputs": [],
   "source": [
    "# Stripping and spliting columns as needed for better analysis\n",
    "\n",
    "df['NumDaysPosted'] = df.NumDaysPosted.str.strip('il y a jours').replace({'Il y a plus de 30':30, \"Aujourd'hui\":1, \"Aujourd'h\":1, \"Publiée à l'instant\":1})\n",
    "df['NumDaysPosted'] = df.NumDaysPosted.apply(pd.to_numeric)\n",
    "df[['LowSalaryRange','UpperSalaryRange']] = df['JobSalary'].str.split('-',expand=True)\n",
    "df[['UpperSalaryRange','SalaryPeriod(per)']] = df['UpperSalaryRange'].str.split('par',expand=True)\n",
    "df[['LowSalaryRange','SalaryPeriod(per)']] = df['LowSalaryRange'].str.split('par',expand=True)"
   ]
  },
  {
   "cell_type": "code",
   "execution_count": 9,
   "metadata": {},
   "outputs": [
    {
     "name": "stdout",
     "output_type": "stream",
     "text": [
      "<class 'pandas.core.frame.DataFrame'>\n",
      "RangeIndex: 255 entries, 0 to 254\n",
      "Data columns (total 11 columns):\n",
      " #   Column             Non-Null Count  Dtype  \n",
      "---  ------             --------------  -----  \n",
      " 0   JobTitle           255 non-null    object \n",
      " 1   NumDaysPosted      255 non-null    int64  \n",
      " 2   CompanyName        255 non-null    object \n",
      " 3   JobLocation        255 non-null    object \n",
      " 4   JobSummary         255 non-null    object \n",
      " 5   JobUrl             255 non-null    object \n",
      " 6   CompanyRating      154 non-null    float64\n",
      " 7   JobSalary          47 non-null     object \n",
      " 8   LowSalaryRange     47 non-null     object \n",
      " 9   UpperSalaryRange   39 non-null     object \n",
      " 10  SalaryPeriod(per)  8 non-null      object \n",
      "dtypes: float64(1), int64(1), object(9)\n",
      "memory usage: 22.0+ KB\n"
     ]
    }
   ],
   "source": [
    "df.info()"
   ]
  },
  {
   "cell_type": "code",
   "execution_count": 10,
   "metadata": {},
   "outputs": [],
   "source": [
    "# Drop columns not needed\n",
    "\n",
    "df = df.drop(columns='JobSalary')"
   ]
  },
  {
   "cell_type": "code",
   "execution_count": 11,
   "metadata": {},
   "outputs": [],
   "source": [
    "# Adding today's date for reference\n",
    "df['TodayDate'] = pd.to_datetime('today').strftime('%d-%m-%Y')\n",
    "df['TimeFrame'] = 'jours' \n",
    "\n",
    "# reorganizing data columns\n",
    "df = df[['JobTitle', 'NumDaysPosted', 'TimeFrame', 'TodayDate', 'CompanyName', 'JobLocation', \\\n",
    "         'LowSalaryRange','UpperSalaryRange','SalaryPeriod(per)', 'CompanyRating','JobSummary', 'JobUrl']]"
   ]
  },
  {
   "cell_type": "code",
   "execution_count": 12,
   "metadata": {},
   "outputs": [
    {
     "data": {
      "text/plain": [
       "(235, 12)"
      ]
     },
     "execution_count": 12,
     "metadata": {},
     "output_type": "execute_result"
    }
   ],
   "source": [
    "# sorting the dataset by number of days of posted and dropping the duplicates keeping the most recent publication\n",
    "\n",
    "df = df.sort_values('NumDaysPosted', ascending=False)\n",
    "df = df.drop_duplicates(subset=['JobTitle', 'CompanyName', 'JobSummary','JobLocation'], keep='first')\n",
    "df.shape"
   ]
  },
  {
   "cell_type": "markdown",
   "metadata": {},
   "source": [
    "---"
   ]
  },
  {
   "cell_type": "code",
   "execution_count": 13,
   "metadata": {},
   "outputs": [],
   "source": [
    "# Exporting Data to csv"
   ]
  },
  {
   "cell_type": "code",
   "execution_count": 14,
   "metadata": {},
   "outputs": [],
   "source": [
    "df.to_csv('/Users/laetitia/IronHack/data-ft-par-labs/Projects/Week-3/output/indeed_jobs.csv', sep='\\t', index=False)"
   ]
  },
  {
   "cell_type": "markdown",
   "metadata": {},
   "source": [
    "---"
   ]
  },
  {
   "cell_type": "code",
   "execution_count": 15,
   "metadata": {},
   "outputs": [],
   "source": [
    "# Exporting Data to sql\n",
    "import pymysql\n",
    "from sqlalchemy import create_engine\n",
    "from getpass import getpass"
   ]
  },
  {
   "cell_type": "code",
   "execution_count": 16,
   "metadata": {},
   "outputs": [
    {
     "name": "stdout",
     "output_type": "stream",
     "text": [
      "········\n"
     ]
    }
   ],
   "source": [
    "username = 'root'\n",
    "server = 'localhost'\n",
    "database = 'indeed'\n",
    "password = getpass()"
   ]
  },
  {
   "cell_type": "code",
   "execution_count": 17,
   "metadata": {},
   "outputs": [],
   "source": [
    "engine=create_engine(f'mysql+pymysql://{username}:{password}@{server}/{database}')"
   ]
  },
  {
   "cell_type": "code",
   "execution_count": 18,
   "metadata": {},
   "outputs": [],
   "source": [
    "df.to_sql('data_jobs', engine, if_exists='replace', index=False)"
   ]
  }
 ],
 "metadata": {
  "kernelspec": {
   "display_name": "Python 3",
   "language": "python",
   "name": "python3"
  },
  "language_info": {
   "codemirror_mode": {
    "name": "ipython",
    "version": 3
   },
   "file_extension": ".py",
   "mimetype": "text/x-python",
   "name": "python",
   "nbconvert_exporter": "python",
   "pygments_lexer": "ipython3",
   "version": "3.7.4"
  }
 },
 "nbformat": 4,
 "nbformat_minor": 2
}
