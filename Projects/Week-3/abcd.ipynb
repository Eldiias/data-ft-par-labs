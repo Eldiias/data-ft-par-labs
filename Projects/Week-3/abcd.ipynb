{
 "cells": [
  {
   "cell_type": "markdown",
   "metadata": {},
   "source": [
    "# BACK MARKET: ORDINATEUR RECONDITIONNE"
   ]
  },
  {
   "cell_type": "code",
   "execution_count": 143,
   "metadata": {},
   "outputs": [],
   "source": [
    "import requests as r\n",
    "import pandas as pd\n",
    "import json\n",
    "import time"
   ]
  },
  {
   "cell_type": "code",
   "execution_count": 2,
   "metadata": {},
   "outputs": [],
   "source": [
    "url='https://9x8zudunn9-dsn.algolia.net/1/indexes/*/queries?x-algolia-agent=Algolia%20for%20JavaScript%20(4.8.0)%3B%20Browser%20(lite)%3B%20JS%20Helper%20(3.3.2)&x-algolia-api-key=38f3a5eacb0bd01a763275f972706859&x-algolia-application-id=9X8ZUDUNN9'"
   ]
  },
  {
   "cell_type": "code",
   "execution_count": 3,
   "metadata": {},
   "outputs": [],
   "source": [
    "headers=\"\"\"Accept: */*\n",
    "Accept-Encoding: gzip, deflate, br\n",
    "Accept-Language: it-IT,it;q=0.9,fr-FR;q=0.8,fr;q=0.7,en-US;q=0.6,en;q=0.5\n",
    "Cache-Control: no-cache\n",
    "Connection: keep-alive\n",
    "Content-Length: 4696\n",
    "content-type: application/x-www-form-urlencoded\n",
    "Host: 9x8zudunn9-dsn.algolia.net\n",
    "Origin: https://www.backmarket.fr\n",
    "Pragma: no-cache\n",
    "Referer: https://www.backmarket.fr/\n",
    "Sec-Fetch-Dest: empty\n",
    "Sec-Fetch-Mode: cors\n",
    "Sec-Fetch-Site: cross-site\n",
    "User-Agent: Mozilla/5.0 (Macintosh; Intel Mac OS X 10_15_7) AppleWebKit/537.36 (KHTML, like Gecko) Chrome/86.0.4240.198 Safari/537.36\"\"\""
   ]
  },
  {
   "cell_type": "code",
   "execution_count": 4,
   "metadata": {},
   "outputs": [],
   "source": [
    "headers=dict([i.split(': ') for i in headers.split('\\n')])"
   ]
  },
  {
   "cell_type": "code",
   "execution_count": 5,
   "metadata": {},
   "outputs": [],
   "source": [
    "data=\"\"\"{\"requests\":[{\"indexName\":\"prod_index_starting_from\",\"params\":\"hitsPerPage=30&facetingAfterDistinct=true&attributesToRetrieve=%5B%22objectID%22%2C%22backmarketID%22%2C%22link%22%2C%22price%22%2C%22price_with_currency%22%2C%22price_new%22%2C%22price_new_with_currency%22%2C%22warranty%22%2C%22title%22%2C%22slug%22%2C%22merchant_slug%22%2C%22sub_title%22%2C%22state_label%22%2C%22state_value%22%2C%22image1%22%2C%22compatible_carriers%22%2C%22is_sim_locked%22%2C%22list_view%22%2C%22nb_results_starting_from%22%2C%22stockRaw%22%2C%22pressureStockLimit%22%5D&page=1&facets=%5B%22category_3%22%2C%22screen_size%22%2C%22brand%22%2C%22processor_type%22%2C%22keyboard_type%22%2C%22memory%22%2C%22os%22%2C%22storage_type%22%2C%22states_list%22%2C%22model%22%2C%22storage%22%2C%22graphic_card%22%2C%22payment_methods%22%2C%22warranty_with_unit%22%2C%22shipping_delay%22%2C%22shipping_free%22%2C%22price_ranges.sm-1%22%2C%22price_ranges.sm-2%22%2C%22price_ranges.md-1%22%2C%22price_ranges.md-1b%22%2C%22price_ranges.md-1c%22%2C%22price_ranges.md-2%22%2C%22price_ranges.lg-1%22%2C%22price_ranges.lg-2%22%2C%22price_ranges.lg-3%22%2C%22price%22%2C%22cat_id%22%5D&tagFilters=&facetFilters=%5B%5B%22cat_id%3A7%22%2C%22cat_id%3A9%22%2C%22cat_id%3A11%22%2C%22cat_id%3A12%22%2C%22cat_id%3A109%22%2C%22cat_id%3A110%22%2C%22cat_id%3A111%22%2C%22cat_id%3A112%22%2C%22cat_id%3A113%22%2C%22cat_id%3A114%22%2C%22cat_id%3A115%22%2C%22cat_id%3A116%22%2C%22cat_id%3A117%22%5D%5D&numericFilters=%5B%5B%22buybox%3D2%22%5D%2C%5B%22publication_state%3D2%22%5D%2C%5B%22special_offer_type%3D0%22%5D%5D\"},{\"indexName\":\"prod_index_starting_from\",\"params\":\"hitsPerPage=1&facetingAfterDistinct=true&attributesToRetrieve=%5B%22objectID%22%2C%22backmarketID%22%2C%22link%22%2C%22price%22%2C%22price_with_currency%22%2C%22price_new%22%2C%22price_new_with_currency%22%2C%22warranty%22%2C%22title%22%2C%22slug%22%2C%22merchant_slug%22%2C%22sub_title%22%2C%22state_label%22%2C%22state_value%22%2C%22image1%22%2C%22compatible_carriers%22%2C%22is_sim_locked%22%2C%22list_view%22%2C%22nb_results_starting_from%22%2C%22stockRaw%22%2C%22pressureStockLimit%22%5D&page=0&attributesToHighlight=%5B%5D&attributesToSnippet=%5B%5D&tagFilters=&analytics=false&clickAnalytics=false&facets=cat_id&numericFilters=%5B%5B%22buybox%3D2%22%5D%2C%5B%22publication_state%3D2%22%5D%2C%5B%22special_offer_type%3D0%22%5D%5D\"},{\"indexName\":\"prod_index_starting_from\",\"params\":\"hitsPerPage=30&facetingAfterDistinct=true&attributesToRetrieve=%5B%22objectID%22%2C%22backmarketID%22%2C%22link%22%2C%22price%22%2C%22price_with_currency%22%2C%22price_new%22%2C%22price_new_with_currency%22%2C%22warranty%22%2C%22title%22%2C%22slug%22%2C%22merchant_slug%22%2C%22sub_title%22%2C%22state_label%22%2C%22state_value%22%2C%22image1%22%2C%22compatible_carriers%22%2C%22is_sim_locked%22%2C%22list_view%22%2C%22nb_results_starting_from%22%2C%22stockRaw%22%2C%22pressureStockLimit%22%5D&page=1&facets=%5B%22category_3%22%2C%22screen_size%22%2C%22brand%22%2C%22processor_type%22%2C%22keyboard_type%22%2C%22memory%22%2C%22os%22%2C%22storage_type%22%2C%22states_list%22%2C%22model%22%2C%22storage%22%2C%22graphic_card%22%2C%22payment_methods%22%2C%22warranty_with_unit%22%2C%22shipping_delay%22%2C%22shipping_free%22%2C%22price_ranges.sm-1%22%2C%22price_ranges.sm-2%22%2C%22price_ranges.md-1%22%2C%22price_ranges.md-1b%22%2C%22price_ranges.md-1c%22%2C%22price_ranges.md-2%22%2C%22price_ranges.lg-1%22%2C%22price_ranges.lg-2%22%2C%22price_ranges.lg-3%22%2C%22cat_id%22%5D&tagFilters=&facetFilters=%5B%5B%22cat_id%3A7%22%2C%22cat_id%3A9%22%2C%22cat_id%3A11%22%2C%22cat_id%3A12%22%2C%22cat_id%3A109%22%2C%22cat_id%3A110%22%2C%22cat_id%3A111%22%2C%22cat_id%3A112%22%2C%22cat_id%3A113%22%2C%22cat_id%3A114%22%2C%22cat_id%3A115%22%2C%22cat_id%3A116%22%2C%22cat_id%3A117%22%5D%5D&numericFilters=%5B%5B%22buybox%3D2%22%5D%2C%5B%22publication_state%3D2%22%5D%2C%5B%22special_offer_type%3D0%22%5D%5D\"},{\"indexName\":\"prod_index_starting_from\",\"params\":\"hitsPerPage=1&facetingAfterDistinct=true&attributesToRetrieve=%5B%22objectID%22%2C%22backmarketID%22%2C%22link%22%2C%22price%22%2C%22price_with_currency%22%2C%22price_new%22%2C%22price_new_with_currency%22%2C%22warranty%22%2C%22title%22%2C%22slug%22%2C%22merchant_slug%22%2C%22sub_title%22%2C%22state_label%22%2C%22state_value%22%2C%22image1%22%2C%22compatible_carriers%22%2C%22is_sim_locked%22%2C%22list_view%22%2C%22nb_results_starting_from%22%2C%22stockRaw%22%2C%22pressureStockLimit%22%5D&page=0&attributesToHighlight=%5B%5D&attributesToSnippet=%5B%5D&tagFilters=&analytics=false&clickAnalytics=false&facets=cat_id&numericFilters=%5B%5B%22buybox%3D2%22%5D%2C%5B%22publication_state%3D2%22%5D%2C%5B%22special_offer_type%3D0%22%5D%5D\"}]}\"\"\""
   ]
  },
  {
   "cell_type": "code",
   "execution_count": 6,
   "metadata": {},
   "outputs": [],
   "source": [
    "response=r.post(url,headers=headers, data=data)"
   ]
  },
  {
   "cell_type": "code",
   "execution_count": null,
   "metadata": {},
   "outputs": [],
   "source": [
    "back=response.json() # convert the response from code to json file\n",
    "back"
   ]
  },
  {
   "cell_type": "code",
   "execution_count": 37,
   "metadata": {},
   "outputs": [],
   "source": [
    "# back.keys()"
   ]
  },
  {
   "cell_type": "code",
   "execution_count": 38,
   "metadata": {},
   "outputs": [],
   "source": [
    "# back['results'][0]['hits'][0]['link']['params']['slug']"
   ]
  },
  {
   "cell_type": "code",
   "execution_count": 39,
   "metadata": {},
   "outputs": [],
   "source": [
    "# df=pd.json_normalize(back['results'][0]['hits'])\n"
   ]
  },
  {
   "cell_type": "code",
   "execution_count": 9,
   "metadata": {},
   "outputs": [],
   "source": [
    "headers=\"\"\"Accept: */*\n",
    "Accept-Encoding: gzip, deflate, br\n",
    "Accept-Language: it-IT,it;q=0.9,fr-FR;q=0.8,fr;q=0.7,en-US;q=0.6,en;q=0.5\n",
    "Cache-Control: no-cache\n",
    "Connection: keep-alive\n",
    "Content-Length: 4696\n",
    "content-type: application/x-www-form-urlencoded\n",
    "Host: 9x8zudunn9-dsn.algolia.net\n",
    "Origin: https://www.backmarket.fr\n",
    "Pragma: no-cache\n",
    "Referer: https://www.backmarket.fr/\n",
    "Sec-Fetch-Dest: empty\n",
    "Sec-Fetch-Mode: cors\n",
    "Sec-Fetch-Site: cross-site\n",
    "User-Agent: Mozilla/5.0 (Macintosh; Intel Mac OS X 10_15_7) AppleWebKit/537.36 (KHTML, like Gecko) Chrome/86.0.4240.198 Safari/537.36\"\"\"\n",
    "\n",
    "headers=dict([i.split(': ') for i in headers.split('\\n')]) \n"
   ]
  },
  {
   "cell_type": "code",
   "execution_count": 10,
   "metadata": {},
   "outputs": [],
   "source": [
    "data='''{\"requests\":[{\"indexName\":\"prod_index_starting_from\",\"params\":\"hitsPerPage=30&facetingAfterDistinct=true&attributesToRetrieve=%5B%22objectID%22%2C%22backmarketID%22%2C%22link%22%2C%22price%22%2C%22price_with_currency%22%2C%22price_new%22%2C%22price_new_with_currency%22%2C%22warranty%22%2C%22title%22%2C%22slug%22%2C%22merchant_slug%22%2C%22sub_title%22%2C%22state_label%22%2C%22state_value%22%2C%22image1%22%2C%22compatible_carriers%22%2C%22is_sim_locked%22%2C%22list_view%22%2C%22nb_results_starting_from%22%2C%22stockRaw%22%2C%22pressureStockLimit%22%5D&page=1&facets=%5B%22category_3%22%2C%22screen_size%22%2C%22brand%22%2C%22processor_type%22%2C%22keyboard_type%22%2C%22memory%22%2C%22os%22%2C%22storage_type%22%2C%22states_list%22%2C%22model%22%2C%22storage%22%2C%22graphic_card%22%2C%22payment_methods%22%2C%22warranty_with_unit%22%2C%22shipping_delay%22%2C%22shipping_free%22%2C%22price_ranges.sm-1%22%2C%22price_ranges.sm-2%22%2C%22price_ranges.md-1%22%2C%22price_ranges.md-1b%22%2C%22price_ranges.md-1c%22%2C%22price_ranges.md-2%22%2C%22price_ranges.lg-1%22%2C%22price_ranges.lg-2%22%2C%22price_ranges.lg-3%22%2C%22price%22%2C%22cat_id%22%5D&tagFilters=&facetFilters=%5B%5B%22cat_id%3A7%22%2C%22cat_id%3A9%22%2C%22cat_id%3A11%22%2C%22cat_id%3A12%22%2C%22cat_id%3A109%22%2C%22cat_id%3A110%22%2C%22cat_id%3A111%22%2C%22cat_id%3A112%22%2C%22cat_id%3A113%22%2C%22cat_id%3A114%22%2C%22cat_id%3A115%22%2C%22cat_id%3A116%22%2C%22cat_id%3A117%22%5D%5D&numericFilters=%5B%5B%22buybox%3D2%22%5D%2C%5B%22publication_state%3D2%22%5D%2C%5B%22special_offer_type%3D0%22%5D%5D\"},{\"indexName\":\"prod_index_starting_from\",\"params\":\"hitsPerPage=1&facetingAfterDistinct=true&attributesToRetrieve=%5B%22objectID%22%2C%22backmarketID%22%2C%22link%22%2C%22price%22%2C%22price_with_currency%22%2C%22price_new%22%2C%22price_new_with_currency%22%2C%22warranty%22%2C%22title%22%2C%22slug%22%2C%22merchant_slug%22%2C%22sub_title%22%2C%22state_label%22%2C%22state_value%22%2C%22image1%22%2C%22compatible_carriers%22%2C%22is_sim_locked%22%2C%22list_view%22%2C%22nb_results_starting_from%22%2C%22stockRaw%22%2C%22pressureStockLimit%22%5D&page=0&attributesToHighlight=%5B%5D&attributesToSnippet=%5B%5D&tagFilters=&analytics=false&clickAnalytics=false&facets=cat_id&numericFilters=%5B%5B%22buybox%3D2%22%5D%2C%5B%22publication_state%3D2%22%5D%2C%5B%22special_offer_type%3D0%22%5D%5D\"},{\"indexName\":\"prod_index_starting_from\",\"params\":\"hitsPerPage=30&facetingAfterDistinct=true&attributesToRetrieve=%5B%22objectID%22%2C%22backmarketID%22%2C%22link%22%2C%22price%22%2C%22price_with_currency%22%2C%22price_new%22%2C%22price_new_with_currency%22%2C%22warranty%22%2C%22title%22%2C%22slug%22%2C%22merchant_slug%22%2C%22sub_title%22%2C%22state_label%22%2C%22state_value%22%2C%22image1%22%2C%22compatible_carriers%22%2C%22is_sim_locked%22%2C%22list_view%22%2C%22nb_results_starting_from%22%2C%22stockRaw%22%2C%22pressureStockLimit%22%5D&page=1&facets=%5B%22category_3%22%2C%22screen_size%22%2C%22brand%22%2C%22processor_type%22%2C%22keyboard_type%22%2C%22memory%22%2C%22os%22%2C%22storage_type%22%2C%22states_list%22%2C%22model%22%2C%22storage%22%2C%22graphic_card%22%2C%22payment_methods%22%2C%22warranty_with_unit%22%2C%22shipping_delay%22%2C%22shipping_free%22%2C%22price_ranges.sm-1%22%2C%22price_ranges.sm-2%22%2C%22price_ranges.md-1%22%2C%22price_ranges.md-1b%22%2C%22price_ranges.md-1c%22%2C%22price_ranges.md-2%22%2C%22price_ranges.lg-1%22%2C%22price_ranges.lg-2%22%2C%22price_ranges.lg-3%22%2C%22cat_id%22%5D&tagFilters=&facetFilters=%5B%5B%22cat_id%3A7%22%2C%22cat_id%3A9%22%2C%22cat_id%3A11%22%2C%22cat_id%3A12%22%2C%22cat_id%3A109%22%2C%22cat_id%3A110%22%2C%22cat_id%3A111%22%2C%22cat_id%3A112%22%2C%22cat_id%3A113%22%2C%22cat_id%3A114%22%2C%22cat_id%3A115%22%2C%22cat_id%3A116%22%2C%22cat_id%3A117%22%5D%5D&numericFilters=%5B%5B%22buybox%3D2%22%5D%2C%5B%22publication_state%3D2%22%5D%2C%5B%22special_offer_type%3D0%22%5D%5D\"},{\"indexName\":\"prod_index_starting_from\",\"params\":\"hitsPerPage=1&facetingAfterDistinct=true&attributesToRetrieve=%5B%22objectID%22%2C%22backmarketID%22%2C%22link%22%2C%22price%22%2C%22price_with_currency%22%2C%22price_new%22%2C%22price_new_with_currency%22%2C%22warranty%22%2C%22title%22%2C%22slug%22%2C%22merchant_slug%22%2C%22sub_title%22%2C%22state_label%22%2C%22state_value%22%2C%22image1%22%2C%22compatible_carriers%22%2C%22is_sim_locked%22%2C%22list_view%22%2C%22nb_results_starting_from%22%2C%22stockRaw%22%2C%22pressureStockLimit%22%5D&page=0&attributesToHighlight=%5B%5D&attributesToSnippet=%5B%5D&tagFilters=&analytics=false&clickAnalytics=false&facets=cat_id&numericFilters=%5B%5B%22buybox%3D2%22%5D%2C%5B%22publication_state%3D2%22%5D%2C%5B%22special_offer_type%3D0%22%5D%5D\"}]}'''"
   ]
  },
  {
   "cell_type": "code",
   "execution_count": 107,
   "metadata": {},
   "outputs": [
    {
     "name": "stdout",
     "output_type": "stream",
     "text": [
      "page number 1 is done!\n",
      "page number 2 is done!\n",
      "page number 3 is done!\n",
      "page number 4 is done!\n",
      "page number 5 is done!\n",
      "page number 6 is done!\n",
      "page number 7 is done!\n",
      "page number 8 is done!\n",
      "page number 9 is done!\n"
     ]
    }
   ],
   "source": [
    "df_final=pd.DataFrame()\n",
    "for i in range(1,10):\n",
    "    url='https://9x8zudunn9-dsn.algolia.net/1/indexes/*/queries?x-algolia-agent=Algolia%20for%20JavaScript%20(4.8.0)%3B%20Browser%20(lite)%3B%20JS%20Helper%20(3.3.2)&x-algolia-api-key=38f3a5eacb0bd01a763275f972706859&x-algolia-application-id=9X8ZUDUNN9'\n",
    "    data='{\"requests\":[{\"indexName\":\"prod_index_starting_from\",\"params\":\"hitsPerPage=30&facetingAfterDistinct=true&attributesToRetrieve=%5B%22objectID%22%2C%22backmarketID%22%2C%22link%22%2C%22price%22%2C%22price_with_currency%22%2C%22price_new%22%2C%22price_new_with_currency%22%2C%22warranty%22%2C%22title%22%2C%22slug%22%2C%22merchant_slug%22%2C%22sub_title%22%2C%22state_label%22%2C%22state_value%22%2C%22image1%22%2C%22compatible_carriers%22%2C%22is_sim_locked%22%2C%22list_view%22%2C%22nb_results_starting_from%22%2C%22stockRaw%22%2C%22pressureStockLimit%22%5D&page=0&facets=%5B%22category_3%22%2C%22screen_size%22%2C%22brand%22%2C%22processor_type%22%2C%22keyboard_type%22%2C%22memory%22%2C%22os%22%2C%22storage_type%22%2C%22states_list%22%2C%22model%22%2C%22storage%22%2C%22graphic_card%22%2C%22payment_methods%22%2C%22warranty_with_unit%22%2C%22shipping_delay%22%2C%22shipping_free%22%2C%22price_ranges.sm-1%22%2C%22price_ranges.sm-2%22%2C%22price_ranges.md-1%22%2C%22price_ranges.md-1b%22%2C%22price_ranges.md-1c%22%2C%22price_ranges.md-2%22%2C%22price_ranges.lg-1%22%2C%22price_ranges.lg-2%22%2C%22price_ranges.lg-3%22%2C%22price%22%2C%22cat_id%22%5D&tagFilters=&facetFilters=%5B%5B%22cat_id%3A7%22%2C%22cat_id%3A9%22%2C%22cat_id%3A11%22%2C%22cat_id%3A12%22%2C%22cat_id%3A109%22%2C%22cat_id%3A110%22%2C%22cat_id%3A111%22%2C%22cat_id%3A112%22%2C%22cat_id%3A113%22%2C%22cat_id%3A114%22%2C%22cat_id%3A115%22%2C%22cat_id%3A116%22%2C%22cat_id%3A117%22%5D%5D&numericFilters=%5B%5B%22buybox%3D2%22%5D%2C%5B%22publication_state%3D2%22%5D%2C%5B%22special_offer_type%3D0%22%5D%5D\"},{\"indexName\":\"prod_index_starting_from\",\"params\":\"hitsPerPage=1&facetingAfterDistinct=true&attributesToRetrieve=%5B%22objectID%22%2C%22backmarketID%22%2C%22link%22%2C%22price%22%2C%22price_with_currency%22%2C%22price_new%22%2C%22price_new_with_currency%22%2C%22warranty%22%2C%22title%22%2C%22slug%22%2C%22merchant_slug%22%2C%22sub_title%22%2C%22state_label%22%2C%22state_value%22%2C%22image1%22%2C%22compatible_carriers%22%2C%22is_sim_locked%22%2C%22list_view%22%2C%22nb_results_starting_from%22%2C%22stockRaw%22%2C%22pressureStockLimit%22%5D&page=0&attributesToHighlight=%5B%5D&attributesToSnippet=%5B%5D&tagFilters=&analytics=false&clickAnalytics=false&facets=cat_id&numericFilters=%5B%5B%22buybox%3D2%22%5D%2C%5B%22publication_state%3D2%22%5D%2C%5B%22special_offer_type%3D0%22%5D%5D\"},{\"indexName\":\"prod_index_starting_from\",\"params\":\"hitsPerPage=30&facetingAfterDistinct=true&attributesToRetrieve=%5B%22objectID%22%2C%22backmarketID%22%2C%22link%22%2C%22price%22%2C%22price_with_currency%22%2C%22price_new%22%2C%22price_new_with_currency%22%2C%22warranty%22%2C%22title%22%2C%22slug%22%2C%22merchant_slug%22%2C%22sub_title%22%2C%22state_label%22%2C%22state_value%22%2C%22image1%22%2C%22compatible_carriers%22%2C%22is_sim_locked%22%2C%22list_view%22%2C%22nb_results_starting_from%22%2C%22stockRaw%22%2C%22pressureStockLimit%22%5D&page=1&facets=%5B%22category_3%22%2C%22screen_size%22%2C%22brand%22%2C%22processor_type%22%2C%22keyboard_type%22%2C%22memory%22%2C%22os%22%2C%22storage_type%22%2C%22states_list%22%2C%22model%22%2C%22storage%22%2C%22graphic_card%22%2C%22payment_methods%22%2C%22warranty_with_unit%22%2C%22shipping_delay%22%2C%22shipping_free%22%2C%22price_ranges.sm-1%22%2C%22price_ranges.sm-2%22%2C%22price_ranges.md-1%22%2C%22price_ranges.md-1b%22%2C%22price_ranges.md-1c%22%2C%22price_ranges.md-2%22%2C%22price_ranges.lg-1%22%2C%22price_ranges.lg-2%22%2C%22price_ranges.lg-3%22%2C%22cat_id%22%5D&tagFilters=&facetFilters=%5B%5B%22cat_id%3A7%22%2C%22cat_id%3A9%22%2C%22cat_id%3A11%22%2C%22cat_id%3A12%22%2C%22cat_id%3A109%22%2C%22cat_id%3A110%22%2C%22cat_id%3A111%22%2C%22cat_id%3A112%22%2C%22cat_id%3A113%22%2C%22cat_id%3A114%22%2C%22cat_id%3A115%22%2C%22cat_id%3A116%22%2C%22cat_id%3A117%22%5D%5D&numericFilters=%5B%5B%22buybox%3D2%22%5D%2C%5B%22publication_state%3D2%22%5D%2C%5B%22special_offer_type%3D0%22%5D%5D\"},{\"indexName\":\"prod_index_starting_from\",\"params\":\"hitsPerPage=1&facetingAfterDistinct=true&attributesToRetrieve=%5B%22objectID%22%2C%22backmarketID%22%2C%22link%22%2C%22price%22%2C%22price_with_currency%22%2C%22price_new%22%2C%22price_new_with_currency%22%2C%22warranty%22%2C%22title%22%2C%22slug%22%2C%22merchant_slug%22%2C%22sub_title%22%2C%22state_label%22%2C%22state_value%22%2C%22image1%22%2C%22compatible_carriers%22%2C%22is_sim_locked%22%2C%22list_view%22%2C%22nb_results_starting_from%22%2C%22stockRaw%22%2C%22pressureStockLimit%22%5D&page=0&attributesToHighlight=%5B%5D&attributesToSnippet=%5B%5D&tagFilters=&analytics=false&clickAnalytics=false&facets=cat_id&numericFilters=%5B%5B%22buybox%3D2%22%5D%2C%5B%22publication_state%3D2%22%5D%2C%5B%22special_offer_type%3D0%22%5D%5D\"}]}'\n",
    "    data = data.replace(\"page=0\", f\"page={i}\")\n",
    "    response=r.post(url, headers=headers, data=data)\n",
    "    back=response.json()\n",
    "    df=pd.json_normalize(back['results'][0]['hits'])\n",
    "    df_final=df_final.append(df)\n",
    "    print('page number',i,'is done!')\n",
    "    if i%5==0:\n",
    "        time.sleep(2)"
   ]
  },
  {
   "cell_type": "code",
   "execution_count": 117,
   "metadata": {},
   "outputs": [
    {
     "data": {
      "text/plain": [
       "dict"
      ]
     },
     "execution_count": 117,
     "metadata": {},
     "output_type": "execute_result"
    }
   ],
   "source": [
    "#type(response.json())"
   ]
  },
  {
   "cell_type": "code",
   "execution_count": 112,
   "metadata": {},
   "outputs": [
    {
     "data": {
      "text/plain": [
       "True"
      ]
     },
     "execution_count": 112,
     "metadata": {},
     "output_type": "execute_result"
    }
   ],
   "source": [
    "#response.text.find(\"paginationLimitedTo\")>1"
   ]
  },
  {
   "cell_type": "markdown",
   "metadata": {},
   "source": [
    "# Data Cleaning"
   ]
  },
  {
   "cell_type": "code",
   "execution_count": null,
   "metadata": {},
   "outputs": [],
   "source": [
    "df_final.info()"
   ]
  },
  {
   "cell_type": "code",
   "execution_count": 109,
   "metadata": {},
   "outputs": [
    {
     "data": {
      "text/plain": [
       "(270, 43)"
      ]
     },
     "execution_count": 109,
     "metadata": {},
     "output_type": "execute_result"
    }
   ],
   "source": [
    "df_final.shape"
   ]
  },
  {
   "cell_type": "code",
   "execution_count": 110,
   "metadata": {},
   "outputs": [
    {
     "data": {
      "text/plain": [
       "Index(['backmarketID', 'price_with_currency', 'price', 'stockRaw',\n",
       "       'pressureStockLimit', 'warranty', 'slug', 'state_value', 'state_label',\n",
       "       'compatible_carriers', 'is_sim_locked', 'title', 'price_new',\n",
       "       'price_new_with_currency', 'merchant_slug', 'image1', 'objectID',\n",
       "       'link.type', 'link.name', 'link.params.id', 'link.params.slug',\n",
       "       'link.hash.l', 'list_view.brand', 'list_view.warranty',\n",
       "       'list_view.screen_size', 'list_view.storage', 'list_view.storage_type',\n",
       "       'list_view.memory', 'list_view.model', 'list_view.processor_speed',\n",
       "       'list_view.processor_type', 'list_view.date_release',\n",
       "       'list_view.keyboard_type_language', '_highlightResult.title.value',\n",
       "       '_highlightResult.title.matchLevel',\n",
       "       '_highlightResult.title.matchedWords', '_highlightResult.brand.value',\n",
       "       '_highlightResult.brand.matchLevel',\n",
       "       '_highlightResult.brand.matchedWords',\n",
       "       '_highlightResult.category_3.value',\n",
       "       '_highlightResult.category_3.matchLevel',\n",
       "       '_highlightResult.category_3.matchedWords', 'list_view'],\n",
       "      dtype='object')"
      ]
     },
     "execution_count": 110,
     "metadata": {},
     "output_type": "execute_result"
    }
   ],
   "source": [
    "df.columns"
   ]
  },
  {
   "cell_type": "code",
   "execution_count": null,
   "metadata": {},
   "outputs": [],
   "source": [
    "df_final.info()"
   ]
  },
  {
   "cell_type": "markdown",
   "metadata": {},
   "source": [
    "Conclusion:\n",
    "    - 270 rows vs 43 columns. Enough data, probably need to drop some columns\n",
    "    - Lots of columns start with the same prefix or contained weird characters \n",
    "    - Data type: boolean, float, integer and object (>75%)\n",
    "    - info(): shows us that there is only one column with all missing data (list_view)"
   ]
  },
  {
   "cell_type": "markdown",
   "metadata": {},
   "source": [
    "## Drop Columns"
   ]
  },
  {
   "cell_type": "code",
   "execution_count": 112,
   "metadata": {},
   "outputs": [],
   "source": [
    "df_final.drop(columns=['_highlightResult.title.matchLevel','compatible_carriers','image1', 'link.type', 'link.name', 'link.params.id', 'link.params.slug',\n",
    "'link.hash.l','_highlightResult.title.matchLevel','_highlightResult.title.matchedWords', '_highlightResult.brand.value',\n",
    "       '_highlightResult.brand.matchLevel',\n",
    "       '_highlightResult.brand.matchedWords',\n",
    "       '_highlightResult.category_3.value',\n",
    "       '_highlightResult.category_3.matchLevel',\n",
    "       '_highlightResult.category_3.matchedWords', 'list_view','is_sim_locked','price_new_with_currency','price_with_currency'],inplace=True)                          \n",
    "\n",
    "                          "
   ]
  },
  {
   "cell_type": "code",
   "execution_count": null,
   "metadata": {},
   "outputs": [],
   "source": []
  },
  {
   "cell_type": "markdown",
   "metadata": {},
   "source": [
    "#  String Operations"
   ]
  },
  {
   "cell_type": "code",
   "execution_count": 136,
   "metadata": {},
   "outputs": [
    {
     "data": {
      "text/plain": [
       "Index(['backmarketid', 'price', 'stockraw', 'pressurestocklimit', 'warranty',\n",
       "       'slug', 'state_value', 'state_label', 'title', 'price_new',\n",
       "       'merchant_slug', 'objectid', 'brand', 'warranty', 'size', 'storage',\n",
       "       'memory', 'model', 'processor_speed', 'processor_type', 'storage_type',\n",
       "       'date_release', 'keyboard_type_language',\n",
       "       'highlightresult_title_value'],\n",
       "      dtype='object')"
      ]
     },
     "execution_count": 136,
     "metadata": {},
     "output_type": "execute_result"
    }
   ],
   "source": [
    "df_final.columns=df_final.columns=df_final.columns.str.lower().str.strip('_ ').str.replace('list_view.','').str.replace(\".\",\"_\")    #lower case all the string\n",
    "df_final.columns"
   ]
  },
  {
   "cell_type": "code",
   "execution_count": null,
   "metadata": {},
   "outputs": [],
   "source": [
    "df_final.head()"
   ]
  },
  {
   "cell_type": "markdown",
   "metadata": {},
   "source": [
    "Summary of the cleaning:\n",
    "    - Drop columns with all null values, with 1 unique values on the rows... not relevant to the dataset\n",
    "    - String Operations: remove _ at the beginning of the column name, shorten column name etc."
   ]
  },
  {
   "cell_type": "markdown",
   "metadata": {},
   "source": [
    "# Export file"
   ]
  },
  {
   "cell_type": "code",
   "execution_count": 144,
   "metadata": {},
   "outputs": [],
   "source": [
    "# Export comma-separated variable file\n",
    "df_final.to_csv('df_final.csv', index=False)"
   ]
  },
  {
   "cell_type": "code",
   "execution_count": null,
   "metadata": {},
   "outputs": [],
   "source": []
  },
  {
   "cell_type": "code",
   "execution_count": null,
   "metadata": {},
   "outputs": [],
   "source": []
  }
 ],
 "metadata": {
  "kernelspec": {
   "display_name": "Python 3",
   "language": "python",
   "name": "python3"
  },
  "language_info": {
   "codemirror_mode": {
    "name": "ipython",
    "version": 3
   },
   "file_extension": ".py",
   "mimetype": "text/x-python",
   "name": "python",
   "nbconvert_exporter": "python",
   "pygments_lexer": "ipython3",
   "version": "3.8.3"
  }
 },
 "nbformat": 4,
 "nbformat_minor": 4
}
