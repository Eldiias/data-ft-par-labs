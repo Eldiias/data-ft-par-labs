{
 "cells": [
  {
   "cell_type": "markdown",
   "metadata": {},
   "source": [
    "### Importing and Cleaning Dataset"
   ]
  },
  {
   "cell_type": "code",
   "execution_count": 2,
   "metadata": {},
   "outputs": [
    {
     "name": "stderr",
     "output_type": "stream",
     "text": [
      "/Users/laetitia/opt/anaconda3/lib/python3.7/site-packages/statsmodels/tools/_testing.py:19: FutureWarning: pandas.util.testing is deprecated. Use the functions in the public API at pandas.testing instead.\n",
      "  import pandas.util.testing as tm\n"
     ]
    }
   ],
   "source": [
    "# importing libraries as needed\n",
    "\n",
    "import pandas as pd\n",
    "import numpy as np\n",
    "import seaborn as sns\n",
    "import matplotlib.pyplot as plt\n",
    "from statsmodels.formula.api import ols\n",
    "from statsmodels.api import OLS\n",
    "from statsmodels.api import add_constant"
   ]
  },
  {
   "cell_type": "code",
   "execution_count": 3,
   "metadata": {},
   "outputs": [],
   "source": [
    "df = pd.read_csv('/Users/laetitia/IronHack/data-ft-par-labs/Projects/Week-5_6/hotel_bookings.csv')"
   ]
  },
  {
   "cell_type": "code",
   "execution_count": 4,
   "metadata": {},
   "outputs": [
    {
     "data": {
      "text/html": [
       "<div>\n",
       "<style scoped>\n",
       "    .dataframe tbody tr th:only-of-type {\n",
       "        vertical-align: middle;\n",
       "    }\n",
       "\n",
       "    .dataframe tbody tr th {\n",
       "        vertical-align: top;\n",
       "    }\n",
       "\n",
       "    .dataframe thead th {\n",
       "        text-align: right;\n",
       "    }\n",
       "</style>\n",
       "<table border=\"1\" class=\"dataframe\">\n",
       "  <thead>\n",
       "    <tr style=\"text-align: right;\">\n",
       "      <th></th>\n",
       "      <th>hotel</th>\n",
       "      <th>is_canceled</th>\n",
       "      <th>lead_time</th>\n",
       "      <th>arrival_date_year</th>\n",
       "      <th>arrival_date_month</th>\n",
       "      <th>arrival_date_week_number</th>\n",
       "      <th>arrival_date_day_of_month</th>\n",
       "      <th>stays_in_weekend_nights</th>\n",
       "      <th>stays_in_week_nights</th>\n",
       "      <th>adults</th>\n",
       "      <th>...</th>\n",
       "      <th>deposit_type</th>\n",
       "      <th>agent</th>\n",
       "      <th>company</th>\n",
       "      <th>days_in_waiting_list</th>\n",
       "      <th>customer_type</th>\n",
       "      <th>adr</th>\n",
       "      <th>required_car_parking_spaces</th>\n",
       "      <th>total_of_special_requests</th>\n",
       "      <th>reservation_status</th>\n",
       "      <th>reservation_status_date</th>\n",
       "    </tr>\n",
       "  </thead>\n",
       "  <tbody>\n",
       "    <tr>\n",
       "      <th>0</th>\n",
       "      <td>Resort Hotel</td>\n",
       "      <td>0</td>\n",
       "      <td>342</td>\n",
       "      <td>2015</td>\n",
       "      <td>July</td>\n",
       "      <td>27</td>\n",
       "      <td>1</td>\n",
       "      <td>0</td>\n",
       "      <td>0</td>\n",
       "      <td>2</td>\n",
       "      <td>...</td>\n",
       "      <td>No Deposit</td>\n",
       "      <td>NaN</td>\n",
       "      <td>NaN</td>\n",
       "      <td>0</td>\n",
       "      <td>Transient</td>\n",
       "      <td>0.0</td>\n",
       "      <td>0</td>\n",
       "      <td>0</td>\n",
       "      <td>Check-Out</td>\n",
       "      <td>2015-07-01</td>\n",
       "    </tr>\n",
       "    <tr>\n",
       "      <th>1</th>\n",
       "      <td>Resort Hotel</td>\n",
       "      <td>0</td>\n",
       "      <td>737</td>\n",
       "      <td>2015</td>\n",
       "      <td>July</td>\n",
       "      <td>27</td>\n",
       "      <td>1</td>\n",
       "      <td>0</td>\n",
       "      <td>0</td>\n",
       "      <td>2</td>\n",
       "      <td>...</td>\n",
       "      <td>No Deposit</td>\n",
       "      <td>NaN</td>\n",
       "      <td>NaN</td>\n",
       "      <td>0</td>\n",
       "      <td>Transient</td>\n",
       "      <td>0.0</td>\n",
       "      <td>0</td>\n",
       "      <td>0</td>\n",
       "      <td>Check-Out</td>\n",
       "      <td>2015-07-01</td>\n",
       "    </tr>\n",
       "    <tr>\n",
       "      <th>2</th>\n",
       "      <td>Resort Hotel</td>\n",
       "      <td>0</td>\n",
       "      <td>7</td>\n",
       "      <td>2015</td>\n",
       "      <td>July</td>\n",
       "      <td>27</td>\n",
       "      <td>1</td>\n",
       "      <td>0</td>\n",
       "      <td>1</td>\n",
       "      <td>1</td>\n",
       "      <td>...</td>\n",
       "      <td>No Deposit</td>\n",
       "      <td>NaN</td>\n",
       "      <td>NaN</td>\n",
       "      <td>0</td>\n",
       "      <td>Transient</td>\n",
       "      <td>75.0</td>\n",
       "      <td>0</td>\n",
       "      <td>0</td>\n",
       "      <td>Check-Out</td>\n",
       "      <td>2015-07-02</td>\n",
       "    </tr>\n",
       "  </tbody>\n",
       "</table>\n",
       "<p>3 rows × 32 columns</p>\n",
       "</div>"
      ],
      "text/plain": [
       "          hotel  is_canceled  lead_time  arrival_date_year arrival_date_month  \\\n",
       "0  Resort Hotel            0        342               2015               July   \n",
       "1  Resort Hotel            0        737               2015               July   \n",
       "2  Resort Hotel            0          7               2015               July   \n",
       "\n",
       "   arrival_date_week_number  arrival_date_day_of_month  \\\n",
       "0                        27                          1   \n",
       "1                        27                          1   \n",
       "2                        27                          1   \n",
       "\n",
       "   stays_in_weekend_nights  stays_in_week_nights  adults  ...  deposit_type  \\\n",
       "0                        0                     0       2  ...    No Deposit   \n",
       "1                        0                     0       2  ...    No Deposit   \n",
       "2                        0                     1       1  ...    No Deposit   \n",
       "\n",
       "   agent company days_in_waiting_list customer_type   adr  \\\n",
       "0    NaN     NaN                    0     Transient   0.0   \n",
       "1    NaN     NaN                    0     Transient   0.0   \n",
       "2    NaN     NaN                    0     Transient  75.0   \n",
       "\n",
       "   required_car_parking_spaces  total_of_special_requests  reservation_status  \\\n",
       "0                            0                          0           Check-Out   \n",
       "1                            0                          0           Check-Out   \n",
       "2                            0                          0           Check-Out   \n",
       "\n",
       "  reservation_status_date  \n",
       "0              2015-07-01  \n",
       "1              2015-07-01  \n",
       "2              2015-07-02  \n",
       "\n",
       "[3 rows x 32 columns]"
      ]
     },
     "execution_count": 4,
     "metadata": {},
     "output_type": "execute_result"
    }
   ],
   "source": [
    "df.head(3)"
   ]
  },
  {
   "cell_type": "code",
   "execution_count": 5,
   "metadata": {},
   "outputs": [
    {
     "data": {
      "text/plain": [
       "(119390, 32)"
      ]
     },
     "execution_count": 5,
     "metadata": {},
     "output_type": "execute_result"
    }
   ],
   "source": [
    "df.shape"
   ]
  },
  {
   "cell_type": "code",
   "execution_count": 6,
   "metadata": {},
   "outputs": [
    {
     "name": "stdout",
     "output_type": "stream",
     "text": [
      "<class 'pandas.core.frame.DataFrame'>\n",
      "RangeIndex: 119390 entries, 0 to 119389\n",
      "Data columns (total 30 columns):\n",
      " #   Column                          Non-Null Count   Dtype  \n",
      "---  ------                          --------------   -----  \n",
      " 0   hotel                           119390 non-null  object \n",
      " 1   is_canceled                     119390 non-null  int64  \n",
      " 2   lead_time                       119390 non-null  int64  \n",
      " 3   arrival_date_year               119390 non-null  int64  \n",
      " 4   arrival_date_month              119390 non-null  object \n",
      " 5   arrival_date_week_number        119390 non-null  int64  \n",
      " 6   arrival_date_day_of_month       119390 non-null  int64  \n",
      " 7   stays_in_weekend_nights         119390 non-null  int64  \n",
      " 8   stays_in_week_nights            119390 non-null  int64  \n",
      " 9   adults                          119390 non-null  int64  \n",
      " 10  children                        119386 non-null  float64\n",
      " 11  babies                          119390 non-null  int64  \n",
      " 12  meal                            119390 non-null  object \n",
      " 13  country                         118902 non-null  object \n",
      " 14  market_segment                  119390 non-null  object \n",
      " 15  distribution_channel            119390 non-null  object \n",
      " 16  is_repeated_guest               119390 non-null  int64  \n",
      " 17  previous_cancellations          119390 non-null  int64  \n",
      " 18  previous_bookings_not_canceled  119390 non-null  int64  \n",
      " 19  reserved_room_type              119390 non-null  object \n",
      " 20  assigned_room_type              119390 non-null  object \n",
      " 21  booking_changes                 119390 non-null  int64  \n",
      " 22  deposit_type                    119390 non-null  object \n",
      " 23  days_in_waiting_list            119390 non-null  int64  \n",
      " 24  customer_type                   119390 non-null  object \n",
      " 25  adr                             119390 non-null  float64\n",
      " 26  required_car_parking_spaces     119390 non-null  int64  \n",
      " 27  total_of_special_requests       119390 non-null  int64  \n",
      " 28  reservation_status              119390 non-null  object \n",
      " 29  reservation_status_date         119390 non-null  object \n",
      "dtypes: float64(2), int64(16), object(12)\n",
      "memory usage: 27.3+ MB\n"
     ]
    }
   ],
   "source": [
    "# Cleaning the dataset\n",
    "# Dropping columns not needed\n",
    "\n",
    "df1 = df.drop(['agent', 'company'], axis=1)\n",
    "df1.info()"
   ]
  },
  {
   "cell_type": "code",
   "execution_count": 7,
   "metadata": {},
   "outputs": [
    {
     "data": {
      "text/plain": [
       "(119390, 30)"
      ]
     },
     "execution_count": 7,
     "metadata": {},
     "output_type": "execute_result"
    }
   ],
   "source": [
    "df1.shape"
   ]
  },
  {
   "cell_type": "markdown",
   "metadata": {},
   "source": [
    "#### Getting country code names from the internet"
   ]
  },
  {
   "cell_type": "code",
   "execution_count": 8,
   "metadata": {},
   "outputs": [
    {
     "data": {
      "text/plain": [
       "5"
      ]
     },
     "execution_count": 8,
     "metadata": {},
     "output_type": "execute_result"
    }
   ],
   "source": [
    "countries = pd.read_html('https://en.wikipedia.org/wiki/ISO_3166-1')\n",
    "len(countries)"
   ]
  },
  {
   "cell_type": "code",
   "execution_count": 9,
   "metadata": {},
   "outputs": [],
   "source": [
    "countries1 = countries[1]"
   ]
  },
  {
   "cell_type": "code",
   "execution_count": 10,
   "metadata": {},
   "outputs": [],
   "source": [
    "countries2 = countries1.drop(['Alpha-2 code', 'Numeric code', 'Link to ISO 3166-2 subdivision codes', 'Independent'], axis=1)\n",
    "change_name = countries2.rename(columns={'Alpha-3 code':'country'})\n",
    "data = df1.merge(change_name, on='country', how='left')"
   ]
  },
  {
   "cell_type": "code",
   "execution_count": 11,
   "metadata": {},
   "outputs": [],
   "source": [
    "data1 = data.rename(columns={'English short name (using title case)':'country_name', 'country':'country_code'})\n",
    "hotel_bookings = data1.copy()"
   ]
  },
  {
   "cell_type": "code",
   "execution_count": 11,
   "metadata": {},
   "outputs": [],
   "source": [
    "hotel_bookings.loc[hotel_bookings .country_code == 'CN', 'country_name'] = 'China' \n",
    "hotel_bookings.loc[hotel_bookings .country_code == 'TMP', 'country_name'] = 'East Timor'"
   ]
  },
  {
   "cell_type": "code",
   "execution_count": 12,
   "metadata": {},
   "outputs": [
    {
     "name": "stdout",
     "output_type": "stream",
     "text": [
      "<class 'pandas.core.frame.DataFrame'>\n",
      "Int64Index: 119390 entries, 0 to 119389\n",
      "Data columns (total 31 columns):\n",
      " #   Column                          Non-Null Count   Dtype  \n",
      "---  ------                          --------------   -----  \n",
      " 0   hotel                           119390 non-null  object \n",
      " 1   is_canceled                     119390 non-null  int64  \n",
      " 2   lead_time                       119390 non-null  int64  \n",
      " 3   arrival_date_year               119390 non-null  int64  \n",
      " 4   arrival_date_month              119390 non-null  object \n",
      " 5   arrival_date_week_number        119390 non-null  int64  \n",
      " 6   arrival_date_day_of_month       119390 non-null  int64  \n",
      " 7   stays_in_weekend_nights         119390 non-null  int64  \n",
      " 8   stays_in_week_nights            119390 non-null  int64  \n",
      " 9   adults                          119390 non-null  int64  \n",
      " 10  children                        119386 non-null  float64\n",
      " 11  babies                          119390 non-null  int64  \n",
      " 12  meal                            119390 non-null  object \n",
      " 13  country_code                    118902 non-null  object \n",
      " 14  market_segment                  119390 non-null  object \n",
      " 15  distribution_channel            119390 non-null  object \n",
      " 16  is_repeated_guest               119390 non-null  int64  \n",
      " 17  previous_cancellations          119390 non-null  int64  \n",
      " 18  previous_bookings_not_canceled  119390 non-null  int64  \n",
      " 19  reserved_room_type              119390 non-null  object \n",
      " 20  assigned_room_type              119390 non-null  object \n",
      " 21  booking_changes                 119390 non-null  int64  \n",
      " 22  deposit_type                    119390 non-null  object \n",
      " 23  days_in_waiting_list            119390 non-null  int64  \n",
      " 24  customer_type                   119390 non-null  object \n",
      " 25  adr                             119390 non-null  float64\n",
      " 26  required_car_parking_spaces     119390 non-null  int64  \n",
      " 27  total_of_special_requests       119390 non-null  int64  \n",
      " 28  reservation_status              119390 non-null  object \n",
      " 29  reservation_status_date         119390 non-null  object \n",
      " 30  country_name                    118902 non-null  object \n",
      "dtypes: float64(2), int64(16), object(13)\n",
      "memory usage: 29.1+ MB\n"
     ]
    }
   ],
   "source": [
    "hotel_bookings.info()"
   ]
  },
  {
   "cell_type": "code",
   "execution_count": 13,
   "metadata": {},
   "outputs": [
    {
     "data": {
      "text/html": [
       "<div>\n",
       "<style scoped>\n",
       "    .dataframe tbody tr th:only-of-type {\n",
       "        vertical-align: middle;\n",
       "    }\n",
       "\n",
       "    .dataframe tbody tr th {\n",
       "        vertical-align: top;\n",
       "    }\n",
       "\n",
       "    .dataframe thead th {\n",
       "        text-align: right;\n",
       "    }\n",
       "</style>\n",
       "<table border=\"1\" class=\"dataframe\">\n",
       "  <thead>\n",
       "    <tr style=\"text-align: right;\">\n",
       "      <th></th>\n",
       "      <th>hotel</th>\n",
       "      <th>is_canceled</th>\n",
       "      <th>lead_time</th>\n",
       "      <th>arrival_date_year</th>\n",
       "      <th>arrival_date_month</th>\n",
       "      <th>arrival_date_week_number</th>\n",
       "      <th>arrival_date_day_of_month</th>\n",
       "      <th>stays_in_weekend_nights</th>\n",
       "      <th>stays_in_week_nights</th>\n",
       "      <th>adults</th>\n",
       "      <th>...</th>\n",
       "      <th>booking_changes</th>\n",
       "      <th>deposit_type</th>\n",
       "      <th>days_in_waiting_list</th>\n",
       "      <th>customer_type</th>\n",
       "      <th>adr</th>\n",
       "      <th>required_car_parking_spaces</th>\n",
       "      <th>total_of_special_requests</th>\n",
       "      <th>reservation_status</th>\n",
       "      <th>reservation_status_date</th>\n",
       "      <th>country_name</th>\n",
       "    </tr>\n",
       "  </thead>\n",
       "  <tbody>\n",
       "    <tr>\n",
       "      <th>0</th>\n",
       "      <td>Resort Hotel</td>\n",
       "      <td>0</td>\n",
       "      <td>342</td>\n",
       "      <td>2015</td>\n",
       "      <td>July</td>\n",
       "      <td>27</td>\n",
       "      <td>1</td>\n",
       "      <td>0</td>\n",
       "      <td>0</td>\n",
       "      <td>2</td>\n",
       "      <td>...</td>\n",
       "      <td>3</td>\n",
       "      <td>No Deposit</td>\n",
       "      <td>0</td>\n",
       "      <td>Transient</td>\n",
       "      <td>0.0</td>\n",
       "      <td>0</td>\n",
       "      <td>0</td>\n",
       "      <td>Check-Out</td>\n",
       "      <td>2015-07-01</td>\n",
       "      <td>Portugal</td>\n",
       "    </tr>\n",
       "    <tr>\n",
       "      <th>1</th>\n",
       "      <td>Resort Hotel</td>\n",
       "      <td>0</td>\n",
       "      <td>737</td>\n",
       "      <td>2015</td>\n",
       "      <td>July</td>\n",
       "      <td>27</td>\n",
       "      <td>1</td>\n",
       "      <td>0</td>\n",
       "      <td>0</td>\n",
       "      <td>2</td>\n",
       "      <td>...</td>\n",
       "      <td>4</td>\n",
       "      <td>No Deposit</td>\n",
       "      <td>0</td>\n",
       "      <td>Transient</td>\n",
       "      <td>0.0</td>\n",
       "      <td>0</td>\n",
       "      <td>0</td>\n",
       "      <td>Check-Out</td>\n",
       "      <td>2015-07-01</td>\n",
       "      <td>Portugal</td>\n",
       "    </tr>\n",
       "  </tbody>\n",
       "</table>\n",
       "<p>2 rows × 31 columns</p>\n",
       "</div>"
      ],
      "text/plain": [
       "          hotel  is_canceled  lead_time  arrival_date_year arrival_date_month  \\\n",
       "0  Resort Hotel            0        342               2015               July   \n",
       "1  Resort Hotel            0        737               2015               July   \n",
       "\n",
       "   arrival_date_week_number  arrival_date_day_of_month  \\\n",
       "0                        27                          1   \n",
       "1                        27                          1   \n",
       "\n",
       "   stays_in_weekend_nights  stays_in_week_nights  adults  ...  \\\n",
       "0                        0                     0       2  ...   \n",
       "1                        0                     0       2  ...   \n",
       "\n",
       "   booking_changes  deposit_type days_in_waiting_list customer_type  adr  \\\n",
       "0                3    No Deposit                    0     Transient  0.0   \n",
       "1                4    No Deposit                    0     Transient  0.0   \n",
       "\n",
       "  required_car_parking_spaces  total_of_special_requests  reservation_status  \\\n",
       "0                           0                          0           Check-Out   \n",
       "1                           0                          0           Check-Out   \n",
       "\n",
       "   reservation_status_date country_name  \n",
       "0               2015-07-01     Portugal  \n",
       "1               2015-07-01     Portugal  \n",
       "\n",
       "[2 rows x 31 columns]"
      ]
     },
     "execution_count": 13,
     "metadata": {},
     "output_type": "execute_result"
    }
   ],
   "source": [
    "hotel_bookings.head(2)"
   ]
  },
  {
   "cell_type": "markdown",
   "metadata": {},
   "source": [
    "----"
   ]
  },
  {
   "cell_type": "markdown",
   "metadata": {},
   "source": [
    "### Visualizations"
   ]
  },
  {
   "cell_type": "markdown",
   "metadata": {},
   "source": [
    "#### 1. Revenue per Trip"
   ]
  },
  {
   "cell_type": "code",
   "execution_count": 14,
   "metadata": {},
   "outputs": [],
   "source": [
    "# Calculating the revenue per week, weekend and total stay from the adr(average daily rate)\n",
    "\n",
    "hotel_bookings['revenue_per_stay'] = hotel_bookings['adr'] * (hotel_bookings['stays_in_week_nights'] + \n",
    "                                                              hotel_bookings['stays_in_weekend_nights'])"
   ]
  },
  {
   "cell_type": "code",
   "execution_count": 15,
   "metadata": {},
   "outputs": [],
   "source": [
    "hotel_bookings.head(3);"
   ]
  },
  {
   "cell_type": "code",
   "execution_count": 16,
   "metadata": {},
   "outputs": [
    {
     "data": {
      "text/html": [
       "<div>\n",
       "<style scoped>\n",
       "    .dataframe tbody tr th:only-of-type {\n",
       "        vertical-align: middle;\n",
       "    }\n",
       "\n",
       "    .dataframe tbody tr th {\n",
       "        vertical-align: top;\n",
       "    }\n",
       "\n",
       "    .dataframe thead th {\n",
       "        text-align: right;\n",
       "    }\n",
       "</style>\n",
       "<table border=\"1\" class=\"dataframe\">\n",
       "  <thead>\n",
       "    <tr style=\"text-align: right;\">\n",
       "      <th></th>\n",
       "      <th>arrival_date_year</th>\n",
       "      <th>revenue_per_stay</th>\n",
       "    </tr>\n",
       "  </thead>\n",
       "  <tbody>\n",
       "    <tr>\n",
       "      <th>0</th>\n",
       "      <td>2015</td>\n",
       "      <td>6818116.56</td>\n",
       "    </tr>\n",
       "    <tr>\n",
       "      <th>1</th>\n",
       "      <td>2016</td>\n",
       "      <td>18870601.20</td>\n",
       "    </tr>\n",
       "    <tr>\n",
       "      <th>2</th>\n",
       "      <td>2017</td>\n",
       "      <td>17034779.77</td>\n",
       "    </tr>\n",
       "  </tbody>\n",
       "</table>\n",
       "</div>"
      ],
      "text/plain": [
       "   arrival_date_year  revenue_per_stay\n",
       "0               2015        6818116.56\n",
       "1               2016       18870601.20\n",
       "2               2017       17034779.77"
      ]
     },
     "execution_count": 16,
     "metadata": {},
     "output_type": "execute_result"
    }
   ],
   "source": [
    "# Calculating the yearly revenue\n",
    "\n",
    "revenue_yearly = hotel_bookings.groupby(['arrival_date_year'])['revenue_per_stay'].sum().reset_index()\n",
    "revenue_yearly"
   ]
  },
  {
   "cell_type": "code",
   "execution_count": 17,
   "metadata": {},
   "outputs": [
    {
     "data": {
      "image/png": "[encoded data removed]",
      "text/plain": [
       "<Figure size 720x432 with 1 Axes>"
      ]
     },
     "metadata": {
      "needs_background": "light"
     },
     "output_type": "display_data"
    }
   ],
   "source": [
    "# Plotting yearly revenue\n",
    "\n",
    "plt.figure(figsize=(10,6))\n",
    "sns.barplot(data=revenue_yearly, x='arrival_date_year', y='revenue_per_stay',  palette='mako')\n",
    "plt.ticklabel_format(style='plain', axis='y')\n",
    "plt.show()"
   ]
  },
  {
   "cell_type": "code",
   "execution_count": 18,
   "metadata": {},
   "outputs": [],
   "source": [
    "# Calculating the monthly revenue\n",
    "\n",
    "revenue_monthly = hotel_bookings.groupby(['arrival_date_year','arrival_date_month'])['revenue_per_stay'].sum()\n",
    "revenue_monthly  = revenue_monthly.reset_index()\n",
    "revenue_monthly;"
   ]
  },
  {
   "cell_type": "code",
   "execution_count": 19,
   "metadata": {},
   "outputs": [
    {
     "data": {
      "image/png": "[encoded data removed]",
      "text/plain": [
       "<Figure size 1080x648 with 1 Axes>"
      ]
     },
     "metadata": {
      "needs_background": "light"
     },
     "output_type": "display_data"
    }
   ],
   "source": [
    "# Plotting montly revenue\n",
    "\n",
    "plt.figure(figsize=(15,9))\n",
    "months = ['January','February','March','April','May','June','July','August','September','October','November','December']\n",
    "sns.barplot(data=revenue_monthly, x='arrival_date_month', y='revenue_per_stay', hue='arrival_date_year', \n",
    "            palette='mako', order=months)\n",
    "plt.ticklabel_format(style='plain', axis='y')\n",
    "plt.show()"
   ]
  },
  {
   "cell_type": "markdown",
   "metadata": {},
   "source": [
    "- Data is complete only for 2016\n",
    "- Revenue seem to be higher during summer months (June, July, August)"
   ]
  },
  {
   "cell_type": "markdown",
   "metadata": {},
   "source": [
    "#### Data is complete for 2016, so we drop 2015 and 2017 data and use 2016 data for our ananlysis model prediction"
   ]
  },
  {
   "cell_type": "code",
   "execution_count": 20,
   "metadata": {},
   "outputs": [
    {
     "data": {
      "text/plain": [
       "(56707, 32)"
      ]
     },
     "execution_count": 20,
     "metadata": {},
     "output_type": "execute_result"
    }
   ],
   "source": [
    "hotel_bookings_2016 = hotel_bookings[hotel_bookings['arrival_date_year'] == 2016]\n",
    "hotel_bookings_2016.shape"
   ]
  },
  {
   "cell_type": "code",
   "execution_count": 21,
   "metadata": {},
   "outputs": [
    {
     "data": {
      "text/html": [
       "<div>\n",
       "<style scoped>\n",
       "    .dataframe tbody tr th:only-of-type {\n",
       "        vertical-align: middle;\n",
       "    }\n",
       "\n",
       "    .dataframe tbody tr th {\n",
       "        vertical-align: top;\n",
       "    }\n",
       "\n",
       "    .dataframe thead th {\n",
       "        text-align: right;\n",
       "    }\n",
       "</style>\n",
       "<table border=\"1\" class=\"dataframe\">\n",
       "  <thead>\n",
       "    <tr style=\"text-align: right;\">\n",
       "      <th></th>\n",
       "      <th>hotel</th>\n",
       "      <th>is_canceled</th>\n",
       "      <th>lead_time</th>\n",
       "      <th>arrival_date_year</th>\n",
       "      <th>arrival_date_month</th>\n",
       "      <th>arrival_date_week_number</th>\n",
       "      <th>arrival_date_day_of_month</th>\n",
       "      <th>stays_in_weekend_nights</th>\n",
       "      <th>stays_in_week_nights</th>\n",
       "      <th>adults</th>\n",
       "      <th>...</th>\n",
       "      <th>deposit_type</th>\n",
       "      <th>days_in_waiting_list</th>\n",
       "      <th>customer_type</th>\n",
       "      <th>adr</th>\n",
       "      <th>required_car_parking_spaces</th>\n",
       "      <th>total_of_special_requests</th>\n",
       "      <th>reservation_status</th>\n",
       "      <th>reservation_status_date</th>\n",
       "      <th>country_name</th>\n",
       "      <th>revenue_per_stay</th>\n",
       "    </tr>\n",
       "  </thead>\n",
       "  <tbody>\n",
       "    <tr>\n",
       "      <th>104147</th>\n",
       "      <td>City Hotel</td>\n",
       "      <td>0</td>\n",
       "      <td>107</td>\n",
       "      <td>2016</td>\n",
       "      <td>December</td>\n",
       "      <td>53</td>\n",
       "      <td>31</td>\n",
       "      <td>2</td>\n",
       "      <td>5</td>\n",
       "      <td>2</td>\n",
       "      <td>...</td>\n",
       "      <td>No Deposit</td>\n",
       "      <td>0</td>\n",
       "      <td>Transient</td>\n",
       "      <td>103.57</td>\n",
       "      <td>0</td>\n",
       "      <td>0</td>\n",
       "      <td>Check-Out</td>\n",
       "      <td>2017-01-07</td>\n",
       "      <td>France</td>\n",
       "      <td>724.99</td>\n",
       "    </tr>\n",
       "    <tr>\n",
       "      <th>104216</th>\n",
       "      <td>City Hotel</td>\n",
       "      <td>0</td>\n",
       "      <td>310</td>\n",
       "      <td>2016</td>\n",
       "      <td>December</td>\n",
       "      <td>53</td>\n",
       "      <td>27</td>\n",
       "      <td>2</td>\n",
       "      <td>10</td>\n",
       "      <td>2</td>\n",
       "      <td>...</td>\n",
       "      <td>No Deposit</td>\n",
       "      <td>0</td>\n",
       "      <td>Transient-Party</td>\n",
       "      <td>68.57</td>\n",
       "      <td>0</td>\n",
       "      <td>2</td>\n",
       "      <td>Check-Out</td>\n",
       "      <td>2017-01-08</td>\n",
       "      <td>Germany</td>\n",
       "      <td>822.84</td>\n",
       "    </tr>\n",
       "    <tr>\n",
       "      <th>104219</th>\n",
       "      <td>City Hotel</td>\n",
       "      <td>0</td>\n",
       "      <td>310</td>\n",
       "      <td>2016</td>\n",
       "      <td>December</td>\n",
       "      <td>53</td>\n",
       "      <td>27</td>\n",
       "      <td>2</td>\n",
       "      <td>10</td>\n",
       "      <td>2</td>\n",
       "      <td>...</td>\n",
       "      <td>No Deposit</td>\n",
       "      <td>0</td>\n",
       "      <td>Transient-Party</td>\n",
       "      <td>68.57</td>\n",
       "      <td>0</td>\n",
       "      <td>2</td>\n",
       "      <td>Check-Out</td>\n",
       "      <td>2017-01-08</td>\n",
       "      <td>Germany</td>\n",
       "      <td>822.84</td>\n",
       "    </tr>\n",
       "  </tbody>\n",
       "</table>\n",
       "<p>3 rows × 32 columns</p>\n",
       "</div>"
      ],
      "text/plain": [
       "             hotel  is_canceled  lead_time  arrival_date_year  \\\n",
       "104147  City Hotel            0        107               2016   \n",
       "104216  City Hotel            0        310               2016   \n",
       "104219  City Hotel            0        310               2016   \n",
       "\n",
       "       arrival_date_month  arrival_date_week_number  \\\n",
       "104147           December                        53   \n",
       "104216           December                        53   \n",
       "104219           December                        53   \n",
       "\n",
       "        arrival_date_day_of_month  stays_in_weekend_nights  \\\n",
       "104147                         31                        2   \n",
       "104216                         27                        2   \n",
       "104219                         27                        2   \n",
       "\n",
       "        stays_in_week_nights  adults  ...  deposit_type  days_in_waiting_list  \\\n",
       "104147                     5       2  ...    No Deposit                     0   \n",
       "104216                    10       2  ...    No Deposit                     0   \n",
       "104219                    10       2  ...    No Deposit                     0   \n",
       "\n",
       "          customer_type     adr required_car_parking_spaces  \\\n",
       "104147        Transient  103.57                           0   \n",
       "104216  Transient-Party   68.57                           0   \n",
       "104219  Transient-Party   68.57                           0   \n",
       "\n",
       "       total_of_special_requests  reservation_status  reservation_status_date  \\\n",
       "104147                         0           Check-Out               2017-01-07   \n",
       "104216                         2           Check-Out               2017-01-08   \n",
       "104219                         2           Check-Out               2017-01-08   \n",
       "\n",
       "        country_name revenue_per_stay  \n",
       "104147        France           724.99  \n",
       "104216       Germany           822.84  \n",
       "104219       Germany           822.84  \n",
       "\n",
       "[3 rows x 32 columns]"
      ]
     },
     "execution_count": 21,
     "metadata": {},
     "output_type": "execute_result"
    }
   ],
   "source": [
    "hotel_bookings_2016.tail(3)"
   ]
  },
  {
   "cell_type": "code",
   "execution_count": 22,
   "metadata": {},
   "outputs": [
    {
     "data": {
      "text/html": [
       "<div>\n",
       "<style scoped>\n",
       "    .dataframe tbody tr th:only-of-type {\n",
       "        vertical-align: middle;\n",
       "    }\n",
       "\n",
       "    .dataframe tbody tr th {\n",
       "        vertical-align: top;\n",
       "    }\n",
       "\n",
       "    .dataframe thead th {\n",
       "        text-align: right;\n",
       "    }\n",
       "</style>\n",
       "<table border=\"1\" class=\"dataframe\">\n",
       "  <thead>\n",
       "    <tr style=\"text-align: right;\">\n",
       "      <th></th>\n",
       "      <th>hotel</th>\n",
       "      <th>is_canceled</th>\n",
       "    </tr>\n",
       "  </thead>\n",
       "  <tbody>\n",
       "    <tr>\n",
       "      <th>0</th>\n",
       "      <td>City Hotel</td>\n",
       "      <td>38140</td>\n",
       "    </tr>\n",
       "    <tr>\n",
       "      <th>1</th>\n",
       "      <td>Resort Hotel</td>\n",
       "      <td>18567</td>\n",
       "    </tr>\n",
       "  </tbody>\n",
       "</table>\n",
       "</div>"
      ],
      "text/plain": [
       "          hotel  is_canceled\n",
       "0    City Hotel        38140\n",
       "1  Resort Hotel        18567"
      ]
     },
     "execution_count": 22,
     "metadata": {},
     "output_type": "execute_result"
    }
   ],
   "source": [
    "hotel_type_cancel = hotel_bookings_2016.groupby(['hotel'])['is_canceled'].count().reset_index()\n",
    "hotel_type_cancel"
   ]
  },
  {
   "cell_type": "code",
   "execution_count": 23,
   "metadata": {},
   "outputs": [
    {
     "data": {
      "image/png": "[encoded data removed]",
      "text/plain": [
       "<Figure size 720x432 with 1 Axes>"
      ]
     },
     "metadata": {
      "needs_background": "light"
     },
     "output_type": "display_data"
    }
   ],
   "source": [
    "# Plotting cancellation by hotel type\n",
    "\n",
    "plt.figure(figsize=(10,6))\n",
    "sns.barplot(data=hotel_type_cancel, x='hotel', y='is_canceled',  palette='mako')\n",
    "plt.ticklabel_format(style='plain', axis='y')\n",
    "plt.show()\n",
    "\n",
    "# more cancelations at the city hotels than resort"
   ]
  },
  {
   "cell_type": "code",
   "execution_count": 24,
   "metadata": {},
   "outputs": [
    {
     "name": "stderr",
     "output_type": "stream",
     "text": [
      "/Users/laetitia/opt/anaconda3/lib/python3.7/site-packages/ipykernel_launcher.py:4: SettingWithCopyWarning: \n",
      "A value is trying to be set on a copy of a slice from a DataFrame.\n",
      "Try using .loc[row_indexer,col_indexer] = value instead\n",
      "\n",
      "See the caveats in the documentation: https://pandas.pydata.org/pandas-docs/stable/user_guide/indexing.html#returning-a-view-versus-a-copy\n",
      "  after removing the cwd from sys.path.\n"
     ]
    }
   ],
   "source": [
    "# adding month number to dataframe and grouping by month \n",
    "\n",
    "hotel_bookings_2016['month_number'] = pd.to_datetime(hotel_bookings_2016['arrival_date_month'], \n",
    "                                                     format='%B').dt.month\n",
    "\n",
    "hotel_cancel_month = hotel_bookings_2016.groupby(['hotel','month_number'])['is_canceled'].count().reset_index()\n",
    "hotel_cancel_month;"
   ]
  },
  {
   "cell_type": "code",
   "execution_count": 26,
   "metadata": {},
   "outputs": [
    {
     "data": {
      "image/png": "[encoded data removed]",
      "text/plain": [
       "<Figure size 720x432 with 1 Axes>"
      ]
     },
     "metadata": {
      "needs_background": "light"
     },
     "output_type": "display_data"
    }
   ],
   "source": [
    "# Plotting cancellation by hotel type and month\n",
    "\n",
    "plt.figure(figsize=(10,6))\n",
    "sns.barplot(data=hotel_cancel_month, x='hotel', y='is_canceled',  hue ='month_number', palette='mako')\n",
    "plt.ticklabel_format(style='plain', axis='y')\n",
    "plt.show()\n",
    "\n",
    "# more cancelations at the city hotels than resort"
   ]
  },
  {
   "cell_type": "code",
   "execution_count": 27,
   "metadata": {},
   "outputs": [
    {
     "data": {
      "text/html": [
       "<div>\n",
       "<style scoped>\n",
       "    .dataframe tbody tr th:only-of-type {\n",
       "        vertical-align: middle;\n",
       "    }\n",
       "\n",
       "    .dataframe tbody tr th {\n",
       "        vertical-align: top;\n",
       "    }\n",
       "\n",
       "    .dataframe thead th {\n",
       "        text-align: right;\n",
       "    }\n",
       "</style>\n",
       "<table border=\"1\" class=\"dataframe\">\n",
       "  <thead>\n",
       "    <tr style=\"text-align: right;\">\n",
       "      <th></th>\n",
       "      <th>deposit_type</th>\n",
       "      <th>adr</th>\n",
       "    </tr>\n",
       "  </thead>\n",
       "  <tbody>\n",
       "    <tr>\n",
       "      <th>0</th>\n",
       "      <td>No Deposit</td>\n",
       "      <td>99.946737</td>\n",
       "    </tr>\n",
       "    <tr>\n",
       "      <th>1</th>\n",
       "      <td>Non Refund</td>\n",
       "      <td>87.058942</td>\n",
       "    </tr>\n",
       "    <tr>\n",
       "      <th>2</th>\n",
       "      <td>Refundable</td>\n",
       "      <td>66.700611</td>\n",
       "    </tr>\n",
       "  </tbody>\n",
       "</table>\n",
       "</div>"
      ],
      "text/plain": [
       "  deposit_type        adr\n",
       "0   No Deposit  99.946737\n",
       "1   Non Refund  87.058942\n",
       "2   Refundable  66.700611"
      ]
     },
     "execution_count": 27,
     "metadata": {},
     "output_type": "execute_result"
    }
   ],
   "source": [
    "hotel_bookings_2016.groupby(['deposit_type'])['adr'].mean().reset_index()"
   ]
  },
  {
   "cell_type": "code",
   "execution_count": 28,
   "metadata": {},
   "outputs": [
    {
     "data": {
      "text/html": [
       "<div>\n",
       "<style scoped>\n",
       "    .dataframe tbody tr th:only-of-type {\n",
       "        vertical-align: middle;\n",
       "    }\n",
       "\n",
       "    .dataframe tbody tr th {\n",
       "        vertical-align: top;\n",
       "    }\n",
       "\n",
       "    .dataframe thead th {\n",
       "        text-align: right;\n",
       "    }\n",
       "</style>\n",
       "<table border=\"1\" class=\"dataframe\">\n",
       "  <thead>\n",
       "    <tr style=\"text-align: right;\">\n",
       "      <th></th>\n",
       "      <th>hotel</th>\n",
       "      <th>adr</th>\n",
       "    </tr>\n",
       "  </thead>\n",
       "  <tbody>\n",
       "    <tr>\n",
       "      <th>0</th>\n",
       "      <td>City Hotel</td>\n",
       "      <td>103.483683</td>\n",
       "    </tr>\n",
       "    <tr>\n",
       "      <th>1</th>\n",
       "      <td>Resort Hotel</td>\n",
       "      <td>87.730762</td>\n",
       "    </tr>\n",
       "  </tbody>\n",
       "</table>\n",
       "</div>"
      ],
      "text/plain": [
       "          hotel         adr\n",
       "0    City Hotel  103.483683\n",
       "1  Resort Hotel   87.730762"
      ]
     },
     "execution_count": 28,
     "metadata": {},
     "output_type": "execute_result"
    }
   ],
   "source": [
    "# which is more expensive, city hotel or resort?\n",
    "\n",
    "hotel_type_revenue = hotel_bookings_2016.groupby(['hotel'])['adr'].mean().reset_index()\n",
    "hotel_type_revenue"
   ]
  },
  {
   "cell_type": "code",
   "execution_count": 1,
   "metadata": {},
   "outputs": [
    {
     "ename": "NameError",
     "evalue": "name 'plt' is not defined",
     "output_type": "error",
     "traceback": [
      "\u001b[0;31m---------------------------------------------------------------------------\u001b[0m",
      "\u001b[0;31mNameError\u001b[0m                                 Traceback (most recent call last)",
      "\u001b[0;32m<ipython-input-1-378f9ddb63e1>\u001b[0m in \u001b[0;36m<module>\u001b[0;34m\u001b[0m\n\u001b[0;32m----> 1\u001b[0;31m \u001b[0mplt\u001b[0m\u001b[0;34m.\u001b[0m\u001b[0mfigure\u001b[0m\u001b[0;34m(\u001b[0m\u001b[0mfigsize\u001b[0m\u001b[0;34m=\u001b[0m\u001b[0;34m(\u001b[0m\u001b[0;36m10\u001b[0m\u001b[0;34m,\u001b[0m\u001b[0;36m6\u001b[0m\u001b[0;34m)\u001b[0m\u001b[0;34m)\u001b[0m\u001b[0;34m\u001b[0m\u001b[0;34m\u001b[0m\u001b[0m\n\u001b[0m\u001b[1;32m      2\u001b[0m \u001b[0msns\u001b[0m\u001b[0;34m.\u001b[0m\u001b[0mbarplot\u001b[0m\u001b[0;34m(\u001b[0m\u001b[0mdata\u001b[0m\u001b[0;34m=\u001b[0m\u001b[0mhotel_type_revenue\u001b[0m\u001b[0;34m,\u001b[0m \u001b[0mx\u001b[0m\u001b[0;34m=\u001b[0m\u001b[0;34m'hotel'\u001b[0m\u001b[0;34m,\u001b[0m \u001b[0my\u001b[0m\u001b[0;34m=\u001b[0m\u001b[0;34m'adr'\u001b[0m\u001b[0;34m,\u001b[0m \u001b[0mpalette\u001b[0m\u001b[0;34m=\u001b[0m\u001b[0;34m'mako'\u001b[0m\u001b[0;34m)\u001b[0m\u001b[0;34m\u001b[0m\u001b[0;34m\u001b[0m\u001b[0m\n\u001b[1;32m      3\u001b[0m \u001b[0mplt\u001b[0m\u001b[0;34m.\u001b[0m\u001b[0mticklabel_format\u001b[0m\u001b[0;34m(\u001b[0m\u001b[0mstyle\u001b[0m\u001b[0;34m=\u001b[0m\u001b[0;34m'plain'\u001b[0m\u001b[0;34m,\u001b[0m \u001b[0maxis\u001b[0m\u001b[0;34m=\u001b[0m\u001b[0;34m'y'\u001b[0m\u001b[0;34m)\u001b[0m\u001b[0;34m\u001b[0m\u001b[0;34m\u001b[0m\u001b[0m\n\u001b[1;32m      4\u001b[0m \u001b[0mplt\u001b[0m\u001b[0;34m.\u001b[0m\u001b[0mshow\u001b[0m\u001b[0;34m(\u001b[0m\u001b[0;34m)\u001b[0m\u001b[0;34m\u001b[0m\u001b[0;34m\u001b[0m\u001b[0m\n",
      "\u001b[0;31mNameError\u001b[0m: name 'plt' is not defined"
     ]
    }
   ],
   "source": [
    "plt.figure(figsize=(10,6))\n",
    "sns.barplot(data=hotel_type_revenue, x='hotel', y='adr', palette='mako')\n",
    "plt.ticklabel_format(style='plain', axis='y')\n",
    "plt.show()"
   ]
  },
  {
   "cell_type": "code",
   "execution_count": 29,
   "metadata": {},
   "outputs": [
    {
     "data": {
      "text/plain": [
       "arrival_date_day_of_month         0.005609\n",
       "required_car_parking_spaces       0.015810\n",
       "babies                            0.042398\n",
       "days_in_waiting_list              0.044813\n",
       "previous_cancellations            0.050044\n",
       "is_canceled                       0.051859\n",
       "previous_bookings_not_canceled    0.065421\n",
       "booking_changes                   0.066399\n",
       "lead_time                         0.080106\n",
       "month_number                      0.110066\n",
       "arrival_date_week_number          0.110352\n",
       "total_of_special_requests         0.121982\n",
       "is_repeated_guest                 0.126067\n",
       "children                          0.210164\n",
       "adults                            0.222918\n",
       "adr                               0.512143\n",
       "stays_in_weekend_nights           0.582420\n",
       "stays_in_week_nights              0.714127\n",
       "revenue_per_stay                  1.000000\n",
       "arrival_date_year                      NaN\n",
       "Name: revenue_per_stay, dtype: float64"
      ]
     },
     "execution_count": 29,
     "metadata": {},
     "output_type": "execute_result"
    }
   ],
   "source": [
    "hotel_bookings_2016.corr().revenue_per_stay.abs().sort_values()"
   ]
  },
  {
   "cell_type": "code",
   "execution_count": 30,
   "metadata": {},
   "outputs": [
    {
     "data": {
      "text/plain": [
       "<AxesSubplot:>"
      ]
     },
     "execution_count": 30,
     "metadata": {},
     "output_type": "execute_result"
    },
    {
     "data": {
      "image/png": "[encoded data removed]",
      "text/plain": [
       "<Figure size 1080x864 with 2 Axes>"
      ]
     },
     "metadata": {
      "needs_background": "light"
     },
     "output_type": "display_data"
    }
   ],
   "source": [
    "plt.figure(figsize=(15,12))\n",
    "cmap = sns.diverging_palette(220, 15, as_cmap=True)\n",
    "# sns.set(font_scale=1.2)\n",
    "sns.heatmap(hotel_bookings_2016.corr(), annot=True, annot_kws={\"fontsize\":8}, cmap=cmap)"
   ]
  },
  {
   "cell_type": "code",
   "execution_count": 31,
   "metadata": {},
   "outputs": [],
   "source": [
    "# corr_matrix = hotel_bookings_2016.copy()\n",
    "# corr_matrix = corr_matrix.drop(['hotel', 'is_canceled', 'lead_time', 'arrival_date_year','arrival_date_month', \\\n",
    "#                                 'arrival_date_week_number','arrival_date_day_of_month', 'adults', 'children', \\\n",
    "#                                 'babies', 'meal','country_code', 'market_segment', 'distribution_channel',\\\n",
    "#                                 'is_repeated_guest', 'previous_cancellations','previous_bookings_not_canceled', \\\n",
    "#                                 'reserved_room_type','assigned_room_type', 'booking_changes', 'deposit_type',\\\n",
    "#                                 'days_in_waiting_list', 'customer_type', 'required_car_parking_spaces',\\\n",
    "#                                 'total_of_special_requests','reservation_status', 'reservation_status_date', \\\n",
    "#                                 'country_name', 'revenue_per_week_nights','revenue_per_weekend_nights', \\\n",
    "#                                 'month_number'], axis=1)\n",
    "\n",
    "# corr_matrix.corr()"
   ]
  },
  {
   "cell_type": "code",
   "execution_count": 32,
   "metadata": {},
   "outputs": [],
   "source": [
    "# plt.figure(figsize=(10,8))\n",
    "# mask = np.triu(corr_matrix.corr())\n",
    "# cmap = sns.diverging_palette(220, 15, as_cmap=True)\n",
    "# sns.set(font_scale=1.2)\n",
    "# sns.heatmap(corr_matrix.corr(), annot=True, cmap=cmap, mask = mask)\n",
    "# # plt.title('Happiness Indicators Correlation-Findalnd (2015-2019)', fontsize=18)\n",
    "# # plt.savefig('Happiness Indicators Correlation (Finland)).png', dpi=300, bbox_inches='tight')\n",
    "# plt.show()"
   ]
  },
  {
   "cell_type": "code",
   "execution_count": 33,
   "metadata": {},
   "outputs": [],
   "source": [
    "# hotel_bookings_2016['reservation_status'].unique()"
   ]
  },
  {
   "cell_type": "code",
   "execution_count": 34,
   "metadata": {},
   "outputs": [],
   "source": [
    "# hotel_reserve = pd.get_dummies(hotel_bookings_2016, columns=['reservation_status'])"
   ]
  },
  {
   "cell_type": "code",
   "execution_count": 35,
   "metadata": {},
   "outputs": [],
   "source": [
    "# corr_matrix = hotel_reserve.drop(['hotel', 'is_canceled', 'lead_time', 'arrival_date_year','arrival_date_month', \\\n",
    "#                                 'arrival_date_week_number','arrival_date_day_of_month', 'adults', 'children', \\\n",
    "#                                 'babies', 'meal','country_code', 'market_segment', 'distribution_channel',\\\n",
    "#                                 'is_repeated_guest', 'previous_cancellations','previous_bookings_not_canceled', \\\n",
    "#                                 'reserved_room_type','assigned_room_type', 'booking_changes', 'deposit_type',\\\n",
    "#                                 'days_in_waiting_list', 'customer_type', 'required_car_parking_spaces',\\\n",
    "#                                 'total_of_special_requests', 'reservation_status_date', \\\n",
    "#                                 'country_name', 'revenue_per_week_nights','revenue_per_weekend_nights', \\\n",
    "#                                 'month_number'], axis=1)"
   ]
  },
  {
   "cell_type": "code",
   "execution_count": 36,
   "metadata": {},
   "outputs": [],
   "source": [
    "# corr_matrix.corr()"
   ]
  },
  {
   "cell_type": "markdown",
   "metadata": {},
   "source": [
    "### Linear Regression"
   ]
  },
  {
   "cell_type": "markdown",
   "metadata": {},
   "source": [
    "#### Checking if there are any missing revenue values"
   ]
  },
  {
   "cell_type": "code",
   "execution_count": 37,
   "metadata": {},
   "outputs": [
    {
     "name": "stdout",
     "output_type": "stream",
     "text": [
      "918\n"
     ]
    },
    {
     "data": {
      "text/plain": [
       "0"
      ]
     },
     "execution_count": 37,
     "metadata": {},
     "output_type": "execute_result"
    }
   ],
   "source": [
    "print((hotel_bookings_2016.revenue_per_stay==0).sum())\n",
    "\n",
    "# With 918 missing revenue values, we drop these to improve on our model\n",
    "\n",
    "hotel_bookings_2016 = hotel_bookings_2016[hotel_bookings_2016['revenue_per_stay']>0]\n",
    "(hotel_bookings_2016.revenue_per_stay==0).sum()"
   ]
  },
  {
   "cell_type": "markdown",
   "metadata": {},
   "source": [
    "---"
   ]
  },
  {
   "cell_type": "markdown",
   "metadata": {},
   "source": [
    "#### Predicting daily rates"
   ]
  },
  {
   "cell_type": "code",
   "execution_count": 40,
   "metadata": {},
   "outputs": [
    {
     "data": {
      "text/plain": [
       "Index(['hotel', 'is_canceled', 'lead_time', 'arrival_date_year',\n",
       "       'arrival_date_month', 'arrival_date_week_number',\n",
       "       'arrival_date_day_of_month', 'stays_in_weekend_nights',\n",
       "       'stays_in_week_nights', 'adults', 'children', 'babies', 'meal',\n",
       "       'country_code', 'market_segment', 'distribution_channel',\n",
       "       'is_repeated_guest', 'previous_cancellations',\n",
       "       'previous_bookings_not_canceled', 'reserved_room_type',\n",
       "       'assigned_room_type', 'booking_changes', 'deposit_type',\n",
       "       'days_in_waiting_list', 'customer_type', 'adr',\n",
       "       'required_car_parking_spaces', 'total_of_special_requests',\n",
       "       'reservation_status', 'reservation_status_date', 'country_name',\n",
       "       'revenue_per_stay', 'month_number'],\n",
       "      dtype='object')"
      ]
     },
     "execution_count": 40,
     "metadata": {},
     "output_type": "execute_result"
    }
   ],
   "source": [
    "hotel_bookings_2016.columns"
   ]
  },
  {
   "cell_type": "code",
   "execution_count": 77,
   "metadata": {},
   "outputs": [],
   "source": [
    "hotel_booking_clean = hotel_bookings_2016.drop(['arrival_date_week_number','arrival_date_day_of_month','babies',\n",
    "                                                'country_code','reservation_status_date','assigned_room_type',\n",
    "                                                'booking_changes', 'adr','required_car_parking_spaces', \n",
    "                                                'total_of_special_requests','reservation_status_date',\n",
    "                                                'country_name','month_number','deposit_type'], axis=1)\n",
    "\n",
    "\n",
    "hotel_booking = pd.get_dummies(data=hotel_booking_clean, columns=['arrival_date_month','hotel','meal','market_segment',\n",
    "                                                                 'customer_type','reserved_room_type',\n",
    "                                                                  'reservation_status','distribution_channel'])\n",
    "\n",
    "# hotel_booking.info()"
   ]
  },
  {
   "cell_type": "markdown",
   "metadata": {},
   "source": [
    "#### Creating Features and Targets"
   ]
  },
  {
   "cell_type": "code",
   "execution_count": 78,
   "metadata": {},
   "outputs": [],
   "source": [
    "# The dependent variable (target) is the revenue_per_stay passed as revenue\n",
    "# Target are the independent variables passed in the dataframe, X\n",
    "\n",
    "X, revenue = add_constant(hotel_booking, has_constant='add').drop('revenue_per_stay', axis=1), hotel_booking.revenue_per_stay"
   ]
  },
  {
   "cell_type": "markdown",
   "metadata": {},
   "source": [
    "#### Generating the model"
   ]
  },
  {
   "cell_type": "code",
   "execution_count": 79,
   "metadata": {},
   "outputs": [
    {
     "name": "stdout",
     "output_type": "stream",
     "text": [
      "                            OLS Regression Results                            \n",
      "==============================================================================\n",
      "Dep. Variable:       revenue_per_stay   R-squared:                       0.754\n",
      "Model:                            OLS   Adj. R-squared:                  0.754\n",
      "Method:                 Least Squares   F-statistic:                     3711.\n",
      "Date:                Wed, 10 Mar 2021   Prob (F-statistic):               0.00\n",
      "Time:                        21:28:06   Log-Likelihood:            -3.5900e+05\n",
      "No. Observations:               55789   AIC:                         7.181e+05\n",
      "Df Residuals:                   55742   BIC:                         7.185e+05\n",
      "Df Model:                          46                                         \n",
      "Covariance Type:            nonrobust                                         \n",
      "==================================================================================================\n",
      "                                     coef    std err          t      P>|t|      [0.025      0.975]\n",
      "--------------------------------------------------------------------------------------------------\n",
      "const                           3.125e-05   1.91e-06     16.402      0.000    2.75e-05     3.5e-05\n",
      "is_canceled                       12.5920      1.258     10.006      0.000      10.126      15.059\n",
      "lead_time                         -0.2390      0.008    -29.307      0.000      -0.255      -0.223\n",
      "arrival_date_year                  0.0630      0.004     16.402      0.000       0.055       0.071\n",
      "stays_in_weekend_nights           87.6936      0.763    114.954      0.000      86.198      89.189\n",
      "stays_in_week_nights              93.3846      0.419    222.855      0.000      92.563      94.206\n",
      "adults                            23.6580      1.477     16.013      0.000      20.762      26.554\n",
      "children                          32.4498      2.139     15.171      0.000      28.258      36.642\n",
      "is_repeated_guest                  6.4422      4.791      1.345      0.179      -2.947      15.832\n",
      "previous_cancellations             6.4529      1.805      3.574      0.000       2.914       9.991\n",
      "previous_bookings_not_canceled    -2.5049      0.524     -4.780      0.000      -3.532      -1.478\n",
      "days_in_waiting_list               0.1650      0.028      5.830      0.000       0.110       0.220\n",
      "arrival_date_month_April         -38.4601      2.015    -19.089      0.000     -42.409     -34.511\n",
      "arrival_date_month_August        164.7498      2.119     77.765      0.000     160.597     168.902\n",
      "arrival_date_month_December      -51.1476      2.359    -21.679      0.000     -55.772     -46.523\n",
      "arrival_date_month_February      -86.8432      2.408    -36.057      0.000     -91.564     -82.123\n",
      "arrival_date_month_January       -85.9984      3.093    -27.801      0.000     -92.061     -79.935\n",
      "arrival_date_month_July          109.1396      2.202     49.571      0.000     104.824     113.455\n",
      "arrival_date_month_June           36.5506      2.049     17.835      0.000      32.534      40.567\n",
      "arrival_date_month_March         -63.3779      2.137    -29.658      0.000     -67.566     -59.189\n",
      "arrival_date_month_May             0.5983      2.020      0.296      0.767      -3.360       4.557\n",
      "arrival_date_month_November      -40.1326      2.213    -18.137      0.000     -44.469     -35.796\n",
      "arrival_date_month_October        -0.0872      1.933     -0.045      0.964      -3.876       3.702\n",
      "arrival_date_month_September      55.0087      2.038     26.993      0.000      51.014      59.003\n",
      "hotel_City Hotel                  39.9734      0.815     49.020      0.000      38.375      41.572\n",
      "hotel_Resort Hotel               -39.9733      0.815    -49.020      0.000     -41.572     -38.375\n",
      "meal_BB                          -82.0303      2.371    -34.598      0.000     -86.677     -77.383\n",
      "meal_FB                          121.3753      6.908     17.570      0.000     107.835     134.915\n",
      "meal_HB                           30.5865      2.712     11.280      0.000      25.272      35.901\n",
      "meal_SC                         -139.4489      3.096    -45.041      0.000    -145.517    -133.381\n",
      "meal_Undefined                    69.5175      5.523     12.588      0.000      58.693      80.342\n",
      "market_segment_Aviation           18.9601     12.563      1.509      0.131      -5.664      43.585\n",
      "market_segment_Complementary    -111.8054     20.683     -5.406      0.000    -152.344     -71.267\n",
      "market_segment_Corporate          22.4831      5.590      4.022      0.000      11.526      33.440\n",
      "market_segment_Direct             69.3548      5.594     12.397      0.000      58.390      80.320\n",
      "market_segment_Groups            -20.1833      4.609     -4.379      0.000     -29.216     -11.150\n",
      "market_segment_Offline TA/TO     -26.5605      4.601     -5.773      0.000     -35.579     -17.542\n",
      "market_segment_Online TA          47.7513      4.560     10.473      0.000      38.814      56.688\n",
      "customer_type_Contract           -92.5037      5.292    -17.479      0.000    -102.877     -82.131\n",
      "customer_type_Group               20.2155      9.166      2.205      0.027       2.249      38.182\n",
      "customer_type_Transient           34.3942      3.425     10.041      0.000      27.680      41.108\n",
      "customer_type_Transient-Party     37.8940      3.563     10.634      0.000      30.910      44.878\n",
      "reserved_room_type_A            -127.4729      2.595    -49.119      0.000    -132.560    -122.386\n",
      "reserved_room_type_B            -183.4732      5.649    -32.478      0.000    -194.546    -172.401\n",
      "reserved_room_type_C             130.0162      8.235     15.788      0.000     113.875     146.157\n",
      "reserved_room_type_D             -77.9616      2.789    -27.951      0.000     -83.429     -72.495\n",
      "reserved_room_type_E             -39.8451      3.371    -11.819      0.000     -46.453     -33.237\n",
      "reserved_room_type_F              43.6513      4.130     10.568      0.000      35.556      51.747\n",
      "reserved_room_type_G             125.4012      4.902     25.582      0.000     115.793     135.009\n",
      "reserved_room_type_H             129.6842      7.935     16.343      0.000     114.131     145.237\n",
      "reservation_status_Canceled        8.2878      2.507      3.306      0.001       3.374      13.202\n",
      "reservation_status_Check-Out     -12.5920      1.258    -10.006      0.000     -15.059     -10.125\n",
      "reservation_status_No-Show         4.3042      3.613      1.191      0.233      -2.777      11.385\n",
      "distribution_channel_Corporate   -17.2389      5.155     -3.344      0.001     -27.342      -7.135\n",
      "distribution_channel_Direct      -33.4683      5.242     -6.385      0.000     -43.742     -23.195\n",
      "distribution_channel_GDS          71.5639     11.432      6.260      0.000      49.157      93.971\n",
      "distribution_channel_TA/TO       -20.8568      4.207     -4.957      0.000     -29.103     -12.610\n",
      "==============================================================================\n",
      "Omnibus:                    34840.999   Durbin-Watson:                   1.144\n",
      "Prob(Omnibus):                  0.000   Jarque-Bera (JB):         11626800.855\n",
      "Skew:                           1.816   Prob(JB):                         0.00\n",
      "Kurtosis:                      73.630   Cond. No.                     2.72e+19\n",
      "==============================================================================\n",
      "\n",
      "Warnings:\n",
      "[1] Standard Errors assume that the covariance matrix of the errors is correctly specified.\n",
      "[2] The smallest eigenvalue is 3.07e-28. This might indicate that there are\n",
      "strong multicollinearity problems or that the design matrix is singular.\n"
     ]
    }
   ],
   "source": [
    "model_fit = OLS(revenue, X).fit()\n",
    "print(model_fit.summary())"
   ]
  },
  {
   "cell_type": "markdown",
   "metadata": {},
   "source": [
    "---"
   ]
  },
  {
   "cell_type": "markdown",
   "metadata": {},
   "source": [
    "- From the model above, there are a few independent variables such as reservation cancelled that are insignificant\n",
    "- These insignificant variables will be dropped to improve model prediction\n",
    "- There is also an indication of multicolinearity, that is some independent variables are dependent on each other, these are to be eliminated and the aim is to have no multicolinearity"
   ]
  },
  {
   "cell_type": "markdown",
   "metadata": {},
   "source": [
    "---"
   ]
  },
  {
   "cell_type": "markdown",
   "metadata": {},
   "source": [
    "#### Improving Regression Model"
   ]
  },
  {
   "cell_type": "code",
   "execution_count": 80,
   "metadata": {},
   "outputs": [],
   "source": [
    "# columns_to_drop = ['lead_time','children','babies','previous_cancellations','market_segment_Aviation',\n",
    "#                   'market_segment_Corporate','market_segment_Direct','reserved_room_type_F','reserved_room_type_H',\n",
    "#                   'assigned_room_type_A','assigned_room_type_B','assigned_room_type_C',\n",
    "#                   'assigned_room_type_G','assigned_room_type_H','assigned_room_type_E',\n",
    "#                   'assigned_room_type_F','deposit_type_Non Refund','deposit_type_Refundable',\n",
    "#                   'arrival_date_month_July','customer_type_Group','customer_type_Transient',\n",
    "#                   'customer_type_Transient-Party','reservation_status_Canceled','reservation_status_No-Show',\n",
    "#                   'previous_bookings_not_canceled','market_segment_Complementary','is_repeated_guest',\n",
    "#                   'arrival_date_month_April','arrival_date_month_August','market_segment_Online TA']"
   ]
  },
  {
   "cell_type": "code",
   "execution_count": 86,
   "metadata": {},
   "outputs": [
    {
     "name": "stdout",
     "output_type": "stream",
     "text": [
      "                            OLS Regression Results                            \n",
      "==============================================================================\n",
      "Dep. Variable:       revenue_per_stay   R-squared:                       0.751\n",
      "Model:                            OLS   Adj. R-squared:                  0.751\n",
      "Method:                 Least Squares   F-statistic:                     4318.\n",
      "Date:                Wed, 10 Mar 2021   Prob (F-statistic):               0.00\n",
      "Time:                        21:32:04   Log-Likelihood:            -3.5929e+05\n",
      "No. Observations:               55789   AIC:                         7.187e+05\n",
      "Df Residuals:                   55749   BIC:                         7.190e+05\n",
      "Df Model:                          39                                         \n",
      "Covariance Type:            nonrobust                                         \n",
      "==================================================================================================\n",
      "                                     coef    std err          t      P>|t|      [0.025      0.975]\n",
      "--------------------------------------------------------------------------------------------------\n",
      "const                           5.781e-05    2.1e-06     27.508      0.000    5.37e-05    6.19e-05\n",
      "lead_time                         -0.2055      0.008    -25.609      0.000      -0.221      -0.190\n",
      "arrival_date_year                  0.1166      0.004     27.508      0.000       0.108       0.125\n",
      "stays_in_weekend_nights           88.2837      0.765    115.373      0.000      86.784      89.783\n",
      "stays_in_week_nights              92.8059      0.420    221.177      0.000      91.983      93.628\n",
      "adults                            23.0449      1.480     15.573      0.000      20.145      25.945\n",
      "children                          31.9932      2.150     14.883      0.000      27.780      36.206\n",
      "previous_bookings_not_canceled    -1.6229      0.458     -3.542      0.000      -2.521      -0.725\n",
      "days_in_waiting_list               0.1759      0.028      6.192      0.000       0.120       0.232\n",
      "arrival_date_month_April         -18.7257      2.407     -7.779      0.000     -23.444     -14.008\n",
      "arrival_date_month_August        182.7412      2.522     72.455      0.000     177.798     187.685\n",
      "arrival_date_month_December      -31.8884      2.773    -11.499      0.000     -37.324     -26.453\n",
      "arrival_date_month_February      -64.8879      2.800    -23.173      0.000     -70.376     -59.400\n",
      "arrival_date_month_January       -63.8944      3.513    -18.186      0.000     -70.781     -57.008\n",
      "arrival_date_month_July          127.0357      2.606     48.756      0.000     121.929     132.143\n",
      "arrival_date_month_June           54.6986      2.442     22.399      0.000      49.912      59.485\n",
      "arrival_date_month_November      -21.1536      2.614     -8.093      0.000     -26.277     -16.031\n",
      "arrival_date_month_September      71.9856      2.419     29.762      0.000      67.245      76.726\n",
      "hotel_City Hotel                  40.0082      0.815     49.091      0.000      38.411      41.606\n",
      "hotel_Resort Hotel               -40.0081      0.815    -49.091      0.000     -41.605     -38.411\n",
      "meal_BB                         -146.6328      6.705    -21.868      0.000    -159.775    -133.490\n",
      "meal_FB                           50.4157     10.573      4.768      0.000      29.693      71.139\n",
      "meal_HB                          -34.7956      6.841     -5.087      0.000     -48.203     -21.388\n",
      "meal_SC                         -203.1099      7.204    -28.193      0.000    -217.230    -188.990\n",
      "market_segment_Complementary    -132.1703     24.619     -5.369      0.000    -180.424     -83.917\n",
      "market_segment_Direct             56.0881      6.749      8.311      0.000      42.860      69.316\n",
      "market_segment_Groups            -40.2643      5.315     -7.576      0.000     -50.681     -29.847\n",
      "market_segment_Offline TA/TO     -46.5607      5.332     -8.732      0.000     -57.012     -36.109\n",
      "market_segment_Online TA          29.1716      5.325      5.479      0.000      18.735      39.608\n",
      "customer_type_Contract          -125.5625      5.869    -21.394      0.000    -137.066    -114.059\n",
      "customer_type_Transient-Party      4.6931      1.860      2.523      0.012       1.047       8.339\n",
      "reserved_room_type_A            -128.4923      2.607    -49.285      0.000    -133.602    -123.382\n",
      "reserved_room_type_B            -188.7570      5.673    -33.273      0.000    -199.876    -177.638\n",
      "reserved_room_type_C             129.0301      8.276     15.590      0.000     112.809     145.252\n",
      "reserved_room_type_D             -76.6335      2.802    -27.349      0.000     -82.126     -71.141\n",
      "reserved_room_type_E             -39.8708      3.387    -11.771      0.000     -46.510     -33.232\n",
      "reserved_room_type_F              45.5209      4.151     10.967      0.000      37.386      53.656\n",
      "reserved_room_type_G             127.3230      4.926     25.848      0.000     117.668     136.978\n",
      "reserved_room_type_H             131.8795      7.974     16.538      0.000     116.250     147.509\n",
      "reservation_status_Check-Out     -33.6231      1.478    -22.748      0.000     -36.520     -30.726\n",
      "distribution_channel_Direct      -27.2894      6.158     -4.432      0.000     -39.359     -15.220\n",
      "distribution_channel_GDS          88.0839     15.823      5.567      0.000      57.070     119.098\n",
      "distribution_channel_TA/TO        -9.5156      4.732     -2.011      0.044     -18.790      -0.241\n",
      "==============================================================================\n",
      "Omnibus:                    34417.642   Durbin-Watson:                   1.134\n",
      "Prob(Omnibus):                  0.000   Jarque-Bera (JB):         10856216.182\n",
      "Skew:                           1.789   Prob(JB):                         0.00\n",
      "Kurtosis:                      71.246   Cond. No.                     2.72e+19\n",
      "==============================================================================\n",
      "\n",
      "Warnings:\n",
      "[1] Standard Errors assume that the covariance matrix of the errors is correctly specified.\n",
      "[2] The smallest eigenvalue is 3.07e-28. This might indicate that there are\n",
      "strong multicollinearity problems or that the design matrix is singular.\n"
     ]
    }
   ],
   "source": [
    "# Generating updated prediction model\n",
    "\n",
    "columns_to_drop = ['arrival_date_month_March','arrival_date_month_May','arrival_date_month_October',\n",
    "                  'is_repeated_guest','previous_cancellations','market_segment_Aviation','market_segment_Corporate',\n",
    "                   'customer_type_Group','reservation_status_Canceled','reservation_status_No-Show',\n",
    "                   'distribution_channel_Corporate','customer_type_Transient','is_canceled','meal_Undefined']\n",
    "\n",
    "\n",
    "model_fit = OLS(revenue, X.drop(columns_to_drop, axis=1)).fit()\n",
    "print(model_fit.summary())"
   ]
  },
  {
   "cell_type": "markdown",
   "metadata": {},
   "source": [
    "---"
   ]
  },
  {
   "cell_type": "markdown",
   "metadata": {},
   "source": [
    "### Handling Multicolinearity"
   ]
  },
  {
   "cell_type": "markdown",
   "metadata": {},
   "source": [
    "#### Using the VIF (Variable Inflation Method) method\n",
    "\n",
    "- VIF determines the strength of the correlation between independent variables\n",
    "- It is predicted by taking a variable and regressing it against every other variable\n",
    "\n",
    "$ VIF = 1/(1-R^2) $\n",
    "\n",
    "- Thus $R^2$ closer to 1, means high VIF, thus higher chances of multicolinearity with the particular independent variable"
   ]
  },
  {
   "cell_type": "markdown",
   "metadata": {},
   "source": [
    "- Some variables return a VIF of infinity showing perfect correlation in between variables"
   ]
  },
  {
   "cell_type": "code",
   "execution_count": 82,
   "metadata": {},
   "outputs": [],
   "source": [
    "from statsmodels.stats.outliers_influence import variance_inflation_factor\n",
    "\n",
    "def calc_vif(X):\n",
    "\n",
    "    vif = pd.DataFrame()\n",
    "    vif[\"variables\"] = X.columns\n",
    "    vif[\"VIF\"] = [variance_inflation_factor(X.values, i) for i in range(X.shape[1])]\n",
    "\n",
    "    return(vif)"
   ]
  },
  {
   "cell_type": "code",
   "execution_count": 84,
   "metadata": {},
   "outputs": [
    {
     "name": "stderr",
     "output_type": "stream",
     "text": [
      "/Users/laetitia/opt/anaconda3/lib/python3.7/site-packages/statsmodels/regression/linear_model.py:1636: RuntimeWarning: divide by zero encountered in double_scalars\n",
      "  return 1 - self.ssr/self.centered_tss\n",
      "/Users/laetitia/opt/anaconda3/lib/python3.7/site-packages/statsmodels/stats/outliers_influence.py:185: RuntimeWarning: divide by zero encountered in double_scalars\n",
      "  vif = 1. / (1. - r_squared_i)\n"
     ]
    },
    {
     "data": {
      "text/html": [
       "<div>\n",
       "<style scoped>\n",
       "    .dataframe tbody tr th:only-of-type {\n",
       "        vertical-align: middle;\n",
       "    }\n",
       "\n",
       "    .dataframe tbody tr th {\n",
       "        vertical-align: top;\n",
       "    }\n",
       "\n",
       "    .dataframe thead th {\n",
       "        text-align: right;\n",
       "    }\n",
       "</style>\n",
       "<table border=\"1\" class=\"dataframe\">\n",
       "  <thead>\n",
       "    <tr style=\"text-align: right;\">\n",
       "      <th></th>\n",
       "      <th>variables</th>\n",
       "      <th>VIF</th>\n",
       "    </tr>\n",
       "  </thead>\n",
       "  <tbody>\n",
       "    <tr>\n",
       "      <th>0</th>\n",
       "      <td>lead_time</td>\n",
       "      <td>1.407581</td>\n",
       "    </tr>\n",
       "    <tr>\n",
       "      <th>1</th>\n",
       "      <td>arrival_date_year</td>\n",
       "      <td>0.000000</td>\n",
       "    </tr>\n",
       "    <tr>\n",
       "      <th>2</th>\n",
       "      <td>stays_in_weekend_nights</td>\n",
       "      <td>1.343376</td>\n",
       "    </tr>\n",
       "    <tr>\n",
       "      <th>3</th>\n",
       "      <td>stays_in_week_nights</td>\n",
       "      <td>1.435961</td>\n",
       "    </tr>\n",
       "    <tr>\n",
       "      <th>4</th>\n",
       "      <td>adults</td>\n",
       "      <td>1.154395</td>\n",
       "    </tr>\n",
       "    <tr>\n",
       "      <th>5</th>\n",
       "      <td>children</td>\n",
       "      <td>1.104301</td>\n",
       "    </tr>\n",
       "    <tr>\n",
       "      <th>6</th>\n",
       "      <td>previous_bookings_not_canceled</td>\n",
       "      <td>1.026022</td>\n",
       "    </tr>\n",
       "    <tr>\n",
       "      <th>7</th>\n",
       "      <td>days_in_waiting_list</td>\n",
       "      <td>1.109544</td>\n",
       "    </tr>\n",
       "    <tr>\n",
       "      <th>8</th>\n",
       "      <td>arrival_date_month_April</td>\n",
       "      <td>1.208414</td>\n",
       "    </tr>\n",
       "    <tr>\n",
       "      <th>9</th>\n",
       "      <td>arrival_date_month_August</td>\n",
       "      <td>1.236698</td>\n",
       "    </tr>\n",
       "    <tr>\n",
       "      <th>10</th>\n",
       "      <td>arrival_date_month_December</td>\n",
       "      <td>1.159646</td>\n",
       "    </tr>\n",
       "    <tr>\n",
       "      <th>11</th>\n",
       "      <td>arrival_date_month_February</td>\n",
       "      <td>1.192595</td>\n",
       "    </tr>\n",
       "    <tr>\n",
       "      <th>12</th>\n",
       "      <td>arrival_date_month_January</td>\n",
       "      <td>1.120344</td>\n",
       "    </tr>\n",
       "    <tr>\n",
       "      <th>13</th>\n",
       "      <td>arrival_date_month_July</td>\n",
       "      <td>1.207987</td>\n",
       "    </tr>\n",
       "    <tr>\n",
       "      <th>14</th>\n",
       "      <td>arrival_date_month_June</td>\n",
       "      <td>1.209574</td>\n",
       "    </tr>\n",
       "    <tr>\n",
       "      <th>15</th>\n",
       "      <td>arrival_date_month_November</td>\n",
       "      <td>1.193712</td>\n",
       "    </tr>\n",
       "    <tr>\n",
       "      <th>16</th>\n",
       "      <td>arrival_date_month_September</td>\n",
       "      <td>1.223473</td>\n",
       "    </tr>\n",
       "    <tr>\n",
       "      <th>17</th>\n",
       "      <td>hotel_City Hotel</td>\n",
       "      <td>inf</td>\n",
       "    </tr>\n",
       "    <tr>\n",
       "      <th>18</th>\n",
       "      <td>hotel_Resort Hotel</td>\n",
       "      <td>inf</td>\n",
       "    </tr>\n",
       "    <tr>\n",
       "      <th>19</th>\n",
       "      <td>meal_FB</td>\n",
       "      <td>1.024040</td>\n",
       "    </tr>\n",
       "    <tr>\n",
       "      <th>20</th>\n",
       "      <td>market_segment_Complementary</td>\n",
       "      <td>1.001346</td>\n",
       "    </tr>\n",
       "    <tr>\n",
       "      <th>21</th>\n",
       "      <td>customer_type_Contract</td>\n",
       "      <td>1.077014</td>\n",
       "    </tr>\n",
       "    <tr>\n",
       "      <th>22</th>\n",
       "      <td>customer_type_Transient-Party</td>\n",
       "      <td>1.154077</td>\n",
       "    </tr>\n",
       "    <tr>\n",
       "      <th>23</th>\n",
       "      <td>reserved_room_type_A</td>\n",
       "      <td>1.274110</td>\n",
       "    </tr>\n",
       "    <tr>\n",
       "      <th>24</th>\n",
       "      <td>reservation_status_Check-Out</td>\n",
       "      <td>1.174235</td>\n",
       "    </tr>\n",
       "    <tr>\n",
       "      <th>25</th>\n",
       "      <td>distribution_channel_GDS</td>\n",
       "      <td>1.008946</td>\n",
       "    </tr>\n",
       "  </tbody>\n",
       "</table>\n",
       "</div>"
      ],
      "text/plain": [
       "                         variables       VIF\n",
       "0                        lead_time  1.407581\n",
       "1                arrival_date_year  0.000000\n",
       "2          stays_in_weekend_nights  1.343376\n",
       "3             stays_in_week_nights  1.435961\n",
       "4                           adults  1.154395\n",
       "5                         children  1.104301\n",
       "6   previous_bookings_not_canceled  1.026022\n",
       "7             days_in_waiting_list  1.109544\n",
       "8         arrival_date_month_April  1.208414\n",
       "9        arrival_date_month_August  1.236698\n",
       "10     arrival_date_month_December  1.159646\n",
       "11     arrival_date_month_February  1.192595\n",
       "12      arrival_date_month_January  1.120344\n",
       "13         arrival_date_month_July  1.207987\n",
       "14         arrival_date_month_June  1.209574\n",
       "15     arrival_date_month_November  1.193712\n",
       "16    arrival_date_month_September  1.223473\n",
       "17                hotel_City Hotel       inf\n",
       "18              hotel_Resort Hotel       inf\n",
       "19                         meal_FB  1.024040\n",
       "20    market_segment_Complementary  1.001346\n",
       "21          customer_type_Contract  1.077014\n",
       "22   customer_type_Transient-Party  1.154077\n",
       "23            reserved_room_type_A  1.274110\n",
       "24    reservation_status_Check-Out  1.174235\n",
       "25        distribution_channel_GDS  1.008946"
      ]
     },
     "execution_count": 84,
     "metadata": {},
     "output_type": "execute_result"
    }
   ],
   "source": [
    "columns_to_drop1 = ['arrival_date_month_March','arrival_date_month_May','arrival_date_month_October',\n",
    "                  'is_repeated_guest','previous_cancellations','market_segment_Aviation','market_segment_Corporate',\n",
    "                   'customer_type_Group','reservation_status_Canceled','reservation_status_No-Show',\n",
    "                   'distribution_channel_Corporate','customer_type_Transient','revenue_per_stay','is_canceled',\n",
    "                   'meal_Undefined','meal_BB','meal_HB','meal_SC','distribution_channel_TA/TO',\n",
    "                    'distribution_channel_Direct','market_segment_Direct','market_segment_Groups',\n",
    "                   'market_segment_Offline TA/TO','market_segment_Online TA','reserved_room_type_B',\n",
    "                   'reserved_room_type_C','reserved_room_type_D','reserved_room_type_E','reserved_room_type_F',\n",
    "                   'reserved_room_type_G','reserved_room_type_H']\n",
    "df = hotel_booking.drop(columns_to_drop1, axis=1)\n",
    "calc_vif(df)"
   ]
  },
  {
   "cell_type": "code",
   "execution_count": null,
   "metadata": {},
   "outputs": [],
   "source": [
    "# vif = pd.DataFrame()\n",
    "# vif[\"VIF Factor\"] = [variance_inflation_factor(df.values, i) for i in range(df.shape[1])]\n",
    "# vif[\"features\"] = df.columns\n",
    "# vif"
   ]
  },
  {
   "cell_type": "code",
   "execution_count": null,
   "metadata": {},
   "outputs": [],
   "source": [
    "# hotel_bookings_2016.nunique()"
   ]
  },
  {
   "cell_type": "code",
   "execution_count": null,
   "metadata": {},
   "outputs": [],
   "source": []
  },
  {
   "cell_type": "markdown",
   "metadata": {},
   "source": [
    "$$revenue per stay = \\beta_0 + \\beta_1*stays in weekend nights+\\beta_2*stays in week nights+\\beta_3*hotel$$"
   ]
  },
  {
   "cell_type": "markdown",
   "metadata": {},
   "source": [
    "$$revenue per stay = commisions for city hotel + revenue per night* number nights + additional commision for being a resort hotel$$"
   ]
  },
  {
   "cell_type": "markdown",
   "metadata": {},
   "source": [
    "$\\beta_0 = commisions for city hotel$\n",
    "\n",
    "$\\beta_1 = revenue per night$\n",
    "\n",
    "$\\beta_3 = additional commision for being a resort hotel$"
   ]
  },
  {
   "cell_type": "code",
   "execution_count": null,
   "metadata": {},
   "outputs": [],
   "source": []
  },
  {
   "cell_type": "code",
   "execution_count": null,
   "metadata": {},
   "outputs": [],
   "source": [
    "# hotel_bookings_2016.head()"
   ]
  },
  {
   "cell_type": "code",
   "execution_count": null,
   "metadata": {},
   "outputs": [],
   "source": [
    "# model = ols('revenue_per_stay ~ (stays_in_weekend_nights%11)+stays_in_week_nights+hotel+ arrival_date_month', data=hotel_bookings_2016.query('revenue_per_stay>0').dropna())\n",
    "# model_fit = model.fit()\n",
    "# print(model_fit.summary())"
   ]
  },
  {
   "cell_type": "code",
   "execution_count": null,
   "metadata": {},
   "outputs": [],
   "source": [
    "# hotel_bookings_2016.info()"
   ]
  },
  {
   "cell_type": "code",
   "execution_count": null,
   "metadata": {},
   "outputs": [],
   "source": [
    "# (hotel_bookings_2016.revenue_per_stay==0).sum()"
   ]
  },
  {
   "cell_type": "code",
   "execution_count": null,
   "metadata": {},
   "outputs": [],
   "source": [
    "# hotel_bookings_2016.query('revenue_per_stay>0').revenue_per_stay.map(np.log).hist(bins=100)"
   ]
  },
  {
   "cell_type": "code",
   "execution_count": null,
   "metadata": {},
   "outputs": [],
   "source": [
    "# hotel_bookings_2016.query('adr<5000').revenue_per_stay.hist(bins=100)"
   ]
  },
  {
   "cell_type": "code",
   "execution_count": null,
   "metadata": {},
   "outputs": [],
   "source": [
    "# model_fit.resid.hist(bins=100)"
   ]
  },
  {
   "cell_type": "code",
   "execution_count": null,
   "metadata": {},
   "outputs": [],
   "source": [
    "# 7.354690565864934*10**-13"
   ]
  },
  {
   "cell_type": "code",
   "execution_count": null,
   "metadata": {},
   "outputs": [],
   "source": [
    "# 30.1210 + -35.2703 *1 + 95.9664*0+93.5027 *1-59.94"
   ]
  },
  {
   "cell_type": "code",
   "execution_count": null,
   "metadata": {},
   "outputs": [],
   "source": [
    "# 30.1210 + -35.2703 *1 + 95.9664*0+93.5027 *1-116.1"
   ]
  },
  {
   "cell_type": "code",
   "execution_count": null,
   "metadata": {},
   "outputs": [],
   "source": [
    "# hotel_bookings_2016.iloc[1]"
   ]
  },
  {
   "cell_type": "markdown",
   "metadata": {},
   "source": [
    "$$revenue per stay = 30.1210 + 95.9664*stays in weekend nights+93.5027*stays in week nights-35.2703*hotel$$"
   ]
  },
  {
   "cell_type": "markdown",
   "metadata": {},
   "source": [
    "$30.1210 = commisions for city hotel$\n",
    "\n",
    "$95.9664 if weekend and 93.5027 if weekday = revenue per night$\n",
    "\n",
    "$35.2703 = commision disount for being a resort hotel$"
   ]
  },
  {
   "cell_type": "code",
   "execution_count": null,
   "metadata": {},
   "outputs": [],
   "source": [
    "# pd.set_option(\"display.max_rows\", None, \"display.max_columns\", None)"
   ]
  },
  {
   "cell_type": "code",
   "execution_count": null,
   "metadata": {},
   "outputs": [],
   "source": []
  }
 ],
 "metadata": {
  "kernelspec": {
   "display_name": "Python 3",
   "language": "python",
   "name": "python3"
  },
  "language_info": {
   "codemirror_mode": {
    "name": "ipython",
    "version": 3
   },
   "file_extension": ".py",
   "mimetype": "text/x-python",
   "name": "python",
   "nbconvert_exporter": "python",
   "pygments_lexer": "ipython3",
   "version": "3.7.4"
  }
 },
 "nbformat": 4,
 "nbformat_minor": 2
}
