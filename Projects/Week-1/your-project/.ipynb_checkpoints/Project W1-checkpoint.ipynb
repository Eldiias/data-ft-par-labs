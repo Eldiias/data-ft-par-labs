{
 "cells": [
  {
   "cell_type": "code",
   "execution_count": 1,
   "metadata": {},
   "outputs": [],
   "source": [
    "class Roulette:\n",
    "    def __init__(self, number, bet):\n",
    "        self.player_chips_remain=number\n",
    "        self.player_chips_bet=bet\n",
    "        self.number_player=[]\n",
    "        self.number_roulette=[]\n",
    "        self.result_game=[]\n",
    "        self.result_number_wins=[]\n",
    "        self.result_number_loses=[]\n",
    "    result_game=[]"
   ]
  },
  {
   "cell_type": "code",
   "execution_count": 2,
   "metadata": {},
   "outputs": [
    {
     "name": "stdout",
     "output_type": "stream",
     "text": [
      "You have 50 remaining\n"
     ]
    }
   ],
   "source": [
    "    def player_chips_remaining(self,chips_remain):\n",
    "        print(f'You have {chips_remain} remaining')\n",
    "        return\n",
    "\n",
    "P1=Roulette(1000,50)\n",
    "player_chips_remaining(1000,P1.player_chips_bet)\n",
    "player_chips_remain=P1.player_chips_remain"
   ]
  },
  {
   "cell_type": "code",
   "execution_count": 3,
   "metadata": {},
   "outputs": [
    {
     "name": "stdout",
     "output_type": "stream",
     "text": [
      "You choose to bet 80 chips_bet\n"
     ]
    }
   ],
   "source": [
    "    def player_bet_amount(self,chips_bet):\n",
    "        if chips_bet>player_chips_remain:\n",
    "            print(f'You have to choose a number under {player_chips_remain}')\n",
    "            try_chips_bet=input(f'Please select a number under {player_chips_remain}')\n",
    "        else:\n",
    "            print(f'You choose to bet {chips_bet} chips_bet')\n",
    "        return\n",
    "\n",
    "P2=Roulette(1000,80)\n",
    "player_bet_amount(1,P2.player_chips_bet)\n",
    "player_chips_bet=P2.player_chips_bet"
   ]
  },
  {
   "cell_type": "code",
   "execution_count": 4,
   "metadata": {},
   "outputs": [
    {
     "name": "stdout",
     "output_type": "stream",
     "text": [
      "\n",
      " You have to choose a number between 1 and 36\n",
      "Please select a number between 1 and 36\n",
      "3\n"
     ]
    }
   ],
   "source": [
    "    def player_number_choice(self,number_player):\n",
    "        if number_player <0 or number_player>36:\n",
    "            print('\\n You have to choose a number between 1 and 36')\n",
    "            number_player=input('Please select a number between 1 and 36\\n')\n",
    "        else:\n",
    "            print(f'You choose the number {number_player}')\n",
    "        return\n",
    "\n",
    "P3=Roulette(1000,46)\n",
    "player_number_choice(1,P3.player_chips_bet)\n",
    "number_player=P3.player_chips_bet"
   ]
  },
  {
   "cell_type": "code",
   "execution_count": 8,
   "metadata": {},
   "outputs": [],
   "source": [
    "    def player_number_choice(self,number_player):\n",
    "        import random\n",
    "        number_roulette = random.randint(1,36)\n",
    "        print(number_roulette)\n",
    "        diff=number_player-number_roulette"
   ]
  },
  {
   "cell_type": "code",
   "execution_count": 9,
   "metadata": {},
   "outputs": [
    {
     "name": "stdout",
     "output_type": "stream",
     "text": [
      "Player bets on number :  10\n",
      "The number of player’s chips  100\n"
     ]
    },
    {
     "ename": "NameError",
     "evalue": "name 'number_roulette' is not defined",
     "output_type": "error",
     "traceback": [
      "\u001b[0;31m---------------------------------------------------------------------------\u001b[0m",
      "\u001b[0;31mNameError\u001b[0m                                 Traceback (most recent call last)",
      "\u001b[0;32m<ipython-input-9-4ac3d15ab4e4>\u001b[0m in \u001b[0;36m<module>\u001b[0;34m\u001b[0m\n\u001b[1;32m     43\u001b[0m \u001b[0mprint\u001b[0m\u001b[0;34m(\u001b[0m\u001b[0;34m\"Player bets on number : \"\u001b[0m\u001b[0;34m,\u001b[0m\u001b[0mgame1\u001b[0m\u001b[0;34m.\u001b[0m\u001b[0mplayer_chips_bet\u001b[0m\u001b[0;34m)\u001b[0m\u001b[0;34m\u001b[0m\u001b[0;34m\u001b[0m\u001b[0m\n\u001b[1;32m     44\u001b[0m \u001b[0mprint\u001b[0m\u001b[0;34m(\u001b[0m\u001b[0;34m\"The number of player’s chips \"\u001b[0m\u001b[0;34m,\u001b[0m\u001b[0mgame1\u001b[0m\u001b[0;34m.\u001b[0m\u001b[0mplayer_chips_remain\u001b[0m\u001b[0;34m)\u001b[0m\u001b[0;34m\u001b[0m\u001b[0;34m\u001b[0m\u001b[0m\n\u001b[0;32m---> 45\u001b[0;31m \u001b[0mgame1\u001b[0m\u001b[0;34m.\u001b[0m\u001b[0mresult\u001b[0m\u001b[0;34m(\u001b[0m\u001b[0mgame1\u001b[0m\u001b[0;34m.\u001b[0m\u001b[0mplayer_chips_bet\u001b[0m\u001b[0;34m)\u001b[0m\u001b[0;34m\u001b[0m\u001b[0;34m\u001b[0m\u001b[0m\n\u001b[0m\u001b[1;32m     46\u001b[0m \u001b[0;34m\u001b[0m\u001b[0m\n\u001b[1;32m     47\u001b[0m \u001b[0;31m#this shows the step 6\u001b[0m\u001b[0;34m\u001b[0m\u001b[0;34m\u001b[0m\u001b[0;34m\u001b[0m\u001b[0m\n",
      "\u001b[0;32m<ipython-input-9-4ac3d15ab4e4>\u001b[0m in \u001b[0;36mresult\u001b[0;34m(self, selection)\u001b[0m\n\u001b[1;32m     17\u001b[0m         \"\"\"\n\u001b[1;32m     18\u001b[0m         \u001b[0mresult_game\u001b[0m\u001b[0;34m=\u001b[0m\u001b[0;34m[\u001b[0m\u001b[0;34m]\u001b[0m\u001b[0;34m\u001b[0m\u001b[0;34m\u001b[0m\u001b[0m\n\u001b[0;32m---> 19\u001b[0;31m         \u001b[0;32mif\u001b[0m \u001b[0mnumber_player\u001b[0m \u001b[0;34m==\u001b[0m \u001b[0mnumber_roulette\u001b[0m\u001b[0;34m:\u001b[0m\u001b[0;34m\u001b[0m\u001b[0;34m\u001b[0m\u001b[0m\n\u001b[0m\u001b[1;32m     20\u001b[0m             \u001b[0mprint\u001b[0m\u001b[0;34m(\u001b[0m\u001b[0;34m\"Player wins! Congrats\"\u001b[0m\u001b[0;34m)\u001b[0m\u001b[0;34m\u001b[0m\u001b[0;34m\u001b[0m\u001b[0m\n\u001b[1;32m     21\u001b[0m             \u001b[0mgame1\u001b[0m\u001b[0;34m.\u001b[0m\u001b[0mnumber_player\u001b[0m\u001b[0;34m.\u001b[0m\u001b[0mappend\u001b[0m\u001b[0;34m(\u001b[0m\u001b[0;34m'1'\u001b[0m\u001b[0;34m)\u001b[0m\u001b[0;34m\u001b[0m\u001b[0;34m\u001b[0m\u001b[0m\n",
      "\u001b[0;31mNameError\u001b[0m: name 'number_roulette' is not defined"
     ]
    }
   ],
   "source": [
    "class Roulette:\n",
    "    def __init__(self, number, bet):\n",
    "        self.player_chips_remain=number\n",
    "        self.player_chips_bet=bet\n",
    "        self.number_player=[]\n",
    "        self.number_roulette=[]\n",
    "        self.result_game=[]\n",
    "        self.result_number_wins=[]\n",
    "        self.result_number_loses=[]\n",
    "    result_game=[]\n",
    "    \n",
    "    def result(self, selection):\n",
    "        \"\"\"\n",
    "        This is step 4\n",
    "        Compare the number chosen by player and the one generated by computer (number_roulette)\n",
    "        Then show a text to notify the player about the result\n",
    "        \"\"\"\n",
    "        result_game=[]\n",
    "        if number_player == number_roulette:\n",
    "            print(\"Player wins! Congrats\")\n",
    "            game1.number_player.append('1')\n",
    "            game1.result_game=1\n",
    "        elif self.player_chips_bet != number_roulette:\n",
    "            print(\"You loose, the casino takes the money\")\n",
    "            game1.number_roulette.append('1')\n",
    "            \n",
    "    def gain(self, selection):\n",
    "        \"\"\"\n",
    "        This is step 5&6\n",
    "        \"\"\"\n",
    "        if game1.result_game==1:\n",
    "            game1.player_chips_remain=game1.player_chips_remain+game1.player_chips_bet*4\n",
    "            print(\"You won \", game1.player_chips_bet*4, \"chips\")\n",
    "            print(\"Player chips after gain : \",game1.player_chips_remain)\n",
    "        elif game1.result_game!=1:\n",
    "            game1.player_chips_remain=game1.player_chips_remain-game1.player_chips_bet\n",
    "            print(\"You loose \", game1.player_chips_bet, \"chips\")\n",
    "            print(\"Number of chips after loosing\",game1.player_chips_remain)\n",
    "\n",
    "game1=Roulette(100,10)\n",
    "\n",
    "#this shows step 4\n",
    "print(\"Player bets on number : \",game1.player_chips_bet)\n",
    "print(\"The number of player’s chips \",game1.player_chips_remain)\n",
    "game1.result(game1.player_chips_bet)\n",
    "\n",
    "#this shows the step 6\n",
    "print(\"the player wins \",len(game1.number_player),\" times\")\n",
    "print(\"the casino wins \",len(game1.number_roulette),\" times\")\n",
    "\n",
    "#this shows step 5\n",
    "print(\"Player chips before gain : \",game1.player_chips_remain)\n",
    "game1.gain(game1.player_chips_bet)"
   ]
  },
  {
   "cell_type": "code",
   "execution_count": 9,
   "metadata": {},
   "outputs": [
    {
     "name": "stdout",
     "output_type": "stream",
     "text": [
      "Do you want to continue? (yes or no)\n",
      "no\n",
      "Start a new game\n"
     ]
    }
   ],
   "source": [
    "    def end_of_the_game(self,end_game):\n",
    "        if game1.player_chips_remain > 0:\n",
    "            end_game=input('Do you want to continue? (yes or no)\\n')\n",
    "            if number_player == \"no\":\n",
    "                print(f\"You won {game1.player_chips_remain} chips\")\n",
    "            else: print(f\"Start a new game\")\n",
    "        elif game1.player_chips_remain == 0:\n",
    "            print(f\"Sorry, you can't continue. You have no more chips\")\n",
    "        return\n",
    "\n",
    "P5=Roulette(1000,10)\n",
    "end_of_the_game(1,P5.player_chips_bet)\n",
    "end_game=P5.player_chips_bet"
   ]
  },
  {
   "cell_type": "code",
   "execution_count": null,
   "metadata": {},
   "outputs": [],
   "source": []
  }
 ],
 "metadata": {
  "kernelspec": {
   "display_name": "Python 3",
   "language": "python",
   "name": "python3"
  },
  "language_info": {
   "codemirror_mode": {
    "name": "ipython",
    "version": 3
   },
   "file_extension": ".py",
   "mimetype": "text/x-python",
   "name": "python",
   "nbconvert_exporter": "python",
   "pygments_lexer": "ipython3",
   "version": "3.8.5"
  }
 },
 "nbformat": 4,
 "nbformat_minor": 4
}
