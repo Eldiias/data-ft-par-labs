{
 "cells": [
  {
   "cell_type": "code",
   "execution_count": null,
   "metadata": {},
   "outputs": [
    {
     "name": "stdout",
     "output_type": "stream",
     "text": [
      "\n",
      "Do you want to play? yes\n",
      "\n",
      "Dealer has '?' and  9\n",
      "You have  [4, 11]  for a total of 15\n",
      "\n",
      "Stay or Hit?hit\n",
      "-You have [4, 11, 3] for a total of: 18.\n",
      "\n",
      "Stay or Hit?stay\n",
      "\n",
      "Dealer has [8, 9] for a total of: 17.\n",
      "-You have [4, 11, 3] for a total of: 18.\n",
      "-you win!\n"
     ]
    }
   ],
   "source": [
    "import random\n",
    "\n",
    "def game():\n",
    "    dealer_cards = []\n",
    "    player_cards = []\n",
    "    hit_stay = [\"hit\", \"stay\"]\n",
    "\n",
    "    while len(dealer_cards) !=2:\n",
    "        dealer_cards.append(random.randint(1,11))\n",
    "        if len(dealer_cards) == 2:\n",
    "            print(\"\\nDealer has '?' and \", dealer_cards[1])\n",
    "           \n",
    "    while len(player_cards) !=2:\n",
    "        player_cards.append(random.randint(1,11))\n",
    "        if len(player_cards) == 2:\n",
    "            print(\"You have \", player_cards, \" for a total of\", sum(player_cards))    \n",
    "        \n",
    "    if sum(dealer_cards) == 21:\n",
    "        print(\"Dealer has BLACK JACK!\")\n",
    "        play_game()\n",
    "    elif sum(dealer_cards) > 21:\n",
    "        print(\"Dealer Bust!\")\n",
    "        play_game()\n",
    "    \n",
    "    while sum(player_cards) < 21:\n",
    "        action_taken = str(input(\"\\nStay or Hit?\"))\n",
    "        action_taken = action_taken.lower()\n",
    "        if action_taken not in hit_stay:\n",
    "            print(\"!!Please choose 'Stay' or 'Hit'\")\n",
    "        elif action_taken == \"hit\":\n",
    "            player_cards.append(random.randint(1,11))\n",
    "            print(f\"-You have {player_cards} for a total of: {sum(player_cards)}.\")\n",
    "        else:\n",
    "            print(f\"\\nDealer has {dealer_cards} for a total of: {sum(dealer_cards)}.\")  \n",
    "            print(f\"-You have {player_cards} for a total of: {sum(player_cards)}.\")\n",
    "            if sum(dealer_cards) > sum(player_cards):\n",
    "                print(\"-dealer wins!\")\n",
    "                play_game()\n",
    "            else:\n",
    "                print(\"-you win!\")\n",
    "                play_game()\n",
    "                break\n",
    "    if sum(player_cards) > 21:\n",
    "        print(\"-Bust!\")\n",
    "        play_game()\n",
    "    elif sum(player_cards) == 21:\n",
    "        print(\"-BLACKJACK!! WINNER!!!\")\n",
    "        play_game()\n",
    "\n",
    "def play_game():\n",
    "    response = [\"yes\", \"no\"]\n",
    "    play = str(input(\"\\nDo you want to play? \"))\n",
    "    play = play.lower()\n",
    "    while play not in response:\n",
    "        play = input(\"Please repond yes or no, dont be awkward.\")\n",
    "    if play == \"yes\":\n",
    "        game()\n",
    "    else:\n",
    "        print(\"\\nTHANKS BYE. Save your money\")\n",
    "   \n",
    "play_game()"
   ]
  },
  {
   "cell_type": "code",
   "execution_count": null,
   "metadata": {},
   "outputs": [],
   "source": [
    "\n",
    "        \n"
   ]
  }
 ],
 "metadata": {
  "kernelspec": {
   "display_name": "Python 3",
   "language": "python",
   "name": "python3"
  }
 },
 "nbformat": 4,
 "nbformat_minor": 4
}
