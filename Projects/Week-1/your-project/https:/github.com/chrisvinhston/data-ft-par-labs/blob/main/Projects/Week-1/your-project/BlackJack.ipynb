
import random

# Define the a function to play the game
def game():

# Declare empty lists to append the dealer and player cards
    dealer_cards = []
    player_cards = []
    
# Declare a list with the player actions ("hit: ask another card" or "stay: stop with 2 cards ")
    hit_stay = ["hit", "stay"]
    
# Define a while loop that iterates until the dealer has 2 cards
    while len(dealer_cards) !=2:
        dealer_cards.append(random.randint(1,11))
        if len(dealer_cards) == 2:
            print("Dealer has '?' and ", dealer_cards[1])
    
# Define a while loop that iterates until the player has 2 cards           
    while len(player_cards) !=2:
        player_cards.append(random.randint(1,11))
        if len(player_cards) == 2:
            print("You have ", player_cards)   
            
# Define a logic condition to finish the game:  if the dealers cards count =21 ("Blackjack") or >21 ("Bust")      
    if sum(dealer_cards) == 21:
        print("Dealer has BLACK JACK!")
        play_game()
    elif sum(dealer_cards) > 21:
        print("Dealer Bust!")
        play_game()
        
# Define a while loop that iterates until the player has 21.
## Add Error Handling: in case the answer is wrong the questions is repeated 
### Define a Logic Condition to: repeat the question, hit or stay 
    while sum(player_cards) < 21:
        action_taken = str(input("\nStay or Hit?"))
        action_taken = action_taken.lower()
        if action_taken not in hit_stay:
            print("!!Please choose 'Stay' or 'Hit'")
        elif action_taken == "hit":
            player_cards.append(random.randint(1,11))
            print("You have ", player_cards)
        else:
            print(f"\nDealer has {dealer_cards} for a total of: {sum(dealer_cards)}.")  
            print(f"You have {player_cards} for a total of: {sum(player_cards)}.")
            if sum(dealer_cards) > sum(player_cards):
                print("dealer wins!")
                play_game()
            else:
                print("you win!")
                play_game()
                break
                
# Define Logic Condition to finish the game if the player cards count>21 (" Bust") or =21 ("Blackjack")       
    if sum(player_cards) > 21:
        print("Bust!")
        play_game()
    elif sum(player_cards) == 21:
        print("BLACKJACK!! WINNER!!!")
        play_game()
        
# Define a function to ask to player if they want to play the game or not 
## Add Error Handling
def play_game():
    response = ["yes", "no"]
    play = str(input("\nDo you want to play? "))
    play = play.lower()
    while play not in response:
        play = input("Please repond yes or no, dont be awkward.")
    if play == "yes":
        game()
    else:
        print("\nTHANK BYE. Save your money")
   
play_game()
