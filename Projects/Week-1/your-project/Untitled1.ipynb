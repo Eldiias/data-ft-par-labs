{
 "cells": [
  {
   "cell_type": "code",
   "execution_count": null,
   "metadata": {},
   "outputs": [],
   "source": [
    "'''\n",
    "The game is a simple example of blackjack where the goal is to beat the dealer\n",
    "\n",
    "\n",
    "project descprition:\n",
    "    -\n",
    "    \n",
    "Rules:\n",
    "    The dealer cannot go past 21 or it is a bust\n",
    "    Player cannot go past 21 or it is a bust\n",
    "    if dealer has more than player w/out passing 21 dealer wins\n",
    "    if player has more that dealer w/out passing 21 player wins\n",
    "    \n",
    "    player can ask for another card if they dont have 21\n",
    "    \n",
    "    \n",
    "workflow:\n",
    "    cloned remote repository in github\n",
    "    researched the game\n",
    "    designed the game structure\n",
    "    made the game code\n",
    "    error handling\n",
    "    tested the game\n",
    "    updated readme. file\n",
    "    prepared for presentation\n",
    "    \n",
    "    \n",
    "organization:\n",
    "    used trello board\n",
    "    looked about how the game is played\n",
    "    decided to make a simple version of it using 2 functions. \n",
    "    \n",
    "    \n",
    "    \n",
    "the goal is to have 21 or a score higher than the dealer without reaching \n",
    "bust\n",
    "    \n",
    "    \n",
    "hit to recieve another card\n",
    "\n",
    "\n",
    "'''"
   ]
  }
 ],
 "metadata": {
  "kernelspec": {
   "display_name": "Python 3",
   "language": "python",
   "name": "python3"
  },
  "language_info": {
   "codemirror_mode": {
    "name": "ipython",
    "version": 3
   },
   "file_extension": ".py",
   "mimetype": "text/x-python",
   "name": "python",
   "nbconvert_exporter": "python",
   "pygments_lexer": "ipython3",
   "version": "3.8.3"
  }
 },
 "nbformat": 4,
 "nbformat_minor": 4
}
