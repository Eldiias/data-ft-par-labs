{
 "cells": [
  {
   "cell_type": "code",
   "execution_count": 1,
   "metadata": {},
   "outputs": [],
   "source": [
    "def grid():\n",
    "    \"\"\"\n",
    "    This function is used to load the suduko grid to be solved.\n",
    "    Grid has 9 lines each between 0 - 9 separated by commas\n",
    "    \n",
    "    input:\n",
    "    half filled grid\n",
    "    \n",
    "    output:\n",
    "    completed grid\n",
    "    \"\"\"\n",
    "    \n",
    "    grid = []\n",
    "    file_imported = open('sudoku.txt', 'r') \n",
    "#     lines = file_imported.readlines()\n",
    "    \n",
    "    \n",
    "    \n",
    "    \n",
    "    return file_imported"
   ]
  },
  {
   "cell_type": "code",
   "execution_count": 3,
   "metadata": {},
   "outputs": [
    {
     "data": {
      "text/plain": [
       "<_io.TextIOWrapper name='sudoku.txt' mode='r' encoding='UTF-8'>"
      ]
     },
     "execution_count": 3,
     "metadata": {},
     "output_type": "execute_result"
    }
   ],
   "source": [
    "grid()"
   ]
  },
  {
   "cell_type": "code",
   "execution_count": null,
   "metadata": {},
   "outputs": [],
   "source": []
  }
 ],
 "metadata": {
  "kernelspec": {
   "display_name": "Python 3",
   "language": "python",
   "name": "python3"
  },
  "language_info": {
   "codemirror_mode": {
    "name": "ipython",
    "version": 3
   },
   "file_extension": ".py",
   "mimetype": "text/x-python",
   "name": "python",
   "nbconvert_exporter": "python",
   "pygments_lexer": "ipython3",
   "version": "3.9.1"
  }
 },
 "nbformat": 4,
 "nbformat_minor": 4
}
